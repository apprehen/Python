{
 "cells": [
  {
   "cell_type": "markdown",
   "metadata": {},
   "source": [
    "# 作业4\n",
    "要求: \n",
    "    1. 尽量自己独立完成，如不懂可以问同学和老师，但是所有的代码都要自己输入，看懂，亲自运行\n",
    "    2. 注意作业的截止时间，要在截止时间前提交\n",
    "    3. 作业提交只需提交对应的ipynb后缀的文件\n",
    "题目："
   ]
  },
  {
   "cell_type": "markdown",
   "metadata": {},
   "source": [
    "#### 一、股票数据操作(列表切片操作练习)"
   ]
  },
  {
   "cell_type": "markdown",
   "metadata": {},
   "source": [
    "##### 1.  1 股票数据初始化"
   ]
  },
  {
   "cell_type": "code",
   "execution_count": 4,
   "metadata": {
    "collapsed": false
   },
   "outputs": [
    {
     "data": {
      "text/plain": [
       "['SH000001',\n",
       " '上证指数',\n",
       " '2015-12-30',\n",
       " 3563.73999,\n",
       " 'SH000002',\n",
       " 'Ａ股指数',\n",
       " '2015-12-30',\n",
       " 3730.40991,\n",
       " 'SH000003',\n",
       " 'Ｂ股指数',\n",
       " '2015-12-30',\n",
       " 418.09,\n",
       " 'SH000004',\n",
       " '工业指数',\n",
       " '2015-12-30',\n",
       " 2834.52002,\n",
       " 'SH000005',\n",
       " '商业指数',\n",
       " '2015-12-30',\n",
       " 5676.14014]"
      ]
     },
     "execution_count": 4,
     "metadata": {},
     "output_type": "execute_result"
    }
   ],
   "source": [
    "stockdata = [\"SH000001\",\"上证指数\",\"2015-12-30\",3563.73999, \\\n",
    "            \"SH000002\",\"Ａ股指数\",\"2015-12-30\",3730.40991, \\\n",
    "            \"SH000003\",\"Ｂ股指数\",\"2015-12-30\",418.09000, \\\n",
    "            \"SH000004\",\"工业指数\",\"2015-12-30\",2834.52002, \\\n",
    "            \"SH000005\",\"商业指数\",\"2015-12-30\",5676.14014]\n",
    "stockdata"
   ]
  },
  {
   "cell_type": "markdown",
   "metadata": {},
   "source": [
    "上面的代码中列表stockdata存放了5只股票的数据(分别是股票代码、股票名称、交易日期、当前价格）   \n",
    "** 在下面的cell中提取所有的股票代码并放到 stockcodes变量中, 股票名称放到stocknames中，交易日期放到dealdates中，当前价格放到stockprices中 **  \n",
    "提示: 使用切片操作"
   ]
  },
  {
   "cell_type": "code",
   "execution_count": 2,
   "metadata": {
    "collapsed": true
   },
   "outputs": [
    {
     "ename": "SyntaxError",
     "evalue": "invalid syntax (2735329681.py, line 1)",
     "output_type": "error",
     "traceback": [
      "\u001b[1;36m  Cell \u001b[1;32mIn [2], line 1\u001b[1;36m\u001b[0m\n\u001b[1;33m    stockcodes =\u001b[0m\n\u001b[1;37m                 ^\u001b[0m\n\u001b[1;31mSyntaxError\u001b[0m\u001b[1;31m:\u001b[0m invalid syntax\n"
     ]
    }
   ],
   "source": [
    "stockcodes = \n",
    "stockcodes"
   ]
  },
  {
   "cell_type": "code",
   "execution_count": null,
   "metadata": {
    "collapsed": true
   },
   "outputs": [],
   "source": [
    "stocknames = \n",
    "stocknames"
   ]
  },
  {
   "cell_type": "code",
   "execution_count": null,
   "metadata": {
    "collapsed": true
   },
   "outputs": [],
   "source": [
    "dealdates = \n",
    "dealdates"
   ]
  },
  {
   "cell_type": "code",
   "execution_count": null,
   "metadata": {
    "collapsed": false
   },
   "outputs": [],
   "source": [
    "stockprices = \n",
    "stockprices"
   ]
  },
  {
   "cell_type": "markdown",
   "metadata": {},
   "source": [
    "##### 1.2 计算涨幅"
   ]
  },
  {
   "cell_type": "code",
   "execution_count": null,
   "metadata": {
    "collapsed": true
   },
   "outputs": [],
   "source": [
    "stockdata_new = [\"SH000001\",\"上证指数\",\"2016-11-08\",3147.88989, \\\n",
    "                \"SH000002\",\"Ａ股指数\",\"2016-11-08\",3295.91992, \\\n",
    "                \"SH000003\",\"Ｂ股指数\",\"2016-11-08\",346.67999, \\\n",
    "                \"SH000004\",\"工业指数\",\"2016-11-08\",2525.75000, \\\n",
    "                \"SH000005\",\"商业指数\",\"2016-11-08\",4476.50000]"
   ]
  },
  {
   "cell_type": "markdown",
   "metadata": {},
   "source": [
    "上面的代码中列表stockdata_new存放了5只股票的最新数据  \n",
    "**利用stockdata_new中的股票价格数据，在下面的cell中计算这几只股票的区间涨幅,并放入变量stock_rises**"
   ]
  },
  {
   "cell_type": "code",
   "execution_count": null,
   "metadata": {
    "collapsed": true
   },
   "outputs": [],
   "source": []
  },
  {
   "cell_type": "code",
   "execution_count": null,
   "metadata": {
    "collapsed": true
   },
   "outputs": [],
   "source": []
  },
  {
   "cell_type": "markdown",
   "metadata": {},
   "source": [
    "##### 1.3 按涨幅排序\n",
    "** 综合所学的知识，利用zip函数、lambda语法等、sort函数、enumerate等，对所有股票按涨幅降序排序，输出股票涨幅的名次、股票代码、股票名称、涨幅**  \n",
    "提示： 可以分步实现:   \n",
    "第一步，生成pmlist\n",
    "```python\n",
    "[('SH000001', '上证指数', -11.668923691596257),\n",
    " ('SH000002', 'Ａ股指数', -11.64724522190646),\n",
    " ('SH000003', 'Ｂ股指数', -17.080056925542348),\n",
    " ('SH000004', '工业指数', -10.893203005142293),\n",
    " ('SH000005', '商业指数', -21.13478720417922)]\n",
    "```\n",
    "第二步，对pmlist按涨幅降序排序，利用sort函数，需要指定key，使用lambda语法   \n",
    "第三步，输出，利用enumerate枚举pmlist，输出名次、股票代码、股票名称、涨幅，在输出是可以利用Ex1中的字符串格式化\n",
    "最终输出如下排序结果：\n",
    "```text\n",
    "0:\tSH000004\t工业指数\t-10.89%\n",
    "1:\tSH000002\tＡ股指数\t-11.65%\n",
    "2:\tSH000001\t上证指数\t-11.67%\n",
    "3:\tSH000003\tＢ股指数\t-17.08%\n",
    "4:\tSH000005\t商业指数\t-21.13%\n",
    "```"
   ]
  },
  {
   "cell_type": "code",
   "execution_count": null,
   "metadata": {
    "collapsed": true
   },
   "outputs": [],
   "source": []
  },
  {
   "cell_type": "code",
   "execution_count": null,
   "metadata": {
    "collapsed": true
   },
   "outputs": [],
   "source": []
  },
  {
   "cell_type": "code",
   "execution_count": null,
   "metadata": {
    "collapsed": true
   },
   "outputs": [],
   "source": []
  },
  {
   "cell_type": "markdown",
   "metadata": {},
   "source": [
    "#### 二、通过list表示矩阵(列表推导式练习)"
   ]
  },
  {
   "cell_type": "markdown",
   "metadata": {},
   "source": [
    "##### 1.  1维向量表示"
   ]
  },
  {
   "cell_type": "code",
   "execution_count": null,
   "metadata": {
    "collapsed": true
   },
   "outputs": [],
   "source": [
    "x = [1,2,3]\n",
    "y = [4,5,6]"
   ]
  },
  {
   "cell_type": "markdown",
   "metadata": {},
   "source": [
    "x 和 y分别表示向量 \n",
    "** 在下面的cell中计算向量的点积 **  \n",
    "提示: 这里可以for来遍历，也可以利用sum函数和列表推导式  \n",
    "关于向量的点积如果不清楚，可以百度百科查询  "
   ]
  },
  {
   "cell_type": "code",
   "execution_count": null,
   "metadata": {
    "collapsed": true
   },
   "outputs": [],
   "source": []
  },
  {
   "cell_type": "markdown",
   "metadata": {},
   "source": [
    "**定义一个函数dot(x, y)，该函数实现两个向量的点乘，在下面的cell中完成dot函数的定义**"
   ]
  },
  {
   "cell_type": "code",
   "execution_count": null,
   "metadata": {
    "collapsed": true
   },
   "outputs": [],
   "source": [
    "def dot(x, y):\n",
    "\n"
   ]
  },
  {
   "cell_type": "code",
   "execution_count": null,
   "metadata": {
    "collapsed": false
   },
   "outputs": [],
   "source": [
    "dot(x,y)"
   ]
  },
  {
   "cell_type": "markdown",
   "metadata": {},
   "source": [
    "##### 2.  2维矩阵表示方式"
   ]
  },
  {
   "cell_type": "code",
   "execution_count": null,
   "metadata": {
    "collapsed": true
   },
   "outputs": [],
   "source": [
    "x = [[1,0,0],[0,2,0],[0,0,1]]\n",
    "y = [[1,2,3],[4,5,6],[7,8,9]]"
   ]
  },
  {
   "cell_type": "markdown",
   "metadata": {},
   "source": [
    "x 和 y分别表示二维矩阵   \n",
    "**在下面的cell中计算矩阵y的转置矩阵，并赋值给变量yt**  \n",
    "提示：课堂课件中的Ex2中有例子"
   ]
  },
  {
   "cell_type": "code",
   "execution_count": null,
   "metadata": {
    "collapsed": false
   },
   "outputs": [],
   "source": []
  },
  {
   "cell_type": "markdown",
   "metadata": {},
   "source": [
    "x 和 y分别表示二维矩阵   \n",
    "**在下面的cell中分别打印出矩阵x和y的所有行**"
   ]
  },
  {
   "cell_type": "markdown",
   "metadata": {},
   "source": [
    "** 在下面的cell中分别计算矩阵x和y的乘积 **  \n",
    "提示: 可以利用上一步的yt变量和第一问的点积函数dot  \n",
    "利用编程中分步的思想，依次思考（1）乘积是什么？（2）乘积第一个元素？（3）乘积第一行？(4)乘积整体  \n",
    "关于矩阵的乘法，可以查看百度百科"
   ]
  },
  {
   "cell_type": "code",
   "execution_count": null,
   "metadata": {
    "collapsed": false
   },
   "outputs": [],
   "source": []
  }
 ],
 "metadata": {
  "anaconda-cloud": {},
  "kernelspec": {
   "display_name": "Python 3.10.7 64-bit",
   "language": "python",
   "name": "python3"
  },
  "language_info": {
   "codemirror_mode": {
    "name": "ipython",
    "version": 3
   },
   "file_extension": ".py",
   "mimetype": "text/x-python",
   "name": "python",
   "nbconvert_exporter": "python",
   "pygments_lexer": "ipython3",
   "version": "3.10.7"
  },
  "vscode": {
   "interpreter": {
    "hash": "27dc5d894906ef4078c10f81f96b088b1214dd79db8c1790ec2f25d74ab4ea1b"
   }
  }
 },
 "nbformat": 4,
 "nbformat_minor": 0
}

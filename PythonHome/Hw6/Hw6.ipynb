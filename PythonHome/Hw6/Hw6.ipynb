{
 "cells": [
  {
   "cell_type": "markdown",
   "metadata": {},
   "source": [
    "# 作业6\n",
    "要求: \n",
    "    1. 尽量自己独立完成，如不懂可以问同学和老师，但是所有的代码都要自己输入，看懂，亲自运行\n",
    "    2. 注意作业的截止时间，要在截止时间前提交\n",
    "    3. 作业提交只需提交对应的ipynb后缀的文件\n",
    "题目："
   ]
  },
  {
   "cell_type": "markdown",
   "metadata": {},
   "source": [
    "#### 1.身份证号的编码规则如下：\n",
    "AABBCCYYYYMMDDNNNC    \n",
    "AABBCC——所属区域编码    \n",
    "YYYY——出生年份    \n",
    "MMDD——出生月日   \n",
    "NNN——编号   \n",
    "C——校验位   \n",
    "　　居民身份证的号码是按照国家的标准编制的，由18位组成：前六位为行政区划代码，第七至第十四位为出生日期码，第15至17位为顺序码，第18位为校验码。作为尾号的校验码，是由号码编制单位按统一的公式计算出来的，如果某人的尾号是0-9，都不会出现X，但如果尾号是10，那么就得用X来代替，因为如果用10做尾号，那么此人的身份证就变成了19位，而19位的号码违反了国家标准，并且我国的计算机应用系统也不承认19位的身份证号码。Ⅹ是罗马数字的10，用X来代替10，可以保证公民的身份证符合国家标准。"
   ]
  },
  {
   "cell_type": "code",
   "execution_count": 3,
   "metadata": {
    "collapsed": true
   },
   "outputs": [],
   "source": [
    "#这是一个身份证号\n",
    "ID_number = '130201199208070423'"
   ]
  },
  {
   "cell_type": "markdown",
   "metadata": {},
   "source": [
    "#### (1) 提取出该身份证号中的出生日期"
   ]
  },
  {
   "cell_type": "code",
   "execution_count": 2,
   "metadata": {
    "collapsed": true
   },
   "outputs": [],
   "source": []
  },
  {
   "cell_type": "markdown",
   "metadata": {},
   "source": [
    "#### (2) 查看文件id_prov.txt，里面存有身份证号前两位对应的省份，参考Hw5星座的处理方法，获取该身份证号对应的省份信息"
   ]
  },
  {
   "cell_type": "code",
   "execution_count": null,
   "metadata": {
    "collapsed": true
   },
   "outputs": [],
   "source": []
  },
  {
   "cell_type": "markdown",
   "metadata": {},
   "source": [
    "#### (3) 整合前两步的代码，要求用户输入一个身份证号，根据用户的输入(做个简单的位数判断)，输出该身份证号对应的出生日期、出生省份"
   ]
  },
  {
   "cell_type": "code",
   "execution_count": null,
   "metadata": {
    "collapsed": true
   },
   "outputs": [],
   "source": []
  },
  {
   "cell_type": "markdown",
   "metadata": {},
   "source": [
    "#### 2.字符串格式化，利用下面的变量输出下面内容：\n",
    "~~~ python\n",
    "姓名:张三  学号:14016101  数学:92.85  英语:95.19 排名:02\n",
    "~~~"
   ]
  },
  {
   "cell_type": "code",
   "execution_count": 8,
   "metadata": {
    "collapsed": true
   },
   "outputs": [],
   "source": [
    "name = '张三'\n",
    "idnum = '14016101'\n",
    "math = 92.8453\n",
    "english = 95.1898\n",
    "rank = 2"
   ]
  },
  {
   "cell_type": "markdown",
   "metadata": {},
   "source": [
    "#### (1) 利用字符串的格式化运算符 % 生成并输出上面内容"
   ]
  },
  {
   "cell_type": "code",
   "execution_count": null,
   "metadata": {
    "collapsed": true
   },
   "outputs": [],
   "source": []
  },
  {
   "cell_type": "markdown",
   "metadata": {},
   "source": [
    "#### (2) 利用字符串的format方法生成并输出上面内容"
   ]
  },
  {
   "cell_type": "code",
   "execution_count": null,
   "metadata": {},
   "outputs": [],
   "source": []
  },
  {
   "cell_type": "markdown",
   "metadata": {},
   "source": [
    "#### 3.查找和替换"
   ]
  },
  {
   "cell_type": "markdown",
   "metadata": {},
   "source": [
    "#### (1) 请利用字符串的查找功能，提取出sometext中所有的人名并输出。"
   ]
  },
  {
   "cell_type": "code",
   "execution_count": 14,
   "metadata": {
    "collapsed": true
   },
   "outputs": [],
   "source": [
    "sometext = \"He is ZhangSan, she is LiSi, and he is WangWu, that's all.\""
   ]
  },
  {
   "cell_type": "code",
   "execution_count": null,
   "metadata": {
    "collapsed": true
   },
   "outputs": [],
   "source": []
  },
  {
   "cell_type": "markdown",
   "metadata": {},
   "source": [
    "#### (2) 替换template中的’{fruit}'分别为fruits中的水果，输出如下内容：\n",
    "~~~ python\n",
    "我喜欢吃苹果\n",
    "我喜欢吃西瓜\n",
    "我喜欢吃草莓\n",
    "~~~"
   ]
  },
  {
   "cell_type": "code",
   "execution_count": 11,
   "metadata": {
    "collapsed": true
   },
   "outputs": [],
   "source": [
    "fruits = ['苹果', '西瓜', '草莓']\n",
    "template = \"我喜欢吃{fruit}\""
   ]
  },
  {
   "cell_type": "code",
   "execution_count": 13,
   "metadata": {
    "scrolled": false
   },
   "outputs": [
    {
     "name": "stdout",
     "output_type": "stream",
     "text": [
      "我喜欢吃苹果\n",
      "我喜欢吃西瓜\n",
      "我喜欢吃草莓\n"
     ]
    }
   ],
   "source": [
    "for fruit in fruits:\n",
    "    print(template.replace('{fruit}', fruit))"
   ]
  },
  {
   "cell_type": "markdown",
   "metadata": {},
   "source": [
    "#### 4.  分别用excel和文本编辑其查看stock.csv，网上百度csv文件格式。将stockdata中的数据输出到stocknew.csv文件中，格式和stock.csv一致。\n",
    "提示：(1) 先要将价格数据转成字符串  (2) 参考Hw3的方式打开文件进行写操作 （3）利用jion函数，输出如stock.csv格式的报表   \n",
    "其中需要用到切片,map和str的format转换函数"
   ]
  },
  {
   "cell_type": "code",
   "execution_count": 31,
   "metadata": {
    "collapsed": true
   },
   "outputs": [
    {
     "data": {
      "text/plain": [
       "['SH000001',\n",
       " '上证指数',\n",
       " '2015-12-30',\n",
       " 3563.73999,\n",
       " 'SH000002',\n",
       " 'Ａ股指数',\n",
       " '2015-12-30',\n",
       " 3730.40991,\n",
       " 'SH000003',\n",
       " 'Ｂ股指数',\n",
       " '2015-12-30',\n",
       " 418.09,\n",
       " 'SH000004',\n",
       " '工业指数',\n",
       " '2015-12-30',\n",
       " 2834.52002,\n",
       " 'SH000005',\n",
       " '商业指数',\n",
       " '2015-12-30',\n",
       " 5676.14014]"
      ]
     },
     "execution_count": 31,
     "metadata": {},
     "output_type": "execute_result"
    }
   ],
   "source": [
    "stockdata = [\"SH000001\",\"上证指数\",\"2015-12-30\",3563.73999, \\\n",
    "            \"SH000002\",\"Ａ股指数\",\"2015-12-30\",3730.40991, \\\n",
    "            \"SH000003\",\"Ｂ股指数\",\"2015-12-30\",418.09000, \\\n",
    "            \"SH000004\",\"工业指数\",\"2015-12-30\",2834.52002, \\\n",
    "            \"SH000005\",\"商业指数\",\"2015-12-30\",5676.14014]\n",
    "stockdata"
   ]
  },
  {
   "cell_type": "markdown",
   "metadata": {},
   "source": [
    "#### 5. 正则表达式提取电子邮件地址（请自行搜索电子邮件地址格式的结构)"
   ]
  },
  {
   "cell_type": "code",
   "execution_count": 36,
   "metadata": {
    "collapsed": true
   },
   "outputs": [],
   "source": [
    "mailbox = 'Return-Path: <postmaster@collab.sakaiproject.org>'"
   ]
  },
  {
   "cell_type": "markdown",
   "metadata": {},
   "source": [
    "#### (1) 提取出mailbox中的电子邮件地址"
   ]
  },
  {
   "cell_type": "code",
   "execution_count": 40,
   "metadata": {},
   "outputs": [
    {
     "data": {
      "text/plain": [
       "['postmaster@collab.sakaiproject.org']"
      ]
     },
     "execution_count": 40,
     "metadata": {},
     "output_type": "execute_result"
    }
   ],
   "source": [
    "import re\n",
    "re.findall('[a-zA-Z0-9]+@[a-zA-Z0-9/.]+',mailbox)"
   ]
  },
  {
   "cell_type": "markdown",
   "metadata": {},
   "source": [
    "#### (2) 提取电子邮件地址中的账号和域名部分(str的partition函数)"
   ]
  },
  {
   "cell_type": "code",
   "execution_count": null,
   "metadata": {
    "collapsed": true
   },
   "outputs": [],
   "source": []
  },
  {
   "cell_type": "markdown",
   "metadata": {},
   "source": [
    "#### (3) mbox.txt是网络嗅探器截取的电子邮件协议的内容，请提取出其中所有的电子邮箱地址，并输出电子邮箱地址，账号和域名信息\n",
    "~~~ python\n",
    "postmaster@collab.sakaiproject.org|postmaster|collab.sakaiproject.org\n",
    "source@collab.sakaiproject.org|source|collab.sakaiproject.org\n",
    "... ...\n",
    "~~~"
   ]
  },
  {
   "cell_type": "code",
   "execution_count": null,
   "metadata": {
    "collapsed": true
   },
   "outputs": [],
   "source": []
  }
 ],
 "metadata": {
  "anaconda-cloud": {},
  "kernelspec": {
   "display_name": "Python 3",
   "language": "python",
   "name": "python3"
  },
  "language_info": {
   "codemirror_mode": {
    "name": "ipython",
    "version": 3
   },
   "file_extension": ".py",
   "mimetype": "text/x-python",
   "name": "python",
   "nbconvert_exporter": "python",
   "pygments_lexer": "ipython3",
   "version": "3.7.4"
  }
 },
 "nbformat": 4,
 "nbformat_minor": 1
}

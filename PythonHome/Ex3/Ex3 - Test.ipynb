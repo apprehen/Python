{
 "cells": [
  {
   "cell_type": "markdown",
   "metadata": {
    "nbpresent": {
     "id": "a98a0fb1-7016-406a-8f5b-3ad1a55d9ffc"
    }
   },
   "source": [
    "## 第3章 选择与循环"
   ]
  },
  {
   "cell_type": "markdown",
   "metadata": {
    "nbpresent": {
     "id": "1750d9d5-a85d-4ce7-9297-ada6c6204382"
    }
   },
   "source": [
    "### 3.1 条件表达式"
   ]
  },
  {
   "cell_type": "markdown",
   "metadata": {
    "nbpresent": {
     "id": "225ee4e0-e618-47c1-98ff-951731873dea"
    }
   },
   "source": [
    "回顾： \n",
    "* 算术运算符：+、-、*、/、//、%、**  "
   ]
  },
  {
   "cell_type": "code",
   "execution_count": 3,
   "metadata": {
    "collapsed": false,
    "nbpresent": {
     "id": "2bcbdd48-928e-4008-ae86-feb660acfd60"
    }
   },
   "outputs": [
    {
     "data": {
      "text/plain": [
       "1"
      ]
     },
     "execution_count": 3,
     "metadata": {},
     "output_type": "execute_result"
    }
   ],
   "source": [
    "b = 16 % 3\n",
    "b"
   ]
  },
  {
   "cell_type": "code",
   "execution_count": 5,
   "metadata": {
    "collapsed": true,
    "nbpresent": {
     "id": "3610e3e3-5904-46c2-8122-d55148a800b7"
    }
   },
   "outputs": [],
   "source": [
    "a = 1 + 2"
   ]
  },
  {
   "cell_type": "markdown",
   "metadata": {
    "nbpresent": {
     "id": "0fffac94-30c2-4c4f-a0bf-e7d5f30fdf96"
    }
   },
   "source": [
    "* 关系运算符：>、<、==、<=、>=、!=，可以连续使用  "
   ]
  },
  {
   "cell_type": "code",
   "execution_count": 1,
   "metadata": {
    "collapsed": false,
    "nbpresent": {
     "id": "bee8a66d-70bb-4761-9072-ff27a2d4b2ce"
    }
   },
   "outputs": [
    {
     "data": {
      "text/plain": [
       "True"
      ]
     },
     "execution_count": 1,
     "metadata": {},
     "output_type": "execute_result"
    }
   ],
   "source": [
    "1<2<3"
   ]
  },
  {
   "cell_type": "code",
   "execution_count": 4,
   "metadata": {
    "collapsed": false,
    "nbpresent": {
     "id": "e8734334-e8db-4527-8a11-07622c76b863"
    }
   },
   "outputs": [
    {
     "data": {
      "text/plain": [
       "False"
      ]
     },
     "execution_count": 4,
     "metadata": {},
     "output_type": "execute_result"
    }
   ],
   "source": [
    "1<2>3"
   ]
  },
  {
   "cell_type": "code",
   "execution_count": 3,
   "metadata": {
    "collapsed": false,
    "nbpresent": {
     "id": "91824fa7-d2b5-4996-8b0c-2eafdc2d987d"
    }
   },
   "outputs": [
    {
     "data": {
      "text/plain": [
       "True"
      ]
     },
     "execution_count": 3,
     "metadata": {},
     "output_type": "execute_result"
    }
   ],
   "source": [
    "1<3>2"
   ]
  },
  {
   "cell_type": "markdown",
   "metadata": {
    "nbpresent": {
     "id": "336b76e6-4e23-4d09-92fc-953e89d882bd"
    }
   },
   "source": [
    "* 测试运算符：in、not in、is、is not"
   ]
  },
  {
   "cell_type": "code",
   "execution_count": 6,
   "metadata": {
    "collapsed": true,
    "nbpresent": {
     "id": "b98dfe4f-0260-48d1-89d0-a10b0265cdb2"
    }
   },
   "outputs": [],
   "source": [
    "aList = [1,2,3]"
   ]
  },
  {
   "cell_type": "code",
   "execution_count": 8,
   "metadata": {
    "collapsed": false,
    "nbpresent": {
     "id": "1d0e1dcb-3bc9-4130-957f-ace6e89dc79d"
    }
   },
   "outputs": [
    {
     "data": {
      "text/plain": [
       "True"
      ]
     },
     "execution_count": 8,
     "metadata": {},
     "output_type": "execute_result"
    }
   ],
   "source": [
    "1 in aList"
   ]
  },
  {
   "cell_type": "code",
   "execution_count": 12,
   "metadata": {
    "collapsed": false,
    "nbpresent": {
     "id": "92b8687c-dfb2-403d-9059-3b7e8a8bee5d"
    }
   },
   "outputs": [
    {
     "data": {
      "text/plain": [
       "True"
      ]
     },
     "execution_count": 12,
     "metadata": {},
     "output_type": "execute_result"
    }
   ],
   "source": [
    "aList is not None"
   ]
  },
  {
   "cell_type": "markdown",
   "metadata": {
    "nbpresent": {
     "id": "6e802d86-82f9-486a-8d97-3c3ba3b8acef"
    }
   },
   "source": [
    "* 逻辑运算符：and、or、not，注意短路求值"
   ]
  },
  {
   "cell_type": "code",
   "execution_count": 14,
   "metadata": {
    "collapsed": false,
    "nbpresent": {
     "id": "4dd09384-aa88-4bd8-b061-b1b2189a65b0"
    }
   },
   "outputs": [],
   "source": [
    "a = 5\n",
    "b = 10"
   ]
  },
  {
   "cell_type": "code",
   "execution_count": 15,
   "metadata": {
    "collapsed": false,
    "nbpresent": {
     "id": "49f6a256-2a47-4006-9644-b2af3b2ec5f0"
    }
   },
   "outputs": [
    {
     "data": {
      "text/plain": [
       "True"
      ]
     },
     "execution_count": 15,
     "metadata": {},
     "output_type": "execute_result"
    }
   ],
   "source": [
    "(a < 8) or (b < 8)"
   ]
  },
  {
   "cell_type": "code",
   "execution_count": 16,
   "metadata": {
    "collapsed": false,
    "nbpresent": {
     "id": "0ac731f9-a87b-45f0-8ec0-bab224d0629a"
    }
   },
   "outputs": [
    {
     "data": {
      "text/plain": [
       "False"
      ]
     },
     "execution_count": 16,
     "metadata": {},
     "output_type": "execute_result"
    }
   ],
   "source": [
    "(a < 8) and (b < 8)"
   ]
  },
  {
   "cell_type": "code",
   "execution_count": 17,
   "metadata": {
    "collapsed": false,
    "nbpresent": {
     "id": "7dde263b-7995-482a-a6ca-1a52405b617b"
    }
   },
   "outputs": [
    {
     "data": {
      "text/plain": [
       "True"
      ]
     },
     "execution_count": 17,
     "metadata": {},
     "output_type": "execute_result"
    }
   ],
   "source": [
    "not ((a < 8) and (b < 8))"
   ]
  },
  {
   "cell_type": "code",
   "execution_count": 18,
   "metadata": {
    "collapsed": true,
    "nbpresent": {
     "id": "ff19b8a0-33df-4e14-a5ad-7c4c92250986"
    }
   },
   "outputs": [],
   "source": [
    "def test():\n",
    "    print('test')\n",
    "    return True"
   ]
  },
  {
   "cell_type": "code",
   "execution_count": 20,
   "metadata": {
    "collapsed": false,
    "nbpresent": {
     "id": "559b4dd5-e7a5-4087-8791-32800bcc7f0d"
    }
   },
   "outputs": [
    {
     "data": {
      "text/plain": [
       "True"
      ]
     },
     "execution_count": 20,
     "metadata": {},
     "output_type": "execute_result"
    }
   ],
   "source": [
    "(a < 8) or test()"
   ]
  },
  {
   "cell_type": "markdown",
   "metadata": {
    "nbpresent": {
     "id": "3ecaa020-936a-421b-80ef-d5ab23418f5b"
    }
   },
   "source": [
    "* 位运算符：~、&、|、 ^、 <<、>>"
   ]
  },
  {
   "cell_type": "code",
   "execution_count": 24,
   "metadata": {
    "collapsed": false,
    "nbpresent": {
     "id": "b7cf8154-fe98-40ef-a1c9-60fa23a5adc6"
    }
   },
   "outputs": [
    {
     "data": {
      "text/plain": [
       "3"
      ]
     },
     "execution_count": 24,
     "metadata": {},
     "output_type": "execute_result"
    }
   ],
   "source": [
    "1 ^ 2"
   ]
  },
  {
   "cell_type": "code",
   "execution_count": 25,
   "metadata": {
    "collapsed": false,
    "nbpresent": {
     "id": "b4660e8c-8fc6-457e-8293-f09b71075a81"
    }
   },
   "outputs": [
    {
     "data": {
      "text/plain": [
       "256"
      ]
     },
     "execution_count": 25,
     "metadata": {},
     "output_type": "execute_result"
    }
   ],
   "source": [
    "1 << 8"
   ]
  },
  {
   "cell_type": "markdown",
   "metadata": {
    "nbpresent": {
     "id": "e925c2f4-2e48-4f6a-8d61-38070bb21e60"
    }
   },
   "source": [
    "### 3.1 条件表达式\n",
    "　　在选择和循环结构中，条件表达式的值只要不是False、0（或0.0、0j等）、空值None、空列表、空元组、空集合、空字典、空字符串、空range对象或其他空迭代对象，Python解释器均认为与True等价。从这个意义上来讲，几乎所有的Python合法表达式都可以作为条件表达式，包括含有函数调用的表达式。"
   ]
  },
  {
   "cell_type": "code",
   "execution_count": 26,
   "metadata": {
    "collapsed": false,
    "nbpresent": {
     "id": "1773424a-014d-405a-8442-a0e827cac2eb"
    }
   },
   "outputs": [
    {
     "name": "stdout",
     "output_type": "stream",
     "text": [
      "5\n"
     ]
    }
   ],
   "source": [
    "if 3: #使用整数作为条件表达式\n",
    "    print(5)"
   ]
  },
  {
   "cell_type": "code",
   "execution_count": 27,
   "metadata": {
    "collapsed": false,
    "nbpresent": {
     "id": "2a67ca20-9bce-46d7-a00e-4bbf2d53bd98"
    }
   },
   "outputs": [
    {
     "name": "stdout",
     "output_type": "stream",
     "text": [
      "[1, 2, 3]\n"
     ]
    }
   ],
   "source": [
    "a = [1, 2, 3]\n",
    "if a: #使用列表作为条件表达式\n",
    "    print(a)"
   ]
  },
  {
   "cell_type": "code",
   "execution_count": 28,
   "metadata": {
    "collapsed": false,
    "nbpresent": {
     "id": "f1083956-1f07-4173-8611-d8c56fe2f7df"
    }
   },
   "outputs": [
    {
     "name": "stdout",
     "output_type": "stream",
     "text": [
      "empty\n"
     ]
    }
   ],
   "source": [
    "a = []\n",
    "if a:\n",
    "    print(a)\n",
    "else:\n",
    "    print('empty')"
   ]
  },
  {
   "cell_type": "code",
   "execution_count": 29,
   "metadata": {
    "collapsed": false,
    "nbpresent": {
     "id": "332c02be-90de-4598-b4a5-a26670f0dc4b"
    }
   },
   "outputs": [
    {
     "name": "stdout",
     "output_type": "stream",
     "text": [
      "55\n"
     ]
    }
   ],
   "source": [
    "i = s = 0\n",
    "while i <= 10: #使用关系表达式作为条件表达式\n",
    "    s += i\n",
    "    i += 1\n",
    "print(s)"
   ]
  },
  {
   "cell_type": "code",
   "execution_count": 30,
   "metadata": {
    "collapsed": false,
    "nbpresent": {
     "id": "df8d6de4-570c-4a6a-8d81-114b884ce17c"
    }
   },
   "outputs": [
    {
     "name": "stdout",
     "output_type": "stream",
     "text": [
      "55\n"
     ]
    }
   ],
   "source": [
    "i = s = 0\n",
    "while True: #使用常量True作为条件表达式\n",
    "    s += i\n",
    "    i += 1\n",
    "    if i > 10:\n",
    "        break\n",
    "print(s)"
   ]
  },
  {
   "cell_type": "code",
   "execution_count": 31,
   "metadata": {
    "collapsed": false,
    "nbpresent": {
     "id": "356112fe-da96-4f39-96de-3cf0f048da10"
    }
   },
   "outputs": [
    {
     "name": "stdout",
     "output_type": "stream",
     "text": [
      "55\n"
     ]
    }
   ],
   "source": [
    "s = 0\n",
    "for i in range(0, 11, 1):\n",
    "    s += i\n",
    "print(s)"
   ]
  },
  {
   "cell_type": "markdown",
   "metadata": {
    "nbpresent": {
     "id": "58111089-a25b-4b42-99f9-42359c1d8398"
    }
   },
   "source": [
    "### 3.1 条件表达式\n",
    "* 比较特殊的运算符还有逻辑运算符“and”和“or”，这两个运算符具有短路求值或惰性求值的特点，简单地说，就是只计算必须计算的表达式的值。\n",
    "* 在设计条件表达式时，在表示复杂条件时如果能够巧妙利用逻辑运算符“and”和“or”的短路求值或惰性求值特性，可以大幅度提高程序的运行效率，减少不必要的计算与判断。\n",
    "* 以“and”为例，对于表达式“表达式1 and 表达式2”而言，如果“表达式1”的值为“False”或其他等价值时，不论“表达式2”的值是什么，整个表达式的值都是“False”，此时“表达式2”的值无论是什么都不影响整个表达式的值，因此将不会被计算，从而减少不必要的计算和判断。\n",
    "* 在设计条件表达式时，如果能够大概预测不同条件失败的概率，并将多个条件根据“and”和“or”运算的短路求值特性进行组织，可以大幅度提高程序运行效率。例如，下面的函数用来使用用户指定的分隔符将多个字符串连接成一个字符串，如果用户没有指定分隔符则使用逗号。"
   ]
  },
  {
   "cell_type": "code",
   "execution_count": 32,
   "metadata": {
    "collapsed": true,
    "nbpresent": {
     "id": "0352b9e3-1640-4cb3-bbbd-fa61025195ad"
    }
   },
   "outputs": [],
   "source": [
    "def Join(chList, sep=None):\n",
    "    return (sep or ',').join(chList)"
   ]
  },
  {
   "cell_type": "code",
   "execution_count": 35,
   "metadata": {
    "collapsed": false,
    "nbpresent": {
     "id": "ffaa946d-256a-43bb-a9a2-afe4fc4fd77f"
    }
   },
   "outputs": [],
   "source": [
    "chTest = ['1', '2', '3', '4', '5']"
   ]
  },
  {
   "cell_type": "code",
   "execution_count": 36,
   "metadata": {
    "collapsed": false,
    "nbpresent": {
     "id": "cba4d0f7-0e68-4574-ad3c-b2c400dab427"
    }
   },
   "outputs": [
    {
     "data": {
      "text/plain": [
       "'1,2,3,4,5'"
      ]
     },
     "execution_count": 36,
     "metadata": {},
     "output_type": "execute_result"
    }
   ],
   "source": [
    "Join(chTest)"
   ]
  },
  {
   "cell_type": "code",
   "execution_count": 34,
   "metadata": {
    "collapsed": false,
    "nbpresent": {
     "id": "3fbdd7b0-3d63-49e8-ac03-c5de5db23a44"
    }
   },
   "outputs": [
    {
     "data": {
      "text/plain": [
       "'1:2:3:4:5'"
      ]
     },
     "execution_count": 34,
     "metadata": {},
     "output_type": "execute_result"
    }
   ],
   "source": [
    "Join(chTest, ':')"
   ]
  },
  {
   "cell_type": "code",
   "execution_count": 37,
   "metadata": {
    "collapsed": false,
    "nbpresent": {
     "id": "9953a05e-a288-4ef2-b5aa-79d298b0bbba"
    }
   },
   "outputs": [
    {
     "data": {
      "text/plain": [
       "'1 2 3 4 5'"
      ]
     },
     "execution_count": 37,
     "metadata": {},
     "output_type": "execute_result"
    }
   ],
   "source": [
    "Join(chTest, ' ')"
   ]
  },
  {
   "cell_type": "markdown",
   "metadata": {
    "nbpresent": {
     "id": "9588e1b9-946a-44a6-8ef7-96cc256979a1"
    }
   },
   "source": [
    "* 另外，在Python中，条件表达式中不允许使用赋值运算符“=”，避免了其他语言中误将关系运算符“==”写作赋值运算符“=”带来的麻烦，例如下面的代码，在条件表达式中使用赋值运算符“=”将抛出异常，提示语法错误。"
   ]
  },
  {
   "cell_type": "code",
   "execution_count": 38,
   "metadata": {
    "collapsed": false,
    "nbpresent": {
     "id": "8d5067c0-2991-44cb-8d10-7deac3d22463"
    }
   },
   "outputs": [
    {
     "ename": "SyntaxError",
     "evalue": "invalid syntax (<ipython-input-38-3908a7b7cf50>, line 2)",
     "output_type": "error",
     "traceback": [
      "\u001b[1;36m  File \u001b[1;32m\"<ipython-input-38-3908a7b7cf50>\"\u001b[1;36m, line \u001b[1;32m2\u001b[0m\n\u001b[1;33m    if a=3:\u001b[0m\n\u001b[1;37m        ^\u001b[0m\n\u001b[1;31mSyntaxError\u001b[0m\u001b[1;31m:\u001b[0m invalid syntax\n"
     ]
    }
   ],
   "source": [
    "a = 3\n",
    "b = 4\n",
    "if a=3:\n",
    "    print('test')"
   ]
  },
  {
   "cell_type": "code",
   "execution_count": 42,
   "metadata": {
    "collapsed": false,
    "nbpresent": {
     "id": "cac709d4-06bf-4f4b-a091-8dac271db2d7"
    }
   },
   "outputs": [
    {
     "ename": "SyntaxError",
     "evalue": "invalid syntax (<ipython-input-42-2e4f255cf1af>, line 1)",
     "output_type": "error",
     "traceback": [
      "\u001b[1;36m  File \u001b[1;32m\"<ipython-input-42-2e4f255cf1af>\"\u001b[1;36m, line \u001b[1;32m1\u001b[0m\n\u001b[1;33m    if (a=3) or (b=4):\u001b[0m\n\u001b[1;37m         ^\u001b[0m\n\u001b[1;31mSyntaxError\u001b[0m\u001b[1;31m:\u001b[0m invalid syntax\n"
     ]
    }
   ],
   "source": [
    "if (a=3) or (b=4):\t\n",
    "    print('test')"
   ]
  },
  {
   "cell_type": "markdown",
   "metadata": {
    "nbpresent": {
     "id": "a020933f-81d0-44b6-8619-80fb5b9f4812"
    }
   },
   "source": [
    "### 3.2.1 单分支选择结构\n",
    "```python\n",
    "if 表达式:  \n",
    "    语句块\n",
    "```"
   ]
  },
  {
   "cell_type": "code",
   "execution_count": 57,
   "metadata": {
    "collapsed": false,
    "nbpresent": {
     "id": "7d80017a-0fc5-44b4-bb78-a89d3fadac47"
    }
   },
   "outputs": [
    {
     "name": "stdout",
     "output_type": "stream",
     "text": [
      "Input two number:30,10\n"
     ]
    }
   ],
   "source": [
    "nums_in = input('Input two number:')\n",
    "a,b = map(int, nums_in.split(','))"
   ]
  },
  {
   "cell_type": "code",
   "execution_count": 58,
   "metadata": {
    "collapsed": false,
    "nbpresent": {
     "id": "6cb3a3f1-76c8-424d-9263-4c751d2276fb"
    }
   },
   "outputs": [
    {
     "name": "stdout",
     "output_type": "stream",
     "text": [
      "10 30\n"
     ]
    }
   ],
   "source": [
    "if a>b:\n",
    "   a,b = b,a\n",
    "print(a,b)"
   ]
  },
  {
   "cell_type": "markdown",
   "metadata": {
    "nbpresent": {
     "id": "f1b14fdd-0036-4fc6-bfac-4969c3b614f0"
    }
   },
   "source": [
    "### 3.2.2 双分支结构\n",
    "```python\n",
    "if 表达式:\n",
    "    语句块1\n",
    "else:\n",
    "    语句块2\n",
    "```"
   ]
  },
  {
   "cell_type": "code",
   "execution_count": 59,
   "metadata": {
    "collapsed": false,
    "nbpresent": {
     "id": "0d9d52d0-d633-45e5-8b3f-b2590f758531"
    }
   },
   "outputs": [
    {
     "name": "stdout",
     "output_type": "stream",
     "text": [
      "['1', '2', '3', '4', '5']\n"
     ]
    }
   ],
   "source": [
    "chTest = ['1', '2', '3', '4', '5']\n",
    "if chTest:\n",
    "    print(chTest)\n",
    "else:\n",
    "    print('Empty')"
   ]
  },
  {
   "cell_type": "markdown",
   "metadata": {
    "nbpresent": {
     "id": "d5e27001-49a7-4780-a1fd-cb2beb690294"
    }
   },
   "source": [
    "### 3.2.2 双分支结构\n",
    "Python还支持如下形式的表达式：\n",
    "```python\n",
    "value1 if condition else value2\n",
    "```\n",
    "当条件表达式condition的值与True等价时，表达式的值为value1，否则表达式的值为value2。另外，在value1和value2中还可以使用复杂表达式，包括函数调用和基本输出语句。下面的代码演示了上面的表达式的用法，从代码中可以看出，这个结构的表达式也具有惰性求值的特点。"
   ]
  },
  {
   "cell_type": "code",
   "execution_count": 60,
   "metadata": {
    "collapsed": false,
    "nbpresent": {
     "id": "3275d445-3b0a-4142-8127-0ea48d961847"
    }
   },
   "outputs": [
    {
     "name": "stdout",
     "output_type": "stream",
     "text": [
      "6\n"
     ]
    }
   ],
   "source": [
    "a = 5\n",
    "print(6) if a>3 else print(5)"
   ]
  },
  {
   "cell_type": "code",
   "execution_count": 61,
   "metadata": {
    "collapsed": false,
    "nbpresent": {
     "id": "219638ea-a80c-4cc0-8017-cbb1a35162ec"
    }
   },
   "outputs": [
    {
     "name": "stdout",
     "output_type": "stream",
     "text": [
      "6\n"
     ]
    }
   ],
   "source": [
    "print(6 if a>3 else 5)"
   ]
  },
  {
   "cell_type": "code",
   "execution_count": 62,
   "metadata": {
    "collapsed": false,
    "nbpresent": {
     "id": "ca2d0291-bc93-4f35-9cac-6bd9388fc9b6"
    }
   },
   "outputs": [
    {
     "data": {
      "text/plain": [
       "9"
      ]
     },
     "execution_count": 62,
     "metadata": {},
     "output_type": "execute_result"
    }
   ],
   "source": [
    "b = 6 if a>13 else 9\n",
    "b"
   ]
  },
  {
   "cell_type": "code",
   "execution_count": 63,
   "metadata": {
    "collapsed": false,
    "nbpresent": {
     "id": "1a19340b-fba9-436e-8040-a97e27046117"
    }
   },
   "outputs": [
    {
     "ename": "NameError",
     "evalue": "name 'math' is not defined",
     "output_type": "error",
     "traceback": [
      "\u001b[1;31m---------------------------------------------------------------------------\u001b[0m",
      "\u001b[1;31mNameError\u001b[0m                                 Traceback (most recent call last)",
      "\u001b[1;32m<ipython-input-63-8d0119b87896>\u001b[0m in \u001b[0;36m<module>\u001b[1;34m()\u001b[0m\n\u001b[1;32m----> 1\u001b[1;33m \u001b[0mx\u001b[0m \u001b[1;33m=\u001b[0m \u001b[0mmath\u001b[0m\u001b[1;33m.\u001b[0m\u001b[0msqrt\u001b[0m\u001b[1;33m(\u001b[0m\u001b[1;36m9\u001b[0m\u001b[1;33m)\u001b[0m \u001b[1;32mif\u001b[0m \u001b[1;36m5\u001b[0m\u001b[1;33m>\u001b[0m\u001b[1;36m3\u001b[0m \u001b[1;32melse\u001b[0m \u001b[0mrandom\u001b[0m\u001b[1;33m.\u001b[0m\u001b[0mrandint\u001b[0m\u001b[1;33m(\u001b[0m\u001b[1;36m1\u001b[0m\u001b[1;33m,\u001b[0m \u001b[1;36m100\u001b[0m\u001b[1;33m)\u001b[0m \u001b[1;31m#此时还没有导入math模块\u001b[0m\u001b[1;33m\u001b[0m\u001b[0m\n\u001b[0m",
      "\u001b[1;31mNameError\u001b[0m: name 'math' is not defined"
     ]
    }
   ],
   "source": [
    "x = math.sqrt(9) if 5>3 else random.randint(1, 100) #此时还没有导入math模块"
   ]
  },
  {
   "cell_type": "code",
   "execution_count": 64,
   "metadata": {
    "collapsed": true,
    "nbpresent": {
     "id": "689297e6-1c5f-43f8-92be-0ec623001954"
    }
   },
   "outputs": [],
   "source": [
    "import math"
   ]
  },
  {
   "cell_type": "code",
   "execution_count": 66,
   "metadata": {
    "collapsed": false,
    "nbpresent": {
     "id": "37cec85f-a075-4659-9d85-a624655e4fc5"
    }
   },
   "outputs": [
    {
     "data": {
      "text/plain": [
       "3.0"
      ]
     },
     "execution_count": 66,
     "metadata": {},
     "output_type": "execute_result"
    }
   ],
   "source": [
    "#此时还没有导入random模块，但由于条件表达式5>3的值为True，所以可以正常运行\n",
    "x = math.sqrt(9) if 5>3 else random.randint(1,100)\n",
    "x"
   ]
  },
  {
   "cell_type": "code",
   "execution_count": 67,
   "metadata": {
    "collapsed": false,
    "nbpresent": {
     "id": "ab8d8552-da0f-4674-929c-fc68e372979e"
    }
   },
   "outputs": [
    {
     "ename": "NameError",
     "evalue": "name 'random' is not defined",
     "output_type": "error",
     "traceback": [
      "\u001b[1;31m---------------------------------------------------------------------------\u001b[0m",
      "\u001b[1;31mNameError\u001b[0m                                 Traceback (most recent call last)",
      "\u001b[1;32m<ipython-input-67-9c04139b9716>\u001b[0m in \u001b[0;36m<module>\u001b[1;34m()\u001b[0m\n\u001b[0;32m      1\u001b[0m \u001b[1;31m#此时还没有导入random模块，由于条件表达式2>3的值为False，需要计算第二个表达式的值，因此出错\u001b[0m\u001b[1;33m\u001b[0m\u001b[1;33m\u001b[0m\u001b[0m\n\u001b[1;32m----> 2\u001b[1;33m \u001b[0mx\u001b[0m \u001b[1;33m=\u001b[0m \u001b[0mmath\u001b[0m\u001b[1;33m.\u001b[0m\u001b[0msqrt\u001b[0m\u001b[1;33m(\u001b[0m\u001b[1;36m9\u001b[0m\u001b[1;33m)\u001b[0m \u001b[1;32mif\u001b[0m \u001b[1;36m2\u001b[0m\u001b[1;33m>\u001b[0m\u001b[1;36m3\u001b[0m \u001b[1;32melse\u001b[0m \u001b[0mrandom\u001b[0m\u001b[1;33m.\u001b[0m\u001b[0mrandint\u001b[0m\u001b[1;33m(\u001b[0m\u001b[1;36m1\u001b[0m\u001b[1;33m,\u001b[0m \u001b[1;36m100\u001b[0m\u001b[1;33m)\u001b[0m\u001b[1;33m\u001b[0m\u001b[0m\n\u001b[0m",
      "\u001b[1;31mNameError\u001b[0m: name 'random' is not defined"
     ]
    }
   ],
   "source": [
    "#此时还没有导入random模块，由于条件表达式2>3的值为False，需要计算第二个表达式的值，因此出错\n",
    "x = math.sqrt(9) if 2>3 else random.randint(1, 100)"
   ]
  },
  {
   "cell_type": "code",
   "execution_count": 68,
   "metadata": {
    "collapsed": false,
    "nbpresent": {
     "id": "8acc3356-5bf1-4650-abb8-a217c1094c0e"
    }
   },
   "outputs": [
    {
     "data": {
      "text/plain": [
       "43"
      ]
     },
     "execution_count": 68,
     "metadata": {},
     "output_type": "execute_result"
    }
   ],
   "source": [
    "import random\n",
    "x = math.sqrt(9) if 2>3 else random.randint(1, 100)\n",
    "x"
   ]
  },
  {
   "cell_type": "markdown",
   "metadata": {
    "nbpresent": {
     "id": "3acd5f9e-c7d0-4f00-bd69-afc85f6758c9"
    }
   },
   "source": [
    "### 3.2.3 多分支结构\n",
    "```python\n",
    "if 表达式1:\n",
    "    语句块1\n",
    "elif 表达式2:\n",
    "    语句块2\n",
    "elif 表达式3:\n",
    "    语句块3\n",
    "else:\n",
    "    语句块4\n",
    "```\n",
    "其中，关键字elif是else if的缩写。"
   ]
  },
  {
   "cell_type": "code",
   "execution_count": 69,
   "metadata": {
    "collapsed": true,
    "nbpresent": {
     "id": "11628372-fc2a-4ed5-bbb1-bed8d09bb567"
    }
   },
   "outputs": [],
   "source": [
    "#下面的代码演示了利用多分支选择结构将成绩从百分制变换到等级制的用法。\n",
    "def func(score):\n",
    "    if score > 100:\n",
    "        return 'wrong score.must <= 100.'\n",
    "    elif score >= 90:\n",
    "        return 'A'\n",
    "    elif score >= 80:\n",
    "        return 'B'\n",
    "    elif score >= 70:\n",
    "        return 'C'\n",
    "    elif score >= 60:\n",
    "        return 'D'\n",
    "    elif score >= 0:\n",
    "        return 'E'\n",
    "    else:\n",
    "        return 'wrong score.must >=0'"
   ]
  },
  {
   "cell_type": "code",
   "execution_count": 73,
   "metadata": {
    "collapsed": false,
    "nbpresent": {
     "id": "abc70508-3ab0-4bb4-a5ff-24a6368cde2e"
    },
    "scrolled": true
   },
   "outputs": [
    {
     "data": {
      "text/plain": [
       "'C'"
      ]
     },
     "execution_count": 73,
     "metadata": {},
     "output_type": "execute_result"
    }
   ],
   "source": [
    "func(78)"
   ]
  },
  {
   "cell_type": "markdown",
   "metadata": {
    "nbpresent": {
     "id": "0bc59bf4-f973-4607-907d-30145546ca21"
    }
   },
   "source": [
    "### 3.2.4 选择结构的嵌套\n",
    "```python\n",
    "if 表达式1:\n",
    "    语句块1\n",
    "    if 表达式2:\n",
    "        语句块2\n",
    "    else:\n",
    "        语句块3\n",
    "else:\n",
    "    if 表达式4:\n",
    "        语句块4\n",
    "```\n",
    "注意：缩进必须要正确并且一致。"
   ]
  },
  {
   "cell_type": "code",
   "execution_count": 74,
   "metadata": {
    "collapsed": true,
    "nbpresent": {
     "id": "29756946-d8c6-4dd8-aac1-cf59f1483b5f"
    }
   },
   "outputs": [],
   "source": [
    "def func(score):\n",
    "    degree = 'DCBAAE'\n",
    "    if score > 100 or score < 0:\n",
    "        return 'wrong score.must between 0 and 100.'\n",
    "    else:\n",
    "        index = (score - 60)//10\n",
    "        if index >= 0:\n",
    "            return degree[index]\n",
    "        else:\n",
    "            return degree[-1]"
   ]
  },
  {
   "cell_type": "code",
   "execution_count": null,
   "metadata": {
    "collapsed": true,
    "nbpresent": {
     "id": "8f414e46-10a3-4207-8eab-4e5ec44cc146"
    }
   },
   "outputs": [],
   "source": []
  }
 ],
 "metadata": {
  "kernelspec": {
   "display_name": "Python [Root]",
   "language": "python",
   "name": "Python [Root]"
  },
  "language_info": {
   "codemirror_mode": {
    "name": "ipython",
    "version": 3
   },
   "file_extension": ".py",
   "mimetype": "text/x-python",
   "name": "python",
   "nbconvert_exporter": "python",
   "pygments_lexer": "ipython3",
   "version": "3.5.2"
  },
  "nbpresent": {
   "slides": {
    "022368a9-b2e5-4731-a87e-ea044528b88a": {
     "id": "022368a9-b2e5-4731-a87e-ea044528b88a",
     "prev": "3f5b5108-1249-4569-a37a-16df390ba6d6",
     "regions": {
      "95fb3e51-d917-4853-83c6-d1d36a7f372a": {
       "attrs": {
        "height": 0.8,
        "width": 0.8,
        "x": 0.1,
        "y": 0.1
       },
       "content": {
        "cell": "37cec85f-a075-4659-9d85-a624655e4fc5",
        "part": "whole"
       },
       "id": "95fb3e51-d917-4853-83c6-d1d36a7f372a"
      }
     }
    },
    "03c42173-b0d6-4ee9-821d-797dcdd8e264": {
     "id": "03c42173-b0d6-4ee9-821d-797dcdd8e264",
     "prev": "37ef3fbc-6193-4b3c-9b7a-66d42745e791",
     "regions": {
      "3eb0b223-f5e7-48c1-8b84-0878172f54fc": {
       "attrs": {
        "height": 0.8,
        "width": 0.8,
        "x": 0.1,
        "y": 0.1
       },
       "content": {
        "cell": "a020933f-81d0-44b6-8619-80fb5b9f4812",
        "part": "whole"
       },
       "id": "3eb0b223-f5e7-48c1-8b84-0878172f54fc"
      }
     }
    },
    "044725c9-a419-4dda-b7ee-4dd47bcb75c5": {
     "id": "044725c9-a419-4dda-b7ee-4dd47bcb75c5",
     "prev": "4a238e74-39e8-4b99-9c6e-e34d517573a0",
     "regions": {
      "9b86bbaa-a562-40b8-a228-1ed49982eb32": {
       "attrs": {
        "height": 0.8,
        "width": 0.8,
        "x": 0.1,
        "y": 0.1
       },
       "content": {
        "cell": "336b76e6-4e23-4d09-92fc-953e89d882bd",
        "part": "whole"
       },
       "id": "9b86bbaa-a562-40b8-a228-1ed49982eb32"
      }
     }
    },
    "10337abe-ef61-45c1-aaf7-209c7f2e5fe0": {
     "id": "10337abe-ef61-45c1-aaf7-209c7f2e5fe0",
     "prev": "8f1ec990-d303-45f4-8136-8f9fae9cdaf8",
     "regions": {
      "c0d5839c-dfd9-451e-b5e5-5e5229718d0b": {
       "attrs": {
        "height": 0.8,
        "width": 0.8,
        "x": 0.1,
        "y": 0.1
       },
       "content": {
        "cell": "b7cf8154-fe98-40ef-a1c9-60fa23a5adc6",
        "part": "whole"
       },
       "id": "c0d5839c-dfd9-451e-b5e5-5e5229718d0b"
      }
     }
    },
    "155f832c-efc9-4424-bc61-9865854e5801": {
     "id": "155f832c-efc9-4424-bc61-9865854e5801",
     "prev": "b93b01e2-80cf-426c-a482-3634c100bb97",
     "regions": {
      "b45d0c41-7757-434f-a33f-35070b1cbae7": {
       "attrs": {
        "height": 0.8,
        "width": 0.8,
        "x": 0.1,
        "y": 0.1
       },
       "content": {
        "cell": "332c02be-90de-4598-b4a5-a26670f0dc4b",
        "part": "whole"
       },
       "id": "b45d0c41-7757-434f-a33f-35070b1cbae7"
      }
     }
    },
    "166f3f65-464f-44a8-9f59-8b187ab5da00": {
     "id": "166f3f65-464f-44a8-9f59-8b187ab5da00",
     "prev": "7a6bed70-f9c1-4507-9c27-249642ce158d",
     "regions": {
      "8b5d78e7-367c-4e9a-8441-cb2e5111d535": {
       "attrs": {
        "height": 0.8,
        "width": 0.8,
        "x": 0.1,
        "y": 0.1
       },
       "content": {
        "cell": "3275d445-3b0a-4142-8127-0ea48d961847",
        "part": "whole"
       },
       "id": "8b5d78e7-367c-4e9a-8441-cb2e5111d535"
      }
     }
    },
    "20f26d53-6a5c-43d4-83cb-ce91356edc45": {
     "id": "20f26d53-6a5c-43d4-83cb-ce91356edc45",
     "prev": "e7cc7c0c-a15a-4421-8d70-336a576d4745",
     "regions": {
      "4e6210ba-f45f-4c20-bdb9-29adf0e815cd": {
       "attrs": {
        "height": 0.8,
        "width": 0.8,
        "x": 0.1,
        "y": 0.1
       },
       "content": {
        "cell": "ff19b8a0-33df-4e14-a5ad-7c4c92250986",
        "part": "whole"
       },
       "id": "4e6210ba-f45f-4c20-bdb9-29adf0e815cd"
      }
     }
    },
    "213f6c65-4994-4dae-988a-5805c4756356": {
     "id": "213f6c65-4994-4dae-988a-5805c4756356",
     "prev": "a421e4f4-f855-4a67-a547-60c2d43164c7",
     "regions": {
      "2b015009-9b68-4452-b66c-bda95824e73c": {
       "attrs": {
        "height": 0.8,
        "width": 0.8,
        "x": 0.1,
        "y": 0.1
       },
       "content": {
        "cell": "1d0e1dcb-3bc9-4130-957f-ace6e89dc79d",
        "part": "whole"
       },
       "id": "2b015009-9b68-4452-b66c-bda95824e73c"
      }
     }
    },
    "2fb90575-9ea9-457c-915b-04f345c4bbf3": {
     "id": "2fb90575-9ea9-457c-915b-04f345c4bbf3",
     "prev": "20f26d53-6a5c-43d4-83cb-ce91356edc45",
     "regions": {
      "a80185a8-1e76-4f50-8bdf-97e57e821cd3": {
       "attrs": {
        "height": 0.8,
        "width": 0.8,
        "x": 0.1,
        "y": 0.1
       },
       "content": {
        "cell": "559b4dd5-e7a5-4087-8791-32800bcc7f0d",
        "part": "whole"
       },
       "id": "a80185a8-1e76-4f50-8bdf-97e57e821cd3"
      }
     }
    },
    "34183136-d9b8-406d-8331-fb140cf78a06": {
     "id": "34183136-d9b8-406d-8331-fb140cf78a06",
     "prev": "e4fb2472-6f5f-48e1-be23-7f7b3db594a3",
     "regions": {
      "5ae27907-94dd-4f4d-ad8e-ed0187510981": {
       "attrs": {
        "height": 0.8,
        "width": 0.8,
        "x": 0.1,
        "y": 0.1
       },
       "content": {
        "cell": "2bcbdd48-928e-4008-ae86-feb660acfd60",
        "part": "whole"
       },
       "id": "5ae27907-94dd-4f4d-ad8e-ed0187510981"
      }
     }
    },
    "37ef3fbc-6193-4b3c-9b7a-66d42745e791": {
     "id": "37ef3fbc-6193-4b3c-9b7a-66d42745e791",
     "prev": "d7144a76-207e-4ef7-8f79-b97df966b0b2",
     "regions": {
      "ec132748-eddc-42d2-8d01-09f3a0405677": {
       "attrs": {
        "height": 0.8,
        "width": 0.8,
        "x": 0.1,
        "y": 0.1
       },
       "content": {
        "cell": "cac709d4-06bf-4f4b-a091-8dac271db2d7",
        "part": "whole"
       },
       "id": "ec132748-eddc-42d2-8d01-09f3a0405677"
      }
     }
    },
    "3d1982bf-7b98-43d0-81a2-a17ea2d253bb": {
     "id": "3d1982bf-7b98-43d0-81a2-a17ea2d253bb",
     "prev": "ead9825d-ec70-49b1-8614-7f41adb1c57e",
     "regions": {
      "7d1ca41e-b114-4d93-9a63-8ffd9b016994": {
       "attrs": {
        "height": 0.8,
        "width": 0.8,
        "x": 0.1,
        "y": 0.1
       },
       "content": {
        "cell": "3fbdd7b0-3d63-49e8-ac03-c5de5db23a44",
        "part": "whole"
       },
       "id": "7d1ca41e-b114-4d93-9a63-8ffd9b016994"
      }
     }
    },
    "3f5b5108-1249-4569-a37a-16df390ba6d6": {
     "id": "3f5b5108-1249-4569-a37a-16df390ba6d6",
     "prev": "70e370a1-5229-406b-8d8d-f254ee35eeee",
     "regions": {
      "81d98e31-4eea-4e29-a2cf-a22254729aad": {
       "attrs": {
        "height": 0.8,
        "width": 0.8,
        "x": 0.1,
        "y": 0.1
       },
       "content": {
        "cell": "689297e6-1c5f-43f8-92be-0ec623001954",
        "part": "whole"
       },
       "id": "81d98e31-4eea-4e29-a2cf-a22254729aad"
      }
     }
    },
    "409cf4e2-bf3f-4173-94cd-19680149de61": {
     "id": "409cf4e2-bf3f-4173-94cd-19680149de61",
     "prev": "3d1982bf-7b98-43d0-81a2-a17ea2d253bb",
     "regions": {
      "87e11b32-9e41-48e2-a468-1c02bf31840a": {
       "attrs": {
        "height": 0.8,
        "width": 0.8,
        "x": 0.1,
        "y": 0.1
       },
       "content": {
        "cell": "9953a05e-a288-4ef2-b5aa-79d298b0bbba",
        "part": "whole"
       },
       "id": "87e11b32-9e41-48e2-a468-1c02bf31840a"
      }
     }
    },
    "442771eb-6221-4c80-b481-23c3ac6830a1": {
     "id": "442771eb-6221-4c80-b481-23c3ac6830a1",
     "prev": "d6305454-f18b-4129-b2c1-7a456fb5c7ac",
     "regions": {
      "2c460d18-e928-40dc-8cdd-534bc6c6392a": {
       "attrs": {
        "height": 0.8,
        "width": 0.8,
        "x": 0.1,
        "y": 0.1
       },
       "content": {
        "cell": "0ac731f9-a87b-45f0-8ec0-bab224d0629a",
        "part": "whole"
       },
       "id": "2c460d18-e928-40dc-8cdd-534bc6c6392a"
      }
     }
    },
    "4a238e74-39e8-4b99-9c6e-e34d517573a0": {
     "id": "4a238e74-39e8-4b99-9c6e-e34d517573a0",
     "prev": "7efb7155-d736-4d6c-adc4-7b37dc8de91d",
     "regions": {
      "08c96432-d11a-4711-9f62-ca22271bc2d5": {
       "attrs": {
        "height": 0.8,
        "width": 0.8,
        "x": 0.1,
        "y": 0.1
       },
       "content": {
        "cell": "91824fa7-d2b5-4996-8b0c-2eafdc2d987d",
        "part": "whole"
       },
       "id": "08c96432-d11a-4711-9f62-ca22271bc2d5"
      }
     }
    },
    "4ea3795e-9558-4420-ab37-2cb11a543641": {
     "id": "4ea3795e-9558-4420-ab37-2cb11a543641",
     "prev": "34183136-d9b8-406d-8331-fb140cf78a06",
     "regions": {
      "658b44a8-2594-41db-955f-37118f344e07": {
       "attrs": {
        "height": 0.8,
        "width": 0.8,
        "x": 0.1,
        "y": 0.1
       },
       "content": {
        "cell": "3610e3e3-5904-46c2-8122-d55148a800b7",
        "part": "whole"
       },
       "id": "658b44a8-2594-41db-955f-37118f344e07"
      }
     }
    },
    "51d879a0-fbfa-4285-ae96-c92ded444c0e": {
     "id": "51d879a0-fbfa-4285-ae96-c92ded444c0e",
     "prev": "213f6c65-4994-4dae-988a-5805c4756356",
     "regions": {
      "e9f35390-441a-4add-9fee-e661a25af09b": {
       "attrs": {
        "height": 0.8,
        "width": 0.8,
        "x": 0.1,
        "y": 0.1
       },
       "content": {
        "cell": "92b8687c-dfb2-403d-9059-3b7e8a8bee5d",
        "part": "whole"
       },
       "id": "e9f35390-441a-4add-9fee-e661a25af09b"
      }
     }
    },
    "5f969c25-0b8f-403a-a450-5dbb08e5f525": {
     "id": "5f969c25-0b8f-403a-a450-5dbb08e5f525",
     "prev": "84c3ac46-f183-448e-963b-acafde58dc4c",
     "regions": {
      "51da02ad-611f-4ae4-9ecf-d4dd8edc94de": {
       "attrs": {
        "height": 0.8,
        "width": 0.8,
        "x": 0.1,
        "y": 0.1
       },
       "content": {
        "cell": "8acc3356-5bf1-4650-abb8-a217c1094c0e",
        "part": "whole"
       },
       "id": "51da02ad-611f-4ae4-9ecf-d4dd8edc94de"
      }
     }
    },
    "60d951c8-3205-41ce-a58e-af2c7d9e746d": {
     "id": "60d951c8-3205-41ce-a58e-af2c7d9e746d",
     "prev": "d8e2d828-909f-4511-b523-45022ea27264",
     "regions": {
      "493caff0-30a0-47eb-8f43-f1e2ab192d25": {
       "attrs": {
        "height": 0.8,
        "width": 0.8,
        "x": 0.1,
        "y": 0.1
       },
       "content": {
        "cell": "4dd09384-aa88-4bd8-b061-b1b2189a65b0",
        "part": "whole"
       },
       "id": "493caff0-30a0-47eb-8f43-f1e2ab192d25"
      }
     }
    },
    "64c8a408-ca30-4f6f-acb1-e91fc464d58f": {
     "id": "64c8a408-ca30-4f6f-acb1-e91fc464d58f",
     "prev": "e881aef3-9c7c-4c98-b3be-851494f8b18d",
     "regions": {
      "c6ea592a-c2ef-476f-872e-fa0f172f9b5f": {
       "attrs": {
        "height": 0.8,
        "width": 0.8,
        "x": 0.1,
        "y": 0.1
       },
       "content": {
        "cell": "11628372-fc2a-4ed5-bbb1-bed8d09bb567",
        "part": "whole"
       },
       "id": "c6ea592a-c2ef-476f-872e-fa0f172f9b5f"
      }
     }
    },
    "67578057-3cf8-4c63-859d-35f495910e82": {
     "id": "67578057-3cf8-4c63-859d-35f495910e82",
     "prev": "e0157883-96bf-4fa0-b04e-d1fa829c80f0",
     "regions": {
      "0bd258f5-96ee-4a1c-8749-cb2d49ee13da": {
       "attrs": {
        "height": 0.8,
        "width": 0.8,
        "x": 0.1,
        "y": 0.1
       },
       "content": {
        "cell": "356112fe-da96-4f39-96de-3cf0f048da10",
        "part": "whole"
       },
       "id": "0bd258f5-96ee-4a1c-8749-cb2d49ee13da"
      }
     }
    },
    "6a2d62e0-3768-49e9-a92c-d4eaf85f08e0": {
     "id": "6a2d62e0-3768-49e9-a92c-d4eaf85f08e0",
     "prev": "03c42173-b0d6-4ee9-821d-797dcdd8e264",
     "regions": {
      "09fb9372-d190-4c96-b647-08b3f8e21815": {
       "attrs": {
        "height": 0.8,
        "width": 0.8,
        "x": 0.1,
        "y": 0.1
       },
       "content": {
        "cell": "7d80017a-0fc5-44b4-bb78-a89d3fadac47",
        "part": "whole"
       },
       "id": "09fb9372-d190-4c96-b647-08b3f8e21815"
      }
     }
    },
    "70e370a1-5229-406b-8d8d-f254ee35eeee": {
     "id": "70e370a1-5229-406b-8d8d-f254ee35eeee",
     "prev": "f7b8beeb-c4fb-4eaa-b31b-d9e1ff95d191",
     "regions": {
      "f641188a-7b09-4972-b173-52666a12a428": {
       "attrs": {
        "height": 0.8,
        "width": 0.8,
        "x": 0.1,
        "y": 0.1
       },
       "content": {
        "cell": "1a19340b-fba9-436e-8040-a97e27046117",
        "part": "whole"
       },
       "id": "f641188a-7b09-4972-b173-52666a12a428"
      }
     }
    },
    "7a6bed70-f9c1-4507-9c27-249642ce158d": {
     "id": "7a6bed70-f9c1-4507-9c27-249642ce158d",
     "prev": "fdd4ffe3-9e88-49c6-8c92-801b13bff3ce",
     "regions": {
      "4f297796-c73c-461b-9a41-baa5ad46208e": {
       "attrs": {
        "height": 0.8,
        "width": 0.8,
        "x": 0.1,
        "y": 0.1
       },
       "content": {
        "cell": "d5e27001-49a7-4780-a1fd-cb2beb690294",
        "part": "whole"
       },
       "id": "4f297796-c73c-461b-9a41-baa5ad46208e"
      }
     }
    },
    "7efb7155-d736-4d6c-adc4-7b37dc8de91d": {
     "id": "7efb7155-d736-4d6c-adc4-7b37dc8de91d",
     "prev": "c3275847-a04b-415b-8c33-f50bb40e2bd7",
     "regions": {
      "3bc4308b-2917-4ecb-94f1-f70dab7c235d": {
       "attrs": {
        "height": 0.8,
        "width": 0.8,
        "x": 0.1,
        "y": 0.1
       },
       "content": {
        "cell": "e8734334-e8db-4527-8a11-07622c76b863",
        "part": "whole"
       },
       "id": "3bc4308b-2917-4ecb-94f1-f70dab7c235d"
      }
     }
    },
    "84c3ac46-f183-448e-963b-acafde58dc4c": {
     "id": "84c3ac46-f183-448e-963b-acafde58dc4c",
     "prev": "022368a9-b2e5-4731-a87e-ea044528b88a",
     "regions": {
      "74b2f509-b765-4b79-af86-65fb32f481b8": {
       "attrs": {
        "height": 0.8,
        "width": 0.8,
        "x": 0.1,
        "y": 0.1
       },
       "content": {
        "cell": "ab8d8552-da0f-4674-929c-fc68e372979e",
        "part": "whole"
       },
       "id": "74b2f509-b765-4b79-af86-65fb32f481b8"
      }
     }
    },
    "8f1ec990-d303-45f4-8136-8f9fae9cdaf8": {
     "id": "8f1ec990-d303-45f4-8136-8f9fae9cdaf8",
     "prev": "2fb90575-9ea9-457c-915b-04f345c4bbf3",
     "regions": {
      "4c837725-7a3e-4282-96de-8a4bcef60d27": {
       "attrs": {
        "height": 0.8,
        "width": 0.8,
        "x": 0.1,
        "y": 0.1
       },
       "content": {
        "cell": "3ecaa020-936a-421b-80ef-d5ab23418f5b",
        "part": "whole"
       },
       "id": "4c837725-7a3e-4282-96de-8a4bcef60d27"
      }
     }
    },
    "a233e8ed-fd98-4ba0-bc80-aeac64a1dc38": {
     "id": "a233e8ed-fd98-4ba0-bc80-aeac64a1dc38",
     "prev": "fda86d78-6af2-4cb4-892d-7566f4ff0e99",
     "regions": {
      "a28efa5c-5b65-4fff-ad5d-04b05829c4ff": {
       "attrs": {
        "height": 0.8,
        "width": 0.8,
        "x": 0.1,
        "y": 0.1
       },
       "content": {
        "cell": "29756946-d8c6-4dd8-aac1-cf59f1483b5f",
        "part": "whole"
       },
       "id": "a28efa5c-5b65-4fff-ad5d-04b05829c4ff"
      }
     }
    },
    "a421e4f4-f855-4a67-a547-60c2d43164c7": {
     "id": "a421e4f4-f855-4a67-a547-60c2d43164c7",
     "prev": "044725c9-a419-4dda-b7ee-4dd47bcb75c5",
     "regions": {
      "995440d9-c408-4e4a-b25b-08266d1f33ec": {
       "attrs": {
        "height": 0.8,
        "width": 0.8,
        "x": 0.1,
        "y": 0.1
       },
       "content": {
        "cell": "b98dfe4f-0260-48d1-89d0-a10b0265cdb2",
        "part": "whole"
       },
       "id": "995440d9-c408-4e4a-b25b-08266d1f33ec"
      }
     }
    },
    "ad531515-430d-4547-b910-f3ee5b8dc3ad": {
     "id": "ad531515-430d-4547-b910-f3ee5b8dc3ad",
     "layout": "grid",
     "prev": null,
     "regions": {
      "d972960f-ce73-4fd9-b562-ab9bc2de1c37": {
       "attrs": {
        "height": 1,
        "pad": 0.01,
        "treemap:weight": 1,
        "width": 1,
        "x": 0,
        "y": 0
       },
       "content": {
        "cell": "a98a0fb1-7016-406a-8f5b-3ad1a55d9ffc",
        "part": "whole"
       },
       "id": "d972960f-ce73-4fd9-b562-ab9bc2de1c37"
      }
     }
    },
    "b6fb2e27-6be9-43ed-a813-1859c73642eb": {
     "id": "b6fb2e27-6be9-43ed-a813-1859c73642eb",
     "prev": "ad531515-430d-4547-b910-f3ee5b8dc3ad",
     "regions": {
      "4c04af78-71d2-463b-9325-8d1e62f9043f": {
       "attrs": {
        "height": 0.8,
        "width": 0.8,
        "x": 0.1,
        "y": 0.1
       },
       "content": {
        "cell": "1750d9d5-a85d-4ce7-9297-ada6c6204382",
        "part": "whole"
       },
       "id": "4c04af78-71d2-463b-9325-8d1e62f9043f"
      }
     }
    },
    "b93b01e2-80cf-426c-a482-3634c100bb97": {
     "id": "b93b01e2-80cf-426c-a482-3634c100bb97",
     "prev": "d6fa04f5-e597-4da4-bccc-6f4c3ae312fb",
     "regions": {
      "4a53e130-4bad-4124-bac6-a165da53a052": {
       "attrs": {
        "height": 0.8,
        "width": 0.8,
        "x": 0.1,
        "y": 0.1
       },
       "content": {
        "cell": "f1083956-1f07-4173-8611-d8c56fe2f7df",
        "part": "whole"
       },
       "id": "4a53e130-4bad-4124-bac6-a165da53a052"
      }
     }
    },
    "bdf6a105-9d18-42cc-a90c-179cf951f881": {
     "id": "bdf6a105-9d18-42cc-a90c-179cf951f881",
     "prev": "df8a9a15-76aa-4cc8-8dcd-b0c07e0d7eee",
     "regions": {
      "bec01e1a-c5d3-4484-bb52-cd8ae148719c": {
       "attrs": {
        "height": 0.8,
        "width": 0.8,
        "x": 0.1,
        "y": 0.1
       },
       "content": {
        "cell": "1773424a-014d-405a-8442-a0e827cac2eb",
        "part": "whole"
       },
       "id": "bec01e1a-c5d3-4484-bb52-cd8ae148719c"
      }
     }
    },
    "c1dceea4-aee3-4c46-8f7b-07f7320c72fb": {
     "id": "c1dceea4-aee3-4c46-8f7b-07f7320c72fb",
     "prev": "fa7aa690-e112-48ad-87fb-b2230b3aafbe",
     "regions": {
      "90d9f786-2009-4bb2-981d-8a362a006f1c": {
       "attrs": {
        "height": 0.8,
        "width": 0.8,
        "x": 0.1,
        "y": 0.1
       },
       "content": {
        "cell": "0352b9e3-1640-4cb3-bbbd-fa61025195ad",
        "part": "whole"
       },
       "id": "90d9f786-2009-4bb2-981d-8a362a006f1c"
      }
     }
    },
    "c3275847-a04b-415b-8c33-f50bb40e2bd7": {
     "id": "c3275847-a04b-415b-8c33-f50bb40e2bd7",
     "prev": "cb49bc35-d1f7-44cc-9dff-d705c47ae037",
     "regions": {
      "dde31645-cb71-4411-ac1e-efe39bb2eac8": {
       "attrs": {
        "height": 0.8,
        "width": 0.8,
        "x": 0.1,
        "y": 0.1
       },
       "content": {
        "cell": "bee8a66d-70bb-4761-9072-ff27a2d4b2ce",
        "part": "whole"
       },
       "id": "dde31645-cb71-4411-ac1e-efe39bb2eac8"
      }
     }
    },
    "c3c605b9-400f-429f-a556-6f152152c01a": {
     "id": "c3c605b9-400f-429f-a556-6f152152c01a",
     "prev": "c1dceea4-aee3-4c46-8f7b-07f7320c72fb",
     "regions": {
      "8ff617dc-ca99-430b-a2dc-0fc369a409e4": {
       "attrs": {
        "height": 0.8,
        "width": 0.8,
        "x": 0.1,
        "y": 0.1
       },
       "content": {
        "cell": "ffaa946d-256a-43bb-a9a2-afe4fc4fd77f",
        "part": "whole"
       },
       "id": "8ff617dc-ca99-430b-a2dc-0fc369a409e4"
      }
     }
    },
    "c460023c-3ad2-4528-b007-80c1cd59d377": {
     "id": "c460023c-3ad2-4528-b007-80c1cd59d377",
     "prev": "6a2d62e0-3768-49e9-a92c-d4eaf85f08e0",
     "regions": {
      "42cd25c0-7e67-4ddb-b183-42e798cd6ef1": {
       "attrs": {
        "height": 0.8,
        "width": 0.8,
        "x": 0.1,
        "y": 0.1
       },
       "content": {
        "cell": "6cb3a3f1-76c8-424d-9263-4c751d2276fb",
        "part": "whole"
       },
       "id": "42cd25c0-7e67-4ddb-b183-42e798cd6ef1"
      }
     }
    },
    "cb49bc35-d1f7-44cc-9dff-d705c47ae037": {
     "id": "cb49bc35-d1f7-44cc-9dff-d705c47ae037",
     "prev": "4ea3795e-9558-4420-ab37-2cb11a543641",
     "regions": {
      "1220a1a1-2f7e-49b0-9aed-48c3f5204f0e": {
       "attrs": {
        "height": 0.8,
        "width": 0.8,
        "x": 0.1,
        "y": 0.1
       },
       "content": {
        "cell": "0fffac94-30c2-4c4f-a0bf-e7d5f30fdf96",
        "part": "whole"
       },
       "id": "1220a1a1-2f7e-49b0-9aed-48c3f5204f0e"
      }
     }
    },
    "d6305454-f18b-4129-b2c1-7a456fb5c7ac": {
     "id": "d6305454-f18b-4129-b2c1-7a456fb5c7ac",
     "prev": "60d951c8-3205-41ce-a58e-af2c7d9e746d",
     "regions": {
      "b6a8905d-9ad7-48a5-a79d-7812023abd87": {
       "attrs": {
        "height": 0.8,
        "width": 0.8,
        "x": 0.1,
        "y": 0.1
       },
       "content": {
        "cell": "49f6a256-2a47-4006-9644-b2af3b2ec5f0",
        "part": "whole"
       },
       "id": "b6a8905d-9ad7-48a5-a79d-7812023abd87"
      }
     }
    },
    "d6fa04f5-e597-4da4-bccc-6f4c3ae312fb": {
     "id": "d6fa04f5-e597-4da4-bccc-6f4c3ae312fb",
     "prev": "bdf6a105-9d18-42cc-a90c-179cf951f881",
     "regions": {
      "323f8d87-8374-471a-a0b2-96fb0228d95d": {
       "attrs": {
        "height": 0.8,
        "width": 0.8,
        "x": 0.1,
        "y": 0.1
       },
       "content": {
        "cell": "2a67ca20-9bce-46d7-a00e-4bbf2d53bd98",
        "part": "whole"
       },
       "id": "323f8d87-8374-471a-a0b2-96fb0228d95d"
      }
     }
    },
    "d7144a76-207e-4ef7-8f79-b97df966b0b2": {
     "id": "d7144a76-207e-4ef7-8f79-b97df966b0b2",
     "prev": "fe8d4226-9164-40bc-bb29-4ba86b63526e",
     "regions": {
      "ea2711dc-3295-4fd3-b97c-69c56245c2d7": {
       "attrs": {
        "height": 0.8,
        "width": 0.8,
        "x": 0.1,
        "y": 0.1
       },
       "content": {
        "cell": "8d5067c0-2991-44cb-8d10-7deac3d22463",
        "part": "whole"
       },
       "id": "ea2711dc-3295-4fd3-b97c-69c56245c2d7"
      }
     }
    },
    "d8e2d828-909f-4511-b523-45022ea27264": {
     "id": "d8e2d828-909f-4511-b523-45022ea27264",
     "prev": "51d879a0-fbfa-4285-ae96-c92ded444c0e",
     "regions": {
      "c6cebc7b-c0ab-4a49-b2e1-94f6b645998d": {
       "attrs": {
        "height": 0.8,
        "width": 0.8,
        "x": 0.1,
        "y": 0.1
       },
       "content": {
        "cell": "6e802d86-82f9-486a-8d97-3c3ba3b8acef",
        "part": "whole"
       },
       "id": "c6cebc7b-c0ab-4a49-b2e1-94f6b645998d"
      }
     }
    },
    "d8fc70c1-4445-4986-a5eb-91d53f2719ba": {
     "id": "d8fc70c1-4445-4986-a5eb-91d53f2719ba",
     "prev": "166f3f65-464f-44a8-9f59-8b187ab5da00",
     "regions": {
      "ad0b0f9d-7cd8-46c3-ba6a-c77f8c4fa588": {
       "attrs": {
        "height": 0.8,
        "width": 0.8,
        "x": 0.1,
        "y": 0.1
       },
       "content": {
        "cell": "219638ea-a80c-4cc0-8017-cbb1a35162ec",
        "part": "whole"
       },
       "id": "ad0b0f9d-7cd8-46c3-ba6a-c77f8c4fa588"
      }
     }
    },
    "ddad8dc8-92d7-4532-9b25-936b13581b30": {
     "id": "ddad8dc8-92d7-4532-9b25-936b13581b30",
     "prev": "10337abe-ef61-45c1-aaf7-209c7f2e5fe0",
     "regions": {
      "a18259aa-7aca-4b78-a025-e4ee869990e8": {
       "attrs": {
        "height": 0.8,
        "width": 0.8,
        "x": 0.1,
        "y": 0.1
       },
       "content": {
        "cell": "b4660e8c-8fc6-457e-8293-f09b71075a81",
        "part": "whole"
       },
       "id": "a18259aa-7aca-4b78-a025-e4ee869990e8"
      }
     }
    },
    "df8a9a15-76aa-4cc8-8dcd-b0c07e0d7eee": {
     "id": "df8a9a15-76aa-4cc8-8dcd-b0c07e0d7eee",
     "prev": "ddad8dc8-92d7-4532-9b25-936b13581b30",
     "regions": {
      "3884f214-99b5-4969-a386-8a17e70fa3a0": {
       "attrs": {
        "height": 0.8,
        "width": 0.8,
        "x": 0.1,
        "y": 0.1
       },
       "content": {
        "cell": "e925c2f4-2e48-4f6a-8d61-38070bb21e60",
        "part": "whole"
       },
       "id": "3884f214-99b5-4969-a386-8a17e70fa3a0"
      }
     }
    },
    "e0157883-96bf-4fa0-b04e-d1fa829c80f0": {
     "id": "e0157883-96bf-4fa0-b04e-d1fa829c80f0",
     "prev": "155f832c-efc9-4424-bc61-9865854e5801",
     "regions": {
      "1689b37e-e5df-415e-9482-0a466918ac57": {
       "attrs": {
        "height": 0.8,
        "width": 0.8,
        "x": 0.1,
        "y": 0.1
       },
       "content": {
        "cell": "df8d6de4-570c-4a6a-8d81-114b884ce17c",
        "part": "whole"
       },
       "id": "1689b37e-e5df-415e-9482-0a466918ac57"
      }
     }
    },
    "e4fb2472-6f5f-48e1-be23-7f7b3db594a3": {
     "id": "e4fb2472-6f5f-48e1-be23-7f7b3db594a3",
     "prev": "b6fb2e27-6be9-43ed-a813-1859c73642eb",
     "regions": {
      "4de8b166-e1a4-4864-a8e5-6f3eb0945734": {
       "attrs": {
        "height": 0.8,
        "width": 0.8,
        "x": 0.1,
        "y": 0.1
       },
       "content": {
        "cell": "225ee4e0-e618-47c1-98ff-951731873dea",
        "part": "whole"
       },
       "id": "4de8b166-e1a4-4864-a8e5-6f3eb0945734"
      }
     }
    },
    "e7cc7c0c-a15a-4421-8d70-336a576d4745": {
     "id": "e7cc7c0c-a15a-4421-8d70-336a576d4745",
     "prev": "442771eb-6221-4c80-b481-23c3ac6830a1",
     "regions": {
      "67e6809d-9937-4c91-b1ff-1120df57a1af": {
       "attrs": {
        "height": 0.8,
        "width": 0.8,
        "x": 0.1,
        "y": 0.1
       },
       "content": {
        "cell": "7dde263b-7995-482a-a6ca-1a52405b617b",
        "part": "whole"
       },
       "id": "67e6809d-9937-4c91-b1ff-1120df57a1af"
      }
     }
    },
    "e881aef3-9c7c-4c98-b3be-851494f8b18d": {
     "id": "e881aef3-9c7c-4c98-b3be-851494f8b18d",
     "prev": "5f969c25-0b8f-403a-a450-5dbb08e5f525",
     "regions": {
      "8bf58a92-fe14-4eb7-9bd6-62f8bc5c9153": {
       "attrs": {
        "height": 0.8,
        "width": 0.8,
        "x": 0.1,
        "y": 0.1
       },
       "content": {
        "cell": "3acd5f9e-c7d0-4f00-bd69-afc85f6758c9",
        "part": "whole"
       },
       "id": "8bf58a92-fe14-4eb7-9bd6-62f8bc5c9153"
      }
     }
    },
    "ead9825d-ec70-49b1-8614-7f41adb1c57e": {
     "id": "ead9825d-ec70-49b1-8614-7f41adb1c57e",
     "prev": "c3c605b9-400f-429f-a556-6f152152c01a",
     "regions": {
      "3cef79c8-04b1-4db7-9a6d-64af00c11a9c": {
       "attrs": {
        "height": 0.8,
        "width": 0.8,
        "x": 0.1,
        "y": 0.1
       },
       "content": {
        "cell": "cba4d0f7-0e68-4574-ad3c-b2c400dab427",
        "part": "whole"
       },
       "id": "3cef79c8-04b1-4db7-9a6d-64af00c11a9c"
      }
     }
    },
    "edfdf372-317f-4e6e-ab24-4545d9982b4e": {
     "id": "edfdf372-317f-4e6e-ab24-4545d9982b4e",
     "prev": "64c8a408-ca30-4f6f-acb1-e91fc464d58f",
     "regions": {
      "e7c34e71-9b3f-4299-aed0-f3625c614198": {
       "attrs": {
        "height": 0.8,
        "width": 0.8,
        "x": 0.1,
        "y": 0.1
       },
       "content": {
        "cell": "abc70508-3ab0-4bb4-a5ff-24a6368cde2e",
        "part": "whole"
       },
       "id": "e7c34e71-9b3f-4299-aed0-f3625c614198"
      }
     }
    },
    "eec62f94-9fdc-40ba-9f8e-77240d5db802": {
     "id": "eec62f94-9fdc-40ba-9f8e-77240d5db802",
     "prev": "c460023c-3ad2-4528-b007-80c1cd59d377",
     "regions": {
      "6ffefc81-079e-4228-a371-0ad3f9234602": {
       "attrs": {
        "height": 0.8,
        "width": 0.8,
        "x": 0.1,
        "y": 0.1
       },
       "content": {
        "cell": "f1b14fdd-0036-4fc6-bfac-4969c3b614f0",
        "part": "whole"
       },
       "id": "6ffefc81-079e-4228-a371-0ad3f9234602"
      }
     }
    },
    "efd5a6a3-6d51-4d5b-9e9c-a8f9609a3318": {
     "id": "efd5a6a3-6d51-4d5b-9e9c-a8f9609a3318",
     "prev": "a233e8ed-fd98-4ba0-bc80-aeac64a1dc38",
     "regions": {
      "a39b16ab-966e-45aa-b10b-65442f913d36": {
       "attrs": {
        "height": 0.8,
        "width": 0.8,
        "x": 0.1,
        "y": 0.1
       },
       "content": {
        "cell": "8f414e46-10a3-4207-8eab-4e5ec44cc146",
        "part": "whole"
       },
       "id": "a39b16ab-966e-45aa-b10b-65442f913d36"
      }
     }
    },
    "f7b8beeb-c4fb-4eaa-b31b-d9e1ff95d191": {
     "id": "f7b8beeb-c4fb-4eaa-b31b-d9e1ff95d191",
     "prev": "d8fc70c1-4445-4986-a5eb-91d53f2719ba",
     "regions": {
      "0c5339fd-da62-4fb2-8c0c-4bbb28ce7a96": {
       "attrs": {
        "height": 0.8,
        "width": 0.8,
        "x": 0.1,
        "y": 0.1
       },
       "content": {
        "cell": "ca2d0291-bc93-4f35-9cac-6bd9388fc9b6",
        "part": "whole"
       },
       "id": "0c5339fd-da62-4fb2-8c0c-4bbb28ce7a96"
      }
     }
    },
    "fa7aa690-e112-48ad-87fb-b2230b3aafbe": {
     "id": "fa7aa690-e112-48ad-87fb-b2230b3aafbe",
     "prev": "67578057-3cf8-4c63-859d-35f495910e82",
     "regions": {
      "eedecc4b-f521-4730-a693-4e2248ebcb5e": {
       "attrs": {
        "height": 0.8,
        "width": 0.8,
        "x": 0.1,
        "y": 0.1
       },
       "content": {
        "cell": "58111089-a25b-4b42-99f9-42359c1d8398",
        "part": "whole"
       },
       "id": "eedecc4b-f521-4730-a693-4e2248ebcb5e"
      }
     }
    },
    "fda86d78-6af2-4cb4-892d-7566f4ff0e99": {
     "id": "fda86d78-6af2-4cb4-892d-7566f4ff0e99",
     "prev": "edfdf372-317f-4e6e-ab24-4545d9982b4e",
     "regions": {
      "a2e91258-ec52-4e10-95ad-6a730315738a": {
       "attrs": {
        "height": 0.8,
        "width": 0.8,
        "x": 0.1,
        "y": 0.1
       },
       "content": {
        "cell": "0bc59bf4-f973-4607-907d-30145546ca21",
        "part": "whole"
       },
       "id": "a2e91258-ec52-4e10-95ad-6a730315738a"
      }
     }
    },
    "fdd4ffe3-9e88-49c6-8c92-801b13bff3ce": {
     "id": "fdd4ffe3-9e88-49c6-8c92-801b13bff3ce",
     "prev": "eec62f94-9fdc-40ba-9f8e-77240d5db802",
     "regions": {
      "a1a7d622-23e6-4314-941b-2a1301d63878": {
       "attrs": {
        "height": 0.8,
        "width": 0.8,
        "x": 0.1,
        "y": 0.1
       },
       "content": {
        "cell": "0d9d52d0-d633-45e5-8b3f-b2590f758531",
        "part": "whole"
       },
       "id": "a1a7d622-23e6-4314-941b-2a1301d63878"
      }
     }
    },
    "fe8d4226-9164-40bc-bb29-4ba86b63526e": {
     "id": "fe8d4226-9164-40bc-bb29-4ba86b63526e",
     "prev": "409cf4e2-bf3f-4173-94cd-19680149de61",
     "regions": {
      "adb705fc-a3d7-40e7-a15f-53380a50abd3": {
       "attrs": {
        "height": 0.8,
        "width": 0.8,
        "x": 0.1,
        "y": 0.1
       },
       "content": {
        "cell": "9588e1b9-946a-44a6-8ef7-96cc256979a1",
        "part": "whole"
       },
       "id": "adb705fc-a3d7-40e7-a15f-53380a50abd3"
      }
     }
    }
   },
   "themes": {}
  }
 },
 "nbformat": 4,
 "nbformat_minor": 0
}

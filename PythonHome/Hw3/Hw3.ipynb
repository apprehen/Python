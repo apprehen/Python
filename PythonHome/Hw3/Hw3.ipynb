{
 "cells": [
  {
   "cell_type": "markdown",
   "metadata": {},
   "source": [
    "# 作业3\n",
    "要求: \n",
    "    1. 尽量自己独立完成，如不懂可以问同学和老师，但是所有的代码都要自己输入，看懂，亲自运行\n",
    "    2. 注意作业的截止时间，要在截止时间前提交\n",
    "    3. 作业提交只需提交对应的ipynb后缀的文件\n",
    "题目："
   ]
  },
  {
   "cell_type": "markdown",
   "metadata": {},
   "source": [
    "#### 一、掷骰子，猜大小游戏"
   ]
  },
  {
   "cell_type": "markdown",
   "metadata": {},
   "source": [
    "##### 1.第一步，完成骰点list的生成\n",
    "下面是骰子的模版定义，分析其特征，利用str.split函数：\n",
    "* 先用换行('\\n')分隔符拆分为行，组成list\n",
    "* 再用换行('，')分隔符拆分每个骰点(1~6)的部分\n",
    "* 将每个骰点(1~6)的部分拼接，形成每个骰点的list"
   ]
  },
  {
   "cell_type": "code",
   "execution_count": 1,
   "metadata": {
    "collapsed": true,
    "jupyter": {
     "outputs_hidden": true
    }
   },
   "outputs": [],
   "source": [
    "dice_tpl= '''\\\n",
    "┌───┐,┌───┐,┌───┐,┌───┐,┌───┐,┌───┐\n",
    "│      │,│  ●  │,│●    │,│●  ●│,│●  ●│,│●  ●│\n",
    "│  ●  │,│      │,│  ●  │,│      │,│  ●  │,│●  ●│\n",
    "│      │,│  ●  │,│    ●│,│●  ●│,│●  ●│,│●  ●│\n",
    "└───┘,└───┘,└───┘,└───┘,└───┘,└───┘'''"
   ]
  },
  {
   "cell_type": "code",
   "execution_count": 2,
   "metadata": {
    "collapsed": false,
    "jupyter": {
     "outputs_hidden": false
    }
   },
   "outputs": [
    {
     "name": "stdout",
     "output_type": "stream",
     "text": [
      "┌───┐,┌───┐,┌───┐,┌───┐,┌───┐,┌───┐\n",
      "│      │,│  ●  │,│●    │,│●  ●│,│●  ●│,│●  ●│\n",
      "│  ●  │,│      │,│  ●  │,│      │,│  ●  │,│●  ●│\n",
      "│      │,│  ●  │,│    ●│,│●  ●│,│●  ●│,│●  ●│\n",
      "└───┘,└───┘,└───┘,└───┘,└───┘,└───┘\n"
     ]
    }
   ],
   "source": [
    "print(dice_tpl)"
   ]
  },
  {
   "cell_type": "code",
   "execution_count": 3,
   "metadata": {
    "collapsed": false,
    "jupyter": {
     "outputs_hidden": false
    }
   },
   "outputs": [],
   "source": [
    "dice_lines = dice_tpl.split('\\n')"
   ]
  },
  {
   "cell_type": "code",
   "execution_count": 4,
   "metadata": {
    "collapsed": false,
    "jupyter": {
     "outputs_hidden": false
    },
    "scrolled": true
   },
   "outputs": [
    {
     "data": {
      "text/plain": [
       "['┌───┐,┌───┐,┌───┐,┌───┐,┌───┐,┌───┐',\n",
       " '│      │,│  ●  │,│●    │,│●  ●│,│●  ●│,│●  ●│',\n",
       " '│  ●  │,│      │,│  ●  │,│      │,│  ●  │,│●  ●│',\n",
       " '│      │,│  ●  │,│    ●│,│●  ●│,│●  ●│,│●  ●│',\n",
       " '└───┘,└───┘,└───┘,└───┘,└───┘,└───┘']"
      ]
     },
     "execution_count": 4,
     "metadata": {},
     "output_type": "execute_result"
    }
   ],
   "source": [
    "dice_lines"
   ]
  },
  {
   "cell_type": "code",
   "execution_count": 15,
   "metadata": {
    "collapsed": false,
    "jupyter": {
     "outputs_hidden": false
    }
   },
   "outputs": [],
   "source": [
    "dice_lines[2] = dice_lines[2].split(',')"
   ]
  },
  {
   "cell_type": "code",
   "execution_count": 14,
   "metadata": {
    "collapsed": false,
    "jupyter": {
     "outputs_hidden": false
    }
   },
   "outputs": [
    {
     "data": {
      "text/plain": [
       "'│  ●  │'"
      ]
     },
     "execution_count": 14,
     "metadata": {},
     "output_type": "execute_result"
    }
   ],
   "source": [
    "dice_lines[1][1]"
   ]
  },
  {
   "cell_type": "code",
   "execution_count": null,
   "metadata": {
    "collapsed": false,
    "jupyter": {
     "outputs_hidden": false
    }
   },
   "outputs": [],
   "source": [
    "#补充完整下面的代码\n",
    "dice = ['','','','','','']\n"
   ]
  },
  {
   "cell_type": "raw",
   "metadata": {},
   "source": [
    "for i in range(6):\n",
    "    print(dice[i])\n",
    "代码应该输出\n",
    "┌───┐\n",
    "│      │\n",
    "│  ●  │\n",
    "│      │\n",
    "└───┘\n",
    "\n",
    "┌───┐\n",
    "│  ●  │\n",
    "│      │\n",
    "│  ●  │\n",
    "└───┘\n",
    "\n",
    "┌───┐\n",
    "│●    │\n",
    "│  ●  │\n",
    "│    ●│\n",
    "└───┘\n",
    "\n",
    "┌───┐\n",
    "│●  ●│\n",
    "│      │\n",
    "│●  ●│\n",
    "└───┘\n",
    "\n",
    "┌───┐\n",
    "│●  ●│\n",
    "│  ●  │\n",
    "│●  ●│\n",
    "└───┘\n",
    "\n",
    "┌───┐\n",
    "│●  ●│\n",
    "│●  ●│\n",
    "│●  ●│\n",
    "└───┘"
   ]
  },
  {
   "cell_type": "code",
   "execution_count": null,
   "metadata": {
    "collapsed": true,
    "jupyter": {
     "outputs_hidden": true
    }
   },
   "outputs": [],
   "source": [
    "for i in range(6):\n",
    "    print(dice[i])"
   ]
  },
  {
   "cell_type": "markdown",
   "metadata": {},
   "source": [
    "##### 2.第二步，完成猜大小游戏\n",
    "规则如下：    \n",
    "　　投掷3个骰子，如果3个骰子之和小于10为小，大于10为大  \n",
    "步骤分解： \n",
    "* 请用户输入大或小（用0,1代替）\n",
    "* 投掷3个骰子，使用random库中的randint函数生成骰点大小，并依次输出骰点\n",
    "* 计算骰点大小，判断用户输赢，并给出结果\n",
    "\n",
    "**根据上面的步骤完成代码**"
   ]
  },
  {
   "cell_type": "code",
   "execution_count": null,
   "metadata": {
    "collapsed": true,
    "jupyter": {
     "outputs_hidden": true
    }
   },
   "outputs": [],
   "source": [
    "#根据上面的步骤完成代码\n"
   ]
  },
  {
   "cell_type": "markdown",
   "metadata": {},
   "source": [
    "#### 二、设计并完成班级点名程序"
   ]
  },
  {
   "cell_type": "markdown",
   "metadata": {},
   "source": [
    "##### 1.预备知识，学习如何读写点名册文件"
   ]
  },
  {
   "cell_type": "code",
   "execution_count": null,
   "metadata": {
    "collapsed": false,
    "jupyter": {
     "outputs_hidden": false
    }
   },
   "outputs": [],
   "source": [
    "fp = open('students.txt', 'rt', encoding='utf-8')"
   ]
  },
  {
   "cell_type": "code",
   "execution_count": null,
   "metadata": {
    "collapsed": true,
    "jupyter": {
     "outputs_hidden": true
    }
   },
   "outputs": [],
   "source": [
    "# 通过help熟悉fp对象的操作函数\n",
    "help(fp)"
   ]
  },
  {
   "cell_type": "code",
   "execution_count": null,
   "metadata": {
    "collapsed": false,
    "jupyter": {
     "outputs_hidden": false
    },
    "scrolled": true
   },
   "outputs": [],
   "source": [
    "#查看文件中的所有行\n",
    "content = fp.readlines()\n",
    "content"
   ]
  },
  {
   "cell_type": "code",
   "execution_count": null,
   "metadata": {
    "collapsed": true,
    "jupyter": {
     "outputs_hidden": true
    }
   },
   "outputs": [],
   "source": [
    "fp.close()"
   ]
  },
  {
   "cell_type": "code",
   "execution_count": null,
   "metadata": {
    "collapsed": true,
    "jupyter": {
     "outputs_hidden": true
    }
   },
   "outputs": [],
   "source": [
    "idnums = []\n",
    "names = []\n",
    "for line in content:\n",
    "    items = line.strip().split(',')\n",
    "    idnums.append(items[0])\n",
    "    names.append(items[1])"
   ]
  },
  {
   "cell_type": "code",
   "execution_count": null,
   "metadata": {
    "collapsed": false,
    "jupyter": {
     "outputs_hidden": false
    }
   },
   "outputs": [],
   "source": [
    "print(idnums, names)"
   ]
  },
  {
   "cell_type": "code",
   "execution_count": null,
   "metadata": {
    "collapsed": false,
    "jupyter": {
     "outputs_hidden": false
    }
   },
   "outputs": [],
   "source": [
    "# attendance 存放考勤数据,填写考勤数据\n",
    "attendances = [1] * len(idnums)    # 假设填写所有人都到了\n",
    "attendances"
   ]
  },
  {
   "cell_type": "code",
   "execution_count": 1,
   "metadata": {
    "collapsed": false,
    "jupyter": {
     "outputs_hidden": false
    }
   },
   "outputs": [
    {
     "data": {
      "text/plain": [
       "'attendance_2018-01-05.txt'"
      ]
     },
     "execution_count": 1,
     "metadata": {},
     "output_type": "execute_result"
    }
   ],
   "source": [
    "#构造考勤数据文件名\n",
    "from datetime import datetime\n",
    "fname = datetime.now().strftime('attendance_%Y-%m-%d.txt')\n",
    "fname"
   ]
  },
  {
   "cell_type": "code",
   "execution_count": 2,
   "metadata": {
    "collapsed": false,
    "jupyter": {
     "outputs_hidden": false
    }
   },
   "outputs": [
    {
     "ename": "NameError",
     "evalue": "name 'idnums' is not defined",
     "output_type": "error",
     "traceback": [
      "\u001b[1;31m---------------------------------------------------------------------------\u001b[0m",
      "\u001b[1;31mNameError\u001b[0m                                 Traceback (most recent call last)",
      "\u001b[1;32m<ipython-input-2-fe1df2ec45fe>\u001b[0m in \u001b[0;36m<module>\u001b[1;34m()\u001b[0m\n\u001b[0;32m      1\u001b[0m \u001b[1;31m#写入考勤数据到文件，执行完成后，查看写入的文件\u001b[0m\u001b[1;33m\u001b[0m\u001b[1;33m\u001b[0m\u001b[0m\n\u001b[0;32m      2\u001b[0m \u001b[0mfp\u001b[0m \u001b[1;33m=\u001b[0m \u001b[0mopen\u001b[0m\u001b[1;33m(\u001b[0m\u001b[0mfname\u001b[0m\u001b[1;33m,\u001b[0m \u001b[1;34m'wt'\u001b[0m\u001b[1;33m,\u001b[0m \u001b[0mencoding\u001b[0m\u001b[1;33m=\u001b[0m\u001b[1;34m'utf-8'\u001b[0m\u001b[1;33m)\u001b[0m\u001b[1;33m\u001b[0m\u001b[0m\n\u001b[1;32m----> 3\u001b[1;33m \u001b[1;32mfor\u001b[0m \u001b[0midnum\u001b[0m\u001b[1;33m,\u001b[0m\u001b[0mname\u001b[0m\u001b[1;33m,\u001b[0m\u001b[0mattendance\u001b[0m \u001b[1;32min\u001b[0m \u001b[0mzip\u001b[0m\u001b[1;33m(\u001b[0m\u001b[0midnums\u001b[0m\u001b[1;33m,\u001b[0m \u001b[0mnames\u001b[0m\u001b[1;33m,\u001b[0m \u001b[0mattendances\u001b[0m\u001b[1;33m)\u001b[0m\u001b[1;33m:\u001b[0m\u001b[1;33m\u001b[0m\u001b[0m\n\u001b[0m\u001b[0;32m      4\u001b[0m     \u001b[0mline\u001b[0m \u001b[1;33m=\u001b[0m \u001b[1;34m\"%s,%s,%d\"\u001b[0m \u001b[1;33m%\u001b[0m \u001b[1;33m(\u001b[0m\u001b[0midnum\u001b[0m\u001b[1;33m,\u001b[0m \u001b[0mname\u001b[0m\u001b[1;33m,\u001b[0m \u001b[0mattendance\u001b[0m\u001b[1;33m)\u001b[0m\u001b[1;33m\u001b[0m\u001b[0m\n\u001b[0;32m      5\u001b[0m     \u001b[0mprint\u001b[0m\u001b[1;33m(\u001b[0m\u001b[0mline\u001b[0m\u001b[1;33m,\u001b[0m \u001b[0mfile\u001b[0m\u001b[1;33m=\u001b[0m\u001b[0mfp\u001b[0m\u001b[1;33m)\u001b[0m\u001b[1;33m\u001b[0m\u001b[0m\n",
      "\u001b[1;31mNameError\u001b[0m: name 'idnums' is not defined"
     ]
    }
   ],
   "source": [
    "#写入考勤数据到文件，执行完成后，查看写入的文件\n",
    "fp = open(fname, 'wt', encoding='utf-8')\n",
    "for idnum,name,attendance in zip(idnums, names, attendances):\n",
    "    line = \"%s,%s,%d\" % (idnum, name, attendance)\n",
    "    print(line, file=fp)\n",
    "fp.close()"
   ]
  },
  {
   "cell_type": "markdown",
   "metadata": {},
   "source": [
    "##### 2.根据前面所学的知识，完成点名程序\n",
    "* 打开学生名单文件，读入学号和姓名列表\n",
    "* 提示用户输入每一个学生（显示学号和姓名）的考勤情况，0表示缺勤，1表示到课\n",
    "* 将考勤数据写入考勤文件\n",
    "\n",
    "**根据上面的步骤完成代码**"
   ]
  },
  {
   "cell_type": "code",
   "execution_count": null,
   "metadata": {
    "collapsed": true,
    "jupyter": {
     "outputs_hidden": true
    }
   },
   "outputs": [],
   "source": [
    "#根据上面的步骤完成代码"
   ]
  },
  {
   "cell_type": "markdown",
   "metadata": {},
   "source": [
    "##### 3.在上面的基础上，完善点名程序\n",
    "问题描述：上面的程序只能一次完成点名的录入，如果输入的数据有问题，或者缺勤的人迟到了，没有办法修改考勤数据，只能重新录入；另外增加到统计数据，最后一行显示总人数，到课人数，迟到人数，缺勤人数。\n",
    "要求：增加考勤数据的修改（增加考勤情况描述：0缺勤，1到课，2迟到）\n",
    "* 打开当日的考勤数据，读入学号、姓名列表和考勤情况\n",
    "* 提示用户输入要修改考勤的学生学号，查找到该学生的考勤数据\n",
    "* 显示该学生的考勤数据，并提示用户是否要修改该数据\n",
    "* 如果用户确认，则提示用户输入修改数据\n",
    "* 将修改后的考勤数据写入考勤文件\n",
    "* 记着增加最后一行，显示总人数，到课人数，迟到人数，缺勤人数。\n",
    "\n",
    "**根据上面的步骤完成代码**"
   ]
  },
  {
   "cell_type": "code",
   "execution_count": null,
   "metadata": {
    "collapsed": true,
    "jupyter": {
     "outputs_hidden": true
    }
   },
   "outputs": [],
   "source": [
    "#根据上面的步骤完成代码"
   ]
  }
 ],
 "metadata": {
  "anaconda-cloud": {},
  "kernelspec": {
   "display_name": "Python 3",
   "language": "python",
   "name": "python3"
  },
  "language_info": {
   "codemirror_mode": {
    "name": "ipython",
    "version": 3
   },
   "file_extension": ".py",
   "mimetype": "text/x-python",
   "name": "python",
   "nbconvert_exporter": "python",
   "pygments_lexer": "ipython3",
   "version": "3.7.4"
  }
 },
 "nbformat": 4,
 "nbformat_minor": 4
}

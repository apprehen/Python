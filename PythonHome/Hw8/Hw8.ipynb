{
 "cells": [
  {
   "cell_type": "markdown",
   "metadata": {},
   "source": [
    "# 作业8\n",
    "要求: \n",
    "    1. 尽量自己独立完成，如不懂可以问同学和老师，但是所有的代码都要自己输入，看懂，亲自运行\n",
    "    2. 注意作业的截止时间，要在截止时间前提交\n",
    "    3. 作业提交只需提交对应的ipynb后缀的文件\n",
    "题目："
   ]
  },
  {
   "cell_type": "markdown",
   "metadata": {},
   "source": [
    "#### 1.编写矩形类Rectangle，该类含有长length和宽width两个属性。该类具有\n",
    "* 构造函数。在构造函数中传入矩形的长length和宽width\n",
    "* 求面积函数area()\n",
    "* 设置长方形属性的成员函数setwidth(w) 和 setlength(l)\n",
    "* 显示长方形所有属性的函数show()\n",
    "* 类属性 _tatal 用于计数长方形类的实例个数 \n",
    "* 编写测试实例"
   ]
  },
  {
   "cell_type": "code",
   "execution_count": 2,
   "metadata": {
    "collapsed": false,
    "scrolled": true
   },
   "outputs": [
    {
     "name": "stdout",
     "output_type": "stream",
     "text": [
      "8\n",
      "Width 4\n",
      "Length 2\n",
      "Width 4\n",
      "Length 6\n"
     ]
    }
   ],
   "source": [
    "#补充完整下面的函数\n",
    "class Rectangle:\n",
    "    __tatal = 0\n",
    "    def __init__(self,length,width):\n",
    "        self.length = length\n",
    "        self.width = width\n",
    "        self.__tatal+=1\n",
    "    def area(self):\n",
    "        Rectare = self.width * self.length\n",
    "        return Rectare\n",
    "    def setwidth(self,w):\n",
    "        self.width = w\n",
    "    def setlength(self,l):\n",
    "        self.length = l\n",
    "    def show(self):\n",
    "        print('Width',self.width)\n",
    "        print('Length',self.length)\n",
    "\n",
    "r1 = Rectangle(2,4)\n",
    "print(r1.area())\n",
    "r1.show()\n",
    "r1.setwidth(4)\n",
    "r1.setlength(6)\n",
    "r1.show()"
   ]
  },
  {
   "cell_type": "markdown",
   "metadata": {},
   "source": [
    "#### 2.在上面长方形类Rectangle的基础上，从长方形类Rectangle派生出长方体类Cuboid，增加一个表示高height的属性。该类具有\n",
    "* 构造函数。在构造函数中传入矩形的长length、宽width和高height\n",
    "* 求体积成员函数volume()\n",
    "* 设置长方体属性的成员函数setheight(h)\n",
    "* 显示长方体所有属性的函数show()\n",
    "* 编写测试实例"
   ]
  },
  {
   "cell_type": "code",
   "execution_count": 4,
   "metadata": {
    "collapsed": false
   },
   "outputs": [
    {
     "name": "stdout",
     "output_type": "stream",
     "text": [
      "24\n",
      "Width 3\n",
      "Length 2\n",
      "Height 4\n"
     ]
    }
   ],
   "source": [
    "class Cuboid(Rectangle):\n",
    "    def __init__(self,length,width,height):\n",
    "        self.length = length\n",
    "        self.width = width\n",
    "        self.height = height\n",
    "    def volume(self):\n",
    "        v = self.height*self.width*self.length\n",
    "        return v\n",
    "    def show(self):\n",
    "        print('Width',self.width)\n",
    "        print('Length',self.length)\n",
    "        print('Height',self.height)\n",
    "v1 = Cuboid(2,3,4)\n",
    "print(v1.volume())\n",
    "v1.show()"
   ]
  },
  {
   "cell_type": "markdown",
   "metadata": {},
   "source": [
    "#### 3.参见HW7的学生信息管理系统功能，按照面向对象设计思想，完成系统de"
   ]
  },
  {
   "cell_type": "code",
   "execution_count": null,
   "metadata": {},
   "outputs": [],
   "source": []
  }
 ],
 "metadata": {
  "anaconda-cloud": {},
  "kernelspec": {
   "display_name": "Python 3.10.7 64-bit",
   "language": "python",
   "name": "python3"
  },
  "language_info": {
   "codemirror_mode": {
    "name": "ipython",
    "version": 3
   },
   "file_extension": ".py",
   "mimetype": "text/x-python",
   "name": "python",
   "nbconvert_exporter": "python",
   "pygments_lexer": "ipython3",
   "version": "3.10.7"
  },
  "vscode": {
   "interpreter": {
    "hash": "27dc5d894906ef4078c10f81f96b088b1214dd79db8c1790ec2f25d74ab4ea1b"
   }
  }
 },
 "nbformat": 4,
 "nbformat_minor": 2
}

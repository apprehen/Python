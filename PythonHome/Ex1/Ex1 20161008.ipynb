{
 "cells": [
  {
   "cell_type": "markdown",
   "metadata": {
    "nbpresent": {
     "id": "c1c2e822-66ec-4da4-8f16-bdc3a191041c"
    }
   },
   "source": [
    "## 第1章 基础知识"
   ]
  },
  {
   "cell_type": "markdown",
   "metadata": {
    "nbpresent": {
     "id": "d30fb555-0860-4cfe-b00b-fb356cd89247"
    }
   },
   "source": [
    "### 1.1查看Python版本"
   ]
  },
  {
   "cell_type": "code",
   "execution_count": null,
   "metadata": {
    "collapsed": false,
    "nbpresent": {
     "id": "0558de3e-faa6-44e3-b4a1-a13ba6e987f3"
    }
   },
   "outputs": [],
   "source": [
    "import sys\n",
    "sys.version"
   ]
  },
  {
   "cell_type": "code",
   "execution_count": null,
   "metadata": {
    "collapsed": false,
    "nbpresent": {
     "id": "5d40aba3-56c3-423f-b749-3c71027adb7e"
    }
   },
   "outputs": [],
   "source": [
    "print(sys.winver)\n",
    "print(sys.version_info)"
   ]
  },
  {
   "cell_type": "markdown",
   "metadata": {
    "nbpresent": {
     "id": "6862d590-9e78-4b90-aa96-234556f8c4c0"
    }
   },
   "source": [
    "### 1.2 Python安装与简单使用"
   ]
  },
  {
   "cell_type": "code",
   "execution_count": null,
   "metadata": {
    "collapsed": false,
    "nbpresent": {
     "id": "431ac605-8ce0-4a00-bc93-db3ef6f05346"
    }
   },
   "outputs": [],
   "source": [
    "3+2"
   ]
  },
  {
   "cell_type": "code",
   "execution_count": null,
   "metadata": {
    "collapsed": false,
    "nbpresent": {
     "id": "f32dc4ce-b919-49f0-ab24-0a0ca3667e49"
    }
   },
   "outputs": [],
   "source": [
    "import math\n",
    "math.sqrt(9)"
   ]
  },
  {
   "cell_type": "code",
   "execution_count": null,
   "metadata": {
    "collapsed": false,
    "nbpresent": {
     "id": "b33b63cd-58bc-4729-bcb7-a83601f547f4"
    }
   },
   "outputs": [],
   "source": [
    "3*(2+6)"
   ]
  },
  {
   "cell_type": "code",
   "execution_count": null,
   "metadata": {
    "collapsed": false,
    "nbpresent": {
     "id": "207fecda-24e5-45f2-9d1d-80e77bc8ce5d"
    }
   },
   "outputs": [],
   "source": [
    "2/0"
   ]
  },
  {
   "cell_type": "markdown",
   "metadata": {
    "nbpresent": {
     "id": "061f9e5f-ed5f-42bc-8175-1b3722b9614c"
    }
   },
   "source": [
    "### 1.4.2 Python变量"
   ]
  },
  {
   "cell_type": "code",
   "execution_count": null,
   "metadata": {
    "collapsed": false,
    "nbpresent": {
     "id": "a288c896-cf1e-489d-8393-005dbd9a6e31"
    }
   },
   "outputs": [],
   "source": [
    "x = 3\n",
    "print(type(x))"
   ]
  },
  {
   "cell_type": "code",
   "execution_count": null,
   "metadata": {
    "collapsed": false,
    "nbpresent": {
     "id": "b55b375e-00eb-4cdf-a4e7-ce500050618e"
    }
   },
   "outputs": [],
   "source": [
    "x = 'Hello world.'\n",
    "print(type(x))"
   ]
  },
  {
   "cell_type": "code",
   "execution_count": null,
   "metadata": {
    "collapsed": false,
    "nbpresent": {
     "id": "13229133-256e-4193-8e89-92bba82c1b65"
    }
   },
   "outputs": [],
   "source": [
    "x = [1,2,3]\n",
    "print(type(x))"
   ]
  },
  {
   "cell_type": "code",
   "execution_count": null,
   "metadata": {
    "collapsed": false,
    "nbpresent": {
     "id": "9933c21e-5fb6-41ea-81a6-91cedd730a9d"
    }
   },
   "outputs": [],
   "source": [
    "isinstance(3, int)"
   ]
  },
  {
   "cell_type": "code",
   "execution_count": null,
   "metadata": {
    "collapsed": false,
    "nbpresent": {
     "id": "1c3f33c0-a16e-4897-9823-1171f54d98fd"
    }
   },
   "outputs": [],
   "source": [
    "isinstance('Hello world', str)"
   ]
  },
  {
   "cell_type": "code",
   "execution_count": null,
   "metadata": {
    "collapsed": false,
    "nbpresent": {
     "id": "b38daa6d-ca01-41af-98fb-4fdb0b348196"
    }
   },
   "outputs": [],
   "source": [
    "x = 3 #创建整型变量\n",
    "print(x**2)"
   ]
  },
  {
   "cell_type": "code",
   "execution_count": null,
   "metadata": {
    "collapsed": false,
    "nbpresent": {
     "id": "2a371d23-ee58-49b4-a900-b26346b65850"
    }
   },
   "outputs": [],
   "source": [
    "x += 6 #修改变量值\n",
    "print(x) #读取变量值并输出显示"
   ]
  },
  {
   "cell_type": "code",
   "execution_count": null,
   "metadata": {
    "collapsed": false,
    "nbpresent": {
     "id": "48fa2e60-4577-4bd4-95a8-3974dc3802b4"
    }
   },
   "outputs": [],
   "source": [
    "x = [1,2,3] #创建列表对象\n",
    "print(x)"
   ]
  },
  {
   "cell_type": "code",
   "execution_count": null,
   "metadata": {
    "collapsed": false,
    "nbpresent": {
     "id": "de607b6d-98ad-421c-895c-b36b3fc1b500"
    }
   },
   "outputs": [],
   "source": [
    "x[1] = 5 #修改列表元素值\n",
    "print(x) #输出显示整个列表"
   ]
  },
  {
   "cell_type": "code",
   "execution_count": null,
   "metadata": {
    "collapsed": false,
    "nbpresent": {
     "id": "d39b18a0-1d2e-461c-905f-90c64cc2f010"
    }
   },
   "outputs": [],
   "source": [
    "print(x[2]) #输出显示列表指定元素"
   ]
  },
  {
   "cell_type": "code",
   "execution_count": null,
   "metadata": {
    "collapsed": false,
    "nbpresent": {
     "id": "dd55284d-1ef6-40c6-b961-669e3a9726be"
    }
   },
   "outputs": [],
   "source": [
    "x = (1,2,3) #元组tuple\n",
    "print(x)"
   ]
  },
  {
   "cell_type": "code",
   "execution_count": null,
   "metadata": {
    "collapsed": false,
    "nbpresent": {
     "id": "2c28d26c-9bf4-4fbe-91f3-f1f7bd205695"
    }
   },
   "outputs": [],
   "source": [
    "x[1] = 5"
   ]
  },
  {
   "cell_type": "code",
   "execution_count": null,
   "metadata": {
    "collapsed": false,
    "nbpresent": {
     "id": "ce755f19-b993-4ce7-973d-88a496363802"
    }
   },
   "outputs": [],
   "source": [
    "x = 3\n",
    "id(x)"
   ]
  },
  {
   "cell_type": "code",
   "execution_count": null,
   "metadata": {
    "collapsed": false,
    "nbpresent": {
     "id": "b5ee5a59-7b7a-44f7-8c57-40ad6a3024d1"
    }
   },
   "outputs": [],
   "source": [
    "y = x\n",
    "id(y)"
   ]
  },
  {
   "cell_type": "code",
   "execution_count": null,
   "metadata": {
    "collapsed": false,
    "nbpresent": {
     "id": "205254fa-3f3e-4924-8c7a-1c0ed2120759"
    }
   },
   "outputs": [],
   "source": [
    "x += 6\n",
    "id(x)"
   ]
  },
  {
   "cell_type": "code",
   "execution_count": null,
   "metadata": {
    "collapsed": false,
    "nbpresent": {
     "id": "57d8379c-d31d-4722-8b54-1a9b523f432e"
    }
   },
   "outputs": [],
   "source": [
    "print(y)\n",
    "id(y)"
   ]
  },
  {
   "cell_type": "markdown",
   "metadata": {
    "nbpresent": {
     "id": "dbfec81a-3508-4181-a0a8-63a5a0ba36e9"
    }
   },
   "source": [
    "### 1.4.2 -Python关键字"
   ]
  },
  {
   "cell_type": "code",
   "execution_count": null,
   "metadata": {
    "collapsed": false,
    "nbpresent": {
     "id": "d4d9056f-33fa-41d9-ab0e-979baa38ae11"
    }
   },
   "outputs": [],
   "source": [
    "#查看Python的所有关键字\n",
    "import keyword\n",
    "print(keyword.kwlist)"
   ]
  },
  {
   "cell_type": "markdown",
   "metadata": {},
   "source": [
    "### 1.4.3  数字"
   ]
  },
  {
   "cell_type": "code",
   "execution_count": null,
   "metadata": {
    "collapsed": false
   },
   "outputs": [],
   "source": [
    "# 可以表示任意大小的数字\n",
    "a=99999999999999999999999999999999\n",
    "a*a"
   ]
  },
  {
   "cell_type": "code",
   "execution_count": null,
   "metadata": {
    "collapsed": false
   },
   "outputs": [],
   "source": [
    "# 复数\n",
    "a = 3+4j\n",
    "print(a)"
   ]
  },
  {
   "cell_type": "code",
   "execution_count": null,
   "metadata": {
    "collapsed": false
   },
   "outputs": [],
   "source": [
    "print('real:',a.real, '   imag:',a.imag)"
   ]
  },
  {
   "cell_type": "code",
   "execution_count": null,
   "metadata": {
    "collapsed": false
   },
   "outputs": [],
   "source": [
    "a.conjugate() "
   ]
  },
  {
   "cell_type": "markdown",
   "metadata": {},
   "source": [
    "### 1.4.4  字符串\n",
    "用单引号、双引号或三引号括起来的符号系列称为字符串,单引号、双引号、三单引号、三双引号可以互相嵌套，用来表示复杂字符串。\n",
    "'abc'、'123'、'中国'、\"Python\""
   ]
  },
  {
   "cell_type": "code",
   "execution_count": null,
   "metadata": {
    "collapsed": false
   },
   "outputs": [],
   "source": [
    "type('中国')"
   ]
  },
  {
   "cell_type": "code",
   "execution_count": null,
   "metadata": {
    "collapsed": false
   },
   "outputs": [],
   "source": [
    "# 1. 字符串合并\n",
    "a='abc' + '123'\n",
    "print(a)"
   ]
  },
  {
   "cell_type": "code",
   "execution_count": null,
   "metadata": {
    "collapsed": false
   },
   "outputs": [],
   "source": [
    "# 2. 字符串格式化\n",
    "a = 3.6674\n",
    "'%7.3f' % a"
   ]
  },
  {
   "cell_type": "code",
   "execution_count": null,
   "metadata": {
    "collapsed": false
   },
   "outputs": [],
   "source": [
    "\"%d:%c\"%(65,65)"
   ]
  },
  {
   "cell_type": "code",
   "execution_count": null,
   "metadata": {
    "collapsed": false
   },
   "outputs": [],
   "source": [
    "\"\"\"My name is %s, and my age is %d\"\"\"%('Dong Fuguo',38)"
   ]
  },
  {
   "cell_type": "markdown",
   "metadata": {},
   "source": [
    "转义字符\n",
    "\\n：换行符\n",
    "\\t：制表符\n",
    "\\r：回车\n",
    "\\’：单引号\n",
    "\\”：双引号\n",
    "\\\\：一个\\\n",
    "\\ddd：3位八进制数对应的字符\n",
    "\\xhh：2位十六进制数对应的字符\n",
    " 字符串界定符前面加字母r表示原始字符串，其中的特殊字符不进行转义，但字符串的最后一个字符不能是\\。"
   ]
  },
  {
   "cell_type": "code",
   "execution_count": null,
   "metadata": {
    "collapsed": false
   },
   "outputs": [],
   "source": [
    "print('\\t*\\t*\\t*\\t*\\t*\\t*\\t*')\n"
   ]
  },
  {
   "cell_type": "markdown",
   "metadata": {},
   "source": [
    "### 1.4.5  操作符和表达式\n",
    "Python语言支持以下类型的运算符:\n",
    "* 算术运算符\n",
    "* 比较（关系）运算符\n",
    "* 赋值运算符\n",
    "* 逻辑运算符\n",
    "* 位运算符\n",
    "* 成员运算符\n",
    "* 身份运算符\n",
    "* 运算符优先级\n",
    "\n",
    "3/5\n",
    "3//5\n",
    "3.0/5\n",
    "3.0//5\n",
    "13//10\n",
    "-13//10"
   ]
  },
  {
   "cell_type": "code",
   "execution_count": null,
   "metadata": {
    "collapsed": false
   },
   "outputs": [],
   "source": [
    "3/5"
   ]
  },
  {
   "cell_type": "raw",
   "metadata": {},
   "source": [
    ">>> 3.1%2\n",
    "1.1\n",
    ">>> 6.3%2.1\n",
    "2.0999999999999996\n",
    ">>> 6%2\n",
    "0\n",
    ">>> 6.0%2\n",
    "0.0\n",
    ">>> 6.0%2.0\n",
    "0.0\n",
    ">>> 5.7%4.8"
   ]
  },
  {
   "cell_type": "code",
   "execution_count": null,
   "metadata": {
    "collapsed": true
   },
   "outputs": [],
   "source": []
  },
  {
   "cell_type": "raw",
   "metadata": {},
   "source": [
    "Python中很多运算符有多重含义，在程序中运算符的具体含义取决于操作数的类型，将在后面章节中根据内容组织的需要陆续进行展开。例如“*”运算符就是Python运算符中比较特殊的一个，它不仅可以用于数值乘法，还可以用于列表、字符串、元组等类型，当列表、字符串或元组等类型变量与整数进行“*”运算时，表示对内容进行重复并返回重复后的新对象。\n",
    ">>> 3*2 #整数相乘\n",
    "6\n",
    ">>> 2.0*3 #浮点数与整数相乘\n",
    "6.0\n",
    ">>> (3+4j)*2 #复数与整数相乘\n",
    "(6+8j)\n",
    ">>> (3+4j)*(3-4j) #复数与复数相乘\n",
    "(25+0j)\n",
    ">>> \"a\"*10 #字符串重复\n",
    "'aaaaaaaaaa'\n",
    ">>> [1,2,3]*3 #列表重复\n",
    "[1, 2, 3, 1, 2, 3, 1, 2, 3]\n",
    ">>> (1,2,3)*3 #元组重复\n",
    "(1, 2, 3, 1, 2, 3, 1, 2, 3)"
   ]
  },
  {
   "cell_type": "code",
   "execution_count": null,
   "metadata": {
    "collapsed": false
   },
   "outputs": [],
   "source": [
    "2.0*3"
   ]
  },
  {
   "cell_type": "markdown",
   "metadata": {},
   "source": [
    "### 1.4.5  操作符和表达式"
   ]
  },
  {
   "cell_type": "code",
   "execution_count": null,
   "metadata": {
    "collapsed": true
   },
   "outputs": [],
   "source": [
    "a = [1,2,3]\n",
    "b = [4,5,6]\n",
    "c = a+b"
   ]
  },
  {
   "cell_type": "code",
   "execution_count": null,
   "metadata": {
    "collapsed": false
   },
   "outputs": [],
   "source": [
    "c"
   ]
  },
  {
   "cell_type": "code",
   "execution_count": null,
   "metadata": {
    "collapsed": false
   },
   "outputs": [],
   "source": [
    "d = list(map(str, c))\n",
    "d"
   ]
  },
  {
   "cell_type": "code",
   "execution_count": null,
   "metadata": {
    "collapsed": false
   },
   "outputs": [],
   "source": [
    "import math\n",
    "list(map(math.sin, c))"
   ]
  },
  {
   "cell_type": "code",
   "execution_count": null,
   "metadata": {
    "collapsed": false
   },
   "outputs": [],
   "source": [
    "'Hello' + ' ' + 'world'"
   ]
  },
  {
   "cell_type": "code",
   "execution_count": null,
   "metadata": {
    "collapsed": false
   },
   "outputs": [],
   "source": [
    "'welcome ' * 3"
   ]
  },
  {
   "cell_type": "code",
   "execution_count": null,
   "metadata": {
    "collapsed": false
   },
   "outputs": [],
   "source": [
    "('welcome,'*3).rstrip(',')+'!'"
   ]
  },
  {
   "cell_type": "markdown",
   "metadata": {},
   "source": [
    "### 1.4.5  操作符和表达式\n",
    "在Python中逗号“,”并不是运算符，而只是一个普通分隔符。"
   ]
  },
  {
   "cell_type": "code",
   "execution_count": null,
   "metadata": {
    "collapsed": false
   },
   "outputs": [],
   "source": [
    "'a' in 'b', 'a'"
   ]
  },
  {
   "cell_type": "code",
   "execution_count": null,
   "metadata": {
    "collapsed": false
   },
   "outputs": [],
   "source": [
    "'a' in ('b', 'a')"
   ]
  },
  {
   "cell_type": "code",
   "execution_count": null,
   "metadata": {
    "collapsed": false
   },
   "outputs": [],
   "source": [
    "x = 3, 5\n",
    "x"
   ]
  },
  {
   "cell_type": "code",
   "execution_count": null,
   "metadata": {
    "collapsed": false
   },
   "outputs": [],
   "source": [
    "x = 3+5, 7\n",
    "x"
   ]
  },
  {
   "cell_type": "markdown",
   "metadata": {},
   "source": [
    "### 1.4.6  常用内置函数\n",
    "* 内置函数不需要导入任何模块即可使用\n",
    "* 执行下面的命令可以列出所有内置函数"
   ]
  },
  {
   "cell_type": "code",
   "execution_count": null,
   "metadata": {
    "collapsed": true
   },
   "outputs": [],
   "source": [
    "dir(__builtins__)"
   ]
  },
  {
   "cell_type": "markdown",
   "metadata": {
    "collapsed": true
   },
   "source": [
    "### 1.4.6  常用内置函数"
   ]
  },
  {
   "cell_type": "markdown",
   "metadata": {
    "collapsed": true
   },
   "source": [
    "ord()和chr()是一对功能相反的函数，ord()用来返回单个字符的序数或Unicode码，而chr()则用来返回某序数对应的字符，str()则直接将其任意类型参数转换为字符串。"
   ]
  },
  {
   "cell_type": "code",
   "execution_count": null,
   "metadata": {
    "collapsed": false
   },
   "outputs": [],
   "source": [
    "ord('a')"
   ]
  },
  {
   "cell_type": "code",
   "execution_count": null,
   "metadata": {
    "collapsed": false
   },
   "outputs": [],
   "source": [
    "chr(65)"
   ]
  },
  {
   "cell_type": "code",
   "execution_count": null,
   "metadata": {
    "collapsed": false
   },
   "outputs": [],
   "source": [
    "chr(ord('A')+1)"
   ]
  },
  {
   "cell_type": "code",
   "execution_count": null,
   "metadata": {
    "collapsed": false
   },
   "outputs": [],
   "source": [
    "str(1)"
   ]
  },
  {
   "cell_type": "code",
   "execution_count": null,
   "metadata": {
    "collapsed": false
   },
   "outputs": [],
   "source": [
    "str(1234)"
   ]
  },
  {
   "cell_type": "code",
   "execution_count": null,
   "metadata": {
    "collapsed": false
   },
   "outputs": [],
   "source": [
    "str([1,2,3])"
   ]
  },
  {
   "cell_type": "code",
   "execution_count": null,
   "metadata": {
    "collapsed": false
   },
   "outputs": [],
   "source": [
    "str((1,2,3))"
   ]
  },
  {
   "cell_type": "code",
   "execution_count": null,
   "metadata": {
    "collapsed": false
   },
   "outputs": [],
   "source": [
    "str({1,2,3})"
   ]
  },
  {
   "cell_type": "markdown",
   "metadata": {},
   "source": [
    "max()、min()、sum()这三个内置函数分别用于计算列表、元组或其他可迭代对象中所有元素最大值、最小值以及所有元素之和，sum()只支持数值型元素的序列或可迭代对象，max()和min()则要求序列或可迭代对象中的元素之间可比较大小。例如下面的示例代码，首先使用列表推导式生成包含10个随机数的列表，然后分别计算该列表的最大值、最小值和所有元素之和。"
   ]
  },
  {
   "cell_type": "code",
   "execution_count": null,
   "metadata": {
    "collapsed": false
   },
   "outputs": [],
   "source": [
    "import random\n",
    "a = [random.randint(1,100) for i in range(10)]\n",
    "print(a)"
   ]
  },
  {
   "cell_type": "code",
   "execution_count": null,
   "metadata": {
    "collapsed": false
   },
   "outputs": [],
   "source": [
    "print(max(a), min(a), sum(a))"
   ]
  },
  {
   "cell_type": "code",
   "execution_count": null,
   "metadata": {
    "collapsed": false
   },
   "outputs": [],
   "source": [
    "# 如果需要计算该列表中的所有元素的平均值，可以直接使用下面的方法：\n",
    "a = [72, 26, 80, 65, 34, 86, 19, 74, 52, 40]\n",
    "sum(a)/len(a)"
   ]
  },
  {
   "cell_type": "markdown",
   "metadata": {},
   "source": [
    "### 1.4.7  对象的删除\n",
    "可以使用del命令来显式删除对象并解除与值之间的指向关系。删除对象时，如果其指向的值还有别的变量指向则不删除该值，如果删除对象后该值不再有其他变量指向，则删除该值。"
   ]
  },
  {
   "cell_type": "code",
   "execution_count": null,
   "metadata": {
    "collapsed": false
   },
   "outputs": [],
   "source": [
    "x = [1,2,3,4,5,6]\n",
    "y = 3\n",
    "z = y\n",
    "print(y)"
   ]
  },
  {
   "cell_type": "code",
   "execution_count": null,
   "metadata": {
    "collapsed": false
   },
   "outputs": [],
   "source": [
    "del y #删除对象\n",
    "print(y)"
   ]
  },
  {
   "cell_type": "code",
   "execution_count": null,
   "metadata": {
    "collapsed": false
   },
   "outputs": [],
   "source": [
    "del x[1] #删除列表中指定元素\n",
    "print(x)"
   ]
  },
  {
   "cell_type": "code",
   "execution_count": null,
   "metadata": {
    "collapsed": false
   },
   "outputs": [],
   "source": [
    "del x #删除整个列表\n",
    "print(x)"
   ]
  },
  {
   "cell_type": "code",
   "execution_count": null,
   "metadata": {
    "collapsed": false
   },
   "outputs": [],
   "source": [
    "# del命令无法删除元组或字符串中的指定元素，而只可以删除整个元组或字符串，因为这两者均属于不可变序列。\n",
    "x = (1,2,3)\n",
    "del x[1]"
   ]
  },
  {
   "cell_type": "code",
   "execution_count": null,
   "metadata": {
    "collapsed": false
   },
   "outputs": [],
   "source": [
    "del x\n",
    "print(x)"
   ]
  },
  {
   "cell_type": "markdown",
   "metadata": {},
   "source": [
    "### 1.4.8 基本输入输出\n",
    "用Python进行程序设计，输入是通过input( )函数来实现的，imput( )的一般格式为：\n",
    "x=input('提示：')\n",
    "该函数返回输入的对象。可输入数字、字符串和其它任意类型对象。\n",
    "注意Python2 和 Python3 的区别"
   ]
  },
  {
   "cell_type": "code",
   "execution_count": null,
   "metadata": {
    "collapsed": false
   },
   "outputs": [],
   "source": [
    "x = input(\"Please input:\")\n",
    "print(type(x))"
   ]
  },
  {
   "cell_type": "markdown",
   "metadata": {},
   "source": [
    "### 1.4.8 基本输入输出\n",
    "Python 2.x和Python 3.x的输出方法也不完全一致。在Python 2.x中，使用print语句进行输出，而Python 3.x中使用print()函数进行输出。"
   ]
  },
  {
   "cell_type": "code",
   "execution_count": null,
   "metadata": {
    "collapsed": false
   },
   "outputs": [],
   "source": [
    "print('hello world!')"
   ]
  },
  {
   "cell_type": "code",
   "execution_count": null,
   "metadata": {
    "collapsed": false
   },
   "outputs": [],
   "source": [
    "for i in range(10,20):\n",
    "    print(i, end=' ')"
   ]
  },
  {
   "cell_type": "code",
   "execution_count": null,
   "metadata": {
    "collapsed": true
   },
   "outputs": [],
   "source": [
    "fp = open(r'test.txt', 'a+')\n",
    "print('Hello,world!', file = fp)\n",
    "fp.close()"
   ]
  },
  {
   "cell_type": "markdown",
   "metadata": {},
   "source": [
    "### 1.4.9  模块的使用\n",
    "* import 模块名\n",
    "* from 模块名 import 对象名[ as 别名] "
   ]
  },
  {
   "cell_type": "code",
   "execution_count": null,
   "metadata": {
    "collapsed": false
   },
   "outputs": [],
   "source": [
    "import math\n",
    "math.sin(0.5)               #求0.5的正弦"
   ]
  },
  {
   "cell_type": "code",
   "execution_count": null,
   "metadata": {
    "collapsed": true
   },
   "outputs": [],
   "source": [
    "import random\n",
    "x=random.random( )    #获得[0,1) 内的随机小数\n",
    "y=random.random( )\n",
    "n=random.randint(1,100) #获得[1,100]上的随机整数"
   ]
  },
  {
   "cell_type": "code",
   "execution_count": null,
   "metadata": {
    "collapsed": false
   },
   "outputs": [],
   "source": [
    "y"
   ]
  },
  {
   "cell_type": "code",
   "execution_count": null,
   "metadata": {
    "collapsed": false
   },
   "outputs": [],
   "source": [
    "from math import sin\n",
    "sin(3)"
   ]
  },
  {
   "cell_type": "code",
   "execution_count": null,
   "metadata": {
    "collapsed": false
   },
   "outputs": [],
   "source": [
    "from math import sin as f #别名\n",
    "f(3)"
   ]
  },
  {
   "cell_type": "code",
   "execution_count": null,
   "metadata": {
    "collapsed": false
   },
   "outputs": [],
   "source": [
    "print(__name__)"
   ]
  },
  {
   "cell_type": "code",
   "execution_count": null,
   "metadata": {
    "collapsed": false
   },
   "outputs": [],
   "source": [
    "import helloworld"
   ]
  },
  {
   "cell_type": "code",
   "execution_count": null,
   "metadata": {
    "collapsed": false
   },
   "outputs": [],
   "source": [
    "import this"
   ]
  },
  {
   "cell_type": "code",
   "execution_count": null,
   "metadata": {
    "collapsed": true
   },
   "outputs": [],
   "source": []
  }
 ],
 "metadata": {
  "kernelspec": {
   "display_name": "Python [Root]",
   "language": "python",
   "name": "Python [Root]"
  },
  "language_info": {
   "codemirror_mode": {
    "name": "ipython",
    "version": 3
   },
   "file_extension": ".py",
   "mimetype": "text/x-python",
   "name": "python",
   "nbconvert_exporter": "python",
   "pygments_lexer": "ipython3",
   "version": "3.5.2"
  },
  "nbpresent": {
   "slides": {
    "076c9976-54a7-41a9-a146-e6558ce9645f": {
     "id": "076c9976-54a7-41a9-a146-e6558ce9645f",
     "prev": "8352f004-fc5c-4356-87e5-74fcab1313c7",
     "regions": {
      "767fdf8f-4a96-4c24-b128-2b7a8ea92771": {
       "attrs": {
        "height": 0.8,
        "width": 0.8,
        "x": 0.1,
        "y": 0.1
       },
       "content": {
        "cell": "8c196e70-ca4b-483a-af52-02aa7e5ce2d5",
        "part": "whole"
       },
       "id": "767fdf8f-4a96-4c24-b128-2b7a8ea92771"
      }
     }
    },
    "095e68c1-ee77-408a-b366-4fdf7a044a26": {
     "id": "095e68c1-ee77-408a-b366-4fdf7a044a26",
     "prev": "f31a06c2-4bd0-4025-b45f-86bc2ccaf5a8",
     "regions": {
      "4a2c303b-ae30-4727-ade4-4a4e4bd04615": {
       "attrs": {
        "height": 0.8,
        "width": 0.8,
        "x": 0.1,
        "y": 0.1
       },
       "content": {
        "cell": "1c3f33c0-a16e-4897-9823-1171f54d98fd",
        "part": "whole"
       },
       "id": "4a2c303b-ae30-4727-ade4-4a4e4bd04615"
      }
     }
    },
    "0baf0d42-70e6-4909-8ab8-fe58de8b1af8": {
     "id": "0baf0d42-70e6-4909-8ab8-fe58de8b1af8",
     "prev": "75ee5331-a65a-48a9-8658-555aa2e32ff4",
     "regions": {
      "45a09c01-697d-45f6-952d-87113a6c58f3": {
       "attrs": {
        "height": 0.8,
        "width": 0.8,
        "x": 0.1,
        "y": 0.1
       },
       "content": {
        "cell": "b5ee5a59-7b7a-44f7-8c57-40ad6a3024d1",
        "part": "whole"
       },
       "id": "45a09c01-697d-45f6-952d-87113a6c58f3"
      }
     }
    },
    "23da4b94-7721-4726-a24d-c090e7c4299e": {
     "id": "23da4b94-7721-4726-a24d-c090e7c4299e",
     "prev": "f0ba23b3-84cf-4711-ae7a-e3f8b0425139",
     "regions": {
      "52ffa8ed-0c74-43e5-9f19-e60b4d242f3e": {
       "attrs": {
        "height": 0.8,
        "width": 0.8,
        "x": 0.1,
        "y": 0.1
       },
       "content": {
        "cell": "b33b63cd-58bc-4729-bcb7-a83601f547f4",
        "part": "whole"
       },
       "id": "52ffa8ed-0c74-43e5-9f19-e60b4d242f3e"
      }
     }
    },
    "25fe3752-299e-42a5-8544-5b383e0b4fe8": {
     "id": "25fe3752-299e-42a5-8544-5b383e0b4fe8",
     "prev": "2fd311ec-eed8-4202-8437-6d601d55858e",
     "regions": {
      "9fba1844-a7f0-4367-ac1d-449624b29c18": {
       "attrs": {
        "height": 0.8,
        "width": 0.8,
        "x": 0.1,
        "y": 0.1
       },
       "content": {
        "cell": "d30fb555-0860-4cfe-b00b-fb356cd89247",
        "part": "whole"
       },
       "id": "9fba1844-a7f0-4367-ac1d-449624b29c18"
      }
     }
    },
    "279ae467-8f08-4526-87c1-f138e3e3a44a": {
     "id": "279ae467-8f08-4526-87c1-f138e3e3a44a",
     "prev": "92f9a854-5865-4bf3-8654-c3962a6aba63",
     "regions": {
      "22acff47-c60d-4045-91a6-d69420b6c4d3": {
       "attrs": {
        "height": 0.8,
        "width": 0.8,
        "x": 0.1,
        "y": 0.1
       },
       "content": {
        "cell": "dd55284d-1ef6-40c6-b961-669e3a9726be",
        "part": "whole"
       },
       "id": "22acff47-c60d-4045-91a6-d69420b6c4d3"
      }
     }
    },
    "2ea7f57e-8237-4834-8192-e402066968d8": {
     "id": "2ea7f57e-8237-4834-8192-e402066968d8",
     "prev": "c0680380-7d72-4d55-ae14-9c40b95eec3c",
     "regions": {
      "4290118b-8573-4b46-b032-490aa54d129f": {
       "attrs": {
        "height": 0.8,
        "width": 0.8,
        "x": 0.1,
        "y": 0.1
       },
       "content": {
        "cell": "061f9e5f-ed5f-42bc-8175-1b3722b9614c",
        "part": "whole"
       },
       "id": "4290118b-8573-4b46-b032-490aa54d129f"
      }
     }
    },
    "2fd311ec-eed8-4202-8437-6d601d55858e": {
     "id": "2fd311ec-eed8-4202-8437-6d601d55858e",
     "prev": null,
     "regions": {
      "0d70dbfa-a3bf-4873-8ca3-38d3b479b957": {
       "attrs": {
        "height": 0.8,
        "width": 0.8,
        "x": 0.1,
        "y": 0.1
       },
       "content": {
        "cell": "c1c2e822-66ec-4da4-8f16-bdc3a191041c",
        "part": "whole"
       },
       "id": "0d70dbfa-a3bf-4873-8ca3-38d3b479b957"
      }
     }
    },
    "35c050d7-f88c-4e71-9727-a6b6738f7271": {
     "id": "35c050d7-f88c-4e71-9727-a6b6738f7271",
     "prev": "076c9976-54a7-41a9-a146-e6558ce9645f",
     "regions": {
      "23f9c34b-47f7-4363-925e-7a24ee755c5b": {
       "attrs": {
        "height": 0.8,
        "width": 0.8,
        "x": 0.1,
        "y": 0.1
       },
       "content": {
        "cell": "b74d19b7-fe32-4089-8588-9a762e0fec67",
        "part": "whole"
       },
       "id": "23f9c34b-47f7-4363-925e-7a24ee755c5b"
      }
     }
    },
    "430e01db-31f6-4556-bcba-3789c00c50d4": {
     "id": "430e01db-31f6-4556-bcba-3789c00c50d4",
     "prev": "c1151834-f920-456f-9127-19959928593e",
     "regions": {
      "34351773-eb77-431d-9e92-0d3ca9ce48d3": {
       "attrs": {
        "height": 0.8,
        "width": 0.8,
        "x": 0.1,
        "y": 0.1
       },
       "content": {
        "cell": "b55b375e-00eb-4cdf-a4e7-ce500050618e",
        "part": "whole"
       },
       "id": "34351773-eb77-431d-9e92-0d3ca9ce48d3"
      }
     }
    },
    "4b6f34d9-87b6-47fa-863d-2518d22d890e": {
     "id": "4b6f34d9-87b6-47fa-863d-2518d22d890e",
     "prev": "0baf0d42-70e6-4909-8ab8-fe58de8b1af8",
     "regions": {
      "2532ae84-7325-40de-b074-2cfd4069b95d": {
       "attrs": {
        "height": 0.8,
        "width": 0.8,
        "x": 0.1,
        "y": 0.1
       },
       "content": {
        "cell": "205254fa-3f3e-4924-8c7a-1c0ed2120759",
        "part": "whole"
       },
       "id": "2532ae84-7325-40de-b074-2cfd4069b95d"
      }
     }
    },
    "5c2997ec-3f08-4199-b3e2-b66dd348f64c": {
     "id": "5c2997ec-3f08-4199-b3e2-b66dd348f64c",
     "prev": "279ae467-8f08-4526-87c1-f138e3e3a44a",
     "regions": {
      "bf476476-4b42-476a-bb11-9e68e3427d0e": {
       "attrs": {
        "height": 0.8,
        "width": 0.8,
        "x": 0.1,
        "y": 0.1
       },
       "content": {
        "cell": "2c28d26c-9bf4-4fbe-91f3-f1f7bd205695",
        "part": "whole"
       },
       "id": "bf476476-4b42-476a-bb11-9e68e3427d0e"
      }
     }
    },
    "610870dc-015c-40cc-8dd1-21f9300b3042": {
     "id": "610870dc-015c-40cc-8dd1-21f9300b3042",
     "prev": "7eb4e966-6272-4b51-89c0-0cdb39fcff76",
     "regions": {
      "38cd27d3-8454-40ad-b23b-342816186c73": {
       "attrs": {
        "height": 0.8,
        "width": 0.8,
        "x": 0.1,
        "y": 0.1
       },
       "content": {
        "cell": "431ac605-8ce0-4a00-bc93-db3ef6f05346",
        "part": "whole"
       },
       "id": "38cd27d3-8454-40ad-b23b-342816186c73"
      }
     }
    },
    "75ee5331-a65a-48a9-8658-555aa2e32ff4": {
     "id": "75ee5331-a65a-48a9-8658-555aa2e32ff4",
     "prev": "5c2997ec-3f08-4199-b3e2-b66dd348f64c",
     "regions": {
      "6aa653da-2d01-44a8-885a-fd3347ecbfd6": {
       "attrs": {
        "height": 0.8,
        "width": 0.8,
        "x": 0.1,
        "y": 0.1
       },
       "content": {
        "cell": "ce755f19-b993-4ce7-973d-88a496363802",
        "part": "whole"
       },
       "id": "6aa653da-2d01-44a8-885a-fd3347ecbfd6"
      }
     }
    },
    "766077ac-8497-4e55-9d60-d3628b928af0": {
     "id": "766077ac-8497-4e55-9d60-d3628b928af0",
     "prev": "eaca9c8d-1992-44fd-944d-502faa580521",
     "regions": {
      "c3109bff-bce0-4f49-8a14-e19ac064c04c": {
       "attrs": {
        "height": 0.8,
        "width": 0.8,
        "x": 0.1,
        "y": 0.1
       },
       "content": {
        "cell": "48fa2e60-4577-4bd4-95a8-3974dc3802b4",
        "part": "whole"
       },
       "id": "c3109bff-bce0-4f49-8a14-e19ac064c04c"
      }
     }
    },
    "7eb4e966-6272-4b51-89c0-0cdb39fcff76": {
     "id": "7eb4e966-6272-4b51-89c0-0cdb39fcff76",
     "prev": "864b084c-3102-425e-89ae-290b893a063c",
     "regions": {
      "38a63cf6-b396-448d-8716-28c02ceca6b1": {
       "attrs": {
        "height": 0.8,
        "width": 0.8,
        "x": 0.1,
        "y": 0.1
       },
       "content": {
        "cell": "6862d590-9e78-4b90-aa96-234556f8c4c0",
        "part": "whole"
       },
       "id": "38a63cf6-b396-448d-8716-28c02ceca6b1"
      }
     }
    },
    "8352f004-fc5c-4356-87e5-74fcab1313c7": {
     "id": "8352f004-fc5c-4356-87e5-74fcab1313c7",
     "prev": "dbcb98c5-f53a-44f1-9a43-6cdf37d0d92a",
     "regions": {
      "d5b3584e-6243-4711-8a64-cf20a55ba374": {
       "attrs": {
        "height": 0.8,
        "width": 0.8,
        "x": 0.1,
        "y": 0.1
       },
       "content": {
        "cell": "d4d9056f-33fa-41d9-ab0e-979baa38ae11",
        "part": "whole"
       },
       "id": "d5b3584e-6243-4711-8a64-cf20a55ba374"
      }
     }
    },
    "864b084c-3102-425e-89ae-290b893a063c": {
     "id": "864b084c-3102-425e-89ae-290b893a063c",
     "prev": "8b41d780-1476-4122-8783-6805b0aa967e",
     "regions": {
      "599dfebd-0562-4d0a-b40a-c0e254cce3e1": {
       "attrs": {
        "height": 0.8,
        "width": 0.8,
        "x": 0.1,
        "y": 0.1
       },
       "content": {
        "cell": "5d40aba3-56c3-423f-b749-3c71027adb7e",
        "part": "whole"
       },
       "id": "599dfebd-0562-4d0a-b40a-c0e254cce3e1"
      }
     }
    },
    "8b41d780-1476-4122-8783-6805b0aa967e": {
     "id": "8b41d780-1476-4122-8783-6805b0aa967e",
     "prev": "25fe3752-299e-42a5-8544-5b383e0b4fe8",
     "regions": {
      "3a4a9cd5-7ab5-4c9e-9924-ac741910a6eb": {
       "attrs": {
        "height": 0.8,
        "width": 0.8,
        "x": 0.1,
        "y": 0.1
       },
       "content": {
        "cell": "0558de3e-faa6-44e3-b4a1-a13ba6e987f3",
        "part": "whole"
       },
       "id": "3a4a9cd5-7ab5-4c9e-9924-ac741910a6eb"
      }
     }
    },
    "92f9a854-5865-4bf3-8654-c3962a6aba63": {
     "id": "92f9a854-5865-4bf3-8654-c3962a6aba63",
     "prev": "f622787e-7e44-496f-b828-2ac8b7d437c7",
     "regions": {
      "bd19aaa5-3b96-47c2-a20e-116dcf7d4332": {
       "attrs": {
        "height": 0.8,
        "width": 0.8,
        "x": 0.1,
        "y": 0.1
       },
       "content": {
        "cell": "d39b18a0-1d2e-461c-905f-90c64cc2f010",
        "part": "whole"
       },
       "id": "bd19aaa5-3b96-47c2-a20e-116dcf7d4332"
      }
     }
    },
    "9da5e4ae-a12f-4a14-ae6c-d7209bb538ee": {
     "id": "9da5e4ae-a12f-4a14-ae6c-d7209bb538ee",
     "prev": "095e68c1-ee77-408a-b366-4fdf7a044a26",
     "regions": {
      "021d5fee-c625-4d7f-899a-12bee73dac17": {
       "attrs": {
        "height": 0.8,
        "width": 0.8,
        "x": 0.1,
        "y": 0.1
       },
       "content": {
        "cell": "b38daa6d-ca01-41af-98fb-4fdb0b348196",
        "part": "whole"
       },
       "id": "021d5fee-c625-4d7f-899a-12bee73dac17"
      }
     }
    },
    "c0680380-7d72-4d55-ae14-9c40b95eec3c": {
     "id": "c0680380-7d72-4d55-ae14-9c40b95eec3c",
     "prev": "23da4b94-7721-4726-a24d-c090e7c4299e",
     "regions": {
      "93cbc9d8-2228-461c-b9fa-f938503eddf7": {
       "attrs": {
        "height": 0.8,
        "width": 0.8,
        "x": 0.1,
        "y": 0.1
       },
       "content": {
        "cell": "207fecda-24e5-45f2-9d1d-80e77bc8ce5d",
        "part": "whole"
       },
       "id": "93cbc9d8-2228-461c-b9fa-f938503eddf7"
      }
     }
    },
    "c1151834-f920-456f-9127-19959928593e": {
     "id": "c1151834-f920-456f-9127-19959928593e",
     "prev": "2ea7f57e-8237-4834-8192-e402066968d8",
     "regions": {
      "70c95bfa-9c8b-4611-8fa0-da7d7a978127": {
       "attrs": {
        "height": 0.8,
        "width": 0.8,
        "x": 0.1,
        "y": 0.1
       },
       "content": {
        "cell": "a288c896-cf1e-489d-8393-005dbd9a6e31",
        "part": "whole"
       },
       "id": "70c95bfa-9c8b-4611-8fa0-da7d7a978127"
      }
     }
    },
    "d56bef29-f4f0-4634-9c64-93fc51e315db": {
     "id": "d56bef29-f4f0-4634-9c64-93fc51e315db",
     "prev": "430e01db-31f6-4556-bcba-3789c00c50d4",
     "regions": {
      "10df9b64-c2cc-43d7-8a76-467fda57a26b": {
       "attrs": {
        "height": 0.8,
        "width": 0.8,
        "x": 0.1,
        "y": 0.1
       },
       "content": {
        "cell": "13229133-256e-4193-8e89-92bba82c1b65",
        "part": "whole"
       },
       "id": "10df9b64-c2cc-43d7-8a76-467fda57a26b"
      }
     }
    },
    "dbcb98c5-f53a-44f1-9a43-6cdf37d0d92a": {
     "id": "dbcb98c5-f53a-44f1-9a43-6cdf37d0d92a",
     "prev": "f26a8711-7ff8-4ca1-92e0-ab49b3fd0d53",
     "regions": {
      "8dadb6eb-8f48-42f1-9f54-8ebc4202710a": {
       "attrs": {
        "height": 0.8,
        "width": 0.8,
        "x": 0.1,
        "y": 0.1
       },
       "content": {
        "cell": "dbfec81a-3508-4181-a0a8-63a5a0ba36e9",
        "part": "whole"
       },
       "id": "8dadb6eb-8f48-42f1-9f54-8ebc4202710a"
      }
     }
    },
    "eaca9c8d-1992-44fd-944d-502faa580521": {
     "id": "eaca9c8d-1992-44fd-944d-502faa580521",
     "prev": "9da5e4ae-a12f-4a14-ae6c-d7209bb538ee",
     "regions": {
      "2374d23f-b612-4abd-9af7-d17e12a3f4e9": {
       "attrs": {
        "height": 0.8,
        "width": 0.8,
        "x": 0.1,
        "y": 0.1
       },
       "content": {
        "cell": "2a371d23-ee58-49b4-a900-b26346b65850",
        "part": "whole"
       },
       "id": "2374d23f-b612-4abd-9af7-d17e12a3f4e9"
      }
     }
    },
    "f0ba23b3-84cf-4711-ae7a-e3f8b0425139": {
     "id": "f0ba23b3-84cf-4711-ae7a-e3f8b0425139",
     "prev": "610870dc-015c-40cc-8dd1-21f9300b3042",
     "regions": {
      "c5a11ee5-c9c6-4f88-824d-5f09a8f59ef6": {
       "attrs": {
        "height": 0.8,
        "width": 0.8,
        "x": 0.1,
        "y": 0.1
       },
       "content": {
        "cell": "f32dc4ce-b919-49f0-ab24-0a0ca3667e49",
        "part": "whole"
       },
       "id": "c5a11ee5-c9c6-4f88-824d-5f09a8f59ef6"
      }
     }
    },
    "f26a8711-7ff8-4ca1-92e0-ab49b3fd0d53": {
     "id": "f26a8711-7ff8-4ca1-92e0-ab49b3fd0d53",
     "prev": "4b6f34d9-87b6-47fa-863d-2518d22d890e",
     "regions": {
      "3939363b-5329-4150-81ef-5d97939a9d93": {
       "attrs": {
        "height": 0.8,
        "width": 0.8,
        "x": 0.1,
        "y": 0.1
       },
       "content": {
        "cell": "57d8379c-d31d-4722-8b54-1a9b523f432e",
        "part": "whole"
       },
       "id": "3939363b-5329-4150-81ef-5d97939a9d93"
      }
     }
    },
    "f31a06c2-4bd0-4025-b45f-86bc2ccaf5a8": {
     "id": "f31a06c2-4bd0-4025-b45f-86bc2ccaf5a8",
     "prev": "d56bef29-f4f0-4634-9c64-93fc51e315db",
     "regions": {
      "3021582c-08d4-46bf-abca-8ce2782c8ce0": {
       "attrs": {
        "height": 0.8,
        "width": 0.8,
        "x": 0.1,
        "y": 0.1
       },
       "content": {
        "cell": "9933c21e-5fb6-41ea-81a6-91cedd730a9d",
        "part": "whole"
       },
       "id": "3021582c-08d4-46bf-abca-8ce2782c8ce0"
      }
     }
    },
    "f622787e-7e44-496f-b828-2ac8b7d437c7": {
     "id": "f622787e-7e44-496f-b828-2ac8b7d437c7",
     "prev": "766077ac-8497-4e55-9d60-d3628b928af0",
     "regions": {
      "c636db04-6b99-4227-81b5-1ad3cec62fb3": {
       "attrs": {
        "height": 0.8,
        "width": 0.8,
        "x": 0.1,
        "y": 0.1
       },
       "content": {
        "cell": "de607b6d-98ad-421c-895c-b36b3fc1b500",
        "part": "whole"
       },
       "id": "c636db04-6b99-4227-81b5-1ad3cec62fb3"
      }
     }
    }
   },
   "themes": {}
  }
 },
 "nbformat": 4,
 "nbformat_minor": 0
}

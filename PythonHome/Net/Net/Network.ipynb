{
 "cells": [
  {
   "cell_type": "markdown",
   "metadata": {},
   "source": [
    "# HTTP 协议\n"
   ]
  },
  {
   "cell_type": "markdown",
   "metadata": {},
   "source": [
    "#### 编码与解码"
   ]
  },
  {
   "cell_type": "code",
   "execution_count": 164,
   "metadata": {},
   "outputs": [
    {
     "data": {
      "text/plain": [
       "bytes"
      ]
     },
     "execution_count": 164,
     "metadata": {},
     "output_type": "execute_result"
    }
   ],
   "source": [
    "type(b'')"
   ]
  },
  {
   "cell_type": "code",
   "execution_count": 163,
   "metadata": {},
   "outputs": [
    {
     "data": {
      "text/plain": [
       "str"
      ]
     },
     "execution_count": 163,
     "metadata": {},
     "output_type": "execute_result"
    }
   ],
   "source": [
    "type('')"
   ]
  },
  {
   "cell_type": "code",
   "execution_count": 165,
   "metadata": {},
   "outputs": [
    {
     "data": {
      "text/plain": [
       "b'\\xe4\\xb8\\xad\\xe5\\x9b\\xbdabc'"
      ]
     },
     "execution_count": 165,
     "metadata": {},
     "output_type": "execute_result"
    }
   ],
   "source": [
    "\"中国abc\".encode(\"utf-8\")"
   ]
  },
  {
   "cell_type": "code",
   "execution_count": 4,
   "metadata": {},
   "outputs": [
    {
     "data": {
      "text/plain": [
       "b'\\xd6\\xd0\\xb9\\xfaabc'"
      ]
     },
     "execution_count": 4,
     "metadata": {},
     "output_type": "execute_result"
    }
   ],
   "source": [
    "\"中国abc\".encode(\"gbk\")"
   ]
  },
  {
   "cell_type": "code",
   "execution_count": 5,
   "metadata": {},
   "outputs": [
    {
     "data": {
      "text/plain": [
       "b'\\xff\\xfe-N\\xfdVa\\x00b\\x00c\\x00'"
      ]
     },
     "execution_count": 5,
     "metadata": {},
     "output_type": "execute_result"
    }
   ],
   "source": [
    "\"中国abc\".encode(\"utf_16\")"
   ]
  },
  {
   "cell_type": "code",
   "execution_count": 5,
   "metadata": {},
   "outputs": [
    {
     "data": {
      "text/plain": [
       "'fffe2d4efd56610062006300'"
      ]
     },
     "execution_count": 5,
     "metadata": {},
     "output_type": "execute_result"
    }
   ],
   "source": [
    "\"中国abc\".encode(\"utf_16\").hex()"
   ]
  },
  {
   "cell_type": "markdown",
   "metadata": {},
   "source": [
    "#### socket 方式访问页面"
   ]
  },
  {
   "cell_type": "code",
   "execution_count": 171,
   "metadata": {},
   "outputs": [],
   "source": [
    "import socket"
   ]
  },
  {
   "cell_type": "code",
   "execution_count": 172,
   "metadata": {},
   "outputs": [],
   "source": [
    "sock_client = socket.socket(family=socket.AF_INET, type=socket.SOCK_STREAM)"
   ]
  },
  {
   "cell_type": "code",
   "execution_count": 173,
   "metadata": {},
   "outputs": [],
   "source": [
    "sock_client.connect((\"www.hdu.edu.cn\", 80))"
   ]
  },
  {
   "cell_type": "code",
   "execution_count": 174,
   "metadata": {},
   "outputs": [],
   "source": [
    "pathname = \"/news/important_26525\"\n",
    "hostname = \"www.hdu.edu.cn\"\n",
    "req_line = \"GET {0} HTTP/1.0\\r\\nHost: {1}\\r\\n\\r\\n\".format(pathname, hostname);"
   ]
  },
  {
   "cell_type": "code",
   "execution_count": 175,
   "metadata": {},
   "outputs": [
    {
     "name": "stdout",
     "output_type": "stream",
     "text": [
      "GET /news/important_26525 HTTP/1.0\n",
      "Host: www.hdu.edu.cn\n",
      "\n",
      "\n"
     ]
    }
   ],
   "source": [
    "print(req_line)"
   ]
  },
  {
   "cell_type": "code",
   "execution_count": 176,
   "metadata": {},
   "outputs": [
    {
     "data": {
      "text/plain": [
       "60"
      ]
     },
     "execution_count": 176,
     "metadata": {},
     "output_type": "execute_result"
    }
   ],
   "source": [
    "sock_client.send(req_line.encode(encoding=\"utf-8\"))"
   ]
  },
  {
   "cell_type": "code",
   "execution_count": 177,
   "metadata": {},
   "outputs": [],
   "source": [
    "raw_reply = b''\n",
    "while True:\n",
    "    more = sock_client.recv(8192)\n",
    "    if not more:\n",
    "        break\n",
    "    raw_reply += more "
   ]
  },
  {
   "cell_type": "code",
   "execution_count": 178,
   "metadata": {},
   "outputs": [],
   "source": [
    "sock_client.close()"
   ]
  },
  {
   "cell_type": "code",
   "execution_count": 180,
   "metadata": {
    "collapsed": true,
    "jupyter": {
     "outputs_hidden": true
    }
   },
   "outputs": [
    {
     "name": "stdout",
     "output_type": "stream",
     "text": [
      "HTTP/1.1 200 OK\n",
      "Date: Thu, 05 Nov 2020 11:48:43 GMT\n",
      "Server: Apache/2.4.6 (CentOS) PHP/5.4.16\n",
      "X-Powered-By: PHP/5.4.16\n",
      "Set-Cookie: ci_session=a%3A5%3A%7Bs%3A10%3A%22session_id%22%3Bs%3A32%3A%22d35b93bade1c107765a07a63b8a6f7bd%22%3Bs%3A10%3A%22ip_address%22%3Bs%3A15%3A%22192.168.100.137%22%3Bs%3A10%3A%22user_agent%22%3Bb%3A0%3Bs%3A13%3A%22last_activity%22%3Bi%3A1604576923%3Bs%3A9%3A%22user_data%22%3Bs%3A0%3A%22%22%3B%7D472dcc7bc35e2423abde96fff7b7b065c06ed127; expires=Thu, 05-Nov-2020 12:48:43 GMT; path=/\n",
      "Content-Type: text/html; charset=UTF-8\n",
      "X-Cache: MISS from wwwcache1.hdu.edu.cn\n",
      "Via: 1.1 wwwcache1.hdu.edu.cn (squid/3.5.26)\n",
      "Connection: close\n",
      "\n",
      "\n",
      "\n",
      "\n",
      "\n",
      "<!--$news 当前新闻内容-->\n",
      "<!--$page 当前页面-->\n",
      "<!--$total_page 总页面-->\n",
      "<!--$count 总数量-->\n",
      "<!--$limit 每页数量（定死为13）-->\n",
      "<!--$class 当前分类信息-->\n",
      "<!--$news_list 文章列表-->\n",
      "<!--$year 当前选中年份-->\n",
      "<!--$year_list 年份列表-->\n",
      "<!DOCTYPE html>\n",
      "<html lang=\"en\">\n",
      "<head>\n",
      "    <meta charset=\"UTF-8\">\n",
      "    <title>杭电新闻</title>\n",
      "    <!-- For IE top version load-->\n",
      "    <meta http-equiv=\"X-UA-Compatible\" content=\"IE=edge\">\n",
      "    <!-- 双核浏览器条件下 默认用极速核 -->\n",
      "    <meta name=\"renderer\" content=\"webkit\">\n",
      "    <meta name=\"viewport\" content=\"maximum-scale=1, user-scalable=yes, width=device-width\">\n",
      "    <meta name=\"keywords\" content=\"杭电,新闻,杭电新闻,教育,浙江重点大学\">\n",
      "    <meta name=\"description\" content=\"杭州电子科技大学,浙江重点大学,重点大学,综合性大学... 红色家园 教工之家 杭电青年 学生会 杭电校报 杭电之声 国际合作交流 学生交流。\">\n",
      "\n",
      "    <!-- CSS Code -->\n",
      "    <link rel=\"stylesheet\" href=\"/asset/news_v2/css/web_style.css?v=2.0\" type=\"text/css\">\n",
      "    <link rel=\"stylesheet\" href=\"/asset/news_v2/css/pages/general_find.css?v=2.0\" type=\"text/css\">\n",
      "    <!-- JavaScript Code -->\n",
      "    <script src=\"/asset/news_v2/js/jquery.min.js?v=2.0\"></script>\n",
      "    <script type=\"text/javascript\">  \n",
      "    if ( navigator.userAgent.match(/(phone|pad|pod|iPhone|iPod|ios|iPad|Android|Mobile|BlackBerry|IEMobile|MQQBrowser|JUC|Fennec|wOSBrowser|BrowserNG|WebOS|Symbian|Windows Phone)/i) ){\n",
      "        window.location.href = \"http://m.hdu.edu.cn/mobile/index/news_detail?news_id=26525\";\n",
      "    }\n",
      "    window.onresize = function(){\n",
      "        if( $(window).width() < 480 )window.location.href = \"http://m.hdu.edu.cn/mobile/index/news_detail?news_id=26525\";\n",
      "    };\n",
      "    </script>\n",
      "</head>\n",
      "<!--\n",
      "    类命名规则 布局（grid）（.g-）；\n",
      "    模块（module）（.m-）；\n",
      "    元件（unit）（.u-）；\n",
      "    功能（function）（.f-）；\n",
      "    皮肤（skin）（.s-）；\n",
      "    状态（.z-）。\n",
      "     -->\n",
      "<body bgcolor=\"#fff\">\n",
      "    <!-- 主要内容 -->\n",
      "    <div class=\"main\">\n",
      "        <div class='t-top'>\n",
      "            <div class='c'>\n",
      "                <h6><a href=\"/\">杭电首页</a></h6>\n",
      "            </div>\n",
      "        </div>\n",
      "        <div class=\"m-wrap\">\n",
      "            <div class='header c'>\n",
      "                <div class='logo fl'>\n",
      "                    <a href='/news'><img src='/asset/news_v2/image/logo.png?v=2.0' alt='logo'></a>\n",
      "                </div>\n",
      "                <div class='news fl'></div>\n",
      "                <div class='fr'>\n",
      "                    <p>2020年11月</p>\n",
      "                    <h1>05</h1>\n",
      "                    <p>星期四</p>\n",
      "                    <p id=\"lunar\"></p>\n",
      "                    <script src=\"/asset/news_v2/js/calendar.js?v=2.0\"></script>\n",
      "                    <script>\n",
      "                        var calendar = showCal(); \n",
      "                        $(\"#lunar\").html(calendar);\n",
      "                    </script>\n",
      "                </div>\n",
      "            </div>\n",
      "            <div class=\"f-nav c\" style='height: 60px;'>\n",
      "                <ul>\n",
      "                    <li data=\"index\"><a href=\"/news\">网站首页</a></li>\n",
      "                    <li data=\"branch\"><a href=\"/news/branch\">部门简介</a></li>\n",
      "                    <li data=\"important\"><a href=\"/news/important\">杭电新闻</a></li>\n",
      "                    <li data=\"theory\"><a href=\"/news/theory\">理论学习</a></li>\n",
      "                    <li data=\"superiorfile\"><a href=\"/news/superiorfile\">规章制度</a></li>\n",
      "                    <li data=\"work\"><a href=\"/news/work\">网上办事</a></li>\n",
      "                    <li data=\"departmentnotice\"><a href=\"/news/departmentnotice\">部门通知</a></li>\n",
      "                    <li ><a href='/admin'  target='_blank'>在线投稿</a></li>                   \n",
      "                </ul>\n",
      "                <script>\n",
      "                    var topClass=\"important\";\n",
      "                    for(var t=0;t<$('.f-nav ul li').length;t++){\n",
      "                        if($('.f-nav ul li:eq('+t+')').attr('data')===topClass){\n",
      "                            $('.f-nav ul li:eq('+t+')').addClass('cur');\n",
      "                        }\n",
      "                    }\n",
      "                </script>\n",
      "                <input placeholder='请输入您想要的内容' id='find' maxlength='100'>\n",
      "                <div class=\"error\">\n",
      "                    <img src='/asset/news_v2/image/icon-error.png?v=2.0' alt='error'>\n",
      "                </div>\n",
      "                <div class=\"search\">\n",
      "                    <img src='/asset/news_v2/image/icon-search.png?v=2.0' alt='search'>\n",
      "                </div>\n",
      "            </div>\n",
      "            <div class=\"content c\">\n",
      "                <div class='aside'>\n",
      "                    <div class=\"m-news\">\n",
      "                        <div class=\"title\">\n",
      "                            <h1>杭电要闻</h1>\n",
      "                            <h2 class=\"clear\">\n",
      "                                <span class=\"fl\">important</span>\n",
      "                            </h2>\n",
      "                        </div>\n",
      "                        <div class=\"time-list\">\n",
      "                            <div class=\"clear\">\n",
      "                                <div class=\"mt\">\n",
      "                                    <span class=\"curTime\" show=\"0\"><font>2020</font><div class=\"cate\"></div></span>\n",
      "                                    <div class=\"year scrollBar hide\">\n",
      "                                        <div class='ym'>2020</div><div class='ym'>2019</div><div class='ym'>2018</div><div class='ym'>2017</div><div class='ym'>2016</div><div class='ym'>2015</div><div class='ym'>2014</div><div class='ym'>2013</div><div class='ym'>2012</div><div class='ym'>2011</div><div class='ym'>2010</div><div class='ym'>2009</div><div class='ym'>2008</div><div class='ym'>2007</div><div class='ym'>2006</div><div class='ym'>2005</div><div class='ym'>2004</div><div class='ym'>2003</div>                                    </div>\n",
      "                                </div>\n",
      "                                <div class=\"md\">\n",
      "                                    <div class='mm' check='0'>1</div><div class='mm' check='0'>2</div><div class='mm' check='0'>3</div><div class='mm' check='0'>4</div><div class='mm' check='0'>5</div><div class='mm' check='0'>6</div><div class='mm' check='0'>7</div><div class='mm' check='0'>8</div><div class='mm' check='0'>9</div><div class='mm' check='0'>10</div><div class='mm' check='0'>11</div><div class='mm' check='0'>12</div>                                </div>\n",
      "                            </div>\n",
      "                        </div>\n",
      "                        <ul>\n",
      "                            <li data-id=27554><div class='move'></div><div class='con'>我校第四次学生代表大会、第九次研究生代表大会隆重召开</div><div class='time'>10-31</div></li><li data-id=27553><div class='move'></div><div class='con'>中国共产党第十九届中央委员会第五次全体会议公报</div><div class='time'>10-30</div></li><li data-id=27535><div class='move'></div><div class='con'>浙江省委常委、宣传部部长朱国贤一行来校调研</div><div class='time'>10-27</div></li><li data-id=27528><div class='move'></div><div class='con'>我校师生联合开发146个软件，编写200万行代码—— 构建智慧校园赋能人才培养</div><div class='time'>10-26</div></li><li data-id=27525><div class='move'></div><div class='con'>校第三十八届田径运动会圆满落幕</div><div class='time'>10-25</div></li><li data-id=27518><div class='move'></div><div class='con'>校党委召开理论学习中心组专题学习会</div><div class='time'>10-22</div></li><li data-id=27511><div class='move'></div><div class='con'>中国电子信息行业联合会专家委主任来校作学术报告</div><div class='time'>10-21</div></li><li data-id=27508><div class='move'></div><div class='con'>浙江省发展改革委领导来校调研指导消费扶贫工作</div><div class='time'>10-20</div></li><li data-id=27505><div class='move'></div><div class='con'>校领导应邀参加首届拉美中国创新日活动</div><div class='time'>10-19</div></li><li data-id=27503><div class='move'></div><div class='con'>省教育厅副书记干武东一行来我校调研指导</div><div class='time'>10-19</div></li><li data-id=27499><div class='move'></div><div class='con'>我校与华为签约共建“智能基座”产教融合协同育人基地</div><div class='time'>10-16</div></li><li data-id=27495><div class='move'></div><div class='con'>习近平：年轻干部要提高解决实际问题能力 想干事能干事干成事</div><div class='time'>10-13</div></li><li data-id=27488><div class='move'></div><div class='con'>校廉政文化月活动暨“青春杭电”第二届清廉修身文化节开幕</div><div class='time'>10-09</div></li>                        </ul>\n",
      "                        <div class=\"page\">\n",
      "                            <a class='cur' href='/news/important_26525?page=1&year=2020&month='>1</a><a href='/news/important_26525?page=2&year=2020&month='>2</a><a href='/news/important_26525?page=3&year=2020&month='>3</a><a href='/news/important_26525?page=4&year=2020&month='>4</a><a href='/news/important_26525?page=5&year=2020&month='>5</a><a href='/news/important_26525?page=6&year=2020&month='>6</a><a href='/news/important_26525?page=2&year=2020&month='>下页</a>                         </div>\n",
      "                    </div>\n",
      "                    <div class=\"qr clear\">\n",
      "                        <div class=\"fl\">\n",
      "                            <img src=\"/asset/news_v2/image/hdu-weixinqr.jpg?v=2.0\" alt=\"网易\">\n",
      "                            <p>杭州电子科技大学官方微信</p>\n",
      "                        </div>\n",
      "                        <div class=\"fr\">\n",
      "                            <img src=\"/asset/news_v2/image/hdu-weiboqr.jpg?v=2.0\" alt=\"网易\">\n",
      "                            <p>杭州电子科技大学官方微博</p>\n",
      "                        </div>\n",
      "                    </div>\n",
      "                </div>\n",
      "                <div class='article'>\n",
      "                    <div class=\"title\">\n",
      "                        我校专场数字经济领域人才项目路演对接会在义乌举行                    </div>\n",
      "                    <div style=\"float: right;color: #0056bc;font-size: 16px;\">\n",
      "                                            </div>\n",
      "                    <div class=\"instr\">\n",
      "                        作者：admin     来源：学校新闻部1     时间：2019-10-13     点击量：14211                    </div>\n",
      "                    <div class=\"con\">\n",
      "                        <p>&nbsp;&nbsp;&nbsp;&nbsp;&nbsp; &nbsp;10月12日下午，由省委人才办、省人力社保厅和杭州电子科技大学联合举办的浙江省专家服务企业高质量发展专项活动暨数字经济领域人才项目路演对接会在义乌举行。省人力资源和社会保障厅副厅长葛平安、杭州电子科技大学副校长吕金海、金华市委组织部副部长、人力资源和社会保障局局长褚惠斌、义乌市委常委、组织部部长何若伟、义乌市副市长贾文红等出席此次会议，我校办公室、人力资源部、宣传部、产学研合作处、机械学院等部门和学院代表及部分数字领域专家和各地企业代表参加会议。</p><p>&nbsp; &nbsp; &nbsp; &nbsp;葛平安在致辞中提出，要在合作内容和合作形式上不断创新，要以人才带项目，以项目带人才，借高校之力服务企业，借企业之力反哺高校，各地人力社保部门积极地促进项目落地。</p><p>&nbsp;&nbsp;&nbsp;&nbsp;&nbsp; &nbsp;吕金海表示，杭电与义乌的渊源由来已久，近年来双方在科技合作和人才培养合作方面更是互动频繁。这次杭电组织了60多位专家教授带着最新、最前沿的技术项目齐聚这里，代表着双方的合作进入了更全面、更深入、更实质的新阶段。</p><p>&nbsp;&nbsp;&nbsp;&nbsp;&nbsp; &nbsp;何若伟指出，实现义乌高科技企业蓬勃发展的关键在科技，根本在人才。希望杭电在数字经济领域中的突出科学优势，能在义乌全球自由贸易中发挥作用。</p><p style=\"text-align: center;\"><img src=\"/uploads/news/images/20191013/1570961661704039.jpg\" title=\"1570961661704039.jpg\" alt=\"图片 2_meitu_2.jpg\"/>&nbsp;</p><p>&nbsp;&nbsp;&nbsp;&nbsp;&nbsp; &nbsp;在与义乌市人才项目合作签约仪式上，我校机械学院和义乌研究院分别与义乌市上溪镇共同签订人才培养协议和科技服务协议，我校三位专家则与企业签订了技术合作协议。</p><p style=\"text-align: center;\"><img src=\"/uploads/news/images/20191013/1570962293722178.jpg\" title=\"1570962293722178.jpg\" alt=\"图片 3_meitu_8.jpg\"/></p><p>&nbsp;&nbsp;&nbsp;&nbsp;&nbsp; &nbsp;在随后的人才项目路演推介会上，我校陈科明、林志赟、吕永桂、简志华、张祥泉、徐小良、任彧、韩伟等专家分别带来了物联网、人工智能、艺术设计、大数据、材料与环境工程等领域的路演项目。</p><p style=\"text-align: center;\"><img src=\"/uploads/news/images/20191013/1570961707151413.jpg\" title=\"1570961707151413.jpg\" alt=\"图片 4_meitu_4.jpg\"/></p><p><br/></p><p style=\"text-align: center;\"><img src=\"/uploads/news/images/20191013/1570961719882252.jpg\" title=\"1570961719882252.jpg\" alt=\"图片 5_meitu_5.jpg\"/></p><p>&nbsp;&nbsp;&nbsp;&nbsp;&nbsp; &nbsp;据了解，为了让这场对接会更具成效，我校精心遴选了“数字经济”领域科技项目1023个，其中科技成果技术项目70个，可转让发明专利项目953个，涵盖装备制造、人工智能、物理通信、电力配电、大数据、无人机、芯片等关键技术。活动现场，我校带来了8个路演项目和143个现场洽谈项目，与全省153家企业进行了洽谈对接。此次对接会是“浙江省专家服务企业高质量发展专项活动”的系列活动，旨在践行省委“三服务”活动要求，精准服务企业高质量发展，为我校科研成果商业落地提供了有效平台，也是我校践行“不忘初心 牢记使命”主题教育的活动之一。（校新闻中心）</p><p style=\"text-align: center;\"><img src=\"/uploads/news/images/20191013/1570961733951547.jpg\" title=\"1570961733951547.jpg\" alt=\"图片 6_meitu_6.jpg\"/></p>                    </div>\n",
      "                </div>\n",
      "            </div>\n",
      "            <div class=\"cooper c\">\n",
      "                <ul>\n",
      "                    <li alt=\"网易\" data-href=\"http://dy.163.com/v2/media/search?word=%BA%BC%D6%DD%B5%E7%D7%D3%BF%C6%BC%BC%B4%F3%D1%A7&cid=\" \n",
      "                        data-image='/asset/news_v2/image/bottom01-r.jpg?v=2.0' data-default='/asset/news_v2/image/bottom01.jpg?v=2.0'>\n",
      "                        <img src='/asset/news_v2/image/bottom01.jpg?v=2.0'>\n",
      "                    </li>\n",
      "                    <li alt=\"头条\" data-href=\"https://www.toutiao.com/c/user/6596331691/#mid=6596331691\" \n",
      "                        data-image='/asset/news_v2/image/bottom02-r.jpg?v=2.0' data-default='/asset/news_v2/image/bottom02.jpg?v=2.0'>\n",
      "                        <img src='/asset/news_v2/image/bottom02.jpg?v=2.0'>\n",
      "                    </li>\n",
      "                    <li alt=\"微博\" data-href=\"https://weibo.com/hzhdu?refer_flag=1001030103_\" \n",
      "                        data-image='/asset/news_v2/image/bottom03-r.jpg?v=2.0' data-default='/asset/news_v2/image/bottom03.jpg?v=2.0'>\n",
      "                        <img src='/asset/news_v2/image/bottom03.jpg?v=2.0'>\n",
      "                    </li>\n",
      "                    <li alt=\"红色家园\" data-href=\"http://cas.hdu.edu.cn/cas/login?service=http%3A%2F%2F106.14.9.60%3A3000%2Fcommon%2FgetTicket\" \n",
      "                        data-image='/asset/news_v2/image/bottom05-r.jpg?v=2.0' data-default='/asset/news_v2/image/bottom05.jpg?v=2.0'>\n",
      "                        <img src='/asset/news_v2/image/bottom05.jpg?v=2.0'>\n",
      "                    </li>\n",
      "                </ul>\n",
      "            </div>\n",
      "        </div>\n",
      "        <div class='footer'>\n",
      "            <p>杭州电子科技大学党委宣传部　版权所有　杭州电子科技大学新闻中心维护</p>\n",
      "            <p>浙ICP备12028388号　推荐使用Google浏览器、火狐浏览器、360浏览器（极速模式）</p>\n",
      "        </div>\n",
      "    </div>\n",
      "<script type=\"text/javascript\">\n",
      "    $('.aside .m-news li,.article .m-comp li,.article .m-media li').mouseenter(function () {\n",
      "        $(this).addClass('cur');\n",
      "        $(this).children().addClass('cur');\n",
      "    }).mouseleave(function(){\n",
      "        $(this).removeClass('cur');\n",
      "        $(this).children().removeClass('cur');\n",
      "    });\n",
      "    $('.f-nav .search').click(function(){\n",
      "        $('#find').show(0);\n",
      "        $('#find').focus();\n",
      "        $('.f-nav .error').show(0);\n",
      "        $('.f-nav ul').hide(0);\n",
      "        $('.f-nav .search').hide(0);\n",
      "    });\n",
      "    $('.f-nav .error').click(function(){\n",
      "        $('#find').val('');\n",
      "        $('#find').hide(0);\n",
      "        $('.f-nav .error').hide(0);\n",
      "        $('.f-nav ul').show(0);\n",
      "        $('.f-nav .search').show(0);\n",
      "    });\n",
      "    $('#find').keyup(function(event){\n",
      "        if(event.keyCode ===13){\n",
      "            window.location.href=\"/news/search?advanced=true&keyword=\"+$.trim($(this).val())+\"\";\n",
      "        }\n",
      "    });\n",
      "    \n",
      "    $('.cooper li').mouseenter(function () {\n",
      "        $(this).children('img').attr('src',$(this).attr('data-image'));\n",
      "    }).mouseleave(function(){\n",
      "        $(this).children('img').attr('src',$(this).attr('data-default'));\n",
      "    });\n",
      "\n",
      "    $('.aside .curTime').click(function(event){\n",
      "        if($(this).attr('show')==='0'){\n",
      "            $(this).children('.cate').css('transform','rotate(180deg)')\n",
      "            $(this).siblings('.year').slideDown(200);\n",
      "            $(this).attr('show','1');\n",
      "        }else{\n",
      "            $(this).children('.cate').css('transform','rotate(0deg)')\n",
      "            $(this).siblings('.year').slideUp(200);\n",
      "            $(this).attr('show','0');\n",
      "        }\n",
      "        event.stopPropagation();\n",
      "    });\n",
      "    $('.aside .year .ym').click(function(event){\n",
      "        $('.aside .curTime font').html($(this).text());\n",
      "        $('.aside .curTime .cate').css('transform','rotate(0deg)')\n",
      "        $('.aside .year').slideUp(200);\n",
      "        $('.aside .curTime').attr('show','0');\n",
      "        event.stopPropagation();\n",
      "    });\n",
      "    $(document).click(function(){\n",
      "        $('.aside .curTime .cate').css('transform','rotate(0deg)')\n",
      "        $('.aside .year').slideUp(200);\n",
      "        $('.aside .curTime').attr('show','0');\n",
      "    });\n",
      "    $('.cooper li').click(function(){\n",
      "        window.location.href=$(this).attr('data-href');\n",
      "    });\n",
      "\n",
      "    function gofor(element){\n",
      "        $(element).click(function(){\n",
      "            window.location.href=\"/news/important_\"+$(this).attr('data-id')+\"?page=1&year=2020&month=\";\n",
      "        });\n",
      "    }\n",
      "    gofor('.aside .m-news li');\n",
      "    $('.aside .time-list .mm').click(function(){\n",
      "        if($(this).attr('check')==='1'){\n",
      "            window.location.href=\"/news/important_26525?page=1&year=2020\";\n",
      "        }else{\n",
      "            window.location.href=\"/news/important_26525?page=1&year=2020&month=\"+$(this).text()+\"\";\n",
      "        }\n",
      "    });\n",
      "\n",
      "    $('.aside .time-list .ym').click(function(){\n",
      "        window.location.href=\"/news/important_26525?page=1&year=\"+$(this).text()+\"&month=\";\n",
      "    });\n",
      "\n",
      "</script>\n",
      "</body>\n",
      "</html>\n",
      "\n"
     ]
    }
   ],
   "source": [
    "print(raw_reply.decode())"
   ]
  },
  {
   "cell_type": "code",
   "execution_count": 15,
   "metadata": {
    "collapsed": true,
    "jupyter": {
     "outputs_hidden": true
    }
   },
   "outputs": [
    {
     "name": "stdout",
     "output_type": "stream",
     "text": [
      "HTTP/1.1 200 OK\n",
      "Date: Thu, 05 Nov 2020 09:00:52 GMT\n",
      "Server: Apache/2.4.6 (CentOS) PHP/5.4.16\n",
      "X-Powered-By: PHP/5.4.16\n",
      "Set-Cookie: ci_session=a%3A5%3A%7Bs%3A10%3A%22session_id%22%3Bs%3A32%3A%223bedac8792e15879b6642cb78dc2604d%22%3Bs%3A10%3A%22ip_address%22%3Bs%3A15%3A%22192.168.161.119%22%3Bs%3A10%3A%22user_agent%22%3Bb%3A0%3Bs%3A13%3A%22last_activity%22%3Bi%3A1604566852%3Bs%3A9%3A%22user_data%22%3Bs%3A0%3A%22%22%3B%7D2e6d69116ef7ef5178ac480a01a79a7fcdda7ac5; expires=Thu, 05-Nov-2020 10:00:52 GMT; path=/\n",
      "Connection: close\n",
      "Content-Type: text/html; charset=UTF-8\n",
      "\n",
      "\n",
      "\n",
      "\n",
      "\n",
      "<!--$news 当前新闻内容-->\n",
      "<!--$page 当前页面-->\n",
      "<!--$total_page 总页面-->\n",
      "<!--$count 总数量-->\n",
      "<!--$limit 每页数量（定死为13）-->\n",
      "<!--$class 当前分类信息-->\n",
      "<!--$news_list 文章列表-->\n",
      "<!--$year 当前选中年份-->\n",
      "<!--$year_list 年份列表-->\n",
      "<!DOCTYPE html>\n",
      "<html lang=\"en\">\n",
      "<head>\n",
      "    <meta charset=\"UTF-8\">\n",
      "    <title>杭电新闻</title>\n",
      "    <!-- For IE top version load-->\n",
      "    <meta http-equiv=\"X-UA-Compatible\" content=\"IE=edge\">\n",
      "    <!-- 双核浏览器条件下 默认用极速核 -->\n",
      "    <meta name=\"renderer\" content=\"webkit\">\n",
      "    <meta name=\"viewport\" content=\"maximum-scale=1, user-scalable=yes, width=device-width\">\n",
      "    <meta name=\"keywords\" content=\"杭电,新闻,杭电新闻,教育,浙江重点大学\">\n",
      "    <meta name=\"description\" content=\"杭州电子科技大学,浙江重点大学,重点大学,综合性大学... 红色家园 教工之家 杭电青年 学生会 杭电校报 杭电之声 国际合作交流 学生交流。\">\n",
      "\n",
      "    <!-- CSS Code -->\n",
      "    <link rel=\"stylesheet\" href=\"/asset/news_v2/css/web_style.css?v=2.0\" type=\"text/css\">\n",
      "    <link rel=\"stylesheet\" href=\"/asset/news_v2/css/pages/general_find.css?v=2.0\" type=\"text/css\">\n",
      "    <!-- JavaScript Code -->\n",
      "    <script src=\"/asset/news_v2/js/jquery.min.js?v=2.0\"></script>\n",
      "    <script type=\"text/javascript\">  \n",
      "    if ( navigator.userAgent.match(/(phone|pad|pod|iPhone|iPod|ios|iPad|Android|Mobile|BlackBerry|IEMobile|MQQBrowser|JUC|Fennec|wOSBrowser|BrowserNG|WebOS|Symbian|Windows Phone)/i) ){\n",
      "        window.location.href = \"http://m.hdu.edu.cn/mobile/index/news_detail?news_id=26525\";\n",
      "    }\n",
      "    window.onresize = function(){\n",
      "        if( $(window).width() < 480 )window.location.href = \"http://m.hdu.edu.cn/mobile/index/news_detail?news_id=26525\";\n",
      "    };\n",
      "    </script>\n",
      "</head>\n",
      "<!--\n",
      "    类命名规则 布局（grid）（.g-）；\n",
      "    模块（module）（.m-）；\n",
      "    元件（unit）（.u-）；\n",
      "    功能（function）（.f-）；\n",
      "    皮肤（skin）（.s-）；\n",
      "    状态（.z-）。\n",
      "     -->\n",
      "<body bgcolor=\"#fff\">\n",
      "    <!-- 主要内容 -->\n",
      "    <div class=\"main\">\n",
      "        <div class='t-top'>\n",
      "            <div class='c'>\n",
      "                <h6><a href=\"/\">杭电首页</a></h6>\n",
      "            </div>\n",
      "        </div>\n",
      "        <div class=\"m-wrap\">\n",
      "            <div class='header c'>\n",
      "                <div class='logo fl'>\n",
      "                    <a href='/news'><img src='/asset/news_v2/image/logo.png?v=2.0' alt='logo'></a>\n",
      "                </div>\n",
      "                <div class='news fl'></div>\n",
      "                <div class='fr'>\n",
      "                    <p>2020年11月</p>\n",
      "                    <h1>05</h1>\n",
      "                    <p>星期四</p>\n",
      "                    <p id=\"lunar\"></p>\n",
      "                    <script src=\"/asset/news_v2/js/calendar.js?v=2.0\"></script>\n",
      "                    <script>\n",
      "                        var calendar = showCal(); \n",
      "                        $(\"#lunar\").html(calendar);\n",
      "                    </script>\n",
      "                </div>\n",
      "            </div>\n",
      "            <div class=\"f-nav c\" style='height: 60px;'>\n",
      "                <ul>\n",
      "                    <li data=\"index\"><a href=\"/news\">网站首页</a></li>\n",
      "                    <li data=\"branch\"><a href=\"/news/branch\">部门简介</a></li>\n",
      "                    <li data=\"important\"><a href=\"/news/important\">杭电新闻</a></li>\n",
      "                    <li data=\"theory\"><a href=\"/news/theory\">理论学习</a></li>\n",
      "                    <li data=\"superiorfile\"><a href=\"/news/superiorfile\">规章制度</a></li>\n",
      "                    <li data=\"work\"><a href=\"/news/work\">网上办事</a></li>\n",
      "                    <li data=\"departmentnotice\"><a href=\"/news/departmentnotice\">部门通知</a></li>\n",
      "                    <li ><a href='/admin'  target='_blank'>在线投稿</a></li>                   \n",
      "                </ul>\n",
      "                <script>\n",
      "                    var topClass=\"important\";\n",
      "                    for(var t=0;t<$('.f-nav ul li').length;t++){\n",
      "                        if($('.f-nav ul li:eq('+t+')').attr('data')===topClass){\n",
      "                            $('.f-nav ul li:eq('+t+')').addClass('cur');\n",
      "                        }\n",
      "                    }\n",
      "                </script>\n",
      "                <input placeholder='请输入您想要的内容' id='find' maxlength='100'>\n",
      "                <div class=\"error\">\n",
      "                    <img src='/asset/news_v2/image/icon-error.png?v=2.0' alt='error'>\n",
      "                </div>\n",
      "                <div class=\"search\">\n",
      "                    <img src='/asset/news_v2/image/icon-search.png?v=2.0' alt='search'>\n",
      "                </div>\n",
      "            </div>\n",
      "            <div class=\"content c\">\n",
      "                <div class='aside'>\n",
      "                    <div class=\"m-news\">\n",
      "                        <div class=\"title\">\n",
      "                            <h1>杭电要闻</h1>\n",
      "                            <h2 class=\"clear\">\n",
      "                                <span class=\"fl\">important</span>\n",
      "                            </h2>\n",
      "                        </div>\n",
      "                        <div class=\"time-list\">\n",
      "                            <div class=\"clear\">\n",
      "                                <div class=\"mt\">\n",
      "                                    <span class=\"curTime\" show=\"0\"><font>2020</font><div class=\"cate\"></div></span>\n",
      "                                    <div class=\"year scrollBar hide\">\n",
      "                                        <div class='ym'>2020</div><div class='ym'>2019</div><div class='ym'>2018</div><div class='ym'>2017</div><div class='ym'>2016</div><div class='ym'>2015</div><div class='ym'>2014</div><div class='ym'>2013</div><div class='ym'>2012</div><div class='ym'>2011</div><div class='ym'>2010</div><div class='ym'>2009</div><div class='ym'>2008</div><div class='ym'>2007</div><div class='ym'>2006</div><div class='ym'>2005</div><div class='ym'>2004</div><div class='ym'>2003</div>                                    </div>\n",
      "                                </div>\n",
      "                                <div class=\"md\">\n",
      "                                    <div class='mm' check='0'>1</div><div class='mm' check='0'>2</div><div class='mm' check='0'>3</div><div class='mm' check='0'>4</div><div class='mm' check='0'>5</div><div class='mm' check='0'>6</div><div class='mm' check='0'>7</div><div class='mm' check='0'>8</div><div class='mm' check='0'>9</div><div class='mm' check='0'>10</div><div class='mm' check='0'>11</div><div class='mm' check='0'>12</div>                                </div>\n",
      "                            </div>\n",
      "                        </div>\n",
      "                        <ul>\n",
      "                            <li data-id=27554><div class='move'></div><div class='con'>我校第四次学生代表大会、第九次研究生代表大会隆重召开</div><div class='time'>10-31</div></li><li data-id=27553><div class='move'></div><div class='con'>中国共产党第十九届中央委员会第五次全体会议公报</div><div class='time'>10-30</div></li><li data-id=27535><div class='move'></div><div class='con'>浙江省委常委、宣传部部长朱国贤一行来校调研</div><div class='time'>10-27</div></li><li data-id=27528><div class='move'></div><div class='con'>我校师生联合开发146个软件，编写200万行代码—— 构建智慧校园赋能人才培养</div><div class='time'>10-26</div></li><li data-id=27525><div class='move'></div><div class='con'>校第三十八届田径运动会圆满落幕</div><div class='time'>10-25</div></li><li data-id=27518><div class='move'></div><div class='con'>校党委召开理论学习中心组专题学习会</div><div class='time'>10-22</div></li><li data-id=27511><div class='move'></div><div class='con'>中国电子信息行业联合会专家委主任来校作学术报告</div><div class='time'>10-21</div></li><li data-id=27508><div class='move'></div><div class='con'>浙江省发展改革委领导来校调研指导消费扶贫工作</div><div class='time'>10-20</div></li><li data-id=27505><div class='move'></div><div class='con'>校领导应邀参加首届拉美中国创新日活动</div><div class='time'>10-19</div></li><li data-id=27503><div class='move'></div><div class='con'>省教育厅副书记干武东一行来我校调研指导</div><div class='time'>10-19</div></li><li data-id=27499><div class='move'></div><div class='con'>我校与华为签约共建“智能基座”产教融合协同育人基地</div><div class='time'>10-16</div></li><li data-id=27495><div class='move'></div><div class='con'>习近平：年轻干部要提高解决实际问题能力 想干事能干事干成事</div><div class='time'>10-13</div></li><li data-id=27488><div class='move'></div><div class='con'>校廉政文化月活动暨“青春杭电”第二届清廉修身文化节开幕</div><div class='time'>10-09</div></li>                        </ul>\n",
      "                        <div class=\"page\">\n",
      "                            <a class='cur' href='/news/important_26525?page=1&year=2020&month='>1</a><a href='/news/important_26525?page=2&year=2020&month='>2</a><a href='/news/important_26525?page=3&year=2020&month='>3</a><a href='/news/important_26525?page=4&year=2020&month='>4</a><a href='/news/important_26525?page=5&year=2020&month='>5</a><a href='/news/important_26525?page=6&year=2020&month='>6</a><a href='/news/important_26525?page=2&year=2020&month='>下页</a>                         </div>\n",
      "                    </div>\n",
      "                    <div class=\"qr clear\">\n",
      "                        <div class=\"fl\">\n",
      "                            <img src=\"/asset/news_v2/image/hdu-weixinqr.jpg?v=2.0\" alt=\"网易\">\n",
      "                            <p>杭州电子科技大学官方微信</p>\n",
      "                        </div>\n",
      "                        <div class=\"fr\">\n",
      "                            <img src=\"/asset/news_v2/image/hdu-weiboqr.jpg?v=2.0\" alt=\"网易\">\n",
      "                            <p>杭州电子科技大学官方微博</p>\n",
      "                        </div>\n",
      "                    </div>\n",
      "                </div>\n",
      "                <div class='article'>\n",
      "                    <div class=\"title\">\n",
      "                        我校专场数字经济领域人才项目路演对接会在义乌举行                    </div>\n",
      "                    <div style=\"float: right;color: #0056bc;font-size: 16px;\">\n",
      "                                            </div>\n",
      "                    <div class=\"instr\">\n",
      "                        作者：admin     来源：学校新闻部1     时间：2019-10-13     点击量：14205                    </div>\n",
      "                    <div class=\"con\">\n",
      "                        <p>&nbsp;&nbsp;&nbsp;&nbsp;&nbsp; &nbsp;10月12日下午，由省委人才办、省人力社保厅和杭州电子科技大学联合举办的浙江省专家服务企业高质量发展专项活动暨数字经济领域人才项目路演对接会在义乌举行。省人力资源和社会保障厅副厅长葛平安、杭州电子科技大学副校长吕金海、金华市委组织部副部长、人力资源和社会保障局局长褚惠斌、义乌市委常委、组织部部长何若伟、义乌市副市长贾文红等出席此次会议，我校办公室、人力资源部、宣传部、产学研合作处、机械学院等部门和学院代表及部分数字领域专家和各地企业代表参加会议。</p><p>&nbsp; &nbsp; &nbsp; &nbsp;葛平安在致辞中提出，要在合作内容和合作形式上不断创新，要以人才带项目，以项目带人才，借高校之力服务企业，借企业之力反哺高校，各地人力社保部门积极地促进项目落地。</p><p>&nbsp;&nbsp;&nbsp;&nbsp;&nbsp; &nbsp;吕金海表示，杭电与义乌的渊源由来已久，近年来双方在科技合作和人才培养合作方面更是互动频繁。这次杭电组织了60多位专家教授带着最新、最前沿的技术项目齐聚这里，代表着双方的合作进入了更全面、更深入、更实质的新阶段。</p><p>&nbsp;&nbsp;&nbsp;&nbsp;&nbsp; &nbsp;何若伟指出，实现义乌高科技企业蓬勃发展的关键在科技，根本在人才。希望杭电在数字经济领域中的突出科学优势，能在义乌全球自由贸易中发挥作用。</p><p style=\"text-align: center;\"><img src=\"/uploads/news/images/20191013/1570961661704039.jpg\" title=\"1570961661704039.jpg\" alt=\"图片 2_meitu_2.jpg\"/>&nbsp;</p><p>&nbsp;&nbsp;&nbsp;&nbsp;&nbsp; &nbsp;在与义乌市人才项目合作签约仪式上，我校机械学院和义乌研究院分别与义乌市上溪镇共同签订人才培养协议和科技服务协议，我校三位专家则与企业签订了技术合作协议。</p><p style=\"text-align: center;\"><img src=\"/uploads/news/images/20191013/1570962293722178.jpg\" title=\"1570962293722178.jpg\" alt=\"图片 3_meitu_8.jpg\"/></p><p>&nbsp;&nbsp;&nbsp;&nbsp;&nbsp; &nbsp;在随后的人才项目路演推介会上，我校陈科明、林志赟、吕永桂、简志华、张祥泉、徐小良、任彧、韩伟等专家分别带来了物联网、人工智能、艺术设计、大数据、材料与环境工程等领域的路演项目。</p><p style=\"text-align: center;\"><img src=\"/uploads/news/images/20191013/1570961707151413.jpg\" title=\"1570961707151413.jpg\" alt=\"图片 4_meitu_4.jpg\"/></p><p><br/></p><p style=\"text-align: center;\"><img src=\"/uploads/news/images/20191013/1570961719882252.jpg\" title=\"1570961719882252.jpg\" alt=\"图片 5_meitu_5.jpg\"/></p><p>&nbsp;&nbsp;&nbsp;&nbsp;&nbsp; &nbsp;据了解，为了让这场对接会更具成效，我校精心遴选了“数字经济”领域科技项目1023个，其中科技成果技术项目70个，可转让发明专利项目953个，涵盖装备制造、人工智能、物理通信、电力配电、大数据、无人机、芯片等关键技术。活动现场，我校带来了8个路演项目和143个现场洽谈项目，与全省153家企业进行了洽谈对接。此次对接会是“浙江省专家服务企业高质量发展专项活动”的系列活动，旨在践行省委“三服务”活动要求，精准服务企业高质量发展，为我校科研成果商业落地提供了有效平台，也是我校践行“不忘初心 牢记使命”主题教育的活动之一。（校新闻中心）</p><p style=\"text-align: center;\"><img src=\"/uploads/news/images/20191013/1570961733951547.jpg\" title=\"1570961733951547.jpg\" alt=\"图片 6_meitu_6.jpg\"/></p>                    </div>\n",
      "                </div>\n",
      "            </div>\n",
      "            <div class=\"cooper c\">\n",
      "                <ul>\n",
      "                    <li alt=\"网易\" data-href=\"http://dy.163.com/v2/media/search?word=%BA%BC%D6%DD%B5%E7%D7%D3%BF%C6%BC%BC%B4%F3%D1%A7&cid=\" \n",
      "                        data-image='/asset/news_v2/image/bottom01-r.jpg?v=2.0' data-default='/asset/news_v2/image/bottom01.jpg?v=2.0'>\n",
      "                        <img src='/asset/news_v2/image/bottom01.jpg?v=2.0'>\n",
      "                    </li>\n",
      "                    <li alt=\"头条\" data-href=\"https://www.toutiao.com/c/user/6596331691/#mid=6596331691\" \n",
      "                        data-image='/asset/news_v2/image/bottom02-r.jpg?v=2.0' data-default='/asset/news_v2/image/bottom02.jpg?v=2.0'>\n",
      "                        <img src='/asset/news_v2/image/bottom02.jpg?v=2.0'>\n",
      "                    </li>\n",
      "                    <li alt=\"微博\" data-href=\"https://weibo.com/hzhdu?refer_flag=1001030103_\" \n",
      "                        data-image='/asset/news_v2/image/bottom03-r.jpg?v=2.0' data-default='/asset/news_v2/image/bottom03.jpg?v=2.0'>\n",
      "                        <img src='/asset/news_v2/image/bottom03.jpg?v=2.0'>\n",
      "                    </li>\n",
      "                    <li alt=\"红色家园\" data-href=\"http://cas.hdu.edu.cn/cas/login?service=http%3A%2F%2F106.14.9.60%3A3000%2Fcommon%2FgetTicket\" \n",
      "                        data-image='/asset/news_v2/image/bottom05-r.jpg?v=2.0' data-default='/asset/news_v2/image/bottom05.jpg?v=2.0'>\n",
      "                        <img src='/asset/news_v2/image/bottom05.jpg?v=2.0'>\n",
      "                    </li>\n",
      "                </ul>\n",
      "            </div>\n",
      "        </div>\n",
      "        <div class='footer'>\n",
      "            <p>杭州电子科技大学党委宣传部　版权所有　杭州电子科技大学新闻中心维护</p>\n",
      "            <p>浙ICP备12028388号　推荐使用Google浏览器、火狐浏览器、360浏览器（极速模式）</p>\n",
      "        </div>\n",
      "    </div>\n",
      "<script type=\"text/javascript\">\n",
      "    $('.aside .m-news li,.article .m-comp li,.article .m-media li').mouseenter(function () {\n",
      "        $(this).addClass('cur');\n",
      "        $(this).children().addClass('cur');\n",
      "    }).mouseleave(function(){\n",
      "        $(this).removeClass('cur');\n",
      "        $(this).children().removeClass('cur');\n",
      "    });\n",
      "    $('.f-nav .search').click(function(){\n",
      "        $('#find').show(0);\n",
      "        $('#find').focus();\n",
      "        $('.f-nav .error').show(0);\n",
      "        $('.f-nav ul').hide(0);\n",
      "        $('.f-nav .search').hide(0);\n",
      "    });\n",
      "    $('.f-nav .error').click(function(){\n",
      "        $('#find').val('');\n",
      "        $('#find').hide(0);\n",
      "        $('.f-nav .error').hide(0);\n",
      "        $('.f-nav ul').show(0);\n",
      "        $('.f-nav .search').show(0);\n",
      "    });\n",
      "    $('#find').keyup(function(event){\n",
      "        if(event.keyCode ===13){\n",
      "            window.location.href=\"/news/search?advanced=true&keyword=\"+$.trim($(this).val())+\"\";\n",
      "        }\n",
      "    });\n",
      "    \n",
      "    $('.cooper li').mouseenter(function () {\n",
      "        $(this).children('img').attr('src',$(this).attr('data-image'));\n",
      "    }).mouseleave(function(){\n",
      "        $(this).children('img').attr('src',$(this).attr('data-default'));\n",
      "    });\n",
      "\n",
      "    $('.aside .curTime').click(function(event){\n",
      "        if($(this).attr('show')==='0'){\n",
      "            $(this).children('.cate').css('transform','rotate(180deg)')\n",
      "            $(this).siblings('.year').slideDown(200);\n",
      "            $(this).attr('show','1');\n",
      "        }else{\n",
      "            $(this).children('.cate').css('transform','rotate(0deg)')\n",
      "            $(this).siblings('.year').slideUp(200);\n",
      "            $(this).attr('show','0');\n",
      "        }\n",
      "        event.stopPropagation();\n",
      "    });\n",
      "    $('.aside .year .ym').click(function(event){\n",
      "        $('.aside .curTime font').html($(this).text());\n",
      "        $('.aside .curTime .cate').css('transform','rotate(0deg)')\n",
      "        $('.aside .year').slideUp(200);\n",
      "        $('.aside .curTime').attr('show','0');\n",
      "        event.stopPropagation();\n",
      "    });\n",
      "    $(document).click(function(){\n",
      "        $('.aside .curTime .cate').css('transform','rotate(0deg)')\n",
      "        $('.aside .year').slideUp(200);\n",
      "        $('.aside .curTime').attr('show','0');\n",
      "    });\n",
      "    $('.cooper li').click(function(){\n",
      "        window.location.href=$(this).attr('data-href');\n",
      "    });\n",
      "\n",
      "    function gofor(element){\n",
      "        $(element).click(function(){\n",
      "            window.location.href=\"/news/important_\"+$(this).attr('data-id')+\"?page=1&year=2020&month=\";\n",
      "        });\n",
      "    }\n",
      "    gofor('.aside .m-news li');\n",
      "    $('.aside .time-list .mm').click(function(){\n",
      "        if($(this).attr('check')==='1'){\n",
      "            window.location.href=\"/news/important_26525?page=1&year=2020\";\n",
      "        }else{\n",
      "            window.location.href=\"/news/important_26525?page=1&year=2020&month=\"+$(this).text()+\"\";\n",
      "        }\n",
      "    });\n",
      "\n",
      "    $('.aside .time-list .ym').click(function(){\n",
      "        window.location.href=\"/news/important_26525?page=1&year=\"+$(this).text()+\"&month=\";\n",
      "    });\n",
      "\n",
      "</script>\n",
      "</body>\n",
      "</html>\n",
      "\n"
     ]
    }
   ],
   "source": [
    "print(raw_reply.decode())"
   ]
  },
  {
   "cell_type": "markdown",
   "metadata": {},
   "source": [
    "####  Python客户端库"
   ]
  },
  {
   "cell_type": "code",
   "execution_count": 3,
   "metadata": {},
   "outputs": [],
   "source": [
    "import requests"
   ]
  },
  {
   "cell_type": "code",
   "execution_count": 183,
   "metadata": {},
   "outputs": [],
   "source": [
    "url = \"http://httpbin.org/headers\""
   ]
  },
  {
   "cell_type": "code",
   "execution_count": 185,
   "metadata": {},
   "outputs": [],
   "source": [
    "r = requests.get(url)"
   ]
  },
  {
   "cell_type": "code",
   "execution_count": 186,
   "metadata": {},
   "outputs": [
    {
     "data": {
      "text/plain": [
       "requests.models.Response"
      ]
     },
     "execution_count": 186,
     "metadata": {},
     "output_type": "execute_result"
    }
   ],
   "source": [
    "type(r)"
   ]
  },
  {
   "cell_type": "code",
   "execution_count": 187,
   "metadata": {},
   "outputs": [
    {
     "name": "stdout",
     "output_type": "stream",
     "text": [
      "{\n",
      "  \"headers\": {\n",
      "    \"Accept\": \"*/*\", \n",
      "    \"Accept-Encoding\": \"gzip, deflate\", \n",
      "    \"Host\": \"httpbin.org\", \n",
      "    \"User-Agent\": \"python-requests/2.22.0\", \n",
      "    \"X-Amzn-Trace-Id\": \"Root=1-5fa3e7ea-575ee7bb573bf3f773f9b95a\"\n",
      "  }\n",
      "}\n",
      "\n"
     ]
    }
   ],
   "source": [
    "print(r.text)"
   ]
  },
  {
   "cell_type": "code",
   "execution_count": 190,
   "metadata": {},
   "outputs": [
    {
     "name": "stdout",
     "output_type": "stream",
     "text": [
      "{\n",
      "  \"headers\": {\n",
      "    \"Accept\": \"*/*\", \n",
      "    \"Accept-Encoding\": \"gzip, deflate\", \n",
      "    \"Host\": \"httpbin.org\", \n",
      "    \"User-Agent\": \"python-requests/2.22.0\", \n",
      "    \"X-Amzn-Trace-Id\": \"Root=1-5fa3e7ea-575ee7bb573bf3f773f9b95a\"\n",
      "  }\n",
      "}\n",
      "\n"
     ]
    }
   ],
   "source": [
    "print(r.content.decode())"
   ]
  },
  {
   "cell_type": "code",
   "execution_count": 192,
   "metadata": {},
   "outputs": [
    {
     "data": {
      "text/plain": [
       "{'User-Agent': 'python-requests/2.22.0', 'Accept-Encoding': 'gzip, deflate', 'Accept': '*/*', 'Connection': 'keep-alive'}"
      ]
     },
     "execution_count": 192,
     "metadata": {},
     "output_type": "execute_result"
    }
   ],
   "source": [
    "r.request.headers"
   ]
  },
  {
   "cell_type": "code",
   "execution_count": 193,
   "metadata": {},
   "outputs": [
    {
     "data": {
      "text/plain": [
       "{'Date': 'Thu, 05 Nov 2020 11:54:18 GMT', 'Content-Type': 'application/json', 'Content-Length': '225', 'Connection': 'keep-alive', 'Server': 'gunicorn/19.9.0', 'Access-Control-Allow-Origin': '*', 'Access-Control-Allow-Credentials': 'true'}"
      ]
     },
     "execution_count": 193,
     "metadata": {},
     "output_type": "execute_result"
    }
   ],
   "source": [
    "r.headers"
   ]
  },
  {
   "cell_type": "markdown",
   "metadata": {},
   "source": [
    "#### 封帧"
   ]
  },
  {
   "cell_type": "code",
   "execution_count": 194,
   "metadata": {},
   "outputs": [],
   "source": [
    "r = requests.get(\"http://www.hdu.edu.cn/news/important_26525\")"
   ]
  },
  {
   "cell_type": "code",
   "execution_count": 195,
   "metadata": {},
   "outputs": [
    {
     "data": {
      "text/plain": [
       "<Response [200]>"
      ]
     },
     "execution_count": 195,
     "metadata": {},
     "output_type": "execute_result"
    }
   ],
   "source": [
    "r"
   ]
  },
  {
   "cell_type": "code",
   "execution_count": 196,
   "metadata": {
    "collapsed": true,
    "jupyter": {
     "outputs_hidden": true
    }
   },
   "outputs": [
    {
     "name": "stdout",
     "output_type": "stream",
     "text": [
      "\n",
      "\n",
      "\n",
      "\n",
      "<!--$news 当前新闻内容-->\n",
      "<!--$page 当前页面-->\n",
      "<!--$total_page 总页面-->\n",
      "<!--$count 总数量-->\n",
      "<!--$limit 每页数量（定死为13）-->\n",
      "<!--$class 当前分类信息-->\n",
      "<!--$news_list 文章列表-->\n",
      "<!--$year 当前选中年份-->\n",
      "<!--$year_list 年份列表-->\n",
      "<!DOCTYPE html>\n",
      "<html lang=\"en\">\n",
      "<head>\n",
      "    <meta charset=\"UTF-8\">\n",
      "    <title>杭电新闻</title>\n",
      "    <!-- For IE top version load-->\n",
      "    <meta http-equiv=\"X-UA-Compatible\" content=\"IE=edge\">\n",
      "    <!-- 双核浏览器条件下 默认用极速核 -->\n",
      "    <meta name=\"renderer\" content=\"webkit\">\n",
      "    <meta name=\"viewport\" content=\"maximum-scale=1, user-scalable=yes, width=device-width\">\n",
      "    <meta name=\"keywords\" content=\"杭电,新闻,杭电新闻,教育,浙江重点大学\">\n",
      "    <meta name=\"description\" content=\"杭州电子科技大学,浙江重点大学,重点大学,综合性大学... 红色家园 教工之家 杭电青年 学生会 杭电校报 杭电之声 国际合作交流 学生交流。\">\n",
      "\n",
      "    <!-- CSS Code -->\n",
      "    <link rel=\"stylesheet\" href=\"/asset/news_v2/css/web_style.css?v=2.0\" type=\"text/css\">\n",
      "    <link rel=\"stylesheet\" href=\"/asset/news_v2/css/pages/general_find.css?v=2.0\" type=\"text/css\">\n",
      "    <!-- JavaScript Code -->\n",
      "    <script src=\"/asset/news_v2/js/jquery.min.js?v=2.0\"></script>\n",
      "    <script type=\"text/javascript\">  \n",
      "    if ( navigator.userAgent.match(/(phone|pad|pod|iPhone|iPod|ios|iPad|Android|Mobile|BlackBerry|IEMobile|MQQBrowser|JUC|Fennec|wOSBrowser|BrowserNG|WebOS|Symbian|Windows Phone)/i) ){\n",
      "        window.location.href = \"http://m.hdu.edu.cn/mobile/index/news_detail?news_id=26525\";\n",
      "    }\n",
      "    window.onresize = function(){\n",
      "        if( $(window).width() < 480 )window.location.href = \"http://m.hdu.edu.cn/mobile/index/news_detail?news_id=26525\";\n",
      "    };\n",
      "    </script>\n",
      "</head>\n",
      "<!--\n",
      "    类命名规则 布局（grid）（.g-）；\n",
      "    模块（module）（.m-）；\n",
      "    元件（unit）（.u-）；\n",
      "    功能（function）（.f-）；\n",
      "    皮肤（skin）（.s-）；\n",
      "    状态（.z-）。\n",
      "     -->\n",
      "<body bgcolor=\"#fff\">\n",
      "    <!-- 主要内容 -->\n",
      "    <div class=\"main\">\n",
      "        <div class='t-top'>\n",
      "            <div class='c'>\n",
      "                <h6><a href=\"/\">杭电首页</a></h6>\n",
      "            </div>\n",
      "        </div>\n",
      "        <div class=\"m-wrap\">\n",
      "            <div class='header c'>\n",
      "                <div class='logo fl'>\n",
      "                    <a href='/news'><img src='/asset/news_v2/image/logo.png?v=2.0' alt='logo'></a>\n",
      "                </div>\n",
      "                <div class='news fl'></div>\n",
      "                <div class='fr'>\n",
      "                    <p>2020年11月</p>\n",
      "                    <h1>05</h1>\n",
      "                    <p>星期四</p>\n",
      "                    <p id=\"lunar\"></p>\n",
      "                    <script src=\"/asset/news_v2/js/calendar.js?v=2.0\"></script>\n",
      "                    <script>\n",
      "                        var calendar = showCal(); \n",
      "                        $(\"#lunar\").html(calendar);\n",
      "                    </script>\n",
      "                </div>\n",
      "            </div>\n",
      "            <div class=\"f-nav c\" style='height: 60px;'>\n",
      "                <ul>\n",
      "                    <li data=\"index\"><a href=\"/news\">网站首页</a></li>\n",
      "                    <li data=\"branch\"><a href=\"/news/branch\">部门简介</a></li>\n",
      "                    <li data=\"important\"><a href=\"/news/important\">杭电新闻</a></li>\n",
      "                    <li data=\"theory\"><a href=\"/news/theory\">理论学习</a></li>\n",
      "                    <li data=\"superiorfile\"><a href=\"/news/superiorfile\">规章制度</a></li>\n",
      "                    <li data=\"work\"><a href=\"/news/work\">网上办事</a></li>\n",
      "                    <li data=\"departmentnotice\"><a href=\"/news/departmentnotice\">部门通知</a></li>\n",
      "                    <li ><a href='/admin'  target='_blank'>在线投稿</a></li>                   \n",
      "                </ul>\n",
      "                <script>\n",
      "                    var topClass=\"important\";\n",
      "                    for(var t=0;t<$('.f-nav ul li').length;t++){\n",
      "                        if($('.f-nav ul li:eq('+t+')').attr('data')===topClass){\n",
      "                            $('.f-nav ul li:eq('+t+')').addClass('cur');\n",
      "                        }\n",
      "                    }\n",
      "                </script>\n",
      "                <input placeholder='请输入您想要的内容' id='find' maxlength='100'>\n",
      "                <div class=\"error\">\n",
      "                    <img src='/asset/news_v2/image/icon-error.png?v=2.0' alt='error'>\n",
      "                </div>\n",
      "                <div class=\"search\">\n",
      "                    <img src='/asset/news_v2/image/icon-search.png?v=2.0' alt='search'>\n",
      "                </div>\n",
      "            </div>\n",
      "            <div class=\"content c\">\n",
      "                <div class='aside'>\n",
      "                    <div class=\"m-news\">\n",
      "                        <div class=\"title\">\n",
      "                            <h1>杭电要闻</h1>\n",
      "                            <h2 class=\"clear\">\n",
      "                                <span class=\"fl\">important</span>\n",
      "                            </h2>\n",
      "                        </div>\n",
      "                        <div class=\"time-list\">\n",
      "                            <div class=\"clear\">\n",
      "                                <div class=\"mt\">\n",
      "                                    <span class=\"curTime\" show=\"0\"><font>2020</font><div class=\"cate\"></div></span>\n",
      "                                    <div class=\"year scrollBar hide\">\n",
      "                                        <div class='ym'>2020</div><div class='ym'>2019</div><div class='ym'>2018</div><div class='ym'>2017</div><div class='ym'>2016</div><div class='ym'>2015</div><div class='ym'>2014</div><div class='ym'>2013</div><div class='ym'>2012</div><div class='ym'>2011</div><div class='ym'>2010</div><div class='ym'>2009</div><div class='ym'>2008</div><div class='ym'>2007</div><div class='ym'>2006</div><div class='ym'>2005</div><div class='ym'>2004</div><div class='ym'>2003</div>                                    </div>\n",
      "                                </div>\n",
      "                                <div class=\"md\">\n",
      "                                    <div class='mm' check='0'>1</div><div class='mm' check='0'>2</div><div class='mm' check='0'>3</div><div class='mm' check='0'>4</div><div class='mm' check='0'>5</div><div class='mm' check='0'>6</div><div class='mm' check='0'>7</div><div class='mm' check='0'>8</div><div class='mm' check='0'>9</div><div class='mm' check='0'>10</div><div class='mm' check='0'>11</div><div class='mm' check='0'>12</div>                                </div>\n",
      "                            </div>\n",
      "                        </div>\n",
      "                        <ul>\n",
      "                            <li data-id=27554><div class='move'></div><div class='con'>我校第四次学生代表大会、第九次研究生代表大会隆重召开</div><div class='time'>10-31</div></li><li data-id=27553><div class='move'></div><div class='con'>中国共产党第十九届中央委员会第五次全体会议公报</div><div class='time'>10-30</div></li><li data-id=27535><div class='move'></div><div class='con'>浙江省委常委、宣传部部长朱国贤一行来校调研</div><div class='time'>10-27</div></li><li data-id=27528><div class='move'></div><div class='con'>我校师生联合开发146个软件，编写200万行代码—— 构建智慧校园赋能人才培养</div><div class='time'>10-26</div></li><li data-id=27525><div class='move'></div><div class='con'>校第三十八届田径运动会圆满落幕</div><div class='time'>10-25</div></li><li data-id=27518><div class='move'></div><div class='con'>校党委召开理论学习中心组专题学习会</div><div class='time'>10-22</div></li><li data-id=27511><div class='move'></div><div class='con'>中国电子信息行业联合会专家委主任来校作学术报告</div><div class='time'>10-21</div></li><li data-id=27508><div class='move'></div><div class='con'>浙江省发展改革委领导来校调研指导消费扶贫工作</div><div class='time'>10-20</div></li><li data-id=27505><div class='move'></div><div class='con'>校领导应邀参加首届拉美中国创新日活动</div><div class='time'>10-19</div></li><li data-id=27503><div class='move'></div><div class='con'>省教育厅副书记干武东一行来我校调研指导</div><div class='time'>10-19</div></li><li data-id=27499><div class='move'></div><div class='con'>我校与华为签约共建“智能基座”产教融合协同育人基地</div><div class='time'>10-16</div></li><li data-id=27495><div class='move'></div><div class='con'>习近平：年轻干部要提高解决实际问题能力 想干事能干事干成事</div><div class='time'>10-13</div></li><li data-id=27488><div class='move'></div><div class='con'>校廉政文化月活动暨“青春杭电”第二届清廉修身文化节开幕</div><div class='time'>10-09</div></li>                        </ul>\n",
      "                        <div class=\"page\">\n",
      "                            <a class='cur' href='/news/important_26525?page=1&year=2020&month='>1</a><a href='/news/important_26525?page=2&year=2020&month='>2</a><a href='/news/important_26525?page=3&year=2020&month='>3</a><a href='/news/important_26525?page=4&year=2020&month='>4</a><a href='/news/important_26525?page=5&year=2020&month='>5</a><a href='/news/important_26525?page=6&year=2020&month='>6</a><a href='/news/important_26525?page=2&year=2020&month='>下页</a>                         </div>\n",
      "                    </div>\n",
      "                    <div class=\"qr clear\">\n",
      "                        <div class=\"fl\">\n",
      "                            <img src=\"/asset/news_v2/image/hdu-weixinqr.jpg?v=2.0\" alt=\"网易\">\n",
      "                            <p>杭州电子科技大学官方微信</p>\n",
      "                        </div>\n",
      "                        <div class=\"fr\">\n",
      "                            <img src=\"/asset/news_v2/image/hdu-weiboqr.jpg?v=2.0\" alt=\"网易\">\n",
      "                            <p>杭州电子科技大学官方微博</p>\n",
      "                        </div>\n",
      "                    </div>\n",
      "                </div>\n",
      "                <div class='article'>\n",
      "                    <div class=\"title\">\n",
      "                        我校专场数字经济领域人才项目路演对接会在义乌举行                    </div>\n",
      "                    <div style=\"float: right;color: #0056bc;font-size: 16px;\">\n",
      "                                            </div>\n",
      "                    <div class=\"instr\">\n",
      "                        作者：admin     来源：学校新闻部1     时间：2019-10-13     点击量：14214                    </div>\n",
      "                    <div class=\"con\">\n",
      "                        <p>&nbsp;&nbsp;&nbsp;&nbsp;&nbsp; &nbsp;10月12日下午，由省委人才办、省人力社保厅和杭州电子科技大学联合举办的浙江省专家服务企业高质量发展专项活动暨数字经济领域人才项目路演对接会在义乌举行。省人力资源和社会保障厅副厅长葛平安、杭州电子科技大学副校长吕金海、金华市委组织部副部长、人力资源和社会保障局局长褚惠斌、义乌市委常委、组织部部长何若伟、义乌市副市长贾文红等出席此次会议，我校办公室、人力资源部、宣传部、产学研合作处、机械学院等部门和学院代表及部分数字领域专家和各地企业代表参加会议。</p><p>&nbsp; &nbsp; &nbsp; &nbsp;葛平安在致辞中提出，要在合作内容和合作形式上不断创新，要以人才带项目，以项目带人才，借高校之力服务企业，借企业之力反哺高校，各地人力社保部门积极地促进项目落地。</p><p>&nbsp;&nbsp;&nbsp;&nbsp;&nbsp; &nbsp;吕金海表示，杭电与义乌的渊源由来已久，近年来双方在科技合作和人才培养合作方面更是互动频繁。这次杭电组织了60多位专家教授带着最新、最前沿的技术项目齐聚这里，代表着双方的合作进入了更全面、更深入、更实质的新阶段。</p><p>&nbsp;&nbsp;&nbsp;&nbsp;&nbsp; &nbsp;何若伟指出，实现义乌高科技企业蓬勃发展的关键在科技，根本在人才。希望杭电在数字经济领域中的突出科学优势，能在义乌全球自由贸易中发挥作用。</p><p style=\"text-align: center;\"><img src=\"/uploads/news/images/20191013/1570961661704039.jpg\" title=\"1570961661704039.jpg\" alt=\"图片 2_meitu_2.jpg\"/>&nbsp;</p><p>&nbsp;&nbsp;&nbsp;&nbsp;&nbsp; &nbsp;在与义乌市人才项目合作签约仪式上，我校机械学院和义乌研究院分别与义乌市上溪镇共同签订人才培养协议和科技服务协议，我校三位专家则与企业签订了技术合作协议。</p><p style=\"text-align: center;\"><img src=\"/uploads/news/images/20191013/1570962293722178.jpg\" title=\"1570962293722178.jpg\" alt=\"图片 3_meitu_8.jpg\"/></p><p>&nbsp;&nbsp;&nbsp;&nbsp;&nbsp; &nbsp;在随后的人才项目路演推介会上，我校陈科明、林志赟、吕永桂、简志华、张祥泉、徐小良、任彧、韩伟等专家分别带来了物联网、人工智能、艺术设计、大数据、材料与环境工程等领域的路演项目。</p><p style=\"text-align: center;\"><img src=\"/uploads/news/images/20191013/1570961707151413.jpg\" title=\"1570961707151413.jpg\" alt=\"图片 4_meitu_4.jpg\"/></p><p><br/></p><p style=\"text-align: center;\"><img src=\"/uploads/news/images/20191013/1570961719882252.jpg\" title=\"1570961719882252.jpg\" alt=\"图片 5_meitu_5.jpg\"/></p><p>&nbsp;&nbsp;&nbsp;&nbsp;&nbsp; &nbsp;据了解，为了让这场对接会更具成效，我校精心遴选了“数字经济”领域科技项目1023个，其中科技成果技术项目70个，可转让发明专利项目953个，涵盖装备制造、人工智能、物理通信、电力配电、大数据、无人机、芯片等关键技术。活动现场，我校带来了8个路演项目和143个现场洽谈项目，与全省153家企业进行了洽谈对接。此次对接会是“浙江省专家服务企业高质量发展专项活动”的系列活动，旨在践行省委“三服务”活动要求，精准服务企业高质量发展，为我校科研成果商业落地提供了有效平台，也是我校践行“不忘初心 牢记使命”主题教育的活动之一。（校新闻中心）</p><p style=\"text-align: center;\"><img src=\"/uploads/news/images/20191013/1570961733951547.jpg\" title=\"1570961733951547.jpg\" alt=\"图片 6_meitu_6.jpg\"/></p>                    </div>\n",
      "                </div>\n",
      "            </div>\n",
      "            <div class=\"cooper c\">\n",
      "                <ul>\n",
      "                    <li alt=\"网易\" data-href=\"http://dy.163.com/v2/media/search?word=%BA%BC%D6%DD%B5%E7%D7%D3%BF%C6%BC%BC%B4%F3%D1%A7&cid=\" \n",
      "                        data-image='/asset/news_v2/image/bottom01-r.jpg?v=2.0' data-default='/asset/news_v2/image/bottom01.jpg?v=2.0'>\n",
      "                        <img src='/asset/news_v2/image/bottom01.jpg?v=2.0'>\n",
      "                    </li>\n",
      "                    <li alt=\"头条\" data-href=\"https://www.toutiao.com/c/user/6596331691/#mid=6596331691\" \n",
      "                        data-image='/asset/news_v2/image/bottom02-r.jpg?v=2.0' data-default='/asset/news_v2/image/bottom02.jpg?v=2.0'>\n",
      "                        <img src='/asset/news_v2/image/bottom02.jpg?v=2.0'>\n",
      "                    </li>\n",
      "                    <li alt=\"微博\" data-href=\"https://weibo.com/hzhdu?refer_flag=1001030103_\" \n",
      "                        data-image='/asset/news_v2/image/bottom03-r.jpg?v=2.0' data-default='/asset/news_v2/image/bottom03.jpg?v=2.0'>\n",
      "                        <img src='/asset/news_v2/image/bottom03.jpg?v=2.0'>\n",
      "                    </li>\n",
      "                    <li alt=\"红色家园\" data-href=\"http://cas.hdu.edu.cn/cas/login?service=http%3A%2F%2F106.14.9.60%3A3000%2Fcommon%2FgetTicket\" \n",
      "                        data-image='/asset/news_v2/image/bottom05-r.jpg?v=2.0' data-default='/asset/news_v2/image/bottom05.jpg?v=2.0'>\n",
      "                        <img src='/asset/news_v2/image/bottom05.jpg?v=2.0'>\n",
      "                    </li>\n",
      "                </ul>\n",
      "            </div>\n",
      "        </div>\n",
      "        <div class='footer'>\n",
      "            <p>杭州电子科技大学党委宣传部　版权所有　杭州电子科技大学新闻中心维护</p>\n",
      "            <p>浙ICP备12028388号　推荐使用Google浏览器、火狐浏览器、360浏览器（极速模式）</p>\n",
      "        </div>\n",
      "    </div>\n",
      "<script type=\"text/javascript\">\n",
      "    $('.aside .m-news li,.article .m-comp li,.article .m-media li').mouseenter(function () {\n",
      "        $(this).addClass('cur');\n",
      "        $(this).children().addClass('cur');\n",
      "    }).mouseleave(function(){\n",
      "        $(this).removeClass('cur');\n",
      "        $(this).children().removeClass('cur');\n",
      "    });\n",
      "    $('.f-nav .search').click(function(){\n",
      "        $('#find').show(0);\n",
      "        $('#find').focus();\n",
      "        $('.f-nav .error').show(0);\n",
      "        $('.f-nav ul').hide(0);\n",
      "        $('.f-nav .search').hide(0);\n",
      "    });\n",
      "    $('.f-nav .error').click(function(){\n",
      "        $('#find').val('');\n",
      "        $('#find').hide(0);\n",
      "        $('.f-nav .error').hide(0);\n",
      "        $('.f-nav ul').show(0);\n",
      "        $('.f-nav .search').show(0);\n",
      "    });\n",
      "    $('#find').keyup(function(event){\n",
      "        if(event.keyCode ===13){\n",
      "            window.location.href=\"/news/search?advanced=true&keyword=\"+$.trim($(this).val())+\"\";\n",
      "        }\n",
      "    });\n",
      "    \n",
      "    $('.cooper li').mouseenter(function () {\n",
      "        $(this).children('img').attr('src',$(this).attr('data-image'));\n",
      "    }).mouseleave(function(){\n",
      "        $(this).children('img').attr('src',$(this).attr('data-default'));\n",
      "    });\n",
      "\n",
      "    $('.aside .curTime').click(function(event){\n",
      "        if($(this).attr('show')==='0'){\n",
      "            $(this).children('.cate').css('transform','rotate(180deg)')\n",
      "            $(this).siblings('.year').slideDown(200);\n",
      "            $(this).attr('show','1');\n",
      "        }else{\n",
      "            $(this).children('.cate').css('transform','rotate(0deg)')\n",
      "            $(this).siblings('.year').slideUp(200);\n",
      "            $(this).attr('show','0');\n",
      "        }\n",
      "        event.stopPropagation();\n",
      "    });\n",
      "    $('.aside .year .ym').click(function(event){\n",
      "        $('.aside .curTime font').html($(this).text());\n",
      "        $('.aside .curTime .cate').css('transform','rotate(0deg)')\n",
      "        $('.aside .year').slideUp(200);\n",
      "        $('.aside .curTime').attr('show','0');\n",
      "        event.stopPropagation();\n",
      "    });\n",
      "    $(document).click(function(){\n",
      "        $('.aside .curTime .cate').css('transform','rotate(0deg)')\n",
      "        $('.aside .year').slideUp(200);\n",
      "        $('.aside .curTime').attr('show','0');\n",
      "    });\n",
      "    $('.cooper li').click(function(){\n",
      "        window.location.href=$(this).attr('data-href');\n",
      "    });\n",
      "\n",
      "    function gofor(element){\n",
      "        $(element).click(function(){\n",
      "            window.location.href=\"/news/important_\"+$(this).attr('data-id')+\"?page=1&year=2020&month=\";\n",
      "        });\n",
      "    }\n",
      "    gofor('.aside .m-news li');\n",
      "    $('.aside .time-list .mm').click(function(){\n",
      "        if($(this).attr('check')==='1'){\n",
      "            window.location.href=\"/news/important_26525?page=1&year=2020\";\n",
      "        }else{\n",
      "            window.location.href=\"/news/important_26525?page=1&year=2020&month=\"+$(this).text()+\"\";\n",
      "        }\n",
      "    });\n",
      "\n",
      "    $('.aside .time-list .ym').click(function(){\n",
      "        window.location.href=\"/news/important_26525?page=1&year=\"+$(this).text()+\"&month=\";\n",
      "    });\n",
      "\n",
      "</script>\n",
      "</body>\n",
      "</html>\n",
      "\n"
     ]
    }
   ],
   "source": [
    "print(r.text)"
   ]
  },
  {
   "cell_type": "code",
   "execution_count": 197,
   "metadata": {
    "collapsed": true,
    "jupyter": {
     "outputs_hidden": true
    }
   },
   "outputs": [
    {
     "data": {
      "text/plain": [
       "b'\\n\\n\\n\\n<!--$news \\xe5\\xbd\\x93\\xe5\\x89\\x8d\\xe6\\x96\\xb0\\xe9\\x97\\xbb\\xe5\\x86\\x85\\xe5\\xae\\xb9-->\\r\\n<!--$page \\xe5\\xbd\\x93\\xe5\\x89\\x8d\\xe9\\xa1\\xb5\\xe9\\x9d\\xa2-->\\r\\n<!--$total_page \\xe6\\x80\\xbb\\xe9\\xa1\\xb5\\xe9\\x9d\\xa2-->\\r\\n<!--$count \\xe6\\x80\\xbb\\xe6\\x95\\xb0\\xe9\\x87\\x8f-->\\r\\n<!--$limit \\xe6\\xaf\\x8f\\xe9\\xa1\\xb5\\xe6\\x95\\xb0\\xe9\\x87\\x8f\\xef\\xbc\\x88\\xe5\\xae\\x9a\\xe6\\xad\\xbb\\xe4\\xb8\\xba13\\xef\\xbc\\x89-->\\r\\n<!--$class \\xe5\\xbd\\x93\\xe5\\x89\\x8d\\xe5\\x88\\x86\\xe7\\xb1\\xbb\\xe4\\xbf\\xa1\\xe6\\x81\\xaf-->\\r\\n<!--$news_list \\xe6\\x96\\x87\\xe7\\xab\\xa0\\xe5\\x88\\x97\\xe8\\xa1\\xa8-->\\r\\n<!--$year \\xe5\\xbd\\x93\\xe5\\x89\\x8d\\xe9\\x80\\x89\\xe4\\xb8\\xad\\xe5\\xb9\\xb4\\xe4\\xbb\\xbd-->\\r\\n<!--$year_list \\xe5\\xb9\\xb4\\xe4\\xbb\\xbd\\xe5\\x88\\x97\\xe8\\xa1\\xa8-->\\r\\n<!DOCTYPE html>\\r\\n<html lang=\"en\">\\r\\n<head>\\r\\n    <meta charset=\"UTF-8\">\\r\\n    <title>\\xe6\\x9d\\xad\\xe7\\x94\\xb5\\xe6\\x96\\xb0\\xe9\\x97\\xbb</title>\\r\\n    <!-- For IE top version load-->\\r\\n    <meta http-equiv=\"X-UA-Compatible\" content=\"IE=edge\">\\r\\n    <!-- \\xe5\\x8f\\x8c\\xe6\\xa0\\xb8\\xe6\\xb5\\x8f\\xe8\\xa7\\x88\\xe5\\x99\\xa8\\xe6\\x9d\\xa1\\xe4\\xbb\\xb6\\xe4\\xb8\\x8b \\xe9\\xbb\\x98\\xe8\\xae\\xa4\\xe7\\x94\\xa8\\xe6\\x9e\\x81\\xe9\\x80\\x9f\\xe6\\xa0\\xb8 -->\\r\\n    <meta name=\"renderer\" content=\"webkit\">\\r\\n    <meta name=\"viewport\" content=\"maximum-scale=1, user-scalable=yes, width=device-width\">\\r\\n    <meta name=\"keywords\" content=\"\\xe6\\x9d\\xad\\xe7\\x94\\xb5,\\xe6\\x96\\xb0\\xe9\\x97\\xbb,\\xe6\\x9d\\xad\\xe7\\x94\\xb5\\xe6\\x96\\xb0\\xe9\\x97\\xbb,\\xe6\\x95\\x99\\xe8\\x82\\xb2,\\xe6\\xb5\\x99\\xe6\\xb1\\x9f\\xe9\\x87\\x8d\\xe7\\x82\\xb9\\xe5\\xa4\\xa7\\xe5\\xad\\xa6\">\\r\\n    <meta name=\"description\" content=\"\\xe6\\x9d\\xad\\xe5\\xb7\\x9e\\xe7\\x94\\xb5\\xe5\\xad\\x90\\xe7\\xa7\\x91\\xe6\\x8a\\x80\\xe5\\xa4\\xa7\\xe5\\xad\\xa6,\\xe6\\xb5\\x99\\xe6\\xb1\\x9f\\xe9\\x87\\x8d\\xe7\\x82\\xb9\\xe5\\xa4\\xa7\\xe5\\xad\\xa6,\\xe9\\x87\\x8d\\xe7\\x82\\xb9\\xe5\\xa4\\xa7\\xe5\\xad\\xa6,\\xe7\\xbb\\xbc\\xe5\\x90\\x88\\xe6\\x80\\xa7\\xe5\\xa4\\xa7\\xe5\\xad\\xa6... \\xe7\\xba\\xa2\\xe8\\x89\\xb2\\xe5\\xae\\xb6\\xe5\\x9b\\xad \\xe6\\x95\\x99\\xe5\\xb7\\xa5\\xe4\\xb9\\x8b\\xe5\\xae\\xb6 \\xe6\\x9d\\xad\\xe7\\x94\\xb5\\xe9\\x9d\\x92\\xe5\\xb9\\xb4 \\xe5\\xad\\xa6\\xe7\\x94\\x9f\\xe4\\xbc\\x9a \\xe6\\x9d\\xad\\xe7\\x94\\xb5\\xe6\\xa0\\xa1\\xe6\\x8a\\xa5 \\xe6\\x9d\\xad\\xe7\\x94\\xb5\\xe4\\xb9\\x8b\\xe5\\xa3\\xb0 \\xe5\\x9b\\xbd\\xe9\\x99\\x85\\xe5\\x90\\x88\\xe4\\xbd\\x9c\\xe4\\xba\\xa4\\xe6\\xb5\\x81 \\xe5\\xad\\xa6\\xe7\\x94\\x9f\\xe4\\xba\\xa4\\xe6\\xb5\\x81\\xe3\\x80\\x82\">\\r\\n\\r\\n    <!-- CSS Code -->\\r\\n    <link rel=\"stylesheet\" href=\"/asset/news_v2/css/web_style.css?v=2.0\" type=\"text/css\">\\r\\n    <link rel=\"stylesheet\" href=\"/asset/news_v2/css/pages/general_find.css?v=2.0\" type=\"text/css\">\\r\\n    <!-- JavaScript Code -->\\r\\n    <script src=\"/asset/news_v2/js/jquery.min.js?v=2.0\"></script>\\r\\n    <script type=\"text/javascript\">  \\r\\n    if ( navigator.userAgent.match(/(phone|pad|pod|iPhone|iPod|ios|iPad|Android|Mobile|BlackBerry|IEMobile|MQQBrowser|JUC|Fennec|wOSBrowser|BrowserNG|WebOS|Symbian|Windows Phone)/i) ){\\r\\n        window.location.href = \"http://m.hdu.edu.cn/mobile/index/news_detail?news_id=26525\";\\r\\n    }\\r\\n    window.onresize = function(){\\r\\n        if( $(window).width() < 480 )window.location.href = \"http://m.hdu.edu.cn/mobile/index/news_detail?news_id=26525\";\\r\\n    };\\r\\n    </script>\\r\\n</head>\\r\\n<!--\\r\\n    \\xe7\\xb1\\xbb\\xe5\\x91\\xbd\\xe5\\x90\\x8d\\xe8\\xa7\\x84\\xe5\\x88\\x99 \\xe5\\xb8\\x83\\xe5\\xb1\\x80\\xef\\xbc\\x88grid\\xef\\xbc\\x89\\xef\\xbc\\x88.g-\\xef\\xbc\\x89\\xef\\xbc\\x9b\\r\\n    \\xe6\\xa8\\xa1\\xe5\\x9d\\x97\\xef\\xbc\\x88module\\xef\\xbc\\x89\\xef\\xbc\\x88.m-\\xef\\xbc\\x89\\xef\\xbc\\x9b\\r\\n    \\xe5\\x85\\x83\\xe4\\xbb\\xb6\\xef\\xbc\\x88unit\\xef\\xbc\\x89\\xef\\xbc\\x88.u-\\xef\\xbc\\x89\\xef\\xbc\\x9b\\r\\n    \\xe5\\x8a\\x9f\\xe8\\x83\\xbd\\xef\\xbc\\x88function\\xef\\xbc\\x89\\xef\\xbc\\x88.f-\\xef\\xbc\\x89\\xef\\xbc\\x9b\\r\\n    \\xe7\\x9a\\xae\\xe8\\x82\\xa4\\xef\\xbc\\x88skin\\xef\\xbc\\x89\\xef\\xbc\\x88.s-\\xef\\xbc\\x89\\xef\\xbc\\x9b\\r\\n    \\xe7\\x8a\\xb6\\xe6\\x80\\x81\\xef\\xbc\\x88.z-\\xef\\xbc\\x89\\xe3\\x80\\x82\\r\\n     -->\\r\\n<body bgcolor=\"#fff\">\\r\\n    <!-- \\xe4\\xb8\\xbb\\xe8\\xa6\\x81\\xe5\\x86\\x85\\xe5\\xae\\xb9 -->\\r\\n    <div class=\"main\">\\r\\n        <div class=\\'t-top\\'>\\r\\n            <div class=\\'c\\'>\\r\\n                <h6><a href=\"/\">\\xe6\\x9d\\xad\\xe7\\x94\\xb5\\xe9\\xa6\\x96\\xe9\\xa1\\xb5</a></h6>\\r\\n            </div>\\r\\n        </div>\\r\\n        <div class=\"m-wrap\">\\r\\n            <div class=\\'header c\\'>\\r\\n                <div class=\\'logo fl\\'>\\r\\n                    <a href=\\'/news\\'><img src=\\'/asset/news_v2/image/logo.png?v=2.0\\' alt=\\'logo\\'></a>\\r\\n                </div>\\r\\n                <div class=\\'news fl\\'></div>\\r\\n                <div class=\\'fr\\'>\\r\\n                    <p>2020\\xe5\\xb9\\xb411\\xe6\\x9c\\x88</p>\\r\\n                    <h1>05</h1>\\r\\n                    <p>\\xe6\\x98\\x9f\\xe6\\x9c\\x9f\\xe5\\x9b\\x9b</p>\\r\\n                    <p id=\"lunar\"></p>\\r\\n                    <script src=\"/asset/news_v2/js/calendar.js?v=2.0\"></script>\\r\\n                    <script>\\r\\n                        var calendar = showCal(); \\r\\n                        $(\"#lunar\").html(calendar);\\r\\n                    </script>\\r\\n                </div>\\r\\n            </div>\\r\\n            <div class=\"f-nav c\" style=\\'height: 60px;\\'>\\r\\n                <ul>\\r\\n                    <li data=\"index\"><a href=\"/news\">\\xe7\\xbd\\x91\\xe7\\xab\\x99\\xe9\\xa6\\x96\\xe9\\xa1\\xb5</a></li>\\r\\n                    <li data=\"branch\"><a href=\"/news/branch\">\\xe9\\x83\\xa8\\xe9\\x97\\xa8\\xe7\\xae\\x80\\xe4\\xbb\\x8b</a></li>\\r\\n                    <li data=\"important\"><a href=\"/news/important\">\\xe6\\x9d\\xad\\xe7\\x94\\xb5\\xe6\\x96\\xb0\\xe9\\x97\\xbb</a></li>\\r\\n                    <li data=\"theory\"><a href=\"/news/theory\">\\xe7\\x90\\x86\\xe8\\xae\\xba\\xe5\\xad\\xa6\\xe4\\xb9\\xa0</a></li>\\r\\n                    <li data=\"superiorfile\"><a href=\"/news/superiorfile\">\\xe8\\xa7\\x84\\xe7\\xab\\xa0\\xe5\\x88\\xb6\\xe5\\xba\\xa6</a></li>\\r\\n                    <li data=\"work\"><a href=\"/news/work\">\\xe7\\xbd\\x91\\xe4\\xb8\\x8a\\xe5\\x8a\\x9e\\xe4\\xba\\x8b</a></li>\\r\\n                    <li data=\"departmentnotice\"><a href=\"/news/departmentnotice\">\\xe9\\x83\\xa8\\xe9\\x97\\xa8\\xe9\\x80\\x9a\\xe7\\x9f\\xa5</a></li>\\r\\n                    <li ><a href=\\'/admin\\'  target=\\'_blank\\'>\\xe5\\x9c\\xa8\\xe7\\xba\\xbf\\xe6\\x8a\\x95\\xe7\\xa8\\xbf</a></li>                   \\r\\n                </ul>\\r\\n                <script>\\r\\n                    var topClass=\"important\";\\r\\n                    for(var t=0;t<$(\\'.f-nav ul li\\').length;t++){\\r\\n                        if($(\\'.f-nav ul li:eq(\\'+t+\\')\\').attr(\\'data\\')===topClass){\\r\\n                            $(\\'.f-nav ul li:eq(\\'+t+\\')\\').addClass(\\'cur\\');\\r\\n                        }\\r\\n                    }\\r\\n                </script>\\r\\n                <input placeholder=\\'\\xe8\\xaf\\xb7\\xe8\\xbe\\x93\\xe5\\x85\\xa5\\xe6\\x82\\xa8\\xe6\\x83\\xb3\\xe8\\xa6\\x81\\xe7\\x9a\\x84\\xe5\\x86\\x85\\xe5\\xae\\xb9\\' id=\\'find\\' maxlength=\\'100\\'>\\r\\n                <div class=\"error\">\\r\\n                    <img src=\\'/asset/news_v2/image/icon-error.png?v=2.0\\' alt=\\'error\\'>\\r\\n                </div>\\r\\n                <div class=\"search\">\\r\\n                    <img src=\\'/asset/news_v2/image/icon-search.png?v=2.0\\' alt=\\'search\\'>\\r\\n                </div>\\r\\n            </div>\\r\\n            <div class=\"content c\">\\r\\n                <div class=\\'aside\\'>\\r\\n                    <div class=\"m-news\">\\r\\n                        <div class=\"title\">\\r\\n                            <h1>\\xe6\\x9d\\xad\\xe7\\x94\\xb5\\xe8\\xa6\\x81\\xe9\\x97\\xbb</h1>\\r\\n                            <h2 class=\"clear\">\\r\\n                                <span class=\"fl\">important</span>\\r\\n                            </h2>\\r\\n                        </div>\\r\\n                        <div class=\"time-list\">\\r\\n                            <div class=\"clear\">\\r\\n                                <div class=\"mt\">\\r\\n                                    <span class=\"curTime\" show=\"0\"><font>2020</font><div class=\"cate\"></div></span>\\r\\n                                    <div class=\"year scrollBar hide\">\\r\\n                                        <div class=\\'ym\\'>2020</div><div class=\\'ym\\'>2019</div><div class=\\'ym\\'>2018</div><div class=\\'ym\\'>2017</div><div class=\\'ym\\'>2016</div><div class=\\'ym\\'>2015</div><div class=\\'ym\\'>2014</div><div class=\\'ym\\'>2013</div><div class=\\'ym\\'>2012</div><div class=\\'ym\\'>2011</div><div class=\\'ym\\'>2010</div><div class=\\'ym\\'>2009</div><div class=\\'ym\\'>2008</div><div class=\\'ym\\'>2007</div><div class=\\'ym\\'>2006</div><div class=\\'ym\\'>2005</div><div class=\\'ym\\'>2004</div><div class=\\'ym\\'>2003</div>                                    </div>\\r\\n                                </div>\\r\\n                                <div class=\"md\">\\r\\n                                    <div class=\\'mm\\' check=\\'0\\'>1</div><div class=\\'mm\\' check=\\'0\\'>2</div><div class=\\'mm\\' check=\\'0\\'>3</div><div class=\\'mm\\' check=\\'0\\'>4</div><div class=\\'mm\\' check=\\'0\\'>5</div><div class=\\'mm\\' check=\\'0\\'>6</div><div class=\\'mm\\' check=\\'0\\'>7</div><div class=\\'mm\\' check=\\'0\\'>8</div><div class=\\'mm\\' check=\\'0\\'>9</div><div class=\\'mm\\' check=\\'0\\'>10</div><div class=\\'mm\\' check=\\'0\\'>11</div><div class=\\'mm\\' check=\\'0\\'>12</div>                                </div>\\r\\n                            </div>\\r\\n                        </div>\\r\\n                        <ul>\\r\\n                            <li data-id=27554><div class=\\'move\\'></div><div class=\\'con\\'>\\xe6\\x88\\x91\\xe6\\xa0\\xa1\\xe7\\xac\\xac\\xe5\\x9b\\x9b\\xe6\\xac\\xa1\\xe5\\xad\\xa6\\xe7\\x94\\x9f\\xe4\\xbb\\xa3\\xe8\\xa1\\xa8\\xe5\\xa4\\xa7\\xe4\\xbc\\x9a\\xe3\\x80\\x81\\xe7\\xac\\xac\\xe4\\xb9\\x9d\\xe6\\xac\\xa1\\xe7\\xa0\\x94\\xe7\\xa9\\xb6\\xe7\\x94\\x9f\\xe4\\xbb\\xa3\\xe8\\xa1\\xa8\\xe5\\xa4\\xa7\\xe4\\xbc\\x9a\\xe9\\x9a\\x86\\xe9\\x87\\x8d\\xe5\\x8f\\xac\\xe5\\xbc\\x80</div><div class=\\'time\\'>10-31</div></li><li data-id=27553><div class=\\'move\\'></div><div class=\\'con\\'>\\xe4\\xb8\\xad\\xe5\\x9b\\xbd\\xe5\\x85\\xb1\\xe4\\xba\\xa7\\xe5\\x85\\x9a\\xe7\\xac\\xac\\xe5\\x8d\\x81\\xe4\\xb9\\x9d\\xe5\\xb1\\x8a\\xe4\\xb8\\xad\\xe5\\xa4\\xae\\xe5\\xa7\\x94\\xe5\\x91\\x98\\xe4\\xbc\\x9a\\xe7\\xac\\xac\\xe4\\xba\\x94\\xe6\\xac\\xa1\\xe5\\x85\\xa8\\xe4\\xbd\\x93\\xe4\\xbc\\x9a\\xe8\\xae\\xae\\xe5\\x85\\xac\\xe6\\x8a\\xa5</div><div class=\\'time\\'>10-30</div></li><li data-id=27535><div class=\\'move\\'></div><div class=\\'con\\'>\\xe6\\xb5\\x99\\xe6\\xb1\\x9f\\xe7\\x9c\\x81\\xe5\\xa7\\x94\\xe5\\xb8\\xb8\\xe5\\xa7\\x94\\xe3\\x80\\x81\\xe5\\xae\\xa3\\xe4\\xbc\\xa0\\xe9\\x83\\xa8\\xe9\\x83\\xa8\\xe9\\x95\\xbf\\xe6\\x9c\\xb1\\xe5\\x9b\\xbd\\xe8\\xb4\\xa4\\xe4\\xb8\\x80\\xe8\\xa1\\x8c\\xe6\\x9d\\xa5\\xe6\\xa0\\xa1\\xe8\\xb0\\x83\\xe7\\xa0\\x94</div><div class=\\'time\\'>10-27</div></li><li data-id=27528><div class=\\'move\\'></div><div class=\\'con\\'>\\xe6\\x88\\x91\\xe6\\xa0\\xa1\\xe5\\xb8\\x88\\xe7\\x94\\x9f\\xe8\\x81\\x94\\xe5\\x90\\x88\\xe5\\xbc\\x80\\xe5\\x8f\\x91146\\xe4\\xb8\\xaa\\xe8\\xbd\\xaf\\xe4\\xbb\\xb6\\xef\\xbc\\x8c\\xe7\\xbc\\x96\\xe5\\x86\\x99200\\xe4\\xb8\\x87\\xe8\\xa1\\x8c\\xe4\\xbb\\xa3\\xe7\\xa0\\x81\\xe2\\x80\\x94\\xe2\\x80\\x94 \\xe6\\x9e\\x84\\xe5\\xbb\\xba\\xe6\\x99\\xba\\xe6\\x85\\xa7\\xe6\\xa0\\xa1\\xe5\\x9b\\xad\\xe8\\xb5\\x8b\\xe8\\x83\\xbd\\xe4\\xba\\xba\\xe6\\x89\\x8d\\xe5\\x9f\\xb9\\xe5\\x85\\xbb</div><div class=\\'time\\'>10-26</div></li><li data-id=27525><div class=\\'move\\'></div><div class=\\'con\\'>\\xe6\\xa0\\xa1\\xe7\\xac\\xac\\xe4\\xb8\\x89\\xe5\\x8d\\x81\\xe5\\x85\\xab\\xe5\\xb1\\x8a\\xe7\\x94\\xb0\\xe5\\xbe\\x84\\xe8\\xbf\\x90\\xe5\\x8a\\xa8\\xe4\\xbc\\x9a\\xe5\\x9c\\x86\\xe6\\xbb\\xa1\\xe8\\x90\\xbd\\xe5\\xb9\\x95</div><div class=\\'time\\'>10-25</div></li><li data-id=27518><div class=\\'move\\'></div><div class=\\'con\\'>\\xe6\\xa0\\xa1\\xe5\\x85\\x9a\\xe5\\xa7\\x94\\xe5\\x8f\\xac\\xe5\\xbc\\x80\\xe7\\x90\\x86\\xe8\\xae\\xba\\xe5\\xad\\xa6\\xe4\\xb9\\xa0\\xe4\\xb8\\xad\\xe5\\xbf\\x83\\xe7\\xbb\\x84\\xe4\\xb8\\x93\\xe9\\xa2\\x98\\xe5\\xad\\xa6\\xe4\\xb9\\xa0\\xe4\\xbc\\x9a</div><div class=\\'time\\'>10-22</div></li><li data-id=27511><div class=\\'move\\'></div><div class=\\'con\\'>\\xe4\\xb8\\xad\\xe5\\x9b\\xbd\\xe7\\x94\\xb5\\xe5\\xad\\x90\\xe4\\xbf\\xa1\\xe6\\x81\\xaf\\xe8\\xa1\\x8c\\xe4\\xb8\\x9a\\xe8\\x81\\x94\\xe5\\x90\\x88\\xe4\\xbc\\x9a\\xe4\\xb8\\x93\\xe5\\xae\\xb6\\xe5\\xa7\\x94\\xe4\\xb8\\xbb\\xe4\\xbb\\xbb\\xe6\\x9d\\xa5\\xe6\\xa0\\xa1\\xe4\\xbd\\x9c\\xe5\\xad\\xa6\\xe6\\x9c\\xaf\\xe6\\x8a\\xa5\\xe5\\x91\\x8a</div><div class=\\'time\\'>10-21</div></li><li data-id=27508><div class=\\'move\\'></div><div class=\\'con\\'>\\xe6\\xb5\\x99\\xe6\\xb1\\x9f\\xe7\\x9c\\x81\\xe5\\x8f\\x91\\xe5\\xb1\\x95\\xe6\\x94\\xb9\\xe9\\x9d\\xa9\\xe5\\xa7\\x94\\xe9\\xa2\\x86\\xe5\\xaf\\xbc\\xe6\\x9d\\xa5\\xe6\\xa0\\xa1\\xe8\\xb0\\x83\\xe7\\xa0\\x94\\xe6\\x8c\\x87\\xe5\\xaf\\xbc\\xe6\\xb6\\x88\\xe8\\xb4\\xb9\\xe6\\x89\\xb6\\xe8\\xb4\\xab\\xe5\\xb7\\xa5\\xe4\\xbd\\x9c</div><div class=\\'time\\'>10-20</div></li><li data-id=27505><div class=\\'move\\'></div><div class=\\'con\\'>\\xe6\\xa0\\xa1\\xe9\\xa2\\x86\\xe5\\xaf\\xbc\\xe5\\xba\\x94\\xe9\\x82\\x80\\xe5\\x8f\\x82\\xe5\\x8a\\xa0\\xe9\\xa6\\x96\\xe5\\xb1\\x8a\\xe6\\x8b\\x89\\xe7\\xbe\\x8e\\xe4\\xb8\\xad\\xe5\\x9b\\xbd\\xe5\\x88\\x9b\\xe6\\x96\\xb0\\xe6\\x97\\xa5\\xe6\\xb4\\xbb\\xe5\\x8a\\xa8</div><div class=\\'time\\'>10-19</div></li><li data-id=27503><div class=\\'move\\'></div><div class=\\'con\\'>\\xe7\\x9c\\x81\\xe6\\x95\\x99\\xe8\\x82\\xb2\\xe5\\x8e\\x85\\xe5\\x89\\xaf\\xe4\\xb9\\xa6\\xe8\\xae\\xb0\\xe5\\xb9\\xb2\\xe6\\xad\\xa6\\xe4\\xb8\\x9c\\xe4\\xb8\\x80\\xe8\\xa1\\x8c\\xe6\\x9d\\xa5\\xe6\\x88\\x91\\xe6\\xa0\\xa1\\xe8\\xb0\\x83\\xe7\\xa0\\x94\\xe6\\x8c\\x87\\xe5\\xaf\\xbc</div><div class=\\'time\\'>10-19</div></li><li data-id=27499><div class=\\'move\\'></div><div class=\\'con\\'>\\xe6\\x88\\x91\\xe6\\xa0\\xa1\\xe4\\xb8\\x8e\\xe5\\x8d\\x8e\\xe4\\xb8\\xba\\xe7\\xad\\xbe\\xe7\\xba\\xa6\\xe5\\x85\\xb1\\xe5\\xbb\\xba\\xe2\\x80\\x9c\\xe6\\x99\\xba\\xe8\\x83\\xbd\\xe5\\x9f\\xba\\xe5\\xba\\xa7\\xe2\\x80\\x9d\\xe4\\xba\\xa7\\xe6\\x95\\x99\\xe8\\x9e\\x8d\\xe5\\x90\\x88\\xe5\\x8d\\x8f\\xe5\\x90\\x8c\\xe8\\x82\\xb2\\xe4\\xba\\xba\\xe5\\x9f\\xba\\xe5\\x9c\\xb0</div><div class=\\'time\\'>10-16</div></li><li data-id=27495><div class=\\'move\\'></div><div class=\\'con\\'>\\xe4\\xb9\\xa0\\xe8\\xbf\\x91\\xe5\\xb9\\xb3\\xef\\xbc\\x9a\\xe5\\xb9\\xb4\\xe8\\xbd\\xbb\\xe5\\xb9\\xb2\\xe9\\x83\\xa8\\xe8\\xa6\\x81\\xe6\\x8f\\x90\\xe9\\xab\\x98\\xe8\\xa7\\xa3\\xe5\\x86\\xb3\\xe5\\xae\\x9e\\xe9\\x99\\x85\\xe9\\x97\\xae\\xe9\\xa2\\x98\\xe8\\x83\\xbd\\xe5\\x8a\\x9b \\xe6\\x83\\xb3\\xe5\\xb9\\xb2\\xe4\\xba\\x8b\\xe8\\x83\\xbd\\xe5\\xb9\\xb2\\xe4\\xba\\x8b\\xe5\\xb9\\xb2\\xe6\\x88\\x90\\xe4\\xba\\x8b</div><div class=\\'time\\'>10-13</div></li><li data-id=27488><div class=\\'move\\'></div><div class=\\'con\\'>\\xe6\\xa0\\xa1\\xe5\\xbb\\x89\\xe6\\x94\\xbf\\xe6\\x96\\x87\\xe5\\x8c\\x96\\xe6\\x9c\\x88\\xe6\\xb4\\xbb\\xe5\\x8a\\xa8\\xe6\\x9a\\xa8\\xe2\\x80\\x9c\\xe9\\x9d\\x92\\xe6\\x98\\xa5\\xe6\\x9d\\xad\\xe7\\x94\\xb5\\xe2\\x80\\x9d\\xe7\\xac\\xac\\xe4\\xba\\x8c\\xe5\\xb1\\x8a\\xe6\\xb8\\x85\\xe5\\xbb\\x89\\xe4\\xbf\\xae\\xe8\\xba\\xab\\xe6\\x96\\x87\\xe5\\x8c\\x96\\xe8\\x8a\\x82\\xe5\\xbc\\x80\\xe5\\xb9\\x95</div><div class=\\'time\\'>10-09</div></li>                        </ul>\\r\\n                        <div class=\"page\">\\r\\n                            <a class=\\'cur\\' href=\\'/news/important_26525?page=1&year=2020&month=\\'>1</a><a href=\\'/news/important_26525?page=2&year=2020&month=\\'>2</a><a href=\\'/news/important_26525?page=3&year=2020&month=\\'>3</a><a href=\\'/news/important_26525?page=4&year=2020&month=\\'>4</a><a href=\\'/news/important_26525?page=5&year=2020&month=\\'>5</a><a href=\\'/news/important_26525?page=6&year=2020&month=\\'>6</a><a href=\\'/news/important_26525?page=2&year=2020&month=\\'>\\xe4\\xb8\\x8b\\xe9\\xa1\\xb5</a>                         </div>\\r\\n                    </div>\\r\\n                    <div class=\"qr clear\">\\r\\n                        <div class=\"fl\">\\r\\n                            <img src=\"/asset/news_v2/image/hdu-weixinqr.jpg?v=2.0\" alt=\"\\xe7\\xbd\\x91\\xe6\\x98\\x93\">\\r\\n                            <p>\\xe6\\x9d\\xad\\xe5\\xb7\\x9e\\xe7\\x94\\xb5\\xe5\\xad\\x90\\xe7\\xa7\\x91\\xe6\\x8a\\x80\\xe5\\xa4\\xa7\\xe5\\xad\\xa6\\xe5\\xae\\x98\\xe6\\x96\\xb9\\xe5\\xbe\\xae\\xe4\\xbf\\xa1</p>\\r\\n                        </div>\\r\\n                        <div class=\"fr\">\\r\\n                            <img src=\"/asset/news_v2/image/hdu-weiboqr.jpg?v=2.0\" alt=\"\\xe7\\xbd\\x91\\xe6\\x98\\x93\">\\r\\n                            <p>\\xe6\\x9d\\xad\\xe5\\xb7\\x9e\\xe7\\x94\\xb5\\xe5\\xad\\x90\\xe7\\xa7\\x91\\xe6\\x8a\\x80\\xe5\\xa4\\xa7\\xe5\\xad\\xa6\\xe5\\xae\\x98\\xe6\\x96\\xb9\\xe5\\xbe\\xae\\xe5\\x8d\\x9a</p>\\r\\n                        </div>\\r\\n                    </div>\\r\\n                </div>\\r\\n                <div class=\\'article\\'>\\r\\n                    <div class=\"title\">\\r\\n                        \\xe6\\x88\\x91\\xe6\\xa0\\xa1\\xe4\\xb8\\x93\\xe5\\x9c\\xba\\xe6\\x95\\xb0\\xe5\\xad\\x97\\xe7\\xbb\\x8f\\xe6\\xb5\\x8e\\xe9\\xa2\\x86\\xe5\\x9f\\x9f\\xe4\\xba\\xba\\xe6\\x89\\x8d\\xe9\\xa1\\xb9\\xe7\\x9b\\xae\\xe8\\xb7\\xaf\\xe6\\xbc\\x94\\xe5\\xaf\\xb9\\xe6\\x8e\\xa5\\xe4\\xbc\\x9a\\xe5\\x9c\\xa8\\xe4\\xb9\\x89\\xe4\\xb9\\x8c\\xe4\\xb8\\xbe\\xe8\\xa1\\x8c                    </div>\\r\\n                    <div style=\"float: right;color: #0056bc;font-size: 16px;\">\\r\\n                                            </div>\\r\\n                    <div class=\"instr\">\\r\\n                        \\xe4\\xbd\\x9c\\xe8\\x80\\x85\\xef\\xbc\\x9aadmin     \\xe6\\x9d\\xa5\\xe6\\xba\\x90\\xef\\xbc\\x9a\\xe5\\xad\\xa6\\xe6\\xa0\\xa1\\xe6\\x96\\xb0\\xe9\\x97\\xbb\\xe9\\x83\\xa81     \\xe6\\x97\\xb6\\xe9\\x97\\xb4\\xef\\xbc\\x9a2019-10-13     \\xe7\\x82\\xb9\\xe5\\x87\\xbb\\xe9\\x87\\x8f\\xef\\xbc\\x9a14214                    </div>\\r\\n                    <div class=\"con\">\\r\\n                        <p>&nbsp;&nbsp;&nbsp;&nbsp;&nbsp; &nbsp;10\\xe6\\x9c\\x8812\\xe6\\x97\\xa5\\xe4\\xb8\\x8b\\xe5\\x8d\\x88\\xef\\xbc\\x8c\\xe7\\x94\\xb1\\xe7\\x9c\\x81\\xe5\\xa7\\x94\\xe4\\xba\\xba\\xe6\\x89\\x8d\\xe5\\x8a\\x9e\\xe3\\x80\\x81\\xe7\\x9c\\x81\\xe4\\xba\\xba\\xe5\\x8a\\x9b\\xe7\\xa4\\xbe\\xe4\\xbf\\x9d\\xe5\\x8e\\x85\\xe5\\x92\\x8c\\xe6\\x9d\\xad\\xe5\\xb7\\x9e\\xe7\\x94\\xb5\\xe5\\xad\\x90\\xe7\\xa7\\x91\\xe6\\x8a\\x80\\xe5\\xa4\\xa7\\xe5\\xad\\xa6\\xe8\\x81\\x94\\xe5\\x90\\x88\\xe4\\xb8\\xbe\\xe5\\x8a\\x9e\\xe7\\x9a\\x84\\xe6\\xb5\\x99\\xe6\\xb1\\x9f\\xe7\\x9c\\x81\\xe4\\xb8\\x93\\xe5\\xae\\xb6\\xe6\\x9c\\x8d\\xe5\\x8a\\xa1\\xe4\\xbc\\x81\\xe4\\xb8\\x9a\\xe9\\xab\\x98\\xe8\\xb4\\xa8\\xe9\\x87\\x8f\\xe5\\x8f\\x91\\xe5\\xb1\\x95\\xe4\\xb8\\x93\\xe9\\xa1\\xb9\\xe6\\xb4\\xbb\\xe5\\x8a\\xa8\\xe6\\x9a\\xa8\\xe6\\x95\\xb0\\xe5\\xad\\x97\\xe7\\xbb\\x8f\\xe6\\xb5\\x8e\\xe9\\xa2\\x86\\xe5\\x9f\\x9f\\xe4\\xba\\xba\\xe6\\x89\\x8d\\xe9\\xa1\\xb9\\xe7\\x9b\\xae\\xe8\\xb7\\xaf\\xe6\\xbc\\x94\\xe5\\xaf\\xb9\\xe6\\x8e\\xa5\\xe4\\xbc\\x9a\\xe5\\x9c\\xa8\\xe4\\xb9\\x89\\xe4\\xb9\\x8c\\xe4\\xb8\\xbe\\xe8\\xa1\\x8c\\xe3\\x80\\x82\\xe7\\x9c\\x81\\xe4\\xba\\xba\\xe5\\x8a\\x9b\\xe8\\xb5\\x84\\xe6\\xba\\x90\\xe5\\x92\\x8c\\xe7\\xa4\\xbe\\xe4\\xbc\\x9a\\xe4\\xbf\\x9d\\xe9\\x9a\\x9c\\xe5\\x8e\\x85\\xe5\\x89\\xaf\\xe5\\x8e\\x85\\xe9\\x95\\xbf\\xe8\\x91\\x9b\\xe5\\xb9\\xb3\\xe5\\xae\\x89\\xe3\\x80\\x81\\xe6\\x9d\\xad\\xe5\\xb7\\x9e\\xe7\\x94\\xb5\\xe5\\xad\\x90\\xe7\\xa7\\x91\\xe6\\x8a\\x80\\xe5\\xa4\\xa7\\xe5\\xad\\xa6\\xe5\\x89\\xaf\\xe6\\xa0\\xa1\\xe9\\x95\\xbf\\xe5\\x90\\x95\\xe9\\x87\\x91\\xe6\\xb5\\xb7\\xe3\\x80\\x81\\xe9\\x87\\x91\\xe5\\x8d\\x8e\\xe5\\xb8\\x82\\xe5\\xa7\\x94\\xe7\\xbb\\x84\\xe7\\xbb\\x87\\xe9\\x83\\xa8\\xe5\\x89\\xaf\\xe9\\x83\\xa8\\xe9\\x95\\xbf\\xe3\\x80\\x81\\xe4\\xba\\xba\\xe5\\x8a\\x9b\\xe8\\xb5\\x84\\xe6\\xba\\x90\\xe5\\x92\\x8c\\xe7\\xa4\\xbe\\xe4\\xbc\\x9a\\xe4\\xbf\\x9d\\xe9\\x9a\\x9c\\xe5\\xb1\\x80\\xe5\\xb1\\x80\\xe9\\x95\\xbf\\xe8\\xa4\\x9a\\xe6\\x83\\xa0\\xe6\\x96\\x8c\\xe3\\x80\\x81\\xe4\\xb9\\x89\\xe4\\xb9\\x8c\\xe5\\xb8\\x82\\xe5\\xa7\\x94\\xe5\\xb8\\xb8\\xe5\\xa7\\x94\\xe3\\x80\\x81\\xe7\\xbb\\x84\\xe7\\xbb\\x87\\xe9\\x83\\xa8\\xe9\\x83\\xa8\\xe9\\x95\\xbf\\xe4\\xbd\\x95\\xe8\\x8b\\xa5\\xe4\\xbc\\x9f\\xe3\\x80\\x81\\xe4\\xb9\\x89\\xe4\\xb9\\x8c\\xe5\\xb8\\x82\\xe5\\x89\\xaf\\xe5\\xb8\\x82\\xe9\\x95\\xbf\\xe8\\xb4\\xbe\\xe6\\x96\\x87\\xe7\\xba\\xa2\\xe7\\xad\\x89\\xe5\\x87\\xba\\xe5\\xb8\\xad\\xe6\\xad\\xa4\\xe6\\xac\\xa1\\xe4\\xbc\\x9a\\xe8\\xae\\xae\\xef\\xbc\\x8c\\xe6\\x88\\x91\\xe6\\xa0\\xa1\\xe5\\x8a\\x9e\\xe5\\x85\\xac\\xe5\\xae\\xa4\\xe3\\x80\\x81\\xe4\\xba\\xba\\xe5\\x8a\\x9b\\xe8\\xb5\\x84\\xe6\\xba\\x90\\xe9\\x83\\xa8\\xe3\\x80\\x81\\xe5\\xae\\xa3\\xe4\\xbc\\xa0\\xe9\\x83\\xa8\\xe3\\x80\\x81\\xe4\\xba\\xa7\\xe5\\xad\\xa6\\xe7\\xa0\\x94\\xe5\\x90\\x88\\xe4\\xbd\\x9c\\xe5\\xa4\\x84\\xe3\\x80\\x81\\xe6\\x9c\\xba\\xe6\\xa2\\xb0\\xe5\\xad\\xa6\\xe9\\x99\\xa2\\xe7\\xad\\x89\\xe9\\x83\\xa8\\xe9\\x97\\xa8\\xe5\\x92\\x8c\\xe5\\xad\\xa6\\xe9\\x99\\xa2\\xe4\\xbb\\xa3\\xe8\\xa1\\xa8\\xe5\\x8f\\x8a\\xe9\\x83\\xa8\\xe5\\x88\\x86\\xe6\\x95\\xb0\\xe5\\xad\\x97\\xe9\\xa2\\x86\\xe5\\x9f\\x9f\\xe4\\xb8\\x93\\xe5\\xae\\xb6\\xe5\\x92\\x8c\\xe5\\x90\\x84\\xe5\\x9c\\xb0\\xe4\\xbc\\x81\\xe4\\xb8\\x9a\\xe4\\xbb\\xa3\\xe8\\xa1\\xa8\\xe5\\x8f\\x82\\xe5\\x8a\\xa0\\xe4\\xbc\\x9a\\xe8\\xae\\xae\\xe3\\x80\\x82</p><p>&nbsp; &nbsp; &nbsp; &nbsp;\\xe8\\x91\\x9b\\xe5\\xb9\\xb3\\xe5\\xae\\x89\\xe5\\x9c\\xa8\\xe8\\x87\\xb4\\xe8\\xbe\\x9e\\xe4\\xb8\\xad\\xe6\\x8f\\x90\\xe5\\x87\\xba\\xef\\xbc\\x8c\\xe8\\xa6\\x81\\xe5\\x9c\\xa8\\xe5\\x90\\x88\\xe4\\xbd\\x9c\\xe5\\x86\\x85\\xe5\\xae\\xb9\\xe5\\x92\\x8c\\xe5\\x90\\x88\\xe4\\xbd\\x9c\\xe5\\xbd\\xa2\\xe5\\xbc\\x8f\\xe4\\xb8\\x8a\\xe4\\xb8\\x8d\\xe6\\x96\\xad\\xe5\\x88\\x9b\\xe6\\x96\\xb0\\xef\\xbc\\x8c\\xe8\\xa6\\x81\\xe4\\xbb\\xa5\\xe4\\xba\\xba\\xe6\\x89\\x8d\\xe5\\xb8\\xa6\\xe9\\xa1\\xb9\\xe7\\x9b\\xae\\xef\\xbc\\x8c\\xe4\\xbb\\xa5\\xe9\\xa1\\xb9\\xe7\\x9b\\xae\\xe5\\xb8\\xa6\\xe4\\xba\\xba\\xe6\\x89\\x8d\\xef\\xbc\\x8c\\xe5\\x80\\x9f\\xe9\\xab\\x98\\xe6\\xa0\\xa1\\xe4\\xb9\\x8b\\xe5\\x8a\\x9b\\xe6\\x9c\\x8d\\xe5\\x8a\\xa1\\xe4\\xbc\\x81\\xe4\\xb8\\x9a\\xef\\xbc\\x8c\\xe5\\x80\\x9f\\xe4\\xbc\\x81\\xe4\\xb8\\x9a\\xe4\\xb9\\x8b\\xe5\\x8a\\x9b\\xe5\\x8f\\x8d\\xe5\\x93\\xba\\xe9\\xab\\x98\\xe6\\xa0\\xa1\\xef\\xbc\\x8c\\xe5\\x90\\x84\\xe5\\x9c\\xb0\\xe4\\xba\\xba\\xe5\\x8a\\x9b\\xe7\\xa4\\xbe\\xe4\\xbf\\x9d\\xe9\\x83\\xa8\\xe9\\x97\\xa8\\xe7\\xa7\\xaf\\xe6\\x9e\\x81\\xe5\\x9c\\xb0\\xe4\\xbf\\x83\\xe8\\xbf\\x9b\\xe9\\xa1\\xb9\\xe7\\x9b\\xae\\xe8\\x90\\xbd\\xe5\\x9c\\xb0\\xe3\\x80\\x82</p><p>&nbsp;&nbsp;&nbsp;&nbsp;&nbsp; &nbsp;\\xe5\\x90\\x95\\xe9\\x87\\x91\\xe6\\xb5\\xb7\\xe8\\xa1\\xa8\\xe7\\xa4\\xba\\xef\\xbc\\x8c\\xe6\\x9d\\xad\\xe7\\x94\\xb5\\xe4\\xb8\\x8e\\xe4\\xb9\\x89\\xe4\\xb9\\x8c\\xe7\\x9a\\x84\\xe6\\xb8\\x8a\\xe6\\xba\\x90\\xe7\\x94\\xb1\\xe6\\x9d\\xa5\\xe5\\xb7\\xb2\\xe4\\xb9\\x85\\xef\\xbc\\x8c\\xe8\\xbf\\x91\\xe5\\xb9\\xb4\\xe6\\x9d\\xa5\\xe5\\x8f\\x8c\\xe6\\x96\\xb9\\xe5\\x9c\\xa8\\xe7\\xa7\\x91\\xe6\\x8a\\x80\\xe5\\x90\\x88\\xe4\\xbd\\x9c\\xe5\\x92\\x8c\\xe4\\xba\\xba\\xe6\\x89\\x8d\\xe5\\x9f\\xb9\\xe5\\x85\\xbb\\xe5\\x90\\x88\\xe4\\xbd\\x9c\\xe6\\x96\\xb9\\xe9\\x9d\\xa2\\xe6\\x9b\\xb4\\xe6\\x98\\xaf\\xe4\\xba\\x92\\xe5\\x8a\\xa8\\xe9\\xa2\\x91\\xe7\\xb9\\x81\\xe3\\x80\\x82\\xe8\\xbf\\x99\\xe6\\xac\\xa1\\xe6\\x9d\\xad\\xe7\\x94\\xb5\\xe7\\xbb\\x84\\xe7\\xbb\\x87\\xe4\\xba\\x8660\\xe5\\xa4\\x9a\\xe4\\xbd\\x8d\\xe4\\xb8\\x93\\xe5\\xae\\xb6\\xe6\\x95\\x99\\xe6\\x8e\\x88\\xe5\\xb8\\xa6\\xe7\\x9d\\x80\\xe6\\x9c\\x80\\xe6\\x96\\xb0\\xe3\\x80\\x81\\xe6\\x9c\\x80\\xe5\\x89\\x8d\\xe6\\xb2\\xbf\\xe7\\x9a\\x84\\xe6\\x8a\\x80\\xe6\\x9c\\xaf\\xe9\\xa1\\xb9\\xe7\\x9b\\xae\\xe9\\xbd\\x90\\xe8\\x81\\x9a\\xe8\\xbf\\x99\\xe9\\x87\\x8c\\xef\\xbc\\x8c\\xe4\\xbb\\xa3\\xe8\\xa1\\xa8\\xe7\\x9d\\x80\\xe5\\x8f\\x8c\\xe6\\x96\\xb9\\xe7\\x9a\\x84\\xe5\\x90\\x88\\xe4\\xbd\\x9c\\xe8\\xbf\\x9b\\xe5\\x85\\xa5\\xe4\\xba\\x86\\xe6\\x9b\\xb4\\xe5\\x85\\xa8\\xe9\\x9d\\xa2\\xe3\\x80\\x81\\xe6\\x9b\\xb4\\xe6\\xb7\\xb1\\xe5\\x85\\xa5\\xe3\\x80\\x81\\xe6\\x9b\\xb4\\xe5\\xae\\x9e\\xe8\\xb4\\xa8\\xe7\\x9a\\x84\\xe6\\x96\\xb0\\xe9\\x98\\xb6\\xe6\\xae\\xb5\\xe3\\x80\\x82</p><p>&nbsp;&nbsp;&nbsp;&nbsp;&nbsp; &nbsp;\\xe4\\xbd\\x95\\xe8\\x8b\\xa5\\xe4\\xbc\\x9f\\xe6\\x8c\\x87\\xe5\\x87\\xba\\xef\\xbc\\x8c\\xe5\\xae\\x9e\\xe7\\x8e\\xb0\\xe4\\xb9\\x89\\xe4\\xb9\\x8c\\xe9\\xab\\x98\\xe7\\xa7\\x91\\xe6\\x8a\\x80\\xe4\\xbc\\x81\\xe4\\xb8\\x9a\\xe8\\x93\\xac\\xe5\\x8b\\x83\\xe5\\x8f\\x91\\xe5\\xb1\\x95\\xe7\\x9a\\x84\\xe5\\x85\\xb3\\xe9\\x94\\xae\\xe5\\x9c\\xa8\\xe7\\xa7\\x91\\xe6\\x8a\\x80\\xef\\xbc\\x8c\\xe6\\xa0\\xb9\\xe6\\x9c\\xac\\xe5\\x9c\\xa8\\xe4\\xba\\xba\\xe6\\x89\\x8d\\xe3\\x80\\x82\\xe5\\xb8\\x8c\\xe6\\x9c\\x9b\\xe6\\x9d\\xad\\xe7\\x94\\xb5\\xe5\\x9c\\xa8\\xe6\\x95\\xb0\\xe5\\xad\\x97\\xe7\\xbb\\x8f\\xe6\\xb5\\x8e\\xe9\\xa2\\x86\\xe5\\x9f\\x9f\\xe4\\xb8\\xad\\xe7\\x9a\\x84\\xe7\\xaa\\x81\\xe5\\x87\\xba\\xe7\\xa7\\x91\\xe5\\xad\\xa6\\xe4\\xbc\\x98\\xe5\\x8a\\xbf\\xef\\xbc\\x8c\\xe8\\x83\\xbd\\xe5\\x9c\\xa8\\xe4\\xb9\\x89\\xe4\\xb9\\x8c\\xe5\\x85\\xa8\\xe7\\x90\\x83\\xe8\\x87\\xaa\\xe7\\x94\\xb1\\xe8\\xb4\\xb8\\xe6\\x98\\x93\\xe4\\xb8\\xad\\xe5\\x8f\\x91\\xe6\\x8c\\xa5\\xe4\\xbd\\x9c\\xe7\\x94\\xa8\\xe3\\x80\\x82</p><p style=\"text-align: center;\"><img src=\"/uploads/news/images/20191013/1570961661704039.jpg\" title=\"1570961661704039.jpg\" alt=\"\\xe5\\x9b\\xbe\\xe7\\x89\\x87 2_meitu_2.jpg\"/>&nbsp;</p><p>&nbsp;&nbsp;&nbsp;&nbsp;&nbsp; &nbsp;\\xe5\\x9c\\xa8\\xe4\\xb8\\x8e\\xe4\\xb9\\x89\\xe4\\xb9\\x8c\\xe5\\xb8\\x82\\xe4\\xba\\xba\\xe6\\x89\\x8d\\xe9\\xa1\\xb9\\xe7\\x9b\\xae\\xe5\\x90\\x88\\xe4\\xbd\\x9c\\xe7\\xad\\xbe\\xe7\\xba\\xa6\\xe4\\xbb\\xaa\\xe5\\xbc\\x8f\\xe4\\xb8\\x8a\\xef\\xbc\\x8c\\xe6\\x88\\x91\\xe6\\xa0\\xa1\\xe6\\x9c\\xba\\xe6\\xa2\\xb0\\xe5\\xad\\xa6\\xe9\\x99\\xa2\\xe5\\x92\\x8c\\xe4\\xb9\\x89\\xe4\\xb9\\x8c\\xe7\\xa0\\x94\\xe7\\xa9\\xb6\\xe9\\x99\\xa2\\xe5\\x88\\x86\\xe5\\x88\\xab\\xe4\\xb8\\x8e\\xe4\\xb9\\x89\\xe4\\xb9\\x8c\\xe5\\xb8\\x82\\xe4\\xb8\\x8a\\xe6\\xba\\xaa\\xe9\\x95\\x87\\xe5\\x85\\xb1\\xe5\\x90\\x8c\\xe7\\xad\\xbe\\xe8\\xae\\xa2\\xe4\\xba\\xba\\xe6\\x89\\x8d\\xe5\\x9f\\xb9\\xe5\\x85\\xbb\\xe5\\x8d\\x8f\\xe8\\xae\\xae\\xe5\\x92\\x8c\\xe7\\xa7\\x91\\xe6\\x8a\\x80\\xe6\\x9c\\x8d\\xe5\\x8a\\xa1\\xe5\\x8d\\x8f\\xe8\\xae\\xae\\xef\\xbc\\x8c\\xe6\\x88\\x91\\xe6\\xa0\\xa1\\xe4\\xb8\\x89\\xe4\\xbd\\x8d\\xe4\\xb8\\x93\\xe5\\xae\\xb6\\xe5\\x88\\x99\\xe4\\xb8\\x8e\\xe4\\xbc\\x81\\xe4\\xb8\\x9a\\xe7\\xad\\xbe\\xe8\\xae\\xa2\\xe4\\xba\\x86\\xe6\\x8a\\x80\\xe6\\x9c\\xaf\\xe5\\x90\\x88\\xe4\\xbd\\x9c\\xe5\\x8d\\x8f\\xe8\\xae\\xae\\xe3\\x80\\x82</p><p style=\"text-align: center;\"><img src=\"/uploads/news/images/20191013/1570962293722178.jpg\" title=\"1570962293722178.jpg\" alt=\"\\xe5\\x9b\\xbe\\xe7\\x89\\x87 3_meitu_8.jpg\"/></p><p>&nbsp;&nbsp;&nbsp;&nbsp;&nbsp; &nbsp;\\xe5\\x9c\\xa8\\xe9\\x9a\\x8f\\xe5\\x90\\x8e\\xe7\\x9a\\x84\\xe4\\xba\\xba\\xe6\\x89\\x8d\\xe9\\xa1\\xb9\\xe7\\x9b\\xae\\xe8\\xb7\\xaf\\xe6\\xbc\\x94\\xe6\\x8e\\xa8\\xe4\\xbb\\x8b\\xe4\\xbc\\x9a\\xe4\\xb8\\x8a\\xef\\xbc\\x8c\\xe6\\x88\\x91\\xe6\\xa0\\xa1\\xe9\\x99\\x88\\xe7\\xa7\\x91\\xe6\\x98\\x8e\\xe3\\x80\\x81\\xe6\\x9e\\x97\\xe5\\xbf\\x97\\xe8\\xb5\\x9f\\xe3\\x80\\x81\\xe5\\x90\\x95\\xe6\\xb0\\xb8\\xe6\\xa1\\x82\\xe3\\x80\\x81\\xe7\\xae\\x80\\xe5\\xbf\\x97\\xe5\\x8d\\x8e\\xe3\\x80\\x81\\xe5\\xbc\\xa0\\xe7\\xa5\\xa5\\xe6\\xb3\\x89\\xe3\\x80\\x81\\xe5\\xbe\\x90\\xe5\\xb0\\x8f\\xe8\\x89\\xaf\\xe3\\x80\\x81\\xe4\\xbb\\xbb\\xe5\\xbd\\xa7\\xe3\\x80\\x81\\xe9\\x9f\\xa9\\xe4\\xbc\\x9f\\xe7\\xad\\x89\\xe4\\xb8\\x93\\xe5\\xae\\xb6\\xe5\\x88\\x86\\xe5\\x88\\xab\\xe5\\xb8\\xa6\\xe6\\x9d\\xa5\\xe4\\xba\\x86\\xe7\\x89\\xa9\\xe8\\x81\\x94\\xe7\\xbd\\x91\\xe3\\x80\\x81\\xe4\\xba\\xba\\xe5\\xb7\\xa5\\xe6\\x99\\xba\\xe8\\x83\\xbd\\xe3\\x80\\x81\\xe8\\x89\\xba\\xe6\\x9c\\xaf\\xe8\\xae\\xbe\\xe8\\xae\\xa1\\xe3\\x80\\x81\\xe5\\xa4\\xa7\\xe6\\x95\\xb0\\xe6\\x8d\\xae\\xe3\\x80\\x81\\xe6\\x9d\\x90\\xe6\\x96\\x99\\xe4\\xb8\\x8e\\xe7\\x8e\\xaf\\xe5\\xa2\\x83\\xe5\\xb7\\xa5\\xe7\\xa8\\x8b\\xe7\\xad\\x89\\xe9\\xa2\\x86\\xe5\\x9f\\x9f\\xe7\\x9a\\x84\\xe8\\xb7\\xaf\\xe6\\xbc\\x94\\xe9\\xa1\\xb9\\xe7\\x9b\\xae\\xe3\\x80\\x82</p><p style=\"text-align: center;\"><img src=\"/uploads/news/images/20191013/1570961707151413.jpg\" title=\"1570961707151413.jpg\" alt=\"\\xe5\\x9b\\xbe\\xe7\\x89\\x87 4_meitu_4.jpg\"/></p><p><br/></p><p style=\"text-align: center;\"><img src=\"/uploads/news/images/20191013/1570961719882252.jpg\" title=\"1570961719882252.jpg\" alt=\"\\xe5\\x9b\\xbe\\xe7\\x89\\x87 5_meitu_5.jpg\"/></p><p>&nbsp;&nbsp;&nbsp;&nbsp;&nbsp; &nbsp;\\xe6\\x8d\\xae\\xe4\\xba\\x86\\xe8\\xa7\\xa3\\xef\\xbc\\x8c\\xe4\\xb8\\xba\\xe4\\xba\\x86\\xe8\\xae\\xa9\\xe8\\xbf\\x99\\xe5\\x9c\\xba\\xe5\\xaf\\xb9\\xe6\\x8e\\xa5\\xe4\\xbc\\x9a\\xe6\\x9b\\xb4\\xe5\\x85\\xb7\\xe6\\x88\\x90\\xe6\\x95\\x88\\xef\\xbc\\x8c\\xe6\\x88\\x91\\xe6\\xa0\\xa1\\xe7\\xb2\\xbe\\xe5\\xbf\\x83\\xe9\\x81\\xb4\\xe9\\x80\\x89\\xe4\\xba\\x86\\xe2\\x80\\x9c\\xe6\\x95\\xb0\\xe5\\xad\\x97\\xe7\\xbb\\x8f\\xe6\\xb5\\x8e\\xe2\\x80\\x9d\\xe9\\xa2\\x86\\xe5\\x9f\\x9f\\xe7\\xa7\\x91\\xe6\\x8a\\x80\\xe9\\xa1\\xb9\\xe7\\x9b\\xae1023\\xe4\\xb8\\xaa\\xef\\xbc\\x8c\\xe5\\x85\\xb6\\xe4\\xb8\\xad\\xe7\\xa7\\x91\\xe6\\x8a\\x80\\xe6\\x88\\x90\\xe6\\x9e\\x9c\\xe6\\x8a\\x80\\xe6\\x9c\\xaf\\xe9\\xa1\\xb9\\xe7\\x9b\\xae70\\xe4\\xb8\\xaa\\xef\\xbc\\x8c\\xe5\\x8f\\xaf\\xe8\\xbd\\xac\\xe8\\xae\\xa9\\xe5\\x8f\\x91\\xe6\\x98\\x8e\\xe4\\xb8\\x93\\xe5\\x88\\xa9\\xe9\\xa1\\xb9\\xe7\\x9b\\xae953\\xe4\\xb8\\xaa\\xef\\xbc\\x8c\\xe6\\xb6\\xb5\\xe7\\x9b\\x96\\xe8\\xa3\\x85\\xe5\\xa4\\x87\\xe5\\x88\\xb6\\xe9\\x80\\xa0\\xe3\\x80\\x81\\xe4\\xba\\xba\\xe5\\xb7\\xa5\\xe6\\x99\\xba\\xe8\\x83\\xbd\\xe3\\x80\\x81\\xe7\\x89\\xa9\\xe7\\x90\\x86\\xe9\\x80\\x9a\\xe4\\xbf\\xa1\\xe3\\x80\\x81\\xe7\\x94\\xb5\\xe5\\x8a\\x9b\\xe9\\x85\\x8d\\xe7\\x94\\xb5\\xe3\\x80\\x81\\xe5\\xa4\\xa7\\xe6\\x95\\xb0\\xe6\\x8d\\xae\\xe3\\x80\\x81\\xe6\\x97\\xa0\\xe4\\xba\\xba\\xe6\\x9c\\xba\\xe3\\x80\\x81\\xe8\\x8a\\xaf\\xe7\\x89\\x87\\xe7\\xad\\x89\\xe5\\x85\\xb3\\xe9\\x94\\xae\\xe6\\x8a\\x80\\xe6\\x9c\\xaf\\xe3\\x80\\x82\\xe6\\xb4\\xbb\\xe5\\x8a\\xa8\\xe7\\x8e\\xb0\\xe5\\x9c\\xba\\xef\\xbc\\x8c\\xe6\\x88\\x91\\xe6\\xa0\\xa1\\xe5\\xb8\\xa6\\xe6\\x9d\\xa5\\xe4\\xba\\x868\\xe4\\xb8\\xaa\\xe8\\xb7\\xaf\\xe6\\xbc\\x94\\xe9\\xa1\\xb9\\xe7\\x9b\\xae\\xe5\\x92\\x8c143\\xe4\\xb8\\xaa\\xe7\\x8e\\xb0\\xe5\\x9c\\xba\\xe6\\xb4\\xbd\\xe8\\xb0\\x88\\xe9\\xa1\\xb9\\xe7\\x9b\\xae\\xef\\xbc\\x8c\\xe4\\xb8\\x8e\\xe5\\x85\\xa8\\xe7\\x9c\\x81153\\xe5\\xae\\xb6\\xe4\\xbc\\x81\\xe4\\xb8\\x9a\\xe8\\xbf\\x9b\\xe8\\xa1\\x8c\\xe4\\xba\\x86\\xe6\\xb4\\xbd\\xe8\\xb0\\x88\\xe5\\xaf\\xb9\\xe6\\x8e\\xa5\\xe3\\x80\\x82\\xe6\\xad\\xa4\\xe6\\xac\\xa1\\xe5\\xaf\\xb9\\xe6\\x8e\\xa5\\xe4\\xbc\\x9a\\xe6\\x98\\xaf\\xe2\\x80\\x9c\\xe6\\xb5\\x99\\xe6\\xb1\\x9f\\xe7\\x9c\\x81\\xe4\\xb8\\x93\\xe5\\xae\\xb6\\xe6\\x9c\\x8d\\xe5\\x8a\\xa1\\xe4\\xbc\\x81\\xe4\\xb8\\x9a\\xe9\\xab\\x98\\xe8\\xb4\\xa8\\xe9\\x87\\x8f\\xe5\\x8f\\x91\\xe5\\xb1\\x95\\xe4\\xb8\\x93\\xe9\\xa1\\xb9\\xe6\\xb4\\xbb\\xe5\\x8a\\xa8\\xe2\\x80\\x9d\\xe7\\x9a\\x84\\xe7\\xb3\\xbb\\xe5\\x88\\x97\\xe6\\xb4\\xbb\\xe5\\x8a\\xa8\\xef\\xbc\\x8c\\xe6\\x97\\xa8\\xe5\\x9c\\xa8\\xe8\\xb7\\xb5\\xe8\\xa1\\x8c\\xe7\\x9c\\x81\\xe5\\xa7\\x94\\xe2\\x80\\x9c\\xe4\\xb8\\x89\\xe6\\x9c\\x8d\\xe5\\x8a\\xa1\\xe2\\x80\\x9d\\xe6\\xb4\\xbb\\xe5\\x8a\\xa8\\xe8\\xa6\\x81\\xe6\\xb1\\x82\\xef\\xbc\\x8c\\xe7\\xb2\\xbe\\xe5\\x87\\x86\\xe6\\x9c\\x8d\\xe5\\x8a\\xa1\\xe4\\xbc\\x81\\xe4\\xb8\\x9a\\xe9\\xab\\x98\\xe8\\xb4\\xa8\\xe9\\x87\\x8f\\xe5\\x8f\\x91\\xe5\\xb1\\x95\\xef\\xbc\\x8c\\xe4\\xb8\\xba\\xe6\\x88\\x91\\xe6\\xa0\\xa1\\xe7\\xa7\\x91\\xe7\\xa0\\x94\\xe6\\x88\\x90\\xe6\\x9e\\x9c\\xe5\\x95\\x86\\xe4\\xb8\\x9a\\xe8\\x90\\xbd\\xe5\\x9c\\xb0\\xe6\\x8f\\x90\\xe4\\xbe\\x9b\\xe4\\xba\\x86\\xe6\\x9c\\x89\\xe6\\x95\\x88\\xe5\\xb9\\xb3\\xe5\\x8f\\xb0\\xef\\xbc\\x8c\\xe4\\xb9\\x9f\\xe6\\x98\\xaf\\xe6\\x88\\x91\\xe6\\xa0\\xa1\\xe8\\xb7\\xb5\\xe8\\xa1\\x8c\\xe2\\x80\\x9c\\xe4\\xb8\\x8d\\xe5\\xbf\\x98\\xe5\\x88\\x9d\\xe5\\xbf\\x83 \\xe7\\x89\\xa2\\xe8\\xae\\xb0\\xe4\\xbd\\xbf\\xe5\\x91\\xbd\\xe2\\x80\\x9d\\xe4\\xb8\\xbb\\xe9\\xa2\\x98\\xe6\\x95\\x99\\xe8\\x82\\xb2\\xe7\\x9a\\x84\\xe6\\xb4\\xbb\\xe5\\x8a\\xa8\\xe4\\xb9\\x8b\\xe4\\xb8\\x80\\xe3\\x80\\x82\\xef\\xbc\\x88\\xe6\\xa0\\xa1\\xe6\\x96\\xb0\\xe9\\x97\\xbb\\xe4\\xb8\\xad\\xe5\\xbf\\x83\\xef\\xbc\\x89</p><p style=\"text-align: center;\"><img src=\"/uploads/news/images/20191013/1570961733951547.jpg\" title=\"1570961733951547.jpg\" alt=\"\\xe5\\x9b\\xbe\\xe7\\x89\\x87 6_meitu_6.jpg\"/></p>                    </div>\\r\\n                </div>\\r\\n            </div>\\r\\n            <div class=\"cooper c\">\\r\\n                <ul>\\r\\n                    <li alt=\"\\xe7\\xbd\\x91\\xe6\\x98\\x93\" data-href=\"http://dy.163.com/v2/media/search?word=%BA%BC%D6%DD%B5%E7%D7%D3%BF%C6%BC%BC%B4%F3%D1%A7&cid=\" \\r\\n                        data-image=\\'/asset/news_v2/image/bottom01-r.jpg?v=2.0\\' data-default=\\'/asset/news_v2/image/bottom01.jpg?v=2.0\\'>\\r\\n                        <img src=\\'/asset/news_v2/image/bottom01.jpg?v=2.0\\'>\\r\\n                    </li>\\r\\n                    <li alt=\"\\xe5\\xa4\\xb4\\xe6\\x9d\\xa1\" data-href=\"https://www.toutiao.com/c/user/6596331691/#mid=6596331691\" \\r\\n                        data-image=\\'/asset/news_v2/image/bottom02-r.jpg?v=2.0\\' data-default=\\'/asset/news_v2/image/bottom02.jpg?v=2.0\\'>\\r\\n                        <img src=\\'/asset/news_v2/image/bottom02.jpg?v=2.0\\'>\\r\\n                    </li>\\r\\n                    <li alt=\"\\xe5\\xbe\\xae\\xe5\\x8d\\x9a\" data-href=\"https://weibo.com/hzhdu?refer_flag=1001030103_\" \\r\\n                        data-image=\\'/asset/news_v2/image/bottom03-r.jpg?v=2.0\\' data-default=\\'/asset/news_v2/image/bottom03.jpg?v=2.0\\'>\\r\\n                        <img src=\\'/asset/news_v2/image/bottom03.jpg?v=2.0\\'>\\r\\n                    </li>\\r\\n                    <li alt=\"\\xe7\\xba\\xa2\\xe8\\x89\\xb2\\xe5\\xae\\xb6\\xe5\\x9b\\xad\" data-href=\"http://cas.hdu.edu.cn/cas/login?service=http%3A%2F%2F106.14.9.60%3A3000%2Fcommon%2FgetTicket\" \\r\\n                        data-image=\\'/asset/news_v2/image/bottom05-r.jpg?v=2.0\\' data-default=\\'/asset/news_v2/image/bottom05.jpg?v=2.0\\'>\\r\\n                        <img src=\\'/asset/news_v2/image/bottom05.jpg?v=2.0\\'>\\r\\n                    </li>\\r\\n                </ul>\\r\\n            </div>\\r\\n        </div>\\r\\n        <div class=\\'footer\\'>\\r\\n            <p>\\xe6\\x9d\\xad\\xe5\\xb7\\x9e\\xe7\\x94\\xb5\\xe5\\xad\\x90\\xe7\\xa7\\x91\\xe6\\x8a\\x80\\xe5\\xa4\\xa7\\xe5\\xad\\xa6\\xe5\\x85\\x9a\\xe5\\xa7\\x94\\xe5\\xae\\xa3\\xe4\\xbc\\xa0\\xe9\\x83\\xa8\\xe3\\x80\\x80\\xe7\\x89\\x88\\xe6\\x9d\\x83\\xe6\\x89\\x80\\xe6\\x9c\\x89\\xe3\\x80\\x80\\xe6\\x9d\\xad\\xe5\\xb7\\x9e\\xe7\\x94\\xb5\\xe5\\xad\\x90\\xe7\\xa7\\x91\\xe6\\x8a\\x80\\xe5\\xa4\\xa7\\xe5\\xad\\xa6\\xe6\\x96\\xb0\\xe9\\x97\\xbb\\xe4\\xb8\\xad\\xe5\\xbf\\x83\\xe7\\xbb\\xb4\\xe6\\x8a\\xa4</p>\\r\\n            <p>\\xe6\\xb5\\x99ICP\\xe5\\xa4\\x8712028388\\xe5\\x8f\\xb7\\xe3\\x80\\x80\\xe6\\x8e\\xa8\\xe8\\x8d\\x90\\xe4\\xbd\\xbf\\xe7\\x94\\xa8Google\\xe6\\xb5\\x8f\\xe8\\xa7\\x88\\xe5\\x99\\xa8\\xe3\\x80\\x81\\xe7\\x81\\xab\\xe7\\x8b\\x90\\xe6\\xb5\\x8f\\xe8\\xa7\\x88\\xe5\\x99\\xa8\\xe3\\x80\\x81360\\xe6\\xb5\\x8f\\xe8\\xa7\\x88\\xe5\\x99\\xa8\\xef\\xbc\\x88\\xe6\\x9e\\x81\\xe9\\x80\\x9f\\xe6\\xa8\\xa1\\xe5\\xbc\\x8f\\xef\\xbc\\x89</p>\\r\\n        </div>\\r\\n    </div>\\r\\n<script type=\"text/javascript\">\\r\\n    $(\\'.aside .m-news li,.article .m-comp li,.article .m-media li\\').mouseenter(function () {\\r\\n        $(this).addClass(\\'cur\\');\\r\\n        $(this).children().addClass(\\'cur\\');\\r\\n    }).mouseleave(function(){\\r\\n        $(this).removeClass(\\'cur\\');\\r\\n        $(this).children().removeClass(\\'cur\\');\\r\\n    });\\r\\n    $(\\'.f-nav .search\\').click(function(){\\r\\n        $(\\'#find\\').show(0);\\r\\n        $(\\'#find\\').focus();\\r\\n        $(\\'.f-nav .error\\').show(0);\\r\\n        $(\\'.f-nav ul\\').hide(0);\\r\\n        $(\\'.f-nav .search\\').hide(0);\\r\\n    });\\r\\n    $(\\'.f-nav .error\\').click(function(){\\r\\n        $(\\'#find\\').val(\\'\\');\\r\\n        $(\\'#find\\').hide(0);\\r\\n        $(\\'.f-nav .error\\').hide(0);\\r\\n        $(\\'.f-nav ul\\').show(0);\\r\\n        $(\\'.f-nav .search\\').show(0);\\r\\n    });\\r\\n    $(\\'#find\\').keyup(function(event){\\r\\n        if(event.keyCode ===13){\\r\\n            window.location.href=\"/news/search?advanced=true&keyword=\"+$.trim($(this).val())+\"\";\\r\\n        }\\r\\n    });\\r\\n    \\r\\n    $(\\'.cooper li\\').mouseenter(function () {\\r\\n        $(this).children(\\'img\\').attr(\\'src\\',$(this).attr(\\'data-image\\'));\\r\\n    }).mouseleave(function(){\\r\\n        $(this).children(\\'img\\').attr(\\'src\\',$(this).attr(\\'data-default\\'));\\r\\n    });\\r\\n\\r\\n    $(\\'.aside .curTime\\').click(function(event){\\r\\n        if($(this).attr(\\'show\\')===\\'0\\'){\\r\\n            $(this).children(\\'.cate\\').css(\\'transform\\',\\'rotate(180deg)\\')\\r\\n            $(this).siblings(\\'.year\\').slideDown(200);\\r\\n            $(this).attr(\\'show\\',\\'1\\');\\r\\n        }else{\\r\\n            $(this).children(\\'.cate\\').css(\\'transform\\',\\'rotate(0deg)\\')\\r\\n            $(this).siblings(\\'.year\\').slideUp(200);\\r\\n            $(this).attr(\\'show\\',\\'0\\');\\r\\n        }\\r\\n        event.stopPropagation();\\r\\n    });\\r\\n    $(\\'.aside .year .ym\\').click(function(event){\\r\\n        $(\\'.aside .curTime font\\').html($(this).text());\\r\\n        $(\\'.aside .curTime .cate\\').css(\\'transform\\',\\'rotate(0deg)\\')\\r\\n        $(\\'.aside .year\\').slideUp(200);\\r\\n        $(\\'.aside .curTime\\').attr(\\'show\\',\\'0\\');\\r\\n        event.stopPropagation();\\r\\n    });\\r\\n    $(document).click(function(){\\r\\n        $(\\'.aside .curTime .cate\\').css(\\'transform\\',\\'rotate(0deg)\\')\\r\\n        $(\\'.aside .year\\').slideUp(200);\\r\\n        $(\\'.aside .curTime\\').attr(\\'show\\',\\'0\\');\\r\\n    });\\r\\n    $(\\'.cooper li\\').click(function(){\\r\\n        window.location.href=$(this).attr(\\'data-href\\');\\r\\n    });\\r\\n\\r\\n    function gofor(element){\\r\\n        $(element).click(function(){\\r\\n            window.location.href=\"/news/important_\"+$(this).attr(\\'data-id\\')+\"?page=1&year=2020&month=\";\\r\\n        });\\r\\n    }\\r\\n    gofor(\\'.aside .m-news li\\');\\r\\n    $(\\'.aside .time-list .mm\\').click(function(){\\r\\n        if($(this).attr(\\'check\\')===\\'1\\'){\\r\\n            window.location.href=\"/news/important_26525?page=1&year=2020\";\\r\\n        }else{\\r\\n            window.location.href=\"/news/important_26525?page=1&year=2020&month=\"+$(this).text()+\"\";\\r\\n        }\\r\\n    });\\r\\n\\r\\n    $(\\'.aside .time-list .ym\\').click(function(){\\r\\n        window.location.href=\"/news/important_26525?page=1&year=\"+$(this).text()+\"&month=\";\\r\\n    });\\r\\n\\r\\n</script>\\r\\n</body>\\r\\n</html>\\r\\n'"
      ]
     },
     "execution_count": 197,
     "metadata": {},
     "output_type": "execute_result"
    }
   ],
   "source": [
    "r.content"
   ]
  },
  {
   "cell_type": "code",
   "execution_count": 32,
   "metadata": {
    "collapsed": true,
    "jupyter": {
     "outputs_hidden": true
    }
   },
   "outputs": [
    {
     "data": {
      "text/plain": [
       "'\\n\\n\\n\\n<!--$news 当前新闻内容-->\\r\\n<!--$page 当前页面-->\\r\\n<!--$total_page 总页面-->\\r\\n<!--$count 总数量-->\\r\\n<!--$limit 每页数量（定死为13）-->\\r\\n<!--$class 当前分类信息-->\\r\\n<!--$news_list 文章列表-->\\r\\n<!--$year 当前选中年份-->\\r\\n<!--$year_list 年份列表-->\\r\\n<!DOCTYPE html>\\r\\n<html lang=\"en\">\\r\\n<head>\\r\\n    <meta charset=\"UTF-8\">\\r\\n    <title>杭电新闻</title>\\r\\n    <!-- For IE top version load-->\\r\\n    <meta http-equiv=\"X-UA-Compatible\" content=\"IE=edge\">\\r\\n    <!-- 双核浏览器条件下 默认用极速核 -->\\r\\n    <meta name=\"renderer\" content=\"webkit\">\\r\\n    <meta name=\"viewport\" content=\"maximum-scale=1, user-scalable=yes, width=device-width\">\\r\\n    <meta name=\"keywords\" content=\"杭电,新闻,杭电新闻,教育,浙江重点大学\">\\r\\n    <meta name=\"description\" content=\"杭州电子科技大学,浙江重点大学,重点大学,综合性大学... 红色家园 教工之家 杭电青年 学生会 杭电校报 杭电之声 国际合作交流 学生交流。\">\\r\\n\\r\\n    <!-- CSS Code -->\\r\\n    <link rel=\"stylesheet\" href=\"/asset/news_v2/css/web_style.css?v=2.0\" type=\"text/css\">\\r\\n    <link rel=\"stylesheet\" href=\"/asset/news_v2/css/pages/general_find.css?v=2.0\" type=\"text/css\">\\r\\n    <!-- JavaScript Code -->\\r\\n    <script src=\"/asset/news_v2/js/jquery.min.js?v=2.0\"></script>\\r\\n    <script type=\"text/javascript\">  \\r\\n    if ( navigator.userAgent.match(/(phone|pad|pod|iPhone|iPod|ios|iPad|Android|Mobile|BlackBerry|IEMobile|MQQBrowser|JUC|Fennec|wOSBrowser|BrowserNG|WebOS|Symbian|Windows Phone)/i) ){\\r\\n        window.location.href = \"http://m.hdu.edu.cn/mobile/index/news_detail?news_id=26525\";\\r\\n    }\\r\\n    window.onresize = function(){\\r\\n        if( $(window).width() < 480 )window.location.href = \"http://m.hdu.edu.cn/mobile/index/news_detail?news_id=26525\";\\r\\n    };\\r\\n    </script>\\r\\n</head>\\r\\n<!--\\r\\n    类命名规则 布局（grid）（.g-）；\\r\\n    模块（module）（.m-）；\\r\\n    元件（unit）（.u-）；\\r\\n    功能（function）（.f-）；\\r\\n    皮肤（skin）（.s-）；\\r\\n    状态（.z-）。\\r\\n     -->\\r\\n<body bgcolor=\"#fff\">\\r\\n    <!-- 主要内容 -->\\r\\n    <div class=\"main\">\\r\\n        <div class=\\'t-top\\'>\\r\\n            <div class=\\'c\\'>\\r\\n                <h6><a href=\"/\">杭电首页</a></h6>\\r\\n            </div>\\r\\n        </div>\\r\\n        <div class=\"m-wrap\">\\r\\n            <div class=\\'header c\\'>\\r\\n                <div class=\\'logo fl\\'>\\r\\n                    <a href=\\'/news\\'><img src=\\'/asset/news_v2/image/logo.png?v=2.0\\' alt=\\'logo\\'></a>\\r\\n                </div>\\r\\n                <div class=\\'news fl\\'></div>\\r\\n                <div class=\\'fr\\'>\\r\\n                    <p>2020年11月</p>\\r\\n                    <h1>05</h1>\\r\\n                    <p>星期四</p>\\r\\n                    <p id=\"lunar\"></p>\\r\\n                    <script src=\"/asset/news_v2/js/calendar.js?v=2.0\"></script>\\r\\n                    <script>\\r\\n                        var calendar = showCal(); \\r\\n                        $(\"#lunar\").html(calendar);\\r\\n                    </script>\\r\\n                </div>\\r\\n            </div>\\r\\n            <div class=\"f-nav c\" style=\\'height: 60px;\\'>\\r\\n                <ul>\\r\\n                    <li data=\"index\"><a href=\"/news\">网站首页</a></li>\\r\\n                    <li data=\"branch\"><a href=\"/news/branch\">部门简介</a></li>\\r\\n                    <li data=\"important\"><a href=\"/news/important\">杭电新闻</a></li>\\r\\n                    <li data=\"theory\"><a href=\"/news/theory\">理论学习</a></li>\\r\\n                    <li data=\"superiorfile\"><a href=\"/news/superiorfile\">规章制度</a></li>\\r\\n                    <li data=\"work\"><a href=\"/news/work\">网上办事</a></li>\\r\\n                    <li data=\"departmentnotice\"><a href=\"/news/departmentnotice\">部门通知</a></li>\\r\\n                    <li ><a href=\\'/admin\\'  target=\\'_blank\\'>在线投稿</a></li>                   \\r\\n                </ul>\\r\\n                <script>\\r\\n                    var topClass=\"important\";\\r\\n                    for(var t=0;t<$(\\'.f-nav ul li\\').length;t++){\\r\\n                        if($(\\'.f-nav ul li:eq(\\'+t+\\')\\').attr(\\'data\\')===topClass){\\r\\n                            $(\\'.f-nav ul li:eq(\\'+t+\\')\\').addClass(\\'cur\\');\\r\\n                        }\\r\\n                    }\\r\\n                </script>\\r\\n                <input placeholder=\\'请输入您想要的内容\\' id=\\'find\\' maxlength=\\'100\\'>\\r\\n                <div class=\"error\">\\r\\n                    <img src=\\'/asset/news_v2/image/icon-error.png?v=2.0\\' alt=\\'error\\'>\\r\\n                </div>\\r\\n                <div class=\"search\">\\r\\n                    <img src=\\'/asset/news_v2/image/icon-search.png?v=2.0\\' alt=\\'search\\'>\\r\\n                </div>\\r\\n            </div>\\r\\n            <div class=\"content c\">\\r\\n                <div class=\\'aside\\'>\\r\\n                    <div class=\"m-news\">\\r\\n                        <div class=\"title\">\\r\\n                            <h1>杭电要闻</h1>\\r\\n                            <h2 class=\"clear\">\\r\\n                                <span class=\"fl\">important</span>\\r\\n                            </h2>\\r\\n                        </div>\\r\\n                        <div class=\"time-list\">\\r\\n                            <div class=\"clear\">\\r\\n                                <div class=\"mt\">\\r\\n                                    <span class=\"curTime\" show=\"0\"><font>2020</font><div class=\"cate\"></div></span>\\r\\n                                    <div class=\"year scrollBar hide\">\\r\\n                                        <div class=\\'ym\\'>2020</div><div class=\\'ym\\'>2019</div><div class=\\'ym\\'>2018</div><div class=\\'ym\\'>2017</div><div class=\\'ym\\'>2016</div><div class=\\'ym\\'>2015</div><div class=\\'ym\\'>2014</div><div class=\\'ym\\'>2013</div><div class=\\'ym\\'>2012</div><div class=\\'ym\\'>2011</div><div class=\\'ym\\'>2010</div><div class=\\'ym\\'>2009</div><div class=\\'ym\\'>2008</div><div class=\\'ym\\'>2007</div><div class=\\'ym\\'>2006</div><div class=\\'ym\\'>2005</div><div class=\\'ym\\'>2004</div><div class=\\'ym\\'>2003</div>                                    </div>\\r\\n                                </div>\\r\\n                                <div class=\"md\">\\r\\n                                    <div class=\\'mm\\' check=\\'0\\'>1</div><div class=\\'mm\\' check=\\'0\\'>2</div><div class=\\'mm\\' check=\\'0\\'>3</div><div class=\\'mm\\' check=\\'0\\'>4</div><div class=\\'mm\\' check=\\'0\\'>5</div><div class=\\'mm\\' check=\\'0\\'>6</div><div class=\\'mm\\' check=\\'0\\'>7</div><div class=\\'mm\\' check=\\'0\\'>8</div><div class=\\'mm\\' check=\\'0\\'>9</div><div class=\\'mm\\' check=\\'0\\'>10</div><div class=\\'mm\\' check=\\'0\\'>11</div><div class=\\'mm\\' check=\\'0\\'>12</div>                                </div>\\r\\n                            </div>\\r\\n                        </div>\\r\\n                        <ul>\\r\\n                            <li data-id=27554><div class=\\'move\\'></div><div class=\\'con\\'>我校第四次学生代表大会、第九次研究生代表大会隆重召开</div><div class=\\'time\\'>10-31</div></li><li data-id=27553><div class=\\'move\\'></div><div class=\\'con\\'>中国共产党第十九届中央委员会第五次全体会议公报</div><div class=\\'time\\'>10-30</div></li><li data-id=27535><div class=\\'move\\'></div><div class=\\'con\\'>浙江省委常委、宣传部部长朱国贤一行来校调研</div><div class=\\'time\\'>10-27</div></li><li data-id=27528><div class=\\'move\\'></div><div class=\\'con\\'>我校师生联合开发146个软件，编写200万行代码—— 构建智慧校园赋能人才培养</div><div class=\\'time\\'>10-26</div></li><li data-id=27525><div class=\\'move\\'></div><div class=\\'con\\'>校第三十八届田径运动会圆满落幕</div><div class=\\'time\\'>10-25</div></li><li data-id=27518><div class=\\'move\\'></div><div class=\\'con\\'>校党委召开理论学习中心组专题学习会</div><div class=\\'time\\'>10-22</div></li><li data-id=27511><div class=\\'move\\'></div><div class=\\'con\\'>中国电子信息行业联合会专家委主任来校作学术报告</div><div class=\\'time\\'>10-21</div></li><li data-id=27508><div class=\\'move\\'></div><div class=\\'con\\'>浙江省发展改革委领导来校调研指导消费扶贫工作</div><div class=\\'time\\'>10-20</div></li><li data-id=27505><div class=\\'move\\'></div><div class=\\'con\\'>校领导应邀参加首届拉美中国创新日活动</div><div class=\\'time\\'>10-19</div></li><li data-id=27503><div class=\\'move\\'></div><div class=\\'con\\'>省教育厅副书记干武东一行来我校调研指导</div><div class=\\'time\\'>10-19</div></li><li data-id=27499><div class=\\'move\\'></div><div class=\\'con\\'>我校与华为签约共建“智能基座”产教融合协同育人基地</div><div class=\\'time\\'>10-16</div></li><li data-id=27495><div class=\\'move\\'></div><div class=\\'con\\'>习近平：年轻干部要提高解决实际问题能力 想干事能干事干成事</div><div class=\\'time\\'>10-13</div></li><li data-id=27488><div class=\\'move\\'></div><div class=\\'con\\'>校廉政文化月活动暨“青春杭电”第二届清廉修身文化节开幕</div><div class=\\'time\\'>10-09</div></li>                        </ul>\\r\\n                        <div class=\"page\">\\r\\n                            <a class=\\'cur\\' href=\\'/news/important_26525?page=1&year=2020&month=\\'>1</a><a href=\\'/news/important_26525?page=2&year=2020&month=\\'>2</a><a href=\\'/news/important_26525?page=3&year=2020&month=\\'>3</a><a href=\\'/news/important_26525?page=4&year=2020&month=\\'>4</a><a href=\\'/news/important_26525?page=5&year=2020&month=\\'>5</a><a href=\\'/news/important_26525?page=6&year=2020&month=\\'>6</a><a href=\\'/news/important_26525?page=2&year=2020&month=\\'>下页</a>                         </div>\\r\\n                    </div>\\r\\n                    <div class=\"qr clear\">\\r\\n                        <div class=\"fl\">\\r\\n                            <img src=\"/asset/news_v2/image/hdu-weixinqr.jpg?v=2.0\" alt=\"网易\">\\r\\n                            <p>杭州电子科技大学官方微信</p>\\r\\n                        </div>\\r\\n                        <div class=\"fr\">\\r\\n                            <img src=\"/asset/news_v2/image/hdu-weiboqr.jpg?v=2.0\" alt=\"网易\">\\r\\n                            <p>杭州电子科技大学官方微博</p>\\r\\n                        </div>\\r\\n                    </div>\\r\\n                </div>\\r\\n                <div class=\\'article\\'>\\r\\n                    <div class=\"title\">\\r\\n                        我校专场数字经济领域人才项目路演对接会在义乌举行                    </div>\\r\\n                    <div style=\"float: right;color: #0056bc;font-size: 16px;\">\\r\\n                                            </div>\\r\\n                    <div class=\"instr\">\\r\\n                        作者：admin     来源：学校新闻部1     时间：2019-10-13     点击量：14206                    </div>\\r\\n                    <div class=\"con\">\\r\\n                        <p>&nbsp;&nbsp;&nbsp;&nbsp;&nbsp; &nbsp;10月12日下午，由省委人才办、省人力社保厅和杭州电子科技大学联合举办的浙江省专家服务企业高质量发展专项活动暨数字经济领域人才项目路演对接会在义乌举行。省人力资源和社会保障厅副厅长葛平安、杭州电子科技大学副校长吕金海、金华市委组织部副部长、人力资源和社会保障局局长褚惠斌、义乌市委常委、组织部部长何若伟、义乌市副市长贾文红等出席此次会议，我校办公室、人力资源部、宣传部、产学研合作处、机械学院等部门和学院代表及部分数字领域专家和各地企业代表参加会议。</p><p>&nbsp; &nbsp; &nbsp; &nbsp;葛平安在致辞中提出，要在合作内容和合作形式上不断创新，要以人才带项目，以项目带人才，借高校之力服务企业，借企业之力反哺高校，各地人力社保部门积极地促进项目落地。</p><p>&nbsp;&nbsp;&nbsp;&nbsp;&nbsp; &nbsp;吕金海表示，杭电与义乌的渊源由来已久，近年来双方在科技合作和人才培养合作方面更是互动频繁。这次杭电组织了60多位专家教授带着最新、最前沿的技术项目齐聚这里，代表着双方的合作进入了更全面、更深入、更实质的新阶段。</p><p>&nbsp;&nbsp;&nbsp;&nbsp;&nbsp; &nbsp;何若伟指出，实现义乌高科技企业蓬勃发展的关键在科技，根本在人才。希望杭电在数字经济领域中的突出科学优势，能在义乌全球自由贸易中发挥作用。</p><p style=\"text-align: center;\"><img src=\"/uploads/news/images/20191013/1570961661704039.jpg\" title=\"1570961661704039.jpg\" alt=\"图片 2_meitu_2.jpg\"/>&nbsp;</p><p>&nbsp;&nbsp;&nbsp;&nbsp;&nbsp; &nbsp;在与义乌市人才项目合作签约仪式上，我校机械学院和义乌研究院分别与义乌市上溪镇共同签订人才培养协议和科技服务协议，我校三位专家则与企业签订了技术合作协议。</p><p style=\"text-align: center;\"><img src=\"/uploads/news/images/20191013/1570962293722178.jpg\" title=\"1570962293722178.jpg\" alt=\"图片 3_meitu_8.jpg\"/></p><p>&nbsp;&nbsp;&nbsp;&nbsp;&nbsp; &nbsp;在随后的人才项目路演推介会上，我校陈科明、林志赟、吕永桂、简志华、张祥泉、徐小良、任彧、韩伟等专家分别带来了物联网、人工智能、艺术设计、大数据、材料与环境工程等领域的路演项目。</p><p style=\"text-align: center;\"><img src=\"/uploads/news/images/20191013/1570961707151413.jpg\" title=\"1570961707151413.jpg\" alt=\"图片 4_meitu_4.jpg\"/></p><p><br/></p><p style=\"text-align: center;\"><img src=\"/uploads/news/images/20191013/1570961719882252.jpg\" title=\"1570961719882252.jpg\" alt=\"图片 5_meitu_5.jpg\"/></p><p>&nbsp;&nbsp;&nbsp;&nbsp;&nbsp; &nbsp;据了解，为了让这场对接会更具成效，我校精心遴选了“数字经济”领域科技项目1023个，其中科技成果技术项目70个，可转让发明专利项目953个，涵盖装备制造、人工智能、物理通信、电力配电、大数据、无人机、芯片等关键技术。活动现场，我校带来了8个路演项目和143个现场洽谈项目，与全省153家企业进行了洽谈对接。此次对接会是“浙江省专家服务企业高质量发展专项活动”的系列活动，旨在践行省委“三服务”活动要求，精准服务企业高质量发展，为我校科研成果商业落地提供了有效平台，也是我校践行“不忘初心 牢记使命”主题教育的活动之一。（校新闻中心）</p><p style=\"text-align: center;\"><img src=\"/uploads/news/images/20191013/1570961733951547.jpg\" title=\"1570961733951547.jpg\" alt=\"图片 6_meitu_6.jpg\"/></p>                    </div>\\r\\n                </div>\\r\\n            </div>\\r\\n            <div class=\"cooper c\">\\r\\n                <ul>\\r\\n                    <li alt=\"网易\" data-href=\"http://dy.163.com/v2/media/search?word=%BA%BC%D6%DD%B5%E7%D7%D3%BF%C6%BC%BC%B4%F3%D1%A7&cid=\" \\r\\n                        data-image=\\'/asset/news_v2/image/bottom01-r.jpg?v=2.0\\' data-default=\\'/asset/news_v2/image/bottom01.jpg?v=2.0\\'>\\r\\n                        <img src=\\'/asset/news_v2/image/bottom01.jpg?v=2.0\\'>\\r\\n                    </li>\\r\\n                    <li alt=\"头条\" data-href=\"https://www.toutiao.com/c/user/6596331691/#mid=6596331691\" \\r\\n                        data-image=\\'/asset/news_v2/image/bottom02-r.jpg?v=2.0\\' data-default=\\'/asset/news_v2/image/bottom02.jpg?v=2.0\\'>\\r\\n                        <img src=\\'/asset/news_v2/image/bottom02.jpg?v=2.0\\'>\\r\\n                    </li>\\r\\n                    <li alt=\"微博\" data-href=\"https://weibo.com/hzhdu?refer_flag=1001030103_\" \\r\\n                        data-image=\\'/asset/news_v2/image/bottom03-r.jpg?v=2.0\\' data-default=\\'/asset/news_v2/image/bottom03.jpg?v=2.0\\'>\\r\\n                        <img src=\\'/asset/news_v2/image/bottom03.jpg?v=2.0\\'>\\r\\n                    </li>\\r\\n                    <li alt=\"红色家园\" data-href=\"http://cas.hdu.edu.cn/cas/login?service=http%3A%2F%2F106.14.9.60%3A3000%2Fcommon%2FgetTicket\" \\r\\n                        data-image=\\'/asset/news_v2/image/bottom05-r.jpg?v=2.0\\' data-default=\\'/asset/news_v2/image/bottom05.jpg?v=2.0\\'>\\r\\n                        <img src=\\'/asset/news_v2/image/bottom05.jpg?v=2.0\\'>\\r\\n                    </li>\\r\\n                </ul>\\r\\n            </div>\\r\\n        </div>\\r\\n        <div class=\\'footer\\'>\\r\\n            <p>杭州电子科技大学党委宣传部\\u3000版权所有\\u3000杭州电子科技大学新闻中心维护</p>\\r\\n            <p>浙ICP备12028388号\\u3000推荐使用Google浏览器、火狐浏览器、360浏览器（极速模式）</p>\\r\\n        </div>\\r\\n    </div>\\r\\n<script type=\"text/javascript\">\\r\\n    $(\\'.aside .m-news li,.article .m-comp li,.article .m-media li\\').mouseenter(function () {\\r\\n        $(this).addClass(\\'cur\\');\\r\\n        $(this).children().addClass(\\'cur\\');\\r\\n    }).mouseleave(function(){\\r\\n        $(this).removeClass(\\'cur\\');\\r\\n        $(this).children().removeClass(\\'cur\\');\\r\\n    });\\r\\n    $(\\'.f-nav .search\\').click(function(){\\r\\n        $(\\'#find\\').show(0);\\r\\n        $(\\'#find\\').focus();\\r\\n        $(\\'.f-nav .error\\').show(0);\\r\\n        $(\\'.f-nav ul\\').hide(0);\\r\\n        $(\\'.f-nav .search\\').hide(0);\\r\\n    });\\r\\n    $(\\'.f-nav .error\\').click(function(){\\r\\n        $(\\'#find\\').val(\\'\\');\\r\\n        $(\\'#find\\').hide(0);\\r\\n        $(\\'.f-nav .error\\').hide(0);\\r\\n        $(\\'.f-nav ul\\').show(0);\\r\\n        $(\\'.f-nav .search\\').show(0);\\r\\n    });\\r\\n    $(\\'#find\\').keyup(function(event){\\r\\n        if(event.keyCode ===13){\\r\\n            window.location.href=\"/news/search?advanced=true&keyword=\"+$.trim($(this).val())+\"\";\\r\\n        }\\r\\n    });\\r\\n    \\r\\n    $(\\'.cooper li\\').mouseenter(function () {\\r\\n        $(this).children(\\'img\\').attr(\\'src\\',$(this).attr(\\'data-image\\'));\\r\\n    }).mouseleave(function(){\\r\\n        $(this).children(\\'img\\').attr(\\'src\\',$(this).attr(\\'data-default\\'));\\r\\n    });\\r\\n\\r\\n    $(\\'.aside .curTime\\').click(function(event){\\r\\n        if($(this).attr(\\'show\\')===\\'0\\'){\\r\\n            $(this).children(\\'.cate\\').css(\\'transform\\',\\'rotate(180deg)\\')\\r\\n            $(this).siblings(\\'.year\\').slideDown(200);\\r\\n            $(this).attr(\\'show\\',\\'1\\');\\r\\n        }else{\\r\\n            $(this).children(\\'.cate\\').css(\\'transform\\',\\'rotate(0deg)\\')\\r\\n            $(this).siblings(\\'.year\\').slideUp(200);\\r\\n            $(this).attr(\\'show\\',\\'0\\');\\r\\n        }\\r\\n        event.stopPropagation();\\r\\n    });\\r\\n    $(\\'.aside .year .ym\\').click(function(event){\\r\\n        $(\\'.aside .curTime font\\').html($(this).text());\\r\\n        $(\\'.aside .curTime .cate\\').css(\\'transform\\',\\'rotate(0deg)\\')\\r\\n        $(\\'.aside .year\\').slideUp(200);\\r\\n        $(\\'.aside .curTime\\').attr(\\'show\\',\\'0\\');\\r\\n        event.stopPropagation();\\r\\n    });\\r\\n    $(document).click(function(){\\r\\n        $(\\'.aside .curTime .cate\\').css(\\'transform\\',\\'rotate(0deg)\\')\\r\\n        $(\\'.aside .year\\').slideUp(200);\\r\\n        $(\\'.aside .curTime\\').attr(\\'show\\',\\'0\\');\\r\\n    });\\r\\n    $(\\'.cooper li\\').click(function(){\\r\\n        window.location.href=$(this).attr(\\'data-href\\');\\r\\n    });\\r\\n\\r\\n    function gofor(element){\\r\\n        $(element).click(function(){\\r\\n            window.location.href=\"/news/important_\"+$(this).attr(\\'data-id\\')+\"?page=1&year=2020&month=\";\\r\\n        });\\r\\n    }\\r\\n    gofor(\\'.aside .m-news li\\');\\r\\n    $(\\'.aside .time-list .mm\\').click(function(){\\r\\n        if($(this).attr(\\'check\\')===\\'1\\'){\\r\\n            window.location.href=\"/news/important_26525?page=1&year=2020\";\\r\\n        }else{\\r\\n            window.location.href=\"/news/important_26525?page=1&year=2020&month=\"+$(this).text()+\"\";\\r\\n        }\\r\\n    });\\r\\n\\r\\n    $(\\'.aside .time-list .ym\\').click(function(){\\r\\n        window.location.href=\"/news/important_26525?page=1&year=\"+$(this).text()+\"&month=\";\\r\\n    });\\r\\n\\r\\n</script>\\r\\n</body>\\r\\n</html>\\r\\n'"
      ]
     },
     "execution_count": 32,
     "metadata": {},
     "output_type": "execute_result"
    }
   ],
   "source": [
    "r.content.decode(\"utf8\")"
   ]
  },
  {
   "cell_type": "code",
   "execution_count": 198,
   "metadata": {},
   "outputs": [
    {
     "data": {
      "text/plain": [
       "True"
      ]
     },
     "execution_count": 198,
     "metadata": {},
     "output_type": "execute_result"
    }
   ],
   "source": [
    "r.content.decode(\"utf8\") == r.text"
   ]
  },
  {
   "cell_type": "code",
   "execution_count": 199,
   "metadata": {},
   "outputs": [
    {
     "data": {
      "text/plain": [
       "200"
      ]
     },
     "execution_count": 199,
     "metadata": {},
     "output_type": "execute_result"
    }
   ],
   "source": [
    "r.status_code"
   ]
  },
  {
   "cell_type": "code",
   "execution_count": 200,
   "metadata": {},
   "outputs": [],
   "source": [
    "r = requests.get(\"http://httpbin.org/ip\")"
   ]
  },
  {
   "cell_type": "code",
   "execution_count": 201,
   "metadata": {},
   "outputs": [
    {
     "data": {
      "text/plain": [
       "'{\\n  \"origin\": \"210.32.35.21\"\\n}\\n'"
      ]
     },
     "execution_count": 201,
     "metadata": {},
     "output_type": "execute_result"
    }
   ],
   "source": [
    "r.text"
   ]
  },
  {
   "cell_type": "code",
   "execution_count": 43,
   "metadata": {},
   "outputs": [
    {
     "data": {
      "text/plain": [
       "b'{\\n  \"origin\": \"60.12.8.170\"\\n}\\n'"
      ]
     },
     "execution_count": 43,
     "metadata": {},
     "output_type": "execute_result"
    }
   ],
   "source": [
    "r.content"
   ]
  },
  {
   "cell_type": "code",
   "execution_count": 204,
   "metadata": {},
   "outputs": [
    {
     "data": {
      "text/plain": [
       "{'origin': '210.32.35.21'}"
      ]
     },
     "execution_count": 204,
     "metadata": {},
     "output_type": "execute_result"
    }
   ],
   "source": [
    "r.json()"
   ]
  },
  {
   "cell_type": "code",
   "execution_count": 57,
   "metadata": {},
   "outputs": [
    {
     "data": {
      "text/plain": [
       "requests.cookies.RequestsCookieJar"
      ]
     },
     "execution_count": 57,
     "metadata": {},
     "output_type": "execute_result"
    }
   ],
   "source": [
    "r"
   ]
  },
  {
   "cell_type": "markdown",
   "metadata": {},
   "source": [
    "#### HTTP方法"
   ]
  },
  {
   "cell_type": "code",
   "execution_count": 205,
   "metadata": {},
   "outputs": [],
   "source": [
    "r = requests.get(\"http://httpbin.org/get\", params={'name':'张三', 'passwd':'123'})"
   ]
  },
  {
   "cell_type": "code",
   "execution_count": 206,
   "metadata": {},
   "outputs": [
    {
     "data": {
      "text/plain": [
       "{'Date': 'Thu, 05 Nov 2020 12:01:33 GMT', 'Content-Type': 'application/json', 'Content-Length': '385', 'Connection': 'keep-alive', 'Server': 'gunicorn/19.9.0', 'Access-Control-Allow-Origin': '*', 'Access-Control-Allow-Credentials': 'true'}"
      ]
     },
     "execution_count": 206,
     "metadata": {},
     "output_type": "execute_result"
    }
   ],
   "source": [
    "r.headers"
   ]
  },
  {
   "cell_type": "code",
   "execution_count": 208,
   "metadata": {
    "collapsed": true,
    "jupyter": {
     "outputs_hidden": true
    }
   },
   "outputs": [
    {
     "name": "stdout",
     "output_type": "stream",
     "text": [
      "{\n",
      "  \"args\": {\n",
      "    \"name\": \"\\u5f20\\u4e09\", \n",
      "    \"passwd\": \"123\"\n",
      "  }, \n",
      "  \"headers\": {\n",
      "    \"Accept\": \"*/*\", \n",
      "    \"Accept-Encoding\": \"gzip, deflate\", \n",
      "    \"Host\": \"httpbin.org\", \n",
      "    \"User-Agent\": \"python-requests/2.22.0\", \n",
      "    \"X-Amzn-Trace-Id\": \"Root=1-5fa3e99d-1a15c92564898a6650f9a40a\"\n",
      "  }, \n",
      "  \"origin\": \"60.12.8.170\", \n",
      "  \"url\": \"http://httpbin.org/get?name=\\u5f20\\u4e09&passwd=123\"\n",
      "}\n",
      "\n"
     ]
    }
   ],
   "source": [
    "print(r.text)"
   ]
  },
  {
   "cell_type": "code",
   "execution_count": 209,
   "metadata": {},
   "outputs": [],
   "source": [
    "r = requests.post(\"http://httpbin.org/post\", \n",
    "                  data={'name':'test', 'passwd':'123'})"
   ]
  },
  {
   "cell_type": "code",
   "execution_count": 210,
   "metadata": {
    "collapsed": true,
    "jupyter": {
     "outputs_hidden": true
    }
   },
   "outputs": [
    {
     "name": "stdout",
     "output_type": "stream",
     "text": [
      "{\n",
      "  \"args\": {}, \n",
      "  \"data\": \"\", \n",
      "  \"files\": {}, \n",
      "  \"form\": {\n",
      "    \"name\": \"test\", \n",
      "    \"passwd\": \"123\"\n",
      "  }, \n",
      "  \"headers\": {\n",
      "    \"Accept\": \"*/*\", \n",
      "    \"Accept-Encoding\": \"gzip, deflate\", \n",
      "    \"Content-Length\": \"20\", \n",
      "    \"Content-Type\": \"application/x-www-form-urlencoded\", \n",
      "    \"Host\": \"httpbin.org\", \n",
      "    \"User-Agent\": \"python-requests/2.22.0\", \n",
      "    \"X-Amzn-Trace-Id\": \"Root=1-5fa3ea48-10de083a4bac916b497369b0\"\n",
      "  }, \n",
      "  \"json\": null, \n",
      "  \"origin\": \"210.32.35.21\", \n",
      "  \"url\": \"http://httpbin.org/post\"\n",
      "}\n",
      "\n"
     ]
    }
   ],
   "source": [
    "print(r.text)"
   ]
  },
  {
   "cell_type": "code",
   "execution_count": 69,
   "metadata": {},
   "outputs": [
    {
     "data": {
      "text/plain": [
       "'name=test&passwd=123'"
      ]
     },
     "execution_count": 69,
     "metadata": {},
     "output_type": "execute_result"
    }
   ],
   "source": [
    "r.request.body"
   ]
  },
  {
   "cell_type": "markdown",
   "metadata": {},
   "source": [
    "#### 状态码"
   ]
  },
  {
   "cell_type": "code",
   "execution_count": 84,
   "metadata": {},
   "outputs": [],
   "source": [
    "r = requests.get('http://httpbin.org/status/301')"
   ]
  },
  {
   "cell_type": "code",
   "execution_count": 85,
   "metadata": {},
   "outputs": [
    {
     "data": {
      "text/plain": [
       "(404, 'http://httpbin.org/redirect/1')"
      ]
     },
     "execution_count": 85,
     "metadata": {},
     "output_type": "execute_result"
    }
   ],
   "source": [
    "(r.status_code, r.url)"
   ]
  },
  {
   "cell_type": "code",
   "execution_count": 86,
   "metadata": {},
   "outputs": [
    {
     "data": {
      "text/plain": [
       "[<Response [301]>]"
      ]
     },
     "execution_count": 86,
     "metadata": {},
     "output_type": "execute_result"
    }
   ],
   "source": [
    "r.history"
   ]
  },
  {
   "cell_type": "code",
   "execution_count": 87,
   "metadata": {},
   "outputs": [
    {
     "data": {
      "text/plain": [
       "('http://httpbin.org/status/301',\n",
       " 301,\n",
       " {'Date': 'Thu, 05 Nov 2020 09:23:35 GMT', 'Content-Length': '0', 'Connection': 'keep-alive', 'Server': 'gunicorn/19.9.0', 'location': '/redirect/1', 'Access-Control-Allow-Origin': '*', 'Access-Control-Allow-Credentials': 'true'})"
      ]
     },
     "execution_count": 87,
     "metadata": {},
     "output_type": "execute_result"
    }
   ],
   "source": [
    "r.history[0].url, r.history[0].status_code, r.history[0].headers"
   ]
  },
  {
   "cell_type": "markdown",
   "metadata": {},
   "source": [
    "#### Session"
   ]
  },
  {
   "cell_type": "code",
   "execution_count": 91,
   "metadata": {},
   "outputs": [],
   "source": [
    "# 创建一个session对象 \n",
    "s = requests.Session() "
   ]
  },
  {
   "cell_type": "code",
   "execution_count": 92,
   "metadata": {},
   "outputs": [],
   "source": [
    "# 用session对象发出get请求，设置cookies \n",
    "r = s.get('http://httpbin.org/cookies/set/test/123456') "
   ]
  },
  {
   "cell_type": "code",
   "execution_count": 93,
   "metadata": {},
   "outputs": [
    {
     "data": {
      "text/plain": [
       "{'Date': 'Thu, 05 Nov 2020 09:26:08 GMT', 'Content-Type': 'application/json', 'Content-Length': '44', 'Connection': 'keep-alive', 'Server': 'gunicorn/19.9.0', 'Access-Control-Allow-Origin': '*', 'Access-Control-Allow-Credentials': 'true'}"
      ]
     },
     "execution_count": 93,
     "metadata": {},
     "output_type": "execute_result"
    }
   ],
   "source": [
    "r.headers"
   ]
  },
  {
   "cell_type": "code",
   "execution_count": 94,
   "metadata": {},
   "outputs": [
    {
     "data": {
      "text/plain": [
       "[<Response [302]>]"
      ]
     },
     "execution_count": 94,
     "metadata": {},
     "output_type": "execute_result"
    }
   ],
   "source": [
    "r.history"
   ]
  },
  {
   "cell_type": "code",
   "execution_count": 95,
   "metadata": {},
   "outputs": [
    {
     "data": {
      "text/plain": [
       "{'User-Agent': 'python-requests/2.22.0', 'Accept-Encoding': 'gzip, deflate', 'Accept': '*/*', 'Connection': 'keep-alive', 'Cookie': 'test=123456'}"
      ]
     },
     "execution_count": 95,
     "metadata": {},
     "output_type": "execute_result"
    }
   ],
   "source": [
    "r.request.headers"
   ]
  },
  {
   "cell_type": "code",
   "execution_count": 140,
   "metadata": {},
   "outputs": [
    {
     "data": {
      "text/plain": [
       "{'Access-Control-Allow-Credentials': 'true', 'Access-Control-Allow-Origin': '*', 'Content-Type': 'text/html; charset=utf-8', 'Date': 'Tue, 15 Oct 2019 05:36:51 GMT', 'Location': '/cookies', 'Referrer-Policy': 'no-referrer-when-downgrade', 'Server': 'nginx', 'Set-Cookie': 'test=123456; Path=/', 'X-Content-Type-Options': 'nosniff', 'X-Frame-Options': 'DENY', 'X-XSS-Protection': '1; mode=block', 'Content-Length': '223', 'Connection': 'keep-alive'}"
      ]
     },
     "execution_count": 140,
     "metadata": {},
     "output_type": "execute_result"
    }
   ],
   "source": [
    "r.history[0].headers"
   ]
  },
  {
   "cell_type": "code",
   "execution_count": 98,
   "metadata": {},
   "outputs": [
    {
     "data": {
      "text/plain": [
       "'<!DOCTYPE HTML PUBLIC \"-//W3C//DTD HTML 3.2 Final//EN\">\\n<title>Redirecting...</title>\\n<h1>Redirecting...</h1>\\n<p>You should be redirected automatically to target URL: <a href=\"/cookies\">/cookies</a>.  If not click the link.'"
      ]
     },
     "execution_count": 98,
     "metadata": {},
     "output_type": "execute_result"
    }
   ],
   "source": [
    "r.history[0].text"
   ]
  },
  {
   "cell_type": "code",
   "execution_count": 52,
   "metadata": {},
   "outputs": [
    {
     "data": {
      "text/plain": [
       "b'{\\n  \"cookies\": {\\n    \"test\": \"123456\"\\n  }\\n}\\n'"
      ]
     },
     "execution_count": 52,
     "metadata": {},
     "output_type": "execute_result"
    }
   ],
   "source": [
    "r.content"
   ]
  },
  {
   "cell_type": "code",
   "execution_count": 101,
   "metadata": {},
   "outputs": [],
   "source": [
    "# 用session对象发出另外一个get请求，获取cookies \n",
    "r = s.get(\"http://httpbin.org/cookies\") "
   ]
  },
  {
   "cell_type": "code",
   "execution_count": 102,
   "metadata": {},
   "outputs": [
    {
     "data": {
      "text/plain": [
       "'{\\n  \"cookies\": {\\n    \"test\": \"123456\"\\n  }\\n}\\n'"
      ]
     },
     "execution_count": 102,
     "metadata": {},
     "output_type": "execute_result"
    }
   ],
   "source": [
    "# 显示结果 \n",
    "r.text "
   ]
  },
  {
   "cell_type": "code",
   "execution_count": 103,
   "metadata": {},
   "outputs": [
    {
     "data": {
      "text/plain": [
       "{'User-Agent': 'python-requests/2.22.0', 'Accept-Encoding': 'gzip, deflate', 'Accept': '*/*', 'Connection': 'keep-alive', 'Cookie': 'test=123456'}"
      ]
     },
     "execution_count": 103,
     "metadata": {},
     "output_type": "execute_result"
    }
   ],
   "source": [
    "r.request.headers"
   ]
  },
  {
   "cell_type": "code",
   "execution_count": 133,
   "metadata": {},
   "outputs": [
    {
     "data": {
      "text/plain": [
       "[]"
      ]
     },
     "execution_count": 133,
     "metadata": {},
     "output_type": "execute_result"
    }
   ],
   "source": [
    "r.cookies.items()"
   ]
  },
  {
   "cell_type": "code",
   "execution_count": 104,
   "metadata": {},
   "outputs": [],
   "source": [
    "s.headers.update({'Accept-language': 'en-Us,en;q=0.8'})"
   ]
  },
  {
   "cell_type": "code",
   "execution_count": 107,
   "metadata": {},
   "outputs": [],
   "source": [
    "s.headers.update({'test': '123'})"
   ]
  },
  {
   "cell_type": "code",
   "execution_count": 108,
   "metadata": {},
   "outputs": [],
   "source": [
    "r = s.get('http://httpbin.org/headers')"
   ]
  },
  {
   "cell_type": "code",
   "execution_count": 109,
   "metadata": {
    "collapsed": true,
    "jupyter": {
     "outputs_hidden": true
    }
   },
   "outputs": [
    {
     "name": "stdout",
     "output_type": "stream",
     "text": [
      "{\n",
      "  \"headers\": {\n",
      "    \"Accept\": \"*/*\", \n",
      "    \"Accept-Encoding\": \"gzip, deflate\", \n",
      "    \"Accept-Language\": \"en-Us,en;q=0.8\", \n",
      "    \"Cookie\": \"test=123456\", \n",
      "    \"Host\": \"httpbin.org\", \n",
      "    \"Test\": \"123\", \n",
      "    \"User-Agent\": \"python-requests/2.22.0\", \n",
      "    \"X-Amzn-Trace-Id\": \"Root=1-5fa3c5fc-01eb3c2b38d9decf3c9ff5a3\"\n",
      "  }\n",
      "}\n",
      "\n"
     ]
    }
   ],
   "source": [
    "print(r.text)"
   ]
  },
  {
   "cell_type": "markdown",
   "metadata": {},
   "source": [
    "#### 内容类型"
   ]
  },
  {
   "cell_type": "code",
   "execution_count": 110,
   "metadata": {},
   "outputs": [],
   "source": [
    "r = requests.get('http://httpbin.org/encoding/utf8')"
   ]
  },
  {
   "cell_type": "code",
   "execution_count": 111,
   "metadata": {},
   "outputs": [
    {
     "data": {
      "text/plain": [
       "{'Date': 'Thu, 05 Nov 2020 09:29:50 GMT', 'Content-Type': 'text/html; charset=utf-8', 'Content-Length': '14239', 'Connection': 'keep-alive', 'Server': 'gunicorn/19.9.0', 'Access-Control-Allow-Origin': '*', 'Access-Control-Allow-Credentials': 'true'}"
      ]
     },
     "execution_count": 111,
     "metadata": {},
     "output_type": "execute_result"
    }
   ],
   "source": [
    "r.headers"
   ]
  },
  {
   "cell_type": "code",
   "execution_count": 112,
   "metadata": {
    "collapsed": true,
    "jupyter": {
     "outputs_hidden": true
    }
   },
   "outputs": [
    {
     "name": "stdout",
     "output_type": "stream",
     "text": [
      "<h1>Unicode Demo</h1>\n",
      "\n",
      "<p>Taken from <a\n",
      "href=\"http://www.cl.cam.ac.uk/~mgk25/ucs/examples/UTF-8-demo.txt\">http://www.cl.cam.ac.uk/~mgk25/ucs/examples/UTF-8-demo.txt</a></p>\n",
      "\n",
      "<pre>\n",
      "\n",
      "UTF-8 encoded sample plain-text file\n",
      "‾‾‾‾‾‾‾‾‾‾‾‾‾‾‾‾‾‾‾‾‾‾‾‾‾‾‾‾‾‾‾‾‾‾‾‾\n",
      "\n",
      "Markus Kuhn [ˈmaʳkʊs kuːn] <http://www.cl.cam.ac.uk/~mgk25/> — 2002-07-25\n",
      "\n",
      "\n",
      "The ASCII compatible UTF-8 encoding used in this plain-text file\n",
      "is defined in Unicode, ISO 10646-1, and RFC 2279.\n",
      "\n",
      "\n",
      "Using Unicode/UTF-8, you can write in emails and source code things such as\n",
      "\n",
      "Mathematics and sciences:\n",
      "\n",
      "  ∮ E⋅da = Q,  n → ∞, ∑ f(i) = ∏ g(i),      ⎧⎡⎛┌─────┐⎞⎤⎫\n",
      "                                            ⎪⎢⎜│a²+b³ ⎟⎥⎪\n",
      "  ∀x∈ℝ: ⌈x⌉ = −⌊−x⌋, α ∧ ¬β = ¬(¬α ∨ β),    ⎪⎢⎜│───── ⎟⎥⎪\n",
      "                                            ⎪⎢⎜⎷ c₈   ⎟⎥⎪\n",
      "  ℕ ⊆ ℕ₀ ⊂ ℤ ⊂ ℚ ⊂ ℝ ⊂ ℂ,                   ⎨⎢⎜       ⎟⎥⎬\n",
      "                                            ⎪⎢⎜ ∞     ⎟⎥⎪\n",
      "  ⊥ < a ≠ b ≡ c ≤ d ≪ ⊤ ⇒ (⟦A⟧ ⇔ ⟪B⟫),      ⎪⎢⎜ ⎲     ⎟⎥⎪\n",
      "                                            ⎪⎢⎜ ⎳aⁱ-bⁱ⎟⎥⎪\n",
      "  2H₂ + O₂ ⇌ 2H₂O, R = 4.7 kΩ, ⌀ 200 mm     ⎩⎣⎝i=1    ⎠⎦⎭\n",
      "\n",
      "Linguistics and dictionaries:\n",
      "\n",
      "  ði ıntəˈnæʃənəl fəˈnɛtık əsoʊsiˈeıʃn\n",
      "  Y [ˈʏpsilɔn], Yen [jɛn], Yoga [ˈjoːgɑ]\n",
      "\n",
      "APL:\n",
      "\n",
      "  ((V⍳V)=⍳⍴V)/V←,V    ⌷←⍳→⍴∆∇⊃‾⍎⍕⌈\n",
      "\n",
      "Nicer typography in plain text files:\n",
      "\n",
      "  ╔══════════════════════════════════════════╗\n",
      "  ║                                          ║\n",
      "  ║   • ‘single’ and “double” quotes         ║\n",
      "  ║                                          ║\n",
      "  ║   • Curly apostrophes: “We’ve been here” ║\n",
      "  ║                                          ║\n",
      "  ║   • Latin-1 apostrophe and accents: '´`  ║\n",
      "  ║                                          ║\n",
      "  ║   • ‚deutsche‘ „Anführungszeichen“       ║\n",
      "  ║                                          ║\n",
      "  ║   • †, ‡, ‰, •, 3–4, —, −5/+5, ™, …      ║\n",
      "  ║                                          ║\n",
      "  ║   • ASCII safety test: 1lI|, 0OD, 8B     ║\n",
      "  ║                      ╭─────────╮         ║\n",
      "  ║   • the euro symbol: │ 14.95 € │         ║\n",
      "  ║                      ╰─────────╯         ║\n",
      "  ╚══════════════════════════════════════════╝\n",
      "\n",
      "Combining characters:\n",
      "\n",
      "  STARGΛ̊TE SG-1, a = v̇ = r̈, a⃑ ⊥ b⃑\n",
      "\n",
      "Greek (in Polytonic):\n",
      "\n",
      "  The Greek anthem:\n",
      "\n",
      "  Σὲ γνωρίζω ἀπὸ τὴν κόψη\n",
      "  τοῦ σπαθιοῦ τὴν τρομερή,\n",
      "  σὲ γνωρίζω ἀπὸ τὴν ὄψη\n",
      "  ποὺ μὲ βία μετράει τὴ γῆ.\n",
      "\n",
      "  ᾿Απ᾿ τὰ κόκκαλα βγαλμένη\n",
      "  τῶν ῾Ελλήνων τὰ ἱερά\n",
      "  καὶ σὰν πρῶτα ἀνδρειωμένη\n",
      "  χαῖρε, ὦ χαῖρε, ᾿Ελευθεριά!\n",
      "\n",
      "  From a speech of Demosthenes in the 4th century BC:\n",
      "\n",
      "  Οὐχὶ ταὐτὰ παρίσταταί μοι γιγνώσκειν, ὦ ἄνδρες ᾿Αθηναῖοι,\n",
      "  ὅταν τ᾿ εἰς τὰ πράγματα ἀποβλέψω καὶ ὅταν πρὸς τοὺς\n",
      "  λόγους οὓς ἀκούω· τοὺς μὲν γὰρ λόγους περὶ τοῦ\n",
      "  τιμωρήσασθαι Φίλιππον ὁρῶ γιγνομένους, τὰ δὲ πράγματ᾿\n",
      "  εἰς τοῦτο προήκοντα,  ὥσθ᾿ ὅπως μὴ πεισόμεθ᾿ αὐτοὶ\n",
      "  πρότερον κακῶς σκέψασθαι δέον. οὐδέν οὖν ἄλλο μοι δοκοῦσιν\n",
      "  οἱ τὰ τοιαῦτα λέγοντες ἢ τὴν ὑπόθεσιν, περὶ ἧς βουλεύεσθαι,\n",
      "  οὐχὶ τὴν οὖσαν παριστάντες ὑμῖν ἁμαρτάνειν. ἐγὼ δέ, ὅτι μέν\n",
      "  ποτ᾿ ἐξῆν τῇ πόλει καὶ τὰ αὑτῆς ἔχειν ἀσφαλῶς καὶ Φίλιππον\n",
      "  τιμωρήσασθαι, καὶ μάλ᾿ ἀκριβῶς οἶδα· ἐπ᾿ ἐμοῦ γάρ, οὐ πάλαι\n",
      "  γέγονεν ταῦτ᾿ ἀμφότερα· νῦν μέντοι πέπεισμαι τοῦθ᾿ ἱκανὸν\n",
      "  προλαβεῖν ἡμῖν εἶναι τὴν πρώτην, ὅπως τοὺς συμμάχους\n",
      "  σώσομεν. ἐὰν γὰρ τοῦτο βεβαίως ὑπάρξῃ, τότε καὶ περὶ τοῦ\n",
      "  τίνα τιμωρήσεταί τις καὶ ὃν τρόπον ἐξέσται σκοπεῖν· πρὶν δὲ\n",
      "  τὴν ἀρχὴν ὀρθῶς ὑποθέσθαι, μάταιον ἡγοῦμαι περὶ τῆς\n",
      "  τελευτῆς ὁντινοῦν ποιεῖσθαι λόγον.\n",
      "\n",
      "  Δημοσθένους, Γ´ ᾿Ολυνθιακὸς\n",
      "\n",
      "Georgian:\n",
      "\n",
      "  From a Unicode conference invitation:\n",
      "\n",
      "  გთხოვთ ახლავე გაიაროთ რეგისტრაცია Unicode-ის მეათე საერთაშორისო\n",
      "  კონფერენციაზე დასასწრებად, რომელიც გაიმართება 10-12 მარტს,\n",
      "  ქ. მაინცში, გერმანიაში. კონფერენცია შეჰკრებს ერთად მსოფლიოს\n",
      "  ექსპერტებს ისეთ დარგებში როგორიცაა ინტერნეტი და Unicode-ი,\n",
      "  ინტერნაციონალიზაცია და ლოკალიზაცია, Unicode-ის გამოყენება\n",
      "  ოპერაციულ სისტემებსა, და გამოყენებით პროგრამებში, შრიფტებში,\n",
      "  ტექსტების დამუშავებასა და მრავალენოვან კომპიუტერულ სისტემებში.\n",
      "\n",
      "Russian:\n",
      "\n",
      "  From a Unicode conference invitation:\n",
      "\n",
      "  Зарегистрируйтесь сейчас на Десятую Международную Конференцию по\n",
      "  Unicode, которая состоится 10-12 марта 1997 года в Майнце в Германии.\n",
      "  Конференция соберет широкий круг экспертов по  вопросам глобального\n",
      "  Интернета и Unicode, локализации и интернационализации, воплощению и\n",
      "  применению Unicode в различных операционных системах и программных\n",
      "  приложениях, шрифтах, верстке и многоязычных компьютерных системах.\n",
      "\n",
      "Thai (UCS Level 2):\n",
      "\n",
      "  Excerpt from a poetry on The Romance of The Three Kingdoms (a Chinese\n",
      "  classic 'San Gua'):\n",
      "\n",
      "  [----------------------------|------------------------]\n",
      "    ๏ แผ่นดินฮั่นเสื่อมโทรมแสนสังเวช  พระปกเกศกองบู๊กู้ขึ้นใหม่\n",
      "  สิบสองกษัตริย์ก่อนหน้าแลถัดไป       สององค์ไซร้โง่เขลาเบาปัญญา\n",
      "    ทรงนับถือขันทีเป็นที่พึ่ง           บ้านเมืองจึงวิปริตเป็นนักหนา\n",
      "  โฮจิ๋นเรียกทัพทั่วหัวเมืองมา         หมายจะฆ่ามดชั่วตัวสำคัญ\n",
      "    เหมือนขับไสไล่เสือจากเคหา      รับหมาป่าเข้ามาเลยอาสัญ\n",
      "  ฝ่ายอ้องอุ้นยุแยกให้แตกกัน          ใช้สาวนั้นเป็นชนวนชื่นชวนใจ\n",
      "    พลันลิฉุยกุยกีกลับก่อเหตุ          ช่างอาเพศจริงหนาฟ้าร้องไห้\n",
      "  ต้องรบราฆ่าฟันจนบรรลัย           ฤๅหาใครค้ำชูกู้บรรลังก์ ฯ\n",
      "\n",
      "  (The above is a two-column text. If combining characters are handled\n",
      "  correctly, the lines of the second column should be aligned with the\n",
      "  | character above.)\n",
      "\n",
      "Ethiopian:\n",
      "\n",
      "  Proverbs in the Amharic language:\n",
      "\n",
      "  ሰማይ አይታረስ ንጉሥ አይከሰስ።\n",
      "  ብላ ካለኝ እንደአባቴ በቆመጠኝ።\n",
      "  ጌጥ ያለቤቱ ቁምጥና ነው።\n",
      "  ደሀ በሕልሙ ቅቤ ባይጠጣ ንጣት በገደለው።\n",
      "  የአፍ ወለምታ በቅቤ አይታሽም።\n",
      "  አይጥ በበላ ዳዋ ተመታ።\n",
      "  ሲተረጉሙ ይደረግሙ።\n",
      "  ቀስ በቀስ፥ ዕንቁላል በእግሩ ይሄዳል።\n",
      "  ድር ቢያብር አንበሳ ያስር።\n",
      "  ሰው እንደቤቱ እንጅ እንደ ጉረቤቱ አይተዳደርም።\n",
      "  እግዜር የከፈተውን ጉሮሮ ሳይዘጋው አይድርም።\n",
      "  የጎረቤት ሌባ፥ ቢያዩት ይስቅ ባያዩት ያጠልቅ።\n",
      "  ሥራ ከመፍታት ልጄን ላፋታት።\n",
      "  ዓባይ ማደሪያ የለው፥ ግንድ ይዞ ይዞራል።\n",
      "  የእስላም አገሩ መካ የአሞራ አገሩ ዋርካ።\n",
      "  ተንጋሎ ቢተፉ ተመልሶ ባፉ።\n",
      "  ወዳጅህ ማር ቢሆን ጨርስህ አትላሰው።\n",
      "  እግርህን በፍራሽህ ልክ ዘርጋ።\n",
      "\n",
      "Runes:\n",
      "\n",
      "  ᚻᛖ ᚳᚹᚫᚦ ᚦᚫᛏ ᚻᛖ ᛒᚢᛞᛖ ᚩᚾ ᚦᚫᛗ ᛚᚪᚾᛞᛖ ᚾᚩᚱᚦᚹᛖᚪᚱᛞᚢᛗ ᚹᛁᚦ ᚦᚪ ᚹᛖᛥᚫ\n",
      "\n",
      "  (Old English, which transcribed into Latin reads 'He cwaeth that he\n",
      "  bude thaem lande northweardum with tha Westsae.' and means 'He said\n",
      "  that he lived in the northern land near the Western Sea.')\n",
      "\n",
      "Braille:\n",
      "\n",
      "  ⡌⠁⠧⠑ ⠼⠁⠒  ⡍⠜⠇⠑⠹⠰⠎ ⡣⠕⠌\n",
      "\n",
      "  ⡍⠜⠇⠑⠹ ⠺⠁⠎ ⠙⠑⠁⠙⠒ ⠞⠕ ⠃⠑⠛⠔ ⠺⠊⠹⠲ ⡹⠻⠑ ⠊⠎ ⠝⠕ ⠙⠳⠃⠞\n",
      "  ⠱⠁⠞⠑⠧⠻ ⠁⠃⠳⠞ ⠹⠁⠞⠲ ⡹⠑ ⠗⠑⠛⠊⠌⠻ ⠕⠋ ⠙⠊⠎ ⠃⠥⠗⠊⠁⠇ ⠺⠁⠎\n",
      "  ⠎⠊⠛⠝⠫ ⠃⠹ ⠹⠑ ⠊⠇⠻⠛⠹⠍⠁⠝⠂ ⠹⠑ ⠊⠇⠻⠅⠂ ⠹⠑ ⠥⠝⠙⠻⠞⠁⠅⠻⠂\n",
      "  ⠁⠝⠙ ⠹⠑ ⠡⠊⠑⠋ ⠍⠳⠗⠝⠻⠲ ⡎⠊⠗⠕⠕⠛⠑ ⠎⠊⠛⠝⠫ ⠊⠞⠲ ⡁⠝⠙\n",
      "  ⡎⠊⠗⠕⠕⠛⠑⠰⠎ ⠝⠁⠍⠑ ⠺⠁⠎ ⠛⠕⠕⠙ ⠥⠏⠕⠝ ⠰⡡⠁⠝⠛⠑⠂ ⠋⠕⠗ ⠁⠝⠹⠹⠔⠛ ⠙⠑\n",
      "  ⠡⠕⠎⠑ ⠞⠕ ⠏⠥⠞ ⠙⠊⠎ ⠙⠁⠝⠙ ⠞⠕⠲\n",
      "\n",
      "  ⡕⠇⠙ ⡍⠜⠇⠑⠹ ⠺⠁⠎ ⠁⠎ ⠙⠑⠁⠙ ⠁⠎ ⠁ ⠙⠕⠕⠗⠤⠝⠁⠊⠇⠲\n",
      "\n",
      "  ⡍⠔⠙⠖ ⡊ ⠙⠕⠝⠰⠞ ⠍⠑⠁⠝ ⠞⠕ ⠎⠁⠹ ⠹⠁⠞ ⡊ ⠅⠝⠪⠂ ⠕⠋ ⠍⠹\n",
      "  ⠪⠝ ⠅⠝⠪⠇⠫⠛⠑⠂ ⠱⠁⠞ ⠹⠻⠑ ⠊⠎ ⠏⠜⠞⠊⠊⠥⠇⠜⠇⠹ ⠙⠑⠁⠙ ⠁⠃⠳⠞\n",
      "  ⠁ ⠙⠕⠕⠗⠤⠝⠁⠊⠇⠲ ⡊ ⠍⠊⠣⠞ ⠙⠁⠧⠑ ⠃⠑⠲ ⠔⠊⠇⠔⠫⠂ ⠍⠹⠎⠑⠇⠋⠂ ⠞⠕\n",
      "  ⠗⠑⠛⠜⠙ ⠁ ⠊⠕⠋⠋⠔⠤⠝⠁⠊⠇ ⠁⠎ ⠹⠑ ⠙⠑⠁⠙⠑⠌ ⠏⠊⠑⠊⠑ ⠕⠋ ⠊⠗⠕⠝⠍⠕⠝⠛⠻⠹\n",
      "  ⠔ ⠹⠑ ⠞⠗⠁⠙⠑⠲ ⡃⠥⠞ ⠹⠑ ⠺⠊⠎⠙⠕⠍ ⠕⠋ ⠳⠗ ⠁⠝⠊⠑⠌⠕⠗⠎\n",
      "  ⠊⠎ ⠔ ⠹⠑ ⠎⠊⠍⠊⠇⠑⠆ ⠁⠝⠙ ⠍⠹ ⠥⠝⠙⠁⠇⠇⠪⠫ ⠙⠁⠝⠙⠎\n",
      "  ⠩⠁⠇⠇ ⠝⠕⠞ ⠙⠊⠌⠥⠗⠃ ⠊⠞⠂ ⠕⠗ ⠹⠑ ⡊⠳⠝⠞⠗⠹⠰⠎ ⠙⠕⠝⠑ ⠋⠕⠗⠲ ⡹⠳\n",
      "  ⠺⠊⠇⠇ ⠹⠻⠑⠋⠕⠗⠑ ⠏⠻⠍⠊⠞ ⠍⠑ ⠞⠕ ⠗⠑⠏⠑⠁⠞⠂ ⠑⠍⠏⠙⠁⠞⠊⠊⠁⠇⠇⠹⠂ ⠹⠁⠞\n",
      "  ⡍⠜⠇⠑⠹ ⠺⠁⠎ ⠁⠎ ⠙⠑⠁⠙ ⠁⠎ ⠁ ⠙⠕⠕⠗⠤⠝⠁⠊⠇⠲\n",
      "\n",
      "  (The first couple of paragraphs of \"A Christmas Carol\" by Dickens)\n",
      "\n",
      "Compact font selection example text:\n",
      "\n",
      "  ABCDEFGHIJKLMNOPQRSTUVWXYZ /0123456789\n",
      "  abcdefghijklmnopqrstuvwxyz £©µÀÆÖÞßéöÿ\n",
      "  –—‘“”„†•…‰™œŠŸž€ ΑΒΓΔΩαβγδω АБВГДабвгд\n",
      "  ∀∂∈ℝ∧∪≡∞ ↑↗↨↻⇣ ┐┼╔╘░►☺♀ ﬁ�⑀₂ἠḂӥẄɐː⍎אԱა\n",
      "\n",
      "Greetings in various languages:\n",
      "\n",
      "  Hello world, Καλημέρα κόσμε, コンニチハ\n",
      "\n",
      "Box drawing alignment tests:                                          █\n",
      "                                                                      ▉\n",
      "  ╔══╦══╗  ┌──┬──┐  ╭──┬──╮  ╭──┬──╮  ┏━━┳━━┓  ┎┒┏┑   ╷  ╻ ┏┯┓ ┌┰┐    ▊ ╱╲╱╲╳╳╳\n",
      "  ║┌─╨─┐║  │╔═╧═╗│  │╒═╪═╕│  │╓─╁─╖│  ┃┌─╂─┐┃  ┗╃╄┙  ╶┼╴╺╋╸┠┼┨ ┝╋┥    ▋ ╲╱╲╱╳╳╳\n",
      "  ║│╲ ╱│║  │║   ║│  ││ │ ││  │║ ┃ ║│  ┃│ ╿ │┃  ┍╅╆┓   ╵  ╹ ┗┷┛ └┸┘    ▌ ╱╲╱╲╳╳╳\n",
      "  ╠╡ ╳ ╞╣  ├╢   ╟┤  ├┼─┼─┼┤  ├╫─╂─╫┤  ┣┿╾┼╼┿┫  ┕┛┖┚     ┌┄┄┐ ╎ ┏┅┅┓ ┋ ▍ ╲╱╲╱╳╳╳\n",
      "  ║│╱ ╲│║  │║   ║│  ││ │ ││  │║ ┃ ║│  ┃│ ╽ │┃  ░░▒▒▓▓██ ┊  ┆ ╎ ╏  ┇ ┋ ▎\n",
      "  ║└─╥─┘║  │╚═╤═╝│  │╘═╪═╛│  │╙─╀─╜│  ┃└─╂─┘┃  ░░▒▒▓▓██ ┊  ┆ ╎ ╏  ┇ ┋ ▏\n",
      "  ╚══╩══╝  └──┴──┘  ╰──┴──╯  ╰──┴──╯  ┗━━┻━━┛  ▗▄▖▛▀▜   └╌╌┘ ╎ ┗╍╍┛ ┋  ▁▂▃▄▅▆▇█\n",
      "                                               ▝▀▘▙▄▟\n",
      "\n",
      "</pre>\n"
     ]
    }
   ],
   "source": [
    "print(r.text)"
   ]
  },
  {
   "cell_type": "markdown",
   "metadata": {},
   "source": [
    "#### HTTP认证"
   ]
  },
  {
   "cell_type": "code",
   "execution_count": 122,
   "metadata": {},
   "outputs": [],
   "source": [
    "r = requests.get('http://httpbin.org/basic-auth/test/123456')"
   ]
  },
  {
   "cell_type": "code",
   "execution_count": 123,
   "metadata": {},
   "outputs": [
    {
     "data": {
      "text/plain": [
       "(401,\n",
       " {'Date': 'Thu, 05 Nov 2020 09:36:13 GMT', 'Content-Length': '0', 'Connection': 'keep-alive', 'Server': 'gunicorn/19.9.0', 'WWW-Authenticate': 'Basic realm=\"Fake Realm\"', 'Access-Control-Allow-Origin': '*', 'Access-Control-Allow-Credentials': 'true'})"
      ]
     },
     "execution_count": 123,
     "metadata": {},
     "output_type": "execute_result"
    }
   ],
   "source": [
    "r.status_code, r.headers"
   ]
  },
  {
   "cell_type": "code",
   "execution_count": 116,
   "metadata": {},
   "outputs": [],
   "source": [
    "import base64"
   ]
  },
  {
   "cell_type": "code",
   "execution_count": 117,
   "metadata": {},
   "outputs": [
    {
     "data": {
      "text/plain": [
       "b'test:123456'"
      ]
     },
     "execution_count": 117,
     "metadata": {},
     "output_type": "execute_result"
    }
   ],
   "source": [
    "base64.b64decode('dGVzdDoxMjM0NTY=')"
   ]
  },
  {
   "cell_type": "code",
   "execution_count": 118,
   "metadata": {},
   "outputs": [],
   "source": [
    "sess = requests.Session()"
   ]
  },
  {
   "cell_type": "code",
   "execution_count": 120,
   "metadata": {},
   "outputs": [],
   "source": [
    "auth = base64.b64encode(b'test:123456').decode('ascii')"
   ]
  },
  {
   "cell_type": "code",
   "execution_count": 121,
   "metadata": {},
   "outputs": [
    {
     "data": {
      "text/plain": [
       "'dGVzdDoxMjM0NTY='"
      ]
     },
     "execution_count": 121,
     "metadata": {},
     "output_type": "execute_result"
    }
   ],
   "source": [
    "auth"
   ]
  },
  {
   "cell_type": "code",
   "execution_count": 124,
   "metadata": {},
   "outputs": [],
   "source": [
    "sess.headers.update({'Authorization': 'Basic ' + auth})"
   ]
  },
  {
   "cell_type": "code",
   "execution_count": 125,
   "metadata": {},
   "outputs": [],
   "source": [
    "r = sess.get('http://httpbin.org/basic-auth/test/123456')"
   ]
  },
  {
   "cell_type": "code",
   "execution_count": 126,
   "metadata": {},
   "outputs": [
    {
     "data": {
      "text/plain": [
       "<Response [200]>"
      ]
     },
     "execution_count": 126,
     "metadata": {},
     "output_type": "execute_result"
    }
   ],
   "source": [
    "r"
   ]
  },
  {
   "cell_type": "code",
   "execution_count": 127,
   "metadata": {},
   "outputs": [
    {
     "data": {
      "text/plain": [
       "{'User-Agent': 'python-requests/2.22.0', 'Accept-Encoding': 'gzip, deflate', 'Accept': '*/*', 'Connection': 'keep-alive', 'Authorization': 'Basic dGVzdDoxMjM0NTY='}"
      ]
     },
     "execution_count": 127,
     "metadata": {},
     "output_type": "execute_result"
    }
   ],
   "source": [
    "r.request.headers"
   ]
  },
  {
   "cell_type": "code",
   "execution_count": 128,
   "metadata": {},
   "outputs": [
    {
     "data": {
      "text/plain": [
       "{'Date': 'Thu, 05 Nov 2020 09:36:58 GMT', 'Content-Type': 'application/json', 'Content-Length': '47', 'Connection': 'keep-alive', 'Server': 'gunicorn/19.9.0', 'Access-Control-Allow-Origin': '*', 'Access-Control-Allow-Credentials': 'true'}"
      ]
     },
     "execution_count": 128,
     "metadata": {},
     "output_type": "execute_result"
    }
   ],
   "source": [
    "r.headers"
   ]
  },
  {
   "cell_type": "code",
   "execution_count": 129,
   "metadata": {},
   "outputs": [
    {
     "data": {
      "text/plain": [
       "'{\\n  \"authenticated\": true, \\n  \"user\": \"test\"\\n}\\n'"
      ]
     },
     "execution_count": 129,
     "metadata": {},
     "output_type": "execute_result"
    }
   ],
   "source": [
    "r.text"
   ]
  },
  {
   "cell_type": "markdown",
   "metadata": {},
   "source": [
    "#### json解析"
   ]
  },
  {
   "cell_type": "code",
   "execution_count": 130,
   "metadata": {},
   "outputs": [
    {
     "data": {
      "text/plain": [
       "'{\\n  \"authenticated\": true, \\n  \"user\": \"test\"\\n}\\n'"
      ]
     },
     "execution_count": 130,
     "metadata": {},
     "output_type": "execute_result"
    }
   ],
   "source": [
    "r.text"
   ]
  },
  {
   "cell_type": "code",
   "execution_count": 131,
   "metadata": {},
   "outputs": [],
   "source": [
    "import json"
   ]
  },
  {
   "cell_type": "code",
   "execution_count": 137,
   "metadata": {},
   "outputs": [
    {
     "data": {
      "text/plain": [
       "{'authenticated': True, 'user': 'test'}"
      ]
     },
     "execution_count": 137,
     "metadata": {},
     "output_type": "execute_result"
    }
   ],
   "source": [
    "res = json.loads(r.text)\n",
    "res"
   ]
  },
  {
   "cell_type": "code",
   "execution_count": 138,
   "metadata": {},
   "outputs": [
    {
     "data": {
      "text/plain": [
       "dict"
      ]
     },
     "execution_count": 138,
     "metadata": {},
     "output_type": "execute_result"
    }
   ],
   "source": [
    "type(res)"
   ]
  },
  {
   "cell_type": "code",
   "execution_count": 139,
   "metadata": {},
   "outputs": [
    {
     "data": {
      "text/plain": [
       "{'authenticated': True, 'user': 'test'}"
      ]
     },
     "execution_count": 139,
     "metadata": {},
     "output_type": "execute_result"
    }
   ],
   "source": [
    "r.json()"
   ]
  },
  {
   "cell_type": "code",
   "execution_count": 140,
   "metadata": {},
   "outputs": [
    {
     "data": {
      "text/plain": [
       "'{\"authenticated\": true, \"user\": \"test\"}'"
      ]
     },
     "execution_count": 140,
     "metadata": {},
     "output_type": "execute_result"
    }
   ],
   "source": [
    "json.dumps(res)"
   ]
  },
  {
   "cell_type": "markdown",
   "metadata": {},
   "source": [
    "#### html解析\n",
    "#### https://www.jianshu.com/p/8f6917e4e6dd\n",
    "#### https://www.jianshu.com/p/091c3aa0a73b\n",
    "#### xpath 语法 https://www.w3school.com.cn/xpath/xpath_syntax.asp"
   ]
  },
  {
   "cell_type": "code",
   "execution_count": 1,
   "metadata": {},
   "outputs": [],
   "source": [
    "from lxml import etree"
   ]
  },
  {
   "cell_type": "code",
   "execution_count": 4,
   "metadata": {},
   "outputs": [],
   "source": [
    "r = requests.get(\"http://www.hdu.edu.cn/news/important_26525\")"
   ]
  },
  {
   "cell_type": "code",
   "execution_count": 5,
   "metadata": {
    "collapsed": true,
    "jupyter": {
     "outputs_hidden": true
    }
   },
   "outputs": [
    {
     "name": "stdout",
     "output_type": "stream",
     "text": [
      "\n",
      "\n",
      "\n",
      "\n",
      "<!--$news 当前新闻内容-->\n",
      "<!--$page 当前页面-->\n",
      "<!--$total_page 总页面-->\n",
      "<!--$count 总数量-->\n",
      "<!--$limit 每页数量（定死为13）-->\n",
      "<!--$class 当前分类信息-->\n",
      "<!--$news_list 文章列表-->\n",
      "<!--$year 当前选中年份-->\n",
      "<!--$year_list 年份列表-->\n",
      "<!DOCTYPE html>\n",
      "<html lang=\"en\">\n",
      "<head>\n",
      "    <meta charset=\"UTF-8\">\n",
      "    <title>杭电新闻</title>\n",
      "    <!-- For IE top version load-->\n",
      "    <meta http-equiv=\"X-UA-Compatible\" content=\"IE=edge\">\n",
      "    <!-- 双核浏览器条件下 默认用极速核 -->\n",
      "    <meta name=\"renderer\" content=\"webkit\">\n",
      "    <meta name=\"viewport\" content=\"maximum-scale=1, user-scalable=yes, width=device-width\">\n",
      "    <meta name=\"keywords\" content=\"杭电,新闻,杭电新闻,教育,浙江重点大学\">\n",
      "    <meta name=\"description\" content=\"杭州电子科技大学,浙江重点大学,重点大学,综合性大学... 红色家园 教工之家 杭电青年 学生会 杭电校报 杭电之声 国际合作交流 学生交流。\">\n",
      "\n",
      "    <!-- CSS Code -->\n",
      "    <link rel=\"stylesheet\" href=\"/asset/news_v2/css/web_style.css?v=2.0\" type=\"text/css\">\n",
      "    <link rel=\"stylesheet\" href=\"/asset/news_v2/css/pages/general_find.css?v=2.0\" type=\"text/css\">\n",
      "    <!-- JavaScript Code -->\n",
      "    <script src=\"/asset/news_v2/js/jquery.min.js?v=2.0\"></script>\n",
      "    <script type=\"text/javascript\">  \n",
      "    if ( navigator.userAgent.match(/(phone|pad|pod|iPhone|iPod|ios|iPad|Android|Mobile|BlackBerry|IEMobile|MQQBrowser|JUC|Fennec|wOSBrowser|BrowserNG|WebOS|Symbian|Windows Phone)/i) ){\n",
      "        window.location.href = \"http://m.hdu.edu.cn/mobile/index/news_detail?news_id=26525\";\n",
      "    }\n",
      "    window.onresize = function(){\n",
      "        if( $(window).width() < 480 )window.location.href = \"http://m.hdu.edu.cn/mobile/index/news_detail?news_id=26525\";\n",
      "    };\n",
      "    </script>\n",
      "</head>\n",
      "<!--\n",
      "    类命名规则 布局（grid）（.g-）；\n",
      "    模块（module）（.m-）；\n",
      "    元件（unit）（.u-）；\n",
      "    功能（function）（.f-）；\n",
      "    皮肤（skin）（.s-）；\n",
      "    状态（.z-）。\n",
      "     -->\n",
      "<body bgcolor=\"#fff\">\n",
      "    <!-- 主要内容 -->\n",
      "    <div class=\"main\">\n",
      "        <div class='t-top'>\n",
      "            <div class='c'>\n",
      "                <h6><a href=\"/\">杭电首页</a></h6>\n",
      "            </div>\n",
      "        </div>\n",
      "        <div class=\"m-wrap\">\n",
      "            <div class='header c'>\n",
      "                <div class='logo fl'>\n",
      "                    <a href='/news'><img src='/asset/news_v2/image/logo.png?v=2.0' alt='logo'></a>\n",
      "                </div>\n",
      "                <div class='news fl'></div>\n",
      "                <div class='fr'>\n",
      "                    <p>2020年11月</p>\n",
      "                    <h1>12</h1>\n",
      "                    <p>星期四</p>\n",
      "                    <p id=\"lunar\"></p>\n",
      "                    <script src=\"/asset/news_v2/js/calendar.js?v=2.0\"></script>\n",
      "                    <script>\n",
      "                        var calendar = showCal(); \n",
      "                        $(\"#lunar\").html(calendar);\n",
      "                    </script>\n",
      "                </div>\n",
      "            </div>\n",
      "            <div class=\"f-nav c\" style='height: 60px;'>\n",
      "                <ul>\n",
      "                    <li data=\"index\"><a href=\"/news\">网站首页</a></li>\n",
      "                    <li data=\"branch\"><a href=\"/news/branch\">部门简介</a></li>\n",
      "                    <li data=\"important\"><a href=\"/news/important\">杭电新闻</a></li>\n",
      "                    <li data=\"theory\"><a href=\"/news/theory\">理论学习</a></li>\n",
      "                    <li data=\"superiorfile\"><a href=\"/news/superiorfile\">规章制度</a></li>\n",
      "                    <li data=\"work\"><a href=\"/news/work\">网上办事</a></li>\n",
      "                    <li data=\"departmentnotice\"><a href=\"/news/departmentnotice\">部门通知</a></li>\n",
      "                    <li ><a href='/admin'  target='_blank'>在线投稿</a></li>                   \n",
      "                </ul>\n",
      "                <script>\n",
      "                    var topClass=\"important\";\n",
      "                    for(var t=0;t<$('.f-nav ul li').length;t++){\n",
      "                        if($('.f-nav ul li:eq('+t+')').attr('data')===topClass){\n",
      "                            $('.f-nav ul li:eq('+t+')').addClass('cur');\n",
      "                        }\n",
      "                    }\n",
      "                </script>\n",
      "                <input placeholder='请输入您想要的内容' id='find' maxlength='100'>\n",
      "                <div class=\"error\">\n",
      "                    <img src='/asset/news_v2/image/icon-error.png?v=2.0' alt='error'>\n",
      "                </div>\n",
      "                <div class=\"search\">\n",
      "                    <img src='/asset/news_v2/image/icon-search.png?v=2.0' alt='search'>\n",
      "                </div>\n",
      "            </div>\n",
      "            <div class=\"content c\">\n",
      "                <div class='aside'>\n",
      "                    <div class=\"m-news\">\n",
      "                        <div class=\"title\">\n",
      "                            <h1>杭电要闻</h1>\n",
      "                            <h2 class=\"clear\">\n",
      "                                <span class=\"fl\">important</span>\n",
      "                            </h2>\n",
      "                        </div>\n",
      "                        <div class=\"time-list\">\n",
      "                            <div class=\"clear\">\n",
      "                                <div class=\"mt\">\n",
      "                                    <span class=\"curTime\" show=\"0\"><font>2020</font><div class=\"cate\"></div></span>\n",
      "                                    <div class=\"year scrollBar hide\">\n",
      "                                        <div class='ym'>2020</div><div class='ym'>2019</div><div class='ym'>2018</div><div class='ym'>2017</div><div class='ym'>2016</div><div class='ym'>2015</div><div class='ym'>2014</div><div class='ym'>2013</div><div class='ym'>2012</div><div class='ym'>2011</div><div class='ym'>2010</div><div class='ym'>2009</div><div class='ym'>2008</div><div class='ym'>2007</div><div class='ym'>2006</div><div class='ym'>2005</div><div class='ym'>2004</div><div class='ym'>2003</div>                                    </div>\n",
      "                                </div>\n",
      "                                <div class=\"md\">\n",
      "                                    <div class='mm' check='0'>1</div><div class='mm' check='0'>2</div><div class='mm' check='0'>3</div><div class='mm' check='0'>4</div><div class='mm' check='0'>5</div><div class='mm' check='0'>6</div><div class='mm' check='0'>7</div><div class='mm' check='0'>8</div><div class='mm' check='0'>9</div><div class='mm' check='0'>10</div><div class='mm' check='0'>11</div><div class='mm' check='0'>12</div>                                </div>\n",
      "                            </div>\n",
      "                        </div>\n",
      "                        <ul>\n",
      "                            <li data-id=27576><div class='move'></div><div class='con'>国家社科基金重大项目“基于大数据的科教评价信息云平台构建和智能服务研究”举行开题评审会</div><div class='time'>11-10</div></li><li data-id=27573><div class='move'></div><div class='con'>庆祝电子科技大学援建我校40周年纪念活动举行</div><div class='time'>11-08</div></li><li data-id=27544><div class='move'></div><div class='con'>刘逸喆同学荣获省普通本科高校国家奖学金特别评审奖</div><div class='time'>11-06</div></li><li data-id=27567><div class='move'></div><div class='con'>校党委召开理论学习中心组扩大会议传达学习贯彻十九届五中全会精神</div><div class='time'>11-06</div></li><li data-id=27554><div class='move'></div><div class='con'>我校第四次学生代表大会、第九次研究生代表大会隆重召开</div><div class='time'>10-31</div></li><li data-id=27553><div class='move'></div><div class='con'>中国共产党第十九届中央委员会第五次全体会议公报</div><div class='time'>10-30</div></li><li data-id=27535><div class='move'></div><div class='con'>浙江省委常委、宣传部部长朱国贤一行来校调研</div><div class='time'>10-27</div></li><li data-id=27528><div class='move'></div><div class='con'>我校师生联合开发146个软件，编写200万行代码—— 构建智慧校园赋能人才培养</div><div class='time'>10-26</div></li><li data-id=27525><div class='move'></div><div class='con'>校第三十八届田径运动会圆满落幕</div><div class='time'>10-25</div></li><li data-id=27518><div class='move'></div><div class='con'>校党委召开理论学习中心组专题学习会</div><div class='time'>10-22</div></li><li data-id=27511><div class='move'></div><div class='con'>中国电子信息行业联合会专家委主任来校作学术报告</div><div class='time'>10-21</div></li><li data-id=27508><div class='move'></div><div class='con'>浙江省发展改革委领导来校调研指导消费扶贫工作</div><div class='time'>10-20</div></li><li data-id=27505><div class='move'></div><div class='con'>校领导应邀参加首届拉美中国创新日活动</div><div class='time'>10-19</div></li>                        </ul>\n",
      "                        <div class=\"page\">\n",
      "                            <a class='cur' href='/news/important_26525?page=1&year=2020&month='>1</a><a href='/news/important_26525?page=2&year=2020&month='>2</a><a href='/news/important_26525?page=3&year=2020&month='>3</a><a href='/news/important_26525?page=4&year=2020&month='>4</a><a href='/news/important_26525?page=5&year=2020&month='>5</a><a href='/news/important_26525?page=6&year=2020&month='>6</a><a href='/news/important_26525?page=2&year=2020&month='>下页</a>                         </div>\n",
      "                    </div>\n",
      "                    <div class=\"qr clear\">\n",
      "                        <div class=\"fl\">\n",
      "                            <img src=\"/asset/news_v2/image/hdu-weixinqr.jpg?v=2.0\" alt=\"网易\">\n",
      "                            <p>杭州电子科技大学官方微信</p>\n",
      "                        </div>\n",
      "                        <div class=\"fr\">\n",
      "                            <img src=\"/asset/news_v2/image/hdu-weiboqr.jpg?v=2.0\" alt=\"网易\">\n",
      "                            <p>杭州电子科技大学官方微博</p>\n",
      "                        </div>\n",
      "                    </div>\n",
      "                </div>\n",
      "                <div class='article'>\n",
      "                    <div class=\"title\">\n",
      "                        我校专场数字经济领域人才项目路演对接会在义乌举行                    </div>\n",
      "                    <div style=\"float: right;color: #0056bc;font-size: 16px;\">\n",
      "                                            </div>\n",
      "                    <div class=\"instr\">\n",
      "                        作者：admin     来源：学校新闻部1     时间：2019-10-13     点击量：14278                    </div>\n",
      "                    <div class=\"con\">\n",
      "                        <p>&nbsp;&nbsp;&nbsp;&nbsp;&nbsp; &nbsp;10月12日下午，由省委人才办、省人力社保厅和杭州电子科技大学联合举办的浙江省专家服务企业高质量发展专项活动暨数字经济领域人才项目路演对接会在义乌举行。省人力资源和社会保障厅副厅长葛平安、杭州电子科技大学副校长吕金海、金华市委组织部副部长、人力资源和社会保障局局长褚惠斌、义乌市委常委、组织部部长何若伟、义乌市副市长贾文红等出席此次会议，我校办公室、人力资源部、宣传部、产学研合作处、机械学院等部门和学院代表及部分数字领域专家和各地企业代表参加会议。</p><p>&nbsp; &nbsp; &nbsp; &nbsp;葛平安在致辞中提出，要在合作内容和合作形式上不断创新，要以人才带项目，以项目带人才，借高校之力服务企业，借企业之力反哺高校，各地人力社保部门积极地促进项目落地。</p><p>&nbsp;&nbsp;&nbsp;&nbsp;&nbsp; &nbsp;吕金海表示，杭电与义乌的渊源由来已久，近年来双方在科技合作和人才培养合作方面更是互动频繁。这次杭电组织了60多位专家教授带着最新、最前沿的技术项目齐聚这里，代表着双方的合作进入了更全面、更深入、更实质的新阶段。</p><p>&nbsp;&nbsp;&nbsp;&nbsp;&nbsp; &nbsp;何若伟指出，实现义乌高科技企业蓬勃发展的关键在科技，根本在人才。希望杭电在数字经济领域中的突出科学优势，能在义乌全球自由贸易中发挥作用。</p><p style=\"text-align: center;\"><img src=\"/uploads/news/images/20191013/1570961661704039.jpg\" title=\"1570961661704039.jpg\" alt=\"图片 2_meitu_2.jpg\"/>&nbsp;</p><p>&nbsp;&nbsp;&nbsp;&nbsp;&nbsp; &nbsp;在与义乌市人才项目合作签约仪式上，我校机械学院和义乌研究院分别与义乌市上溪镇共同签订人才培养协议和科技服务协议，我校三位专家则与企业签订了技术合作协议。</p><p style=\"text-align: center;\"><img src=\"/uploads/news/images/20191013/1570962293722178.jpg\" title=\"1570962293722178.jpg\" alt=\"图片 3_meitu_8.jpg\"/></p><p>&nbsp;&nbsp;&nbsp;&nbsp;&nbsp; &nbsp;在随后的人才项目路演推介会上，我校陈科明、林志赟、吕永桂、简志华、张祥泉、徐小良、任彧、韩伟等专家分别带来了物联网、人工智能、艺术设计、大数据、材料与环境工程等领域的路演项目。</p><p style=\"text-align: center;\"><img src=\"/uploads/news/images/20191013/1570961707151413.jpg\" title=\"1570961707151413.jpg\" alt=\"图片 4_meitu_4.jpg\"/></p><p><br/></p><p style=\"text-align: center;\"><img src=\"/uploads/news/images/20191013/1570961719882252.jpg\" title=\"1570961719882252.jpg\" alt=\"图片 5_meitu_5.jpg\"/></p><p>&nbsp;&nbsp;&nbsp;&nbsp;&nbsp; &nbsp;据了解，为了让这场对接会更具成效，我校精心遴选了“数字经济”领域科技项目1023个，其中科技成果技术项目70个，可转让发明专利项目953个，涵盖装备制造、人工智能、物理通信、电力配电、大数据、无人机、芯片等关键技术。活动现场，我校带来了8个路演项目和143个现场洽谈项目，与全省153家企业进行了洽谈对接。此次对接会是“浙江省专家服务企业高质量发展专项活动”的系列活动，旨在践行省委“三服务”活动要求，精准服务企业高质量发展，为我校科研成果商业落地提供了有效平台，也是我校践行“不忘初心 牢记使命”主题教育的活动之一。（校新闻中心）</p><p style=\"text-align: center;\"><img src=\"/uploads/news/images/20191013/1570961733951547.jpg\" title=\"1570961733951547.jpg\" alt=\"图片 6_meitu_6.jpg\"/></p>                    </div>\n",
      "                </div>\n",
      "            </div>\n",
      "            <div class=\"cooper c\">\n",
      "                <ul>\n",
      "                    <li alt=\"网易\" data-href=\"http://dy.163.com/v2/media/search?word=%BA%BC%D6%DD%B5%E7%D7%D3%BF%C6%BC%BC%B4%F3%D1%A7&cid=\" \n",
      "                        data-image='/asset/news_v2/image/bottom01-r.jpg?v=2.0' data-default='/asset/news_v2/image/bottom01.jpg?v=2.0'>\n",
      "                        <img src='/asset/news_v2/image/bottom01.jpg?v=2.0'>\n",
      "                    </li>\n",
      "                    <li alt=\"头条\" data-href=\"https://www.toutiao.com/c/user/6596331691/#mid=6596331691\" \n",
      "                        data-image='/asset/news_v2/image/bottom02-r.jpg?v=2.0' data-default='/asset/news_v2/image/bottom02.jpg?v=2.0'>\n",
      "                        <img src='/asset/news_v2/image/bottom02.jpg?v=2.0'>\n",
      "                    </li>\n",
      "                    <li alt=\"微博\" data-href=\"https://weibo.com/hzhdu?refer_flag=1001030103_\" \n",
      "                        data-image='/asset/news_v2/image/bottom03-r.jpg?v=2.0' data-default='/asset/news_v2/image/bottom03.jpg?v=2.0'>\n",
      "                        <img src='/asset/news_v2/image/bottom03.jpg?v=2.0'>\n",
      "                    </li>\n",
      "                    <li alt=\"红色家园\" data-href=\"http://cas.hdu.edu.cn/cas/login?service=http%3A%2F%2F106.14.9.60%3A3000%2Fcommon%2FgetTicket\" \n",
      "                        data-image='/asset/news_v2/image/bottom05-r.jpg?v=2.0' data-default='/asset/news_v2/image/bottom05.jpg?v=2.0'>\n",
      "                        <img src='/asset/news_v2/image/bottom05.jpg?v=2.0'>\n",
      "                    </li>\n",
      "                </ul>\n",
      "            </div>\n",
      "        </div>\n",
      "        <div class='footer'>\n",
      "            <p>杭州电子科技大学党委宣传部　版权所有　杭州电子科技大学新闻中心维护</p>\n",
      "            <p>浙ICP备12028388号　推荐使用Google浏览器、火狐浏览器、360浏览器（极速模式）</p>\n",
      "        </div>\n",
      "    </div>\n",
      "<script type=\"text/javascript\">\n",
      "    $('.aside .m-news li,.article .m-comp li,.article .m-media li').mouseenter(function () {\n",
      "        $(this).addClass('cur');\n",
      "        $(this).children().addClass('cur');\n",
      "    }).mouseleave(function(){\n",
      "        $(this).removeClass('cur');\n",
      "        $(this).children().removeClass('cur');\n",
      "    });\n",
      "    $('.f-nav .search').click(function(){\n",
      "        $('#find').show(0);\n",
      "        $('#find').focus();\n",
      "        $('.f-nav .error').show(0);\n",
      "        $('.f-nav ul').hide(0);\n",
      "        $('.f-nav .search').hide(0);\n",
      "    });\n",
      "    $('.f-nav .error').click(function(){\n",
      "        $('#find').val('');\n",
      "        $('#find').hide(0);\n",
      "        $('.f-nav .error').hide(0);\n",
      "        $('.f-nav ul').show(0);\n",
      "        $('.f-nav .search').show(0);\n",
      "    });\n",
      "    $('#find').keyup(function(event){\n",
      "        if(event.keyCode ===13){\n",
      "            window.location.href=\"/news/search?advanced=true&keyword=\"+$.trim($(this).val())+\"\";\n",
      "        }\n",
      "    });\n",
      "    \n",
      "    $('.cooper li').mouseenter(function () {\n",
      "        $(this).children('img').attr('src',$(this).attr('data-image'));\n",
      "    }).mouseleave(function(){\n",
      "        $(this).children('img').attr('src',$(this).attr('data-default'));\n",
      "    });\n",
      "\n",
      "    $('.aside .curTime').click(function(event){\n",
      "        if($(this).attr('show')==='0'){\n",
      "            $(this).children('.cate').css('transform','rotate(180deg)')\n",
      "            $(this).siblings('.year').slideDown(200);\n",
      "            $(this).attr('show','1');\n",
      "        }else{\n",
      "            $(this).children('.cate').css('transform','rotate(0deg)')\n",
      "            $(this).siblings('.year').slideUp(200);\n",
      "            $(this).attr('show','0');\n",
      "        }\n",
      "        event.stopPropagation();\n",
      "    });\n",
      "    $('.aside .year .ym').click(function(event){\n",
      "        $('.aside .curTime font').html($(this).text());\n",
      "        $('.aside .curTime .cate').css('transform','rotate(0deg)')\n",
      "        $('.aside .year').slideUp(200);\n",
      "        $('.aside .curTime').attr('show','0');\n",
      "        event.stopPropagation();\n",
      "    });\n",
      "    $(document).click(function(){\n",
      "        $('.aside .curTime .cate').css('transform','rotate(0deg)')\n",
      "        $('.aside .year').slideUp(200);\n",
      "        $('.aside .curTime').attr('show','0');\n",
      "    });\n",
      "    $('.cooper li').click(function(){\n",
      "        window.location.href=$(this).attr('data-href');\n",
      "    });\n",
      "\n",
      "    function gofor(element){\n",
      "        $(element).click(function(){\n",
      "            window.location.href=\"/news/important_\"+$(this).attr('data-id')+\"?page=1&year=2020&month=\";\n",
      "        });\n",
      "    }\n",
      "    gofor('.aside .m-news li');\n",
      "    $('.aside .time-list .mm').click(function(){\n",
      "        if($(this).attr('check')==='1'){\n",
      "            window.location.href=\"/news/important_26525?page=1&year=2020\";\n",
      "        }else{\n",
      "            window.location.href=\"/news/important_26525?page=1&year=2020&month=\"+$(this).text()+\"\";\n",
      "        }\n",
      "    });\n",
      "\n",
      "    $('.aside .time-list .ym').click(function(){\n",
      "        window.location.href=\"/news/important_26525?page=1&year=\"+$(this).text()+\"&month=\";\n",
      "    });\n",
      "\n",
      "</script>\n",
      "</body>\n",
      "</html>\n",
      "\n"
     ]
    }
   ],
   "source": [
    "print(r.text)"
   ]
  },
  {
   "cell_type": "code",
   "execution_count": 27,
   "metadata": {},
   "outputs": [],
   "source": [
    "hpage = etree.HTML(r.text) "
   ]
  },
  {
   "cell_type": "code",
   "execution_count": 28,
   "metadata": {},
   "outputs": [
    {
     "data": {
      "text/plain": [
       "lxml.etree._Element"
      ]
     },
     "execution_count": 28,
     "metadata": {},
     "output_type": "execute_result"
    }
   ],
   "source": [
    "type(hpage)"
   ]
  },
  {
   "cell_type": "code",
   "execution_count": 29,
   "metadata": {},
   "outputs": [
    {
     "data": {
      "text/plain": [
       "[<Element li at 0x219bd5e7d48>,\n",
       " <Element li at 0x219bd5e7c08>,\n",
       " <Element li at 0x219bd5e7e08>,\n",
       " <Element li at 0x219bd5e7f48>,\n",
       " <Element li at 0x219bd5e7e48>,\n",
       " <Element li at 0x219bd5e7fc8>,\n",
       " <Element li at 0x219bd5e7b88>,\n",
       " <Element li at 0x219bd5e7cc8>,\n",
       " <Element li at 0x219bd5e7c88>,\n",
       " <Element li at 0x219bd5e7f88>,\n",
       " <Element li at 0x219bd5e7d88>,\n",
       " <Element li at 0x219bd5e7ec8>,\n",
       " <Element li at 0x219bd5e7088>,\n",
       " <Element li at 0x219bd5e7108>,\n",
       " <Element li at 0x219bd5f9048>,\n",
       " <Element li at 0x219bd5f9088>,\n",
       " <Element li at 0x219bd5f90c8>,\n",
       " <Element li at 0x219bd5f9108>,\n",
       " <Element li at 0x219bd5f9148>,\n",
       " <Element li at 0x219bd5f9188>,\n",
       " <Element li at 0x219bd5f91c8>,\n",
       " <Element li at 0x219bd5f9208>,\n",
       " <Element li at 0x219bd5f9248>,\n",
       " <Element li at 0x219bd5f9288>,\n",
       " <Element li at 0x219bd5f9348>]"
      ]
     },
     "execution_count": 29,
     "metadata": {},
     "output_type": "execute_result"
    }
   ],
   "source": [
    "ele_list = hpage.xpath(\"//li\")\n",
    "ele_list"
   ]
  },
  {
   "cell_type": "code",
   "execution_count": 30,
   "metadata": {},
   "outputs": [
    {
     "data": {
      "text/plain": [
       "b'<li data-id=\"27544\"><div class=\"move\"/><div class=\"con\">&#21016;&#36920;&#21894;&#21516;&#23398;&#33635;&#33719;&#30465;&#26222;&#36890;&#26412;&#31185;&#39640;&#26657;&#22269;&#23478;&#22870;&#23398;&#37329;&#29305;&#21035;&#35780;&#23457;&#22870;</div><div class=\"time\">11-06</div></li>'"
      ]
     },
     "execution_count": 30,
     "metadata": {},
     "output_type": "execute_result"
    }
   ],
   "source": [
    "etree.tostring(ele_list[10])"
   ]
  },
  {
   "cell_type": "code",
   "execution_count": 19,
   "metadata": {
    "collapsed": true,
    "jupyter": {
     "outputs_hidden": true
    }
   },
   "outputs": [
    {
     "data": {
      "text/plain": [
       "\u001b[1;31mSignature:\u001b[0m     \n",
       "\u001b[0metree\u001b[0m\u001b[1;33m.\u001b[0m\u001b[0mtostring\u001b[0m\u001b[1;33m(\u001b[0m\u001b[1;33m\n",
       "\u001b[0m    \u001b[0melement_or_tree\u001b[0m\u001b[1;33m,\u001b[0m\u001b[1;33m\n",
       "\u001b[0m    \u001b[1;33m*\u001b[0m\u001b[1;33m,\u001b[0m\u001b[1;33m\n",
       "\u001b[0m    \u001b[0mencoding\u001b[0m\u001b[1;33m=\u001b[0m\u001b[1;32mNone\u001b[0m\u001b[1;33m,\u001b[0m\u001b[1;33m\n",
       "\u001b[0m    \u001b[0mmethod\u001b[0m\u001b[1;33m=\u001b[0m\u001b[1;34m'xml'\u001b[0m\u001b[1;33m,\u001b[0m\u001b[1;33m\n",
       "\u001b[0m    \u001b[0mxml_declaration\u001b[0m\u001b[1;33m=\u001b[0m\u001b[1;32mNone\u001b[0m\u001b[1;33m,\u001b[0m\u001b[1;33m\n",
       "\u001b[0m    \u001b[0mpretty_print\u001b[0m\u001b[1;33m=\u001b[0m\u001b[1;32mFalse\u001b[0m\u001b[1;33m,\u001b[0m\u001b[1;33m\n",
       "\u001b[0m    \u001b[0mwith_tail\u001b[0m\u001b[1;33m=\u001b[0m\u001b[1;32mTrue\u001b[0m\u001b[1;33m,\u001b[0m\u001b[1;33m\n",
       "\u001b[0m    \u001b[0mstandalone\u001b[0m\u001b[1;33m=\u001b[0m\u001b[1;32mNone\u001b[0m\u001b[1;33m,\u001b[0m\u001b[1;33m\n",
       "\u001b[0m    \u001b[0mdoctype\u001b[0m\u001b[1;33m=\u001b[0m\u001b[1;32mNone\u001b[0m\u001b[1;33m,\u001b[0m\u001b[1;33m\n",
       "\u001b[0m    \u001b[0mexclusive\u001b[0m\u001b[1;33m=\u001b[0m\u001b[1;32mFalse\u001b[0m\u001b[1;33m,\u001b[0m\u001b[1;33m\n",
       "\u001b[0m    \u001b[0minclusive_ns_prefixes\u001b[0m\u001b[1;33m=\u001b[0m\u001b[1;32mNone\u001b[0m\u001b[1;33m,\u001b[0m\u001b[1;33m\n",
       "\u001b[0m    \u001b[0mwith_comments\u001b[0m\u001b[1;33m=\u001b[0m\u001b[1;32mTrue\u001b[0m\u001b[1;33m,\u001b[0m\u001b[1;33m\n",
       "\u001b[0m    \u001b[0mstrip_text\u001b[0m\u001b[1;33m=\u001b[0m\u001b[1;32mFalse\u001b[0m\u001b[1;33m,\u001b[0m\u001b[1;33m\n",
       "\u001b[0m\u001b[1;33m)\u001b[0m\u001b[1;33m\u001b[0m\u001b[1;33m\u001b[0m\u001b[0m\n",
       "\u001b[1;31mCall signature:\u001b[0m \u001b[0metree\u001b[0m\u001b[1;33m.\u001b[0m\u001b[0mtostring\u001b[0m\u001b[1;33m(\u001b[0m\u001b[1;33m*\u001b[0m\u001b[0margs\u001b[0m\u001b[1;33m,\u001b[0m \u001b[1;33m**\u001b[0m\u001b[0mkwargs\u001b[0m\u001b[1;33m)\u001b[0m\u001b[1;33m\u001b[0m\u001b[1;33m\u001b[0m\u001b[0m\n",
       "\u001b[1;31mType:\u001b[0m           cython_function_or_method\n",
       "\u001b[1;31mString form:\u001b[0m    <cyfunction tostring at 0x00000219BB0F8AC8>\n",
       "\u001b[1;31mDocstring:\u001b[0m     \n",
       "tostring(element_or_tree, encoding=None, method=\"xml\",\n",
       "             xml_declaration=None, pretty_print=False, with_tail=True,\n",
       "             standalone=None, doctype=None,\n",
       "             exclusive=False, inclusive_ns_prefixes=None,\n",
       "             with_comments=True, strip_text=False,\n",
       "             )\n",
       "\n",
       "Serialize an element to an encoded string representation of its XML\n",
       "tree.\n",
       "\n",
       "Defaults to ASCII encoding without XML declaration.  This\n",
       "behaviour can be configured with the keyword arguments 'encoding'\n",
       "(string) and 'xml_declaration' (bool).  Note that changing the\n",
       "encoding to a non UTF-8 compatible encoding will enable a\n",
       "declaration by default.\n",
       "\n",
       "You can also serialise to a Unicode string without declaration by\n",
       "passing the name ``'unicode'`` as encoding (or the ``str`` function\n",
       "in Py3 or ``unicode`` in Py2).  This changes the return value from\n",
       "a byte string to an unencoded unicode string.\n",
       "\n",
       "The keyword argument 'pretty_print' (bool) enables formatted XML.\n",
       "\n",
       "The keyword argument 'method' selects the output method: 'xml',\n",
       "'html', plain 'text' (text content without tags), 'c14n' or 'c14n2'.\n",
       "Default is 'xml'.\n",
       "\n",
       "With ``method=\"c14n\"`` (C14N version 1), the options ``exclusive``,\n",
       "``with_comments`` and ``inclusive_ns_prefixes`` request exclusive\n",
       "C14N, include comments, and list the inclusive prefixes respectively.\n",
       "\n",
       "With ``method=\"c14n2\"`` (C14N version 2), the ``with_comments`` and\n",
       "``strip_text`` options control the output of comments and text space\n",
       "according to C14N 2.0.\n",
       "\n",
       "Passing a boolean value to the ``standalone`` option will output\n",
       "an XML declaration with the corresponding ``standalone`` flag.\n",
       "\n",
       "The ``doctype`` option allows passing in a plain string that will\n",
       "be serialised before the XML tree.  Note that passing in non\n",
       "well-formed content here will make the XML output non well-formed.\n",
       "Also, an existing doctype in the document tree will not be removed\n",
       "when serialising an ElementTree instance.\n",
       "\n",
       "You can prevent the tail text of the element from being serialised\n",
       "by passing the boolean ``with_tail`` option.  This has no impact\n",
       "on the tail text of children, which will always be serialised.\n"
      ]
     },
     "metadata": {},
     "output_type": "display_data"
    }
   ],
   "source": [
    "?etree.tostring"
   ]
  },
  {
   "cell_type": "code",
   "execution_count": 31,
   "metadata": {},
   "outputs": [],
   "source": [
    "import html"
   ]
  },
  {
   "cell_type": "code",
   "execution_count": 32,
   "metadata": {},
   "outputs": [
    {
     "data": {
      "text/plain": [
       "b'<li data-id=\"27544\"><div class=\"move\"/><div class=\"con\">\\xe5\\x88\\x98\\xe9\\x80\\xb8\\xe5\\x96\\x86\\xe5\\x90\\x8c\\xe5\\xad\\xa6\\xe8\\x8d\\xa3\\xe8\\x8e\\xb7\\xe7\\x9c\\x81\\xe6\\x99\\xae\\xe9\\x80\\x9a\\xe6\\x9c\\xac\\xe7\\xa7\\x91\\xe9\\xab\\x98\\xe6\\xa0\\xa1\\xe5\\x9b\\xbd\\xe5\\xae\\xb6\\xe5\\xa5\\x96\\xe5\\xad\\xa6\\xe9\\x87\\x91\\xe7\\x89\\xb9\\xe5\\x88\\xab\\xe8\\xaf\\x84\\xe5\\xae\\xa1\\xe5\\xa5\\x96</div><div class=\"time\">11-06</div></li>'"
      ]
     },
     "execution_count": 32,
     "metadata": {},
     "output_type": "execute_result"
    }
   ],
   "source": [
    "etree.tostring(ele_list[10], encoding='utf8')"
   ]
  },
  {
   "cell_type": "code",
   "execution_count": 35,
   "metadata": {},
   "outputs": [
    {
     "data": {
      "text/plain": [
       "'<li data-id=\"27544\"><div class=\"move\"/><div class=\"con\">刘逸喆同学荣获省普通本科高校国家奖学金特别评审奖</div><div class=\"time\">11-06</div></li>'"
      ]
     },
     "execution_count": 35,
     "metadata": {},
     "output_type": "execute_result"
    }
   ],
   "source": [
    "html.unescape(etree.tostring(ele_list[10]).decode('utf8'))"
   ]
  },
  {
   "cell_type": "code",
   "execution_count": 37,
   "metadata": {},
   "outputs": [
    {
     "data": {
      "text/plain": [
       "[<Element li at 0x219bd5e7c88>,\n",
       " <Element li at 0x219bd5e7f88>,\n",
       " <Element li at 0x219bd5e7d88>,\n",
       " <Element li at 0x219bd5e7ec8>,\n",
       " <Element li at 0x219bd5e7088>,\n",
       " <Element li at 0x219bd5e7108>,\n",
       " <Element li at 0x219bd5f9048>,\n",
       " <Element li at 0x219bd5f9088>,\n",
       " <Element li at 0x219bd5f90c8>,\n",
       " <Element li at 0x219bd5f9108>,\n",
       " <Element li at 0x219bd5f9148>,\n",
       " <Element li at 0x219bd5f9188>,\n",
       " <Element li at 0x219bd5f91c8>]"
      ]
     },
     "execution_count": 37,
     "metadata": {},
     "output_type": "execute_result"
    }
   ],
   "source": [
    "ele_list = hpage.xpath(\"//li[@data-id]\")\n",
    "ele_list"
   ]
  },
  {
   "cell_type": "code",
   "execution_count": 41,
   "metadata": {},
   "outputs": [
    {
     "data": {
      "text/plain": [
       "'<li data-id=\"27576\"><div class=\"move\"/><div class=\"con\">国家社科基金重大项目“基于大数据的科教评价信息云平台构建和智能服务研究”举行开题评审会</div><div class=\"time\">11-10</div></li>'"
      ]
     },
     "execution_count": 41,
     "metadata": {},
     "output_type": "execute_result"
    }
   ],
   "source": [
    "html.unescape(etree.tostring(ele_list[0]).decode('utf8'))"
   ]
  },
  {
   "cell_type": "code",
   "execution_count": 42,
   "metadata": {},
   "outputs": [
    {
     "data": {
      "text/plain": [
       "['国家社科基金重大项目“基于大数据的科教评价信息云平台构建和智能服务研究”举行开题评审会']"
      ]
     },
     "execution_count": 42,
     "metadata": {},
     "output_type": "execute_result"
    }
   ],
   "source": [
    "ele_list[0].xpath(\"div[2]/text()\")"
   ]
  },
  {
   "cell_type": "code",
   "execution_count": 43,
   "metadata": {},
   "outputs": [
    {
     "data": {
      "text/plain": [
       "['国家社科基金重大项目“基于大数据的科教评价信息云平台构建和智能服务研究”举行开题评审会']"
      ]
     },
     "execution_count": 43,
     "metadata": {},
     "output_type": "execute_result"
    }
   ],
   "source": [
    "ele_list[0].xpath(\"div[@class='con']/text()\")"
   ]
  },
  {
   "cell_type": "code",
   "execution_count": 44,
   "metadata": {},
   "outputs": [
    {
     "data": {
      "text/plain": [
       "['div', 'div', 'div']"
      ]
     },
     "execution_count": 44,
     "metadata": {},
     "output_type": "execute_result"
    }
   ],
   "source": [
    "[ child.tag for child in ele_list[0] ]"
   ]
  },
  {
   "cell_type": "code",
   "execution_count": 45,
   "metadata": {},
   "outputs": [
    {
     "data": {
      "text/plain": [
       "[None, '国家社科基金重大项目“基于大数据的科教评价信息云平台构建和智能服务研究”举行开题评审会', '11-10']"
      ]
     },
     "execution_count": 45,
     "metadata": {},
     "output_type": "execute_result"
    }
   ],
   "source": [
    "[ child.text for child in ele_list[0] ]"
   ]
  },
  {
   "cell_type": "code",
   "execution_count": 46,
   "metadata": {},
   "outputs": [
    {
     "data": {
      "text/plain": [
       "'国家社科基金重大项目“基于大数据的科教评价信息云平台构建和智能服务研究”举行开题评审会'"
      ]
     },
     "execution_count": 46,
     "metadata": {},
     "output_type": "execute_result"
    }
   ],
   "source": [
    "ele_list[0][1].text"
   ]
  },
  {
   "cell_type": "code",
   "execution_count": 47,
   "metadata": {},
   "outputs": [
    {
     "name": "stdout",
     "output_type": "stream",
     "text": [
      "11-10 ---> 国家社科基金重大项目“基于大数据的科教评价信息云平台构建和智能服务研究”举行开题评审会\n",
      "11-08 ---> 庆祝电子科技大学援建我校40周年纪念活动举行\n",
      "11-06 ---> 刘逸喆同学荣获省普通本科高校国家奖学金特别评审奖\n",
      "11-06 ---> 校党委召开理论学习中心组扩大会议传达学习贯彻十九届五中全会精神\n",
      "10-31 ---> 我校第四次学生代表大会、第九次研究生代表大会隆重召开\n",
      "10-30 ---> 中国共产党第十九届中央委员会第五次全体会议公报\n",
      "10-27 ---> 浙江省委常委、宣传部部长朱国贤一行来校调研\n",
      "10-26 ---> 我校师生联合开发146个软件，编写200万行代码—— 构建智慧校园赋能人才培养\n",
      "10-25 ---> 校第三十八届田径运动会圆满落幕\n",
      "10-22 ---> 校党委召开理论学习中心组专题学习会\n",
      "10-21 ---> 中国电子信息行业联合会专家委主任来校作学术报告\n",
      "10-20 ---> 浙江省发展改革委领导来校调研指导消费扶贫工作\n",
      "10-19 ---> 校领导应邀参加首届拉美中国创新日活动\n"
     ]
    }
   ],
   "source": [
    "for ele in ele_list:\n",
    "    print(ele[2].text, '--->', ele[1].text)"
   ]
  },
  {
   "cell_type": "code",
   "execution_count": 54,
   "metadata": {},
   "outputs": [],
   "source": [
    "content = hpage.xpath(\"/html/body/div[1]/div[2]/div[3]/div[2]/div[1]\")"
   ]
  },
  {
   "cell_type": "code",
   "execution_count": 55,
   "metadata": {},
   "outputs": [
    {
     "data": {
      "text/plain": [
       "'\\r\\n                        我校专场数字经济领域人才项目路演对接会在义乌举行                    '"
      ]
     },
     "execution_count": 55,
     "metadata": {},
     "output_type": "execute_result"
    }
   ],
   "source": [
    "content[0].text"
   ]
  },
  {
   "cell_type": "code",
   "execution_count": 56,
   "metadata": {},
   "outputs": [],
   "source": [
    "content = hpage.xpath(\"//div[@class='article']\")"
   ]
  },
  {
   "cell_type": "code",
   "execution_count": 57,
   "metadata": {},
   "outputs": [],
   "source": [
    "content = content[0].xpath(\"div[@class='con']\")"
   ]
  },
  {
   "cell_type": "code",
   "execution_count": 59,
   "metadata": {
    "collapsed": true,
    "jupyter": {
     "outputs_hidden": true
    }
   },
   "outputs": [
    {
     "data": {
      "text/plain": [
       "b'<div class=\"con\">&#13;\\n                        <p>&#160;&#160;&#160;&#160;&#160; &#160;10&#26376;12&#26085;&#19979;&#21320;&#65292;&#30001;&#30465;&#22996;&#20154;&#25165;&#21150;&#12289;&#30465;&#20154;&#21147;&#31038;&#20445;&#21381;&#21644;&#26477;&#24030;&#30005;&#23376;&#31185;&#25216;&#22823;&#23398;&#32852;&#21512;&#20030;&#21150;&#30340;&#27993;&#27743;&#30465;&#19987;&#23478;&#26381;&#21153;&#20225;&#19994;&#39640;&#36136;&#37327;&#21457;&#23637;&#19987;&#39033;&#27963;&#21160;&#26280;&#25968;&#23383;&#32463;&#27982;&#39046;&#22495;&#20154;&#25165;&#39033;&#30446;&#36335;&#28436;&#23545;&#25509;&#20250;&#22312;&#20041;&#20044;&#20030;&#34892;&#12290;&#30465;&#20154;&#21147;&#36164;&#28304;&#21644;&#31038;&#20250;&#20445;&#38556;&#21381;&#21103;&#21381;&#38271;&#33883;&#24179;&#23433;&#12289;&#26477;&#24030;&#30005;&#23376;&#31185;&#25216;&#22823;&#23398;&#21103;&#26657;&#38271;&#21525;&#37329;&#28023;&#12289;&#37329;&#21326;&#24066;&#22996;&#32452;&#32455;&#37096;&#21103;&#37096;&#38271;&#12289;&#20154;&#21147;&#36164;&#28304;&#21644;&#31038;&#20250;&#20445;&#38556;&#23616;&#23616;&#38271;&#35098;&#24800;&#25996;&#12289;&#20041;&#20044;&#24066;&#22996;&#24120;&#22996;&#12289;&#32452;&#32455;&#37096;&#37096;&#38271;&#20309;&#33509;&#20255;&#12289;&#20041;&#20044;&#24066;&#21103;&#24066;&#38271;&#36158;&#25991;&#32418;&#31561;&#20986;&#24109;&#27492;&#27425;&#20250;&#35758;&#65292;&#25105;&#26657;&#21150;&#20844;&#23460;&#12289;&#20154;&#21147;&#36164;&#28304;&#37096;&#12289;&#23459;&#20256;&#37096;&#12289;&#20135;&#23398;&#30740;&#21512;&#20316;&#22788;&#12289;&#26426;&#26800;&#23398;&#38498;&#31561;&#37096;&#38376;&#21644;&#23398;&#38498;&#20195;&#34920;&#21450;&#37096;&#20998;&#25968;&#23383;&#39046;&#22495;&#19987;&#23478;&#21644;&#21508;&#22320;&#20225;&#19994;&#20195;&#34920;&#21442;&#21152;&#20250;&#35758;&#12290;</p><p>&#160; &#160; &#160; &#160;&#33883;&#24179;&#23433;&#22312;&#33268;&#36766;&#20013;&#25552;&#20986;&#65292;&#35201;&#22312;&#21512;&#20316;&#20869;&#23481;&#21644;&#21512;&#20316;&#24418;&#24335;&#19978;&#19981;&#26029;&#21019;&#26032;&#65292;&#35201;&#20197;&#20154;&#25165;&#24102;&#39033;&#30446;&#65292;&#20197;&#39033;&#30446;&#24102;&#20154;&#25165;&#65292;&#20511;&#39640;&#26657;&#20043;&#21147;&#26381;&#21153;&#20225;&#19994;&#65292;&#20511;&#20225;&#19994;&#20043;&#21147;&#21453;&#21754;&#39640;&#26657;&#65292;&#21508;&#22320;&#20154;&#21147;&#31038;&#20445;&#37096;&#38376;&#31215;&#26497;&#22320;&#20419;&#36827;&#39033;&#30446;&#33853;&#22320;&#12290;</p><p>&#160;&#160;&#160;&#160;&#160; &#160;&#21525;&#37329;&#28023;&#34920;&#31034;&#65292;&#26477;&#30005;&#19982;&#20041;&#20044;&#30340;&#28170;&#28304;&#30001;&#26469;&#24050;&#20037;&#65292;&#36817;&#24180;&#26469;&#21452;&#26041;&#22312;&#31185;&#25216;&#21512;&#20316;&#21644;&#20154;&#25165;&#22521;&#20859;&#21512;&#20316;&#26041;&#38754;&#26356;&#26159;&#20114;&#21160;&#39057;&#32321;&#12290;&#36825;&#27425;&#26477;&#30005;&#32452;&#32455;&#20102;60&#22810;&#20301;&#19987;&#23478;&#25945;&#25480;&#24102;&#30528;&#26368;&#26032;&#12289;&#26368;&#21069;&#27839;&#30340;&#25216;&#26415;&#39033;&#30446;&#40784;&#32858;&#36825;&#37324;&#65292;&#20195;&#34920;&#30528;&#21452;&#26041;&#30340;&#21512;&#20316;&#36827;&#20837;&#20102;&#26356;&#20840;&#38754;&#12289;&#26356;&#28145;&#20837;&#12289;&#26356;&#23454;&#36136;&#30340;&#26032;&#38454;&#27573;&#12290;</p><p>&#160;&#160;&#160;&#160;&#160; &#160;&#20309;&#33509;&#20255;&#25351;&#20986;&#65292;&#23454;&#29616;&#20041;&#20044;&#39640;&#31185;&#25216;&#20225;&#19994;&#34028;&#21187;&#21457;&#23637;&#30340;&#20851;&#38190;&#22312;&#31185;&#25216;&#65292;&#26681;&#26412;&#22312;&#20154;&#25165;&#12290;&#24076;&#26395;&#26477;&#30005;&#22312;&#25968;&#23383;&#32463;&#27982;&#39046;&#22495;&#20013;&#30340;&#31361;&#20986;&#31185;&#23398;&#20248;&#21183;&#65292;&#33021;&#22312;&#20041;&#20044;&#20840;&#29699;&#33258;&#30001;&#36152;&#26131;&#20013;&#21457;&#25381;&#20316;&#29992;&#12290;</p><p style=\"text-align: center;\"><img src=\"/uploads/news/images/20191013/1570961661704039.jpg\" title=\"1570961661704039.jpg\" alt=\"&#22270;&#29255; 2_meitu_2.jpg\"/>&#160;</p><p>&#160;&#160;&#160;&#160;&#160; &#160;&#22312;&#19982;&#20041;&#20044;&#24066;&#20154;&#25165;&#39033;&#30446;&#21512;&#20316;&#31614;&#32422;&#20202;&#24335;&#19978;&#65292;&#25105;&#26657;&#26426;&#26800;&#23398;&#38498;&#21644;&#20041;&#20044;&#30740;&#31350;&#38498;&#20998;&#21035;&#19982;&#20041;&#20044;&#24066;&#19978;&#28330;&#38215;&#20849;&#21516;&#31614;&#35746;&#20154;&#25165;&#22521;&#20859;&#21327;&#35758;&#21644;&#31185;&#25216;&#26381;&#21153;&#21327;&#35758;&#65292;&#25105;&#26657;&#19977;&#20301;&#19987;&#23478;&#21017;&#19982;&#20225;&#19994;&#31614;&#35746;&#20102;&#25216;&#26415;&#21512;&#20316;&#21327;&#35758;&#12290;</p><p style=\"text-align: center;\"><img src=\"/uploads/news/images/20191013/1570962293722178.jpg\" title=\"1570962293722178.jpg\" alt=\"&#22270;&#29255; 3_meitu_8.jpg\"/></p><p>&#160;&#160;&#160;&#160;&#160; &#160;&#22312;&#38543;&#21518;&#30340;&#20154;&#25165;&#39033;&#30446;&#36335;&#28436;&#25512;&#20171;&#20250;&#19978;&#65292;&#25105;&#26657;&#38472;&#31185;&#26126;&#12289;&#26519;&#24535;&#36191;&#12289;&#21525;&#27704;&#26690;&#12289;&#31616;&#24535;&#21326;&#12289;&#24352;&#31077;&#27849;&#12289;&#24464;&#23567;&#33391;&#12289;&#20219;&#24423;&#12289;&#38889;&#20255;&#31561;&#19987;&#23478;&#20998;&#21035;&#24102;&#26469;&#20102;&#29289;&#32852;&#32593;&#12289;&#20154;&#24037;&#26234;&#33021;&#12289;&#33402;&#26415;&#35774;&#35745;&#12289;&#22823;&#25968;&#25454;&#12289;&#26448;&#26009;&#19982;&#29615;&#22659;&#24037;&#31243;&#31561;&#39046;&#22495;&#30340;&#36335;&#28436;&#39033;&#30446;&#12290;</p><p style=\"text-align: center;\"><img src=\"/uploads/news/images/20191013/1570961707151413.jpg\" title=\"1570961707151413.jpg\" alt=\"&#22270;&#29255; 4_meitu_4.jpg\"/></p><p><br/></p><p style=\"text-align: center;\"><img src=\"/uploads/news/images/20191013/1570961719882252.jpg\" title=\"1570961719882252.jpg\" alt=\"&#22270;&#29255; 5_meitu_5.jpg\"/></p><p>&#160;&#160;&#160;&#160;&#160; &#160;&#25454;&#20102;&#35299;&#65292;&#20026;&#20102;&#35753;&#36825;&#22330;&#23545;&#25509;&#20250;&#26356;&#20855;&#25104;&#25928;&#65292;&#25105;&#26657;&#31934;&#24515;&#36980;&#36873;&#20102;&#8220;&#25968;&#23383;&#32463;&#27982;&#8221;&#39046;&#22495;&#31185;&#25216;&#39033;&#30446;1023&#20010;&#65292;&#20854;&#20013;&#31185;&#25216;&#25104;&#26524;&#25216;&#26415;&#39033;&#30446;70&#20010;&#65292;&#21487;&#36716;&#35753;&#21457;&#26126;&#19987;&#21033;&#39033;&#30446;953&#20010;&#65292;&#28085;&#30422;&#35013;&#22791;&#21046;&#36896;&#12289;&#20154;&#24037;&#26234;&#33021;&#12289;&#29289;&#29702;&#36890;&#20449;&#12289;&#30005;&#21147;&#37197;&#30005;&#12289;&#22823;&#25968;&#25454;&#12289;&#26080;&#20154;&#26426;&#12289;&#33455;&#29255;&#31561;&#20851;&#38190;&#25216;&#26415;&#12290;&#27963;&#21160;&#29616;&#22330;&#65292;&#25105;&#26657;&#24102;&#26469;&#20102;8&#20010;&#36335;&#28436;&#39033;&#30446;&#21644;143&#20010;&#29616;&#22330;&#27965;&#35848;&#39033;&#30446;&#65292;&#19982;&#20840;&#30465;153&#23478;&#20225;&#19994;&#36827;&#34892;&#20102;&#27965;&#35848;&#23545;&#25509;&#12290;&#27492;&#27425;&#23545;&#25509;&#20250;&#26159;&#8220;&#27993;&#27743;&#30465;&#19987;&#23478;&#26381;&#21153;&#20225;&#19994;&#39640;&#36136;&#37327;&#21457;&#23637;&#19987;&#39033;&#27963;&#21160;&#8221;&#30340;&#31995;&#21015;&#27963;&#21160;&#65292;&#26088;&#22312;&#36341;&#34892;&#30465;&#22996;&#8220;&#19977;&#26381;&#21153;&#8221;&#27963;&#21160;&#35201;&#27714;&#65292;&#31934;&#20934;&#26381;&#21153;&#20225;&#19994;&#39640;&#36136;&#37327;&#21457;&#23637;&#65292;&#20026;&#25105;&#26657;&#31185;&#30740;&#25104;&#26524;&#21830;&#19994;&#33853;&#22320;&#25552;&#20379;&#20102;&#26377;&#25928;&#24179;&#21488;&#65292;&#20063;&#26159;&#25105;&#26657;&#36341;&#34892;&#8220;&#19981;&#24536;&#21021;&#24515; &#29282;&#35760;&#20351;&#21629;&#8221;&#20027;&#39064;&#25945;&#32946;&#30340;&#27963;&#21160;&#20043;&#19968;&#12290;&#65288;&#26657;&#26032;&#38395;&#20013;&#24515;&#65289;</p><p style=\"text-align: center;\"><img src=\"/uploads/news/images/20191013/1570961733951547.jpg\" title=\"1570961733951547.jpg\" alt=\"&#22270;&#29255; 6_meitu_6.jpg\"/></p>                    </div>&#13;\\n                '"
      ]
     },
     "execution_count": 59,
     "metadata": {},
     "output_type": "execute_result"
    }
   ],
   "source": [
    "etree.tostring(content[0])"
   ]
  },
  {
   "cell_type": "code",
   "execution_count": 60,
   "metadata": {},
   "outputs": [
    {
     "data": {
      "text/plain": [
       "'<div class=\"con\">\\r\\n                        <p>\\xa0\\xa0\\xa0\\xa0\\xa0 \\xa010月12日下午，由省委人才办、省人力社保厅和杭州电子科技大学联合举办的浙江省专家服务企业高质量发展专项活动暨数字经济领域人才项目路演对接会在义乌举行。省人力资源和社会保障厅副厅长葛平安、杭州电子科技大学副校长吕金海、金华市委组织部副部长、人力资源和社会保障局局长褚惠斌、义乌市委常委、组织部部长何若伟、义乌市副市长贾文红等出席此次会议，我校办公室、人力资源部、宣传部、产学研合作处、机械学院等部门和学院代表及部分数字领域专家和各地企业代表参加会议。</p><p>\\xa0 \\xa0 \\xa0 \\xa0葛平安在致辞中提出，要在合作内容和合作形式上不断创新，要以人才带项目，以项目带人才，借高校之力服务企业，借企业之力反哺高校，各地人力社保部门积极地促进项目落地。</p><p>\\xa0\\xa0\\xa0\\xa0\\xa0 \\xa0吕金海表示，杭电与义乌的渊源由来已久，近年来双方在科技合作和人才培养合作方面更是互动频繁。这次杭电组织了60多位专家教授带着最新、最前沿的技术项目齐聚这里，代表着双方的合作进入了更全面、更深入、更实质的新阶段。</p><p>\\xa0\\xa0\\xa0\\xa0\\xa0 \\xa0何若伟指出，实现义乌高科技企业蓬勃发展的关键在科技，根本在人才。希望杭电在数字经济领域中的突出科学优势，能在义乌全球自由贸易中发挥作用。</p><p style=\"text-align: center;\"><img src=\"/uploads/news/images/20191013/1570961661704039.jpg\" title=\"1570961661704039.jpg\" alt=\"图片 2_meitu_2.jpg\"/>\\xa0</p><p>\\xa0\\xa0\\xa0\\xa0\\xa0 \\xa0在与义乌市人才项目合作签约仪式上，我校机械学院和义乌研究院分别与义乌市上溪镇共同签订人才培养协议和科技服务协议，我校三位专家则与企业签订了技术合作协议。</p><p style=\"text-align: center;\"><img src=\"/uploads/news/images/20191013/1570962293722178.jpg\" title=\"1570962293722178.jpg\" alt=\"图片 3_meitu_8.jpg\"/></p><p>\\xa0\\xa0\\xa0\\xa0\\xa0 \\xa0在随后的人才项目路演推介会上，我校陈科明、林志赟、吕永桂、简志华、张祥泉、徐小良、任彧、韩伟等专家分别带来了物联网、人工智能、艺术设计、大数据、材料与环境工程等领域的路演项目。</p><p style=\"text-align: center;\"><img src=\"/uploads/news/images/20191013/1570961707151413.jpg\" title=\"1570961707151413.jpg\" alt=\"图片 4_meitu_4.jpg\"/></p><p><br/></p><p style=\"text-align: center;\"><img src=\"/uploads/news/images/20191013/1570961719882252.jpg\" title=\"1570961719882252.jpg\" alt=\"图片 5_meitu_5.jpg\"/></p><p>\\xa0\\xa0\\xa0\\xa0\\xa0 \\xa0据了解，为了让这场对接会更具成效，我校精心遴选了“数字经济”领域科技项目1023个，其中科技成果技术项目70个，可转让发明专利项目953个，涵盖装备制造、人工智能、物理通信、电力配电、大数据、无人机、芯片等关键技术。活动现场，我校带来了8个路演项目和143个现场洽谈项目，与全省153家企业进行了洽谈对接。此次对接会是“浙江省专家服务企业高质量发展专项活动”的系列活动，旨在践行省委“三服务”活动要求，精准服务企业高质量发展，为我校科研成果商业落地提供了有效平台，也是我校践行“不忘初心 牢记使命”主题教育的活动之一。（校新闻中心）</p><p style=\"text-align: center;\"><img src=\"/uploads/news/images/20191013/1570961733951547.jpg\" title=\"1570961733951547.jpg\" alt=\"图片 6_meitu_6.jpg\"/></p>                    </div>\\r\\n                '"
      ]
     },
     "execution_count": 60,
     "metadata": {},
     "output_type": "execute_result"
    }
   ],
   "source": [
    "html.unescape(etree.tostring(content[0]).decode('utf8'))"
   ]
  },
  {
   "cell_type": "code",
   "execution_count": 63,
   "metadata": {},
   "outputs": [],
   "source": [
    "from IPython.display import HTML"
   ]
  },
  {
   "cell_type": "code",
   "execution_count": 65,
   "metadata": {},
   "outputs": [],
   "source": [
    "htmltext = html.unescape(etree.tostring(content[0]).decode('utf8'))"
   ]
  },
  {
   "cell_type": "code",
   "execution_count": 67,
   "metadata": {},
   "outputs": [],
   "source": [
    "htmltext = htmltext.replace('/uploads', 'http://www.hdu.edu.cn/uploads')"
   ]
  },
  {
   "cell_type": "code",
   "execution_count": 68,
   "metadata": {
    "collapsed": true,
    "jupyter": {
     "outputs_hidden": true
    }
   },
   "outputs": [
    {
     "data": {
      "text/html": [
       "<div class=\"con\">\r\n",
       "                        <p>       10月12日下午，由省委人才办、省人力社保厅和杭州电子科技大学联合举办的浙江省专家服务企业高质量发展专项活动暨数字经济领域人才项目路演对接会在义乌举行。省人力资源和社会保障厅副厅长葛平安、杭州电子科技大学副校长吕金海、金华市委组织部副部长、人力资源和社会保障局局长褚惠斌、义乌市委常委、组织部部长何若伟、义乌市副市长贾文红等出席此次会议，我校办公室、人力资源部、宣传部、产学研合作处、机械学院等部门和学院代表及部分数字领域专家和各地企业代表参加会议。</p><p>       葛平安在致辞中提出，要在合作内容和合作形式上不断创新，要以人才带项目，以项目带人才，借高校之力服务企业，借企业之力反哺高校，各地人力社保部门积极地促进项目落地。</p><p>       吕金海表示，杭电与义乌的渊源由来已久，近年来双方在科技合作和人才培养合作方面更是互动频繁。这次杭电组织了60多位专家教授带着最新、最前沿的技术项目齐聚这里，代表着双方的合作进入了更全面、更深入、更实质的新阶段。</p><p>       何若伟指出，实现义乌高科技企业蓬勃发展的关键在科技，根本在人才。希望杭电在数字经济领域中的突出科学优势，能在义乌全球自由贸易中发挥作用。</p><p style=\"text-align: center;\"><img src=\"http://www.hdu.edu.cn/uploads/news/images/20191013/1570961661704039.jpg\" title=\"1570961661704039.jpg\" alt=\"图片 2_meitu_2.jpg\"/> </p><p>       在与义乌市人才项目合作签约仪式上，我校机械学院和义乌研究院分别与义乌市上溪镇共同签订人才培养协议和科技服务协议，我校三位专家则与企业签订了技术合作协议。</p><p style=\"text-align: center;\"><img src=\"http://www.hdu.edu.cn/uploads/news/images/20191013/1570962293722178.jpg\" title=\"1570962293722178.jpg\" alt=\"图片 3_meitu_8.jpg\"/></p><p>       在随后的人才项目路演推介会上，我校陈科明、林志赟、吕永桂、简志华、张祥泉、徐小良、任彧、韩伟等专家分别带来了物联网、人工智能、艺术设计、大数据、材料与环境工程等领域的路演项目。</p><p style=\"text-align: center;\"><img src=\"http://www.hdu.edu.cn/uploads/news/images/20191013/1570961707151413.jpg\" title=\"1570961707151413.jpg\" alt=\"图片 4_meitu_4.jpg\"/></p><p><br/></p><p style=\"text-align: center;\"><img src=\"http://www.hdu.edu.cn/uploads/news/images/20191013/1570961719882252.jpg\" title=\"1570961719882252.jpg\" alt=\"图片 5_meitu_5.jpg\"/></p><p>       据了解，为了让这场对接会更具成效，我校精心遴选了“数字经济”领域科技项目1023个，其中科技成果技术项目70个，可转让发明专利项目953个，涵盖装备制造、人工智能、物理通信、电力配电、大数据、无人机、芯片等关键技术。活动现场，我校带来了8个路演项目和143个现场洽谈项目，与全省153家企业进行了洽谈对接。此次对接会是“浙江省专家服务企业高质量发展专项活动”的系列活动，旨在践行省委“三服务”活动要求，精准服务企业高质量发展，为我校科研成果商业落地提供了有效平台，也是我校践行“不忘初心 牢记使命”主题教育的活动之一。（校新闻中心）</p><p style=\"text-align: center;\"><img src=\"http://www.hdu.edu.cn/uploads/news/images/20191013/1570961733951547.jpg\" title=\"1570961733951547.jpg\" alt=\"图片 6_meitu_6.jpg\"/></p>                    </div>\r\n",
       "                "
      ],
      "text/plain": [
       "<IPython.core.display.HTML object>"
      ]
     },
     "execution_count": 68,
     "metadata": {},
     "output_type": "execute_result"
    }
   ],
   "source": [
    "HTML(htmltext)"
   ]
  },
  {
   "cell_type": "code",
   "execution_count": 71,
   "metadata": {},
   "outputs": [
    {
     "data": {
      "text/plain": [
       "['p', 'p', 'p', 'p', 'p', 'p', 'p', 'p', 'p', 'p', 'p', 'p', 'p']"
      ]
     },
     "execution_count": 71,
     "metadata": {},
     "output_type": "execute_result"
    }
   ],
   "source": [
    "[child.tag for child in content[0] ]"
   ]
  },
  {
   "cell_type": "code",
   "execution_count": 72,
   "metadata": {},
   "outputs": [
    {
     "data": {
      "text/plain": [
       "['\\xa0\\xa0\\xa0\\xa0\\xa0 \\xa010月12日下午，由省委人才办、省人力社保厅和杭州电子科技大学联合举办的浙江省专家服务企业高质量发展专项活动暨数字经济领域人才项目路演对接会在义乌举行。省人力资源和社会保障厅副厅长葛平安、杭州电子科技大学副校长吕金海、金华市委组织部副部长、人力资源和社会保障局局长褚惠斌、义乌市委常委、组织部部长何若伟、义乌市副市长贾文红等出席此次会议，我校办公室、人力资源部、宣传部、产学研合作处、机械学院等部门和学院代表及部分数字领域专家和各地企业代表参加会议。',\n",
       " '\\xa0 \\xa0 \\xa0 \\xa0葛平安在致辞中提出，要在合作内容和合作形式上不断创新，要以人才带项目，以项目带人才，借高校之力服务企业，借企业之力反哺高校，各地人力社保部门积极地促进项目落地。',\n",
       " '\\xa0\\xa0\\xa0\\xa0\\xa0 \\xa0吕金海表示，杭电与义乌的渊源由来已久，近年来双方在科技合作和人才培养合作方面更是互动频繁。这次杭电组织了60多位专家教授带着最新、最前沿的技术项目齐聚这里，代表着双方的合作进入了更全面、更深入、更实质的新阶段。',\n",
       " '\\xa0\\xa0\\xa0\\xa0\\xa0 \\xa0何若伟指出，实现义乌高科技企业蓬勃发展的关键在科技，根本在人才。希望杭电在数字经济领域中的突出科学优势，能在义乌全球自由贸易中发挥作用。',\n",
       " None,\n",
       " '\\xa0\\xa0\\xa0\\xa0\\xa0 \\xa0在与义乌市人才项目合作签约仪式上，我校机械学院和义乌研究院分别与义乌市上溪镇共同签订人才培养协议和科技服务协议，我校三位专家则与企业签订了技术合作协议。',\n",
       " None,\n",
       " '\\xa0\\xa0\\xa0\\xa0\\xa0 \\xa0在随后的人才项目路演推介会上，我校陈科明、林志赟、吕永桂、简志华、张祥泉、徐小良、任彧、韩伟等专家分别带来了物联网、人工智能、艺术设计、大数据、材料与环境工程等领域的路演项目。',\n",
       " None,\n",
       " None,\n",
       " None,\n",
       " '\\xa0\\xa0\\xa0\\xa0\\xa0 \\xa0据了解，为了让这场对接会更具成效，我校精心遴选了“数字经济”领域科技项目1023个，其中科技成果技术项目70个，可转让发明专利项目953个，涵盖装备制造、人工智能、物理通信、电力配电、大数据、无人机、芯片等关键技术。活动现场，我校带来了8个路演项目和143个现场洽谈项目，与全省153家企业进行了洽谈对接。此次对接会是“浙江省专家服务企业高质量发展专项活动”的系列活动，旨在践行省委“三服务”活动要求，精准服务企业高质量发展，为我校科研成果商业落地提供了有效平台，也是我校践行“不忘初心 牢记使命”主题教育的活动之一。（校新闻中心）',\n",
       " None]"
      ]
     },
     "execution_count": 72,
     "metadata": {},
     "output_type": "execute_result"
    }
   ],
   "source": [
    "[child.text for child in content[0] ]"
   ]
  },
  {
   "cell_type": "code",
   "execution_count": 73,
   "metadata": {},
   "outputs": [
    {
     "data": {
      "text/plain": [
       "['       10月12日下午，由省委人才办、省人力社保厅和杭州电子科技大学联合举办的浙江省专家服务企业高质量发展专项活动暨数字经济领域人才项目路演对接会在义乌举行。省人力资源和社会保障厅副厅长葛平安、杭州电子科技大学副校长吕金海、金华市委组织部副部长、人力资源和社会保障局局长褚惠斌、义乌市委常委、组织部部长何若伟、义乌市副市长贾文红等出席此次会议，我校办公室、人力资源部、宣传部、产学研合作处、机械学院等部门和学院代表及部分数字领域专家和各地企业代表参加会议。',\n",
       " '       葛平安在致辞中提出，要在合作内容和合作形式上不断创新，要以人才带项目，以项目带人才，借高校之力服务企业，借企业之力反哺高校，各地人力社保部门积极地促进项目落地。',\n",
       " '       吕金海表示，杭电与义乌的渊源由来已久，近年来双方在科技合作和人才培养合作方面更是互动频繁。这次杭电组织了60多位专家教授带着最新、最前沿的技术项目齐聚这里，代表着双方的合作进入了更全面、更深入、更实质的新阶段。',\n",
       " '       何若伟指出，实现义乌高科技企业蓬勃发展的关键在科技，根本在人才。希望杭电在数字经济领域中的突出科学优势，能在义乌全球自由贸易中发挥作用。',\n",
       " '       在与义乌市人才项目合作签约仪式上，我校机械学院和义乌研究院分别与义乌市上溪镇共同签订人才培养协议和科技服务协议，我校三位专家则与企业签订了技术合作协议。',\n",
       " '       在随后的人才项目路演推介会上，我校陈科明、林志赟、吕永桂、简志华、张祥泉、徐小良、任彧、韩伟等专家分别带来了物联网、人工智能、艺术设计、大数据、材料与环境工程等领域的路演项目。',\n",
       " '       据了解，为了让这场对接会更具成效，我校精心遴选了“数字经济”领域科技项目1023个，其中科技成果技术项目70个，可转让发明专利项目953个，涵盖装备制造、人工智能、物理通信、电力配电、大数据、无人机、芯片等关键技术。活动现场，我校带来了8个路演项目和143个现场洽谈项目，与全省153家企业进行了洽谈对接。此次对接会是“浙江省专家服务企业高质量发展专项活动”的系列活动，旨在践行省委“三服务”活动要求，精准服务企业高质量发展，为我校科研成果商业落地提供了有效平台，也是我校践行“不忘初心 牢记使命”主题教育的活动之一。（校新闻中心）']"
      ]
     },
     "execution_count": 73,
     "metadata": {},
     "output_type": "execute_result"
    }
   ],
   "source": [
    "[child.text.replace('\\xa0', ' ') for child in content[0] if child.text is not None]"
   ]
  },
  {
   "cell_type": "code",
   "execution_count": 74,
   "metadata": {},
   "outputs": [],
   "source": [
    "content_text = \"\\n\".join([child.text.replace('\\xa0', ' ') for child in content[0] if child.text is not None])"
   ]
  },
  {
   "cell_type": "code",
   "execution_count": 75,
   "metadata": {},
   "outputs": [
    {
     "data": {
      "text/plain": [
       "'       10月12日下午，由省委人才办、省人力社保厅和杭州电子科技大学联合举办的浙江省专家服务企业高质量发展专项活动暨数字经济领域人才项目路演对接会在义乌举行。省人力资源和社会保障厅副厅长葛平安、杭州电子科技大学副校长吕金海、金华市委组织部副部长、人力资源和社会保障局局长褚惠斌、义乌市委常委、组织部部长何若伟、义乌市副市长贾文红等出席此次会议，我校办公室、人力资源部、宣传部、产学研合作处、机械学院等部门和学院代表及部分数字领域专家和各地企业代表参加会议。\\n       葛平安在致辞中提出，要在合作内容和合作形式上不断创新，要以人才带项目，以项目带人才，借高校之力服务企业，借企业之力反哺高校，各地人力社保部门积极地促进项目落地。\\n       吕金海表示，杭电与义乌的渊源由来已久，近年来双方在科技合作和人才培养合作方面更是互动频繁。这次杭电组织了60多位专家教授带着最新、最前沿的技术项目齐聚这里，代表着双方的合作进入了更全面、更深入、更实质的新阶段。\\n       何若伟指出，实现义乌高科技企业蓬勃发展的关键在科技，根本在人才。希望杭电在数字经济领域中的突出科学优势，能在义乌全球自由贸易中发挥作用。\\n       在与义乌市人才项目合作签约仪式上，我校机械学院和义乌研究院分别与义乌市上溪镇共同签订人才培养协议和科技服务协议，我校三位专家则与企业签订了技术合作协议。\\n       在随后的人才项目路演推介会上，我校陈科明、林志赟、吕永桂、简志华、张祥泉、徐小良、任彧、韩伟等专家分别带来了物联网、人工智能、艺术设计、大数据、材料与环境工程等领域的路演项目。\\n       据了解，为了让这场对接会更具成效，我校精心遴选了“数字经济”领域科技项目1023个，其中科技成果技术项目70个，可转让发明专利项目953个，涵盖装备制造、人工智能、物理通信、电力配电、大数据、无人机、芯片等关键技术。活动现场，我校带来了8个路演项目和143个现场洽谈项目，与全省153家企业进行了洽谈对接。此次对接会是“浙江省专家服务企业高质量发展专项活动”的系列活动，旨在践行省委“三服务”活动要求，精准服务企业高质量发展，为我校科研成果商业落地提供了有效平台，也是我校践行“不忘初心 牢记使命”主题教育的活动之一。（校新闻中心）'"
      ]
     },
     "execution_count": 75,
     "metadata": {},
     "output_type": "execute_result"
    }
   ],
   "source": [
    "content_text"
   ]
  },
  {
   "cell_type": "code",
   "execution_count": 76,
   "metadata": {},
   "outputs": [
    {
     "name": "stdout",
     "output_type": "stream",
     "text": [
      "       10月12日下午，由省委人才办、省人力社保厅和杭州电子科技大学联合举办的浙江省专家服务企业高质量发展专项活动暨数字经济领域人才项目路演对接会在义乌举行。省人力资源和社会保障厅副厅长葛平安、杭州电子科技大学副校长吕金海、金华市委组织部副部长、人力资源和社会保障局局长褚惠斌、义乌市委常委、组织部部长何若伟、义乌市副市长贾文红等出席此次会议，我校办公室、人力资源部、宣传部、产学研合作处、机械学院等部门和学院代表及部分数字领域专家和各地企业代表参加会议。\n",
      "       葛平安在致辞中提出，要在合作内容和合作形式上不断创新，要以人才带项目，以项目带人才，借高校之力服务企业，借企业之力反哺高校，各地人力社保部门积极地促进项目落地。\n",
      "       吕金海表示，杭电与义乌的渊源由来已久，近年来双方在科技合作和人才培养合作方面更是互动频繁。这次杭电组织了60多位专家教授带着最新、最前沿的技术项目齐聚这里，代表着双方的合作进入了更全面、更深入、更实质的新阶段。\n",
      "       何若伟指出，实现义乌高科技企业蓬勃发展的关键在科技，根本在人才。希望杭电在数字经济领域中的突出科学优势，能在义乌全球自由贸易中发挥作用。\n",
      "       在与义乌市人才项目合作签约仪式上，我校机械学院和义乌研究院分别与义乌市上溪镇共同签订人才培养协议和科技服务协议，我校三位专家则与企业签订了技术合作协议。\n",
      "       在随后的人才项目路演推介会上，我校陈科明、林志赟、吕永桂、简志华、张祥泉、徐小良、任彧、韩伟等专家分别带来了物联网、人工智能、艺术设计、大数据、材料与环境工程等领域的路演项目。\n",
      "       据了解，为了让这场对接会更具成效，我校精心遴选了“数字经济”领域科技项目1023个，其中科技成果技术项目70个，可转让发明专利项目953个，涵盖装备制造、人工智能、物理通信、电力配电、大数据、无人机、芯片等关键技术。活动现场，我校带来了8个路演项目和143个现场洽谈项目，与全省153家企业进行了洽谈对接。此次对接会是“浙江省专家服务企业高质量发展专项活动”的系列活动，旨在践行省委“三服务”活动要求，精准服务企业高质量发展，为我校科研成果商业落地提供了有效平台，也是我校践行“不忘初心 牢记使命”主题教育的活动之一。（校新闻中心）\n"
     ]
    }
   ],
   "source": [
    "print(content_text)"
   ]
  },
  {
   "cell_type": "markdown",
   "metadata": {},
   "source": [
    "#### BeautifulSoup  \n",
    "#### https://www.crummy.com/software/BeautifulSoup/bs4/doc/index.zh.html\n",
    "#### https://www.jianshu.com/p/2b783f7914c6"
   ]
  },
  {
   "cell_type": "code",
   "execution_count": 77,
   "metadata": {},
   "outputs": [],
   "source": [
    "from bs4 import BeautifulSoup"
   ]
  },
  {
   "cell_type": "code",
   "execution_count": 78,
   "metadata": {},
   "outputs": [],
   "source": [
    "soup = BeautifulSoup(r.text, 'html.parser')"
   ]
  },
  {
   "cell_type": "code",
   "execution_count": 79,
   "metadata": {},
   "outputs": [
    {
     "data": {
      "text/plain": [
       "'http://www.hdu.edu.cn/news/important_26525'"
      ]
     },
     "execution_count": 79,
     "metadata": {},
     "output_type": "execute_result"
    }
   ],
   "source": [
    "r.url"
   ]
  },
  {
   "cell_type": "code",
   "execution_count": 80,
   "metadata": {
    "collapsed": true,
    "jupyter": {
     "outputs_hidden": true
    }
   },
   "outputs": [
    {
     "name": "stdout",
     "output_type": "stream",
     "text": [
      "<!--$news 当前新闻内容-->\n",
      "<!--$page 当前页面-->\n",
      "<!--$total_page 总页面-->\n",
      "<!--$count 总数量-->\n",
      "<!--$limit 每页数量（定死为13）-->\n",
      "<!--$class 当前分类信息-->\n",
      "<!--$news_list 文章列表-->\n",
      "<!--$year 当前选中年份-->\n",
      "<!--$year_list 年份列表-->\n",
      "<!DOCTYPE html>\n",
      "<html lang=\"en\">\n",
      " <head>\n",
      "  <meta charset=\"utf-8\"/>\n",
      "  <title>\n",
      "   杭电新闻\n",
      "  </title>\n",
      "  <!-- For IE top version load-->\n",
      "  <meta content=\"IE=edge\" http-equiv=\"X-UA-Compatible\"/>\n",
      "  <!-- 双核浏览器条件下 默认用极速核 -->\n",
      "  <meta content=\"webkit\" name=\"renderer\"/>\n",
      "  <meta content=\"maximum-scale=1, user-scalable=yes, width=device-width\" name=\"viewport\"/>\n",
      "  <meta content=\"杭电,新闻,杭电新闻,教育,浙江重点大学\" name=\"keywords\"/>\n",
      "  <meta content=\"杭州电子科技大学,浙江重点大学,重点大学,综合性大学... 红色家园 教工之家 杭电青年 学生会 杭电校报 杭电之声 国际合作交流 学生交流。\" name=\"description\"/>\n",
      "  <!-- CSS Code -->\n",
      "  <link href=\"/asset/news_v2/css/web_style.css?v=2.0\" rel=\"stylesheet\" type=\"text/css\"/>\n",
      "  <link href=\"/asset/news_v2/css/pages/general_find.css?v=2.0\" rel=\"stylesheet\" type=\"text/css\"/>\n",
      "  <!-- JavaScript Code -->\n",
      "  <script src=\"/asset/news_v2/js/jquery.min.js?v=2.0\">\n",
      "  </script>\n",
      "  <script type=\"text/javascript\">\n",
      "   if ( navigator.userAgent.match(/(phone|pad|pod|iPhone|iPod|ios|iPad|Android|Mobile|BlackBerry|IEMobile|MQQBrowser|JUC|Fennec|wOSBrowser|BrowserNG|WebOS|Symbian|Windows Phone)/i) ){\n",
      "        window.location.href = \"http://m.hdu.edu.cn/mobile/index/news_detail?news_id=26525\";\n",
      "    }\n",
      "    window.onresize = function(){\n",
      "        if( $(window).width() < 480 )window.location.href = \"http://m.hdu.edu.cn/mobile/index/news_detail?news_id=26525\";\n",
      "    };\n",
      "  </script>\n",
      " </head>\n",
      " <!--\n",
      "    类命名规则 布局（grid）（.g-）；\n",
      "    模块（module）（.m-）；\n",
      "    元件（unit）（.u-）；\n",
      "    功能（function）（.f-）；\n",
      "    皮肤（skin）（.s-）；\n",
      "    状态（.z-）。\n",
      "     -->\n",
      " <body bgcolor=\"#fff\">\n",
      "  <!-- 主要内容 -->\n",
      "  <div class=\"main\">\n",
      "   <div class=\"t-top\">\n",
      "    <div class=\"c\">\n",
      "     <h6>\n",
      "      <a href=\"/\">\n",
      "       杭电首页\n",
      "      </a>\n",
      "     </h6>\n",
      "    </div>\n",
      "   </div>\n",
      "   <div class=\"m-wrap\">\n",
      "    <div class=\"header c\">\n",
      "     <div class=\"logo fl\">\n",
      "      <a href=\"/news\">\n",
      "       <img alt=\"logo\" src=\"/asset/news_v2/image/logo.png?v=2.0\"/>\n",
      "      </a>\n",
      "     </div>\n",
      "     <div class=\"news fl\">\n",
      "     </div>\n",
      "     <div class=\"fr\">\n",
      "      <p>\n",
      "       2020年11月\n",
      "      </p>\n",
      "      <h1>\n",
      "       12\n",
      "      </h1>\n",
      "      <p>\n",
      "       星期四\n",
      "      </p>\n",
      "      <p id=\"lunar\">\n",
      "      </p>\n",
      "      <script src=\"/asset/news_v2/js/calendar.js?v=2.0\">\n",
      "      </script>\n",
      "      <script>\n",
      "       var calendar = showCal(); \n",
      "                        $(\"#lunar\").html(calendar);\n",
      "      </script>\n",
      "     </div>\n",
      "    </div>\n",
      "    <div class=\"f-nav c\" style=\"height: 60px;\">\n",
      "     <ul>\n",
      "      <li data=\"index\">\n",
      "       <a href=\"/news\">\n",
      "        网站首页\n",
      "       </a>\n",
      "      </li>\n",
      "      <li data=\"branch\">\n",
      "       <a href=\"/news/branch\">\n",
      "        部门简介\n",
      "       </a>\n",
      "      </li>\n",
      "      <li data=\"important\">\n",
      "       <a href=\"/news/important\">\n",
      "        杭电新闻\n",
      "       </a>\n",
      "      </li>\n",
      "      <li data=\"theory\">\n",
      "       <a href=\"/news/theory\">\n",
      "        理论学习\n",
      "       </a>\n",
      "      </li>\n",
      "      <li data=\"superiorfile\">\n",
      "       <a href=\"/news/superiorfile\">\n",
      "        规章制度\n",
      "       </a>\n",
      "      </li>\n",
      "      <li data=\"work\">\n",
      "       <a href=\"/news/work\">\n",
      "        网上办事\n",
      "       </a>\n",
      "      </li>\n",
      "      <li data=\"departmentnotice\">\n",
      "       <a href=\"/news/departmentnotice\">\n",
      "        部门通知\n",
      "       </a>\n",
      "      </li>\n",
      "      <li>\n",
      "       <a href=\"/admin\" target=\"_blank\">\n",
      "        在线投稿\n",
      "       </a>\n",
      "      </li>\n",
      "     </ul>\n",
      "     <script>\n",
      "      var topClass=\"important\";\n",
      "                    for(var t=0;t<$('.f-nav ul li').length;t++){\n",
      "                        if($('.f-nav ul li:eq('+t+')').attr('data')===topClass){\n",
      "                            $('.f-nav ul li:eq('+t+')').addClass('cur');\n",
      "                        }\n",
      "                    }\n",
      "     </script>\n",
      "     <input id=\"find\" maxlength=\"100\" placeholder=\"请输入您想要的内容\"/>\n",
      "     <div class=\"error\">\n",
      "      <img alt=\"error\" src=\"/asset/news_v2/image/icon-error.png?v=2.0\"/>\n",
      "     </div>\n",
      "     <div class=\"search\">\n",
      "      <img alt=\"search\" src=\"/asset/news_v2/image/icon-search.png?v=2.0\"/>\n",
      "     </div>\n",
      "    </div>\n",
      "    <div class=\"content c\">\n",
      "     <div class=\"aside\">\n",
      "      <div class=\"m-news\">\n",
      "       <div class=\"title\">\n",
      "        <h1>\n",
      "         杭电要闻\n",
      "        </h1>\n",
      "        <h2 class=\"clear\">\n",
      "         <span class=\"fl\">\n",
      "          important\n",
      "         </span>\n",
      "        </h2>\n",
      "       </div>\n",
      "       <div class=\"time-list\">\n",
      "        <div class=\"clear\">\n",
      "         <div class=\"mt\">\n",
      "          <span class=\"curTime\" show=\"0\">\n",
      "           <font>\n",
      "            2020\n",
      "           </font>\n",
      "           <div class=\"cate\">\n",
      "           </div>\n",
      "          </span>\n",
      "          <div class=\"year scrollBar hide\">\n",
      "           <div class=\"ym\">\n",
      "            2020\n",
      "           </div>\n",
      "           <div class=\"ym\">\n",
      "            2019\n",
      "           </div>\n",
      "           <div class=\"ym\">\n",
      "            2018\n",
      "           </div>\n",
      "           <div class=\"ym\">\n",
      "            2017\n",
      "           </div>\n",
      "           <div class=\"ym\">\n",
      "            2016\n",
      "           </div>\n",
      "           <div class=\"ym\">\n",
      "            2015\n",
      "           </div>\n",
      "           <div class=\"ym\">\n",
      "            2014\n",
      "           </div>\n",
      "           <div class=\"ym\">\n",
      "            2013\n",
      "           </div>\n",
      "           <div class=\"ym\">\n",
      "            2012\n",
      "           </div>\n",
      "           <div class=\"ym\">\n",
      "            2011\n",
      "           </div>\n",
      "           <div class=\"ym\">\n",
      "            2010\n",
      "           </div>\n",
      "           <div class=\"ym\">\n",
      "            2009\n",
      "           </div>\n",
      "           <div class=\"ym\">\n",
      "            2008\n",
      "           </div>\n",
      "           <div class=\"ym\">\n",
      "            2007\n",
      "           </div>\n",
      "           <div class=\"ym\">\n",
      "            2006\n",
      "           </div>\n",
      "           <div class=\"ym\">\n",
      "            2005\n",
      "           </div>\n",
      "           <div class=\"ym\">\n",
      "            2004\n",
      "           </div>\n",
      "           <div class=\"ym\">\n",
      "            2003\n",
      "           </div>\n",
      "          </div>\n",
      "         </div>\n",
      "         <div class=\"md\">\n",
      "          <div check=\"0\" class=\"mm\">\n",
      "           1\n",
      "          </div>\n",
      "          <div check=\"0\" class=\"mm\">\n",
      "           2\n",
      "          </div>\n",
      "          <div check=\"0\" class=\"mm\">\n",
      "           3\n",
      "          </div>\n",
      "          <div check=\"0\" class=\"mm\">\n",
      "           4\n",
      "          </div>\n",
      "          <div check=\"0\" class=\"mm\">\n",
      "           5\n",
      "          </div>\n",
      "          <div check=\"0\" class=\"mm\">\n",
      "           6\n",
      "          </div>\n",
      "          <div check=\"0\" class=\"mm\">\n",
      "           7\n",
      "          </div>\n",
      "          <div check=\"0\" class=\"mm\">\n",
      "           8\n",
      "          </div>\n",
      "          <div check=\"0\" class=\"mm\">\n",
      "           9\n",
      "          </div>\n",
      "          <div check=\"0\" class=\"mm\">\n",
      "           10\n",
      "          </div>\n",
      "          <div check=\"0\" class=\"mm\">\n",
      "           11\n",
      "          </div>\n",
      "          <div check=\"0\" class=\"mm\">\n",
      "           12\n",
      "          </div>\n",
      "         </div>\n",
      "        </div>\n",
      "       </div>\n",
      "       <ul>\n",
      "        <li data-id=\"27576\">\n",
      "         <div class=\"move\">\n",
      "         </div>\n",
      "         <div class=\"con\">\n",
      "          国家社科基金重大项目“基于大数据的科教评价信息云平台构建和智能服务研究”举行开题评审会\n",
      "         </div>\n",
      "         <div class=\"time\">\n",
      "          11-10\n",
      "         </div>\n",
      "        </li>\n",
      "        <li data-id=\"27573\">\n",
      "         <div class=\"move\">\n",
      "         </div>\n",
      "         <div class=\"con\">\n",
      "          庆祝电子科技大学援建我校40周年纪念活动举行\n",
      "         </div>\n",
      "         <div class=\"time\">\n",
      "          11-08\n",
      "         </div>\n",
      "        </li>\n",
      "        <li data-id=\"27544\">\n",
      "         <div class=\"move\">\n",
      "         </div>\n",
      "         <div class=\"con\">\n",
      "          刘逸喆同学荣获省普通本科高校国家奖学金特别评审奖\n",
      "         </div>\n",
      "         <div class=\"time\">\n",
      "          11-06\n",
      "         </div>\n",
      "        </li>\n",
      "        <li data-id=\"27567\">\n",
      "         <div class=\"move\">\n",
      "         </div>\n",
      "         <div class=\"con\">\n",
      "          校党委召开理论学习中心组扩大会议传达学习贯彻十九届五中全会精神\n",
      "         </div>\n",
      "         <div class=\"time\">\n",
      "          11-06\n",
      "         </div>\n",
      "        </li>\n",
      "        <li data-id=\"27554\">\n",
      "         <div class=\"move\">\n",
      "         </div>\n",
      "         <div class=\"con\">\n",
      "          我校第四次学生代表大会、第九次研究生代表大会隆重召开\n",
      "         </div>\n",
      "         <div class=\"time\">\n",
      "          10-31\n",
      "         </div>\n",
      "        </li>\n",
      "        <li data-id=\"27553\">\n",
      "         <div class=\"move\">\n",
      "         </div>\n",
      "         <div class=\"con\">\n",
      "          中国共产党第十九届中央委员会第五次全体会议公报\n",
      "         </div>\n",
      "         <div class=\"time\">\n",
      "          10-30\n",
      "         </div>\n",
      "        </li>\n",
      "        <li data-id=\"27535\">\n",
      "         <div class=\"move\">\n",
      "         </div>\n",
      "         <div class=\"con\">\n",
      "          浙江省委常委、宣传部部长朱国贤一行来校调研\n",
      "         </div>\n",
      "         <div class=\"time\">\n",
      "          10-27\n",
      "         </div>\n",
      "        </li>\n",
      "        <li data-id=\"27528\">\n",
      "         <div class=\"move\">\n",
      "         </div>\n",
      "         <div class=\"con\">\n",
      "          我校师生联合开发146个软件，编写200万行代码—— 构建智慧校园赋能人才培养\n",
      "         </div>\n",
      "         <div class=\"time\">\n",
      "          10-26\n",
      "         </div>\n",
      "        </li>\n",
      "        <li data-id=\"27525\">\n",
      "         <div class=\"move\">\n",
      "         </div>\n",
      "         <div class=\"con\">\n",
      "          校第三十八届田径运动会圆满落幕\n",
      "         </div>\n",
      "         <div class=\"time\">\n",
      "          10-25\n",
      "         </div>\n",
      "        </li>\n",
      "        <li data-id=\"27518\">\n",
      "         <div class=\"move\">\n",
      "         </div>\n",
      "         <div class=\"con\">\n",
      "          校党委召开理论学习中心组专题学习会\n",
      "         </div>\n",
      "         <div class=\"time\">\n",
      "          10-22\n",
      "         </div>\n",
      "        </li>\n",
      "        <li data-id=\"27511\">\n",
      "         <div class=\"move\">\n",
      "         </div>\n",
      "         <div class=\"con\">\n",
      "          中国电子信息行业联合会专家委主任来校作学术报告\n",
      "         </div>\n",
      "         <div class=\"time\">\n",
      "          10-21\n",
      "         </div>\n",
      "        </li>\n",
      "        <li data-id=\"27508\">\n",
      "         <div class=\"move\">\n",
      "         </div>\n",
      "         <div class=\"con\">\n",
      "          浙江省发展改革委领导来校调研指导消费扶贫工作\n",
      "         </div>\n",
      "         <div class=\"time\">\n",
      "          10-20\n",
      "         </div>\n",
      "        </li>\n",
      "        <li data-id=\"27505\">\n",
      "         <div class=\"move\">\n",
      "         </div>\n",
      "         <div class=\"con\">\n",
      "          校领导应邀参加首届拉美中国创新日活动\n",
      "         </div>\n",
      "         <div class=\"time\">\n",
      "          10-19\n",
      "         </div>\n",
      "        </li>\n",
      "       </ul>\n",
      "       <div class=\"page\">\n",
      "        <a class=\"cur\" href=\"/news/important_26525?page=1&amp;year=2020&amp;month=\">\n",
      "         1\n",
      "        </a>\n",
      "        <a href=\"/news/important_26525?page=2&amp;year=2020&amp;month=\">\n",
      "         2\n",
      "        </a>\n",
      "        <a href=\"/news/important_26525?page=3&amp;year=2020&amp;month=\">\n",
      "         3\n",
      "        </a>\n",
      "        <a href=\"/news/important_26525?page=4&amp;year=2020&amp;month=\">\n",
      "         4\n",
      "        </a>\n",
      "        <a href=\"/news/important_26525?page=5&amp;year=2020&amp;month=\">\n",
      "         5\n",
      "        </a>\n",
      "        <a href=\"/news/important_26525?page=6&amp;year=2020&amp;month=\">\n",
      "         6\n",
      "        </a>\n",
      "        <a href=\"/news/important_26525?page=2&amp;year=2020&amp;month=\">\n",
      "         下页\n",
      "        </a>\n",
      "       </div>\n",
      "      </div>\n",
      "      <div class=\"qr clear\">\n",
      "       <div class=\"fl\">\n",
      "        <img alt=\"网易\" src=\"/asset/news_v2/image/hdu-weixinqr.jpg?v=2.0\"/>\n",
      "        <p>\n",
      "         杭州电子科技大学官方微信\n",
      "        </p>\n",
      "       </div>\n",
      "       <div class=\"fr\">\n",
      "        <img alt=\"网易\" src=\"/asset/news_v2/image/hdu-weiboqr.jpg?v=2.0\"/>\n",
      "        <p>\n",
      "         杭州电子科技大学官方微博\n",
      "        </p>\n",
      "       </div>\n",
      "      </div>\n",
      "     </div>\n",
      "     <div class=\"article\">\n",
      "      <div class=\"title\">\n",
      "       我校专场数字经济领域人才项目路演对接会在义乌举行\n",
      "      </div>\n",
      "      <div style=\"float: right;color: #0056bc;font-size: 16px;\">\n",
      "      </div>\n",
      "      <div class=\"instr\">\n",
      "       作者：admin     来源：学校新闻部1     时间：2019-10-13     点击量：14278\n",
      "      </div>\n",
      "      <div class=\"con\">\n",
      "       <p>\n",
      "        10月12日下午，由省委人才办、省人力社保厅和杭州电子科技大学联合举办的浙江省专家服务企业高质量发展专项活动暨数字经济领域人才项目路演对接会在义乌举行。省人力资源和社会保障厅副厅长葛平安、杭州电子科技大学副校长吕金海、金华市委组织部副部长、人力资源和社会保障局局长褚惠斌、义乌市委常委、组织部部长何若伟、义乌市副市长贾文红等出席此次会议，我校办公室、人力资源部、宣传部、产学研合作处、机械学院等部门和学院代表及部分数字领域专家和各地企业代表参加会议。\n",
      "       </p>\n",
      "       <p>\n",
      "        葛平安在致辞中提出，要在合作内容和合作形式上不断创新，要以人才带项目，以项目带人才，借高校之力服务企业，借企业之力反哺高校，各地人力社保部门积极地促进项目落地。\n",
      "       </p>\n",
      "       <p>\n",
      "        吕金海表示，杭电与义乌的渊源由来已久，近年来双方在科技合作和人才培养合作方面更是互动频繁。这次杭电组织了60多位专家教授带着最新、最前沿的技术项目齐聚这里，代表着双方的合作进入了更全面、更深入、更实质的新阶段。\n",
      "       </p>\n",
      "       <p>\n",
      "        何若伟指出，实现义乌高科技企业蓬勃发展的关键在科技，根本在人才。希望杭电在数字经济领域中的突出科学优势，能在义乌全球自由贸易中发挥作用。\n",
      "       </p>\n",
      "       <p style=\"text-align: center;\">\n",
      "        <img alt=\"图片 2_meitu_2.jpg\" src=\"/uploads/news/images/20191013/1570961661704039.jpg\" title=\"1570961661704039.jpg\">\n",
      "        </img>\n",
      "       </p>\n",
      "       <p>\n",
      "        在与义乌市人才项目合作签约仪式上，我校机械学院和义乌研究院分别与义乌市上溪镇共同签订人才培养协议和科技服务协议，我校三位专家则与企业签订了技术合作协议。\n",
      "       </p>\n",
      "       <p style=\"text-align: center;\">\n",
      "        <img alt=\"图片 3_meitu_8.jpg\" src=\"/uploads/news/images/20191013/1570962293722178.jpg\" title=\"1570962293722178.jpg\"/>\n",
      "       </p>\n",
      "       <p>\n",
      "        在随后的人才项目路演推介会上，我校陈科明、林志赟、吕永桂、简志华、张祥泉、徐小良、任彧、韩伟等专家分别带来了物联网、人工智能、艺术设计、大数据、材料与环境工程等领域的路演项目。\n",
      "       </p>\n",
      "       <p style=\"text-align: center;\">\n",
      "        <img alt=\"图片 4_meitu_4.jpg\" src=\"/uploads/news/images/20191013/1570961707151413.jpg\" title=\"1570961707151413.jpg\"/>\n",
      "       </p>\n",
      "       <p>\n",
      "        <br/>\n",
      "       </p>\n",
      "       <p style=\"text-align: center;\">\n",
      "        <img alt=\"图片 5_meitu_5.jpg\" src=\"/uploads/news/images/20191013/1570961719882252.jpg\" title=\"1570961719882252.jpg\"/>\n",
      "       </p>\n",
      "       <p>\n",
      "        据了解，为了让这场对接会更具成效，我校精心遴选了“数字经济”领域科技项目1023个，其中科技成果技术项目70个，可转让发明专利项目953个，涵盖装备制造、人工智能、物理通信、电力配电、大数据、无人机、芯片等关键技术。活动现场，我校带来了8个路演项目和143个现场洽谈项目，与全省153家企业进行了洽谈对接。此次对接会是“浙江省专家服务企业高质量发展专项活动”的系列活动，旨在践行省委“三服务”活动要求，精准服务企业高质量发展，为我校科研成果商业落地提供了有效平台，也是我校践行“不忘初心 牢记使命”主题教育的活动之一。（校新闻中心）\n",
      "       </p>\n",
      "       <p style=\"text-align: center;\">\n",
      "        <img alt=\"图片 6_meitu_6.jpg\" src=\"/uploads/news/images/20191013/1570961733951547.jpg\" title=\"1570961733951547.jpg\"/>\n",
      "       </p>\n",
      "      </div>\n",
      "     </div>\n",
      "    </div>\n",
      "    <div class=\"cooper c\">\n",
      "     <ul>\n",
      "      <li alt=\"网易\" data-default=\"/asset/news_v2/image/bottom01.jpg?v=2.0\" data-href=\"http://dy.163.com/v2/media/search?word=%BA%BC%D6%DD%B5%E7%D7%D3%BF%C6%BC%BC%B4%F3%D1%A7&amp;cid=\" data-image=\"/asset/news_v2/image/bottom01-r.jpg?v=2.0\">\n",
      "       <img src=\"/asset/news_v2/image/bottom01.jpg?v=2.0\"/>\n",
      "      </li>\n",
      "      <li alt=\"头条\" data-default=\"/asset/news_v2/image/bottom02.jpg?v=2.0\" data-href=\"https://www.toutiao.com/c/user/6596331691/#mid=6596331691\" data-image=\"/asset/news_v2/image/bottom02-r.jpg?v=2.0\">\n",
      "       <img src=\"/asset/news_v2/image/bottom02.jpg?v=2.0\"/>\n",
      "      </li>\n",
      "      <li alt=\"微博\" data-default=\"/asset/news_v2/image/bottom03.jpg?v=2.0\" data-href=\"https://weibo.com/hzhdu?refer_flag=1001030103_\" data-image=\"/asset/news_v2/image/bottom03-r.jpg?v=2.0\">\n",
      "       <img src=\"/asset/news_v2/image/bottom03.jpg?v=2.0\"/>\n",
      "      </li>\n",
      "      <li alt=\"红色家园\" data-default=\"/asset/news_v2/image/bottom05.jpg?v=2.0\" data-href=\"http://cas.hdu.edu.cn/cas/login?service=http%3A%2F%2F106.14.9.60%3A3000%2Fcommon%2FgetTicket\" data-image=\"/asset/news_v2/image/bottom05-r.jpg?v=2.0\">\n",
      "       <img src=\"/asset/news_v2/image/bottom05.jpg?v=2.0\"/>\n",
      "      </li>\n",
      "     </ul>\n",
      "    </div>\n",
      "   </div>\n",
      "   <div class=\"footer\">\n",
      "    <p>\n",
      "     杭州电子科技大学党委宣传部　版权所有　杭州电子科技大学新闻中心维护\n",
      "    </p>\n",
      "    <p>\n",
      "     浙ICP备12028388号　推荐使用Google浏览器、火狐浏览器、360浏览器（极速模式）\n",
      "    </p>\n",
      "   </div>\n",
      "  </div>\n",
      "  <script type=\"text/javascript\">\n",
      "   $('.aside .m-news li,.article .m-comp li,.article .m-media li').mouseenter(function () {\n",
      "        $(this).addClass('cur');\n",
      "        $(this).children().addClass('cur');\n",
      "    }).mouseleave(function(){\n",
      "        $(this).removeClass('cur');\n",
      "        $(this).children().removeClass('cur');\n",
      "    });\n",
      "    $('.f-nav .search').click(function(){\n",
      "        $('#find').show(0);\n",
      "        $('#find').focus();\n",
      "        $('.f-nav .error').show(0);\n",
      "        $('.f-nav ul').hide(0);\n",
      "        $('.f-nav .search').hide(0);\n",
      "    });\n",
      "    $('.f-nav .error').click(function(){\n",
      "        $('#find').val('');\n",
      "        $('#find').hide(0);\n",
      "        $('.f-nav .error').hide(0);\n",
      "        $('.f-nav ul').show(0);\n",
      "        $('.f-nav .search').show(0);\n",
      "    });\n",
      "    $('#find').keyup(function(event){\n",
      "        if(event.keyCode ===13){\n",
      "            window.location.href=\"/news/search?advanced=true&keyword=\"+$.trim($(this).val())+\"\";\n",
      "        }\n",
      "    });\n",
      "    \n",
      "    $('.cooper li').mouseenter(function () {\n",
      "        $(this).children('img').attr('src',$(this).attr('data-image'));\n",
      "    }).mouseleave(function(){\n",
      "        $(this).children('img').attr('src',$(this).attr('data-default'));\n",
      "    });\n",
      "\n",
      "    $('.aside .curTime').click(function(event){\n",
      "        if($(this).attr('show')==='0'){\n",
      "            $(this).children('.cate').css('transform','rotate(180deg)')\n",
      "            $(this).siblings('.year').slideDown(200);\n",
      "            $(this).attr('show','1');\n",
      "        }else{\n",
      "            $(this).children('.cate').css('transform','rotate(0deg)')\n",
      "            $(this).siblings('.year').slideUp(200);\n",
      "            $(this).attr('show','0');\n",
      "        }\n",
      "        event.stopPropagation();\n",
      "    });\n",
      "    $('.aside .year .ym').click(function(event){\n",
      "        $('.aside .curTime font').html($(this).text());\n",
      "        $('.aside .curTime .cate').css('transform','rotate(0deg)')\n",
      "        $('.aside .year').slideUp(200);\n",
      "        $('.aside .curTime').attr('show','0');\n",
      "        event.stopPropagation();\n",
      "    });\n",
      "    $(document).click(function(){\n",
      "        $('.aside .curTime .cate').css('transform','rotate(0deg)')\n",
      "        $('.aside .year').slideUp(200);\n",
      "        $('.aside .curTime').attr('show','0');\n",
      "    });\n",
      "    $('.cooper li').click(function(){\n",
      "        window.location.href=$(this).attr('data-href');\n",
      "    });\n",
      "\n",
      "    function gofor(element){\n",
      "        $(element).click(function(){\n",
      "            window.location.href=\"/news/important_\"+$(this).attr('data-id')+\"?page=1&year=2020&month=\";\n",
      "        });\n",
      "    }\n",
      "    gofor('.aside .m-news li');\n",
      "    $('.aside .time-list .mm').click(function(){\n",
      "        if($(this).attr('check')==='1'){\n",
      "            window.location.href=\"/news/important_26525?page=1&year=2020\";\n",
      "        }else{\n",
      "            window.location.href=\"/news/important_26525?page=1&year=2020&month=\"+$(this).text()+\"\";\n",
      "        }\n",
      "    });\n",
      "\n",
      "    $('.aside .time-list .ym').click(function(){\n",
      "        window.location.href=\"/news/important_26525?page=1&year=\"+$(this).text()+\"&month=\";\n",
      "    });\n",
      "  </script>\n",
      " </body>\n",
      "</html>\n",
      "\n"
     ]
    }
   ],
   "source": [
    "print(soup.prettify())"
   ]
  },
  {
   "cell_type": "code",
   "execution_count": 81,
   "metadata": {
    "collapsed": true,
    "jupyter": {
     "outputs_hidden": true
    }
   },
   "outputs": [
    {
     "data": {
      "text/plain": [
       "[<div class=\"main\">\n",
       " <div class=\"t-top\">\n",
       " <div class=\"c\">\n",
       " <h6><a href=\"/\">杭电首页</a></h6>\n",
       " </div>\n",
       " </div>\n",
       " <div class=\"m-wrap\">\n",
       " <div class=\"header c\">\n",
       " <div class=\"logo fl\">\n",
       " <a href=\"/news\"><img alt=\"logo\" src=\"/asset/news_v2/image/logo.png?v=2.0\"/></a>\n",
       " </div>\n",
       " <div class=\"news fl\"></div>\n",
       " <div class=\"fr\">\n",
       " <p>2020年11月</p>\n",
       " <h1>12</h1>\n",
       " <p>星期四</p>\n",
       " <p id=\"lunar\"></p>\n",
       " <script src=\"/asset/news_v2/js/calendar.js?v=2.0\"></script>\n",
       " <script>\n",
       "                         var calendar = showCal(); \n",
       "                         $(\"#lunar\").html(calendar);\n",
       "                     </script>\n",
       " </div>\n",
       " </div>\n",
       " <div class=\"f-nav c\" style=\"height: 60px;\">\n",
       " <ul>\n",
       " <li data=\"index\"><a href=\"/news\">网站首页</a></li>\n",
       " <li data=\"branch\"><a href=\"/news/branch\">部门简介</a></li>\n",
       " <li data=\"important\"><a href=\"/news/important\">杭电新闻</a></li>\n",
       " <li data=\"theory\"><a href=\"/news/theory\">理论学习</a></li>\n",
       " <li data=\"superiorfile\"><a href=\"/news/superiorfile\">规章制度</a></li>\n",
       " <li data=\"work\"><a href=\"/news/work\">网上办事</a></li>\n",
       " <li data=\"departmentnotice\"><a href=\"/news/departmentnotice\">部门通知</a></li>\n",
       " <li><a href=\"/admin\" target=\"_blank\">在线投稿</a></li>\n",
       " </ul>\n",
       " <script>\n",
       "                     var topClass=\"important\";\n",
       "                     for(var t=0;t<$('.f-nav ul li').length;t++){\n",
       "                         if($('.f-nav ul li:eq('+t+')').attr('data')===topClass){\n",
       "                             $('.f-nav ul li:eq('+t+')').addClass('cur');\n",
       "                         }\n",
       "                     }\n",
       "                 </script>\n",
       " <input id=\"find\" maxlength=\"100\" placeholder=\"请输入您想要的内容\"/>\n",
       " <div class=\"error\">\n",
       " <img alt=\"error\" src=\"/asset/news_v2/image/icon-error.png?v=2.0\"/>\n",
       " </div>\n",
       " <div class=\"search\">\n",
       " <img alt=\"search\" src=\"/asset/news_v2/image/icon-search.png?v=2.0\"/>\n",
       " </div>\n",
       " </div>\n",
       " <div class=\"content c\">\n",
       " <div class=\"aside\">\n",
       " <div class=\"m-news\">\n",
       " <div class=\"title\">\n",
       " <h1>杭电要闻</h1>\n",
       " <h2 class=\"clear\">\n",
       " <span class=\"fl\">important</span>\n",
       " </h2>\n",
       " </div>\n",
       " <div class=\"time-list\">\n",
       " <div class=\"clear\">\n",
       " <div class=\"mt\">\n",
       " <span class=\"curTime\" show=\"0\"><font>2020</font><div class=\"cate\"></div></span>\n",
       " <div class=\"year scrollBar hide\">\n",
       " <div class=\"ym\">2020</div><div class=\"ym\">2019</div><div class=\"ym\">2018</div><div class=\"ym\">2017</div><div class=\"ym\">2016</div><div class=\"ym\">2015</div><div class=\"ym\">2014</div><div class=\"ym\">2013</div><div class=\"ym\">2012</div><div class=\"ym\">2011</div><div class=\"ym\">2010</div><div class=\"ym\">2009</div><div class=\"ym\">2008</div><div class=\"ym\">2007</div><div class=\"ym\">2006</div><div class=\"ym\">2005</div><div class=\"ym\">2004</div><div class=\"ym\">2003</div> </div>\n",
       " </div>\n",
       " <div class=\"md\">\n",
       " <div check=\"0\" class=\"mm\">1</div><div check=\"0\" class=\"mm\">2</div><div check=\"0\" class=\"mm\">3</div><div check=\"0\" class=\"mm\">4</div><div check=\"0\" class=\"mm\">5</div><div check=\"0\" class=\"mm\">6</div><div check=\"0\" class=\"mm\">7</div><div check=\"0\" class=\"mm\">8</div><div check=\"0\" class=\"mm\">9</div><div check=\"0\" class=\"mm\">10</div><div check=\"0\" class=\"mm\">11</div><div check=\"0\" class=\"mm\">12</div> </div>\n",
       " </div>\n",
       " </div>\n",
       " <ul>\n",
       " <li data-id=\"27576\"><div class=\"move\"></div><div class=\"con\">国家社科基金重大项目“基于大数据的科教评价信息云平台构建和智能服务研究”举行开题评审会</div><div class=\"time\">11-10</div></li><li data-id=\"27573\"><div class=\"move\"></div><div class=\"con\">庆祝电子科技大学援建我校40周年纪念活动举行</div><div class=\"time\">11-08</div></li><li data-id=\"27544\"><div class=\"move\"></div><div class=\"con\">刘逸喆同学荣获省普通本科高校国家奖学金特别评审奖</div><div class=\"time\">11-06</div></li><li data-id=\"27567\"><div class=\"move\"></div><div class=\"con\">校党委召开理论学习中心组扩大会议传达学习贯彻十九届五中全会精神</div><div class=\"time\">11-06</div></li><li data-id=\"27554\"><div class=\"move\"></div><div class=\"con\">我校第四次学生代表大会、第九次研究生代表大会隆重召开</div><div class=\"time\">10-31</div></li><li data-id=\"27553\"><div class=\"move\"></div><div class=\"con\">中国共产党第十九届中央委员会第五次全体会议公报</div><div class=\"time\">10-30</div></li><li data-id=\"27535\"><div class=\"move\"></div><div class=\"con\">浙江省委常委、宣传部部长朱国贤一行来校调研</div><div class=\"time\">10-27</div></li><li data-id=\"27528\"><div class=\"move\"></div><div class=\"con\">我校师生联合开发146个软件，编写200万行代码—— 构建智慧校园赋能人才培养</div><div class=\"time\">10-26</div></li><li data-id=\"27525\"><div class=\"move\"></div><div class=\"con\">校第三十八届田径运动会圆满落幕</div><div class=\"time\">10-25</div></li><li data-id=\"27518\"><div class=\"move\"></div><div class=\"con\">校党委召开理论学习中心组专题学习会</div><div class=\"time\">10-22</div></li><li data-id=\"27511\"><div class=\"move\"></div><div class=\"con\">中国电子信息行业联合会专家委主任来校作学术报告</div><div class=\"time\">10-21</div></li><li data-id=\"27508\"><div class=\"move\"></div><div class=\"con\">浙江省发展改革委领导来校调研指导消费扶贫工作</div><div class=\"time\">10-20</div></li><li data-id=\"27505\"><div class=\"move\"></div><div class=\"con\">校领导应邀参加首届拉美中国创新日活动</div><div class=\"time\">10-19</div></li> </ul>\n",
       " <div class=\"page\">\n",
       " <a class=\"cur\" href=\"/news/important_26525?page=1&amp;year=2020&amp;month=\">1</a><a href=\"/news/important_26525?page=2&amp;year=2020&amp;month=\">2</a><a href=\"/news/important_26525?page=3&amp;year=2020&amp;month=\">3</a><a href=\"/news/important_26525?page=4&amp;year=2020&amp;month=\">4</a><a href=\"/news/important_26525?page=5&amp;year=2020&amp;month=\">5</a><a href=\"/news/important_26525?page=6&amp;year=2020&amp;month=\">6</a><a href=\"/news/important_26525?page=2&amp;year=2020&amp;month=\">下页</a> </div>\n",
       " </div>\n",
       " <div class=\"qr clear\">\n",
       " <div class=\"fl\">\n",
       " <img alt=\"网易\" src=\"/asset/news_v2/image/hdu-weixinqr.jpg?v=2.0\"/>\n",
       " <p>杭州电子科技大学官方微信</p>\n",
       " </div>\n",
       " <div class=\"fr\">\n",
       " <img alt=\"网易\" src=\"/asset/news_v2/image/hdu-weiboqr.jpg?v=2.0\"/>\n",
       " <p>杭州电子科技大学官方微博</p>\n",
       " </div>\n",
       " </div>\n",
       " </div>\n",
       " <div class=\"article\">\n",
       " <div class=\"title\">\n",
       "                         我校专场数字经济领域人才项目路演对接会在义乌举行                    </div>\n",
       " <div style=\"float: right;color: #0056bc;font-size: 16px;\">\n",
       " </div>\n",
       " <div class=\"instr\">\n",
       "                         作者：admin     来源：学校新闻部1     时间：2019-10-13     点击量：14278                    </div>\n",
       " <div class=\"con\">\n",
       " <p>       10月12日下午，由省委人才办、省人力社保厅和杭州电子科技大学联合举办的浙江省专家服务企业高质量发展专项活动暨数字经济领域人才项目路演对接会在义乌举行。省人力资源和社会保障厅副厅长葛平安、杭州电子科技大学副校长吕金海、金华市委组织部副部长、人力资源和社会保障局局长褚惠斌、义乌市委常委、组织部部长何若伟、义乌市副市长贾文红等出席此次会议，我校办公室、人力资源部、宣传部、产学研合作处、机械学院等部门和学院代表及部分数字领域专家和各地企业代表参加会议。</p><p>       葛平安在致辞中提出，要在合作内容和合作形式上不断创新，要以人才带项目，以项目带人才，借高校之力服务企业，借企业之力反哺高校，各地人力社保部门积极地促进项目落地。</p><p>       吕金海表示，杭电与义乌的渊源由来已久，近年来双方在科技合作和人才培养合作方面更是互动频繁。这次杭电组织了60多位专家教授带着最新、最前沿的技术项目齐聚这里，代表着双方的合作进入了更全面、更深入、更实质的新阶段。</p><p>       何若伟指出，实现义乌高科技企业蓬勃发展的关键在科技，根本在人才。希望杭电在数字经济领域中的突出科学优势，能在义乌全球自由贸易中发挥作用。</p><p style=\"text-align: center;\"><img alt=\"图片 2_meitu_2.jpg\" src=\"/uploads/news/images/20191013/1570961661704039.jpg\" title=\"1570961661704039.jpg\"> </img></p><p>       在与义乌市人才项目合作签约仪式上，我校机械学院和义乌研究院分别与义乌市上溪镇共同签订人才培养协议和科技服务协议，我校三位专家则与企业签订了技术合作协议。</p><p style=\"text-align: center;\"><img alt=\"图片 3_meitu_8.jpg\" src=\"/uploads/news/images/20191013/1570962293722178.jpg\" title=\"1570962293722178.jpg\"/></p><p>       在随后的人才项目路演推介会上，我校陈科明、林志赟、吕永桂、简志华、张祥泉、徐小良、任彧、韩伟等专家分别带来了物联网、人工智能、艺术设计、大数据、材料与环境工程等领域的路演项目。</p><p style=\"text-align: center;\"><img alt=\"图片 4_meitu_4.jpg\" src=\"/uploads/news/images/20191013/1570961707151413.jpg\" title=\"1570961707151413.jpg\"/></p><p><br/></p><p style=\"text-align: center;\"><img alt=\"图片 5_meitu_5.jpg\" src=\"/uploads/news/images/20191013/1570961719882252.jpg\" title=\"1570961719882252.jpg\"/></p><p>       据了解，为了让这场对接会更具成效，我校精心遴选了“数字经济”领域科技项目1023个，其中科技成果技术项目70个，可转让发明专利项目953个，涵盖装备制造、人工智能、物理通信、电力配电、大数据、无人机、芯片等关键技术。活动现场，我校带来了8个路演项目和143个现场洽谈项目，与全省153家企业进行了洽谈对接。此次对接会是“浙江省专家服务企业高质量发展专项活动”的系列活动，旨在践行省委“三服务”活动要求，精准服务企业高质量发展，为我校科研成果商业落地提供了有效平台，也是我校践行“不忘初心 牢记使命”主题教育的活动之一。（校新闻中心）</p><p style=\"text-align: center;\"><img alt=\"图片 6_meitu_6.jpg\" src=\"/uploads/news/images/20191013/1570961733951547.jpg\" title=\"1570961733951547.jpg\"/></p> </div>\n",
       " </div>\n",
       " </div>\n",
       " <div class=\"cooper c\">\n",
       " <ul>\n",
       " <li alt=\"网易\" data-default=\"/asset/news_v2/image/bottom01.jpg?v=2.0\" data-href=\"http://dy.163.com/v2/media/search?word=%BA%BC%D6%DD%B5%E7%D7%D3%BF%C6%BC%BC%B4%F3%D1%A7&amp;cid=\" data-image=\"/asset/news_v2/image/bottom01-r.jpg?v=2.0\">\n",
       " <img src=\"/asset/news_v2/image/bottom01.jpg?v=2.0\"/>\n",
       " </li>\n",
       " <li alt=\"头条\" data-default=\"/asset/news_v2/image/bottom02.jpg?v=2.0\" data-href=\"https://www.toutiao.com/c/user/6596331691/#mid=6596331691\" data-image=\"/asset/news_v2/image/bottom02-r.jpg?v=2.0\">\n",
       " <img src=\"/asset/news_v2/image/bottom02.jpg?v=2.0\"/>\n",
       " </li>\n",
       " <li alt=\"微博\" data-default=\"/asset/news_v2/image/bottom03.jpg?v=2.0\" data-href=\"https://weibo.com/hzhdu?refer_flag=1001030103_\" data-image=\"/asset/news_v2/image/bottom03-r.jpg?v=2.0\">\n",
       " <img src=\"/asset/news_v2/image/bottom03.jpg?v=2.0\"/>\n",
       " </li>\n",
       " <li alt=\"红色家园\" data-default=\"/asset/news_v2/image/bottom05.jpg?v=2.0\" data-href=\"http://cas.hdu.edu.cn/cas/login?service=http%3A%2F%2F106.14.9.60%3A3000%2Fcommon%2FgetTicket\" data-image=\"/asset/news_v2/image/bottom05-r.jpg?v=2.0\">\n",
       " <img src=\"/asset/news_v2/image/bottom05.jpg?v=2.0\"/>\n",
       " </li>\n",
       " </ul>\n",
       " </div>\n",
       " </div>\n",
       " <div class=\"footer\">\n",
       " <p>杭州电子科技大学党委宣传部　版权所有　杭州电子科技大学新闻中心维护</p>\n",
       " <p>浙ICP备12028388号　推荐使用Google浏览器、火狐浏览器、360浏览器（极速模式）</p>\n",
       " </div>\n",
       " </div>, <div class=\"t-top\">\n",
       " <div class=\"c\">\n",
       " <h6><a href=\"/\">杭电首页</a></h6>\n",
       " </div>\n",
       " </div>, <div class=\"c\">\n",
       " <h6><a href=\"/\">杭电首页</a></h6>\n",
       " </div>, <div class=\"m-wrap\">\n",
       " <div class=\"header c\">\n",
       " <div class=\"logo fl\">\n",
       " <a href=\"/news\"><img alt=\"logo\" src=\"/asset/news_v2/image/logo.png?v=2.0\"/></a>\n",
       " </div>\n",
       " <div class=\"news fl\"></div>\n",
       " <div class=\"fr\">\n",
       " <p>2020年11月</p>\n",
       " <h1>12</h1>\n",
       " <p>星期四</p>\n",
       " <p id=\"lunar\"></p>\n",
       " <script src=\"/asset/news_v2/js/calendar.js?v=2.0\"></script>\n",
       " <script>\n",
       "                         var calendar = showCal(); \n",
       "                         $(\"#lunar\").html(calendar);\n",
       "                     </script>\n",
       " </div>\n",
       " </div>\n",
       " <div class=\"f-nav c\" style=\"height: 60px;\">\n",
       " <ul>\n",
       " <li data=\"index\"><a href=\"/news\">网站首页</a></li>\n",
       " <li data=\"branch\"><a href=\"/news/branch\">部门简介</a></li>\n",
       " <li data=\"important\"><a href=\"/news/important\">杭电新闻</a></li>\n",
       " <li data=\"theory\"><a href=\"/news/theory\">理论学习</a></li>\n",
       " <li data=\"superiorfile\"><a href=\"/news/superiorfile\">规章制度</a></li>\n",
       " <li data=\"work\"><a href=\"/news/work\">网上办事</a></li>\n",
       " <li data=\"departmentnotice\"><a href=\"/news/departmentnotice\">部门通知</a></li>\n",
       " <li><a href=\"/admin\" target=\"_blank\">在线投稿</a></li>\n",
       " </ul>\n",
       " <script>\n",
       "                     var topClass=\"important\";\n",
       "                     for(var t=0;t<$('.f-nav ul li').length;t++){\n",
       "                         if($('.f-nav ul li:eq('+t+')').attr('data')===topClass){\n",
       "                             $('.f-nav ul li:eq('+t+')').addClass('cur');\n",
       "                         }\n",
       "                     }\n",
       "                 </script>\n",
       " <input id=\"find\" maxlength=\"100\" placeholder=\"请输入您想要的内容\"/>\n",
       " <div class=\"error\">\n",
       " <img alt=\"error\" src=\"/asset/news_v2/image/icon-error.png?v=2.0\"/>\n",
       " </div>\n",
       " <div class=\"search\">\n",
       " <img alt=\"search\" src=\"/asset/news_v2/image/icon-search.png?v=2.0\"/>\n",
       " </div>\n",
       " </div>\n",
       " <div class=\"content c\">\n",
       " <div class=\"aside\">\n",
       " <div class=\"m-news\">\n",
       " <div class=\"title\">\n",
       " <h1>杭电要闻</h1>\n",
       " <h2 class=\"clear\">\n",
       " <span class=\"fl\">important</span>\n",
       " </h2>\n",
       " </div>\n",
       " <div class=\"time-list\">\n",
       " <div class=\"clear\">\n",
       " <div class=\"mt\">\n",
       " <span class=\"curTime\" show=\"0\"><font>2020</font><div class=\"cate\"></div></span>\n",
       " <div class=\"year scrollBar hide\">\n",
       " <div class=\"ym\">2020</div><div class=\"ym\">2019</div><div class=\"ym\">2018</div><div class=\"ym\">2017</div><div class=\"ym\">2016</div><div class=\"ym\">2015</div><div class=\"ym\">2014</div><div class=\"ym\">2013</div><div class=\"ym\">2012</div><div class=\"ym\">2011</div><div class=\"ym\">2010</div><div class=\"ym\">2009</div><div class=\"ym\">2008</div><div class=\"ym\">2007</div><div class=\"ym\">2006</div><div class=\"ym\">2005</div><div class=\"ym\">2004</div><div class=\"ym\">2003</div> </div>\n",
       " </div>\n",
       " <div class=\"md\">\n",
       " <div check=\"0\" class=\"mm\">1</div><div check=\"0\" class=\"mm\">2</div><div check=\"0\" class=\"mm\">3</div><div check=\"0\" class=\"mm\">4</div><div check=\"0\" class=\"mm\">5</div><div check=\"0\" class=\"mm\">6</div><div check=\"0\" class=\"mm\">7</div><div check=\"0\" class=\"mm\">8</div><div check=\"0\" class=\"mm\">9</div><div check=\"0\" class=\"mm\">10</div><div check=\"0\" class=\"mm\">11</div><div check=\"0\" class=\"mm\">12</div> </div>\n",
       " </div>\n",
       " </div>\n",
       " <ul>\n",
       " <li data-id=\"27576\"><div class=\"move\"></div><div class=\"con\">国家社科基金重大项目“基于大数据的科教评价信息云平台构建和智能服务研究”举行开题评审会</div><div class=\"time\">11-10</div></li><li data-id=\"27573\"><div class=\"move\"></div><div class=\"con\">庆祝电子科技大学援建我校40周年纪念活动举行</div><div class=\"time\">11-08</div></li><li data-id=\"27544\"><div class=\"move\"></div><div class=\"con\">刘逸喆同学荣获省普通本科高校国家奖学金特别评审奖</div><div class=\"time\">11-06</div></li><li data-id=\"27567\"><div class=\"move\"></div><div class=\"con\">校党委召开理论学习中心组扩大会议传达学习贯彻十九届五中全会精神</div><div class=\"time\">11-06</div></li><li data-id=\"27554\"><div class=\"move\"></div><div class=\"con\">我校第四次学生代表大会、第九次研究生代表大会隆重召开</div><div class=\"time\">10-31</div></li><li data-id=\"27553\"><div class=\"move\"></div><div class=\"con\">中国共产党第十九届中央委员会第五次全体会议公报</div><div class=\"time\">10-30</div></li><li data-id=\"27535\"><div class=\"move\"></div><div class=\"con\">浙江省委常委、宣传部部长朱国贤一行来校调研</div><div class=\"time\">10-27</div></li><li data-id=\"27528\"><div class=\"move\"></div><div class=\"con\">我校师生联合开发146个软件，编写200万行代码—— 构建智慧校园赋能人才培养</div><div class=\"time\">10-26</div></li><li data-id=\"27525\"><div class=\"move\"></div><div class=\"con\">校第三十八届田径运动会圆满落幕</div><div class=\"time\">10-25</div></li><li data-id=\"27518\"><div class=\"move\"></div><div class=\"con\">校党委召开理论学习中心组专题学习会</div><div class=\"time\">10-22</div></li><li data-id=\"27511\"><div class=\"move\"></div><div class=\"con\">中国电子信息行业联合会专家委主任来校作学术报告</div><div class=\"time\">10-21</div></li><li data-id=\"27508\"><div class=\"move\"></div><div class=\"con\">浙江省发展改革委领导来校调研指导消费扶贫工作</div><div class=\"time\">10-20</div></li><li data-id=\"27505\"><div class=\"move\"></div><div class=\"con\">校领导应邀参加首届拉美中国创新日活动</div><div class=\"time\">10-19</div></li> </ul>\n",
       " <div class=\"page\">\n",
       " <a class=\"cur\" href=\"/news/important_26525?page=1&amp;year=2020&amp;month=\">1</a><a href=\"/news/important_26525?page=2&amp;year=2020&amp;month=\">2</a><a href=\"/news/important_26525?page=3&amp;year=2020&amp;month=\">3</a><a href=\"/news/important_26525?page=4&amp;year=2020&amp;month=\">4</a><a href=\"/news/important_26525?page=5&amp;year=2020&amp;month=\">5</a><a href=\"/news/important_26525?page=6&amp;year=2020&amp;month=\">6</a><a href=\"/news/important_26525?page=2&amp;year=2020&amp;month=\">下页</a> </div>\n",
       " </div>\n",
       " <div class=\"qr clear\">\n",
       " <div class=\"fl\">\n",
       " <img alt=\"网易\" src=\"/asset/news_v2/image/hdu-weixinqr.jpg?v=2.0\"/>\n",
       " <p>杭州电子科技大学官方微信</p>\n",
       " </div>\n",
       " <div class=\"fr\">\n",
       " <img alt=\"网易\" src=\"/asset/news_v2/image/hdu-weiboqr.jpg?v=2.0\"/>\n",
       " <p>杭州电子科技大学官方微博</p>\n",
       " </div>\n",
       " </div>\n",
       " </div>\n",
       " <div class=\"article\">\n",
       " <div class=\"title\">\n",
       "                         我校专场数字经济领域人才项目路演对接会在义乌举行                    </div>\n",
       " <div style=\"float: right;color: #0056bc;font-size: 16px;\">\n",
       " </div>\n",
       " <div class=\"instr\">\n",
       "                         作者：admin     来源：学校新闻部1     时间：2019-10-13     点击量：14278                    </div>\n",
       " <div class=\"con\">\n",
       " <p>       10月12日下午，由省委人才办、省人力社保厅和杭州电子科技大学联合举办的浙江省专家服务企业高质量发展专项活动暨数字经济领域人才项目路演对接会在义乌举行。省人力资源和社会保障厅副厅长葛平安、杭州电子科技大学副校长吕金海、金华市委组织部副部长、人力资源和社会保障局局长褚惠斌、义乌市委常委、组织部部长何若伟、义乌市副市长贾文红等出席此次会议，我校办公室、人力资源部、宣传部、产学研合作处、机械学院等部门和学院代表及部分数字领域专家和各地企业代表参加会议。</p><p>       葛平安在致辞中提出，要在合作内容和合作形式上不断创新，要以人才带项目，以项目带人才，借高校之力服务企业，借企业之力反哺高校，各地人力社保部门积极地促进项目落地。</p><p>       吕金海表示，杭电与义乌的渊源由来已久，近年来双方在科技合作和人才培养合作方面更是互动频繁。这次杭电组织了60多位专家教授带着最新、最前沿的技术项目齐聚这里，代表着双方的合作进入了更全面、更深入、更实质的新阶段。</p><p>       何若伟指出，实现义乌高科技企业蓬勃发展的关键在科技，根本在人才。希望杭电在数字经济领域中的突出科学优势，能在义乌全球自由贸易中发挥作用。</p><p style=\"text-align: center;\"><img alt=\"图片 2_meitu_2.jpg\" src=\"/uploads/news/images/20191013/1570961661704039.jpg\" title=\"1570961661704039.jpg\"> </img></p><p>       在与义乌市人才项目合作签约仪式上，我校机械学院和义乌研究院分别与义乌市上溪镇共同签订人才培养协议和科技服务协议，我校三位专家则与企业签订了技术合作协议。</p><p style=\"text-align: center;\"><img alt=\"图片 3_meitu_8.jpg\" src=\"/uploads/news/images/20191013/1570962293722178.jpg\" title=\"1570962293722178.jpg\"/></p><p>       在随后的人才项目路演推介会上，我校陈科明、林志赟、吕永桂、简志华、张祥泉、徐小良、任彧、韩伟等专家分别带来了物联网、人工智能、艺术设计、大数据、材料与环境工程等领域的路演项目。</p><p style=\"text-align: center;\"><img alt=\"图片 4_meitu_4.jpg\" src=\"/uploads/news/images/20191013/1570961707151413.jpg\" title=\"1570961707151413.jpg\"/></p><p><br/></p><p style=\"text-align: center;\"><img alt=\"图片 5_meitu_5.jpg\" src=\"/uploads/news/images/20191013/1570961719882252.jpg\" title=\"1570961719882252.jpg\"/></p><p>       据了解，为了让这场对接会更具成效，我校精心遴选了“数字经济”领域科技项目1023个，其中科技成果技术项目70个，可转让发明专利项目953个，涵盖装备制造、人工智能、物理通信、电力配电、大数据、无人机、芯片等关键技术。活动现场，我校带来了8个路演项目和143个现场洽谈项目，与全省153家企业进行了洽谈对接。此次对接会是“浙江省专家服务企业高质量发展专项活动”的系列活动，旨在践行省委“三服务”活动要求，精准服务企业高质量发展，为我校科研成果商业落地提供了有效平台，也是我校践行“不忘初心 牢记使命”主题教育的活动之一。（校新闻中心）</p><p style=\"text-align: center;\"><img alt=\"图片 6_meitu_6.jpg\" src=\"/uploads/news/images/20191013/1570961733951547.jpg\" title=\"1570961733951547.jpg\"/></p> </div>\n",
       " </div>\n",
       " </div>\n",
       " <div class=\"cooper c\">\n",
       " <ul>\n",
       " <li alt=\"网易\" data-default=\"/asset/news_v2/image/bottom01.jpg?v=2.0\" data-href=\"http://dy.163.com/v2/media/search?word=%BA%BC%D6%DD%B5%E7%D7%D3%BF%C6%BC%BC%B4%F3%D1%A7&amp;cid=\" data-image=\"/asset/news_v2/image/bottom01-r.jpg?v=2.0\">\n",
       " <img src=\"/asset/news_v2/image/bottom01.jpg?v=2.0\"/>\n",
       " </li>\n",
       " <li alt=\"头条\" data-default=\"/asset/news_v2/image/bottom02.jpg?v=2.0\" data-href=\"https://www.toutiao.com/c/user/6596331691/#mid=6596331691\" data-image=\"/asset/news_v2/image/bottom02-r.jpg?v=2.0\">\n",
       " <img src=\"/asset/news_v2/image/bottom02.jpg?v=2.0\"/>\n",
       " </li>\n",
       " <li alt=\"微博\" data-default=\"/asset/news_v2/image/bottom03.jpg?v=2.0\" data-href=\"https://weibo.com/hzhdu?refer_flag=1001030103_\" data-image=\"/asset/news_v2/image/bottom03-r.jpg?v=2.0\">\n",
       " <img src=\"/asset/news_v2/image/bottom03.jpg?v=2.0\"/>\n",
       " </li>\n",
       " <li alt=\"红色家园\" data-default=\"/asset/news_v2/image/bottom05.jpg?v=2.0\" data-href=\"http://cas.hdu.edu.cn/cas/login?service=http%3A%2F%2F106.14.9.60%3A3000%2Fcommon%2FgetTicket\" data-image=\"/asset/news_v2/image/bottom05-r.jpg?v=2.0\">\n",
       " <img src=\"/asset/news_v2/image/bottom05.jpg?v=2.0\"/>\n",
       " </li>\n",
       " </ul>\n",
       " </div>\n",
       " </div>, <div class=\"header c\">\n",
       " <div class=\"logo fl\">\n",
       " <a href=\"/news\"><img alt=\"logo\" src=\"/asset/news_v2/image/logo.png?v=2.0\"/></a>\n",
       " </div>\n",
       " <div class=\"news fl\"></div>\n",
       " <div class=\"fr\">\n",
       " <p>2020年11月</p>\n",
       " <h1>12</h1>\n",
       " <p>星期四</p>\n",
       " <p id=\"lunar\"></p>\n",
       " <script src=\"/asset/news_v2/js/calendar.js?v=2.0\"></script>\n",
       " <script>\n",
       "                         var calendar = showCal(); \n",
       "                         $(\"#lunar\").html(calendar);\n",
       "                     </script>\n",
       " </div>\n",
       " </div>, <div class=\"logo fl\">\n",
       " <a href=\"/news\"><img alt=\"logo\" src=\"/asset/news_v2/image/logo.png?v=2.0\"/></a>\n",
       " </div>, <div class=\"news fl\"></div>, <div class=\"fr\">\n",
       " <p>2020年11月</p>\n",
       " <h1>12</h1>\n",
       " <p>星期四</p>\n",
       " <p id=\"lunar\"></p>\n",
       " <script src=\"/asset/news_v2/js/calendar.js?v=2.0\"></script>\n",
       " <script>\n",
       "                         var calendar = showCal(); \n",
       "                         $(\"#lunar\").html(calendar);\n",
       "                     </script>\n",
       " </div>, <div class=\"f-nav c\" style=\"height: 60px;\">\n",
       " <ul>\n",
       " <li data=\"index\"><a href=\"/news\">网站首页</a></li>\n",
       " <li data=\"branch\"><a href=\"/news/branch\">部门简介</a></li>\n",
       " <li data=\"important\"><a href=\"/news/important\">杭电新闻</a></li>\n",
       " <li data=\"theory\"><a href=\"/news/theory\">理论学习</a></li>\n",
       " <li data=\"superiorfile\"><a href=\"/news/superiorfile\">规章制度</a></li>\n",
       " <li data=\"work\"><a href=\"/news/work\">网上办事</a></li>\n",
       " <li data=\"departmentnotice\"><a href=\"/news/departmentnotice\">部门通知</a></li>\n",
       " <li><a href=\"/admin\" target=\"_blank\">在线投稿</a></li>\n",
       " </ul>\n",
       " <script>\n",
       "                     var topClass=\"important\";\n",
       "                     for(var t=0;t<$('.f-nav ul li').length;t++){\n",
       "                         if($('.f-nav ul li:eq('+t+')').attr('data')===topClass){\n",
       "                             $('.f-nav ul li:eq('+t+')').addClass('cur');\n",
       "                         }\n",
       "                     }\n",
       "                 </script>\n",
       " <input id=\"find\" maxlength=\"100\" placeholder=\"请输入您想要的内容\"/>\n",
       " <div class=\"error\">\n",
       " <img alt=\"error\" src=\"/asset/news_v2/image/icon-error.png?v=2.0\"/>\n",
       " </div>\n",
       " <div class=\"search\">\n",
       " <img alt=\"search\" src=\"/asset/news_v2/image/icon-search.png?v=2.0\"/>\n",
       " </div>\n",
       " </div>, <div class=\"error\">\n",
       " <img alt=\"error\" src=\"/asset/news_v2/image/icon-error.png?v=2.0\"/>\n",
       " </div>, <div class=\"search\">\n",
       " <img alt=\"search\" src=\"/asset/news_v2/image/icon-search.png?v=2.0\"/>\n",
       " </div>, <div class=\"content c\">\n",
       " <div class=\"aside\">\n",
       " <div class=\"m-news\">\n",
       " <div class=\"title\">\n",
       " <h1>杭电要闻</h1>\n",
       " <h2 class=\"clear\">\n",
       " <span class=\"fl\">important</span>\n",
       " </h2>\n",
       " </div>\n",
       " <div class=\"time-list\">\n",
       " <div class=\"clear\">\n",
       " <div class=\"mt\">\n",
       " <span class=\"curTime\" show=\"0\"><font>2020</font><div class=\"cate\"></div></span>\n",
       " <div class=\"year scrollBar hide\">\n",
       " <div class=\"ym\">2020</div><div class=\"ym\">2019</div><div class=\"ym\">2018</div><div class=\"ym\">2017</div><div class=\"ym\">2016</div><div class=\"ym\">2015</div><div class=\"ym\">2014</div><div class=\"ym\">2013</div><div class=\"ym\">2012</div><div class=\"ym\">2011</div><div class=\"ym\">2010</div><div class=\"ym\">2009</div><div class=\"ym\">2008</div><div class=\"ym\">2007</div><div class=\"ym\">2006</div><div class=\"ym\">2005</div><div class=\"ym\">2004</div><div class=\"ym\">2003</div> </div>\n",
       " </div>\n",
       " <div class=\"md\">\n",
       " <div check=\"0\" class=\"mm\">1</div><div check=\"0\" class=\"mm\">2</div><div check=\"0\" class=\"mm\">3</div><div check=\"0\" class=\"mm\">4</div><div check=\"0\" class=\"mm\">5</div><div check=\"0\" class=\"mm\">6</div><div check=\"0\" class=\"mm\">7</div><div check=\"0\" class=\"mm\">8</div><div check=\"0\" class=\"mm\">9</div><div check=\"0\" class=\"mm\">10</div><div check=\"0\" class=\"mm\">11</div><div check=\"0\" class=\"mm\">12</div> </div>\n",
       " </div>\n",
       " </div>\n",
       " <ul>\n",
       " <li data-id=\"27576\"><div class=\"move\"></div><div class=\"con\">国家社科基金重大项目“基于大数据的科教评价信息云平台构建和智能服务研究”举行开题评审会</div><div class=\"time\">11-10</div></li><li data-id=\"27573\"><div class=\"move\"></div><div class=\"con\">庆祝电子科技大学援建我校40周年纪念活动举行</div><div class=\"time\">11-08</div></li><li data-id=\"27544\"><div class=\"move\"></div><div class=\"con\">刘逸喆同学荣获省普通本科高校国家奖学金特别评审奖</div><div class=\"time\">11-06</div></li><li data-id=\"27567\"><div class=\"move\"></div><div class=\"con\">校党委召开理论学习中心组扩大会议传达学习贯彻十九届五中全会精神</div><div class=\"time\">11-06</div></li><li data-id=\"27554\"><div class=\"move\"></div><div class=\"con\">我校第四次学生代表大会、第九次研究生代表大会隆重召开</div><div class=\"time\">10-31</div></li><li data-id=\"27553\"><div class=\"move\"></div><div class=\"con\">中国共产党第十九届中央委员会第五次全体会议公报</div><div class=\"time\">10-30</div></li><li data-id=\"27535\"><div class=\"move\"></div><div class=\"con\">浙江省委常委、宣传部部长朱国贤一行来校调研</div><div class=\"time\">10-27</div></li><li data-id=\"27528\"><div class=\"move\"></div><div class=\"con\">我校师生联合开发146个软件，编写200万行代码—— 构建智慧校园赋能人才培养</div><div class=\"time\">10-26</div></li><li data-id=\"27525\"><div class=\"move\"></div><div class=\"con\">校第三十八届田径运动会圆满落幕</div><div class=\"time\">10-25</div></li><li data-id=\"27518\"><div class=\"move\"></div><div class=\"con\">校党委召开理论学习中心组专题学习会</div><div class=\"time\">10-22</div></li><li data-id=\"27511\"><div class=\"move\"></div><div class=\"con\">中国电子信息行业联合会专家委主任来校作学术报告</div><div class=\"time\">10-21</div></li><li data-id=\"27508\"><div class=\"move\"></div><div class=\"con\">浙江省发展改革委领导来校调研指导消费扶贫工作</div><div class=\"time\">10-20</div></li><li data-id=\"27505\"><div class=\"move\"></div><div class=\"con\">校领导应邀参加首届拉美中国创新日活动</div><div class=\"time\">10-19</div></li> </ul>\n",
       " <div class=\"page\">\n",
       " <a class=\"cur\" href=\"/news/important_26525?page=1&amp;year=2020&amp;month=\">1</a><a href=\"/news/important_26525?page=2&amp;year=2020&amp;month=\">2</a><a href=\"/news/important_26525?page=3&amp;year=2020&amp;month=\">3</a><a href=\"/news/important_26525?page=4&amp;year=2020&amp;month=\">4</a><a href=\"/news/important_26525?page=5&amp;year=2020&amp;month=\">5</a><a href=\"/news/important_26525?page=6&amp;year=2020&amp;month=\">6</a><a href=\"/news/important_26525?page=2&amp;year=2020&amp;month=\">下页</a> </div>\n",
       " </div>\n",
       " <div class=\"qr clear\">\n",
       " <div class=\"fl\">\n",
       " <img alt=\"网易\" src=\"/asset/news_v2/image/hdu-weixinqr.jpg?v=2.0\"/>\n",
       " <p>杭州电子科技大学官方微信</p>\n",
       " </div>\n",
       " <div class=\"fr\">\n",
       " <img alt=\"网易\" src=\"/asset/news_v2/image/hdu-weiboqr.jpg?v=2.0\"/>\n",
       " <p>杭州电子科技大学官方微博</p>\n",
       " </div>\n",
       " </div>\n",
       " </div>\n",
       " <div class=\"article\">\n",
       " <div class=\"title\">\n",
       "                         我校专场数字经济领域人才项目路演对接会在义乌举行                    </div>\n",
       " <div style=\"float: right;color: #0056bc;font-size: 16px;\">\n",
       " </div>\n",
       " <div class=\"instr\">\n",
       "                         作者：admin     来源：学校新闻部1     时间：2019-10-13     点击量：14278                    </div>\n",
       " <div class=\"con\">\n",
       " <p>       10月12日下午，由省委人才办、省人力社保厅和杭州电子科技大学联合举办的浙江省专家服务企业高质量发展专项活动暨数字经济领域人才项目路演对接会在义乌举行。省人力资源和社会保障厅副厅长葛平安、杭州电子科技大学副校长吕金海、金华市委组织部副部长、人力资源和社会保障局局长褚惠斌、义乌市委常委、组织部部长何若伟、义乌市副市长贾文红等出席此次会议，我校办公室、人力资源部、宣传部、产学研合作处、机械学院等部门和学院代表及部分数字领域专家和各地企业代表参加会议。</p><p>       葛平安在致辞中提出，要在合作内容和合作形式上不断创新，要以人才带项目，以项目带人才，借高校之力服务企业，借企业之力反哺高校，各地人力社保部门积极地促进项目落地。</p><p>       吕金海表示，杭电与义乌的渊源由来已久，近年来双方在科技合作和人才培养合作方面更是互动频繁。这次杭电组织了60多位专家教授带着最新、最前沿的技术项目齐聚这里，代表着双方的合作进入了更全面、更深入、更实质的新阶段。</p><p>       何若伟指出，实现义乌高科技企业蓬勃发展的关键在科技，根本在人才。希望杭电在数字经济领域中的突出科学优势，能在义乌全球自由贸易中发挥作用。</p><p style=\"text-align: center;\"><img alt=\"图片 2_meitu_2.jpg\" src=\"/uploads/news/images/20191013/1570961661704039.jpg\" title=\"1570961661704039.jpg\"> </img></p><p>       在与义乌市人才项目合作签约仪式上，我校机械学院和义乌研究院分别与义乌市上溪镇共同签订人才培养协议和科技服务协议，我校三位专家则与企业签订了技术合作协议。</p><p style=\"text-align: center;\"><img alt=\"图片 3_meitu_8.jpg\" src=\"/uploads/news/images/20191013/1570962293722178.jpg\" title=\"1570962293722178.jpg\"/></p><p>       在随后的人才项目路演推介会上，我校陈科明、林志赟、吕永桂、简志华、张祥泉、徐小良、任彧、韩伟等专家分别带来了物联网、人工智能、艺术设计、大数据、材料与环境工程等领域的路演项目。</p><p style=\"text-align: center;\"><img alt=\"图片 4_meitu_4.jpg\" src=\"/uploads/news/images/20191013/1570961707151413.jpg\" title=\"1570961707151413.jpg\"/></p><p><br/></p><p style=\"text-align: center;\"><img alt=\"图片 5_meitu_5.jpg\" src=\"/uploads/news/images/20191013/1570961719882252.jpg\" title=\"1570961719882252.jpg\"/></p><p>       据了解，为了让这场对接会更具成效，我校精心遴选了“数字经济”领域科技项目1023个，其中科技成果技术项目70个，可转让发明专利项目953个，涵盖装备制造、人工智能、物理通信、电力配电、大数据、无人机、芯片等关键技术。活动现场，我校带来了8个路演项目和143个现场洽谈项目，与全省153家企业进行了洽谈对接。此次对接会是“浙江省专家服务企业高质量发展专项活动”的系列活动，旨在践行省委“三服务”活动要求，精准服务企业高质量发展，为我校科研成果商业落地提供了有效平台，也是我校践行“不忘初心 牢记使命”主题教育的活动之一。（校新闻中心）</p><p style=\"text-align: center;\"><img alt=\"图片 6_meitu_6.jpg\" src=\"/uploads/news/images/20191013/1570961733951547.jpg\" title=\"1570961733951547.jpg\"/></p> </div>\n",
       " </div>\n",
       " </div>, <div class=\"aside\">\n",
       " <div class=\"m-news\">\n",
       " <div class=\"title\">\n",
       " <h1>杭电要闻</h1>\n",
       " <h2 class=\"clear\">\n",
       " <span class=\"fl\">important</span>\n",
       " </h2>\n",
       " </div>\n",
       " <div class=\"time-list\">\n",
       " <div class=\"clear\">\n",
       " <div class=\"mt\">\n",
       " <span class=\"curTime\" show=\"0\"><font>2020</font><div class=\"cate\"></div></span>\n",
       " <div class=\"year scrollBar hide\">\n",
       " <div class=\"ym\">2020</div><div class=\"ym\">2019</div><div class=\"ym\">2018</div><div class=\"ym\">2017</div><div class=\"ym\">2016</div><div class=\"ym\">2015</div><div class=\"ym\">2014</div><div class=\"ym\">2013</div><div class=\"ym\">2012</div><div class=\"ym\">2011</div><div class=\"ym\">2010</div><div class=\"ym\">2009</div><div class=\"ym\">2008</div><div class=\"ym\">2007</div><div class=\"ym\">2006</div><div class=\"ym\">2005</div><div class=\"ym\">2004</div><div class=\"ym\">2003</div> </div>\n",
       " </div>\n",
       " <div class=\"md\">\n",
       " <div check=\"0\" class=\"mm\">1</div><div check=\"0\" class=\"mm\">2</div><div check=\"0\" class=\"mm\">3</div><div check=\"0\" class=\"mm\">4</div><div check=\"0\" class=\"mm\">5</div><div check=\"0\" class=\"mm\">6</div><div check=\"0\" class=\"mm\">7</div><div check=\"0\" class=\"mm\">8</div><div check=\"0\" class=\"mm\">9</div><div check=\"0\" class=\"mm\">10</div><div check=\"0\" class=\"mm\">11</div><div check=\"0\" class=\"mm\">12</div> </div>\n",
       " </div>\n",
       " </div>\n",
       " <ul>\n",
       " <li data-id=\"27576\"><div class=\"move\"></div><div class=\"con\">国家社科基金重大项目“基于大数据的科教评价信息云平台构建和智能服务研究”举行开题评审会</div><div class=\"time\">11-10</div></li><li data-id=\"27573\"><div class=\"move\"></div><div class=\"con\">庆祝电子科技大学援建我校40周年纪念活动举行</div><div class=\"time\">11-08</div></li><li data-id=\"27544\"><div class=\"move\"></div><div class=\"con\">刘逸喆同学荣获省普通本科高校国家奖学金特别评审奖</div><div class=\"time\">11-06</div></li><li data-id=\"27567\"><div class=\"move\"></div><div class=\"con\">校党委召开理论学习中心组扩大会议传达学习贯彻十九届五中全会精神</div><div class=\"time\">11-06</div></li><li data-id=\"27554\"><div class=\"move\"></div><div class=\"con\">我校第四次学生代表大会、第九次研究生代表大会隆重召开</div><div class=\"time\">10-31</div></li><li data-id=\"27553\"><div class=\"move\"></div><div class=\"con\">中国共产党第十九届中央委员会第五次全体会议公报</div><div class=\"time\">10-30</div></li><li data-id=\"27535\"><div class=\"move\"></div><div class=\"con\">浙江省委常委、宣传部部长朱国贤一行来校调研</div><div class=\"time\">10-27</div></li><li data-id=\"27528\"><div class=\"move\"></div><div class=\"con\">我校师生联合开发146个软件，编写200万行代码—— 构建智慧校园赋能人才培养</div><div class=\"time\">10-26</div></li><li data-id=\"27525\"><div class=\"move\"></div><div class=\"con\">校第三十八届田径运动会圆满落幕</div><div class=\"time\">10-25</div></li><li data-id=\"27518\"><div class=\"move\"></div><div class=\"con\">校党委召开理论学习中心组专题学习会</div><div class=\"time\">10-22</div></li><li data-id=\"27511\"><div class=\"move\"></div><div class=\"con\">中国电子信息行业联合会专家委主任来校作学术报告</div><div class=\"time\">10-21</div></li><li data-id=\"27508\"><div class=\"move\"></div><div class=\"con\">浙江省发展改革委领导来校调研指导消费扶贫工作</div><div class=\"time\">10-20</div></li><li data-id=\"27505\"><div class=\"move\"></div><div class=\"con\">校领导应邀参加首届拉美中国创新日活动</div><div class=\"time\">10-19</div></li> </ul>\n",
       " <div class=\"page\">\n",
       " <a class=\"cur\" href=\"/news/important_26525?page=1&amp;year=2020&amp;month=\">1</a><a href=\"/news/important_26525?page=2&amp;year=2020&amp;month=\">2</a><a href=\"/news/important_26525?page=3&amp;year=2020&amp;month=\">3</a><a href=\"/news/important_26525?page=4&amp;year=2020&amp;month=\">4</a><a href=\"/news/important_26525?page=5&amp;year=2020&amp;month=\">5</a><a href=\"/news/important_26525?page=6&amp;year=2020&amp;month=\">6</a><a href=\"/news/important_26525?page=2&amp;year=2020&amp;month=\">下页</a> </div>\n",
       " </div>\n",
       " <div class=\"qr clear\">\n",
       " <div class=\"fl\">\n",
       " <img alt=\"网易\" src=\"/asset/news_v2/image/hdu-weixinqr.jpg?v=2.0\"/>\n",
       " <p>杭州电子科技大学官方微信</p>\n",
       " </div>\n",
       " <div class=\"fr\">\n",
       " <img alt=\"网易\" src=\"/asset/news_v2/image/hdu-weiboqr.jpg?v=2.0\"/>\n",
       " <p>杭州电子科技大学官方微博</p>\n",
       " </div>\n",
       " </div>\n",
       " </div>, <div class=\"m-news\">\n",
       " <div class=\"title\">\n",
       " <h1>杭电要闻</h1>\n",
       " <h2 class=\"clear\">\n",
       " <span class=\"fl\">important</span>\n",
       " </h2>\n",
       " </div>\n",
       " <div class=\"time-list\">\n",
       " <div class=\"clear\">\n",
       " <div class=\"mt\">\n",
       " <span class=\"curTime\" show=\"0\"><font>2020</font><div class=\"cate\"></div></span>\n",
       " <div class=\"year scrollBar hide\">\n",
       " <div class=\"ym\">2020</div><div class=\"ym\">2019</div><div class=\"ym\">2018</div><div class=\"ym\">2017</div><div class=\"ym\">2016</div><div class=\"ym\">2015</div><div class=\"ym\">2014</div><div class=\"ym\">2013</div><div class=\"ym\">2012</div><div class=\"ym\">2011</div><div class=\"ym\">2010</div><div class=\"ym\">2009</div><div class=\"ym\">2008</div><div class=\"ym\">2007</div><div class=\"ym\">2006</div><div class=\"ym\">2005</div><div class=\"ym\">2004</div><div class=\"ym\">2003</div> </div>\n",
       " </div>\n",
       " <div class=\"md\">\n",
       " <div check=\"0\" class=\"mm\">1</div><div check=\"0\" class=\"mm\">2</div><div check=\"0\" class=\"mm\">3</div><div check=\"0\" class=\"mm\">4</div><div check=\"0\" class=\"mm\">5</div><div check=\"0\" class=\"mm\">6</div><div check=\"0\" class=\"mm\">7</div><div check=\"0\" class=\"mm\">8</div><div check=\"0\" class=\"mm\">9</div><div check=\"0\" class=\"mm\">10</div><div check=\"0\" class=\"mm\">11</div><div check=\"0\" class=\"mm\">12</div> </div>\n",
       " </div>\n",
       " </div>\n",
       " <ul>\n",
       " <li data-id=\"27576\"><div class=\"move\"></div><div class=\"con\">国家社科基金重大项目“基于大数据的科教评价信息云平台构建和智能服务研究”举行开题评审会</div><div class=\"time\">11-10</div></li><li data-id=\"27573\"><div class=\"move\"></div><div class=\"con\">庆祝电子科技大学援建我校40周年纪念活动举行</div><div class=\"time\">11-08</div></li><li data-id=\"27544\"><div class=\"move\"></div><div class=\"con\">刘逸喆同学荣获省普通本科高校国家奖学金特别评审奖</div><div class=\"time\">11-06</div></li><li data-id=\"27567\"><div class=\"move\"></div><div class=\"con\">校党委召开理论学习中心组扩大会议传达学习贯彻十九届五中全会精神</div><div class=\"time\">11-06</div></li><li data-id=\"27554\"><div class=\"move\"></div><div class=\"con\">我校第四次学生代表大会、第九次研究生代表大会隆重召开</div><div class=\"time\">10-31</div></li><li data-id=\"27553\"><div class=\"move\"></div><div class=\"con\">中国共产党第十九届中央委员会第五次全体会议公报</div><div class=\"time\">10-30</div></li><li data-id=\"27535\"><div class=\"move\"></div><div class=\"con\">浙江省委常委、宣传部部长朱国贤一行来校调研</div><div class=\"time\">10-27</div></li><li data-id=\"27528\"><div class=\"move\"></div><div class=\"con\">我校师生联合开发146个软件，编写200万行代码—— 构建智慧校园赋能人才培养</div><div class=\"time\">10-26</div></li><li data-id=\"27525\"><div class=\"move\"></div><div class=\"con\">校第三十八届田径运动会圆满落幕</div><div class=\"time\">10-25</div></li><li data-id=\"27518\"><div class=\"move\"></div><div class=\"con\">校党委召开理论学习中心组专题学习会</div><div class=\"time\">10-22</div></li><li data-id=\"27511\"><div class=\"move\"></div><div class=\"con\">中国电子信息行业联合会专家委主任来校作学术报告</div><div class=\"time\">10-21</div></li><li data-id=\"27508\"><div class=\"move\"></div><div class=\"con\">浙江省发展改革委领导来校调研指导消费扶贫工作</div><div class=\"time\">10-20</div></li><li data-id=\"27505\"><div class=\"move\"></div><div class=\"con\">校领导应邀参加首届拉美中国创新日活动</div><div class=\"time\">10-19</div></li> </ul>\n",
       " <div class=\"page\">\n",
       " <a class=\"cur\" href=\"/news/important_26525?page=1&amp;year=2020&amp;month=\">1</a><a href=\"/news/important_26525?page=2&amp;year=2020&amp;month=\">2</a><a href=\"/news/important_26525?page=3&amp;year=2020&amp;month=\">3</a><a href=\"/news/important_26525?page=4&amp;year=2020&amp;month=\">4</a><a href=\"/news/important_26525?page=5&amp;year=2020&amp;month=\">5</a><a href=\"/news/important_26525?page=6&amp;year=2020&amp;month=\">6</a><a href=\"/news/important_26525?page=2&amp;year=2020&amp;month=\">下页</a> </div>\n",
       " </div>, <div class=\"title\">\n",
       " <h1>杭电要闻</h1>\n",
       " <h2 class=\"clear\">\n",
       " <span class=\"fl\">important</span>\n",
       " </h2>\n",
       " </div>, <div class=\"time-list\">\n",
       " <div class=\"clear\">\n",
       " <div class=\"mt\">\n",
       " <span class=\"curTime\" show=\"0\"><font>2020</font><div class=\"cate\"></div></span>\n",
       " <div class=\"year scrollBar hide\">\n",
       " <div class=\"ym\">2020</div><div class=\"ym\">2019</div><div class=\"ym\">2018</div><div class=\"ym\">2017</div><div class=\"ym\">2016</div><div class=\"ym\">2015</div><div class=\"ym\">2014</div><div class=\"ym\">2013</div><div class=\"ym\">2012</div><div class=\"ym\">2011</div><div class=\"ym\">2010</div><div class=\"ym\">2009</div><div class=\"ym\">2008</div><div class=\"ym\">2007</div><div class=\"ym\">2006</div><div class=\"ym\">2005</div><div class=\"ym\">2004</div><div class=\"ym\">2003</div> </div>\n",
       " </div>\n",
       " <div class=\"md\">\n",
       " <div check=\"0\" class=\"mm\">1</div><div check=\"0\" class=\"mm\">2</div><div check=\"0\" class=\"mm\">3</div><div check=\"0\" class=\"mm\">4</div><div check=\"0\" class=\"mm\">5</div><div check=\"0\" class=\"mm\">6</div><div check=\"0\" class=\"mm\">7</div><div check=\"0\" class=\"mm\">8</div><div check=\"0\" class=\"mm\">9</div><div check=\"0\" class=\"mm\">10</div><div check=\"0\" class=\"mm\">11</div><div check=\"0\" class=\"mm\">12</div> </div>\n",
       " </div>\n",
       " </div>, <div class=\"clear\">\n",
       " <div class=\"mt\">\n",
       " <span class=\"curTime\" show=\"0\"><font>2020</font><div class=\"cate\"></div></span>\n",
       " <div class=\"year scrollBar hide\">\n",
       " <div class=\"ym\">2020</div><div class=\"ym\">2019</div><div class=\"ym\">2018</div><div class=\"ym\">2017</div><div class=\"ym\">2016</div><div class=\"ym\">2015</div><div class=\"ym\">2014</div><div class=\"ym\">2013</div><div class=\"ym\">2012</div><div class=\"ym\">2011</div><div class=\"ym\">2010</div><div class=\"ym\">2009</div><div class=\"ym\">2008</div><div class=\"ym\">2007</div><div class=\"ym\">2006</div><div class=\"ym\">2005</div><div class=\"ym\">2004</div><div class=\"ym\">2003</div> </div>\n",
       " </div>\n",
       " <div class=\"md\">\n",
       " <div check=\"0\" class=\"mm\">1</div><div check=\"0\" class=\"mm\">2</div><div check=\"0\" class=\"mm\">3</div><div check=\"0\" class=\"mm\">4</div><div check=\"0\" class=\"mm\">5</div><div check=\"0\" class=\"mm\">6</div><div check=\"0\" class=\"mm\">7</div><div check=\"0\" class=\"mm\">8</div><div check=\"0\" class=\"mm\">9</div><div check=\"0\" class=\"mm\">10</div><div check=\"0\" class=\"mm\">11</div><div check=\"0\" class=\"mm\">12</div> </div>\n",
       " </div>, <div class=\"mt\">\n",
       " <span class=\"curTime\" show=\"0\"><font>2020</font><div class=\"cate\"></div></span>\n",
       " <div class=\"year scrollBar hide\">\n",
       " <div class=\"ym\">2020</div><div class=\"ym\">2019</div><div class=\"ym\">2018</div><div class=\"ym\">2017</div><div class=\"ym\">2016</div><div class=\"ym\">2015</div><div class=\"ym\">2014</div><div class=\"ym\">2013</div><div class=\"ym\">2012</div><div class=\"ym\">2011</div><div class=\"ym\">2010</div><div class=\"ym\">2009</div><div class=\"ym\">2008</div><div class=\"ym\">2007</div><div class=\"ym\">2006</div><div class=\"ym\">2005</div><div class=\"ym\">2004</div><div class=\"ym\">2003</div> </div>\n",
       " </div>, <div class=\"cate\"></div>, <div class=\"year scrollBar hide\">\n",
       " <div class=\"ym\">2020</div><div class=\"ym\">2019</div><div class=\"ym\">2018</div><div class=\"ym\">2017</div><div class=\"ym\">2016</div><div class=\"ym\">2015</div><div class=\"ym\">2014</div><div class=\"ym\">2013</div><div class=\"ym\">2012</div><div class=\"ym\">2011</div><div class=\"ym\">2010</div><div class=\"ym\">2009</div><div class=\"ym\">2008</div><div class=\"ym\">2007</div><div class=\"ym\">2006</div><div class=\"ym\">2005</div><div class=\"ym\">2004</div><div class=\"ym\">2003</div> </div>, <div class=\"ym\">2020</div>, <div class=\"ym\">2019</div>, <div class=\"ym\">2018</div>, <div class=\"ym\">2017</div>, <div class=\"ym\">2016</div>, <div class=\"ym\">2015</div>, <div class=\"ym\">2014</div>, <div class=\"ym\">2013</div>, <div class=\"ym\">2012</div>, <div class=\"ym\">2011</div>, <div class=\"ym\">2010</div>, <div class=\"ym\">2009</div>, <div class=\"ym\">2008</div>, <div class=\"ym\">2007</div>, <div class=\"ym\">2006</div>, <div class=\"ym\">2005</div>, <div class=\"ym\">2004</div>, <div class=\"ym\">2003</div>, <div class=\"md\">\n",
       " <div check=\"0\" class=\"mm\">1</div><div check=\"0\" class=\"mm\">2</div><div check=\"0\" class=\"mm\">3</div><div check=\"0\" class=\"mm\">4</div><div check=\"0\" class=\"mm\">5</div><div check=\"0\" class=\"mm\">6</div><div check=\"0\" class=\"mm\">7</div><div check=\"0\" class=\"mm\">8</div><div check=\"0\" class=\"mm\">9</div><div check=\"0\" class=\"mm\">10</div><div check=\"0\" class=\"mm\">11</div><div check=\"0\" class=\"mm\">12</div> </div>, <div check=\"0\" class=\"mm\">1</div>, <div check=\"0\" class=\"mm\">2</div>, <div check=\"0\" class=\"mm\">3</div>, <div check=\"0\" class=\"mm\">4</div>, <div check=\"0\" class=\"mm\">5</div>, <div check=\"0\" class=\"mm\">6</div>, <div check=\"0\" class=\"mm\">7</div>, <div check=\"0\" class=\"mm\">8</div>, <div check=\"0\" class=\"mm\">9</div>, <div check=\"0\" class=\"mm\">10</div>, <div check=\"0\" class=\"mm\">11</div>, <div check=\"0\" class=\"mm\">12</div>, <div class=\"move\"></div>, <div class=\"con\">国家社科基金重大项目“基于大数据的科教评价信息云平台构建和智能服务研究”举行开题评审会</div>, <div class=\"time\">11-10</div>, <div class=\"move\"></div>, <div class=\"con\">庆祝电子科技大学援建我校40周年纪念活动举行</div>, <div class=\"time\">11-08</div>, <div class=\"move\"></div>, <div class=\"con\">刘逸喆同学荣获省普通本科高校国家奖学金特别评审奖</div>, <div class=\"time\">11-06</div>, <div class=\"move\"></div>, <div class=\"con\">校党委召开理论学习中心组扩大会议传达学习贯彻十九届五中全会精神</div>, <div class=\"time\">11-06</div>, <div class=\"move\"></div>, <div class=\"con\">我校第四次学生代表大会、第九次研究生代表大会隆重召开</div>, <div class=\"time\">10-31</div>, <div class=\"move\"></div>, <div class=\"con\">中国共产党第十九届中央委员会第五次全体会议公报</div>, <div class=\"time\">10-30</div>, <div class=\"move\"></div>, <div class=\"con\">浙江省委常委、宣传部部长朱国贤一行来校调研</div>, <div class=\"time\">10-27</div>, <div class=\"move\"></div>, <div class=\"con\">我校师生联合开发146个软件，编写200万行代码—— 构建智慧校园赋能人才培养</div>, <div class=\"time\">10-26</div>, <div class=\"move\"></div>, <div class=\"con\">校第三十八届田径运动会圆满落幕</div>, <div class=\"time\">10-25</div>, <div class=\"move\"></div>, <div class=\"con\">校党委召开理论学习中心组专题学习会</div>, <div class=\"time\">10-22</div>, <div class=\"move\"></div>, <div class=\"con\">中国电子信息行业联合会专家委主任来校作学术报告</div>, <div class=\"time\">10-21</div>, <div class=\"move\"></div>, <div class=\"con\">浙江省发展改革委领导来校调研指导消费扶贫工作</div>, <div class=\"time\">10-20</div>, <div class=\"move\"></div>, <div class=\"con\">校领导应邀参加首届拉美中国创新日活动</div>, <div class=\"time\">10-19</div>, <div class=\"page\">\n",
       " <a class=\"cur\" href=\"/news/important_26525?page=1&amp;year=2020&amp;month=\">1</a><a href=\"/news/important_26525?page=2&amp;year=2020&amp;month=\">2</a><a href=\"/news/important_26525?page=3&amp;year=2020&amp;month=\">3</a><a href=\"/news/important_26525?page=4&amp;year=2020&amp;month=\">4</a><a href=\"/news/important_26525?page=5&amp;year=2020&amp;month=\">5</a><a href=\"/news/important_26525?page=6&amp;year=2020&amp;month=\">6</a><a href=\"/news/important_26525?page=2&amp;year=2020&amp;month=\">下页</a> </div>, <div class=\"qr clear\">\n",
       " <div class=\"fl\">\n",
       " <img alt=\"网易\" src=\"/asset/news_v2/image/hdu-weixinqr.jpg?v=2.0\"/>\n",
       " <p>杭州电子科技大学官方微信</p>\n",
       " </div>\n",
       " <div class=\"fr\">\n",
       " <img alt=\"网易\" src=\"/asset/news_v2/image/hdu-weiboqr.jpg?v=2.0\"/>\n",
       " <p>杭州电子科技大学官方微博</p>\n",
       " </div>\n",
       " </div>, <div class=\"fl\">\n",
       " <img alt=\"网易\" src=\"/asset/news_v2/image/hdu-weixinqr.jpg?v=2.0\"/>\n",
       " <p>杭州电子科技大学官方微信</p>\n",
       " </div>, <div class=\"fr\">\n",
       " <img alt=\"网易\" src=\"/asset/news_v2/image/hdu-weiboqr.jpg?v=2.0\"/>\n",
       " <p>杭州电子科技大学官方微博</p>\n",
       " </div>, <div class=\"article\">\n",
       " <div class=\"title\">\n",
       "                         我校专场数字经济领域人才项目路演对接会在义乌举行                    </div>\n",
       " <div style=\"float: right;color: #0056bc;font-size: 16px;\">\n",
       " </div>\n",
       " <div class=\"instr\">\n",
       "                         作者：admin     来源：学校新闻部1     时间：2019-10-13     点击量：14278                    </div>\n",
       " <div class=\"con\">\n",
       " <p>       10月12日下午，由省委人才办、省人力社保厅和杭州电子科技大学联合举办的浙江省专家服务企业高质量发展专项活动暨数字经济领域人才项目路演对接会在义乌举行。省人力资源和社会保障厅副厅长葛平安、杭州电子科技大学副校长吕金海、金华市委组织部副部长、人力资源和社会保障局局长褚惠斌、义乌市委常委、组织部部长何若伟、义乌市副市长贾文红等出席此次会议，我校办公室、人力资源部、宣传部、产学研合作处、机械学院等部门和学院代表及部分数字领域专家和各地企业代表参加会议。</p><p>       葛平安在致辞中提出，要在合作内容和合作形式上不断创新，要以人才带项目，以项目带人才，借高校之力服务企业，借企业之力反哺高校，各地人力社保部门积极地促进项目落地。</p><p>       吕金海表示，杭电与义乌的渊源由来已久，近年来双方在科技合作和人才培养合作方面更是互动频繁。这次杭电组织了60多位专家教授带着最新、最前沿的技术项目齐聚这里，代表着双方的合作进入了更全面、更深入、更实质的新阶段。</p><p>       何若伟指出，实现义乌高科技企业蓬勃发展的关键在科技，根本在人才。希望杭电在数字经济领域中的突出科学优势，能在义乌全球自由贸易中发挥作用。</p><p style=\"text-align: center;\"><img alt=\"图片 2_meitu_2.jpg\" src=\"/uploads/news/images/20191013/1570961661704039.jpg\" title=\"1570961661704039.jpg\"> </img></p><p>       在与义乌市人才项目合作签约仪式上，我校机械学院和义乌研究院分别与义乌市上溪镇共同签订人才培养协议和科技服务协议，我校三位专家则与企业签订了技术合作协议。</p><p style=\"text-align: center;\"><img alt=\"图片 3_meitu_8.jpg\" src=\"/uploads/news/images/20191013/1570962293722178.jpg\" title=\"1570962293722178.jpg\"/></p><p>       在随后的人才项目路演推介会上，我校陈科明、林志赟、吕永桂、简志华、张祥泉、徐小良、任彧、韩伟等专家分别带来了物联网、人工智能、艺术设计、大数据、材料与环境工程等领域的路演项目。</p><p style=\"text-align: center;\"><img alt=\"图片 4_meitu_4.jpg\" src=\"/uploads/news/images/20191013/1570961707151413.jpg\" title=\"1570961707151413.jpg\"/></p><p><br/></p><p style=\"text-align: center;\"><img alt=\"图片 5_meitu_5.jpg\" src=\"/uploads/news/images/20191013/1570961719882252.jpg\" title=\"1570961719882252.jpg\"/></p><p>       据了解，为了让这场对接会更具成效，我校精心遴选了“数字经济”领域科技项目1023个，其中科技成果技术项目70个，可转让发明专利项目953个，涵盖装备制造、人工智能、物理通信、电力配电、大数据、无人机、芯片等关键技术。活动现场，我校带来了8个路演项目和143个现场洽谈项目，与全省153家企业进行了洽谈对接。此次对接会是“浙江省专家服务企业高质量发展专项活动”的系列活动，旨在践行省委“三服务”活动要求，精准服务企业高质量发展，为我校科研成果商业落地提供了有效平台，也是我校践行“不忘初心 牢记使命”主题教育的活动之一。（校新闻中心）</p><p style=\"text-align: center;\"><img alt=\"图片 6_meitu_6.jpg\" src=\"/uploads/news/images/20191013/1570961733951547.jpg\" title=\"1570961733951547.jpg\"/></p> </div>\n",
       " </div>, <div class=\"title\">\n",
       "                         我校专场数字经济领域人才项目路演对接会在义乌举行                    </div>, <div style=\"float: right;color: #0056bc;font-size: 16px;\">\n",
       " </div>, <div class=\"instr\">\n",
       "                         作者：admin     来源：学校新闻部1     时间：2019-10-13     点击量：14278                    </div>, <div class=\"con\">\n",
       " <p>       10月12日下午，由省委人才办、省人力社保厅和杭州电子科技大学联合举办的浙江省专家服务企业高质量发展专项活动暨数字经济领域人才项目路演对接会在义乌举行。省人力资源和社会保障厅副厅长葛平安、杭州电子科技大学副校长吕金海、金华市委组织部副部长、人力资源和社会保障局局长褚惠斌、义乌市委常委、组织部部长何若伟、义乌市副市长贾文红等出席此次会议，我校办公室、人力资源部、宣传部、产学研合作处、机械学院等部门和学院代表及部分数字领域专家和各地企业代表参加会议。</p><p>       葛平安在致辞中提出，要在合作内容和合作形式上不断创新，要以人才带项目，以项目带人才，借高校之力服务企业，借企业之力反哺高校，各地人力社保部门积极地促进项目落地。</p><p>       吕金海表示，杭电与义乌的渊源由来已久，近年来双方在科技合作和人才培养合作方面更是互动频繁。这次杭电组织了60多位专家教授带着最新、最前沿的技术项目齐聚这里，代表着双方的合作进入了更全面、更深入、更实质的新阶段。</p><p>       何若伟指出，实现义乌高科技企业蓬勃发展的关键在科技，根本在人才。希望杭电在数字经济领域中的突出科学优势，能在义乌全球自由贸易中发挥作用。</p><p style=\"text-align: center;\"><img alt=\"图片 2_meitu_2.jpg\" src=\"/uploads/news/images/20191013/1570961661704039.jpg\" title=\"1570961661704039.jpg\"> </img></p><p>       在与义乌市人才项目合作签约仪式上，我校机械学院和义乌研究院分别与义乌市上溪镇共同签订人才培养协议和科技服务协议，我校三位专家则与企业签订了技术合作协议。</p><p style=\"text-align: center;\"><img alt=\"图片 3_meitu_8.jpg\" src=\"/uploads/news/images/20191013/1570962293722178.jpg\" title=\"1570962293722178.jpg\"/></p><p>       在随后的人才项目路演推介会上，我校陈科明、林志赟、吕永桂、简志华、张祥泉、徐小良、任彧、韩伟等专家分别带来了物联网、人工智能、艺术设计、大数据、材料与环境工程等领域的路演项目。</p><p style=\"text-align: center;\"><img alt=\"图片 4_meitu_4.jpg\" src=\"/uploads/news/images/20191013/1570961707151413.jpg\" title=\"1570961707151413.jpg\"/></p><p><br/></p><p style=\"text-align: center;\"><img alt=\"图片 5_meitu_5.jpg\" src=\"/uploads/news/images/20191013/1570961719882252.jpg\" title=\"1570961719882252.jpg\"/></p><p>       据了解，为了让这场对接会更具成效，我校精心遴选了“数字经济”领域科技项目1023个，其中科技成果技术项目70个，可转让发明专利项目953个，涵盖装备制造、人工智能、物理通信、电力配电、大数据、无人机、芯片等关键技术。活动现场，我校带来了8个路演项目和143个现场洽谈项目，与全省153家企业进行了洽谈对接。此次对接会是“浙江省专家服务企业高质量发展专项活动”的系列活动，旨在践行省委“三服务”活动要求，精准服务企业高质量发展，为我校科研成果商业落地提供了有效平台，也是我校践行“不忘初心 牢记使命”主题教育的活动之一。（校新闻中心）</p><p style=\"text-align: center;\"><img alt=\"图片 6_meitu_6.jpg\" src=\"/uploads/news/images/20191013/1570961733951547.jpg\" title=\"1570961733951547.jpg\"/></p> </div>, <div class=\"cooper c\">\n",
       " <ul>\n",
       " <li alt=\"网易\" data-default=\"/asset/news_v2/image/bottom01.jpg?v=2.0\" data-href=\"http://dy.163.com/v2/media/search?word=%BA%BC%D6%DD%B5%E7%D7%D3%BF%C6%BC%BC%B4%F3%D1%A7&amp;cid=\" data-image=\"/asset/news_v2/image/bottom01-r.jpg?v=2.0\">\n",
       " <img src=\"/asset/news_v2/image/bottom01.jpg?v=2.0\"/>\n",
       " </li>\n",
       " <li alt=\"头条\" data-default=\"/asset/news_v2/image/bottom02.jpg?v=2.0\" data-href=\"https://www.toutiao.com/c/user/6596331691/#mid=6596331691\" data-image=\"/asset/news_v2/image/bottom02-r.jpg?v=2.0\">\n",
       " <img src=\"/asset/news_v2/image/bottom02.jpg?v=2.0\"/>\n",
       " </li>\n",
       " <li alt=\"微博\" data-default=\"/asset/news_v2/image/bottom03.jpg?v=2.0\" data-href=\"https://weibo.com/hzhdu?refer_flag=1001030103_\" data-image=\"/asset/news_v2/image/bottom03-r.jpg?v=2.0\">\n",
       " <img src=\"/asset/news_v2/image/bottom03.jpg?v=2.0\"/>\n",
       " </li>\n",
       " <li alt=\"红色家园\" data-default=\"/asset/news_v2/image/bottom05.jpg?v=2.0\" data-href=\"http://cas.hdu.edu.cn/cas/login?service=http%3A%2F%2F106.14.9.60%3A3000%2Fcommon%2FgetTicket\" data-image=\"/asset/news_v2/image/bottom05-r.jpg?v=2.0\">\n",
       " <img src=\"/asset/news_v2/image/bottom05.jpg?v=2.0\"/>\n",
       " </li>\n",
       " </ul>\n",
       " </div>, <div class=\"footer\">\n",
       " <p>杭州电子科技大学党委宣传部　版权所有　杭州电子科技大学新闻中心维护</p>\n",
       " <p>浙ICP备12028388号　推荐使用Google浏览器、火狐浏览器、360浏览器（极速模式）</p>\n",
       " </div>]"
      ]
     },
     "execution_count": 81,
     "metadata": {},
     "output_type": "execute_result"
    }
   ],
   "source": [
    "soup.select(\"div\")"
   ]
  },
  {
   "cell_type": "code",
   "execution_count": 82,
   "metadata": {
    "collapsed": true,
    "jupyter": {
     "outputs_hidden": true
    }
   },
   "outputs": [
    {
     "data": {
      "text/plain": [
       "[<div class=\"main\">\n",
       " <div class=\"t-top\">\n",
       " <div class=\"c\">\n",
       " <h6><a href=\"/\">杭电首页</a></h6>\n",
       " </div>\n",
       " </div>\n",
       " <div class=\"m-wrap\">\n",
       " <div class=\"header c\">\n",
       " <div class=\"logo fl\">\n",
       " <a href=\"/news\"><img alt=\"logo\" src=\"/asset/news_v2/image/logo.png?v=2.0\"/></a>\n",
       " </div>\n",
       " <div class=\"news fl\"></div>\n",
       " <div class=\"fr\">\n",
       " <p>2020年11月</p>\n",
       " <h1>12</h1>\n",
       " <p>星期四</p>\n",
       " <p id=\"lunar\"></p>\n",
       " <script src=\"/asset/news_v2/js/calendar.js?v=2.0\"></script>\n",
       " <script>\n",
       "                         var calendar = showCal(); \n",
       "                         $(\"#lunar\").html(calendar);\n",
       "                     </script>\n",
       " </div>\n",
       " </div>\n",
       " <div class=\"f-nav c\" style=\"height: 60px;\">\n",
       " <ul>\n",
       " <li data=\"index\"><a href=\"/news\">网站首页</a></li>\n",
       " <li data=\"branch\"><a href=\"/news/branch\">部门简介</a></li>\n",
       " <li data=\"important\"><a href=\"/news/important\">杭电新闻</a></li>\n",
       " <li data=\"theory\"><a href=\"/news/theory\">理论学习</a></li>\n",
       " <li data=\"superiorfile\"><a href=\"/news/superiorfile\">规章制度</a></li>\n",
       " <li data=\"work\"><a href=\"/news/work\">网上办事</a></li>\n",
       " <li data=\"departmentnotice\"><a href=\"/news/departmentnotice\">部门通知</a></li>\n",
       " <li><a href=\"/admin\" target=\"_blank\">在线投稿</a></li>\n",
       " </ul>\n",
       " <script>\n",
       "                     var topClass=\"important\";\n",
       "                     for(var t=0;t<$('.f-nav ul li').length;t++){\n",
       "                         if($('.f-nav ul li:eq('+t+')').attr('data')===topClass){\n",
       "                             $('.f-nav ul li:eq('+t+')').addClass('cur');\n",
       "                         }\n",
       "                     }\n",
       "                 </script>\n",
       " <input id=\"find\" maxlength=\"100\" placeholder=\"请输入您想要的内容\"/>\n",
       " <div class=\"error\">\n",
       " <img alt=\"error\" src=\"/asset/news_v2/image/icon-error.png?v=2.0\"/>\n",
       " </div>\n",
       " <div class=\"search\">\n",
       " <img alt=\"search\" src=\"/asset/news_v2/image/icon-search.png?v=2.0\"/>\n",
       " </div>\n",
       " </div>\n",
       " <div class=\"content c\">\n",
       " <div class=\"aside\">\n",
       " <div class=\"m-news\">\n",
       " <div class=\"title\">\n",
       " <h1>杭电要闻</h1>\n",
       " <h2 class=\"clear\">\n",
       " <span class=\"fl\">important</span>\n",
       " </h2>\n",
       " </div>\n",
       " <div class=\"time-list\">\n",
       " <div class=\"clear\">\n",
       " <div class=\"mt\">\n",
       " <span class=\"curTime\" show=\"0\"><font>2020</font><div class=\"cate\"></div></span>\n",
       " <div class=\"year scrollBar hide\">\n",
       " <div class=\"ym\">2020</div><div class=\"ym\">2019</div><div class=\"ym\">2018</div><div class=\"ym\">2017</div><div class=\"ym\">2016</div><div class=\"ym\">2015</div><div class=\"ym\">2014</div><div class=\"ym\">2013</div><div class=\"ym\">2012</div><div class=\"ym\">2011</div><div class=\"ym\">2010</div><div class=\"ym\">2009</div><div class=\"ym\">2008</div><div class=\"ym\">2007</div><div class=\"ym\">2006</div><div class=\"ym\">2005</div><div class=\"ym\">2004</div><div class=\"ym\">2003</div> </div>\n",
       " </div>\n",
       " <div class=\"md\">\n",
       " <div check=\"0\" class=\"mm\">1</div><div check=\"0\" class=\"mm\">2</div><div check=\"0\" class=\"mm\">3</div><div check=\"0\" class=\"mm\">4</div><div check=\"0\" class=\"mm\">5</div><div check=\"0\" class=\"mm\">6</div><div check=\"0\" class=\"mm\">7</div><div check=\"0\" class=\"mm\">8</div><div check=\"0\" class=\"mm\">9</div><div check=\"0\" class=\"mm\">10</div><div check=\"0\" class=\"mm\">11</div><div check=\"0\" class=\"mm\">12</div> </div>\n",
       " </div>\n",
       " </div>\n",
       " <ul>\n",
       " <li data-id=\"27576\"><div class=\"move\"></div><div class=\"con\">国家社科基金重大项目“基于大数据的科教评价信息云平台构建和智能服务研究”举行开题评审会</div><div class=\"time\">11-10</div></li><li data-id=\"27573\"><div class=\"move\"></div><div class=\"con\">庆祝电子科技大学援建我校40周年纪念活动举行</div><div class=\"time\">11-08</div></li><li data-id=\"27544\"><div class=\"move\"></div><div class=\"con\">刘逸喆同学荣获省普通本科高校国家奖学金特别评审奖</div><div class=\"time\">11-06</div></li><li data-id=\"27567\"><div class=\"move\"></div><div class=\"con\">校党委召开理论学习中心组扩大会议传达学习贯彻十九届五中全会精神</div><div class=\"time\">11-06</div></li><li data-id=\"27554\"><div class=\"move\"></div><div class=\"con\">我校第四次学生代表大会、第九次研究生代表大会隆重召开</div><div class=\"time\">10-31</div></li><li data-id=\"27553\"><div class=\"move\"></div><div class=\"con\">中国共产党第十九届中央委员会第五次全体会议公报</div><div class=\"time\">10-30</div></li><li data-id=\"27535\"><div class=\"move\"></div><div class=\"con\">浙江省委常委、宣传部部长朱国贤一行来校调研</div><div class=\"time\">10-27</div></li><li data-id=\"27528\"><div class=\"move\"></div><div class=\"con\">我校师生联合开发146个软件，编写200万行代码—— 构建智慧校园赋能人才培养</div><div class=\"time\">10-26</div></li><li data-id=\"27525\"><div class=\"move\"></div><div class=\"con\">校第三十八届田径运动会圆满落幕</div><div class=\"time\">10-25</div></li><li data-id=\"27518\"><div class=\"move\"></div><div class=\"con\">校党委召开理论学习中心组专题学习会</div><div class=\"time\">10-22</div></li><li data-id=\"27511\"><div class=\"move\"></div><div class=\"con\">中国电子信息行业联合会专家委主任来校作学术报告</div><div class=\"time\">10-21</div></li><li data-id=\"27508\"><div class=\"move\"></div><div class=\"con\">浙江省发展改革委领导来校调研指导消费扶贫工作</div><div class=\"time\">10-20</div></li><li data-id=\"27505\"><div class=\"move\"></div><div class=\"con\">校领导应邀参加首届拉美中国创新日活动</div><div class=\"time\">10-19</div></li> </ul>\n",
       " <div class=\"page\">\n",
       " <a class=\"cur\" href=\"/news/important_26525?page=1&amp;year=2020&amp;month=\">1</a><a href=\"/news/important_26525?page=2&amp;year=2020&amp;month=\">2</a><a href=\"/news/important_26525?page=3&amp;year=2020&amp;month=\">3</a><a href=\"/news/important_26525?page=4&amp;year=2020&amp;month=\">4</a><a href=\"/news/important_26525?page=5&amp;year=2020&amp;month=\">5</a><a href=\"/news/important_26525?page=6&amp;year=2020&amp;month=\">6</a><a href=\"/news/important_26525?page=2&amp;year=2020&amp;month=\">下页</a> </div>\n",
       " </div>\n",
       " <div class=\"qr clear\">\n",
       " <div class=\"fl\">\n",
       " <img alt=\"网易\" src=\"/asset/news_v2/image/hdu-weixinqr.jpg?v=2.0\"/>\n",
       " <p>杭州电子科技大学官方微信</p>\n",
       " </div>\n",
       " <div class=\"fr\">\n",
       " <img alt=\"网易\" src=\"/asset/news_v2/image/hdu-weiboqr.jpg?v=2.0\"/>\n",
       " <p>杭州电子科技大学官方微博</p>\n",
       " </div>\n",
       " </div>\n",
       " </div>\n",
       " <div class=\"article\">\n",
       " <div class=\"title\">\n",
       "                         我校专场数字经济领域人才项目路演对接会在义乌举行                    </div>\n",
       " <div style=\"float: right;color: #0056bc;font-size: 16px;\">\n",
       " </div>\n",
       " <div class=\"instr\">\n",
       "                         作者：admin     来源：学校新闻部1     时间：2019-10-13     点击量：14278                    </div>\n",
       " <div class=\"con\">\n",
       " <p>       10月12日下午，由省委人才办、省人力社保厅和杭州电子科技大学联合举办的浙江省专家服务企业高质量发展专项活动暨数字经济领域人才项目路演对接会在义乌举行。省人力资源和社会保障厅副厅长葛平安、杭州电子科技大学副校长吕金海、金华市委组织部副部长、人力资源和社会保障局局长褚惠斌、义乌市委常委、组织部部长何若伟、义乌市副市长贾文红等出席此次会议，我校办公室、人力资源部、宣传部、产学研合作处、机械学院等部门和学院代表及部分数字领域专家和各地企业代表参加会议。</p><p>       葛平安在致辞中提出，要在合作内容和合作形式上不断创新，要以人才带项目，以项目带人才，借高校之力服务企业，借企业之力反哺高校，各地人力社保部门积极地促进项目落地。</p><p>       吕金海表示，杭电与义乌的渊源由来已久，近年来双方在科技合作和人才培养合作方面更是互动频繁。这次杭电组织了60多位专家教授带着最新、最前沿的技术项目齐聚这里，代表着双方的合作进入了更全面、更深入、更实质的新阶段。</p><p>       何若伟指出，实现义乌高科技企业蓬勃发展的关键在科技，根本在人才。希望杭电在数字经济领域中的突出科学优势，能在义乌全球自由贸易中发挥作用。</p><p style=\"text-align: center;\"><img alt=\"图片 2_meitu_2.jpg\" src=\"/uploads/news/images/20191013/1570961661704039.jpg\" title=\"1570961661704039.jpg\"> </img></p><p>       在与义乌市人才项目合作签约仪式上，我校机械学院和义乌研究院分别与义乌市上溪镇共同签订人才培养协议和科技服务协议，我校三位专家则与企业签订了技术合作协议。</p><p style=\"text-align: center;\"><img alt=\"图片 3_meitu_8.jpg\" src=\"/uploads/news/images/20191013/1570962293722178.jpg\" title=\"1570962293722178.jpg\"/></p><p>       在随后的人才项目路演推介会上，我校陈科明、林志赟、吕永桂、简志华、张祥泉、徐小良、任彧、韩伟等专家分别带来了物联网、人工智能、艺术设计、大数据、材料与环境工程等领域的路演项目。</p><p style=\"text-align: center;\"><img alt=\"图片 4_meitu_4.jpg\" src=\"/uploads/news/images/20191013/1570961707151413.jpg\" title=\"1570961707151413.jpg\"/></p><p><br/></p><p style=\"text-align: center;\"><img alt=\"图片 5_meitu_5.jpg\" src=\"/uploads/news/images/20191013/1570961719882252.jpg\" title=\"1570961719882252.jpg\"/></p><p>       据了解，为了让这场对接会更具成效，我校精心遴选了“数字经济”领域科技项目1023个，其中科技成果技术项目70个，可转让发明专利项目953个，涵盖装备制造、人工智能、物理通信、电力配电、大数据、无人机、芯片等关键技术。活动现场，我校带来了8个路演项目和143个现场洽谈项目，与全省153家企业进行了洽谈对接。此次对接会是“浙江省专家服务企业高质量发展专项活动”的系列活动，旨在践行省委“三服务”活动要求，精准服务企业高质量发展，为我校科研成果商业落地提供了有效平台，也是我校践行“不忘初心 牢记使命”主题教育的活动之一。（校新闻中心）</p><p style=\"text-align: center;\"><img alt=\"图片 6_meitu_6.jpg\" src=\"/uploads/news/images/20191013/1570961733951547.jpg\" title=\"1570961733951547.jpg\"/></p> </div>\n",
       " </div>\n",
       " </div>\n",
       " <div class=\"cooper c\">\n",
       " <ul>\n",
       " <li alt=\"网易\" data-default=\"/asset/news_v2/image/bottom01.jpg?v=2.0\" data-href=\"http://dy.163.com/v2/media/search?word=%BA%BC%D6%DD%B5%E7%D7%D3%BF%C6%BC%BC%B4%F3%D1%A7&amp;cid=\" data-image=\"/asset/news_v2/image/bottom01-r.jpg?v=2.0\">\n",
       " <img src=\"/asset/news_v2/image/bottom01.jpg?v=2.0\"/>\n",
       " </li>\n",
       " <li alt=\"头条\" data-default=\"/asset/news_v2/image/bottom02.jpg?v=2.0\" data-href=\"https://www.toutiao.com/c/user/6596331691/#mid=6596331691\" data-image=\"/asset/news_v2/image/bottom02-r.jpg?v=2.0\">\n",
       " <img src=\"/asset/news_v2/image/bottom02.jpg?v=2.0\"/>\n",
       " </li>\n",
       " <li alt=\"微博\" data-default=\"/asset/news_v2/image/bottom03.jpg?v=2.0\" data-href=\"https://weibo.com/hzhdu?refer_flag=1001030103_\" data-image=\"/asset/news_v2/image/bottom03-r.jpg?v=2.0\">\n",
       " <img src=\"/asset/news_v2/image/bottom03.jpg?v=2.0\"/>\n",
       " </li>\n",
       " <li alt=\"红色家园\" data-default=\"/asset/news_v2/image/bottom05.jpg?v=2.0\" data-href=\"http://cas.hdu.edu.cn/cas/login?service=http%3A%2F%2F106.14.9.60%3A3000%2Fcommon%2FgetTicket\" data-image=\"/asset/news_v2/image/bottom05-r.jpg?v=2.0\">\n",
       " <img src=\"/asset/news_v2/image/bottom05.jpg?v=2.0\"/>\n",
       " </li>\n",
       " </ul>\n",
       " </div>\n",
       " </div>\n",
       " <div class=\"footer\">\n",
       " <p>杭州电子科技大学党委宣传部　版权所有　杭州电子科技大学新闻中心维护</p>\n",
       " <p>浙ICP备12028388号　推荐使用Google浏览器、火狐浏览器、360浏览器（极速模式）</p>\n",
       " </div>\n",
       " </div>, <div class=\"t-top\">\n",
       " <div class=\"c\">\n",
       " <h6><a href=\"/\">杭电首页</a></h6>\n",
       " </div>\n",
       " </div>, <div class=\"c\">\n",
       " <h6><a href=\"/\">杭电首页</a></h6>\n",
       " </div>, <div class=\"m-wrap\">\n",
       " <div class=\"header c\">\n",
       " <div class=\"logo fl\">\n",
       " <a href=\"/news\"><img alt=\"logo\" src=\"/asset/news_v2/image/logo.png?v=2.0\"/></a>\n",
       " </div>\n",
       " <div class=\"news fl\"></div>\n",
       " <div class=\"fr\">\n",
       " <p>2020年11月</p>\n",
       " <h1>12</h1>\n",
       " <p>星期四</p>\n",
       " <p id=\"lunar\"></p>\n",
       " <script src=\"/asset/news_v2/js/calendar.js?v=2.0\"></script>\n",
       " <script>\n",
       "                         var calendar = showCal(); \n",
       "                         $(\"#lunar\").html(calendar);\n",
       "                     </script>\n",
       " </div>\n",
       " </div>\n",
       " <div class=\"f-nav c\" style=\"height: 60px;\">\n",
       " <ul>\n",
       " <li data=\"index\"><a href=\"/news\">网站首页</a></li>\n",
       " <li data=\"branch\"><a href=\"/news/branch\">部门简介</a></li>\n",
       " <li data=\"important\"><a href=\"/news/important\">杭电新闻</a></li>\n",
       " <li data=\"theory\"><a href=\"/news/theory\">理论学习</a></li>\n",
       " <li data=\"superiorfile\"><a href=\"/news/superiorfile\">规章制度</a></li>\n",
       " <li data=\"work\"><a href=\"/news/work\">网上办事</a></li>\n",
       " <li data=\"departmentnotice\"><a href=\"/news/departmentnotice\">部门通知</a></li>\n",
       " <li><a href=\"/admin\" target=\"_blank\">在线投稿</a></li>\n",
       " </ul>\n",
       " <script>\n",
       "                     var topClass=\"important\";\n",
       "                     for(var t=0;t<$('.f-nav ul li').length;t++){\n",
       "                         if($('.f-nav ul li:eq('+t+')').attr('data')===topClass){\n",
       "                             $('.f-nav ul li:eq('+t+')').addClass('cur');\n",
       "                         }\n",
       "                     }\n",
       "                 </script>\n",
       " <input id=\"find\" maxlength=\"100\" placeholder=\"请输入您想要的内容\"/>\n",
       " <div class=\"error\">\n",
       " <img alt=\"error\" src=\"/asset/news_v2/image/icon-error.png?v=2.0\"/>\n",
       " </div>\n",
       " <div class=\"search\">\n",
       " <img alt=\"search\" src=\"/asset/news_v2/image/icon-search.png?v=2.0\"/>\n",
       " </div>\n",
       " </div>\n",
       " <div class=\"content c\">\n",
       " <div class=\"aside\">\n",
       " <div class=\"m-news\">\n",
       " <div class=\"title\">\n",
       " <h1>杭电要闻</h1>\n",
       " <h2 class=\"clear\">\n",
       " <span class=\"fl\">important</span>\n",
       " </h2>\n",
       " </div>\n",
       " <div class=\"time-list\">\n",
       " <div class=\"clear\">\n",
       " <div class=\"mt\">\n",
       " <span class=\"curTime\" show=\"0\"><font>2020</font><div class=\"cate\"></div></span>\n",
       " <div class=\"year scrollBar hide\">\n",
       " <div class=\"ym\">2020</div><div class=\"ym\">2019</div><div class=\"ym\">2018</div><div class=\"ym\">2017</div><div class=\"ym\">2016</div><div class=\"ym\">2015</div><div class=\"ym\">2014</div><div class=\"ym\">2013</div><div class=\"ym\">2012</div><div class=\"ym\">2011</div><div class=\"ym\">2010</div><div class=\"ym\">2009</div><div class=\"ym\">2008</div><div class=\"ym\">2007</div><div class=\"ym\">2006</div><div class=\"ym\">2005</div><div class=\"ym\">2004</div><div class=\"ym\">2003</div> </div>\n",
       " </div>\n",
       " <div class=\"md\">\n",
       " <div check=\"0\" class=\"mm\">1</div><div check=\"0\" class=\"mm\">2</div><div check=\"0\" class=\"mm\">3</div><div check=\"0\" class=\"mm\">4</div><div check=\"0\" class=\"mm\">5</div><div check=\"0\" class=\"mm\">6</div><div check=\"0\" class=\"mm\">7</div><div check=\"0\" class=\"mm\">8</div><div check=\"0\" class=\"mm\">9</div><div check=\"0\" class=\"mm\">10</div><div check=\"0\" class=\"mm\">11</div><div check=\"0\" class=\"mm\">12</div> </div>\n",
       " </div>\n",
       " </div>\n",
       " <ul>\n",
       " <li data-id=\"27576\"><div class=\"move\"></div><div class=\"con\">国家社科基金重大项目“基于大数据的科教评价信息云平台构建和智能服务研究”举行开题评审会</div><div class=\"time\">11-10</div></li><li data-id=\"27573\"><div class=\"move\"></div><div class=\"con\">庆祝电子科技大学援建我校40周年纪念活动举行</div><div class=\"time\">11-08</div></li><li data-id=\"27544\"><div class=\"move\"></div><div class=\"con\">刘逸喆同学荣获省普通本科高校国家奖学金特别评审奖</div><div class=\"time\">11-06</div></li><li data-id=\"27567\"><div class=\"move\"></div><div class=\"con\">校党委召开理论学习中心组扩大会议传达学习贯彻十九届五中全会精神</div><div class=\"time\">11-06</div></li><li data-id=\"27554\"><div class=\"move\"></div><div class=\"con\">我校第四次学生代表大会、第九次研究生代表大会隆重召开</div><div class=\"time\">10-31</div></li><li data-id=\"27553\"><div class=\"move\"></div><div class=\"con\">中国共产党第十九届中央委员会第五次全体会议公报</div><div class=\"time\">10-30</div></li><li data-id=\"27535\"><div class=\"move\"></div><div class=\"con\">浙江省委常委、宣传部部长朱国贤一行来校调研</div><div class=\"time\">10-27</div></li><li data-id=\"27528\"><div class=\"move\"></div><div class=\"con\">我校师生联合开发146个软件，编写200万行代码—— 构建智慧校园赋能人才培养</div><div class=\"time\">10-26</div></li><li data-id=\"27525\"><div class=\"move\"></div><div class=\"con\">校第三十八届田径运动会圆满落幕</div><div class=\"time\">10-25</div></li><li data-id=\"27518\"><div class=\"move\"></div><div class=\"con\">校党委召开理论学习中心组专题学习会</div><div class=\"time\">10-22</div></li><li data-id=\"27511\"><div class=\"move\"></div><div class=\"con\">中国电子信息行业联合会专家委主任来校作学术报告</div><div class=\"time\">10-21</div></li><li data-id=\"27508\"><div class=\"move\"></div><div class=\"con\">浙江省发展改革委领导来校调研指导消费扶贫工作</div><div class=\"time\">10-20</div></li><li data-id=\"27505\"><div class=\"move\"></div><div class=\"con\">校领导应邀参加首届拉美中国创新日活动</div><div class=\"time\">10-19</div></li> </ul>\n",
       " <div class=\"page\">\n",
       " <a class=\"cur\" href=\"/news/important_26525?page=1&amp;year=2020&amp;month=\">1</a><a href=\"/news/important_26525?page=2&amp;year=2020&amp;month=\">2</a><a href=\"/news/important_26525?page=3&amp;year=2020&amp;month=\">3</a><a href=\"/news/important_26525?page=4&amp;year=2020&amp;month=\">4</a><a href=\"/news/important_26525?page=5&amp;year=2020&amp;month=\">5</a><a href=\"/news/important_26525?page=6&amp;year=2020&amp;month=\">6</a><a href=\"/news/important_26525?page=2&amp;year=2020&amp;month=\">下页</a> </div>\n",
       " </div>\n",
       " <div class=\"qr clear\">\n",
       " <div class=\"fl\">\n",
       " <img alt=\"网易\" src=\"/asset/news_v2/image/hdu-weixinqr.jpg?v=2.0\"/>\n",
       " <p>杭州电子科技大学官方微信</p>\n",
       " </div>\n",
       " <div class=\"fr\">\n",
       " <img alt=\"网易\" src=\"/asset/news_v2/image/hdu-weiboqr.jpg?v=2.0\"/>\n",
       " <p>杭州电子科技大学官方微博</p>\n",
       " </div>\n",
       " </div>\n",
       " </div>\n",
       " <div class=\"article\">\n",
       " <div class=\"title\">\n",
       "                         我校专场数字经济领域人才项目路演对接会在义乌举行                    </div>\n",
       " <div style=\"float: right;color: #0056bc;font-size: 16px;\">\n",
       " </div>\n",
       " <div class=\"instr\">\n",
       "                         作者：admin     来源：学校新闻部1     时间：2019-10-13     点击量：14278                    </div>\n",
       " <div class=\"con\">\n",
       " <p>       10月12日下午，由省委人才办、省人力社保厅和杭州电子科技大学联合举办的浙江省专家服务企业高质量发展专项活动暨数字经济领域人才项目路演对接会在义乌举行。省人力资源和社会保障厅副厅长葛平安、杭州电子科技大学副校长吕金海、金华市委组织部副部长、人力资源和社会保障局局长褚惠斌、义乌市委常委、组织部部长何若伟、义乌市副市长贾文红等出席此次会议，我校办公室、人力资源部、宣传部、产学研合作处、机械学院等部门和学院代表及部分数字领域专家和各地企业代表参加会议。</p><p>       葛平安在致辞中提出，要在合作内容和合作形式上不断创新，要以人才带项目，以项目带人才，借高校之力服务企业，借企业之力反哺高校，各地人力社保部门积极地促进项目落地。</p><p>       吕金海表示，杭电与义乌的渊源由来已久，近年来双方在科技合作和人才培养合作方面更是互动频繁。这次杭电组织了60多位专家教授带着最新、最前沿的技术项目齐聚这里，代表着双方的合作进入了更全面、更深入、更实质的新阶段。</p><p>       何若伟指出，实现义乌高科技企业蓬勃发展的关键在科技，根本在人才。希望杭电在数字经济领域中的突出科学优势，能在义乌全球自由贸易中发挥作用。</p><p style=\"text-align: center;\"><img alt=\"图片 2_meitu_2.jpg\" src=\"/uploads/news/images/20191013/1570961661704039.jpg\" title=\"1570961661704039.jpg\"> </img></p><p>       在与义乌市人才项目合作签约仪式上，我校机械学院和义乌研究院分别与义乌市上溪镇共同签订人才培养协议和科技服务协议，我校三位专家则与企业签订了技术合作协议。</p><p style=\"text-align: center;\"><img alt=\"图片 3_meitu_8.jpg\" src=\"/uploads/news/images/20191013/1570962293722178.jpg\" title=\"1570962293722178.jpg\"/></p><p>       在随后的人才项目路演推介会上，我校陈科明、林志赟、吕永桂、简志华、张祥泉、徐小良、任彧、韩伟等专家分别带来了物联网、人工智能、艺术设计、大数据、材料与环境工程等领域的路演项目。</p><p style=\"text-align: center;\"><img alt=\"图片 4_meitu_4.jpg\" src=\"/uploads/news/images/20191013/1570961707151413.jpg\" title=\"1570961707151413.jpg\"/></p><p><br/></p><p style=\"text-align: center;\"><img alt=\"图片 5_meitu_5.jpg\" src=\"/uploads/news/images/20191013/1570961719882252.jpg\" title=\"1570961719882252.jpg\"/></p><p>       据了解，为了让这场对接会更具成效，我校精心遴选了“数字经济”领域科技项目1023个，其中科技成果技术项目70个，可转让发明专利项目953个，涵盖装备制造、人工智能、物理通信、电力配电、大数据、无人机、芯片等关键技术。活动现场，我校带来了8个路演项目和143个现场洽谈项目，与全省153家企业进行了洽谈对接。此次对接会是“浙江省专家服务企业高质量发展专项活动”的系列活动，旨在践行省委“三服务”活动要求，精准服务企业高质量发展，为我校科研成果商业落地提供了有效平台，也是我校践行“不忘初心 牢记使命”主题教育的活动之一。（校新闻中心）</p><p style=\"text-align: center;\"><img alt=\"图片 6_meitu_6.jpg\" src=\"/uploads/news/images/20191013/1570961733951547.jpg\" title=\"1570961733951547.jpg\"/></p> </div>\n",
       " </div>\n",
       " </div>\n",
       " <div class=\"cooper c\">\n",
       " <ul>\n",
       " <li alt=\"网易\" data-default=\"/asset/news_v2/image/bottom01.jpg?v=2.0\" data-href=\"http://dy.163.com/v2/media/search?word=%BA%BC%D6%DD%B5%E7%D7%D3%BF%C6%BC%BC%B4%F3%D1%A7&amp;cid=\" data-image=\"/asset/news_v2/image/bottom01-r.jpg?v=2.0\">\n",
       " <img src=\"/asset/news_v2/image/bottom01.jpg?v=2.0\"/>\n",
       " </li>\n",
       " <li alt=\"头条\" data-default=\"/asset/news_v2/image/bottom02.jpg?v=2.0\" data-href=\"https://www.toutiao.com/c/user/6596331691/#mid=6596331691\" data-image=\"/asset/news_v2/image/bottom02-r.jpg?v=2.0\">\n",
       " <img src=\"/asset/news_v2/image/bottom02.jpg?v=2.0\"/>\n",
       " </li>\n",
       " <li alt=\"微博\" data-default=\"/asset/news_v2/image/bottom03.jpg?v=2.0\" data-href=\"https://weibo.com/hzhdu?refer_flag=1001030103_\" data-image=\"/asset/news_v2/image/bottom03-r.jpg?v=2.0\">\n",
       " <img src=\"/asset/news_v2/image/bottom03.jpg?v=2.0\"/>\n",
       " </li>\n",
       " <li alt=\"红色家园\" data-default=\"/asset/news_v2/image/bottom05.jpg?v=2.0\" data-href=\"http://cas.hdu.edu.cn/cas/login?service=http%3A%2F%2F106.14.9.60%3A3000%2Fcommon%2FgetTicket\" data-image=\"/asset/news_v2/image/bottom05-r.jpg?v=2.0\">\n",
       " <img src=\"/asset/news_v2/image/bottom05.jpg?v=2.0\"/>\n",
       " </li>\n",
       " </ul>\n",
       " </div>\n",
       " </div>, <div class=\"header c\">\n",
       " <div class=\"logo fl\">\n",
       " <a href=\"/news\"><img alt=\"logo\" src=\"/asset/news_v2/image/logo.png?v=2.0\"/></a>\n",
       " </div>\n",
       " <div class=\"news fl\"></div>\n",
       " <div class=\"fr\">\n",
       " <p>2020年11月</p>\n",
       " <h1>12</h1>\n",
       " <p>星期四</p>\n",
       " <p id=\"lunar\"></p>\n",
       " <script src=\"/asset/news_v2/js/calendar.js?v=2.0\"></script>\n",
       " <script>\n",
       "                         var calendar = showCal(); \n",
       "                         $(\"#lunar\").html(calendar);\n",
       "                     </script>\n",
       " </div>\n",
       " </div>, <div class=\"logo fl\">\n",
       " <a href=\"/news\"><img alt=\"logo\" src=\"/asset/news_v2/image/logo.png?v=2.0\"/></a>\n",
       " </div>, <div class=\"news fl\"></div>, <div class=\"fr\">\n",
       " <p>2020年11月</p>\n",
       " <h1>12</h1>\n",
       " <p>星期四</p>\n",
       " <p id=\"lunar\"></p>\n",
       " <script src=\"/asset/news_v2/js/calendar.js?v=2.0\"></script>\n",
       " <script>\n",
       "                         var calendar = showCal(); \n",
       "                         $(\"#lunar\").html(calendar);\n",
       "                     </script>\n",
       " </div>, <div class=\"f-nav c\" style=\"height: 60px;\">\n",
       " <ul>\n",
       " <li data=\"index\"><a href=\"/news\">网站首页</a></li>\n",
       " <li data=\"branch\"><a href=\"/news/branch\">部门简介</a></li>\n",
       " <li data=\"important\"><a href=\"/news/important\">杭电新闻</a></li>\n",
       " <li data=\"theory\"><a href=\"/news/theory\">理论学习</a></li>\n",
       " <li data=\"superiorfile\"><a href=\"/news/superiorfile\">规章制度</a></li>\n",
       " <li data=\"work\"><a href=\"/news/work\">网上办事</a></li>\n",
       " <li data=\"departmentnotice\"><a href=\"/news/departmentnotice\">部门通知</a></li>\n",
       " <li><a href=\"/admin\" target=\"_blank\">在线投稿</a></li>\n",
       " </ul>\n",
       " <script>\n",
       "                     var topClass=\"important\";\n",
       "                     for(var t=0;t<$('.f-nav ul li').length;t++){\n",
       "                         if($('.f-nav ul li:eq('+t+')').attr('data')===topClass){\n",
       "                             $('.f-nav ul li:eq('+t+')').addClass('cur');\n",
       "                         }\n",
       "                     }\n",
       "                 </script>\n",
       " <input id=\"find\" maxlength=\"100\" placeholder=\"请输入您想要的内容\"/>\n",
       " <div class=\"error\">\n",
       " <img alt=\"error\" src=\"/asset/news_v2/image/icon-error.png?v=2.0\"/>\n",
       " </div>\n",
       " <div class=\"search\">\n",
       " <img alt=\"search\" src=\"/asset/news_v2/image/icon-search.png?v=2.0\"/>\n",
       " </div>\n",
       " </div>, <div class=\"error\">\n",
       " <img alt=\"error\" src=\"/asset/news_v2/image/icon-error.png?v=2.0\"/>\n",
       " </div>, <div class=\"search\">\n",
       " <img alt=\"search\" src=\"/asset/news_v2/image/icon-search.png?v=2.0\"/>\n",
       " </div>, <div class=\"content c\">\n",
       " <div class=\"aside\">\n",
       " <div class=\"m-news\">\n",
       " <div class=\"title\">\n",
       " <h1>杭电要闻</h1>\n",
       " <h2 class=\"clear\">\n",
       " <span class=\"fl\">important</span>\n",
       " </h2>\n",
       " </div>\n",
       " <div class=\"time-list\">\n",
       " <div class=\"clear\">\n",
       " <div class=\"mt\">\n",
       " <span class=\"curTime\" show=\"0\"><font>2020</font><div class=\"cate\"></div></span>\n",
       " <div class=\"year scrollBar hide\">\n",
       " <div class=\"ym\">2020</div><div class=\"ym\">2019</div><div class=\"ym\">2018</div><div class=\"ym\">2017</div><div class=\"ym\">2016</div><div class=\"ym\">2015</div><div class=\"ym\">2014</div><div class=\"ym\">2013</div><div class=\"ym\">2012</div><div class=\"ym\">2011</div><div class=\"ym\">2010</div><div class=\"ym\">2009</div><div class=\"ym\">2008</div><div class=\"ym\">2007</div><div class=\"ym\">2006</div><div class=\"ym\">2005</div><div class=\"ym\">2004</div><div class=\"ym\">2003</div> </div>\n",
       " </div>\n",
       " <div class=\"md\">\n",
       " <div check=\"0\" class=\"mm\">1</div><div check=\"0\" class=\"mm\">2</div><div check=\"0\" class=\"mm\">3</div><div check=\"0\" class=\"mm\">4</div><div check=\"0\" class=\"mm\">5</div><div check=\"0\" class=\"mm\">6</div><div check=\"0\" class=\"mm\">7</div><div check=\"0\" class=\"mm\">8</div><div check=\"0\" class=\"mm\">9</div><div check=\"0\" class=\"mm\">10</div><div check=\"0\" class=\"mm\">11</div><div check=\"0\" class=\"mm\">12</div> </div>\n",
       " </div>\n",
       " </div>\n",
       " <ul>\n",
       " <li data-id=\"27576\"><div class=\"move\"></div><div class=\"con\">国家社科基金重大项目“基于大数据的科教评价信息云平台构建和智能服务研究”举行开题评审会</div><div class=\"time\">11-10</div></li><li data-id=\"27573\"><div class=\"move\"></div><div class=\"con\">庆祝电子科技大学援建我校40周年纪念活动举行</div><div class=\"time\">11-08</div></li><li data-id=\"27544\"><div class=\"move\"></div><div class=\"con\">刘逸喆同学荣获省普通本科高校国家奖学金特别评审奖</div><div class=\"time\">11-06</div></li><li data-id=\"27567\"><div class=\"move\"></div><div class=\"con\">校党委召开理论学习中心组扩大会议传达学习贯彻十九届五中全会精神</div><div class=\"time\">11-06</div></li><li data-id=\"27554\"><div class=\"move\"></div><div class=\"con\">我校第四次学生代表大会、第九次研究生代表大会隆重召开</div><div class=\"time\">10-31</div></li><li data-id=\"27553\"><div class=\"move\"></div><div class=\"con\">中国共产党第十九届中央委员会第五次全体会议公报</div><div class=\"time\">10-30</div></li><li data-id=\"27535\"><div class=\"move\"></div><div class=\"con\">浙江省委常委、宣传部部长朱国贤一行来校调研</div><div class=\"time\">10-27</div></li><li data-id=\"27528\"><div class=\"move\"></div><div class=\"con\">我校师生联合开发146个软件，编写200万行代码—— 构建智慧校园赋能人才培养</div><div class=\"time\">10-26</div></li><li data-id=\"27525\"><div class=\"move\"></div><div class=\"con\">校第三十八届田径运动会圆满落幕</div><div class=\"time\">10-25</div></li><li data-id=\"27518\"><div class=\"move\"></div><div class=\"con\">校党委召开理论学习中心组专题学习会</div><div class=\"time\">10-22</div></li><li data-id=\"27511\"><div class=\"move\"></div><div class=\"con\">中国电子信息行业联合会专家委主任来校作学术报告</div><div class=\"time\">10-21</div></li><li data-id=\"27508\"><div class=\"move\"></div><div class=\"con\">浙江省发展改革委领导来校调研指导消费扶贫工作</div><div class=\"time\">10-20</div></li><li data-id=\"27505\"><div class=\"move\"></div><div class=\"con\">校领导应邀参加首届拉美中国创新日活动</div><div class=\"time\">10-19</div></li> </ul>\n",
       " <div class=\"page\">\n",
       " <a class=\"cur\" href=\"/news/important_26525?page=1&amp;year=2020&amp;month=\">1</a><a href=\"/news/important_26525?page=2&amp;year=2020&amp;month=\">2</a><a href=\"/news/important_26525?page=3&amp;year=2020&amp;month=\">3</a><a href=\"/news/important_26525?page=4&amp;year=2020&amp;month=\">4</a><a href=\"/news/important_26525?page=5&amp;year=2020&amp;month=\">5</a><a href=\"/news/important_26525?page=6&amp;year=2020&amp;month=\">6</a><a href=\"/news/important_26525?page=2&amp;year=2020&amp;month=\">下页</a> </div>\n",
       " </div>\n",
       " <div class=\"qr clear\">\n",
       " <div class=\"fl\">\n",
       " <img alt=\"网易\" src=\"/asset/news_v2/image/hdu-weixinqr.jpg?v=2.0\"/>\n",
       " <p>杭州电子科技大学官方微信</p>\n",
       " </div>\n",
       " <div class=\"fr\">\n",
       " <img alt=\"网易\" src=\"/asset/news_v2/image/hdu-weiboqr.jpg?v=2.0\"/>\n",
       " <p>杭州电子科技大学官方微博</p>\n",
       " </div>\n",
       " </div>\n",
       " </div>\n",
       " <div class=\"article\">\n",
       " <div class=\"title\">\n",
       "                         我校专场数字经济领域人才项目路演对接会在义乌举行                    </div>\n",
       " <div style=\"float: right;color: #0056bc;font-size: 16px;\">\n",
       " </div>\n",
       " <div class=\"instr\">\n",
       "                         作者：admin     来源：学校新闻部1     时间：2019-10-13     点击量：14278                    </div>\n",
       " <div class=\"con\">\n",
       " <p>       10月12日下午，由省委人才办、省人力社保厅和杭州电子科技大学联合举办的浙江省专家服务企业高质量发展专项活动暨数字经济领域人才项目路演对接会在义乌举行。省人力资源和社会保障厅副厅长葛平安、杭州电子科技大学副校长吕金海、金华市委组织部副部长、人力资源和社会保障局局长褚惠斌、义乌市委常委、组织部部长何若伟、义乌市副市长贾文红等出席此次会议，我校办公室、人力资源部、宣传部、产学研合作处、机械学院等部门和学院代表及部分数字领域专家和各地企业代表参加会议。</p><p>       葛平安在致辞中提出，要在合作内容和合作形式上不断创新，要以人才带项目，以项目带人才，借高校之力服务企业，借企业之力反哺高校，各地人力社保部门积极地促进项目落地。</p><p>       吕金海表示，杭电与义乌的渊源由来已久，近年来双方在科技合作和人才培养合作方面更是互动频繁。这次杭电组织了60多位专家教授带着最新、最前沿的技术项目齐聚这里，代表着双方的合作进入了更全面、更深入、更实质的新阶段。</p><p>       何若伟指出，实现义乌高科技企业蓬勃发展的关键在科技，根本在人才。希望杭电在数字经济领域中的突出科学优势，能在义乌全球自由贸易中发挥作用。</p><p style=\"text-align: center;\"><img alt=\"图片 2_meitu_2.jpg\" src=\"/uploads/news/images/20191013/1570961661704039.jpg\" title=\"1570961661704039.jpg\"> </img></p><p>       在与义乌市人才项目合作签约仪式上，我校机械学院和义乌研究院分别与义乌市上溪镇共同签订人才培养协议和科技服务协议，我校三位专家则与企业签订了技术合作协议。</p><p style=\"text-align: center;\"><img alt=\"图片 3_meitu_8.jpg\" src=\"/uploads/news/images/20191013/1570962293722178.jpg\" title=\"1570962293722178.jpg\"/></p><p>       在随后的人才项目路演推介会上，我校陈科明、林志赟、吕永桂、简志华、张祥泉、徐小良、任彧、韩伟等专家分别带来了物联网、人工智能、艺术设计、大数据、材料与环境工程等领域的路演项目。</p><p style=\"text-align: center;\"><img alt=\"图片 4_meitu_4.jpg\" src=\"/uploads/news/images/20191013/1570961707151413.jpg\" title=\"1570961707151413.jpg\"/></p><p><br/></p><p style=\"text-align: center;\"><img alt=\"图片 5_meitu_5.jpg\" src=\"/uploads/news/images/20191013/1570961719882252.jpg\" title=\"1570961719882252.jpg\"/></p><p>       据了解，为了让这场对接会更具成效，我校精心遴选了“数字经济”领域科技项目1023个，其中科技成果技术项目70个，可转让发明专利项目953个，涵盖装备制造、人工智能、物理通信、电力配电、大数据、无人机、芯片等关键技术。活动现场，我校带来了8个路演项目和143个现场洽谈项目，与全省153家企业进行了洽谈对接。此次对接会是“浙江省专家服务企业高质量发展专项活动”的系列活动，旨在践行省委“三服务”活动要求，精准服务企业高质量发展，为我校科研成果商业落地提供了有效平台，也是我校践行“不忘初心 牢记使命”主题教育的活动之一。（校新闻中心）</p><p style=\"text-align: center;\"><img alt=\"图片 6_meitu_6.jpg\" src=\"/uploads/news/images/20191013/1570961733951547.jpg\" title=\"1570961733951547.jpg\"/></p> </div>\n",
       " </div>\n",
       " </div>, <div class=\"aside\">\n",
       " <div class=\"m-news\">\n",
       " <div class=\"title\">\n",
       " <h1>杭电要闻</h1>\n",
       " <h2 class=\"clear\">\n",
       " <span class=\"fl\">important</span>\n",
       " </h2>\n",
       " </div>\n",
       " <div class=\"time-list\">\n",
       " <div class=\"clear\">\n",
       " <div class=\"mt\">\n",
       " <span class=\"curTime\" show=\"0\"><font>2020</font><div class=\"cate\"></div></span>\n",
       " <div class=\"year scrollBar hide\">\n",
       " <div class=\"ym\">2020</div><div class=\"ym\">2019</div><div class=\"ym\">2018</div><div class=\"ym\">2017</div><div class=\"ym\">2016</div><div class=\"ym\">2015</div><div class=\"ym\">2014</div><div class=\"ym\">2013</div><div class=\"ym\">2012</div><div class=\"ym\">2011</div><div class=\"ym\">2010</div><div class=\"ym\">2009</div><div class=\"ym\">2008</div><div class=\"ym\">2007</div><div class=\"ym\">2006</div><div class=\"ym\">2005</div><div class=\"ym\">2004</div><div class=\"ym\">2003</div> </div>\n",
       " </div>\n",
       " <div class=\"md\">\n",
       " <div check=\"0\" class=\"mm\">1</div><div check=\"0\" class=\"mm\">2</div><div check=\"0\" class=\"mm\">3</div><div check=\"0\" class=\"mm\">4</div><div check=\"0\" class=\"mm\">5</div><div check=\"0\" class=\"mm\">6</div><div check=\"0\" class=\"mm\">7</div><div check=\"0\" class=\"mm\">8</div><div check=\"0\" class=\"mm\">9</div><div check=\"0\" class=\"mm\">10</div><div check=\"0\" class=\"mm\">11</div><div check=\"0\" class=\"mm\">12</div> </div>\n",
       " </div>\n",
       " </div>\n",
       " <ul>\n",
       " <li data-id=\"27576\"><div class=\"move\"></div><div class=\"con\">国家社科基金重大项目“基于大数据的科教评价信息云平台构建和智能服务研究”举行开题评审会</div><div class=\"time\">11-10</div></li><li data-id=\"27573\"><div class=\"move\"></div><div class=\"con\">庆祝电子科技大学援建我校40周年纪念活动举行</div><div class=\"time\">11-08</div></li><li data-id=\"27544\"><div class=\"move\"></div><div class=\"con\">刘逸喆同学荣获省普通本科高校国家奖学金特别评审奖</div><div class=\"time\">11-06</div></li><li data-id=\"27567\"><div class=\"move\"></div><div class=\"con\">校党委召开理论学习中心组扩大会议传达学习贯彻十九届五中全会精神</div><div class=\"time\">11-06</div></li><li data-id=\"27554\"><div class=\"move\"></div><div class=\"con\">我校第四次学生代表大会、第九次研究生代表大会隆重召开</div><div class=\"time\">10-31</div></li><li data-id=\"27553\"><div class=\"move\"></div><div class=\"con\">中国共产党第十九届中央委员会第五次全体会议公报</div><div class=\"time\">10-30</div></li><li data-id=\"27535\"><div class=\"move\"></div><div class=\"con\">浙江省委常委、宣传部部长朱国贤一行来校调研</div><div class=\"time\">10-27</div></li><li data-id=\"27528\"><div class=\"move\"></div><div class=\"con\">我校师生联合开发146个软件，编写200万行代码—— 构建智慧校园赋能人才培养</div><div class=\"time\">10-26</div></li><li data-id=\"27525\"><div class=\"move\"></div><div class=\"con\">校第三十八届田径运动会圆满落幕</div><div class=\"time\">10-25</div></li><li data-id=\"27518\"><div class=\"move\"></div><div class=\"con\">校党委召开理论学习中心组专题学习会</div><div class=\"time\">10-22</div></li><li data-id=\"27511\"><div class=\"move\"></div><div class=\"con\">中国电子信息行业联合会专家委主任来校作学术报告</div><div class=\"time\">10-21</div></li><li data-id=\"27508\"><div class=\"move\"></div><div class=\"con\">浙江省发展改革委领导来校调研指导消费扶贫工作</div><div class=\"time\">10-20</div></li><li data-id=\"27505\"><div class=\"move\"></div><div class=\"con\">校领导应邀参加首届拉美中国创新日活动</div><div class=\"time\">10-19</div></li> </ul>\n",
       " <div class=\"page\">\n",
       " <a class=\"cur\" href=\"/news/important_26525?page=1&amp;year=2020&amp;month=\">1</a><a href=\"/news/important_26525?page=2&amp;year=2020&amp;month=\">2</a><a href=\"/news/important_26525?page=3&amp;year=2020&amp;month=\">3</a><a href=\"/news/important_26525?page=4&amp;year=2020&amp;month=\">4</a><a href=\"/news/important_26525?page=5&amp;year=2020&amp;month=\">5</a><a href=\"/news/important_26525?page=6&amp;year=2020&amp;month=\">6</a><a href=\"/news/important_26525?page=2&amp;year=2020&amp;month=\">下页</a> </div>\n",
       " </div>\n",
       " <div class=\"qr clear\">\n",
       " <div class=\"fl\">\n",
       " <img alt=\"网易\" src=\"/asset/news_v2/image/hdu-weixinqr.jpg?v=2.0\"/>\n",
       " <p>杭州电子科技大学官方微信</p>\n",
       " </div>\n",
       " <div class=\"fr\">\n",
       " <img alt=\"网易\" src=\"/asset/news_v2/image/hdu-weiboqr.jpg?v=2.0\"/>\n",
       " <p>杭州电子科技大学官方微博</p>\n",
       " </div>\n",
       " </div>\n",
       " </div>, <div class=\"m-news\">\n",
       " <div class=\"title\">\n",
       " <h1>杭电要闻</h1>\n",
       " <h2 class=\"clear\">\n",
       " <span class=\"fl\">important</span>\n",
       " </h2>\n",
       " </div>\n",
       " <div class=\"time-list\">\n",
       " <div class=\"clear\">\n",
       " <div class=\"mt\">\n",
       " <span class=\"curTime\" show=\"0\"><font>2020</font><div class=\"cate\"></div></span>\n",
       " <div class=\"year scrollBar hide\">\n",
       " <div class=\"ym\">2020</div><div class=\"ym\">2019</div><div class=\"ym\">2018</div><div class=\"ym\">2017</div><div class=\"ym\">2016</div><div class=\"ym\">2015</div><div class=\"ym\">2014</div><div class=\"ym\">2013</div><div class=\"ym\">2012</div><div class=\"ym\">2011</div><div class=\"ym\">2010</div><div class=\"ym\">2009</div><div class=\"ym\">2008</div><div class=\"ym\">2007</div><div class=\"ym\">2006</div><div class=\"ym\">2005</div><div class=\"ym\">2004</div><div class=\"ym\">2003</div> </div>\n",
       " </div>\n",
       " <div class=\"md\">\n",
       " <div check=\"0\" class=\"mm\">1</div><div check=\"0\" class=\"mm\">2</div><div check=\"0\" class=\"mm\">3</div><div check=\"0\" class=\"mm\">4</div><div check=\"0\" class=\"mm\">5</div><div check=\"0\" class=\"mm\">6</div><div check=\"0\" class=\"mm\">7</div><div check=\"0\" class=\"mm\">8</div><div check=\"0\" class=\"mm\">9</div><div check=\"0\" class=\"mm\">10</div><div check=\"0\" class=\"mm\">11</div><div check=\"0\" class=\"mm\">12</div> </div>\n",
       " </div>\n",
       " </div>\n",
       " <ul>\n",
       " <li data-id=\"27576\"><div class=\"move\"></div><div class=\"con\">国家社科基金重大项目“基于大数据的科教评价信息云平台构建和智能服务研究”举行开题评审会</div><div class=\"time\">11-10</div></li><li data-id=\"27573\"><div class=\"move\"></div><div class=\"con\">庆祝电子科技大学援建我校40周年纪念活动举行</div><div class=\"time\">11-08</div></li><li data-id=\"27544\"><div class=\"move\"></div><div class=\"con\">刘逸喆同学荣获省普通本科高校国家奖学金特别评审奖</div><div class=\"time\">11-06</div></li><li data-id=\"27567\"><div class=\"move\"></div><div class=\"con\">校党委召开理论学习中心组扩大会议传达学习贯彻十九届五中全会精神</div><div class=\"time\">11-06</div></li><li data-id=\"27554\"><div class=\"move\"></div><div class=\"con\">我校第四次学生代表大会、第九次研究生代表大会隆重召开</div><div class=\"time\">10-31</div></li><li data-id=\"27553\"><div class=\"move\"></div><div class=\"con\">中国共产党第十九届中央委员会第五次全体会议公报</div><div class=\"time\">10-30</div></li><li data-id=\"27535\"><div class=\"move\"></div><div class=\"con\">浙江省委常委、宣传部部长朱国贤一行来校调研</div><div class=\"time\">10-27</div></li><li data-id=\"27528\"><div class=\"move\"></div><div class=\"con\">我校师生联合开发146个软件，编写200万行代码—— 构建智慧校园赋能人才培养</div><div class=\"time\">10-26</div></li><li data-id=\"27525\"><div class=\"move\"></div><div class=\"con\">校第三十八届田径运动会圆满落幕</div><div class=\"time\">10-25</div></li><li data-id=\"27518\"><div class=\"move\"></div><div class=\"con\">校党委召开理论学习中心组专题学习会</div><div class=\"time\">10-22</div></li><li data-id=\"27511\"><div class=\"move\"></div><div class=\"con\">中国电子信息行业联合会专家委主任来校作学术报告</div><div class=\"time\">10-21</div></li><li data-id=\"27508\"><div class=\"move\"></div><div class=\"con\">浙江省发展改革委领导来校调研指导消费扶贫工作</div><div class=\"time\">10-20</div></li><li data-id=\"27505\"><div class=\"move\"></div><div class=\"con\">校领导应邀参加首届拉美中国创新日活动</div><div class=\"time\">10-19</div></li> </ul>\n",
       " <div class=\"page\">\n",
       " <a class=\"cur\" href=\"/news/important_26525?page=1&amp;year=2020&amp;month=\">1</a><a href=\"/news/important_26525?page=2&amp;year=2020&amp;month=\">2</a><a href=\"/news/important_26525?page=3&amp;year=2020&amp;month=\">3</a><a href=\"/news/important_26525?page=4&amp;year=2020&amp;month=\">4</a><a href=\"/news/important_26525?page=5&amp;year=2020&amp;month=\">5</a><a href=\"/news/important_26525?page=6&amp;year=2020&amp;month=\">6</a><a href=\"/news/important_26525?page=2&amp;year=2020&amp;month=\">下页</a> </div>\n",
       " </div>, <div class=\"title\">\n",
       " <h1>杭电要闻</h1>\n",
       " <h2 class=\"clear\">\n",
       " <span class=\"fl\">important</span>\n",
       " </h2>\n",
       " </div>, <div class=\"time-list\">\n",
       " <div class=\"clear\">\n",
       " <div class=\"mt\">\n",
       " <span class=\"curTime\" show=\"0\"><font>2020</font><div class=\"cate\"></div></span>\n",
       " <div class=\"year scrollBar hide\">\n",
       " <div class=\"ym\">2020</div><div class=\"ym\">2019</div><div class=\"ym\">2018</div><div class=\"ym\">2017</div><div class=\"ym\">2016</div><div class=\"ym\">2015</div><div class=\"ym\">2014</div><div class=\"ym\">2013</div><div class=\"ym\">2012</div><div class=\"ym\">2011</div><div class=\"ym\">2010</div><div class=\"ym\">2009</div><div class=\"ym\">2008</div><div class=\"ym\">2007</div><div class=\"ym\">2006</div><div class=\"ym\">2005</div><div class=\"ym\">2004</div><div class=\"ym\">2003</div> </div>\n",
       " </div>\n",
       " <div class=\"md\">\n",
       " <div check=\"0\" class=\"mm\">1</div><div check=\"0\" class=\"mm\">2</div><div check=\"0\" class=\"mm\">3</div><div check=\"0\" class=\"mm\">4</div><div check=\"0\" class=\"mm\">5</div><div check=\"0\" class=\"mm\">6</div><div check=\"0\" class=\"mm\">7</div><div check=\"0\" class=\"mm\">8</div><div check=\"0\" class=\"mm\">9</div><div check=\"0\" class=\"mm\">10</div><div check=\"0\" class=\"mm\">11</div><div check=\"0\" class=\"mm\">12</div> </div>\n",
       " </div>\n",
       " </div>, <div class=\"clear\">\n",
       " <div class=\"mt\">\n",
       " <span class=\"curTime\" show=\"0\"><font>2020</font><div class=\"cate\"></div></span>\n",
       " <div class=\"year scrollBar hide\">\n",
       " <div class=\"ym\">2020</div><div class=\"ym\">2019</div><div class=\"ym\">2018</div><div class=\"ym\">2017</div><div class=\"ym\">2016</div><div class=\"ym\">2015</div><div class=\"ym\">2014</div><div class=\"ym\">2013</div><div class=\"ym\">2012</div><div class=\"ym\">2011</div><div class=\"ym\">2010</div><div class=\"ym\">2009</div><div class=\"ym\">2008</div><div class=\"ym\">2007</div><div class=\"ym\">2006</div><div class=\"ym\">2005</div><div class=\"ym\">2004</div><div class=\"ym\">2003</div> </div>\n",
       " </div>\n",
       " <div class=\"md\">\n",
       " <div check=\"0\" class=\"mm\">1</div><div check=\"0\" class=\"mm\">2</div><div check=\"0\" class=\"mm\">3</div><div check=\"0\" class=\"mm\">4</div><div check=\"0\" class=\"mm\">5</div><div check=\"0\" class=\"mm\">6</div><div check=\"0\" class=\"mm\">7</div><div check=\"0\" class=\"mm\">8</div><div check=\"0\" class=\"mm\">9</div><div check=\"0\" class=\"mm\">10</div><div check=\"0\" class=\"mm\">11</div><div check=\"0\" class=\"mm\">12</div> </div>\n",
       " </div>, <div class=\"mt\">\n",
       " <span class=\"curTime\" show=\"0\"><font>2020</font><div class=\"cate\"></div></span>\n",
       " <div class=\"year scrollBar hide\">\n",
       " <div class=\"ym\">2020</div><div class=\"ym\">2019</div><div class=\"ym\">2018</div><div class=\"ym\">2017</div><div class=\"ym\">2016</div><div class=\"ym\">2015</div><div class=\"ym\">2014</div><div class=\"ym\">2013</div><div class=\"ym\">2012</div><div class=\"ym\">2011</div><div class=\"ym\">2010</div><div class=\"ym\">2009</div><div class=\"ym\">2008</div><div class=\"ym\">2007</div><div class=\"ym\">2006</div><div class=\"ym\">2005</div><div class=\"ym\">2004</div><div class=\"ym\">2003</div> </div>\n",
       " </div>, <div class=\"cate\"></div>, <div class=\"year scrollBar hide\">\n",
       " <div class=\"ym\">2020</div><div class=\"ym\">2019</div><div class=\"ym\">2018</div><div class=\"ym\">2017</div><div class=\"ym\">2016</div><div class=\"ym\">2015</div><div class=\"ym\">2014</div><div class=\"ym\">2013</div><div class=\"ym\">2012</div><div class=\"ym\">2011</div><div class=\"ym\">2010</div><div class=\"ym\">2009</div><div class=\"ym\">2008</div><div class=\"ym\">2007</div><div class=\"ym\">2006</div><div class=\"ym\">2005</div><div class=\"ym\">2004</div><div class=\"ym\">2003</div> </div>, <div class=\"ym\">2020</div>, <div class=\"ym\">2019</div>, <div class=\"ym\">2018</div>, <div class=\"ym\">2017</div>, <div class=\"ym\">2016</div>, <div class=\"ym\">2015</div>, <div class=\"ym\">2014</div>, <div class=\"ym\">2013</div>, <div class=\"ym\">2012</div>, <div class=\"ym\">2011</div>, <div class=\"ym\">2010</div>, <div class=\"ym\">2009</div>, <div class=\"ym\">2008</div>, <div class=\"ym\">2007</div>, <div class=\"ym\">2006</div>, <div class=\"ym\">2005</div>, <div class=\"ym\">2004</div>, <div class=\"ym\">2003</div>, <div class=\"md\">\n",
       " <div check=\"0\" class=\"mm\">1</div><div check=\"0\" class=\"mm\">2</div><div check=\"0\" class=\"mm\">3</div><div check=\"0\" class=\"mm\">4</div><div check=\"0\" class=\"mm\">5</div><div check=\"0\" class=\"mm\">6</div><div check=\"0\" class=\"mm\">7</div><div check=\"0\" class=\"mm\">8</div><div check=\"0\" class=\"mm\">9</div><div check=\"0\" class=\"mm\">10</div><div check=\"0\" class=\"mm\">11</div><div check=\"0\" class=\"mm\">12</div> </div>, <div check=\"0\" class=\"mm\">1</div>, <div check=\"0\" class=\"mm\">2</div>, <div check=\"0\" class=\"mm\">3</div>, <div check=\"0\" class=\"mm\">4</div>, <div check=\"0\" class=\"mm\">5</div>, <div check=\"0\" class=\"mm\">6</div>, <div check=\"0\" class=\"mm\">7</div>, <div check=\"0\" class=\"mm\">8</div>, <div check=\"0\" class=\"mm\">9</div>, <div check=\"0\" class=\"mm\">10</div>, <div check=\"0\" class=\"mm\">11</div>, <div check=\"0\" class=\"mm\">12</div>, <div class=\"move\"></div>, <div class=\"con\">国家社科基金重大项目“基于大数据的科教评价信息云平台构建和智能服务研究”举行开题评审会</div>, <div class=\"time\">11-10</div>, <div class=\"move\"></div>, <div class=\"con\">庆祝电子科技大学援建我校40周年纪念活动举行</div>, <div class=\"time\">11-08</div>, <div class=\"move\"></div>, <div class=\"con\">刘逸喆同学荣获省普通本科高校国家奖学金特别评审奖</div>, <div class=\"time\">11-06</div>, <div class=\"move\"></div>, <div class=\"con\">校党委召开理论学习中心组扩大会议传达学习贯彻十九届五中全会精神</div>, <div class=\"time\">11-06</div>, <div class=\"move\"></div>, <div class=\"con\">我校第四次学生代表大会、第九次研究生代表大会隆重召开</div>, <div class=\"time\">10-31</div>, <div class=\"move\"></div>, <div class=\"con\">中国共产党第十九届中央委员会第五次全体会议公报</div>, <div class=\"time\">10-30</div>, <div class=\"move\"></div>, <div class=\"con\">浙江省委常委、宣传部部长朱国贤一行来校调研</div>, <div class=\"time\">10-27</div>, <div class=\"move\"></div>, <div class=\"con\">我校师生联合开发146个软件，编写200万行代码—— 构建智慧校园赋能人才培养</div>, <div class=\"time\">10-26</div>, <div class=\"move\"></div>, <div class=\"con\">校第三十八届田径运动会圆满落幕</div>, <div class=\"time\">10-25</div>, <div class=\"move\"></div>, <div class=\"con\">校党委召开理论学习中心组专题学习会</div>, <div class=\"time\">10-22</div>, <div class=\"move\"></div>, <div class=\"con\">中国电子信息行业联合会专家委主任来校作学术报告</div>, <div class=\"time\">10-21</div>, <div class=\"move\"></div>, <div class=\"con\">浙江省发展改革委领导来校调研指导消费扶贫工作</div>, <div class=\"time\">10-20</div>, <div class=\"move\"></div>, <div class=\"con\">校领导应邀参加首届拉美中国创新日活动</div>, <div class=\"time\">10-19</div>, <div class=\"page\">\n",
       " <a class=\"cur\" href=\"/news/important_26525?page=1&amp;year=2020&amp;month=\">1</a><a href=\"/news/important_26525?page=2&amp;year=2020&amp;month=\">2</a><a href=\"/news/important_26525?page=3&amp;year=2020&amp;month=\">3</a><a href=\"/news/important_26525?page=4&amp;year=2020&amp;month=\">4</a><a href=\"/news/important_26525?page=5&amp;year=2020&amp;month=\">5</a><a href=\"/news/important_26525?page=6&amp;year=2020&amp;month=\">6</a><a href=\"/news/important_26525?page=2&amp;year=2020&amp;month=\">下页</a> </div>, <div class=\"qr clear\">\n",
       " <div class=\"fl\">\n",
       " <img alt=\"网易\" src=\"/asset/news_v2/image/hdu-weixinqr.jpg?v=2.0\"/>\n",
       " <p>杭州电子科技大学官方微信</p>\n",
       " </div>\n",
       " <div class=\"fr\">\n",
       " <img alt=\"网易\" src=\"/asset/news_v2/image/hdu-weiboqr.jpg?v=2.0\"/>\n",
       " <p>杭州电子科技大学官方微博</p>\n",
       " </div>\n",
       " </div>, <div class=\"fl\">\n",
       " <img alt=\"网易\" src=\"/asset/news_v2/image/hdu-weixinqr.jpg?v=2.0\"/>\n",
       " <p>杭州电子科技大学官方微信</p>\n",
       " </div>, <div class=\"fr\">\n",
       " <img alt=\"网易\" src=\"/asset/news_v2/image/hdu-weiboqr.jpg?v=2.0\"/>\n",
       " <p>杭州电子科技大学官方微博</p>\n",
       " </div>, <div class=\"article\">\n",
       " <div class=\"title\">\n",
       "                         我校专场数字经济领域人才项目路演对接会在义乌举行                    </div>\n",
       " <div style=\"float: right;color: #0056bc;font-size: 16px;\">\n",
       " </div>\n",
       " <div class=\"instr\">\n",
       "                         作者：admin     来源：学校新闻部1     时间：2019-10-13     点击量：14278                    </div>\n",
       " <div class=\"con\">\n",
       " <p>       10月12日下午，由省委人才办、省人力社保厅和杭州电子科技大学联合举办的浙江省专家服务企业高质量发展专项活动暨数字经济领域人才项目路演对接会在义乌举行。省人力资源和社会保障厅副厅长葛平安、杭州电子科技大学副校长吕金海、金华市委组织部副部长、人力资源和社会保障局局长褚惠斌、义乌市委常委、组织部部长何若伟、义乌市副市长贾文红等出席此次会议，我校办公室、人力资源部、宣传部、产学研合作处、机械学院等部门和学院代表及部分数字领域专家和各地企业代表参加会议。</p><p>       葛平安在致辞中提出，要在合作内容和合作形式上不断创新，要以人才带项目，以项目带人才，借高校之力服务企业，借企业之力反哺高校，各地人力社保部门积极地促进项目落地。</p><p>       吕金海表示，杭电与义乌的渊源由来已久，近年来双方在科技合作和人才培养合作方面更是互动频繁。这次杭电组织了60多位专家教授带着最新、最前沿的技术项目齐聚这里，代表着双方的合作进入了更全面、更深入、更实质的新阶段。</p><p>       何若伟指出，实现义乌高科技企业蓬勃发展的关键在科技，根本在人才。希望杭电在数字经济领域中的突出科学优势，能在义乌全球自由贸易中发挥作用。</p><p style=\"text-align: center;\"><img alt=\"图片 2_meitu_2.jpg\" src=\"/uploads/news/images/20191013/1570961661704039.jpg\" title=\"1570961661704039.jpg\"> </img></p><p>       在与义乌市人才项目合作签约仪式上，我校机械学院和义乌研究院分别与义乌市上溪镇共同签订人才培养协议和科技服务协议，我校三位专家则与企业签订了技术合作协议。</p><p style=\"text-align: center;\"><img alt=\"图片 3_meitu_8.jpg\" src=\"/uploads/news/images/20191013/1570962293722178.jpg\" title=\"1570962293722178.jpg\"/></p><p>       在随后的人才项目路演推介会上，我校陈科明、林志赟、吕永桂、简志华、张祥泉、徐小良、任彧、韩伟等专家分别带来了物联网、人工智能、艺术设计、大数据、材料与环境工程等领域的路演项目。</p><p style=\"text-align: center;\"><img alt=\"图片 4_meitu_4.jpg\" src=\"/uploads/news/images/20191013/1570961707151413.jpg\" title=\"1570961707151413.jpg\"/></p><p><br/></p><p style=\"text-align: center;\"><img alt=\"图片 5_meitu_5.jpg\" src=\"/uploads/news/images/20191013/1570961719882252.jpg\" title=\"1570961719882252.jpg\"/></p><p>       据了解，为了让这场对接会更具成效，我校精心遴选了“数字经济”领域科技项目1023个，其中科技成果技术项目70个，可转让发明专利项目953个，涵盖装备制造、人工智能、物理通信、电力配电、大数据、无人机、芯片等关键技术。活动现场，我校带来了8个路演项目和143个现场洽谈项目，与全省153家企业进行了洽谈对接。此次对接会是“浙江省专家服务企业高质量发展专项活动”的系列活动，旨在践行省委“三服务”活动要求，精准服务企业高质量发展，为我校科研成果商业落地提供了有效平台，也是我校践行“不忘初心 牢记使命”主题教育的活动之一。（校新闻中心）</p><p style=\"text-align: center;\"><img alt=\"图片 6_meitu_6.jpg\" src=\"/uploads/news/images/20191013/1570961733951547.jpg\" title=\"1570961733951547.jpg\"/></p> </div>\n",
       " </div>, <div class=\"title\">\n",
       "                         我校专场数字经济领域人才项目路演对接会在义乌举行                    </div>, <div style=\"float: right;color: #0056bc;font-size: 16px;\">\n",
       " </div>, <div class=\"instr\">\n",
       "                         作者：admin     来源：学校新闻部1     时间：2019-10-13     点击量：14278                    </div>, <div class=\"con\">\n",
       " <p>       10月12日下午，由省委人才办、省人力社保厅和杭州电子科技大学联合举办的浙江省专家服务企业高质量发展专项活动暨数字经济领域人才项目路演对接会在义乌举行。省人力资源和社会保障厅副厅长葛平安、杭州电子科技大学副校长吕金海、金华市委组织部副部长、人力资源和社会保障局局长褚惠斌、义乌市委常委、组织部部长何若伟、义乌市副市长贾文红等出席此次会议，我校办公室、人力资源部、宣传部、产学研合作处、机械学院等部门和学院代表及部分数字领域专家和各地企业代表参加会议。</p><p>       葛平安在致辞中提出，要在合作内容和合作形式上不断创新，要以人才带项目，以项目带人才，借高校之力服务企业，借企业之力反哺高校，各地人力社保部门积极地促进项目落地。</p><p>       吕金海表示，杭电与义乌的渊源由来已久，近年来双方在科技合作和人才培养合作方面更是互动频繁。这次杭电组织了60多位专家教授带着最新、最前沿的技术项目齐聚这里，代表着双方的合作进入了更全面、更深入、更实质的新阶段。</p><p>       何若伟指出，实现义乌高科技企业蓬勃发展的关键在科技，根本在人才。希望杭电在数字经济领域中的突出科学优势，能在义乌全球自由贸易中发挥作用。</p><p style=\"text-align: center;\"><img alt=\"图片 2_meitu_2.jpg\" src=\"/uploads/news/images/20191013/1570961661704039.jpg\" title=\"1570961661704039.jpg\"> </img></p><p>       在与义乌市人才项目合作签约仪式上，我校机械学院和义乌研究院分别与义乌市上溪镇共同签订人才培养协议和科技服务协议，我校三位专家则与企业签订了技术合作协议。</p><p style=\"text-align: center;\"><img alt=\"图片 3_meitu_8.jpg\" src=\"/uploads/news/images/20191013/1570962293722178.jpg\" title=\"1570962293722178.jpg\"/></p><p>       在随后的人才项目路演推介会上，我校陈科明、林志赟、吕永桂、简志华、张祥泉、徐小良、任彧、韩伟等专家分别带来了物联网、人工智能、艺术设计、大数据、材料与环境工程等领域的路演项目。</p><p style=\"text-align: center;\"><img alt=\"图片 4_meitu_4.jpg\" src=\"/uploads/news/images/20191013/1570961707151413.jpg\" title=\"1570961707151413.jpg\"/></p><p><br/></p><p style=\"text-align: center;\"><img alt=\"图片 5_meitu_5.jpg\" src=\"/uploads/news/images/20191013/1570961719882252.jpg\" title=\"1570961719882252.jpg\"/></p><p>       据了解，为了让这场对接会更具成效，我校精心遴选了“数字经济”领域科技项目1023个，其中科技成果技术项目70个，可转让发明专利项目953个，涵盖装备制造、人工智能、物理通信、电力配电、大数据、无人机、芯片等关键技术。活动现场，我校带来了8个路演项目和143个现场洽谈项目，与全省153家企业进行了洽谈对接。此次对接会是“浙江省专家服务企业高质量发展专项活动”的系列活动，旨在践行省委“三服务”活动要求，精准服务企业高质量发展，为我校科研成果商业落地提供了有效平台，也是我校践行“不忘初心 牢记使命”主题教育的活动之一。（校新闻中心）</p><p style=\"text-align: center;\"><img alt=\"图片 6_meitu_6.jpg\" src=\"/uploads/news/images/20191013/1570961733951547.jpg\" title=\"1570961733951547.jpg\"/></p> </div>, <div class=\"cooper c\">\n",
       " <ul>\n",
       " <li alt=\"网易\" data-default=\"/asset/news_v2/image/bottom01.jpg?v=2.0\" data-href=\"http://dy.163.com/v2/media/search?word=%BA%BC%D6%DD%B5%E7%D7%D3%BF%C6%BC%BC%B4%F3%D1%A7&amp;cid=\" data-image=\"/asset/news_v2/image/bottom01-r.jpg?v=2.0\">\n",
       " <img src=\"/asset/news_v2/image/bottom01.jpg?v=2.0\"/>\n",
       " </li>\n",
       " <li alt=\"头条\" data-default=\"/asset/news_v2/image/bottom02.jpg?v=2.0\" data-href=\"https://www.toutiao.com/c/user/6596331691/#mid=6596331691\" data-image=\"/asset/news_v2/image/bottom02-r.jpg?v=2.0\">\n",
       " <img src=\"/asset/news_v2/image/bottom02.jpg?v=2.0\"/>\n",
       " </li>\n",
       " <li alt=\"微博\" data-default=\"/asset/news_v2/image/bottom03.jpg?v=2.0\" data-href=\"https://weibo.com/hzhdu?refer_flag=1001030103_\" data-image=\"/asset/news_v2/image/bottom03-r.jpg?v=2.0\">\n",
       " <img src=\"/asset/news_v2/image/bottom03.jpg?v=2.0\"/>\n",
       " </li>\n",
       " <li alt=\"红色家园\" data-default=\"/asset/news_v2/image/bottom05.jpg?v=2.0\" data-href=\"http://cas.hdu.edu.cn/cas/login?service=http%3A%2F%2F106.14.9.60%3A3000%2Fcommon%2FgetTicket\" data-image=\"/asset/news_v2/image/bottom05-r.jpg?v=2.0\">\n",
       " <img src=\"/asset/news_v2/image/bottom05.jpg?v=2.0\"/>\n",
       " </li>\n",
       " </ul>\n",
       " </div>, <div class=\"footer\">\n",
       " <p>杭州电子科技大学党委宣传部　版权所有　杭州电子科技大学新闻中心维护</p>\n",
       " <p>浙ICP备12028388号　推荐使用Google浏览器、火狐浏览器、360浏览器（极速模式）</p>\n",
       " </div>]"
      ]
     },
     "execution_count": 82,
     "metadata": {},
     "output_type": "execute_result"
    }
   ],
   "source": [
    "soup('div')"
   ]
  },
  {
   "cell_type": "code",
   "execution_count": 83,
   "metadata": {},
   "outputs": [],
   "source": [
    "ele_list = soup.find_all('li')"
   ]
  },
  {
   "cell_type": "code",
   "execution_count": 84,
   "metadata": {},
   "outputs": [
    {
     "data": {
      "text/plain": [
       "bs4.element.ResultSet"
      ]
     },
     "execution_count": 84,
     "metadata": {},
     "output_type": "execute_result"
    }
   ],
   "source": [
    "type(ele_list)"
   ]
  },
  {
   "cell_type": "code",
   "execution_count": 85,
   "metadata": {
    "collapsed": true,
    "jupyter": {
     "outputs_hidden": true
    }
   },
   "outputs": [
    {
     "data": {
      "text/plain": [
       "[<li data=\"index\"><a href=\"/news\">网站首页</a></li>,\n",
       " <li data=\"branch\"><a href=\"/news/branch\">部门简介</a></li>,\n",
       " <li data=\"important\"><a href=\"/news/important\">杭电新闻</a></li>,\n",
       " <li data=\"theory\"><a href=\"/news/theory\">理论学习</a></li>,\n",
       " <li data=\"superiorfile\"><a href=\"/news/superiorfile\">规章制度</a></li>,\n",
       " <li data=\"work\"><a href=\"/news/work\">网上办事</a></li>,\n",
       " <li data=\"departmentnotice\"><a href=\"/news/departmentnotice\">部门通知</a></li>,\n",
       " <li><a href=\"/admin\" target=\"_blank\">在线投稿</a></li>,\n",
       " <li data-id=\"27576\"><div class=\"move\"></div><div class=\"con\">国家社科基金重大项目“基于大数据的科教评价信息云平台构建和智能服务研究”举行开题评审会</div><div class=\"time\">11-10</div></li>,\n",
       " <li data-id=\"27573\"><div class=\"move\"></div><div class=\"con\">庆祝电子科技大学援建我校40周年纪念活动举行</div><div class=\"time\">11-08</div></li>,\n",
       " <li data-id=\"27544\"><div class=\"move\"></div><div class=\"con\">刘逸喆同学荣获省普通本科高校国家奖学金特别评审奖</div><div class=\"time\">11-06</div></li>,\n",
       " <li data-id=\"27567\"><div class=\"move\"></div><div class=\"con\">校党委召开理论学习中心组扩大会议传达学习贯彻十九届五中全会精神</div><div class=\"time\">11-06</div></li>,\n",
       " <li data-id=\"27554\"><div class=\"move\"></div><div class=\"con\">我校第四次学生代表大会、第九次研究生代表大会隆重召开</div><div class=\"time\">10-31</div></li>,\n",
       " <li data-id=\"27553\"><div class=\"move\"></div><div class=\"con\">中国共产党第十九届中央委员会第五次全体会议公报</div><div class=\"time\">10-30</div></li>,\n",
       " <li data-id=\"27535\"><div class=\"move\"></div><div class=\"con\">浙江省委常委、宣传部部长朱国贤一行来校调研</div><div class=\"time\">10-27</div></li>,\n",
       " <li data-id=\"27528\"><div class=\"move\"></div><div class=\"con\">我校师生联合开发146个软件，编写200万行代码—— 构建智慧校园赋能人才培养</div><div class=\"time\">10-26</div></li>,\n",
       " <li data-id=\"27525\"><div class=\"move\"></div><div class=\"con\">校第三十八届田径运动会圆满落幕</div><div class=\"time\">10-25</div></li>,\n",
       " <li data-id=\"27518\"><div class=\"move\"></div><div class=\"con\">校党委召开理论学习中心组专题学习会</div><div class=\"time\">10-22</div></li>,\n",
       " <li data-id=\"27511\"><div class=\"move\"></div><div class=\"con\">中国电子信息行业联合会专家委主任来校作学术报告</div><div class=\"time\">10-21</div></li>,\n",
       " <li data-id=\"27508\"><div class=\"move\"></div><div class=\"con\">浙江省发展改革委领导来校调研指导消费扶贫工作</div><div class=\"time\">10-20</div></li>,\n",
       " <li data-id=\"27505\"><div class=\"move\"></div><div class=\"con\">校领导应邀参加首届拉美中国创新日活动</div><div class=\"time\">10-19</div></li>,\n",
       " <li alt=\"网易\" data-default=\"/asset/news_v2/image/bottom01.jpg?v=2.0\" data-href=\"http://dy.163.com/v2/media/search?word=%BA%BC%D6%DD%B5%E7%D7%D3%BF%C6%BC%BC%B4%F3%D1%A7&amp;cid=\" data-image=\"/asset/news_v2/image/bottom01-r.jpg?v=2.0\">\n",
       " <img src=\"/asset/news_v2/image/bottom01.jpg?v=2.0\"/>\n",
       " </li>,\n",
       " <li alt=\"头条\" data-default=\"/asset/news_v2/image/bottom02.jpg?v=2.0\" data-href=\"https://www.toutiao.com/c/user/6596331691/#mid=6596331691\" data-image=\"/asset/news_v2/image/bottom02-r.jpg?v=2.0\">\n",
       " <img src=\"/asset/news_v2/image/bottom02.jpg?v=2.0\"/>\n",
       " </li>,\n",
       " <li alt=\"微博\" data-default=\"/asset/news_v2/image/bottom03.jpg?v=2.0\" data-href=\"https://weibo.com/hzhdu?refer_flag=1001030103_\" data-image=\"/asset/news_v2/image/bottom03-r.jpg?v=2.0\">\n",
       " <img src=\"/asset/news_v2/image/bottom03.jpg?v=2.0\"/>\n",
       " </li>,\n",
       " <li alt=\"红色家园\" data-default=\"/asset/news_v2/image/bottom05.jpg?v=2.0\" data-href=\"http://cas.hdu.edu.cn/cas/login?service=http%3A%2F%2F106.14.9.60%3A3000%2Fcommon%2FgetTicket\" data-image=\"/asset/news_v2/image/bottom05-r.jpg?v=2.0\">\n",
       " <img src=\"/asset/news_v2/image/bottom05.jpg?v=2.0\"/>\n",
       " </li>]"
      ]
     },
     "execution_count": 85,
     "metadata": {},
     "output_type": "execute_result"
    }
   ],
   "source": [
    "ele_list"
   ]
  },
  {
   "cell_type": "code",
   "execution_count": 323,
   "metadata": {},
   "outputs": [
    {
     "data": {
      "text/plain": [
       "[<li data=\"important\"><a href=\"/news/important\">杭电要闻</a></li>,\n",
       " <li data=\"general\"><a href=\"/news/general\">综合新闻</a></li>,\n",
       " <li data=\"media\"><a href=\"/news/media\">媒体杭电</a></li>,\n",
       " <li data=\"teacher\"><a href=\"/news/teacher\">今日杭电人</a></li>,\n",
       " <li data=\"spotlight\"><a href=\"/news/spotlight\">专题聚焦</a></li>,\n",
       " <li data=\"photo\"><a href=\"/news/photo\">图片新闻</a></li>,\n",
       " <li data=\"video\"><a href=\"/news/video\">视频新闻</a></li>,\n",
       " <li data=\"newspaper\"><a href=\"http://newspaper.hdu.edu.cn/reading/review.asp\" target=\"_blank\">杭电校报</a></li>]"
      ]
     },
     "execution_count": 323,
     "metadata": {},
     "output_type": "execute_result"
    }
   ],
   "source": [
    "ele_list = soup.find_all('li', data=True)\n",
    "ele_list"
   ]
  },
  {
   "cell_type": "code",
   "execution_count": 86,
   "metadata": {},
   "outputs": [
    {
     "data": {
      "text/plain": [
       "<li data=\"index\"><a href=\"/news\">网站首页</a></li>"
      ]
     },
     "execution_count": 86,
     "metadata": {},
     "output_type": "execute_result"
    }
   ],
   "source": [
    "ele_list[0]"
   ]
  },
  {
   "cell_type": "code",
   "execution_count": 87,
   "metadata": {},
   "outputs": [
    {
     "ename": "SyntaxError",
     "evalue": "keyword can't be an expression (<ipython-input-87-5090023a64ac>, line 1)",
     "output_type": "error",
     "traceback": [
      "\u001b[1;36m  File \u001b[1;32m\"<ipython-input-87-5090023a64ac>\"\u001b[1;36m, line \u001b[1;32m1\u001b[0m\n\u001b[1;33m    ele_list = soup.find_all('li', data-id=True)\u001b[0m\n\u001b[1;37m                                  ^\u001b[0m\n\u001b[1;31mSyntaxError\u001b[0m\u001b[1;31m:\u001b[0m keyword can't be an expression\n"
     ]
    }
   ],
   "source": [
    "ele_list = soup.find_all('li', data-id=True)\n",
    "ele_list"
   ]
  },
  {
   "cell_type": "code",
   "execution_count": 88,
   "metadata": {},
   "outputs": [
    {
     "data": {
      "text/plain": [
       "[<li data-id=\"27576\"><div class=\"move\"></div><div class=\"con\">国家社科基金重大项目“基于大数据的科教评价信息云平台构建和智能服务研究”举行开题评审会</div><div class=\"time\">11-10</div></li>,\n",
       " <li data-id=\"27573\"><div class=\"move\"></div><div class=\"con\">庆祝电子科技大学援建我校40周年纪念活动举行</div><div class=\"time\">11-08</div></li>,\n",
       " <li data-id=\"27544\"><div class=\"move\"></div><div class=\"con\">刘逸喆同学荣获省普通本科高校国家奖学金特别评审奖</div><div class=\"time\">11-06</div></li>,\n",
       " <li data-id=\"27567\"><div class=\"move\"></div><div class=\"con\">校党委召开理论学习中心组扩大会议传达学习贯彻十九届五中全会精神</div><div class=\"time\">11-06</div></li>,\n",
       " <li data-id=\"27554\"><div class=\"move\"></div><div class=\"con\">我校第四次学生代表大会、第九次研究生代表大会隆重召开</div><div class=\"time\">10-31</div></li>,\n",
       " <li data-id=\"27553\"><div class=\"move\"></div><div class=\"con\">中国共产党第十九届中央委员会第五次全体会议公报</div><div class=\"time\">10-30</div></li>,\n",
       " <li data-id=\"27535\"><div class=\"move\"></div><div class=\"con\">浙江省委常委、宣传部部长朱国贤一行来校调研</div><div class=\"time\">10-27</div></li>,\n",
       " <li data-id=\"27528\"><div class=\"move\"></div><div class=\"con\">我校师生联合开发146个软件，编写200万行代码—— 构建智慧校园赋能人才培养</div><div class=\"time\">10-26</div></li>,\n",
       " <li data-id=\"27525\"><div class=\"move\"></div><div class=\"con\">校第三十八届田径运动会圆满落幕</div><div class=\"time\">10-25</div></li>,\n",
       " <li data-id=\"27518\"><div class=\"move\"></div><div class=\"con\">校党委召开理论学习中心组专题学习会</div><div class=\"time\">10-22</div></li>,\n",
       " <li data-id=\"27511\"><div class=\"move\"></div><div class=\"con\">中国电子信息行业联合会专家委主任来校作学术报告</div><div class=\"time\">10-21</div></li>,\n",
       " <li data-id=\"27508\"><div class=\"move\"></div><div class=\"con\">浙江省发展改革委领导来校调研指导消费扶贫工作</div><div class=\"time\">10-20</div></li>,\n",
       " <li data-id=\"27505\"><div class=\"move\"></div><div class=\"con\">校领导应邀参加首届拉美中国创新日活动</div><div class=\"time\">10-19</div></li>]"
      ]
     },
     "execution_count": 88,
     "metadata": {},
     "output_type": "execute_result"
    }
   ],
   "source": [
    "ele_list = soup.find_all('li', attrs={\"data-id\":True})\n",
    "ele_list"
   ]
  },
  {
   "cell_type": "code",
   "execution_count": 89,
   "metadata": {},
   "outputs": [
    {
     "data": {
      "text/plain": [
       "'国家社科基金重大项目“基于大数据的科教评价信息云平台构建和智能服务研究”举行开题评审会11-10'"
      ]
     },
     "execution_count": 89,
     "metadata": {},
     "output_type": "execute_result"
    }
   ],
   "source": [
    "ele_list[0].text"
   ]
  },
  {
   "cell_type": "code",
   "execution_count": 90,
   "metadata": {},
   "outputs": [
    {
     "data": {
      "text/plain": [
       "['', '国家社科基金重大项目“基于大数据的科教评价信息云平台构建和智能服务研究”举行开题评审会', '11-10']"
      ]
     },
     "execution_count": 90,
     "metadata": {},
     "output_type": "execute_result"
    }
   ],
   "source": [
    "[ele.text for ele in ele_list[0].children]"
   ]
  },
  {
   "cell_type": "code",
   "execution_count": 91,
   "metadata": {},
   "outputs": [
    {
     "data": {
      "text/plain": [
       "[<div class=\"move\"></div>,\n",
       " <div class=\"con\">国家社科基金重大项目“基于大数据的科教评价信息云平台构建和智能服务研究”举行开题评审会</div>,\n",
       " <div class=\"time\">11-10</div>]"
      ]
     },
     "execution_count": 91,
     "metadata": {},
     "output_type": "execute_result"
    }
   ],
   "source": [
    "list(ele_list[0].children)"
   ]
  },
  {
   "cell_type": "code",
   "execution_count": 98,
   "metadata": {},
   "outputs": [
    {
     "data": {
      "text/plain": [
       "[<div class=\"article\">\n",
       " <div class=\"title\">\n",
       "                         我校专场数字经济领域人才项目路演对接会在义乌举行                    </div>\n",
       " <div style=\"float: right;color: #0056bc;font-size: 16px;\">\n",
       " </div>\n",
       " <div class=\"instr\">\n",
       "                         作者：admin     来源：学校新闻部1     时间：2019-10-13     点击量：14278                    </div>\n",
       " <div class=\"con\">\n",
       " <p>       10月12日下午，由省委人才办、省人力社保厅和杭州电子科技大学联合举办的浙江省专家服务企业高质量发展专项活动暨数字经济领域人才项目路演对接会在义乌举行。省人力资源和社会保障厅副厅长葛平安、杭州电子科技大学副校长吕金海、金华市委组织部副部长、人力资源和社会保障局局长褚惠斌、义乌市委常委、组织部部长何若伟、义乌市副市长贾文红等出席此次会议，我校办公室、人力资源部、宣传部、产学研合作处、机械学院等部门和学院代表及部分数字领域专家和各地企业代表参加会议。</p><p>       葛平安在致辞中提出，要在合作内容和合作形式上不断创新，要以人才带项目，以项目带人才，借高校之力服务企业，借企业之力反哺高校，各地人力社保部门积极地促进项目落地。</p><p>       吕金海表示，杭电与义乌的渊源由来已久，近年来双方在科技合作和人才培养合作方面更是互动频繁。这次杭电组织了60多位专家教授带着最新、最前沿的技术项目齐聚这里，代表着双方的合作进入了更全面、更深入、更实质的新阶段。</p><p>       何若伟指出，实现义乌高科技企业蓬勃发展的关键在科技，根本在人才。希望杭电在数字经济领域中的突出科学优势，能在义乌全球自由贸易中发挥作用。</p><p style=\"text-align: center;\"><img alt=\"图片 2_meitu_2.jpg\" src=\"/uploads/news/images/20191013/1570961661704039.jpg\" title=\"1570961661704039.jpg\"> </img></p><p>       在与义乌市人才项目合作签约仪式上，我校机械学院和义乌研究院分别与义乌市上溪镇共同签订人才培养协议和科技服务协议，我校三位专家则与企业签订了技术合作协议。</p><p style=\"text-align: center;\"><img alt=\"图片 3_meitu_8.jpg\" src=\"/uploads/news/images/20191013/1570962293722178.jpg\" title=\"1570962293722178.jpg\"/></p><p>       在随后的人才项目路演推介会上，我校陈科明、林志赟、吕永桂、简志华、张祥泉、徐小良、任彧、韩伟等专家分别带来了物联网、人工智能、艺术设计、大数据、材料与环境工程等领域的路演项目。</p><p style=\"text-align: center;\"><img alt=\"图片 4_meitu_4.jpg\" src=\"/uploads/news/images/20191013/1570961707151413.jpg\" title=\"1570961707151413.jpg\"/></p><p><br/></p><p style=\"text-align: center;\"><img alt=\"图片 5_meitu_5.jpg\" src=\"/uploads/news/images/20191013/1570961719882252.jpg\" title=\"1570961719882252.jpg\"/></p><p>       据了解，为了让这场对接会更具成效，我校精心遴选了“数字经济”领域科技项目1023个，其中科技成果技术项目70个，可转让发明专利项目953个，涵盖装备制造、人工智能、物理通信、电力配电、大数据、无人机、芯片等关键技术。活动现场，我校带来了8个路演项目和143个现场洽谈项目，与全省153家企业进行了洽谈对接。此次对接会是“浙江省专家服务企业高质量发展专项活动”的系列活动，旨在践行省委“三服务”活动要求，精准服务企业高质量发展，为我校科研成果商业落地提供了有效平台，也是我校践行“不忘初心 牢记使命”主题教育的活动之一。（校新闻中心）</p><p style=\"text-align: center;\"><img alt=\"图片 6_meitu_6.jpg\" src=\"/uploads/news/images/20191013/1570961733951547.jpg\" title=\"1570961733951547.jpg\"/></p> </div>\n",
       " </div>]"
      ]
     },
     "execution_count": 98,
     "metadata": {},
     "output_type": "execute_result"
    }
   ],
   "source": [
    "article = soup.find_all('div', class_='article')\n",
    "article"
   ]
  },
  {
   "cell_type": "code",
   "execution_count": 100,
   "metadata": {},
   "outputs": [
    {
     "data": {
      "text/plain": [
       "1"
      ]
     },
     "execution_count": 100,
     "metadata": {},
     "output_type": "execute_result"
    }
   ],
   "source": [
    "len(article)"
   ]
  },
  {
   "cell_type": "code",
   "execution_count": 102,
   "metadata": {},
   "outputs": [
    {
     "data": {
      "text/plain": [
       "'<div class=\"article\">\\n<div class=\"title\">\\r\\n                        我校专场数字经济领域人才项目路演对接会在义乌举行                    </div>\\n<div style=\"float: right;color: #0056bc;font-size: 16px;\">\\n</div>\\n<div class=\"instr\">\\r\\n                        作者：admin     来源：学校新闻部1     时间：2019-10-13     点击量：14278                    </div>\\n<div class=\"con\">\\n<p>\\xa0\\xa0\\xa0\\xa0\\xa0 \\xa010月12日下午，由省委人才办、省人力社保厅和杭州电子科技大学联合举办的浙江省专家服务企业高质量发展专项活动暨数字经济领域人才项目路演对接会在义乌举行。省人力资源和社会保障厅副厅长葛平安、杭州电子科技大学副校长吕金海、金华市委组织部副部长、人力资源和社会保障局局长褚惠斌、义乌市委常委、组织部部长何若伟、义乌市副市长贾文红等出席此次会议，我校办公室、人力资源部、宣传部、产学研合作处、机械学院等部门和学院代表及部分数字领域专家和各地企业代表参加会议。</p><p>\\xa0 \\xa0 \\xa0 \\xa0葛平安在致辞中提出，要在合作内容和合作形式上不断创新，要以人才带项目，以项目带人才，借高校之力服务企业，借企业之力反哺高校，各地人力社保部门积极地促进项目落地。</p><p>\\xa0\\xa0\\xa0\\xa0\\xa0 \\xa0吕金海表示，杭电与义乌的渊源由来已久，近年来双方在科技合作和人才培养合作方面更是互动频繁。这次杭电组织了60多位专家教授带着最新、最前沿的技术项目齐聚这里，代表着双方的合作进入了更全面、更深入、更实质的新阶段。</p><p>\\xa0\\xa0\\xa0\\xa0\\xa0 \\xa0何若伟指出，实现义乌高科技企业蓬勃发展的关键在科技，根本在人才。希望杭电在数字经济领域中的突出科学优势，能在义乌全球自由贸易中发挥作用。</p><p style=\"text-align: center;\"><img alt=\"图片 2_meitu_2.jpg\" src=\"/uploads/news/images/20191013/1570961661704039.jpg\" title=\"1570961661704039.jpg\">\\xa0</img></p><p>\\xa0\\xa0\\xa0\\xa0\\xa0 \\xa0在与义乌市人才项目合作签约仪式上，我校机械学院和义乌研究院分别与义乌市上溪镇共同签订人才培养协议和科技服务协议，我校三位专家则与企业签订了技术合作协议。</p><p style=\"text-align: center;\"><img alt=\"图片 3_meitu_8.jpg\" src=\"/uploads/news/images/20191013/1570962293722178.jpg\" title=\"1570962293722178.jpg\"/></p><p>\\xa0\\xa0\\xa0\\xa0\\xa0 \\xa0在随后的人才项目路演推介会上，我校陈科明、林志赟、吕永桂、简志华、张祥泉、徐小良、任彧、韩伟等专家分别带来了物联网、人工智能、艺术设计、大数据、材料与环境工程等领域的路演项目。</p><p style=\"text-align: center;\"><img alt=\"图片 4_meitu_4.jpg\" src=\"/uploads/news/images/20191013/1570961707151413.jpg\" title=\"1570961707151413.jpg\"/></p><p><br/></p><p style=\"text-align: center;\"><img alt=\"图片 5_meitu_5.jpg\" src=\"/uploads/news/images/20191013/1570961719882252.jpg\" title=\"1570961719882252.jpg\"/></p><p>\\xa0\\xa0\\xa0\\xa0\\xa0 \\xa0据了解，为了让这场对接会更具成效，我校精心遴选了“数字经济”领域科技项目1023个，其中科技成果技术项目70个，可转让发明专利项目953个，涵盖装备制造、人工智能、物理通信、电力配电、大数据、无人机、芯片等关键技术。活动现场，我校带来了8个路演项目和143个现场洽谈项目，与全省153家企业进行了洽谈对接。此次对接会是“浙江省专家服务企业高质量发展专项活动”的系列活动，旨在践行省委“三服务”活动要求，精准服务企业高质量发展，为我校科研成果商业落地提供了有效平台，也是我校践行“不忘初心 牢记使命”主题教育的活动之一。（校新闻中心）</p><p style=\"text-align: center;\"><img alt=\"图片 6_meitu_6.jpg\" src=\"/uploads/news/images/20191013/1570961733951547.jpg\" title=\"1570961733951547.jpg\"/></p> </div>\\n</div>'"
      ]
     },
     "execution_count": 102,
     "metadata": {},
     "output_type": "execute_result"
    }
   ],
   "source": [
    "article[0].decode()"
   ]
  },
  {
   "cell_type": "code",
   "execution_count": 104,
   "metadata": {},
   "outputs": [
    {
     "data": {
      "text/plain": [
       "'<div class=\"article\">\\n<div class=\"title\">\\r\\n                        我校专场数字经济领域人才项目路演对接会在义乌举行                    </div>\\n<div style=\"float: right;color: #0056bc;font-size: 16px;\">\\n</div>\\n<div class=\"instr\">\\r\\n                        作者：admin     来源：学校新闻部1     时间：2019-10-13     点击量：14278                    </div>\\n<div class=\"con\">\\n<p>\\xa0\\xa0\\xa0\\xa0\\xa0 \\xa010月12日下午，由省委人才办、省人力社保厅和杭州电子科技大学联合举办的浙江省专家服务企业高质量发展专项活动暨数字经济领域人才项目路演对接会在义乌举行。省人力资源和社会保障厅副厅长葛平安、杭州电子科技大学副校长吕金海、金华市委组织部副部长、人力资源和社会保障局局长褚惠斌、义乌市委常委、组织部部长何若伟、义乌市副市长贾文红等出席此次会议，我校办公室、人力资源部、宣传部、产学研合作处、机械学院等部门和学院代表及部分数字领域专家和各地企业代表参加会议。</p><p>\\xa0 \\xa0 \\xa0 \\xa0葛平安在致辞中提出，要在合作内容和合作形式上不断创新，要以人才带项目，以项目带人才，借高校之力服务企业，借企业之力反哺高校，各地人力社保部门积极地促进项目落地。</p><p>\\xa0\\xa0\\xa0\\xa0\\xa0 \\xa0吕金海表示，杭电与义乌的渊源由来已久，近年来双方在科技合作和人才培养合作方面更是互动频繁。这次杭电组织了60多位专家教授带着最新、最前沿的技术项目齐聚这里，代表着双方的合作进入了更全面、更深入、更实质的新阶段。</p><p>\\xa0\\xa0\\xa0\\xa0\\xa0 \\xa0何若伟指出，实现义乌高科技企业蓬勃发展的关键在科技，根本在人才。希望杭电在数字经济领域中的突出科学优势，能在义乌全球自由贸易中发挥作用。</p><p style=\"text-align: center;\"><img alt=\"图片 2_meitu_2.jpg\" src=\"http://www.hdu.edu.cn/uploads/news/images/20191013/1570961661704039.jpg\" title=\"1570961661704039.jpg\">\\xa0</img></p><p>\\xa0\\xa0\\xa0\\xa0\\xa0 \\xa0在与义乌市人才项目合作签约仪式上，我校机械学院和义乌研究院分别与义乌市上溪镇共同签订人才培养协议和科技服务协议，我校三位专家则与企业签订了技术合作协议。</p><p style=\"text-align: center;\"><img alt=\"图片 3_meitu_8.jpg\" src=\"http://www.hdu.edu.cn/uploads/news/images/20191013/1570962293722178.jpg\" title=\"1570962293722178.jpg\"/></p><p>\\xa0\\xa0\\xa0\\xa0\\xa0 \\xa0在随后的人才项目路演推介会上，我校陈科明、林志赟、吕永桂、简志华、张祥泉、徐小良、任彧、韩伟等专家分别带来了物联网、人工智能、艺术设计、大数据、材料与环境工程等领域的路演项目。</p><p style=\"text-align: center;\"><img alt=\"图片 4_meitu_4.jpg\" src=\"http://www.hdu.edu.cn/uploads/news/images/20191013/1570961707151413.jpg\" title=\"1570961707151413.jpg\"/></p><p><br/></p><p style=\"text-align: center;\"><img alt=\"图片 5_meitu_5.jpg\" src=\"http://www.hdu.edu.cn/uploads/news/images/20191013/1570961719882252.jpg\" title=\"1570961719882252.jpg\"/></p><p>\\xa0\\xa0\\xa0\\xa0\\xa0 \\xa0据了解，为了让这场对接会更具成效，我校精心遴选了“数字经济”领域科技项目1023个，其中科技成果技术项目70个，可转让发明专利项目953个，涵盖装备制造、人工智能、物理通信、电力配电、大数据、无人机、芯片等关键技术。活动现场，我校带来了8个路演项目和143个现场洽谈项目，与全省153家企业进行了洽谈对接。此次对接会是“浙江省专家服务企业高质量发展专项活动”的系列活动，旨在践行省委“三服务”活动要求，精准服务企业高质量发展，为我校科研成果商业落地提供了有效平台，也是我校践行“不忘初心 牢记使命”主题教育的活动之一。（校新闻中心）</p><p style=\"text-align: center;\"><img alt=\"图片 6_meitu_6.jpg\" src=\"http://www.hdu.edu.cn/uploads/news/images/20191013/1570961733951547.jpg\" title=\"1570961733951547.jpg\"/></p> </div>\\n</div>'"
      ]
     },
     "execution_count": 104,
     "metadata": {},
     "output_type": "execute_result"
    }
   ],
   "source": [
    "htmltext = article[0].decode().replace('/uploads', 'http://www.hdu.edu.cn/uploads')\n",
    "htmltext"
   ]
  },
  {
   "cell_type": "code",
   "execution_count": 105,
   "metadata": {
    "collapsed": true,
    "jupyter": {
     "outputs_hidden": true
    }
   },
   "outputs": [
    {
     "data": {
      "text/html": [
       "<div class=\"article\">\n",
       "<div class=\"title\">\r\n",
       "                        我校专场数字经济领域人才项目路演对接会在义乌举行                    </div>\n",
       "<div style=\"float: right;color: #0056bc;font-size: 16px;\">\n",
       "</div>\n",
       "<div class=\"instr\">\r\n",
       "                        作者：admin     来源：学校新闻部1     时间：2019-10-13     点击量：14278                    </div>\n",
       "<div class=\"con\">\n",
       "<p>       10月12日下午，由省委人才办、省人力社保厅和杭州电子科技大学联合举办的浙江省专家服务企业高质量发展专项活动暨数字经济领域人才项目路演对接会在义乌举行。省人力资源和社会保障厅副厅长葛平安、杭州电子科技大学副校长吕金海、金华市委组织部副部长、人力资源和社会保障局局长褚惠斌、义乌市委常委、组织部部长何若伟、义乌市副市长贾文红等出席此次会议，我校办公室、人力资源部、宣传部、产学研合作处、机械学院等部门和学院代表及部分数字领域专家和各地企业代表参加会议。</p><p>       葛平安在致辞中提出，要在合作内容和合作形式上不断创新，要以人才带项目，以项目带人才，借高校之力服务企业，借企业之力反哺高校，各地人力社保部门积极地促进项目落地。</p><p>       吕金海表示，杭电与义乌的渊源由来已久，近年来双方在科技合作和人才培养合作方面更是互动频繁。这次杭电组织了60多位专家教授带着最新、最前沿的技术项目齐聚这里，代表着双方的合作进入了更全面、更深入、更实质的新阶段。</p><p>       何若伟指出，实现义乌高科技企业蓬勃发展的关键在科技，根本在人才。希望杭电在数字经济领域中的突出科学优势，能在义乌全球自由贸易中发挥作用。</p><p style=\"text-align: center;\"><img alt=\"图片 2_meitu_2.jpg\" src=\"http://www.hdu.edu.cn/uploads/news/images/20191013/1570961661704039.jpg\" title=\"1570961661704039.jpg\"> </img></p><p>       在与义乌市人才项目合作签约仪式上，我校机械学院和义乌研究院分别与义乌市上溪镇共同签订人才培养协议和科技服务协议，我校三位专家则与企业签订了技术合作协议。</p><p style=\"text-align: center;\"><img alt=\"图片 3_meitu_8.jpg\" src=\"http://www.hdu.edu.cn/uploads/news/images/20191013/1570962293722178.jpg\" title=\"1570962293722178.jpg\"/></p><p>       在随后的人才项目路演推介会上，我校陈科明、林志赟、吕永桂、简志华、张祥泉、徐小良、任彧、韩伟等专家分别带来了物联网、人工智能、艺术设计、大数据、材料与环境工程等领域的路演项目。</p><p style=\"text-align: center;\"><img alt=\"图片 4_meitu_4.jpg\" src=\"http://www.hdu.edu.cn/uploads/news/images/20191013/1570961707151413.jpg\" title=\"1570961707151413.jpg\"/></p><p><br/></p><p style=\"text-align: center;\"><img alt=\"图片 5_meitu_5.jpg\" src=\"http://www.hdu.edu.cn/uploads/news/images/20191013/1570961719882252.jpg\" title=\"1570961719882252.jpg\"/></p><p>       据了解，为了让这场对接会更具成效，我校精心遴选了“数字经济”领域科技项目1023个，其中科技成果技术项目70个，可转让发明专利项目953个，涵盖装备制造、人工智能、物理通信、电力配电、大数据、无人机、芯片等关键技术。活动现场，我校带来了8个路演项目和143个现场洽谈项目，与全省153家企业进行了洽谈对接。此次对接会是“浙江省专家服务企业高质量发展专项活动”的系列活动，旨在践行省委“三服务”活动要求，精准服务企业高质量发展，为我校科研成果商业落地提供了有效平台，也是我校践行“不忘初心 牢记使命”主题教育的活动之一。（校新闻中心）</p><p style=\"text-align: center;\"><img alt=\"图片 6_meitu_6.jpg\" src=\"http://www.hdu.edu.cn/uploads/news/images/20191013/1570961733951547.jpg\" title=\"1570961733951547.jpg\"/></p> </div>\n",
       "</div>"
      ],
      "text/plain": [
       "<IPython.core.display.HTML object>"
      ]
     },
     "execution_count": 105,
     "metadata": {},
     "output_type": "execute_result"
    }
   ],
   "source": [
    "HTML(htmltext)"
   ]
  },
  {
   "cell_type": "code",
   "execution_count": 93,
   "metadata": {},
   "outputs": [
    {
     "data": {
      "text/plain": [
       "bs4.element.Tag"
      ]
     },
     "execution_count": 93,
     "metadata": {},
     "output_type": "execute_result"
    }
   ],
   "source": [
    "type(article[0])"
   ]
  },
  {
   "cell_type": "code",
   "execution_count": 15,
   "metadata": {},
   "outputs": [
    {
     "name": "stdout",
     "output_type": "stream",
     "text": [
      "Help on Tag in module bs4.element object:\n",
      "\n",
      "class Tag(PageElement)\n",
      " |  Represents a found HTML tag with its attributes and contents.\n",
      " |  \n",
      " |  Method resolution order:\n",
      " |      Tag\n",
      " |      PageElement\n",
      " |      builtins.object\n",
      " |  \n",
      " |  Methods defined here:\n",
      " |  \n",
      " |  __bool__(self)\n",
      " |      A tag is non-None even if it has no contents.\n",
      " |  \n",
      " |  __call__(self, *args, **kwargs)\n",
      " |      Calling a tag like a function is the same as calling its\n",
      " |      find_all() method. Eg. tag('a') returns a list of all the A tags\n",
      " |      found within this tag.\n",
      " |  \n",
      " |  __contains__(self, x)\n",
      " |  \n",
      " |  __copy__(self)\n",
      " |      A copy of a Tag is a new Tag, unconnected to the parse tree.\n",
      " |      Its contents are a copy of the old Tag's contents.\n",
      " |  \n",
      " |  __delitem__(self, key)\n",
      " |      Deleting tag[key] deletes all 'key' attributes for the tag.\n",
      " |  \n",
      " |  __eq__(self, other)\n",
      " |      Returns true iff this tag has the same name, the same attributes,\n",
      " |      and the same contents (recursively) as the given tag.\n",
      " |  \n",
      " |  __getattr__(self, tag)\n",
      " |  \n",
      " |  __getitem__(self, key)\n",
      " |      tag[key] returns the value of the 'key' attribute for the tag,\n",
      " |      and throws an exception if it's not there.\n",
      " |  \n",
      " |  __hash__(self)\n",
      " |      Return hash(self).\n",
      " |  \n",
      " |  __init__(self, parser=None, builder=None, name=None, namespace=None, prefix=None, attrs=None, parent=None, previous=None, is_xml=None)\n",
      " |      Basic constructor.\n",
      " |  \n",
      " |  __iter__(self)\n",
      " |      Iterating over a tag iterates over its contents.\n",
      " |  \n",
      " |  __len__(self)\n",
      " |      The length of a tag is the length of its list of contents.\n",
      " |  \n",
      " |  __ne__(self, other)\n",
      " |      Returns true iff this tag is not identical to the other tag,\n",
      " |      as defined in __eq__.\n",
      " |  \n",
      " |  __repr__ = __unicode__(self)\n",
      " |  \n",
      " |  __setitem__(self, key, value)\n",
      " |      Setting tag[key] sets the value of the 'key' attribute for the\n",
      " |      tag.\n",
      " |  \n",
      " |  __str__ = __unicode__(self)\n",
      " |  \n",
      " |  __unicode__(self)\n",
      " |  \n",
      " |  childGenerator(self)\n",
      " |      # Old names for backwards compatibility\n",
      " |  \n",
      " |  clear(self, decompose=False)\n",
      " |      Extract all children. If decompose is True, decompose instead.\n",
      " |  \n",
      " |  decode(self, indent_level=None, eventual_encoding='utf-8', formatter='minimal')\n",
      " |      Returns a Unicode representation of this tag and its contents.\n",
      " |      \n",
      " |      :param eventual_encoding: The tag is destined to be\n",
      " |         encoded into this encoding. This method is _not_\n",
      " |         responsible for performing that encoding. This information\n",
      " |         is passed in so that it can be substituted in if the\n",
      " |         document contains a <META> tag that mentions the document's\n",
      " |         encoding.\n",
      " |  \n",
      " |  decode_contents(self, indent_level=None, eventual_encoding='utf-8', formatter='minimal')\n",
      " |      Renders the contents of this tag as a Unicode string.\n",
      " |      \n",
      " |      :param indent_level: Each line of the rendering will be\n",
      " |         indented this many spaces.\n",
      " |      \n",
      " |      :param eventual_encoding: The tag is destined to be\n",
      " |         encoded into this encoding. This method is _not_\n",
      " |         responsible for performing that encoding. This information\n",
      " |         is passed in so that it can be substituted in if the\n",
      " |         document contains a <META> tag that mentions the document's\n",
      " |         encoding.\n",
      " |      \n",
      " |      :param formatter: The output formatter responsible for converting\n",
      " |         entities to Unicode characters.\n",
      " |  \n",
      " |  decompose(self)\n",
      " |      Recursively destroys the contents of this tree.\n",
      " |  \n",
      " |  encode(self, encoding='utf-8', indent_level=None, formatter='minimal', errors='xmlcharrefreplace')\n",
      " |  \n",
      " |  encode_contents(self, indent_level=None, encoding='utf-8', formatter='minimal')\n",
      " |      Renders the contents of this tag as a bytestring.\n",
      " |      \n",
      " |      :param indent_level: Each line of the rendering will be\n",
      " |         indented this many spaces.\n",
      " |      \n",
      " |      :param eventual_encoding: The bytestring will be in this encoding.\n",
      " |      \n",
      " |      :param formatter: The output formatter responsible for converting\n",
      " |         entities to Unicode characters.\n",
      " |  \n",
      " |  find(self, name=None, attrs={}, recursive=True, text=None, **kwargs)\n",
      " |      Return only the first child of this Tag matching the given\n",
      " |      criteria.\n",
      " |  \n",
      " |  findAll = find_all(self, name=None, attrs={}, recursive=True, text=None, limit=None, **kwargs)\n",
      " |  \n",
      " |  findChild = find(self, name=None, attrs={}, recursive=True, text=None, **kwargs)\n",
      " |  \n",
      " |  findChildren = find_all(self, name=None, attrs={}, recursive=True, text=None, limit=None, **kwargs)\n",
      " |  \n",
      " |  find_all(self, name=None, attrs={}, recursive=True, text=None, limit=None, **kwargs)\n",
      " |      Extracts a list of Tag objects that match the given\n",
      " |      criteria.  You can specify the name of the Tag and any\n",
      " |      attributes you want the Tag to have.\n",
      " |      \n",
      " |      The value of a key-value pair in the 'attrs' map can be a\n",
      " |      string, a list of strings, a regular expression object, or a\n",
      " |      callable that takes a string and returns whether or not the\n",
      " |      string matches for some custom definition of 'matches'. The\n",
      " |      same is true of the tag name.\n",
      " |  \n",
      " |  get(self, key, default=None)\n",
      " |      Returns the value of the 'key' attribute for the tag, or\n",
      " |      the value given for 'default' if it doesn't have that\n",
      " |      attribute.\n",
      " |  \n",
      " |  getText = get_text(self, separator='', strip=False, types=(<class 'bs4.element.NavigableString'>, <class 'bs4.element.CData'>))\n",
      " |  \n",
      " |  get_attribute_list(self, key, default=None)\n",
      " |      The same as get(), but always returns a list.\n",
      " |  \n",
      " |  get_text(self, separator='', strip=False, types=(<class 'bs4.element.NavigableString'>, <class 'bs4.element.CData'>))\n",
      " |      Get all child strings, concatenated using the given separator.\n",
      " |  \n",
      " |  has_attr(self, key)\n",
      " |  \n",
      " |  has_key(self, key)\n",
      " |      This was kind of misleading because has_key() (attributes)\n",
      " |      was different from __in__ (contents). has_key() is gone in\n",
      " |      Python 3, anyway.\n",
      " |  \n",
      " |  index(self, element)\n",
      " |      Find the index of a child by identity, not value. Avoids issues with\n",
      " |      tag.contents.index(element) getting the index of equal elements.\n",
      " |  \n",
      " |  prettify(self, encoding=None, formatter='minimal')\n",
      " |  \n",
      " |  recursiveChildGenerator(self)\n",
      " |  \n",
      " |  renderContents(self, encoding='utf-8', prettyPrint=False, indentLevel=0)\n",
      " |      # Old method for BS3 compatibility\n",
      " |  \n",
      " |  select(self, selector, _candidate_generator=None, limit=None)\n",
      " |      Perform a CSS selection operation on the current element.\n",
      " |  \n",
      " |  select_one(self, selector)\n",
      " |      Perform a CSS selection operation on the current element.\n",
      " |  \n",
      " |  ----------------------------------------------------------------------\n",
      " |  Data descriptors defined here:\n",
      " |  \n",
      " |  children\n",
      " |  \n",
      " |  descendants\n",
      " |  \n",
      " |  isSelfClosing\n",
      " |      Is this tag an empty-element tag? (aka a self-closing tag)\n",
      " |      \n",
      " |      A tag that has contents is never an empty-element tag.\n",
      " |      \n",
      " |      A tag that has no contents may or may not be an empty-element\n",
      " |      tag. It depends on the builder used to create the tag. If the\n",
      " |      builder has a designated list of empty-element tags, then only\n",
      " |      a tag whose name shows up in that list is considered an\n",
      " |      empty-element tag.\n",
      " |      \n",
      " |      If the builder has no designated list of empty-element tags,\n",
      " |      then any tag with no contents is an empty-element tag.\n",
      " |  \n",
      " |  is_empty_element\n",
      " |      Is this tag an empty-element tag? (aka a self-closing tag)\n",
      " |      \n",
      " |      A tag that has contents is never an empty-element tag.\n",
      " |      \n",
      " |      A tag that has no contents may or may not be an empty-element\n",
      " |      tag. It depends on the builder used to create the tag. If the\n",
      " |      builder has a designated list of empty-element tags, then only\n",
      " |      a tag whose name shows up in that list is considered an\n",
      " |      empty-element tag.\n",
      " |      \n",
      " |      If the builder has no designated list of empty-element tags,\n",
      " |      then any tag with no contents is an empty-element tag.\n",
      " |  \n",
      " |  parserClass\n",
      " |  \n",
      " |  string\n",
      " |      Convenience property to get the single string within this tag.\n",
      " |      \n",
      " |      :Return: If this tag has a single string child, return value\n",
      " |       is that string. If this tag has no children, or more than one\n",
      " |       child, return value is None. If this tag has one child tag,\n",
      " |       return value is the 'string' attribute of the child tag,\n",
      " |       recursively.\n",
      " |  \n",
      " |  strings\n",
      " |      Yield all strings of certain classes, possibly stripping them.\n",
      " |      \n",
      " |      By default, yields only NavigableString and CData objects. So\n",
      " |      no comments, processing instructions, etc.\n",
      " |  \n",
      " |  stripped_strings\n",
      " |  \n",
      " |  text\n",
      " |      Get all child strings, concatenated using the given separator.\n",
      " |  \n",
      " |  ----------------------------------------------------------------------\n",
      " |  Data and other attributes defined here:\n",
      " |  \n",
      " |  quoted_colon = re.compile('\"[^\"]*:[^\"]*\"')\n",
      " |  \n",
      " |  ----------------------------------------------------------------------\n",
      " |  Methods inherited from PageElement:\n",
      " |  \n",
      " |  append(self, tag)\n",
      " |      Appends the given tag to the contents of this tag.\n",
      " |  \n",
      " |  extract(self)\n",
      " |      Destructively rips this element out of the tree.\n",
      " |  \n",
      " |  fetchNextSiblings = find_next_siblings(self, name=None, attrs={}, text=None, limit=None, **kwargs)\n",
      " |      Returns the siblings of this Tag that match the given\n",
      " |      criteria and appear after this Tag in the document.\n",
      " |  \n",
      " |  fetchParents = find_parents(self, name=None, attrs={}, limit=None, **kwargs)\n",
      " |      Returns the parents of this Tag that match the given\n",
      " |      criteria.\n",
      " |  \n",
      " |  fetchPrevious = find_all_previous(self, name=None, attrs={}, text=None, limit=None, **kwargs)\n",
      " |      Returns all items that match the given criteria and appear\n",
      " |      before this Tag in the document.\n",
      " |  \n",
      " |  fetchPreviousSiblings = find_previous_siblings(self, name=None, attrs={}, text=None, limit=None, **kwargs)\n",
      " |      Returns the siblings of this Tag that match the given\n",
      " |      criteria and appear before this Tag in the document.\n",
      " |  \n",
      " |  findAllNext = find_all_next(self, name=None, attrs={}, text=None, limit=None, **kwargs)\n",
      " |      Returns all items that match the given criteria and appear\n",
      " |      after this Tag in the document.\n",
      " |  \n",
      " |  findAllPrevious = find_all_previous(self, name=None, attrs={}, text=None, limit=None, **kwargs)\n",
      " |      Returns all items that match the given criteria and appear\n",
      " |      before this Tag in the document.\n",
      " |  \n",
      " |  findNext = find_next(self, name=None, attrs={}, text=None, **kwargs)\n",
      " |      Returns the first item that matches the given criteria and\n",
      " |      appears after this Tag in the document.\n",
      " |  \n",
      " |  findNextSibling = find_next_sibling(self, name=None, attrs={}, text=None, **kwargs)\n",
      " |      Returns the closest sibling to this Tag that matches the\n",
      " |      given criteria and appears after this Tag in the document.\n",
      " |  \n",
      " |  findNextSiblings = find_next_siblings(self, name=None, attrs={}, text=None, limit=None, **kwargs)\n",
      " |      Returns the siblings of this Tag that match the given\n",
      " |      criteria and appear after this Tag in the document.\n",
      " |  \n",
      " |  findParent = find_parent(self, name=None, attrs={}, **kwargs)\n",
      " |      Returns the closest parent of this Tag that matches the given\n",
      " |      criteria.\n",
      " |  \n",
      " |  findParents = find_parents(self, name=None, attrs={}, limit=None, **kwargs)\n",
      " |      Returns the parents of this Tag that match the given\n",
      " |      criteria.\n",
      " |  \n",
      " |  findPrevious = find_previous(self, name=None, attrs={}, text=None, **kwargs)\n",
      " |      Returns the first item that matches the given criteria and\n",
      " |      appears before this Tag in the document.\n",
      " |  \n",
      " |  findPreviousSibling = find_previous_sibling(self, name=None, attrs={}, text=None, **kwargs)\n",
      " |      Returns the closest sibling to this Tag that matches the\n",
      " |      given criteria and appears before this Tag in the document.\n",
      " |  \n",
      " |  findPreviousSiblings = find_previous_siblings(self, name=None, attrs={}, text=None, limit=None, **kwargs)\n",
      " |      Returns the siblings of this Tag that match the given\n",
      " |      criteria and appear before this Tag in the document.\n",
      " |  \n",
      " |  find_all_next(self, name=None, attrs={}, text=None, limit=None, **kwargs)\n",
      " |      Returns all items that match the given criteria and appear\n",
      " |      after this Tag in the document.\n",
      " |  \n",
      " |  find_all_previous(self, name=None, attrs={}, text=None, limit=None, **kwargs)\n",
      " |      Returns all items that match the given criteria and appear\n",
      " |      before this Tag in the document.\n",
      " |  \n",
      " |  find_next(self, name=None, attrs={}, text=None, **kwargs)\n",
      " |      Returns the first item that matches the given criteria and\n",
      " |      appears after this Tag in the document.\n",
      " |  \n",
      " |  find_next_sibling(self, name=None, attrs={}, text=None, **kwargs)\n",
      " |      Returns the closest sibling to this Tag that matches the\n",
      " |      given criteria and appears after this Tag in the document.\n",
      " |  \n",
      " |  find_next_siblings(self, name=None, attrs={}, text=None, limit=None, **kwargs)\n",
      " |      Returns the siblings of this Tag that match the given\n",
      " |      criteria and appear after this Tag in the document.\n",
      " |  \n",
      " |  find_parent(self, name=None, attrs={}, **kwargs)\n",
      " |      Returns the closest parent of this Tag that matches the given\n",
      " |      criteria.\n",
      " |  \n",
      " |  find_parents(self, name=None, attrs={}, limit=None, **kwargs)\n",
      " |      Returns the parents of this Tag that match the given\n",
      " |      criteria.\n",
      " |  \n",
      " |  find_previous(self, name=None, attrs={}, text=None, **kwargs)\n",
      " |      Returns the first item that matches the given criteria and\n",
      " |      appears before this Tag in the document.\n",
      " |  \n",
      " |  find_previous_sibling(self, name=None, attrs={}, text=None, **kwargs)\n",
      " |      Returns the closest sibling to this Tag that matches the\n",
      " |      given criteria and appears before this Tag in the document.\n",
      " |  \n",
      " |  find_previous_siblings(self, name=None, attrs={}, text=None, limit=None, **kwargs)\n",
      " |      Returns the siblings of this Tag that match the given\n",
      " |      criteria and appear before this Tag in the document.\n",
      " |  \n",
      " |  format_string(self, s, formatter='minimal')\n",
      " |      Format the given string using the given formatter.\n",
      " |  \n",
      " |  insert(self, position, new_child)\n",
      " |  \n",
      " |  insert_after(self, successor)\n",
      " |      Makes the given element the immediate successor of this one.\n",
      " |      \n",
      " |      The two elements will have the same parent, and the given element\n",
      " |      will be immediately after this one.\n",
      " |  \n",
      " |  insert_before(self, predecessor)\n",
      " |      Makes the given element the immediate predecessor of this one.\n",
      " |      \n",
      " |      The two elements will have the same parent, and the given element\n",
      " |      will be immediately before this one.\n",
      " |  \n",
      " |  nextGenerator(self)\n",
      " |      # Old non-property versions of the generators, for backwards\n",
      " |      # compatibility with BS3.\n",
      " |  \n",
      " |  nextSiblingGenerator(self)\n",
      " |  \n",
      " |  parentGenerator(self)\n",
      " |  \n",
      " |  previousGenerator(self)\n",
      " |  \n",
      " |  previousSiblingGenerator(self)\n",
      " |  \n",
      " |  replaceWith = replace_with(self, replace_with)\n",
      " |  \n",
      " |  replaceWithChildren = unwrap(self)\n",
      " |  \n",
      " |  replace_with(self, replace_with)\n",
      " |  \n",
      " |  replace_with_children = unwrap(self)\n",
      " |  \n",
      " |  setup(self, parent=None, previous_element=None, next_element=None, previous_sibling=None, next_sibling=None)\n",
      " |      Sets up the initial relations between this element and\n",
      " |      other elements.\n",
      " |  \n",
      " |  unwrap(self)\n",
      " |  \n",
      " |  wrap(self, wrap_inside)\n",
      " |  \n",
      " |  ----------------------------------------------------------------------\n",
      " |  Data descriptors inherited from PageElement:\n",
      " |  \n",
      " |  __dict__\n",
      " |      dictionary for instance variables (if defined)\n",
      " |  \n",
      " |  __weakref__\n",
      " |      list of weak references to the object (if defined)\n",
      " |  \n",
      " |  next\n",
      " |  \n",
      " |  nextSibling\n",
      " |  \n",
      " |  next_elements\n",
      " |  \n",
      " |  next_siblings\n",
      " |  \n",
      " |  parents\n",
      " |  \n",
      " |  previous\n",
      " |  \n",
      " |  previousSibling\n",
      " |  \n",
      " |  previous_elements\n",
      " |  \n",
      " |  previous_siblings\n",
      " |  \n",
      " |  ----------------------------------------------------------------------\n",
      " |  Data and other attributes inherited from PageElement:\n",
      " |  \n",
      " |  HTML_FORMATTERS = {'html': <bound method HTMLAwareEntitySubstitution.s...\n",
      " |  \n",
      " |  XML_FORMATTERS = {'html': <bound method EntitySubstitution.substitute_...\n",
      " |  \n",
      " |  attribselect_re = re.compile('^(?P<tag>[a-zA-Z0-9][-.a-zA-Z0-9:_]*...[...\n",
      " |  \n",
      " |  tag_name_re = re.compile('^[a-zA-Z0-9][-.a-zA-Z0-9:_]*$')\n",
      "\n"
     ]
    }
   ],
   "source": [
    "help(article[0])"
   ]
  },
  {
   "cell_type": "code",
   "execution_count": 94,
   "metadata": {},
   "outputs": [
    {
     "data": {
      "text/plain": [
       "<div class=\"title\">\n",
       "                        我校专场数字经济领域人才项目路演对接会在义乌举行                    </div>"
      ]
     },
     "execution_count": 94,
     "metadata": {},
     "output_type": "execute_result"
    }
   ],
   "source": [
    "article[0].find('div')    "
   ]
  },
  {
   "cell_type": "code",
   "execution_count": 95,
   "metadata": {},
   "outputs": [
    {
     "data": {
      "text/plain": [
       "'\\n\\r\\n                        我校专场数字经济领域人才项目路演对接会在义乌举行                    \\n\\n\\n\\r\\n                        作者：admin     来源：学校新闻部1     时间：2019-10-13     点击量：14278                    \\n\\n\\xa0\\xa0\\xa0\\xa0\\xa0 \\xa010月12日下午，由省委人才办、省人力社保厅和杭州电子科技大学联合举办的浙江省专家服务企业高质量发展专项活动暨数字经济领域人才项目路演对接会在义乌举行。省人力资源和社会保障厅副厅长葛平安、杭州电子科技大学副校长吕金海、金华市委组织部副部长、人力资源和社会保障局局长褚惠斌、义乌市委常委、组织部部长何若伟、义乌市副市长贾文红等出席此次会议，我校办公室、人力资源部、宣传部、产学研合作处、机械学院等部门和学院代表及部分数字领域专家和各地企业代表参加会议。\\xa0 \\xa0 \\xa0 \\xa0葛平安在致辞中提出，要在合作内容和合作形式上不断创新，要以人才带项目，以项目带人才，借高校之力服务企业，借企业之力反哺高校，各地人力社保部门积极地促进项目落地。\\xa0\\xa0\\xa0\\xa0\\xa0 \\xa0吕金海表示，杭电与义乌的渊源由来已久，近年来双方在科技合作和人才培养合作方面更是互动频繁。这次杭电组织了60多位专家教授带着最新、最前沿的技术项目齐聚这里，代表着双方的合作进入了更全面、更深入、更实质的新阶段。\\xa0\\xa0\\xa0\\xa0\\xa0 \\xa0何若伟指出，实现义乌高科技企业蓬勃发展的关键在科技，根本在人才。希望杭电在数字经济领域中的突出科学优势，能在义乌全球自由贸易中发挥作用。\\xa0\\xa0\\xa0\\xa0\\xa0\\xa0 \\xa0在与义乌市人才项目合作签约仪式上，我校机械学院和义乌研究院分别与义乌市上溪镇共同签订人才培养协议和科技服务协议，我校三位专家则与企业签订了技术合作协议。\\xa0\\xa0\\xa0\\xa0\\xa0 \\xa0在随后的人才项目路演推介会上，我校陈科明、林志赟、吕永桂、简志华、张祥泉、徐小良、任彧、韩伟等专家分别带来了物联网、人工智能、艺术设计、大数据、材料与环境工程等领域的路演项目。\\xa0\\xa0\\xa0\\xa0\\xa0 \\xa0据了解，为了让这场对接会更具成效，我校精心遴选了“数字经济”领域科技项目1023个，其中科技成果技术项目70个，可转让发明专利项目953个，涵盖装备制造、人工智能、物理通信、电力配电、大数据、无人机、芯片等关键技术。活动现场，我校带来了8个路演项目和143个现场洽谈项目，与全省153家企业进行了洽谈对接。此次对接会是“浙江省专家服务企业高质量发展专项活动”的系列活动，旨在践行省委“三服务”活动要求，精准服务企业高质量发展，为我校科研成果商业落地提供了有效平台，也是我校践行“不忘初心 牢记使命”主题教育的活动之一。（校新闻中心） \\n'"
      ]
     },
     "execution_count": 95,
     "metadata": {},
     "output_type": "execute_result"
    }
   ],
   "source": [
    "article[0].text"
   ]
  },
  {
   "cell_type": "code",
   "execution_count": 96,
   "metadata": {},
   "outputs": [
    {
     "name": "stdout",
     "output_type": "stream",
     "text": [
      "\n",
      "\n",
      "                        我校专场数字经济领域人才项目路演对接会在义乌举行                    \n",
      "\n",
      "\n",
      "\n",
      "                        作者：admin     来源：学校新闻部1     时间：2019-10-13     点击量：14278                    \n",
      "\n",
      "       10月12日下午，由省委人才办、省人力社保厅和杭州电子科技大学联合举办的浙江省专家服务企业高质量发展专项活动暨数字经济领域人才项目路演对接会在义乌举行。省人力资源和社会保障厅副厅长葛平安、杭州电子科技大学副校长吕金海、金华市委组织部副部长、人力资源和社会保障局局长褚惠斌、义乌市委常委、组织部部长何若伟、义乌市副市长贾文红等出席此次会议，我校办公室、人力资源部、宣传部、产学研合作处、机械学院等部门和学院代表及部分数字领域专家和各地企业代表参加会议。       葛平安在致辞中提出，要在合作内容和合作形式上不断创新，要以人才带项目，以项目带人才，借高校之力服务企业，借企业之力反哺高校，各地人力社保部门积极地促进项目落地。       吕金海表示，杭电与义乌的渊源由来已久，近年来双方在科技合作和人才培养合作方面更是互动频繁。这次杭电组织了60多位专家教授带着最新、最前沿的技术项目齐聚这里，代表着双方的合作进入了更全面、更深入、更实质的新阶段。       何若伟指出，实现义乌高科技企业蓬勃发展的关键在科技，根本在人才。希望杭电在数字经济领域中的突出科学优势，能在义乌全球自由贸易中发挥作用。        在与义乌市人才项目合作签约仪式上，我校机械学院和义乌研究院分别与义乌市上溪镇共同签订人才培养协议和科技服务协议，我校三位专家则与企业签订了技术合作协议。       在随后的人才项目路演推介会上，我校陈科明、林志赟、吕永桂、简志华、张祥泉、徐小良、任彧、韩伟等专家分别带来了物联网、人工智能、艺术设计、大数据、材料与环境工程等领域的路演项目。       据了解，为了让这场对接会更具成效，我校精心遴选了“数字经济”领域科技项目1023个，其中科技成果技术项目70个，可转让发明专利项目953个，涵盖装备制造、人工智能、物理通信、电力配电、大数据、无人机、芯片等关键技术。活动现场，我校带来了8个路演项目和143个现场洽谈项目，与全省153家企业进行了洽谈对接。此次对接会是“浙江省专家服务企业高质量发展专项活动”的系列活动，旨在践行省委“三服务”活动要求，精准服务企业高质量发展，为我校科研成果商业落地提供了有效平台，也是我校践行“不忘初心 牢记使命”主题教育的活动之一。（校新闻中心） \n",
      "\n"
     ]
    }
   ],
   "source": [
    "print(article[0].text)"
   ]
  },
  {
   "cell_type": "code",
   "execution_count": null,
   "metadata": {},
   "outputs": [],
   "source": []
  }
 ],
 "metadata": {
  "kernelspec": {
   "display_name": "Python 3",
   "language": "python",
   "name": "python3"
  },
  "language_info": {
   "codemirror_mode": {
    "name": "ipython",
    "version": 3
   },
   "file_extension": ".py",
   "mimetype": "text/x-python",
   "name": "python",
   "nbconvert_exporter": "python",
   "pygments_lexer": "ipython3",
   "version": "3.7.4"
  }
 },
 "nbformat": 4,
 "nbformat_minor": 4
}

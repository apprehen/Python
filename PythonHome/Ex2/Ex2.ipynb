{
 "cells": [
  {
   "cell_type": "markdown",
   "metadata": {},
   "source": [
    "## 第2章 Python序列"
   ]
  },
  {
   "cell_type": "markdown",
   "metadata": {},
   "source": [
    "* 序列是程序设计中经常用到的数据存储方式，几乎每一种程序设计语言都提供了类似的数据结构，如C和Basic中的一维、多维数组等。\n",
    "* Python提供的序列类型在所有程序设计语言中是最丰富，最灵活，也是功能最强大的。\n",
    "* 序列是一系列连续值，它们通常是相关的，并且按一定顺序排列。\n",
    "* Python中常用的序列结构有列表、元组、字典、字符串、集合以及range等等。\n",
    "* 除字典和集合之外，列表、元组、字符串等序列均支持双向索引，第一个元素下标为0，第二个元素下标为1，以此类推；最后一个元素下标为-1，倒数第二个元素下标为-2，以此类推。\n"
   ]
  },
  {
   "cell_type": "markdown",
   "metadata": {},
   "source": [
    "## 2.1  列表\n",
    "* 列表是Python中内置可变序列，是若干元素的有序集合，列表中的每一个数据称为元素，列表的所有元素放在一对中括号“[”和“]”中，并使用逗号分隔开；\n",
    "* 当列表元素增加或删除时，列表对象自动进行扩展或收缩内存，保证元素之间没有缝隙；\n",
    "* 在Python中，一个列表中的数据类型可以各不相同，可以同时分别为整数、实数、字符串等基本类型，甚至是列表、元组、字典、集合以及其他自定义类型的对象。例如："
   ]
  },
  {
   "cell_type": "code",
   "execution_count": null,
   "metadata": {
    "collapsed": false
   },
   "outputs": [],
   "source": [
    "a = [10, 20, 30, 40]"
   ]
  },
  {
   "cell_type": "code",
   "execution_count": null,
   "metadata": {
    "collapsed": false
   },
   "outputs": [],
   "source": [
    "['crunchy frog', 'ram bladder', 'lark vomit']"
   ]
  },
  {
   "cell_type": "code",
   "execution_count": null,
   "metadata": {
    "collapsed": false
   },
   "outputs": [],
   "source": [
    "['spam', 2.0, 5, [10, 20]]"
   ]
  },
  {
   "cell_type": "code",
   "execution_count": null,
   "metadata": {
    "collapsed": false
   },
   "outputs": [],
   "source": [
    "b=[['file1', 200,7], ['file2', 260,9]]"
   ]
  },
  {
   "cell_type": "code",
   "execution_count": null,
   "metadata": {
    "collapsed": false
   },
   "outputs": [],
   "source": [
    "b[0][-1]"
   ]
  },
  {
   "cell_type": "markdown",
   "metadata": {},
   "source": [
    "### 列表方法，见ppt"
   ]
  },
  {
   "cell_type": "markdown",
   "metadata": {},
   "source": [
    "## 2.1.1 列表创建与删除\n",
    "* 使用“=”直接将一个列表赋值给变量即可创建列表对象\n",
    "* 也可以使用list()函数将元组、range对象、字符串或其他类型的可迭代对象类型的数据转换为列表。"
   ]
  },
  {
   "cell_type": "code",
   "execution_count": null,
   "metadata": {
    "collapsed": false
   },
   "outputs": [],
   "source": [
    "a_list = ['a', 'b', 'mpilgrim', 'z', 'example']\n",
    "a_list"
   ]
  },
  {
   "cell_type": "code",
   "execution_count": null,
   "metadata": {
    "collapsed": true
   },
   "outputs": [],
   "source": [
    "a_list = [] #创建空列表"
   ]
  },
  {
   "cell_type": "code",
   "execution_count": null,
   "metadata": {
    "collapsed": false
   },
   "outputs": [],
   "source": [
    "type((3,5,7,9,11))"
   ]
  },
  {
   "cell_type": "code",
   "execution_count": null,
   "metadata": {
    "collapsed": false
   },
   "outputs": [],
   "source": [
    "a_list = list((3,5,7,9,11))\n",
    "a_list"
   ]
  },
  {
   "cell_type": "code",
   "execution_count": null,
   "metadata": {
    "collapsed": false
   },
   "outputs": [],
   "source": [
    "a_list"
   ]
  },
  {
   "cell_type": "code",
   "execution_count": null,
   "metadata": {
    "collapsed": false
   },
   "outputs": [],
   "source": [
    "range(1,10,2)"
   ]
  },
  {
   "cell_type": "code",
   "execution_count": null,
   "metadata": {
    "collapsed": false
   },
   "outputs": [],
   "source": [
    "list(range(1,10,2))"
   ]
  },
  {
   "cell_type": "code",
   "execution_count": null,
   "metadata": {
    "collapsed": false
   },
   "outputs": [],
   "source": [
    "list('hello world')"
   ]
  },
  {
   "cell_type": "code",
   "execution_count": null,
   "metadata": {
    "collapsed": true
   },
   "outputs": [],
   "source": [
    "x = list() #创建空列表"
   ]
  },
  {
   "cell_type": "code",
   "execution_count": null,
   "metadata": {
    "collapsed": false
   },
   "outputs": [],
   "source": [
    "type(x)"
   ]
  },
  {
   "cell_type": "markdown",
   "metadata": {},
   "source": [
    "## 2.1.3 列表的遍历\n",
    "> for x in a_list"
   ]
  },
  {
   "cell_type": "code",
   "execution_count": null,
   "metadata": {
    "collapsed": false
   },
   "outputs": [],
   "source": [
    "a_list = ['a', 'b', 'mpilgrim', 'z', 'example']\n",
    "for a in a_list:\n",
    "    print(a, end=' ')\n",
    "    print('--', end='')"
   ]
  },
  {
   "cell_type": "code",
   "execution_count": null,
   "metadata": {
    "collapsed": false
   },
   "outputs": [],
   "source": [
    "dogs = ['border collie', 'australian cattle dog', 'labrador retriever']\n",
    "\n",
    "for dog in dogs:\n",
    "    print('I like ' + dog + 's.')\n",
    "    print('No, I really really like ' + dog +'s!\\n')\n",
    "    \n",
    "print(\"\\nThat's just how I feel about dogs.\")"
   ]
  },
  {
   "cell_type": "markdown",
   "metadata": {},
   "source": [
    "##### 练习：\n",
    "将你喜欢的水果放入列表变量，然后遍历列表变量，对其中的每一个水果XX，输出\"我喜欢XX\""
   ]
  },
  {
   "cell_type": "code",
   "execution_count": null,
   "metadata": {
    "collapsed": false
   },
   "outputs": [],
   "source": [
    "fruits = ['香蕉', '苹果', 'labrador retriever']\n",
    "\n",
    "for fruit in fruits:\n",
    "    print('I like ' + fruit + 's.')"
   ]
  },
  {
   "cell_type": "markdown",
   "metadata": {},
   "source": [
    "## 2.1.1 列表创建与删除"
   ]
  },
  {
   "cell_type": "markdown",
   "metadata": {},
   "source": [
    "内置函数range()该函数语法为：  \n",
    "range([start,] stop[, step])  \n",
    "内置函数range()接收3个参数，第一个参数表示起始值（默认为0），第二个参数表示终止值（结果中不包括这个值），第三个参数表示步长（默认为1），该函数在Python 3.x中返回一个range可迭代对象，在Python 2.x中返回一个包含若干整数的列表。见ppt"
   ]
  },
  {
   "cell_type": "code",
   "execution_count": null,
   "metadata": {
    "collapsed": false
   },
   "outputs": [],
   "source": [
    "list(range(10))"
   ]
  },
  {
   "cell_type": "code",
   "execution_count": null,
   "metadata": {
    "collapsed": false
   },
   "outputs": [],
   "source": [
    "# Python2 only\n",
    "xrange(10)"
   ]
  },
  {
   "cell_type": "code",
   "execution_count": null,
   "metadata": {
    "collapsed": false
   },
   "outputs": [],
   "source": [
    "set(range(10))"
   ]
  },
  {
   "cell_type": "code",
   "execution_count": null,
   "metadata": {
    "collapsed": false
   },
   "outputs": [],
   "source": [
    "%%timeit -r 1 -n 1\n",
    "for j in range(100000000):\n",
    "    1+1"
   ]
  },
  {
   "cell_type": "markdown",
   "metadata": {},
   "source": [
    "当不再使用时，使用del命令删除整个列表，如果列表对象所指向的值不再有其他对象指向，Python将同时删除该值。"
   ]
  },
  {
   "cell_type": "code",
   "execution_count": null,
   "metadata": {
    "collapsed": false
   },
   "outputs": [],
   "source": [
    "a_list"
   ]
  },
  {
   "cell_type": "code",
   "execution_count": null,
   "metadata": {
    "collapsed": true
   },
   "outputs": [],
   "source": [
    "del a_list"
   ]
  },
  {
   "cell_type": "code",
   "execution_count": null,
   "metadata": {
    "collapsed": false
   },
   "outputs": [],
   "source": [
    "a_list"
   ]
  },
  {
   "cell_type": "markdown",
   "metadata": {},
   "source": [
    "### 2.1.2 列表元素的增加  \n",
    "1. 可以使用“+”运算符来实现将元素添加到列表中的功能。虽然这种用法在形式上比较简单也容易理解，但严格意义上来讲，这并不是真的为列表添加元素，而是创建一个新列表，并将原列表中的元素和新元素依次复制到新列表的内存空间。由于涉及大量元素的复制，该操作速度较慢，在涉及大量元素添加时不建议使用该方法。  \n",
    "1. 使用列表对象的append()方法，原地修改列表，是真正意义上的在列表尾部添加元素，速度较快，也是推荐使用的方法。"
   ]
  },
  {
   "cell_type": "code",
   "execution_count": null,
   "metadata": {
    "collapsed": false,
    "scrolled": true
   },
   "outputs": [],
   "source": [
    "aList = [3, 4, 5, 7]\n",
    "id(aList)"
   ]
  },
  {
   "cell_type": "code",
   "execution_count": null,
   "metadata": {
    "collapsed": false
   },
   "outputs": [],
   "source": [
    "aList = aList + [9]\n",
    "id(aList)"
   ]
  },
  {
   "cell_type": "code",
   "execution_count": null,
   "metadata": {
    "collapsed": false
   },
   "outputs": [],
   "source": [
    "aList.append(10)\n",
    "id(aList)"
   ]
  },
  {
   "cell_type": "markdown",
   "metadata": {},
   "source": [
    "为了比较“+”和append()这两种方法的速度差异，请看以下代码："
   ]
  },
  {
   "cell_type": "code",
   "execution_count": null,
   "metadata": {
    "collapsed": false
   },
   "outputs": [],
   "source": [
    "%%timeit -n 1 -r 1\n",
    "result = []\n",
    "for i in range(100000):\n",
    "    result = result + [i]"
   ]
  },
  {
   "cell_type": "code",
   "execution_count": null,
   "metadata": {
    "collapsed": false
   },
   "outputs": [],
   "source": [
    "%%timeit -n 1 -r 1\n",
    "result = []\n",
    "for i in range(100000):\n",
    "    result.append(i)"
   ]
  },
  {
   "cell_type": "markdown",
   "metadata": {},
   "source": [
    "Python采用的是基于值的自动内存管理方式，当为对象修改值时，并不是真的直接修改变量的值，而是使变量指向新的值，这对于Python所有类型的变量都是一样的。"
   ]
  },
  {
   "cell_type": "code",
   "execution_count": null,
   "metadata": {
    "collapsed": false
   },
   "outputs": [],
   "source": [
    "a = [1,2,3]\n",
    "b = a\n",
    "b[1] = 5\n",
    "print(a)"
   ]
  },
  {
   "cell_type": "code",
   "execution_count": null,
   "metadata": {
    "collapsed": false
   },
   "outputs": [],
   "source": [
    "a = [1,2,3]\n",
    "id(a)"
   ]
  },
  {
   "cell_type": "code",
   "execution_count": null,
   "metadata": {
    "collapsed": false,
    "scrolled": true
   },
   "outputs": [],
   "source": [
    "b = a\n",
    "id(b)"
   ]
  },
  {
   "cell_type": "code",
   "execution_count": null,
   "metadata": {
    "collapsed": false
   },
   "outputs": [],
   "source": [
    "b[1] = 5\n",
    "a"
   ]
  },
  {
   "cell_type": "code",
   "execution_count": null,
   "metadata": {
    "collapsed": false
   },
   "outputs": [],
   "source": [
    "b = list(a)\n",
    "id(b)"
   ]
  },
  {
   "cell_type": "code",
   "execution_count": null,
   "metadata": {
    "collapsed": true
   },
   "outputs": [],
   "source": [
    "b[0] = 9"
   ]
  },
  {
   "cell_type": "code",
   "execution_count": null,
   "metadata": {
    "collapsed": false
   },
   "outputs": [],
   "source": [
    "a"
   ]
  },
  {
   "cell_type": "markdown",
   "metadata": {},
   "source": [
    "对于列表、集合、字典等可变序列类型而言，情况稍微复杂一些。以列表为例，列表中包含的是元素值的引用，而不是直接包含元素值。如果是直接修改序列变量的值，则与Python普通变量的情况是一样的，而如果是通过下标来修改序列中元素的值或通过可变序列对象自身提供的方法来增加和删除元素时，序列对象在内存中的起始地址是不变的，仅仅是被改变值的元素地址发生变化。"
   ]
  },
  {
   "cell_type": "code",
   "execution_count": null,
   "metadata": {
    "collapsed": false
   },
   "outputs": [],
   "source": [
    "a = [1,2,4]\n",
    "b = [1,2,3]\n",
    "a == b"
   ]
  },
  {
   "cell_type": "code",
   "execution_count": null,
   "metadata": {
    "collapsed": false
   },
   "outputs": [],
   "source": [
    "id(a) == id(b)"
   ]
  },
  {
   "cell_type": "code",
   "execution_count": null,
   "metadata": {
    "collapsed": false
   },
   "outputs": [],
   "source": [
    "id(a[0]) == id(b[0])"
   ]
  },
  {
   "cell_type": "code",
   "execution_count": null,
   "metadata": {
    "collapsed": false
   },
   "outputs": [],
   "source": [
    "a = [1,2,3]\n",
    "id(a)"
   ]
  },
  {
   "cell_type": "code",
   "execution_count": null,
   "metadata": {
    "collapsed": false
   },
   "outputs": [],
   "source": [
    "a.append(4)\n",
    "id(a)"
   ]
  },
  {
   "cell_type": "code",
   "execution_count": null,
   "metadata": {
    "collapsed": false
   },
   "outputs": [],
   "source": [
    "a.remove(3)\n",
    "a"
   ]
  },
  {
   "cell_type": "code",
   "execution_count": null,
   "metadata": {
    "collapsed": false
   },
   "outputs": [],
   "source": [
    "id(a)"
   ]
  },
  {
   "cell_type": "code",
   "execution_count": null,
   "metadata": {
    "collapsed": false
   },
   "outputs": [],
   "source": [
    "a[0] = 5\n",
    "a"
   ]
  },
  {
   "cell_type": "code",
   "execution_count": null,
   "metadata": {
    "collapsed": false
   },
   "outputs": [],
   "source": [
    "id(a)"
   ]
  },
  {
   "cell_type": "markdown",
   "metadata": {},
   "source": [
    "(3) 使用列表对象的extend()方法可以将另一个迭代对象的所有元素添加至该列表对象尾部。通过extend()方法来增加列表元素也不改变其内存首地址，属于原地操作。例如，继续上面的代码执行下面的代码。"
   ]
  },
  {
   "cell_type": "code",
   "execution_count": null,
   "metadata": {
    "collapsed": false
   },
   "outputs": [],
   "source": [
    "a.extend([7,8,9])\n",
    "a"
   ]
  },
  {
   "cell_type": "code",
   "execution_count": null,
   "metadata": {
    "collapsed": false,
    "scrolled": true
   },
   "outputs": [],
   "source": [
    "id(a)"
   ]
  },
  {
   "cell_type": "code",
   "execution_count": null,
   "metadata": {
    "collapsed": false
   },
   "outputs": [],
   "source": [
    "aList"
   ]
  },
  {
   "cell_type": "code",
   "execution_count": null,
   "metadata": {
    "collapsed": false,
    "scrolled": true
   },
   "outputs": [],
   "source": [
    "aList.extend([11,13])\n",
    "aList"
   ]
  },
  {
   "cell_type": "code",
   "execution_count": null,
   "metadata": {
    "collapsed": false
   },
   "outputs": [],
   "source": [
    "aList.extend((15,17))\n",
    "aList"
   ]
  },
  {
   "cell_type": "markdown",
   "metadata": {},
   "source": [
    "（4）使用列表对象的insert()方法将元素添加至列表的指定位置。"
   ]
  },
  {
   "cell_type": "code",
   "execution_count": null,
   "metadata": {
    "collapsed": false
   },
   "outputs": [],
   "source": [
    "help(list.insert)"
   ]
  },
  {
   "cell_type": "code",
   "execution_count": null,
   "metadata": {
    "collapsed": false
   },
   "outputs": [],
   "source": [
    "aList.insert(3,6)\n",
    "aList"
   ]
  },
  {
   "cell_type": "markdown",
   "metadata": {},
   "source": [
    "应尽量从列表尾部进行元素的增加与删除操作。列表的insert()可以在列表的任意位置插入元素，但由于列表的自动内存管理功能，insert()方法会涉及到插入位置之后所有元素的移动，这会影响处理速度，类似的还有后面介绍的remove()方法以及使用pop()函数弹出列表非尾部元素和使用del命令删除列表非尾部元素的情况。"
   ]
  },
  {
   "cell_type": "code",
   "execution_count": null,
   "metadata": {
    "collapsed": false
   },
   "outputs": [],
   "source": [
    "%%timeit -n 1 -r 1\n",
    "a = []\n",
    "for i in range(10000):\n",
    "    a.insert(0, i)\n",
    "print(a[1:5])"
   ]
  },
  {
   "cell_type": "code",
   "execution_count": null,
   "metadata": {
    "collapsed": false
   },
   "outputs": [],
   "source": [
    "%%timeit -n 1 -r 1\n",
    "a = []\n",
    "for i in range(10000):\n",
    "    a.append(i)\n",
    "print(a[1:5])"
   ]
  },
  {
   "cell_type": "markdown",
   "metadata": {},
   "source": [
    "使用乘法来扩展列表对象，将列表与整数相乘，生成一个新列表，新列表是原列表中元素的重复。"
   ]
  },
  {
   "cell_type": "code",
   "execution_count": null,
   "metadata": {
    "collapsed": false
   },
   "outputs": [],
   "source": [
    "aList = [3,5,7]\n",
    "bList = aList\n",
    "id(aList)"
   ]
  },
  {
   "cell_type": "code",
   "execution_count": null,
   "metadata": {
    "collapsed": false
   },
   "outputs": [],
   "source": [
    "id(bList)"
   ]
  },
  {
   "cell_type": "code",
   "execution_count": null,
   "metadata": {
    "collapsed": true
   },
   "outputs": [],
   "source": [
    "aList = aList*3"
   ]
  },
  {
   "cell_type": "code",
   "execution_count": null,
   "metadata": {
    "collapsed": false
   },
   "outputs": [],
   "source": [
    "aList"
   ]
  },
  {
   "cell_type": "code",
   "execution_count": null,
   "metadata": {
    "collapsed": false
   },
   "outputs": [],
   "source": [
    "bList"
   ]
  },
  {
   "cell_type": "code",
   "execution_count": null,
   "metadata": {
    "collapsed": false
   },
   "outputs": [],
   "source": [
    "id(aList)"
   ]
  },
  {
   "cell_type": "code",
   "execution_count": null,
   "metadata": {
    "collapsed": false
   },
   "outputs": [],
   "source": [
    "id(bList)"
   ]
  },
  {
   "cell_type": "markdown",
   "metadata": {},
   "source": [
    "### 2.1.3 列表元素的删除\n",
    "使用del命令删除列表中的指定位置上的元素。前面已经提到过，del命令也可以直接删除整个列表，这里不再赘述。"
   ]
  },
  {
   "cell_type": "code",
   "execution_count": null,
   "metadata": {
    "collapsed": true
   },
   "outputs": [],
   "source": [
    "a_list = [3,5,7,9,11]\n"
   ]
  },
  {
   "cell_type": "code",
   "execution_count": null,
   "metadata": {
    "collapsed": false
   },
   "outputs": [],
   "source": [
    "del a_list[1]\n",
    "a_list"
   ]
  },
  {
   "cell_type": "markdown",
   "metadata": {},
   "source": [
    "2）使用列表的pop()方法删除并返回指定（默认为最后一个）位置上的元素，如果给定的索引超出了列表的范围则抛出异常。"
   ]
  },
  {
   "cell_type": "code",
   "execution_count": null,
   "metadata": {
    "collapsed": false
   },
   "outputs": [],
   "source": [
    "a_list = list((3,5,7,9,11))\n",
    "a_list"
   ]
  },
  {
   "cell_type": "code",
   "execution_count": null,
   "metadata": {
    "collapsed": false
   },
   "outputs": [],
   "source": [
    "a_list.pop"
   ]
  },
  {
   "cell_type": "code",
   "execution_count": null,
   "metadata": {
    "collapsed": false
   },
   "outputs": [],
   "source": [
    "help(list.pop)"
   ]
  },
  {
   "cell_type": "code",
   "execution_count": null,
   "metadata": {
    "collapsed": false
   },
   "outputs": [],
   "source": [
    "a_list.pop(1)"
   ]
  },
  {
   "cell_type": "code",
   "execution_count": null,
   "metadata": {
    "collapsed": false
   },
   "outputs": [],
   "source": [
    "a_list"
   ]
  },
  {
   "cell_type": "markdown",
   "metadata": {},
   "source": [
    "（3）使用列表对象的remove()方法删除首次出现的指定元素，如果列表中不存在要删除的元素，则抛出异常。"
   ]
  },
  {
   "cell_type": "code",
   "execution_count": null,
   "metadata": {
    "collapsed": false,
    "scrolled": false
   },
   "outputs": [],
   "source": [
    "a_list = [3,5,7,9,7,11]\n",
    "a_list.remove(7)\n",
    "a_list"
   ]
  },
  {
   "cell_type": "code",
   "execution_count": null,
   "metadata": {
    "collapsed": false
   },
   "outputs": [],
   "source": [
    "a_list.remove(7)\n",
    "a_list"
   ]
  },
  {
   "cell_type": "markdown",
   "metadata": {},
   "source": [
    "有时候可能需要删除列表中指定元素的所有重复，大家会很自然地想到使用“循环+remove()”的方法，但是具体操作时很有可能会出现意料之外的错误，代码运行没有出现错误，但结果却是错的，或者代码不稳定，对某些数据处理结果是正确的，而对某些数据处理结果却是错误的。例如，下面的代码成功地删除了列表中的重复元素，执行结果是完全正确的。"
   ]
  },
  {
   "cell_type": "code",
   "execution_count": null,
   "metadata": {
    "collapsed": true
   },
   "outputs": [],
   "source": [
    "x = [1,2,1,2,1,2,1,2,1]\n",
    "for i in x:\n",
    "    if i == 1:\n",
    "      x.remove(i)"
   ]
  },
  {
   "cell_type": "code",
   "execution_count": null,
   "metadata": {
    "collapsed": false
   },
   "outputs": [],
   "source": [
    "x"
   ]
  },
  {
   "cell_type": "markdown",
   "metadata": {},
   "source": [
    "然而，上面这段代码的逻辑是错误的，尽管执行结果是正确的。例如下面的代码同样试图删除列表中所有的“1”，代码完全相同，仅仅是所处理的数据发生了一点变化，然而当循环结束后却发现并没有把所有的“1”都删除，只是删除了一部分。"
   ]
  },
  {
   "cell_type": "code",
   "execution_count": null,
   "metadata": {
    "collapsed": false
   },
   "outputs": [],
   "source": [
    "x = [1,2,1,2,1,1,1]\n",
    "id(x)"
   ]
  },
  {
   "cell_type": "code",
   "execution_count": null,
   "metadata": {
    "collapsed": false
   },
   "outputs": [],
   "source": [
    "y = list(x)\n",
    "id(y)"
   ]
  },
  {
   "cell_type": "code",
   "execution_count": null,
   "metadata": {
    "collapsed": true
   },
   "outputs": [],
   "source": [
    "x = [1,2,1,2,1,1,1]\n",
    "for i in x[:]:\n",
    "    if i == 1:\n",
    "      x.remove(i)"
   ]
  },
  {
   "cell_type": "code",
   "execution_count": null,
   "metadata": {
    "collapsed": false
   },
   "outputs": [],
   "source": [
    "x"
   ]
  },
  {
   "cell_type": "markdown",
   "metadata": {},
   "source": [
    "两组数据的本质区别在于，第一组数据中没有连续的“1”，而第二组数据中存在连续的“1”。出现这个问题的原因是列表的自动内存管理功能。前面已经提到，在删除列表元素时，Python会自动对列表内存进行收缩并移动列表元素以保证所有元素之间没有空隙，增加列表元素时也会自动扩展内存并对元素进行移动以保证元素之间没有空隙。每当插入或删除一个元素之后，该元素位置后面所有元素的索引就都改变了。正确的代码："
   ]
  },
  {
   "cell_type": "code",
   "execution_count": null,
   "metadata": {
    "collapsed": false
   },
   "outputs": [],
   "source": [
    "x = [1,2,1,2,1,1,1]  \n",
    "for i in x[::]:  \n",
    "    if i == 1:  \n",
    "        x.remove(i)\n",
    "x"
   ]
  },
  {
   "cell_type": "code",
   "execution_count": null,
   "metadata": {
    "collapsed": false
   },
   "outputs": [],
   "source": [
    "x = [1,2,1,2,1,1,1]  \n",
    "for i in range(len(x)-1,-1,-1): \n",
    "    if x[i]==1:  \n",
    "        del x[i]\n",
    "x"
   ]
  },
  {
   "cell_type": "code",
   "execution_count": null,
   "metadata": {
    "collapsed": false
   },
   "outputs": [],
   "source": [
    "x = [1,2,1,2,1,1,1]  \n",
    "list(range(len(x)-1,-1,-1))"
   ]
  },
  {
   "cell_type": "code",
   "execution_count": null,
   "metadata": {
    "collapsed": false
   },
   "outputs": [],
   "source": [
    "x = [1,2,1,2,1,1,1] \n",
    "for i in range(x.count(1)):\n",
    "    x.remove(1)\n",
    "x"
   ]
  },
  {
   "cell_type": "markdown",
   "metadata": {},
   "source": [
    "### 2.1.4 列表元素访问与计数\n",
    "* 使用下标直接访问列表元素,序列元素的下标分为正向下标和反向下标\n",
    "* 正向下标为 0,1,2,3,4,len(aList)-1\n",
    "* 反向下标为-1,-2,-3,-len(aList)"
   ]
  },
  {
   "cell_type": "code",
   "execution_count": null,
   "metadata": {
    "collapsed": false
   },
   "outputs": [],
   "source": [
    "aList = [3, 4, 5, 7, 9, 11, 13, 15, 17]\n",
    "aList[3]"
   ]
  },
  {
   "cell_type": "code",
   "execution_count": null,
   "metadata": {
    "collapsed": false
   },
   "outputs": [],
   "source": [
    "len(aList)"
   ]
  },
  {
   "cell_type": "code",
   "execution_count": null,
   "metadata": {
    "collapsed": false
   },
   "outputs": [],
   "source": [
    "aList[-1]"
   ]
  },
  {
   "cell_type": "code",
   "execution_count": null,
   "metadata": {
    "collapsed": false
   },
   "outputs": [],
   "source": [
    "aList[-9] == aList[0]"
   ]
  },
  {
   "cell_type": "code",
   "execution_count": null,
   "metadata": {
    "collapsed": false
   },
   "outputs": [],
   "source": [
    "aList[3] = 5.5\n",
    "aList"
   ]
  },
  {
   "cell_type": "code",
   "execution_count": null,
   "metadata": {
    "collapsed": false
   },
   "outputs": [],
   "source": [
    "aList[15]"
   ]
  },
  {
   "cell_type": "markdown",
   "metadata": {},
   "source": [
    "使用列表对象的index方法获取指定元素首次出现的下标"
   ]
  },
  {
   "cell_type": "code",
   "execution_count": null,
   "metadata": {
    "collapsed": false
   },
   "outputs": [],
   "source": [
    "aList"
   ]
  },
  {
   "cell_type": "code",
   "execution_count": null,
   "metadata": {
    "collapsed": false
   },
   "outputs": [],
   "source": [
    "aList.index(9)"
   ]
  },
  {
   "cell_type": "code",
   "execution_count": null,
   "metadata": {
    "collapsed": false
   },
   "outputs": [],
   "source": [
    "aList.index(100)"
   ]
  },
  {
   "cell_type": "markdown",
   "metadata": {},
   "source": [
    "使用列表对象的count方法统计指定元素在列表对象中出现的次数"
   ]
  },
  {
   "cell_type": "code",
   "execution_count": null,
   "metadata": {
    "collapsed": true
   },
   "outputs": [],
   "source": [
    "aList = [7, 4, 5, 5.5, 5, 11, 7, 15, 7]"
   ]
  },
  {
   "cell_type": "code",
   "execution_count": null,
   "metadata": {
    "collapsed": false
   },
   "outputs": [],
   "source": [
    "aList.count(5)"
   ]
  },
  {
   "cell_type": "markdown",
   "metadata": {},
   "source": [
    "如果需要判断列表中是否存在指定的值，可以使用前面介绍的count()方法，如果存在则返回大于0的数，如果返回0则表示不存在。或者，使用更加简洁的“in”关键字来判断一个值是否存在于列表中，返回结果为“True”或“False”。"
   ]
  },
  {
   "cell_type": "code",
   "execution_count": null,
   "metadata": {
    "collapsed": false
   },
   "outputs": [],
   "source": [
    "aList"
   ]
  },
  {
   "cell_type": "code",
   "execution_count": null,
   "metadata": {
    "collapsed": false
   },
   "outputs": [],
   "source": [
    "3 in aList"
   ]
  },
  {
   "cell_type": "code",
   "execution_count": null,
   "metadata": {
    "collapsed": false
   },
   "outputs": [],
   "source": [
    "16 in aList"
   ]
  },
  {
   "cell_type": "code",
   "execution_count": null,
   "metadata": {
    "collapsed": true
   },
   "outputs": [],
   "source": [
    "bList = [[1], [2], [3]]"
   ]
  },
  {
   "cell_type": "code",
   "execution_count": null,
   "metadata": {
    "collapsed": false
   },
   "outputs": [],
   "source": [
    "3 in bList"
   ]
  },
  {
   "cell_type": "code",
   "execution_count": null,
   "metadata": {
    "collapsed": false
   },
   "outputs": [],
   "source": [
    "3 not in bList"
   ]
  },
  {
   "cell_type": "code",
   "execution_count": null,
   "metadata": {
    "collapsed": false
   },
   "outputs": [],
   "source": [
    "not (3 in bList)"
   ]
  },
  {
   "cell_type": "code",
   "execution_count": null,
   "metadata": {
    "collapsed": false
   },
   "outputs": [],
   "source": [
    "[3] in bList"
   ]
  },
  {
   "cell_type": "code",
   "execution_count": null,
   "metadata": {
    "collapsed": false
   },
   "outputs": [],
   "source": [
    "help(zip)"
   ]
  },
  {
   "cell_type": "code",
   "execution_count": null,
   "metadata": {
    "collapsed": false,
    "scrolled": true
   },
   "outputs": [],
   "source": [
    "aList = [3, 5, 7, 9, 11]\n",
    "bList = ['a', 'b', 'c', 'd']\n",
    "z = zip(aList, bList)\n",
    "z"
   ]
  },
  {
   "cell_type": "code",
   "execution_count": null,
   "metadata": {
    "collapsed": false
   },
   "outputs": [],
   "source": [
    "next(z)"
   ]
  },
  {
   "cell_type": "code",
   "execution_count": null,
   "metadata": {
    "collapsed": false
   },
   "outputs": [],
   "source": [
    "aList = [3, 5, 7, 9, 11]\n",
    "bList = ['a', 'b', 'c', 'd']\n",
    "(3, 'a') in zip(aList, bList)"
   ]
  },
  {
   "cell_type": "code",
   "execution_count": null,
   "metadata": {
    "collapsed": false
   },
   "outputs": [],
   "source": [
    "for a, b in zip(aList, bList):\n",
    "    print(a,'--->', b)"
   ]
  },
  {
   "cell_type": "markdown",
   "metadata": {},
   "source": [
    "### 2.1.6 切片操作"
   ]
  },
  {
   "cell_type": "markdown",
   "metadata": {},
   "source": [
    "* 切片是Python序列的重要操作之一，适用于列表、元组、字符串、range对象等类型。\n",
    "* 切片使用2个冒号分隔的3个数字来完成，第一个数字表示切片开始位置（默认为0），第二个数字表示切片截止（但不包含）位置（默认为列表长度），第三个数字表示切片的步长（默认为1），当步长省略时可以顺便省略最后一个冒号。可以使用切片来截取列表中的任何部分，得到一个新列表，也可以通过切片来修改和删除列表中部分元素，甚至可以通过切片操作为列表对象增加元素。\n",
    "* 与使用下标访问列表元素的方法不同，切片操作不会因为下标越界而抛出异常，而是简单地在列表尾部截断或者返回一个空列表，代码具有更强的健壮性。"
   ]
  },
  {
   "cell_type": "code",
   "execution_count": null,
   "metadata": {
    "collapsed": true
   },
   "outputs": [],
   "source": [
    "aList = [3, 4, 5, 6, 7, 9, 11, 13, 15, 17]"
   ]
  },
  {
   "cell_type": "code",
   "execution_count": null,
   "metadata": {
    "collapsed": false
   },
   "outputs": [],
   "source": [
    "aList[::]"
   ]
  },
  {
   "cell_type": "code",
   "execution_count": null,
   "metadata": {
    "collapsed": false
   },
   "outputs": [],
   "source": [
    "aList[::-1]"
   ]
  },
  {
   "cell_type": "code",
   "execution_count": null,
   "metadata": {
    "collapsed": false
   },
   "outputs": [],
   "source": [
    "aList[::2]"
   ]
  },
  {
   "cell_type": "code",
   "execution_count": null,
   "metadata": {
    "collapsed": false
   },
   "outputs": [],
   "source": [
    "aList[1::2]"
   ]
  },
  {
   "cell_type": "code",
   "execution_count": null,
   "metadata": {
    "collapsed": false
   },
   "outputs": [],
   "source": [
    "aList[3::]"
   ]
  },
  {
   "cell_type": "code",
   "execution_count": null,
   "metadata": {
    "collapsed": false
   },
   "outputs": [],
   "source": [
    "aList[3:6]"
   ]
  },
  {
   "cell_type": "code",
   "execution_count": null,
   "metadata": {
    "collapsed": false
   },
   "outputs": [],
   "source": [
    "aList[3:6:1]"
   ]
  },
  {
   "cell_type": "code",
   "execution_count": null,
   "metadata": {
    "collapsed": false
   },
   "outputs": [],
   "source": [
    "aList[0:100:1]"
   ]
  },
  {
   "cell_type": "code",
   "execution_count": null,
   "metadata": {
    "collapsed": false
   },
   "outputs": [],
   "source": [
    "aList[100:]"
   ]
  },
  {
   "cell_type": "markdown",
   "metadata": {},
   "source": [
    "可以使用切片来原地修改列表内容"
   ]
  },
  {
   "cell_type": "code",
   "execution_count": null,
   "metadata": {
    "collapsed": false
   },
   "outputs": [],
   "source": [
    "aList = [3, 5, 7]\n",
    "aList[len(aList):]"
   ]
  },
  {
   "cell_type": "code",
   "execution_count": null,
   "metadata": {
    "collapsed": false
   },
   "outputs": [],
   "source": [
    "aList[len(aList):] = [9]\n",
    "aList"
   ]
  },
  {
   "cell_type": "code",
   "execution_count": null,
   "metadata": {
    "collapsed": false
   },
   "outputs": [],
   "source": [
    "aList[:3] = [1, 2, 3]\n",
    "aList"
   ]
  },
  {
   "cell_type": "code",
   "execution_count": null,
   "metadata": {
    "collapsed": false
   },
   "outputs": [],
   "source": [
    "aList[:3] = []\n",
    "aList"
   ]
  },
  {
   "cell_type": "code",
   "execution_count": null,
   "metadata": {
    "collapsed": false
   },
   "outputs": [],
   "source": [
    "aList = list(range(10))\n",
    "aList"
   ]
  },
  {
   "cell_type": "code",
   "execution_count": null,
   "metadata": {
    "collapsed": false
   },
   "outputs": [],
   "source": [
    "[0] * 5"
   ]
  },
  {
   "cell_type": "code",
   "execution_count": null,
   "metadata": {
    "collapsed": false
   },
   "outputs": [],
   "source": [
    "aList[::2] = [0]*(len(aList)//2)\n",
    "aList"
   ]
  },
  {
   "cell_type": "markdown",
   "metadata": {},
   "source": [
    "使用del与切片结合来删除列表元素"
   ]
  },
  {
   "cell_type": "code",
   "execution_count": null,
   "metadata": {
    "collapsed": false
   },
   "outputs": [],
   "source": [
    "aList = [3,5,7,9,11]\n",
    "del aList[:3]\n",
    "aList"
   ]
  },
  {
   "cell_type": "markdown",
   "metadata": {},
   "source": [
    "切片返回的是列表元素的浅拷贝"
   ]
  },
  {
   "cell_type": "code",
   "execution_count": null,
   "metadata": {
    "collapsed": false
   },
   "outputs": [],
   "source": [
    "aList = [3, 5, 7]\n",
    "bList = aList #bList与aList指向同一个内存\n",
    "bList"
   ]
  },
  {
   "cell_type": "code",
   "execution_count": null,
   "metadata": {
    "collapsed": false
   },
   "outputs": [],
   "source": [
    "id(aList),id(bList)"
   ]
  },
  {
   "cell_type": "code",
   "execution_count": null,
   "metadata": {
    "collapsed": true
   },
   "outputs": [],
   "source": [
    "bList[1] = 8"
   ]
  },
  {
   "cell_type": "code",
   "execution_count": null,
   "metadata": {
    "collapsed": false
   },
   "outputs": [],
   "source": [
    "aList"
   ]
  },
  {
   "cell_type": "code",
   "execution_count": null,
   "metadata": {
    "collapsed": false
   },
   "outputs": [],
   "source": [
    "aList == bList"
   ]
  },
  {
   "cell_type": "code",
   "execution_count": null,
   "metadata": {
    "collapsed": false
   },
   "outputs": [],
   "source": [
    "aList is bList"
   ]
  },
  {
   "cell_type": "code",
   "execution_count": null,
   "metadata": {
    "collapsed": false,
    "scrolled": true
   },
   "outputs": [],
   "source": [
    "id(aList), id(bList)"
   ]
  },
  {
   "cell_type": "code",
   "execution_count": null,
   "metadata": {
    "collapsed": false
   },
   "outputs": [],
   "source": [
    "aList = [3, 5, 7]\n",
    "bList = aList[::] #浅复制\n",
    "bList"
   ]
  },
  {
   "cell_type": "code",
   "execution_count": null,
   "metadata": {
    "collapsed": false
   },
   "outputs": [],
   "source": [
    "id(aList),id(bList)"
   ]
  },
  {
   "cell_type": "code",
   "execution_count": null,
   "metadata": {
    "collapsed": true
   },
   "outputs": [],
   "source": [
    "bList[1] = 8"
   ]
  },
  {
   "cell_type": "code",
   "execution_count": null,
   "metadata": {
    "collapsed": false
   },
   "outputs": [],
   "source": [
    "aList"
   ]
  },
  {
   "cell_type": "code",
   "execution_count": null,
   "metadata": {
    "collapsed": false
   },
   "outputs": [],
   "source": [
    "aList == bList"
   ]
  },
  {
   "cell_type": "code",
   "execution_count": null,
   "metadata": {
    "collapsed": false
   },
   "outputs": [],
   "source": [
    "aList is bList"
   ]
  },
  {
   "cell_type": "code",
   "execution_count": null,
   "metadata": {
    "collapsed": false
   },
   "outputs": [],
   "source": [
    "id(aList), id(bList)"
   ]
  },
  {
   "cell_type": "markdown",
   "metadata": {},
   "source": [
    "BAIDU Python 深拷贝与浅拷贝  \n",
    "Python标准库中有个 copy 模块，用于对象之间的拷贝，其中常用的两个函数：copy 和 deepcopy；  \n",
    "copy.copy() 是浅拷贝，只拷贝了父对象，不会拷贝父对象中的子对象；deepcopy 是深拷贝，可以认为是完全的复制过去了；  "
   ]
  },
  {
   "cell_type": "code",
   "execution_count": null,
   "metadata": {
    "collapsed": false,
    "scrolled": true
   },
   "outputs": [],
   "source": [
    "l = ['a', 'b', 'c', [1, 2, 3]]\n",
    "import copy\n",
    "a = copy.copy(l)\n",
    "b = copy.deepcopy(l)\n",
    "a.append('e')\n",
    "b.append('f')\n",
    "print(a, b, l)\n",
    "a[3][2] = 'x'\n",
    "b[3][2] = 'y'\n",
    "print(a, b, l)"
   ]
  },
  {
   "cell_type": "markdown",
   "metadata": {},
   "source": [
    "### 2.1.7 列表排序\n",
    "使用列表对象的sort方法进行原地排序，支持多种不同的排序方法"
   ]
  },
  {
   "cell_type": "code",
   "execution_count": null,
   "metadata": {
    "collapsed": true
   },
   "outputs": [],
   "source": [
    "aList = [3, 4, 5, 6, 7, 9, 11, 13, 15, 17]\n",
    "import random"
   ]
  },
  {
   "cell_type": "code",
   "execution_count": null,
   "metadata": {
    "collapsed": false
   },
   "outputs": [],
   "source": [
    "aList"
   ]
  },
  {
   "cell_type": "code",
   "execution_count": null,
   "metadata": {
    "collapsed": false
   },
   "outputs": [],
   "source": [
    "random.shuffle(aList)\n",
    "aList"
   ]
  },
  {
   "cell_type": "code",
   "execution_count": null,
   "metadata": {
    "collapsed": false
   },
   "outputs": [],
   "source": [
    "help(list.sort)"
   ]
  },
  {
   "cell_type": "code",
   "execution_count": null,
   "metadata": {
    "collapsed": false
   },
   "outputs": [],
   "source": [
    "aList.sort()\n",
    "aList"
   ]
  },
  {
   "cell_type": "code",
   "execution_count": null,
   "metadata": {
    "collapsed": false
   },
   "outputs": [],
   "source": [
    "help(list.sort)"
   ]
  },
  {
   "cell_type": "code",
   "execution_count": null,
   "metadata": {
    "collapsed": false
   },
   "outputs": [],
   "source": [
    "aList.sort(reverse=True)\n",
    "aList"
   ]
  },
  {
   "cell_type": "code",
   "execution_count": null,
   "metadata": {
    "collapsed": true
   },
   "outputs": [],
   "source": [
    "f = lambda x:len(str(x))"
   ]
  },
  {
   "cell_type": "code",
   "execution_count": null,
   "metadata": {
    "collapsed": false
   },
   "outputs": [],
   "source": [
    "f([1,2,3])"
   ]
  },
  {
   "cell_type": "code",
   "execution_count": null,
   "metadata": {
    "collapsed": false
   },
   "outputs": [],
   "source": [
    "aList"
   ]
  },
  {
   "cell_type": "code",
   "execution_count": null,
   "metadata": {
    "collapsed": false
   },
   "outputs": [],
   "source": [
    "aList.sort(key = lambda x:len(str(x)))\n",
    "aList"
   ]
  },
  {
   "cell_type": "markdown",
   "metadata": {},
   "source": [
    "使用内置函数sorted对列表进行排序并返回新列表"
   ]
  },
  {
   "cell_type": "code",
   "execution_count": null,
   "metadata": {
    "collapsed": false,
    "scrolled": true
   },
   "outputs": [],
   "source": [
    "bList = sorted(aList, reverse=True)"
   ]
  },
  {
   "cell_type": "code",
   "execution_count": null,
   "metadata": {
    "collapsed": false
   },
   "outputs": [],
   "source": [
    "aList"
   ]
  },
  {
   "cell_type": "code",
   "execution_count": null,
   "metadata": {
    "collapsed": false
   },
   "outputs": [],
   "source": [
    "print(bList)"
   ]
  },
  {
   "cell_type": "code",
   "execution_count": null,
   "metadata": {
    "collapsed": false
   },
   "outputs": [],
   "source": [
    "aList"
   ]
  },
  {
   "cell_type": "code",
   "execution_count": null,
   "metadata": {
    "collapsed": false
   },
   "outputs": [],
   "source": [
    "sorted(aList, reverse=True)"
   ]
  },
  {
   "cell_type": "markdown",
   "metadata": {},
   "source": [
    "使用列表对象的reverse方法将元素原地逆序"
   ]
  },
  {
   "cell_type": "code",
   "execution_count": null,
   "metadata": {
    "collapsed": false
   },
   "outputs": [],
   "source": [
    "aList = [3, 4, 5, 11, 13, 15, 17, 6, 7, 9]\n",
    "aList.reverse()\n",
    "aList"
   ]
  },
  {
   "cell_type": "markdown",
   "metadata": {},
   "source": [
    "使用内置函数reversed方法对列表元素进行逆序排列并返回迭代对象"
   ]
  },
  {
   "cell_type": "code",
   "execution_count": null,
   "metadata": {
    "collapsed": false
   },
   "outputs": [],
   "source": [
    "aList = [3, 4, 5, 6, 7, 9, 11, 13, 15, 17]\n",
    "newList = reversed(aList)\n",
    "newList"
   ]
  },
  {
   "cell_type": "code",
   "execution_count": null,
   "metadata": {
    "collapsed": false
   },
   "outputs": [],
   "source": [
    "list(newList)"
   ]
  },
  {
   "cell_type": "code",
   "execution_count": null,
   "metadata": {
    "collapsed": false
   },
   "outputs": [],
   "source": [
    "# 如无输出内容，迭代对象已遍历结束，需要重新创建迭代对象\n",
    "for i in newList:\n",
    "    print(i, end=' ')"
   ]
  },
  {
   "cell_type": "markdown",
   "metadata": {},
   "source": [
    "### 2.1.8 用于序列操作的常用内置函数\n",
    "cmp(列表1，列表2)：对两个列表进行比较，若第一个列表大于第二个，则结果为1，相反则为-1，元素完全相同则结果为0，类似于==运算符，和is、is not不一样。"
   ]
  },
  {
   "cell_type": "code",
   "execution_count": null,
   "metadata": {
    "collapsed": false
   },
   "outputs": [],
   "source": [
    "(1, 2, 3) < (1, 2, 4)"
   ]
  },
  {
   "cell_type": "code",
   "execution_count": null,
   "metadata": {
    "collapsed": false
   },
   "outputs": [],
   "source": [
    "import operator\n",
    "# cmp Python 3 已不再支持\n",
    "# cmp((1, 2, 3) , (1, 2, 4))\n",
    "operator.lt((1, 2, 3) , (1, 2, 4))"
   ]
  },
  {
   "cell_type": "code",
   "execution_count": null,
   "metadata": {
    "collapsed": false
   },
   "outputs": [],
   "source": [
    "[1, 2, 3] == [1, 2, 4]"
   ]
  },
  {
   "cell_type": "code",
   "execution_count": null,
   "metadata": {
    "collapsed": false
   },
   "outputs": [],
   "source": [
    "'ABC' < 'C' < 'Pascal' < 'Python'"
   ]
  },
  {
   "cell_type": "code",
   "execution_count": null,
   "metadata": {
    "collapsed": false
   },
   "outputs": [],
   "source": [
    "cmp( 'Pascal', 'Python')"
   ]
  },
  {
   "cell_type": "code",
   "execution_count": null,
   "metadata": {
    "collapsed": false
   },
   "outputs": [],
   "source": [
    "(1, 2, ('aa', 'ab')) < (1, 2, ('abc', 'a'), 4)"
   ]
  },
  {
   "cell_type": "markdown",
   "metadata": {},
   "source": [
    "在Python 3.x中，不再支持cmp()函数，可以直接使用关系运算符来比较数值或序列的大小，也可以使用对象的“__le__()”及其相关方法，或者也可以使用其他写法来模拟Python 2.x的内置函数cmp()。"
   ]
  },
  {
   "cell_type": "code",
   "execution_count": null,
   "metadata": {
    "collapsed": false
   },
   "outputs": [],
   "source": [
    "a = [1, 2, 5]\n",
    "b = [1, 2, 3]\n",
    "(a>b)-(a<b)"
   ]
  },
  {
   "cell_type": "code",
   "execution_count": null,
   "metadata": {
    "collapsed": false
   },
   "outputs": [],
   "source": [
    "a<=b"
   ]
  },
  {
   "cell_type": "code",
   "execution_count": null,
   "metadata": {
    "collapsed": false
   },
   "outputs": [],
   "source": [
    "a.__le__(b)"
   ]
  },
  {
   "cell_type": "code",
   "execution_count": null,
   "metadata": {
    "collapsed": false
   },
   "outputs": [],
   "source": [
    "a.__gt__(b)"
   ]
  },
  {
   "cell_type": "markdown",
   "metadata": {},
   "source": [
    "## 2.1.8 用于序列操作的常用内置函数\n",
    "* len(列表)：返回列表中的元素个数，同样适用于元组、字典、字符串等等。\n",
    "* max(列表)、 min(列表)：返回列表中的最大或最小元素，同样适用于元组、range。\n",
    "* sum(列表)：对数值型列表的元素进行求和运算，对非数值型列表运算则出错，同样适用于元组、range。\n",
    "* zip(列表1,列表2,…):将多个列表对应位置元素组合为元组，并返回包含这些元组的列表。"
   ]
  },
  {
   "cell_type": "code",
   "execution_count": null,
   "metadata": {
    "collapsed": false
   },
   "outputs": [],
   "source": [
    "l = list(range(0,11))\n",
    "sum(l)"
   ]
  },
  {
   "cell_type": "code",
   "execution_count": null,
   "metadata": {
    "collapsed": true
   },
   "outputs": [],
   "source": [
    "aList = [1,2,3]\n",
    "bList = [4,5,6]\n",
    "cList = [7,8,9]\n",
    "dList = zip(aList, bList, cList)"
   ]
  },
  {
   "cell_type": "code",
   "execution_count": null,
   "metadata": {
    "collapsed": false
   },
   "outputs": [],
   "source": [
    "dList"
   ]
  },
  {
   "cell_type": "code",
   "execution_count": null,
   "metadata": {
    "collapsed": false,
    "scrolled": true
   },
   "outputs": [],
   "source": [
    "list(dList)"
   ]
  },
  {
   "cell_type": "markdown",
   "metadata": {},
   "source": [
    "enumerate(列表):枚举列表元素，返回枚举对象，其每个元素为包含下标和值的元组。该函数对元组、字符串同样有效。"
   ]
  },
  {
   "cell_type": "code",
   "execution_count": null,
   "metadata": {
    "collapsed": false
   },
   "outputs": [],
   "source": [
    "aList = [5, 7, 9, 11, 13]\n",
    "e = enumerate(aList)\n",
    "e"
   ]
  },
  {
   "cell_type": "code",
   "execution_count": null,
   "metadata": {
    "collapsed": false
   },
   "outputs": [],
   "source": [
    "e"
   ]
  },
  {
   "cell_type": "code",
   "execution_count": null,
   "metadata": {
    "collapsed": false,
    "scrolled": true
   },
   "outputs": [],
   "source": [
    "list(e)"
   ]
  },
  {
   "cell_type": "code",
   "execution_count": null,
   "metadata": {
    "collapsed": false
   },
   "outputs": [],
   "source": [
    "dogs = ['border collie', 'australian cattle dog', 'labrador retriever']\n",
    "print(\"Results for the dog show are as follows:\\n\")\n",
    "for index, dog in enumerate(dogs):\n",
    "    place = str(index)\n",
    "    print(\"Place: \" + place + \"\\tDog: \" + dog.title())"
   ]
  },
  {
   "cell_type": "code",
   "execution_count": null,
   "metadata": {
    "collapsed": false,
    "scrolled": true
   },
   "outputs": [],
   "source": [
    "aList = [1,2,3]\n",
    "bList = [4,5,6]\n",
    "cList = [7,8,9]\n",
    "dList = zip(aList, bList, cList)"
   ]
  },
  {
   "cell_type": "code",
   "execution_count": null,
   "metadata": {
    "collapsed": false
   },
   "outputs": [],
   "source": [
    "list(enumerate(zip(aList, bList, cList)))"
   ]
  },
  {
   "cell_type": "code",
   "execution_count": null,
   "metadata": {
    "collapsed": false
   },
   "outputs": [],
   "source": [
    "for item in enumerate(dList):\n",
    "    print(item)"
   ]
  },
  {
   "cell_type": "code",
   "execution_count": null,
   "metadata": {
    "collapsed": false
   },
   "outputs": [],
   "source": [
    "import random\n",
    "[random.randint(1,100) for i in range(10)]"
   ]
  },
  {
   "cell_type": "code",
   "execution_count": null,
   "metadata": {
    "collapsed": false
   },
   "outputs": [],
   "source": [
    "type(dList)"
   ]
  },
  {
   "cell_type": "markdown",
   "metadata": {},
   "source": [
    "列表推导式可以说是Python程序开发时应用最多的技术之一。前面章节曾经使用列表推导式来快速生成包含多个随机数的列表，可以看出，列表推导式使用非常简洁的方式来快速生成满足特定需求的列表，代码具有非常强的可读性。例如："
   ]
  },
  {
   "cell_type": "code",
   "execution_count": null,
   "metadata": {
    "collapsed": false
   },
   "outputs": [],
   "source": [
    "aList = [x*x for x in range(10)]\n",
    "aList"
   ]
  },
  {
   "cell_type": "code",
   "execution_count": null,
   "metadata": {
    "collapsed": false
   },
   "outputs": [],
   "source": [
    "#相当于\n",
    "aList = []\n",
    "for x in range(10):\n",
    "    aList.append(x*x)\n",
    "aList"
   ]
  },
  {
   "cell_type": "markdown",
   "metadata": {},
   "source": [
    "使用列表推导式实现嵌套列表的平铺"
   ]
  },
  {
   "cell_type": "code",
   "execution_count": null,
   "metadata": {
    "collapsed": true
   },
   "outputs": [],
   "source": [
    "vec = [[1,2,3], [4,5,6], [7,8,9]] "
   ]
  },
  {
   "cell_type": "code",
   "execution_count": null,
   "metadata": {
    "collapsed": false,
    "scrolled": false
   },
   "outputs": [],
   "source": [
    "[num for elem in vec for num in elem] "
   ]
  },
  {
   "cell_type": "code",
   "execution_count": null,
   "metadata": {
    "collapsed": false
   },
   "outputs": [],
   "source": [
    "#相当于\n",
    "aList = []\n",
    "for elem in vec:\n",
    "    for num in elem:\n",
    "        aList.append(num)\n",
    "aList"
   ]
  },
  {
   "cell_type": "code",
   "execution_count": null,
   "metadata": {
    "collapsed": false
   },
   "outputs": [],
   "source": [
    "import os\n",
    "os.listdir('.')"
   ]
  },
  {
   "cell_type": "code",
   "execution_count": null,
   "metadata": {
    "collapsed": false,
    "scrolled": true
   },
   "outputs": [],
   "source": [
    "import os\n",
    "[filename for filename in os.listdir('.') \\\n",
    " if filename.endswith('.py')]"
   ]
  },
  {
   "cell_type": "code",
   "execution_count": null,
   "metadata": {
    "collapsed": false
   },
   "outputs": [],
   "source": [
    "aList = [-1,-4,6,7.5,-2.3,9,-11]\n",
    "[i for i in aList if i>0]"
   ]
  },
  {
   "cell_type": "markdown",
   "metadata": {},
   "source": [
    "例如，已知有一个包含一些同学成绩的字典，计算成绩的最高分、最低分、平均分，并查找所有最高分同学，代码可以这样编写："
   ]
  },
  {
   "cell_type": "code",
   "execution_count": null,
   "metadata": {
    "collapsed": true
   },
   "outputs": [],
   "source": [
    "scores = {\"Zhang San\": 45, \\\n",
    "          \"Li Si\": 78, \\\n",
    "          \"Wang Wu\": 40, \\\n",
    "          \"Zhou Liu\": 96, \\\n",
    "          \"Zhao Qi\": 65, \\\n",
    "          \"Sun Ba\": 90, \\\n",
    "          \"Zheng Jiu\": 78, \n",
    "          \"Wu Shi\": 99, \n",
    "          \"Wu Shi 2\": 99,\n",
    "          \"Dong Shiyi\": 60}"
   ]
  },
  {
   "cell_type": "code",
   "execution_count": null,
   "metadata": {
    "collapsed": false
   },
   "outputs": [],
   "source": [
    "type(scores)"
   ]
  },
  {
   "cell_type": "code",
   "execution_count": null,
   "metadata": {
    "collapsed": false
   },
   "outputs": [],
   "source": [
    "scores.values()"
   ]
  },
  {
   "cell_type": "code",
   "execution_count": null,
   "metadata": {
    "collapsed": false
   },
   "outputs": [],
   "source": [
    "scores.items()"
   ]
  },
  {
   "cell_type": "code",
   "execution_count": null,
   "metadata": {
    "collapsed": false
   },
   "outputs": [],
   "source": [
    "scores.keys()"
   ]
  },
  {
   "cell_type": "code",
   "execution_count": null,
   "metadata": {
    "collapsed": false
   },
   "outputs": [],
   "source": [
    "highest = max(scores.values())\n",
    "lowest = min(scores.values())\n",
    "highest, lowest"
   ]
  },
  {
   "cell_type": "code",
   "execution_count": null,
   "metadata": {
    "collapsed": false
   },
   "outputs": [],
   "source": [
    "average = sum(scores.values())*1.0/len(scores)\n",
    "average"
   ]
  },
  {
   "cell_type": "code",
   "execution_count": null,
   "metadata": {
    "collapsed": false
   },
   "outputs": [],
   "source": [
    "highestPerson = [name for name, score in scores.items() \\\n",
    "                 if score == highest]\n",
    "highestPerson"
   ]
  },
  {
   "cell_type": "markdown",
   "metadata": {},
   "source": [
    "在列表推导式中使用多个循环，实现多序列元素的任意组合，并且可以结合条件语句过滤特定元素"
   ]
  },
  {
   "cell_type": "code",
   "execution_count": null,
   "metadata": {
    "collapsed": false
   },
   "outputs": [],
   "source": [
    "[(x, y) for x in range(3) for y in range(3)]"
   ]
  },
  {
   "cell_type": "code",
   "execution_count": null,
   "metadata": {
    "collapsed": false
   },
   "outputs": [],
   "source": [
    "[(x, y) for x in [1, 2, 3] for y in [3, 1, 4] if x != y]"
   ]
  },
  {
   "cell_type": "markdown",
   "metadata": {},
   "source": [
    "使用列表推导式实现矩阵转置"
   ]
  },
  {
   "cell_type": "code",
   "execution_count": null,
   "metadata": {
    "collapsed": false,
    "scrolled": true
   },
   "outputs": [],
   "source": [
    "matrix = [ [1, 2, 3, 4], [5, 6, 7, 8], [9, 10, 11, 12]] \n",
    "[[row[i] for row in matrix] for i in range(4)] "
   ]
  },
  {
   "cell_type": "code",
   "execution_count": null,
   "metadata": {
    "collapsed": true
   },
   "outputs": [],
   "source": [
    "matrix = [ [1, 2, 3, 4], [5, 6, 7, 8], [9, 10, 11, 12]]"
   ]
  },
  {
   "cell_type": "code",
   "execution_count": null,
   "metadata": {
    "collapsed": false
   },
   "outputs": [],
   "source": [
    "len(matrix[0])"
   ]
  },
  {
   "cell_type": "code",
   "execution_count": null,
   "metadata": {
    "collapsed": false
   },
   "outputs": [],
   "source": [
    "[ [ row[i]  for row in matrix] for i in range(0, 4)]"
   ]
  },
  {
   "cell_type": "code",
   "execution_count": null,
   "metadata": {
    "collapsed": false,
    "scrolled": true
   },
   "outputs": [],
   "source": [
    "# 相当于 list(zip(matrix[0],matrix[1],matrix[2]))\n",
    "list(zip(*matrix))"
   ]
  },
  {
   "cell_type": "markdown",
   "metadata": {},
   "source": [
    "列表推导式中可以使用函数或复杂表达式"
   ]
  },
  {
   "cell_type": "code",
   "execution_count": null,
   "metadata": {
    "collapsed": true
   },
   "outputs": [],
   "source": [
    "def f(v):\n",
    "    if v%2 == 0:\n",
    "        v = v**2\n",
    "    else:\n",
    "        v = v+1\n",
    "    return v"
   ]
  },
  {
   "cell_type": "code",
   "execution_count": null,
   "metadata": {
    "collapsed": true
   },
   "outputs": [],
   "source": [
    "def f(v):\n",
    "    return v**2 if v%2 == 0 else v+1"
   ]
  },
  {
   "cell_type": "code",
   "execution_count": null,
   "metadata": {
    "collapsed": false
   },
   "outputs": [],
   "source": [
    "f(4)"
   ]
  },
  {
   "cell_type": "code",
   "execution_count": null,
   "metadata": {
    "collapsed": false
   },
   "outputs": [],
   "source": [
    "print([f(v) for v in [2, 3, 4, -1] if v>0])"
   ]
  },
  {
   "cell_type": "code",
   "execution_count": null,
   "metadata": {
    "collapsed": false
   },
   "outputs": [],
   "source": [
    "print([(v**2 if v%2 == 0 else v+1) \\\n",
    "       for v in [2, 3, 4, -1] if v>0])"
   ]
  },
  {
   "cell_type": "markdown",
   "metadata": {},
   "source": [
    "列表推导式支持文件对象迭代 "
   ]
  },
  {
   "cell_type": "code",
   "execution_count": null,
   "metadata": {
    "collapsed": true
   },
   "outputs": [],
   "source": [
    "fp = open('student.txt', 'r')\n",
    "lines = [line for line in fp]\n",
    "fp.close()\n",
    "lines"
   ]
  },
  {
   "cell_type": "code",
   "execution_count": null,
   "metadata": {
    "collapsed": false
   },
   "outputs": [],
   "source": [
    "fp = open('student.txt', 'r')\n",
    "lines = fp.readlines()\n",
    "fp.close()\n",
    "lines"
   ]
  },
  {
   "cell_type": "markdown",
   "metadata": {},
   "source": [
    "使用列表推导式生成100以内的所有素数"
   ]
  },
  {
   "cell_type": "code",
   "execution_count": null,
   "metadata": {
    "collapsed": true
   },
   "outputs": [],
   "source": [
    "import math"
   ]
  },
  {
   "cell_type": "code",
   "execution_count": null,
   "metadata": {
    "collapsed": true
   },
   "outputs": [],
   "source": [
    "[ p for p in range(2, 100) \\\n",
    " if 0 not in \\\n",
    " [ p % d for d in range(2, int(math.sqrt(p))+1)] ]"
   ]
  },
  {
   "cell_type": "code",
   "execution_count": null,
   "metadata": {
    "collapsed": false
   },
   "outputs": [],
   "source": [
    "def isprime(x):\n",
    "    for i in range(2, int(math.sqrt(x)) + 1):\n",
    "        if (x % i) == 0:\n",
    "            return False\n",
    "    return True"
   ]
  },
  {
   "cell_type": "code",
   "execution_count": null,
   "metadata": {
    "collapsed": false
   },
   "outputs": [],
   "source": [
    "[x for x in  range(2, 100) if isprime(x)]"
   ]
  },
  {
   "cell_type": "markdown",
   "metadata": {},
   "source": [
    "#### 练习\n",
    "生成一个列表，列表中元素分别是1~100内，前1个、前2个、前3个、...、前100个元素的和，如[1,3,6,10,...]"
   ]
  },
  {
   "cell_type": "code",
   "execution_count": null,
   "metadata": {
    "collapsed": true
   },
   "outputs": [],
   "source": [
    "aList = list(range(1, 101))\n",
    "[sum(aList[0:i]) for i in range(1, 101)]"
   ]
  },
  {
   "cell_type": "markdown",
   "metadata": {},
   "source": [
    "## 2.2 元组\n",
    "元组和列表类似，但属于不可变序列，元组一旦创建，用任何方法都不可以修改其元素。  \n",
    "元组的定义方式和列表相同，但定义时所有元素是放在一对圆括号“（”和“）”中，而不是方括号中。  "
   ]
  },
  {
   "cell_type": "markdown",
   "metadata": {},
   "source": [
    "使用“=”将一个元组赋值给变量。元组需要用括号括起来，如果只有一个元素，一个元素后要加,"
   ]
  },
  {
   "cell_type": "code",
   "execution_count": null,
   "metadata": {
    "collapsed": false
   },
   "outputs": [],
   "source": [
    "a_str = 'a'\n",
    "type(a_str)"
   ]
  },
  {
   "cell_type": "code",
   "execution_count": null,
   "metadata": {
    "collapsed": false
   },
   "outputs": [],
   "source": [
    "a_tuple = ('a',)\n",
    "type(a_tuple)"
   ]
  },
  {
   "cell_type": "code",
   "execution_count": null,
   "metadata": {
    "collapsed": false
   },
   "outputs": [],
   "source": [
    "type(a_tuple[0])"
   ]
  },
  {
   "cell_type": "code",
   "execution_count": null,
   "metadata": {
    "collapsed": false
   },
   "outputs": [],
   "source": [
    "a_tuple = ('a', 'b', 'mpilgrim', 'z', 'example')\n",
    "a_tuple"
   ]
  },
  {
   "cell_type": "code",
   "execution_count": null,
   "metadata": {
    "collapsed": false
   },
   "outputs": [],
   "source": [
    "a=3,\n",
    "a"
   ]
  },
  {
   "cell_type": "code",
   "execution_count": null,
   "metadata": {
    "collapsed": false
   },
   "outputs": [],
   "source": [
    "x = () #空元组\n",
    "x"
   ]
  },
  {
   "cell_type": "markdown",
   "metadata": {},
   "source": [
    "使用tuple函数将其他序列转换为元组"
   ]
  },
  {
   "cell_type": "code",
   "execution_count": null,
   "metadata": {
    "collapsed": false
   },
   "outputs": [],
   "source": [
    "tuple('abcdefg')"
   ]
  },
  {
   "cell_type": "code",
   "execution_count": null,
   "metadata": {
    "collapsed": false
   },
   "outputs": [],
   "source": [
    "tuple(range(10))"
   ]
  },
  {
   "cell_type": "code",
   "execution_count": null,
   "metadata": {
    "collapsed": false
   },
   "outputs": [],
   "source": [
    "aList = [-1, -4, 6, 7.5, -2.3, 9, -11]\n",
    "aTuple = tuple(aList)\n",
    "aTuple"
   ]
  },
  {
   "cell_type": "code",
   "execution_count": null,
   "metadata": {
    "collapsed": false
   },
   "outputs": [],
   "source": [
    "aTuple[1] = 5"
   ]
  },
  {
   "cell_type": "code",
   "execution_count": null,
   "metadata": {
    "collapsed": false
   },
   "outputs": [],
   "source": [
    "s = tuple() #空元组\n",
    "s"
   ]
  },
  {
   "cell_type": "markdown",
   "metadata": {},
   "source": [
    "使用del删除元组对象，不能删除元组元素"
   ]
  },
  {
   "cell_type": "code",
   "execution_count": null,
   "metadata": {
    "collapsed": false
   },
   "outputs": [],
   "source": [
    "s = ('a', 'b', 'c', 'd', 'e', 'f', 'g')\n",
    "s[0]"
   ]
  },
  {
   "cell_type": "code",
   "execution_count": null,
   "metadata": {
    "collapsed": false
   },
   "outputs": [],
   "source": [
    "del s[0]"
   ]
  },
  {
   "cell_type": "markdown",
   "metadata": {},
   "source": [
    "## 2.2.2 元组与列表的区别\n",
    "* 元组中的数据一旦定义就不允许更改。\n",
    "* 元组没有append()、extend()和insert()等方法，无法向元组中添加元素；\n",
    "* 元组没有remove()或pop()方法，也无法对元组元素进行del操作，不能从元组中删除元素。\n",
    "* 内建的tuple( )函数接受一个列表参数，并返回一个包含同样元素的元组，而list( )函数接受一个元组参数并返回一个列表。从效果上看，tuple( )冻结列表，而list( )融化元组。"
   ]
  },
  {
   "cell_type": "markdown",
   "metadata": {},
   "source": [
    "## 2.2.2 元组的优点\n",
    "* <font color=red>元组的速度比列表更快</font>。如果定义了一系列常量值，而所需做的仅是对它进行遍历，那么一般使用元组而不用列表。\n",
    "* <font color=red>元组对不需要改变的数据进行“写保护”</font>将使得代码更加安全。\n",
    "* 一些元组可用作字典键（特别是包含字符串、数值和其它元组这样的不可变数据的元组）。<font color=red>列表永远不能当做字典键使用</font>，因为列表不是不可变的。"
   ]
  },
  {
   "cell_type": "markdown",
   "metadata": {},
   "source": [
    "## 2.2.3 序列解包\n",
    "可以使用序列解包功能对多个变量同时赋值"
   ]
  },
  {
   "cell_type": "code",
   "execution_count": null,
   "metadata": {
    "collapsed": false
   },
   "outputs": [],
   "source": [
    "x,y,z = 1,2,3\n",
    "x,y,z"
   ]
  },
  {
   "cell_type": "code",
   "execution_count": null,
   "metadata": {
    "collapsed": false
   },
   "outputs": [],
   "source": [
    "v_tuple = (False, 3.5, 'exp')\n",
    "(x, y, z) = v_tuple\n",
    "x,y,z"
   ]
  },
  {
   "cell_type": "code",
   "execution_count": null,
   "metadata": {
    "collapsed": false
   },
   "outputs": [],
   "source": [
    "a=[1,2,3]\n",
    "b,c,d=a\n",
    "b,c,d"
   ]
  },
  {
   "cell_type": "code",
   "execution_count": null,
   "metadata": {
    "collapsed": false
   },
   "outputs": [],
   "source": [
    "s={'a':1,'b':2,'c':3}\n",
    "s.keys()"
   ]
  },
  {
   "cell_type": "code",
   "execution_count": null,
   "metadata": {
    "collapsed": false
   },
   "outputs": [],
   "source": [
    "tuple(s)"
   ]
  },
  {
   "cell_type": "code",
   "execution_count": null,
   "metadata": {
    "collapsed": false
   },
   "outputs": [],
   "source": [
    "b,c,d=s\n",
    "b,c,d"
   ]
  },
  {
   "cell_type": "code",
   "execution_count": null,
   "metadata": {
    "collapsed": false,
    "scrolled": false
   },
   "outputs": [],
   "source": [
    "b,c,d=s.values()\n",
    "b,c,d"
   ]
  },
  {
   "cell_type": "code",
   "execution_count": null,
   "metadata": {
    "collapsed": false
   },
   "outputs": [],
   "source": [
    "keys=['a','b','c','d']\n",
    "values=[1,2,3,4]\n",
    "zip(keys,values)"
   ]
  },
  {
   "cell_type": "code",
   "execution_count": null,
   "metadata": {
    "collapsed": false
   },
   "outputs": [],
   "source": [
    "for k,v in zip(keys,values):\n",
    "    print(k,v)"
   ]
  },
  {
   "cell_type": "code",
   "execution_count": null,
   "metadata": {
    "collapsed": false
   },
   "outputs": [],
   "source": [
    "aList = [1,2,3]\n",
    "bList = [4,5,6]\n",
    "cList = [7,8,9]\n",
    "dList = zip(aList, bList, cList)\n",
    "for index, value in enumerate(dList):\n",
    "    print(index, ':', value)"
   ]
  },
  {
   "cell_type": "markdown",
   "metadata": {},
   "source": [
    "## 2.2.4 生成器推导式\n",
    "* 生成器推导式与列表推导式非常接近，只是生成器推导式使用圆括号而不是列表推导式所使用的方括号。\n",
    "* 与列表推导式不同的是，生成器推导式的结果是一个生成器对象，而不是列表，也不是元组。使用生成器对象的元素时，可以根据需要将其转化为列表或元组，也可以使用生成器对象的next()方法（Python 2.x）或__next__()方法（Python 3.x）进行遍历，或者直接将其作为迭代器对象来使用。\n",
    "* 不管用哪种方法访问其元素，当所有元素访问结束以后，如果需要重新访问其中的元素，必须重新创建该生成器对象。\n"
   ]
  },
  {
   "cell_type": "code",
   "execution_count": null,
   "metadata": {
    "collapsed": false,
    "scrolled": true
   },
   "outputs": [],
   "source": [
    "g = ((i+2)**2 for i in range(10))\n",
    "g"
   ]
  },
  {
   "cell_type": "code",
   "execution_count": null,
   "metadata": {
    "collapsed": false
   },
   "outputs": [],
   "source": [
    "type(g)"
   ]
  },
  {
   "cell_type": "code",
   "execution_count": null,
   "metadata": {
    "collapsed": false
   },
   "outputs": [],
   "source": [
    "g.__next__()"
   ]
  },
  {
   "cell_type": "code",
   "execution_count": null,
   "metadata": {
    "collapsed": false,
    "scrolled": true
   },
   "outputs": [],
   "source": [
    "next(g)"
   ]
  },
  {
   "cell_type": "markdown",
   "metadata": {},
   "source": [
    "## 2.3 字典\n",
    "* 字典是键值对的无序可变集合。\n",
    "* 定义字典时，每个元素的键和值用冒号分隔，元素之间用逗号分隔，所有的元素放在一对大括号“｛”和“｝”中。\n",
    "* 字典中的每个元素包含两部分：键和值，向字典添加一个键的同时，必须为该键增添一个值。\n",
    "* 字典中的键可以为任意不可变数据，比如整数、实数、复数、字符串、元组等等。\n",
    "* 字典中的键不允许重复。\n",
    "* globals()返回包含当前作用域内所有全局变量和值的字典\n",
    "* locals()返回包含当前作用域内所有局部变量和值的字典"
   ]
  },
  {
   "cell_type": "code",
   "execution_count": null,
   "metadata": {
    "collapsed": false
   },
   "outputs": [],
   "source": [
    "type(globals())"
   ]
  },
  {
   "cell_type": "markdown",
   "metadata": {},
   "source": [
    "## 2.3.1 字典创建与删除\n",
    "使用=将一个字典赋值给一个变量"
   ]
  },
  {
   "cell_type": "code",
   "execution_count": null,
   "metadata": {
    "collapsed": false
   },
   "outputs": [],
   "source": [
    "a_dict = {'server': 'db.diveintopython3.org', 'database': 'mysql'}\n",
    "a_dict"
   ]
  },
  {
   "cell_type": "code",
   "execution_count": null,
   "metadata": {
    "collapsed": false
   },
   "outputs": [],
   "source": [
    "x = {} #空字典\n",
    "x"
   ]
  },
  {
   "cell_type": "markdown",
   "metadata": {},
   "source": [
    "使用dict利用已有数据创建字典："
   ]
  },
  {
   "cell_type": "code",
   "execution_count": null,
   "metadata": {
    "collapsed": false
   },
   "outputs": [],
   "source": [
    "keys = ['a','b','c','d']\n",
    "values = [1,2,3,4]\n",
    "dictionary = dict(zip(keys,values))\n",
    "dictionary"
   ]
  },
  {
   "cell_type": "code",
   "execution_count": null,
   "metadata": {
    "collapsed": false
   },
   "outputs": [],
   "source": [
    "dictionary['d']"
   ]
  },
  {
   "cell_type": "code",
   "execution_count": null,
   "metadata": {
    "collapsed": false
   },
   "outputs": [],
   "source": [
    "dictionary['b']=100"
   ]
  },
  {
   "cell_type": "code",
   "execution_count": null,
   "metadata": {
    "collapsed": false
   },
   "outputs": [],
   "source": [
    "dictionary"
   ]
  },
  {
   "cell_type": "code",
   "execution_count": null,
   "metadata": {
    "collapsed": true
   },
   "outputs": [],
   "source": [
    "x = dict() #空字典"
   ]
  },
  {
   "cell_type": "markdown",
   "metadata": {},
   "source": [
    "使用dict根据给定的键、值创建字典"
   ]
  },
  {
   "cell_type": "code",
   "execution_count": null,
   "metadata": {
    "collapsed": false
   },
   "outputs": [],
   "source": [
    "d=dict(name='Dong',age=37)\n",
    "d"
   ]
  },
  {
   "cell_type": "code",
   "execution_count": null,
   "metadata": {
    "collapsed": false
   },
   "outputs": [],
   "source": [
    "a = dict(one=1, two=2, three=3)\n",
    "b = {'one': 1, 'two': 2, 'three': 3}\n",
    "c = dict(zip(['one', 'two', 'three'], [1, 2, 3]))\n",
    "d = dict([('two', 2), ('one', 1), ('three', 3)])\n",
    "e = dict({'three': 3, 'one': 1, 'two': 2})\n",
    "a == b == c == d == e"
   ]
  },
  {
   "cell_type": "markdown",
   "metadata": {},
   "source": [
    "以给定内容为键，创建值为空的字典"
   ]
  },
  {
   "cell_type": "code",
   "execution_count": null,
   "metadata": {
    "collapsed": false
   },
   "outputs": [],
   "source": [
    "adict=dict.fromkeys(['name','age','sex'])\n",
    "adict"
   ]
  },
  {
   "cell_type": "markdown",
   "metadata": {},
   "source": [
    "## 2.3.2 字典元素的读取\n",
    "以键作为下标可以读取字典元素，若键不存在则抛出异常"
   ]
  },
  {
   "cell_type": "code",
   "execution_count": null,
   "metadata": {
    "collapsed": false
   },
   "outputs": [],
   "source": [
    "aDict={'name':'Dong', 'sex':'male', 'age':37}\n",
    "aDict['name']"
   ]
  },
  {
   "cell_type": "code",
   "execution_count": null,
   "metadata": {
    "collapsed": false,
    "scrolled": false
   },
   "outputs": [],
   "source": [
    "aDict['tel']"
   ]
  },
  {
   "cell_type": "code",
   "execution_count": null,
   "metadata": {
    "collapsed": false
   },
   "outputs": [],
   "source": [
    "'tel' in aDict"
   ]
  },
  {
   "cell_type": "markdown",
   "metadata": {},
   "source": [
    "使用字典对象的get方法获取指定键对应的值，并且可以在键不存在的时候返回指定值。"
   ]
  },
  {
   "cell_type": "code",
   "execution_count": null,
   "metadata": {
    "collapsed": false,
    "scrolled": true
   },
   "outputs": [],
   "source": [
    "print(aDict.get('address'))"
   ]
  },
  {
   "cell_type": "code",
   "execution_count": null,
   "metadata": {
    "collapsed": false,
    "scrolled": true
   },
   "outputs": [],
   "source": [
    "print(aDict.get('address', '地址未知'))"
   ]
  },
  {
   "cell_type": "code",
   "execution_count": null,
   "metadata": {
    "collapsed": false,
    "scrolled": true
   },
   "outputs": [],
   "source": [
    "aDict['address'] = '杭州下沙'\n",
    "print(aDict.get('address', '地址未知'))"
   ]
  },
  {
   "cell_type": "code",
   "execution_count": null,
   "metadata": {
    "collapsed": false
   },
   "outputs": [],
   "source": [
    "aDict"
   ]
  },
  {
   "cell_type": "code",
   "execution_count": null,
   "metadata": {
    "collapsed": false
   },
   "outputs": [],
   "source": [
    "aDict.get('score',[])"
   ]
  },
  {
   "cell_type": "code",
   "execution_count": null,
   "metadata": {
    "collapsed": false,
    "scrolled": true
   },
   "outputs": [],
   "source": [
    "aDict"
   ]
  },
  {
   "cell_type": "code",
   "execution_count": null,
   "metadata": {
    "collapsed": false
   },
   "outputs": [],
   "source": [
    "aDict['score'] = aDict.get('score',[])\n",
    "aDict['score'].append(98)\n",
    "aDict['score'].append(97)\n",
    "aDict"
   ]
  },
  {
   "cell_type": "markdown",
   "metadata": {},
   "source": [
    "## 2.3.2 字典元素的读取\n",
    "* 使用字典对象的items方法可以返回字典的键、值对列表\n",
    "* 使用字典对象的keys方法可以返回字典的键列表\n",
    "* 使用字典对象的values方法可以返回字典的值列表"
   ]
  },
  {
   "cell_type": "code",
   "execution_count": null,
   "metadata": {
    "collapsed": false
   },
   "outputs": [],
   "source": [
    "aDict={'name':'Dong', 'sex':'male', 'age':37}\n",
    "aDict.items()"
   ]
  },
  {
   "cell_type": "code",
   "execution_count": null,
   "metadata": {
    "collapsed": false,
    "scrolled": true
   },
   "outputs": [],
   "source": [
    "for item in aDict.items():\n",
    "    print(item)"
   ]
  },
  {
   "cell_type": "code",
   "execution_count": null,
   "metadata": {
    "collapsed": false
   },
   "outputs": [],
   "source": [
    "for key, value in aDict.items():\n",
    "    print(key, value)"
   ]
  },
  {
   "cell_type": "code",
   "execution_count": null,
   "metadata": {
    "collapsed": false
   },
   "outputs": [],
   "source": [
    "for key in aDict:\n",
    "    print(key)"
   ]
  },
  {
   "cell_type": "code",
   "execution_count": null,
   "metadata": {
    "collapsed": false
   },
   "outputs": [],
   "source": [
    "aDict.keys()"
   ]
  },
  {
   "cell_type": "code",
   "execution_count": null,
   "metadata": {
    "collapsed": false
   },
   "outputs": [],
   "source": [
    "aDict.values()"
   ]
  },
  {
   "cell_type": "markdown",
   "metadata": {},
   "source": [
    "## 2.3.3 字典元素的添加与修改\n",
    "当以指定键为下标为字典赋值时，若键存在，则可以修改该键的值；若不存在，则表示添加一个键、值对。"
   ]
  },
  {
   "cell_type": "code",
   "execution_count": null,
   "metadata": {
    "collapsed": false
   },
   "outputs": [],
   "source": [
    "aDict['age'] = 38\n",
    "aDict"
   ]
  },
  {
   "cell_type": "code",
   "execution_count": null,
   "metadata": {
    "collapsed": false
   },
   "outputs": [],
   "source": [
    "aDict['address'] = '`'\n",
    "aDict"
   ]
  },
  {
   "cell_type": "markdown",
   "metadata": {},
   "source": [
    "使用字典对象的update方法将另一个字典的键、值对添加到当前字典对象"
   ]
  },
  {
   "cell_type": "code",
   "execution_count": null,
   "metadata": {
    "collapsed": false,
    "scrolled": false
   },
   "outputs": [],
   "source": [
    "aDict.update({'a':'a','b':'b'})\n",
    "aDict"
   ]
  },
  {
   "cell_type": "markdown",
   "metadata": {},
   "source": [
    "* 使用del删除字典中指定键的元素\n",
    "* 使用字典对象的clear方法来删除字典中所有元素\n",
    "* 使用字典对象的pop 方法删除并返回指定键的元素\n",
    "* 使用字典对象的popitem方法删除并返回字典中的一个元素"
   ]
  },
  {
   "cell_type": "code",
   "execution_count": null,
   "metadata": {
    "collapsed": false
   },
   "outputs": [],
   "source": [
    "aDict"
   ]
  },
  {
   "cell_type": "code",
   "execution_count": null,
   "metadata": {
    "collapsed": true
   },
   "outputs": [],
   "source": [
    "del aDict['b']"
   ]
  },
  {
   "cell_type": "code",
   "execution_count": null,
   "metadata": {
    "collapsed": false
   },
   "outputs": [],
   "source": [
    "aDict.popitem()"
   ]
  },
  {
   "cell_type": "code",
   "execution_count": null,
   "metadata": {
    "collapsed": false
   },
   "outputs": [],
   "source": [
    "aDict"
   ]
  },
  {
   "cell_type": "markdown",
   "metadata": {},
   "source": [
    "## 2.3.4 字典应用案例"
   ]
  },
  {
   "cell_type": "markdown",
   "metadata": {},
   "source": [
    "实现一个字典程序"
   ]
  },
  {
   "cell_type": "code",
   "execution_count": null,
   "metadata": {
    "collapsed": true
   },
   "outputs": [],
   "source": [
    "endict = {'abandon':'vt.丢弃；放弃，抛弃',\n",
    "'abide':'vt.遵守 vt.忍受',\n",
    "'ability':'n.能力；能耐，本领',\n",
    "'able':'adj.有能力的；能干的',\n",
    "'abnormal':'a.不正常的；变态的',\n",
    "'aboard':'adv.上船(飞机、车)',\n",
    "'abolish':'vt.废除，取消',\n",
    "'about':'prep.关于；在…周围',\n",
    "'above':'prep.在…上面；高于',\n",
    "'abroad':'ad.(在)国外；到处',\n",
    "'absence':'n.缺席，不在场；缺乏',\n",
    "'absent':'a.不在场的；缺乏的',\n",
    "'absolute':'a.绝对的；纯粹的',\n",
    "'absolutely':'ad.完全地；绝对地',\n",
    "'absorb':'vt.吸收；使专心',\n",
    "'absorption':'n.吸收；专注',\n",
    "'abstract':'adj.抽象的；深奥的',\n",
    "'absurd':'a.不合理的，荒唐的',\n",
    "'abundance':'n.丰富，充裕',\n",
    "'abundant':'a.丰富的；大量的',\n",
    "'abuse':'vt.滥用；虐待 n.滥用',\n",
    "'academic':'a.学院的；学术的',\n",
    "'academic':'a.学院的；学术的',\n",
    "'accelerate':'vt.(使)加快；促进'};"
   ]
  },
  {
   "cell_type": "code",
   "execution_count": null,
   "metadata": {
    "collapsed": false,
    "scrolled": true
   },
   "outputs": [],
   "source": [
    "english = input('请输入你要查询的单词：')\n",
    "if english in endict:\n",
    "    print(\"%s : %s\" % (english,endict[english]))\n",
    "else:\n",
    "    print(\"找不到单词%s\" % english)"
   ]
  },
  {
   "cell_type": "code",
   "execution_count": null,
   "metadata": {
    "collapsed": true
   },
   "outputs": [],
   "source": [
    "endict"
   ]
  },
  {
   "cell_type": "code",
   "execution_count": null,
   "metadata": {
    "collapsed": false
   },
   "outputs": [],
   "source": [
    "fp = open('新东方红宝书.txt', 'r', encoding='utf8')\n",
    "for line in fp:\n",
    "    words = line.split(' ')\n",
    "    if len(words) == 2:\n",
    "        key,value = words\n",
    "        endict[key] = value\n",
    "fp.close()"
   ]
  },
  {
   "cell_type": "markdown",
   "metadata": {},
   "source": [
    "下面的代码首先生成包含1000个随机字符的字符串，然后统计每个字符的出现次数。"
   ]
  },
  {
   "cell_type": "code",
   "execution_count": 4,
   "metadata": {
    "collapsed": false
   },
   "outputs": [
    {
     "data": {
      "text/plain": [
       "'0123456789'"
      ]
     },
     "execution_count": 4,
     "metadata": {},
     "output_type": "execute_result"
    }
   ],
   "source": [
    "import string\n",
    "string.digits"
   ]
  },
  {
   "cell_type": "code",
   "execution_count": 5,
   "metadata": {
    "collapsed": false
   },
   "outputs": [
    {
     "data": {
      "text/plain": [
       "'abcdefghijklmnopqrstuvwxyzABCDEFGHIJKLMNOPQRSTUVWXYZ0123456789!\"#$%&\\'()*+,-./:;<=>?@[\\\\]^_`{|}~'"
      ]
     },
     "execution_count": 5,
     "metadata": {},
     "output_type": "execute_result"
    }
   ],
   "source": [
    "import string\n",
    "import random\n",
    "x = string.ascii_letters + string.digits + string.punctuation\n",
    "x"
   ]
  },
  {
   "cell_type": "code",
   "execution_count": 6,
   "metadata": {
    "collapsed": true
   },
   "outputs": [
    {
     "data": {
      "text/plain": [
       "['@',\n",
       " 'B',\n",
       " 'p',\n",
       " ']',\n",
       " 'X',\n",
       " 'w',\n",
       " '#',\n",
       " 'I',\n",
       " 'e',\n",
       " '-',\n",
       " '#',\n",
       " '#',\n",
       " 'R',\n",
       " '3',\n",
       " '+',\n",
       " '8',\n",
       " '7',\n",
       " '-',\n",
       " 'Q',\n",
       " 'N',\n",
       " '`',\n",
       " 'P',\n",
       " '@',\n",
       " '=',\n",
       " '[',\n",
       " 'E',\n",
       " 'l',\n",
       " 'q',\n",
       " 's',\n",
       " 'o',\n",
       " 'u',\n",
       " '<',\n",
       " '8',\n",
       " '6',\n",
       " '?',\n",
       " '\"',\n",
       " 'P',\n",
       " 'L',\n",
       " 'E',\n",
       " 'M',\n",
       " '\"',\n",
       " 'U',\n",
       " '3',\n",
       " 'e',\n",
       " '/',\n",
       " '7',\n",
       " '2',\n",
       " 'a',\n",
       " 'M',\n",
       " 'c',\n",
       " 'c',\n",
       " '{',\n",
       " 'y',\n",
       " '?',\n",
       " 'L',\n",
       " '(',\n",
       " '4',\n",
       " 'b',\n",
       " '5',\n",
       " '`',\n",
       " 'v',\n",
       " 'F',\n",
       " 'f',\n",
       " 'I',\n",
       " 'r',\n",
       " 'F',\n",
       " 'V',\n",
       " 'u',\n",
       " '3',\n",
       " '{',\n",
       " '@',\n",
       " '<',\n",
       " '(',\n",
       " '_',\n",
       " '~',\n",
       " '#',\n",
       " 'j',\n",
       " '@',\n",
       " '#',\n",
       " '4',\n",
       " 'j',\n",
       " 'S',\n",
       " '/',\n",
       " 'H',\n",
       " 'V',\n",
       " ':',\n",
       " 'A',\n",
       " ';',\n",
       " 'E',\n",
       " ',',\n",
       " 'j',\n",
       " 'n',\n",
       " '4',\n",
       " '=',\n",
       " 'y',\n",
       " 'Q',\n",
       " '0',\n",
       " 'Z',\n",
       " '$',\n",
       " '(',\n",
       " 'J',\n",
       " 'f',\n",
       " '~',\n",
       " '\\\\',\n",
       " 'W',\n",
       " ':',\n",
       " 'G',\n",
       " 'v',\n",
       " 'a',\n",
       " 'v',\n",
       " 'i',\n",
       " '!',\n",
       " '^',\n",
       " 's',\n",
       " 'R',\n",
       " 'd',\n",
       " 'z',\n",
       " 'i',\n",
       " '2',\n",
       " ',',\n",
       " '<',\n",
       " '?',\n",
       " 'S',\n",
       " '!',\n",
       " '>',\n",
       " 'Q',\n",
       " '<',\n",
       " 'y',\n",
       " 'z',\n",
       " 'd',\n",
       " '[',\n",
       " 'C',\n",
       " '9',\n",
       " 'w',\n",
       " 'r',\n",
       " 'q',\n",
       " '<',\n",
       " 'i',\n",
       " '5',\n",
       " '9',\n",
       " '\"',\n",
       " 'k',\n",
       " 'y',\n",
       " 'D',\n",
       " 't',\n",
       " 'l',\n",
       " '|',\n",
       " '.',\n",
       " 'n',\n",
       " '[',\n",
       " 'F',\n",
       " 'u',\n",
       " '~',\n",
       " 'k',\n",
       " '9',\n",
       " ']',\n",
       " '=',\n",
       " '9',\n",
       " 'M',\n",
       " '@',\n",
       " '|',\n",
       " '_',\n",
       " 's',\n",
       " '&',\n",
       " '.',\n",
       " 'j',\n",
       " '&',\n",
       " 'J',\n",
       " 'h',\n",
       " 'E',\n",
       " 'i',\n",
       " '8',\n",
       " '@',\n",
       " ')',\n",
       " 'o',\n",
       " '>',\n",
       " '+',\n",
       " '[',\n",
       " '1',\n",
       " '8',\n",
       " '1',\n",
       " 'b',\n",
       " 'A',\n",
       " 'i',\n",
       " 'y',\n",
       " '4',\n",
       " ',',\n",
       " 'z',\n",
       " 'k',\n",
       " 'A',\n",
       " 'n',\n",
       " '5',\n",
       " '3',\n",
       " '2',\n",
       " 'T',\n",
       " '`',\n",
       " 'p',\n",
       " 'h',\n",
       " '9',\n",
       " 'u',\n",
       " '=',\n",
       " 'y',\n",
       " 'P',\n",
       " ';',\n",
       " 'x',\n",
       " '=',\n",
       " 'N',\n",
       " '1',\n",
       " 'G',\n",
       " 'r',\n",
       " 'X',\n",
       " '/',\n",
       " ';',\n",
       " 'a',\n",
       " 'z',\n",
       " '~',\n",
       " '7',\n",
       " 'o',\n",
       " '$',\n",
       " 'c',\n",
       " '?',\n",
       " '?',\n",
       " 'U',\n",
       " '[',\n",
       " 'q',\n",
       " 'O',\n",
       " '\"',\n",
       " 'u',\n",
       " '}',\n",
       " 'l',\n",
       " 'C',\n",
       " '1',\n",
       " 'u',\n",
       " \"'\",\n",
       " '(',\n",
       " '5',\n",
       " 'U',\n",
       " 'n',\n",
       " '|',\n",
       " '<',\n",
       " '[',\n",
       " 'C',\n",
       " '&',\n",
       " '^',\n",
       " 'U',\n",
       " 'T',\n",
       " '&',\n",
       " 'A',\n",
       " 'E',\n",
       " '8',\n",
       " '8',\n",
       " 'x',\n",
       " \"'\",\n",
       " ')',\n",
       " '#',\n",
       " ']',\n",
       " 'X',\n",
       " 'G',\n",
       " '8',\n",
       " 'N',\n",
       " 'p',\n",
       " '5',\n",
       " 'j',\n",
       " 'S',\n",
       " '7',\n",
       " '[',\n",
       " 'l',\n",
       " '*',\n",
       " 'r',\n",
       " 'p',\n",
       " 'z',\n",
       " 'P',\n",
       " 'r',\n",
       " 'Q',\n",
       " 'Q',\n",
       " '(',\n",
       " ':',\n",
       " '}',\n",
       " 'R',\n",
       " 'J',\n",
       " '8',\n",
       " 'd',\n",
       " '%',\n",
       " ',',\n",
       " '^',\n",
       " 't',\n",
       " 'y',\n",
       " '7',\n",
       " 'M',\n",
       " 'P',\n",
       " 'e',\n",
       " '3',\n",
       " 'G',\n",
       " 'E',\n",
       " '+',\n",
       " 'e',\n",
       " '\\\\',\n",
       " '5',\n",
       " 'X',\n",
       " ';',\n",
       " '+',\n",
       " '4',\n",
       " '4',\n",
       " 'j',\n",
       " '_',\n",
       " '6',\n",
       " 'e',\n",
       " 'o',\n",
       " 'B',\n",
       " 'j',\n",
       " 'd',\n",
       " 'S',\n",
       " 'b',\n",
       " 'J',\n",
       " '9',\n",
       " '1',\n",
       " '4',\n",
       " 'n',\n",
       " '-',\n",
       " 'o',\n",
       " '~',\n",
       " 'D',\n",
       " '.',\n",
       " 'O',\n",
       " '{',\n",
       " 'F',\n",
       " 'O',\n",
       " '0',\n",
       " 'A',\n",
       " 'H',\n",
       " '|',\n",
       " 'g',\n",
       " 'E',\n",
       " '@',\n",
       " 'v',\n",
       " 'z',\n",
       " 'R',\n",
       " 'k',\n",
       " 'L',\n",
       " '=',\n",
       " '^',\n",
       " '_',\n",
       " 'R',\n",
       " 'J',\n",
       " '_',\n",
       " 'o',\n",
       " 'u',\n",
       " 'L',\n",
       " 'g',\n",
       " 'u',\n",
       " 'M',\n",
       " 'B',\n",
       " 'y',\n",
       " ';',\n",
       " 'U',\n",
       " '@',\n",
       " '0',\n",
       " '~',\n",
       " 'u',\n",
       " 'T',\n",
       " 'G',\n",
       " 'A',\n",
       " 'W',\n",
       " 'j',\n",
       " 'd',\n",
       " 'f',\n",
       " '8',\n",
       " 'Y',\n",
       " '}',\n",
       " 'S',\n",
       " ':',\n",
       " 'u',\n",
       " 'r',\n",
       " 'o',\n",
       " 'v',\n",
       " 'E',\n",
       " 'l',\n",
       " '~',\n",
       " 'v',\n",
       " 'L',\n",
       " '~',\n",
       " '*',\n",
       " '#',\n",
       " '^',\n",
       " '=',\n",
       " '4',\n",
       " 's',\n",
       " '}',\n",
       " 'v',\n",
       " '5',\n",
       " '{',\n",
       " 'R',\n",
       " 'R',\n",
       " 'm',\n",
       " 'Z',\n",
       " 'z',\n",
       " '%',\n",
       " '5',\n",
       " '@',\n",
       " 'E',\n",
       " 'n',\n",
       " 'M',\n",
       " 's',\n",
       " '/',\n",
       " 'x',\n",
       " 'f',\n",
       " 'J',\n",
       " 'h',\n",
       " '#',\n",
       " '_',\n",
       " '@',\n",
       " '<',\n",
       " 'G',\n",
       " 'F',\n",
       " '^',\n",
       " ']',\n",
       " '$',\n",
       " 'F',\n",
       " 'x',\n",
       " '#',\n",
       " 's',\n",
       " 'U',\n",
       " '>',\n",
       " '#',\n",
       " 'M',\n",
       " '$',\n",
       " 'K',\n",
       " \"'\",\n",
       " 'C',\n",
       " 'B',\n",
       " 'J',\n",
       " 'M',\n",
       " ';',\n",
       " 'g',\n",
       " 'U',\n",
       " '`',\n",
       " 'h',\n",
       " '=',\n",
       " '+',\n",
       " 'Y',\n",
       " '|',\n",
       " '6',\n",
       " '{',\n",
       " '`',\n",
       " '!',\n",
       " 'J',\n",
       " '(',\n",
       " 'F',\n",
       " '5',\n",
       " '5',\n",
       " 'Z',\n",
       " 'n',\n",
       " 'R',\n",
       " '?',\n",
       " '?',\n",
       " 'M',\n",
       " ',',\n",
       " 'B',\n",
       " ':',\n",
       " 'Y',\n",
       " 'A',\n",
       " 'W',\n",
       " 'N',\n",
       " '2',\n",
       " 'B',\n",
       " '$',\n",
       " 'v',\n",
       " '!',\n",
       " 'V',\n",
       " '3',\n",
       " 'o',\n",
       " 'm',\n",
       " '#',\n",
       " '9',\n",
       " 'X',\n",
       " 'X',\n",
       " ';',\n",
       " 'C',\n",
       " 'M',\n",
       " '6',\n",
       " ',',\n",
       " '\\\\',\n",
       " '$',\n",
       " 'V',\n",
       " '@',\n",
       " '6',\n",
       " '\\\\',\n",
       " '%',\n",
       " 'Q',\n",
       " ';',\n",
       " 'B',\n",
       " 'b',\n",
       " '*',\n",
       " 'M',\n",
       " '\\\\',\n",
       " 'q',\n",
       " 'c',\n",
       " 'E',\n",
       " 'V',\n",
       " 'E',\n",
       " '[',\n",
       " 'o',\n",
       " '[',\n",
       " ']',\n",
       " 'w',\n",
       " 'R',\n",
       " 'q',\n",
       " 'p',\n",
       " 'C',\n",
       " '-',\n",
       " 'c',\n",
       " '3',\n",
       " 'U',\n",
       " 'c',\n",
       " 'S',\n",
       " 'B',\n",
       " 'e',\n",
       " 'h',\n",
       " ',',\n",
       " '2',\n",
       " 'O',\n",
       " 'M',\n",
       " 'z',\n",
       " 'a',\n",
       " 'k',\n",
       " 'f',\n",
       " 'm',\n",
       " 's',\n",
       " 'o',\n",
       " 'o',\n",
       " '-',\n",
       " 'i',\n",
       " 'W',\n",
       " 'O',\n",
       " '1',\n",
       " 'k',\n",
       " '%',\n",
       " '1',\n",
       " 'p',\n",
       " 'E',\n",
       " 'w',\n",
       " 'H',\n",
       " 'j',\n",
       " '6',\n",
       " '/',\n",
       " 'H',\n",
       " 'M',\n",
       " 'Y',\n",
       " ';',\n",
       " '.',\n",
       " 'o',\n",
       " 'Z',\n",
       " 'I',\n",
       " 'P',\n",
       " 'Q',\n",
       " '+',\n",
       " 'K',\n",
       " 'l',\n",
       " '+',\n",
       " 'N',\n",
       " 'x',\n",
       " '3',\n",
       " ';',\n",
       " 'k',\n",
       " '@',\n",
       " '-',\n",
       " 'j',\n",
       " 'j',\n",
       " '>',\n",
       " '.',\n",
       " 'x',\n",
       " \"'\",\n",
       " '-',\n",
       " 'r',\n",
       " 'M',\n",
       " '[',\n",
       " 'f',\n",
       " '0',\n",
       " 'P',\n",
       " 'G',\n",
       " '\"',\n",
       " 'j',\n",
       " 'h',\n",
       " 'Y',\n",
       " 'D',\n",
       " 'K',\n",
       " '1',\n",
       " '9',\n",
       " '_',\n",
       " '@',\n",
       " 'z',\n",
       " 'm',\n",
       " 'F',\n",
       " '4',\n",
       " '1',\n",
       " 'j',\n",
       " 'X',\n",
       " 'Y',\n",
       " '`',\n",
       " 'D',\n",
       " '8',\n",
       " '+',\n",
       " 'i',\n",
       " 'f',\n",
       " '!',\n",
       " 'm',\n",
       " 'V',\n",
       " 'v',\n",
       " '|',\n",
       " 'Z',\n",
       " 'Y',\n",
       " '1',\n",
       " '-',\n",
       " 'C',\n",
       " 'D',\n",
       " 'H',\n",
       " '+',\n",
       " '}',\n",
       " 't',\n",
       " 'j',\n",
       " '7',\n",
       " 'U',\n",
       " 'b',\n",
       " 'J',\n",
       " '{',\n",
       " 'g',\n",
       " 'v',\n",
       " '(',\n",
       " 'X',\n",
       " 'R',\n",
       " 'G',\n",
       " 'o',\n",
       " 'P',\n",
       " '9',\n",
       " ']',\n",
       " 'n',\n",
       " '1',\n",
       " '~',\n",
       " 'd',\n",
       " '\"',\n",
       " 'X',\n",
       " 'u',\n",
       " '#',\n",
       " 'e',\n",
       " '#',\n",
       " '2',\n",
       " 'L',\n",
       " '(',\n",
       " 'M',\n",
       " 'v',\n",
       " 'j',\n",
       " 'j',\n",
       " 'M',\n",
       " 'z',\n",
       " 'o',\n",
       " 's',\n",
       " ';',\n",
       " '/',\n",
       " 'X',\n",
       " 'Q',\n",
       " '}',\n",
       " 'c',\n",
       " '+',\n",
       " 'M',\n",
       " 'v',\n",
       " 'N',\n",
       " 'C',\n",
       " 'I',\n",
       " '?',\n",
       " 'W',\n",
       " 'S',\n",
       " 'S',\n",
       " '2',\n",
       " '}',\n",
       " '2',\n",
       " '_',\n",
       " \"'\",\n",
       " '8',\n",
       " 'e',\n",
       " 'm',\n",
       " ']',\n",
       " 'S',\n",
       " 'T',\n",
       " 'e',\n",
       " 'i',\n",
       " '+',\n",
       " '<',\n",
       " ')',\n",
       " ':',\n",
       " 'r',\n",
       " ']',\n",
       " 'E',\n",
       " 'V',\n",
       " 'd',\n",
       " 'f',\n",
       " 's',\n",
       " 'w',\n",
       " 'e',\n",
       " '9',\n",
       " '!',\n",
       " ']',\n",
       " 'a',\n",
       " '0',\n",
       " 'I',\n",
       " '&',\n",
       " 'D',\n",
       " ',',\n",
       " 'd',\n",
       " 'z',\n",
       " 'B',\n",
       " 'e',\n",
       " 'k',\n",
       " '#',\n",
       " '*',\n",
       " 'X',\n",
       " 'T',\n",
       " 'u',\n",
       " '4',\n",
       " 'r',\n",
       " '\"',\n",
       " 'q',\n",
       " '6',\n",
       " 'l',\n",
       " '8',\n",
       " ']',\n",
       " 'J',\n",
       " 'C',\n",
       " '#',\n",
       " 'e',\n",
       " '*',\n",
       " 'K',\n",
       " '^',\n",
       " '@',\n",
       " '-',\n",
       " '0',\n",
       " '5',\n",
       " '7',\n",
       " 'T',\n",
       " 'I',\n",
       " 't',\n",
       " '0',\n",
       " 'O',\n",
       " 'J',\n",
       " '#',\n",
       " 'a',\n",
       " 'w',\n",
       " '%',\n",
       " 'm',\n",
       " 'f',\n",
       " 'U',\n",
       " '\"',\n",
       " 'C',\n",
       " '7',\n",
       " 'Y',\n",
       " 'f',\n",
       " 'B',\n",
       " '?',\n",
       " 'i',\n",
       " ']',\n",
       " '@',\n",
       " '2',\n",
       " '2',\n",
       " 'h',\n",
       " 'q',\n",
       " 'l',\n",
       " 'h',\n",
       " 'c',\n",
       " '0',\n",
       " 'D',\n",
       " '\"',\n",
       " 'v',\n",
       " '.',\n",
       " ':',\n",
       " '-',\n",
       " 'z',\n",
       " 'o',\n",
       " 'e',\n",
       " 'y',\n",
       " 'd',\n",
       " '@',\n",
       " 'O',\n",
       " 'Q',\n",
       " 'a',\n",
       " ')',\n",
       " 'b',\n",
       " '?',\n",
       " ',',\n",
       " 'F',\n",
       " 'm',\n",
       " 'Y',\n",
       " 'P',\n",
       " 't',\n",
       " '>',\n",
       " ':',\n",
       " 'N',\n",
       " 'q',\n",
       " '#',\n",
       " '0',\n",
       " 'X',\n",
       " '$',\n",
       " 'I',\n",
       " 'R',\n",
       " '-',\n",
       " 'S',\n",
       " '?',\n",
       " 'z',\n",
       " '-',\n",
       " '+',\n",
       " 'Y',\n",
       " 'R',\n",
       " 'W',\n",
       " '_',\n",
       " 'W',\n",
       " ']',\n",
       " 'v',\n",
       " 'c',\n",
       " '_',\n",
       " 'T',\n",
       " 'h',\n",
       " 'v',\n",
       " 'l',\n",
       " '1',\n",
       " 'O',\n",
       " 'r',\n",
       " '\\\\',\n",
       " 'l',\n",
       " 'U',\n",
       " 'q',\n",
       " 'S',\n",
       " '1',\n",
       " 'z',\n",
       " '[',\n",
       " '^',\n",
       " 'A',\n",
       " 'G',\n",
       " 't',\n",
       " 'd',\n",
       " 'n',\n",
       " '%',\n",
       " 'X',\n",
       " 'g',\n",
       " 'N',\n",
       " 'D',\n",
       " '-',\n",
       " 'J',\n",
       " 'k',\n",
       " '9',\n",
       " 'N',\n",
       " '%',\n",
       " '0',\n",
       " 'n',\n",
       " 't',\n",
       " '/',\n",
       " 'J',\n",
       " 'q',\n",
       " '<',\n",
       " 'R',\n",
       " 'P',\n",
       " 'D',\n",
       " 'W',\n",
       " 'y',\n",
       " 'g',\n",
       " 'Z',\n",
       " '~',\n",
       " '#',\n",
       " '?',\n",
       " 'Z',\n",
       " 'H',\n",
       " 'r',\n",
       " 'w',\n",
       " 'O',\n",
       " '>',\n",
       " ')',\n",
       " 'm',\n",
       " '/',\n",
       " '<',\n",
       " 'Z',\n",
       " 'f',\n",
       " '<',\n",
       " 'i',\n",
       " 'M',\n",
       " 'U',\n",
       " 'G',\n",
       " 'y',\n",
       " 'l',\n",
       " '[',\n",
       " 'N',\n",
       " 'H',\n",
       " 'Q',\n",
       " 'L',\n",
       " '2',\n",
       " 't',\n",
       " '#',\n",
       " '@',\n",
       " 'K',\n",
       " 'D',\n",
       " 'j',\n",
       " 'C',\n",
       " 'n',\n",
       " '.',\n",
       " '^',\n",
       " '`',\n",
       " 'e',\n",
       " '}',\n",
       " 'z',\n",
       " '#',\n",
       " 'w',\n",
       " '\"',\n",
       " '0',\n",
       " 'p',\n",
       " 'j',\n",
       " ',',\n",
       " '>',\n",
       " 'o',\n",
       " 'e',\n",
       " '|',\n",
       " 'S',\n",
       " ';',\n",
       " 'U',\n",
       " 'i',\n",
       " 'p',\n",
       " '>',\n",
       " 'R',\n",
       " '%',\n",
       " '>',\n",
       " 'm',\n",
       " '%',\n",
       " 'Y',\n",
       " '[',\n",
       " 'j',\n",
       " 'k',\n",
       " 'Q',\n",
       " '-',\n",
       " '4',\n",
       " '*',\n",
       " 'a',\n",
       " '}',\n",
       " 'v',\n",
       " '&',\n",
       " 'R',\n",
       " 'Q',\n",
       " 'l',\n",
       " '[',\n",
       " 'c',\n",
       " 'A',\n",
       " 'C',\n",
       " 'j',\n",
       " '=',\n",
       " '!',\n",
       " ']',\n",
       " 'T',\n",
       " 'Z',\n",
       " 'z',\n",
       " 'F',\n",
       " '_',\n",
       " '_',\n",
       " '?',\n",
       " \"'\",\n",
       " 'E',\n",
       " 'o',\n",
       " '\\\\',\n",
       " '7',\n",
       " \"'\",\n",
       " '%',\n",
       " 'M',\n",
       " '*',\n",
       " 'h',\n",
       " 'a',\n",
       " 'e',\n",
       " 'K',\n",
       " '$',\n",
       " 'E',\n",
       " 'p',\n",
       " 'N',\n",
       " \"'\",\n",
       " 't',\n",
       " 's',\n",
       " '@',\n",
       " '2',\n",
       " 'f',\n",
       " '$',\n",
       " '\\\\',\n",
       " '=',\n",
       " '#',\n",
       " '\"',\n",
       " 'g',\n",
       " '^',\n",
       " '>',\n",
       " \"'\",\n",
       " '8',\n",
       " ')',\n",
       " '[',\n",
       " ':',\n",
       " 'C',\n",
       " 'Z',\n",
       " 'J',\n",
       " 'W',\n",
       " 'p',\n",
       " ';',\n",
       " '~']"
      ]
     },
     "execution_count": 6,
     "metadata": {},
     "output_type": "execute_result"
    }
   ],
   "source": [
    "y = [random.choice(x) for i in range(1000)]\n",
    "y"
   ]
  },
  {
   "cell_type": "code",
   "execution_count": 10,
   "metadata": {
    "collapsed": false,
    "scrolled": true
   },
   "outputs": [
    {
     "data": {
      "text/plain": [
       "'@Bp]Xw#Ie-##R3+87-QN`P@=[Elqsou<86?\"PLEM\"U3e/72aMcc{y?L(4b5`vFfIrFVu3{@<(_~#j@#4jS/HV:A;E,jn4=yQ0Z$(Jf~\\\\W:Gvavi!^sRdzi2,<?S!>Q<yzd[C9wrq<i59\"kyDtl|.n[Fu~k9]=9M@|_s&.j&JhEi8@)o>+[181bAiy4,zkAn532T`ph9u=yP;x=N1GrX/;az~7o$c??U[qO\"u}lC1u\\'(5Un|<[C&^UT&AE88x\\')#]XG8Np5jS7[l*rpzPrQQ(:}RJ8d%,^ty7MPe3GE+e\\\\5X;+44j_6eoBjdSbJ914n-o~D.O{FO0AH|gE@vzRkL=^_RJ_ouLguMBy;U@0~uTGAWjdf8Y}S:urovEl~vL~*#^=4s}v5{RRmZz%5@EnMs/xfJh#_@<GF^]$Fx#sU>#M$K\\'CBJM;gU`h=+Y|6{`!J(F55ZnR??M,B:YAWN2B$v!V3om#9XX;CM6,\\\\$V@6\\\\%Q;Bb*M\\\\qcEVE[o[]wRqpC-c3UcSBeh,2OMzakfmsoo-iWO1k%1pEwHj6/HMY;.oZIPQ+Kl+Nx3;k@-jj>.x\\'-rM[f0PG\"jhYDK19_@zmF41jXY`D8+if!mVv|ZY1-CDH+}tj7UbJ{gv(XRGoP9]n1~d\"Xu#e#2L(MvjjMzos;/XQ}c+MvNCI?WSS2}2_\\'8em]STei+<):r]EVdfswe9!]a0I&D,dzBek#*XTu4r\"q6l8]JC#e*K^@-057TIt0OJ#aw%mfU\"C7YfB?i]@22hqlhc0D\"v.:-zoeyd@OQa)b?,FmYPt>:Nq#0X$IR-S?z-+YRW_W]vc_Thvl1Or\\\\lUqS1z[^AGtdn%XgND-Jk9N%0nt/Jq<RPDWygZ~#?ZHrwO>)m/<Zf<iMUGyl[NHQL2t#@KDjCn.^`e}z#w\"0pj,>oe|S;Uip>R%>m%Y[jkQ-4*a}v&RQl[cACj=!]TZzF__?\\'Eo\\\\7\\'%M*haeK$EpN\\'ts@2f$\\\\=#\"g^>\\'8)[:CZJWp;~'"
      ]
     },
     "execution_count": 10,
     "metadata": {},
     "output_type": "execute_result"
    }
   ],
   "source": [
    "z = ''.join(y)\n",
    "z"
   ]
  },
  {
   "cell_type": "code",
   "execution_count": 14,
   "metadata": {
    "collapsed": true
   },
   "outputs": [
    {
     "data": {
      "text/plain": [
       "{'!': 7,\n",
       " '\"': 11,\n",
       " '#': 21,\n",
       " '$': 9,\n",
       " '%': 10,\n",
       " '&': 6,\n",
       " \"'\": 9,\n",
       " '(': 8,\n",
       " ')': 6,\n",
       " '*': 7,\n",
       " '+': 12,\n",
       " ',': 10,\n",
       " '-': 14,\n",
       " '.': 7,\n",
       " '/': 8,\n",
       " '0': 11,\n",
       " '1': 13,\n",
       " '2': 12,\n",
       " '3': 8,\n",
       " '4': 11,\n",
       " '5': 11,\n",
       " '6': 7,\n",
       " '7': 9,\n",
       " '8': 13,\n",
       " '9': 11,\n",
       " ':': 9,\n",
       " ';': 13,\n",
       " '<': 11,\n",
       " '=': 10,\n",
       " '>': 10,\n",
       " '?': 13,\n",
       " '@': 18,\n",
       " 'A': 9,\n",
       " 'B': 10,\n",
       " 'C': 13,\n",
       " 'D': 10,\n",
       " 'E': 15,\n",
       " 'F': 10,\n",
       " 'G': 10,\n",
       " 'H': 7,\n",
       " 'I': 7,\n",
       " 'J': 14,\n",
       " 'K': 6,\n",
       " 'L': 7,\n",
       " 'M': 19,\n",
       " 'N': 11,\n",
       " 'O': 9,\n",
       " 'P': 10,\n",
       " 'Q': 12,\n",
       " 'R': 15,\n",
       " 'S': 12,\n",
       " 'T': 8,\n",
       " 'U': 13,\n",
       " 'V': 7,\n",
       " 'W': 9,\n",
       " 'X': 13,\n",
       " 'Y': 11,\n",
       " 'Z': 10,\n",
       " '[': 15,\n",
       " '\\\\': 8,\n",
       " ']': 13,\n",
       " '^': 10,\n",
       " '_': 12,\n",
       " '`': 7,\n",
       " 'a': 9,\n",
       " 'b': 6,\n",
       " 'c': 10,\n",
       " 'd': 10,\n",
       " 'e': 16,\n",
       " 'f': 12,\n",
       " 'g': 7,\n",
       " 'h': 10,\n",
       " 'i': 11,\n",
       " 'j': 20,\n",
       " 'k': 10,\n",
       " 'l': 12,\n",
       " 'm': 10,\n",
       " 'n': 11,\n",
       " 'o': 17,\n",
       " 'p': 10,\n",
       " 'q': 10,\n",
       " 'r': 11,\n",
       " 's': 10,\n",
       " 't': 9,\n",
       " 'u': 12,\n",
       " 'v': 16,\n",
       " 'w': 8,\n",
       " 'x': 6,\n",
       " 'y': 11,\n",
       " 'z': 16,\n",
       " '{': 6,\n",
       " '|': 7,\n",
       " '}': 9,\n",
       " '~': 11}"
      ]
     },
     "execution_count": 14,
     "metadata": {},
     "output_type": "execute_result"
    }
   ],
   "source": [
    "d = dict()\n",
    "for ch in z:\n",
    "    d[ch] = d.get(ch, 0) + 1\n",
    "d"
   ]
  },
  {
   "cell_type": "markdown",
   "metadata": {},
   "source": [
    "## 2.3.5 有序字典\n",
    "Python内置字典是无序的，前面的示例很好地说明了这个问题。如果需要一个可以记住元素插入顺序的字典，可以使用collections.OrderedDict。例如下面的代码："
   ]
  },
  {
   "cell_type": "code",
   "execution_count": 15,
   "metadata": {
    "collapsed": false
   },
   "outputs": [
    {
     "data": {
      "text/plain": [
       "{'a': 3, 'b': 5, 'c': 8}"
      ]
     },
     "execution_count": 15,
     "metadata": {},
     "output_type": "execute_result"
    }
   ],
   "source": [
    "x = dict() #无序字典\n",
    "x['c'] = 8\n",
    "x['b'] = 5\n",
    "x['a'] = 3\n",
    "x"
   ]
  },
  {
   "cell_type": "code",
   "execution_count": 16,
   "metadata": {
    "collapsed": false
   },
   "outputs": [
    {
     "data": {
      "text/plain": [
       "OrderedDict([('c', 8), ('b', 5), ('a', 3)])"
      ]
     },
     "execution_count": 16,
     "metadata": {},
     "output_type": "execute_result"
    }
   ],
   "source": [
    "import collections\n",
    "x = collections.OrderedDict() #有序字典\n",
    "x['c'] = 8\n",
    "x['b'] = 5\n",
    "x['a'] = 3\n",
    "x"
   ]
  },
  {
   "cell_type": "markdown",
   "metadata": {},
   "source": [
    "## 2.3.6 字典推导式"
   ]
  },
  {
   "cell_type": "code",
   "execution_count": 17,
   "metadata": {
    "collapsed": false
   },
   "outputs": [
    {
     "data": {
      "text/plain": [
       "{'    I': 'I', '  he  ': 'he', 'she    ': 'she'}"
      ]
     },
     "execution_count": 17,
     "metadata": {},
     "output_type": "execute_result"
    }
   ],
   "source": [
    "s = {x:x.strip() for x in ('  he  ', 'she    ', '    I')}\n",
    "s"
   ]
  },
  {
   "cell_type": "code",
   "execution_count": 18,
   "metadata": {
    "collapsed": false
   },
   "outputs": [
    {
     "name": "stdout",
     "output_type": "stream",
     "text": [
      "she     : she\n",
      "    I : I\n",
      "  he   : he\n"
     ]
    }
   ],
   "source": [
    "for k, v in s.items():\n",
    "    print(k, ':', v)"
   ]
  },
  {
   "cell_type": "markdown",
   "metadata": {},
   "source": [
    "## 2.4 集合\n",
    "集合是无序可变序列，使用一对大括号界定，元素不可重复。"
   ]
  },
  {
   "cell_type": "markdown",
   "metadata": {},
   "source": [
    "## 2.4.1 集合的创建与删除\n",
    "* 直接将集合赋值给变量\n",
    "* 使用set将其他类型数据转换为集合\n",
    "* 使用del删除整个集合"
   ]
  },
  {
   "cell_type": "code",
   "execution_count": 19,
   "metadata": {
    "collapsed": false
   },
   "outputs": [
    {
     "data": {
      "text/plain": [
       "{3, 5}"
      ]
     },
     "execution_count": 19,
     "metadata": {},
     "output_type": "execute_result"
    }
   ],
   "source": [
    "a={3,5}\n",
    "a"
   ]
  },
  {
   "cell_type": "code",
   "execution_count": 20,
   "metadata": {
    "collapsed": false
   },
   "outputs": [
    {
     "data": {
      "text/plain": [
       "set"
      ]
     },
     "execution_count": 20,
     "metadata": {},
     "output_type": "execute_result"
    }
   ],
   "source": [
    "type(a)"
   ]
  },
  {
   "cell_type": "code",
   "execution_count": 21,
   "metadata": {
    "collapsed": false
   },
   "outputs": [
    {
     "data": {
      "text/plain": [
       "{3, 5, 7}"
      ]
     },
     "execution_count": 21,
     "metadata": {},
     "output_type": "execute_result"
    }
   ],
   "source": [
    "a.add(7)\n",
    "a"
   ]
  },
  {
   "cell_type": "code",
   "execution_count": 22,
   "metadata": {
    "collapsed": false
   },
   "outputs": [
    {
     "data": {
      "text/plain": [
       "{8, 9, 10, 11, 12, 13}"
      ]
     },
     "execution_count": 22,
     "metadata": {},
     "output_type": "execute_result"
    }
   ],
   "source": [
    "a_set=set(range(8,14))\n",
    "a_set"
   ]
  },
  {
   "cell_type": "code",
   "execution_count": 23,
   "metadata": {
    "collapsed": false
   },
   "outputs": [
    {
     "data": {
      "text/plain": [
       "{0, 1, 2, 3, 7, 8}"
      ]
     },
     "execution_count": 23,
     "metadata": {},
     "output_type": "execute_result"
    }
   ],
   "source": [
    "b_set=set([0,1,2,3,0,1,2,3,7,8])\n",
    "b_set"
   ]
  },
  {
   "cell_type": "code",
   "execution_count": 24,
   "metadata": {
    "collapsed": false
   },
   "outputs": [
    {
     "data": {
      "text/plain": [
       "set()"
      ]
     },
     "execution_count": 24,
     "metadata": {},
     "output_type": "execute_result"
    }
   ],
   "source": [
    "c_set = set() #空集合\n",
    "c_set"
   ]
  },
  {
   "cell_type": "markdown",
   "metadata": {},
   "source": [
    "当不再使用某个集合时，可以使用del命令删除整个集合。另外，也可以使用集合对象的pop()方法弹出并删除其中一个元素，或者使用集合对象的remove()方法直接删除指定元素，以及使用集合对象的clear()方法清空集合删除所有元素。"
   ]
  },
  {
   "cell_type": "code",
   "execution_count": 25,
   "metadata": {
    "collapsed": true
   },
   "outputs": [
    {
     "data": {
      "text/plain": [
       "[10000,\n",
       " 9801,\n",
       " 9604,\n",
       " 9409,\n",
       " 9216,\n",
       " 9025,\n",
       " 8836,\n",
       " 8649,\n",
       " 8464,\n",
       " 8281,\n",
       " 8100,\n",
       " 7921,\n",
       " 7744,\n",
       " 7569,\n",
       " 7396,\n",
       " 7225,\n",
       " 7056,\n",
       " 6889,\n",
       " 6724,\n",
       " 6561,\n",
       " 6400,\n",
       " 6241,\n",
       " 6084,\n",
       " 5929,\n",
       " 5776,\n",
       " 5625,\n",
       " 5476,\n",
       " 5329,\n",
       " 5184,\n",
       " 5041,\n",
       " 4900,\n",
       " 4761,\n",
       " 4624,\n",
       " 4489,\n",
       " 4356,\n",
       " 4225,\n",
       " 4096,\n",
       " 3969,\n",
       " 3844,\n",
       " 3721,\n",
       " 3600,\n",
       " 3481,\n",
       " 3364,\n",
       " 3249,\n",
       " 3136,\n",
       " 3025,\n",
       " 2916,\n",
       " 2809,\n",
       " 2704,\n",
       " 2601,\n",
       " 2500,\n",
       " 2401,\n",
       " 2304,\n",
       " 2209,\n",
       " 2116,\n",
       " 2025,\n",
       " 1936,\n",
       " 1849,\n",
       " 1764,\n",
       " 1681,\n",
       " 1600,\n",
       " 1521,\n",
       " 1444,\n",
       " 1369,\n",
       " 1296,\n",
       " 1225,\n",
       " 1156,\n",
       " 1089,\n",
       " 1024,\n",
       " 961,\n",
       " 900,\n",
       " 841,\n",
       " 784,\n",
       " 729,\n",
       " 676,\n",
       " 625,\n",
       " 576,\n",
       " 529,\n",
       " 484,\n",
       " 441,\n",
       " 400,\n",
       " 361,\n",
       " 324,\n",
       " 289,\n",
       " 256,\n",
       " 225,\n",
       " 196,\n",
       " 169,\n",
       " 144,\n",
       " 121,\n",
       " 100,\n",
       " 81,\n",
       " 64,\n",
       " 49,\n",
       " 36,\n",
       " 25,\n",
       " 16,\n",
       " 9,\n",
       " 4,\n",
       " 1,\n",
       " 0,\n",
       " 1,\n",
       " 4,\n",
       " 9,\n",
       " 16,\n",
       " 25,\n",
       " 36,\n",
       " 49,\n",
       " 64,\n",
       " 81,\n",
       " 100,\n",
       " 121,\n",
       " 144,\n",
       " 169,\n",
       " 196,\n",
       " 225,\n",
       " 256,\n",
       " 289,\n",
       " 324,\n",
       " 361,\n",
       " 400,\n",
       " 441,\n",
       " 484,\n",
       " 529,\n",
       " 576,\n",
       " 625,\n",
       " 676,\n",
       " 729,\n",
       " 784,\n",
       " 841,\n",
       " 900,\n",
       " 961,\n",
       " 1024,\n",
       " 1089,\n",
       " 1156,\n",
       " 1225,\n",
       " 1296,\n",
       " 1369,\n",
       " 1444,\n",
       " 1521,\n",
       " 1600,\n",
       " 1681,\n",
       " 1764,\n",
       " 1849,\n",
       " 1936,\n",
       " 2025,\n",
       " 2116,\n",
       " 2209,\n",
       " 2304,\n",
       " 2401,\n",
       " 2500,\n",
       " 2601,\n",
       " 2704,\n",
       " 2809,\n",
       " 2916,\n",
       " 3025,\n",
       " 3136,\n",
       " 3249,\n",
       " 3364,\n",
       " 3481,\n",
       " 3600,\n",
       " 3721,\n",
       " 3844,\n",
       " 3969,\n",
       " 4096,\n",
       " 4225,\n",
       " 4356,\n",
       " 4489,\n",
       " 4624,\n",
       " 4761,\n",
       " 4900,\n",
       " 5041,\n",
       " 5184,\n",
       " 5329,\n",
       " 5476,\n",
       " 5625,\n",
       " 5776,\n",
       " 5929,\n",
       " 6084,\n",
       " 6241,\n",
       " 6400,\n",
       " 6561,\n",
       " 6724,\n",
       " 6889,\n",
       " 7056,\n",
       " 7225,\n",
       " 7396,\n",
       " 7569,\n",
       " 7744,\n",
       " 7921,\n",
       " 8100,\n",
       " 8281,\n",
       " 8464,\n",
       " 8649,\n",
       " 8836,\n",
       " 9025,\n",
       " 9216,\n",
       " 9409,\n",
       " 9604,\n",
       " 9801]"
      ]
     },
     "execution_count": 25,
     "metadata": {},
     "output_type": "execute_result"
    }
   ],
   "source": [
    "x = list(range(-100, 100))\n",
    "y = [i**2 for i in x]\n",
    "y"
   ]
  },
  {
   "cell_type": "code",
   "execution_count": 27,
   "metadata": {
    "collapsed": false
   },
   "outputs": [
    {
     "data": {
      "text/plain": [
       "101"
      ]
     },
     "execution_count": 27,
     "metadata": {},
     "output_type": "execute_result"
    }
   ],
   "source": [
    "z = set(y)\n",
    "z"
   ]
  },
  {
   "cell_type": "code",
   "execution_count": 28,
   "metadata": {
    "collapsed": false
   },
   "outputs": [
    {
     "data": {
      "text/plain": [
       "101"
      ]
     },
     "execution_count": 28,
     "metadata": {},
     "output_type": "execute_result"
    }
   ],
   "source": [
    "len(z)"
   ]
  },
  {
   "cell_type": "code",
   "execution_count": 29,
   "metadata": {
    "collapsed": false,
    "scrolled": true
   },
   "outputs": [],
   "source": [
    "a={1, 4, 2, 3}"
   ]
  },
  {
   "cell_type": "code",
   "execution_count": 30,
   "metadata": {
    "collapsed": false
   },
   "outputs": [
    {
     "data": {
      "text/plain": [
       "1"
      ]
     },
     "execution_count": 30,
     "metadata": {},
     "output_type": "execute_result"
    }
   ],
   "source": [
    "a.pop()"
   ]
  },
  {
   "cell_type": "code",
   "execution_count": 31,
   "metadata": {
    "collapsed": false
   },
   "outputs": [
    {
     "data": {
      "text/plain": [
       "{2, 3, 4}"
      ]
     },
     "execution_count": 31,
     "metadata": {},
     "output_type": "execute_result"
    }
   ],
   "source": [
    "a"
   ]
  },
  {
   "cell_type": "code",
   "execution_count": 32,
   "metadata": {
    "collapsed": false
   },
   "outputs": [
    {
     "data": {
      "text/plain": [
       "{2, 3, 4}"
      ]
     },
     "execution_count": 32,
     "metadata": {},
     "output_type": "execute_result"
    }
   ],
   "source": [
    "a.add(2)\n",
    "a"
   ]
  },
  {
   "cell_type": "code",
   "execution_count": 33,
   "metadata": {
    "collapsed": false
   },
   "outputs": [
    {
     "data": {
      "text/plain": [
       "{1, 2, 4}"
      ]
     },
     "execution_count": 33,
     "metadata": {},
     "output_type": "execute_result"
    }
   ],
   "source": [
    "a={1, 4, 2, 3}\n",
    "a.remove(3) #删除指定元素\n",
    "a"
   ]
  },
  {
   "cell_type": "markdown",
   "metadata": {},
   "source": [
    "## 2.4.2 集合操作\n",
    "Python集合支持交集、并集、差集等运算"
   ]
  },
  {
   "cell_type": "code",
   "execution_count": 63,
   "metadata": {
    "collapsed": false
   },
   "outputs": [
    {
     "name": "stdout",
     "output_type": "stream",
     "text": [
      "a_set: {8, 9, 10, 11, 12, 13} \tb_set: {0, 1, 2, 3, 7, 8}\n"
     ]
    }
   ],
   "source": [
    "a_set = set(range(8,14))\n",
    "b_set=set([0,1,2,3,0,1,2,3,7,8])\n",
    "print(\"a_set:\", a_set, \"\\tb_set:\",b_set)"
   ]
  },
  {
   "cell_type": "code",
   "execution_count": 35,
   "metadata": {
    "collapsed": false
   },
   "outputs": [
    {
     "data": {
      "text/plain": [
       "{0, 1, 2, 3, 7, 8, 9, 10, 11, 12, 13}"
      ]
     },
     "execution_count": 35,
     "metadata": {},
     "output_type": "execute_result"
    }
   ],
   "source": [
    "a_set.union(b_set)"
   ]
  },
  {
   "cell_type": "code",
   "execution_count": 36,
   "metadata": {
    "collapsed": false
   },
   "outputs": [
    {
     "data": {
      "text/plain": [
       "{8, 9, 10, 11, 12, 13}"
      ]
     },
     "execution_count": 36,
     "metadata": {},
     "output_type": "execute_result"
    }
   ],
   "source": [
    "a_set"
   ]
  },
  {
   "cell_type": "code",
   "execution_count": 37,
   "metadata": {
    "collapsed": false,
    "scrolled": true
   },
   "outputs": [
    {
     "data": {
      "text/plain": [
       "{0, 1, 2, 3, 7, 8}"
      ]
     },
     "execution_count": 37,
     "metadata": {},
     "output_type": "execute_result"
    }
   ],
   "source": [
    "b_set"
   ]
  },
  {
   "cell_type": "code",
   "execution_count": 38,
   "metadata": {
    "collapsed": false
   },
   "outputs": [
    {
     "data": {
      "text/plain": [
       "{0, 1, 2, 3, 7, 8, 9, 10, 11, 12, 13}"
      ]
     },
     "execution_count": 38,
     "metadata": {},
     "output_type": "execute_result"
    }
   ],
   "source": [
    "a_set|b_set"
   ]
  },
  {
   "cell_type": "code",
   "execution_count": 39,
   "metadata": {
    "collapsed": false
   },
   "outputs": [
    {
     "data": {
      "text/plain": [
       "{8}"
      ]
     },
     "execution_count": 39,
     "metadata": {},
     "output_type": "execute_result"
    }
   ],
   "source": [
    "a_set.intersection(b_set)"
   ]
  },
  {
   "cell_type": "code",
   "execution_count": 40,
   "metadata": {
    "collapsed": false
   },
   "outputs": [
    {
     "data": {
      "text/plain": [
       "{8}"
      ]
     },
     "execution_count": 40,
     "metadata": {},
     "output_type": "execute_result"
    }
   ],
   "source": [
    "a_set & b_set"
   ]
  },
  {
   "cell_type": "code",
   "execution_count": 41,
   "metadata": {
    "collapsed": false
   },
   "outputs": [
    {
     "data": {
      "text/plain": [
       "{9, 10, 11, 12, 13}"
      ]
     },
     "execution_count": 41,
     "metadata": {},
     "output_type": "execute_result"
    }
   ],
   "source": [
    "a_set.difference(b_set)"
   ]
  },
  {
   "cell_type": "code",
   "execution_count": 42,
   "metadata": {
    "collapsed": false
   },
   "outputs": [
    {
     "data": {
      "text/plain": [
       "{9, 10, 11, 12, 13}"
      ]
     },
     "execution_count": 42,
     "metadata": {},
     "output_type": "execute_result"
    }
   ],
   "source": [
    "a_set - b_set"
   ]
  },
  {
   "cell_type": "code",
   "execution_count": 43,
   "metadata": {
    "collapsed": false
   },
   "outputs": [
    {
     "data": {
      "text/plain": [
       "{0, 1, 2, 3, 7, 9, 10, 11, 12, 13}"
      ]
     },
     "execution_count": 43,
     "metadata": {},
     "output_type": "execute_result"
    }
   ],
   "source": [
    "a_set.symmetric_difference(b_set)"
   ]
  },
  {
   "cell_type": "code",
   "execution_count": 44,
   "metadata": {
    "collapsed": false
   },
   "outputs": [
    {
     "data": {
      "text/plain": [
       "{0, 1, 2, 3, 7, 9, 10, 11, 12, 13}"
      ]
     },
     "execution_count": 44,
     "metadata": {},
     "output_type": "execute_result"
    }
   ],
   "source": [
    "a_set ^ b_set"
   ]
  },
  {
   "cell_type": "markdown",
   "metadata": {},
   "source": [
    "使用集合快速提取序列中单一元素"
   ]
  },
  {
   "cell_type": "code",
   "execution_count": 50,
   "metadata": {
    "collapsed": false
   },
   "outputs": [
    {
     "data": {
      "text/plain": [
       "[173,\n",
       " 12,\n",
       " 6,\n",
       " 84,\n",
       " 168,\n",
       " 30,\n",
       " 164,\n",
       " 197,\n",
       " 14,\n",
       " 42,\n",
       " 198,\n",
       " 117,\n",
       " 111,\n",
       " 94,\n",
       " 77,\n",
       " 74,\n",
       " 73,\n",
       " 131,\n",
       " 137,\n",
       " 192,\n",
       " 18,\n",
       " 119,\n",
       " 17,\n",
       " 55,\n",
       " 75,\n",
       " 163,\n",
       " 156,\n",
       " 112,\n",
       " 138,\n",
       " 57,\n",
       " 161,\n",
       " 107,\n",
       " 130,\n",
       " 37,\n",
       " 66,\n",
       " 144,\n",
       " 143,\n",
       " 112,\n",
       " 135,\n",
       " 2,\n",
       " 20,\n",
       " 12,\n",
       " 82,\n",
       " 9,\n",
       " 53,\n",
       " 23,\n",
       " 89,\n",
       " 148,\n",
       " 0,\n",
       " 176,\n",
       " 66,\n",
       " 41,\n",
       " 136,\n",
       " 11,\n",
       " 59,\n",
       " 77,\n",
       " 190,\n",
       " 53,\n",
       " 57,\n",
       " 180,\n",
       " 93,\n",
       " 119,\n",
       " 196,\n",
       " 156,\n",
       " 73,\n",
       " 92,\n",
       " 7,\n",
       " 171,\n",
       " 195,\n",
       " 128,\n",
       " 50,\n",
       " 154,\n",
       " 190,\n",
       " 90,\n",
       " 6,\n",
       " 177,\n",
       " 197,\n",
       " 106,\n",
       " 88,\n",
       " 96,\n",
       " 128,\n",
       " 94,\n",
       " 5,\n",
       " 173,\n",
       " 36,\n",
       " 39,\n",
       " 112,\n",
       " 44,\n",
       " 8,\n",
       " 83,\n",
       " 159,\n",
       " 106,\n",
       " 81,\n",
       " 149,\n",
       " 156,\n",
       " 31,\n",
       " 188,\n",
       " 166,\n",
       " 64,\n",
       " 16]"
      ]
     },
     "execution_count": 50,
     "metadata": {},
     "output_type": "execute_result"
    }
   ],
   "source": [
    "import random\n",
    "listRandom = [random.choice(range(200)) for i in range(100)]\n",
    "listRandom"
   ]
  },
  {
   "cell_type": "code",
   "execution_count": 52,
   "metadata": {
    "collapsed": true
   },
   "outputs": [],
   "source": [
    "noRepeat = []\n",
    "for i in listRandom:\n",
    "    if i not in noRepeat:\n",
    "        noRepeat.append(i)"
   ]
  },
  {
   "cell_type": "code",
   "execution_count": 53,
   "metadata": {
    "collapsed": false
   },
   "outputs": [
    {
     "data": {
      "text/plain": [
       "82"
      ]
     },
     "execution_count": 53,
     "metadata": {},
     "output_type": "execute_result"
    }
   ],
   "source": [
    "len(noRepeat)"
   ]
  },
  {
   "cell_type": "code",
   "execution_count": 54,
   "metadata": {
    "collapsed": false
   },
   "outputs": [
    {
     "data": {
      "text/plain": [
       "82"
      ]
     },
     "execution_count": 54,
     "metadata": {},
     "output_type": "execute_result"
    }
   ],
   "source": [
    "newSet = set(listRandom)\n",
    "len(newSet)"
   ]
  },
  {
   "cell_type": "markdown",
   "metadata": {},
   "source": [
    "## 2.4.3 集合推导式"
   ]
  },
  {
   "cell_type": "code",
   "execution_count": null,
   "metadata": {
    "collapsed": false
   },
   "outputs": [],
   "source": [
    "s = {x.strip() for x in ('  he  ', 'she    ', '    I')}\n",
    "s"
   ]
  },
  {
   "cell_type": "markdown",
   "metadata": {},
   "source": [
    "## 2.5 再谈内置方法sorted()\n",
    "* 列表对象提供了sort()方法支持原地排序，而内置函数sorted()返回新的列表，并不对原列表进行任何修改。除此之外，sorted()方法还可以对元组、字典进行排序，并且借助于其key和cmp参数（Python 3.x的sorted()方法没有cmp参数）可以实现更加复杂的排序。\n",
    "* 需要注意的是，Python 2.x中内置方法sorted()的cmp参数会被处理多次，而key参数只会被处理一次，具有更高的速度。"
   ]
  },
  {
   "cell_type": "code",
   "execution_count": null,
   "metadata": {
    "collapsed": false
   },
   "outputs": [],
   "source": [
    "persons = [{'name':'Dong', 'age':37}, {'name':'Zhang', 'age':40}, {'name':'Li', 'age':50}, {'name':'Dong', 'age':43}]\n",
    "print(persons)"
   ]
  },
  {
   "cell_type": "markdown",
   "metadata": {},
   "source": [
    "使用key来指定排序依据，先按姓名升序排序，姓名相同的按年龄降序排序"
   ]
  },
  {
   "cell_type": "code",
   "execution_count": null,
   "metadata": {
    "collapsed": false
   },
   "outputs": [],
   "source": [
    "sorted_persons = sorted(persons, key=lambda x:(x['name'], -x['age']))"
   ]
  },
  {
   "cell_type": "code",
   "execution_count": null,
   "metadata": {
    "collapsed": false,
    "scrolled": true
   },
   "outputs": [],
   "source": [
    "sorted_persons"
   ]
  },
  {
   "cell_type": "code",
   "execution_count": null,
   "metadata": {
    "collapsed": true
   },
   "outputs": [],
   "source": [
    "from operator import itemgetter\n",
    "phonebook = {'Linda':'7750', 'Bob':'9345', 'Carol':'5834'}"
   ]
  },
  {
   "cell_type": "code",
   "execution_count": null,
   "metadata": {
    "collapsed": false
   },
   "outputs": [],
   "source": [
    "phonebook_items = list(phonebook.items())\n",
    "phonebook_items"
   ]
  },
  {
   "cell_type": "code",
   "execution_count": null,
   "metadata": {
    "collapsed": false
   },
   "outputs": [],
   "source": [
    "itemgetter(0)(phonebook_items[0])"
   ]
  },
  {
   "cell_type": "code",
   "execution_count": null,
   "metadata": {
    "collapsed": false
   },
   "outputs": [],
   "source": [
    "sorted(phonebook.items(), key=itemgetter(1)) #按字典中元素值进行排序"
   ]
  },
  {
   "cell_type": "code",
   "execution_count": null,
   "metadata": {
    "collapsed": false,
    "scrolled": true
   },
   "outputs": [],
   "source": [
    "sorted(phonebook.items(), key=itemgetter(0)) #按字典中元素的键进行排序"
   ]
  },
  {
   "cell_type": "code",
   "execution_count": null,
   "metadata": {
    "collapsed": true
   },
   "outputs": [],
   "source": [
    "gameresult = [['Bob', 95.0, 'A'], ['Alan', 86.0, 'C'], ['Mandy', 83.5, 'A'], ['Rob', 89.3, 'E']]"
   ]
  },
  {
   "cell_type": "code",
   "execution_count": null,
   "metadata": {
    "collapsed": false
   },
   "outputs": [],
   "source": [
    "sorted(gameresult, key=itemgetter(0, 1)) #按姓名升序，姓名相同按分数升序排序"
   ]
  },
  {
   "cell_type": "code",
   "execution_count": null,
   "metadata": {
    "collapsed": false
   },
   "outputs": [],
   "source": [
    "sorted(gameresult, key=itemgetter(1, 0)) #按分数升序，分数相同的按姓名升序排序"
   ]
  },
  {
   "cell_type": "code",
   "execution_count": null,
   "metadata": {
    "collapsed": false,
    "scrolled": true
   },
   "outputs": [],
   "source": [
    "sorted(gameresult, key=itemgetter(2, 0)) #按等级升序，等级相同的按姓名升序排序"
   ]
  },
  {
   "cell_type": "code",
   "execution_count": null,
   "metadata": {
    "collapsed": true
   },
   "outputs": [],
   "source": [
    "gameresult = [{'name':'Bob', 'wins':10, 'losses':3, 'rating':75.0},\n",
    "              {'name':'David', 'wins':3, 'losses':5, 'rating':57.0},\n",
    "              {'name':'Carol', 'wins':4, 'losses':5, 'rating':57.0},\n",
    "              {'name':'Patty', 'wins':9, 'losses':3, 'rating':72.8}]"
   ]
  },
  {
   "cell_type": "code",
   "execution_count": null,
   "metadata": {
    "collapsed": false
   },
   "outputs": [],
   "source": [
    "#按’wins’升序，该值相同的按’name’升序排序\n",
    "sorted(gameresult, key=itemgetter('wins', 'name')) "
   ]
  },
  {
   "cell_type": "markdown",
   "metadata": {},
   "source": [
    "以下代码演示如何根据另外一个列表的值来对当前列表元素进行排序"
   ]
  },
  {
   "cell_type": "code",
   "execution_count": null,
   "metadata": {
    "collapsed": true
   },
   "outputs": [],
   "source": [
    "list1 = [\"what\", \"I'm\", \"sorting\", \"by\"]\n",
    "list2 = [\"something\", \"else\", \"to\", \"sort\"]"
   ]
  },
  {
   "cell_type": "code",
   "execution_count": null,
   "metadata": {
    "collapsed": true
   },
   "outputs": [],
   "source": [
    "pairs = zip(list1, list2)\n",
    "pairs = sorted(pairs)"
   ]
  },
  {
   "cell_type": "code",
   "execution_count": null,
   "metadata": {
    "collapsed": false
   },
   "outputs": [],
   "source": [
    "pairs"
   ]
  },
  {
   "cell_type": "code",
   "execution_count": null,
   "metadata": {
    "collapsed": false
   },
   "outputs": [],
   "source": [
    "result = [x[1] for x in pairs]\n",
    "result"
   ]
  },
  {
   "cell_type": "markdown",
   "metadata": {},
   "source": [
    "## 2.6 其他数据结构\n",
    "* 在Python中，除了基本序列之外，还有其他一些常用的数据结构，如堆、栈、队列、树、图等等。\n",
    "* 有些结构Python已经提供，而有些则需要自己利用基本数据结构来实现。\n",
    "* <font color=red> 这块内容大家先自学 </font>"
   ]
  },
  {
   "cell_type": "code",
   "execution_count": null,
   "metadata": {
    "collapsed": true
   },
   "outputs": [],
   "source": []
  }
 ],
 "metadata": {
  "anaconda-cloud": {},
  "kernelspec": {
   "display_name": "Python [conda root]",
   "language": "python",
   "name": "conda-root-py"
  },
  "language_info": {
   "codemirror_mode": {
    "name": "ipython",
    "version": 3
   },
   "file_extension": ".py",
   "mimetype": "text/x-python",
   "name": "python",
   "nbconvert_exporter": "python",
   "pygments_lexer": "ipython3",
   "version": "3.5.2"
  }
 },
 "nbformat": 4,
 "nbformat_minor": 0
}

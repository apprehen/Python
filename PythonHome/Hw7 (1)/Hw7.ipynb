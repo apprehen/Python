{
 "cells": [
  {
   "cell_type": "markdown",
   "metadata": {},
   "source": [
    "# 作业7\n",
    "要求: \n",
    "    1. 尽量自己独立完成，如不懂可以问同学和老师，但是所有的代码都要自己输入，看懂，亲自运行\n",
    "    2. 注意作业的截止时间，要在截止时间前提交\n",
    "    3. 作业提交只需提交对应的ipynb后缀的文件\n",
    "题目："
   ]
  },
  {
   "cell_type": "markdown",
   "metadata": {},
   "source": [
    "#### 1.编写函数stat，接收一个列表参数param，返回一个元组，其中的元素依次为param中的平均数、最大数、最小数、中位数。\n",
    "~~~ python\n",
    "例如：\n",
    "a = list(range(1, 100, 5))\n",
    "print(stat(a))\n",
    "\n",
    "(48.5, 96, 1, 51)\n",
    "~~~"
   ]
  },
  {
   "cell_type": "code",
   "execution_count": 1,
   "metadata": {
    "collapsed": false,
    "jupyter": {
     "outputs_hidden": false
    },
    "scrolled": true
   },
   "outputs": [],
   "source": [
    "#补充完整下面的函数\n",
    "def stat(param):\n",
    "    heigest = max(param)\n",
    "    lowest = min(param)\n",
    "    averge = (sum(param)*1.0)/len(param)\n",
    "    length = int(len(param))\n",
    "    if length%2==0:\n",
    "        zhongweishu = (param[length//2] + param[length//2 - 1])/2\n",
    "    else:\n",
    "        zhongweishu = param[length//2]\n",
    "    print((averge,heigest,lowest,zhongweishu))\n"
   ]
  },
  {
   "cell_type": "code",
   "execution_count": 2,
   "metadata": {
    "collapsed": false,
    "jupyter": {
     "outputs_hidden": false
    }
   },
   "outputs": [
    {
     "name": "stdout",
     "output_type": "stream",
     "text": [
      "(48.5, 96, 1, 48.5)\n",
      "None\n"
     ]
    }
   ],
   "source": [
    "a = list(range(1, 100, 5))\n",
    "print(stat(a))"
   ]
  },
  {
   "cell_type": "markdown",
   "metadata": {},
   "source": [
    "#### 2.编写函数box，接收字符串参数s，返回一个字符串，内容是加边框的s：\n",
    "~~~ python\n",
    "例：\n",
    "print(box('Hello World'))\n",
    "\n",
    "***************\n",
    "* Hello World *\n",
    "***************\n",
    "~~~"
   ]
  },
  {
   "cell_type": "code",
   "execution_count": 3,
   "metadata": {
    "collapsed": true,
    "jupyter": {
     "outputs_hidden": true
    }
   },
   "outputs": [],
   "source": [
    "#补充完整下面的函数\n",
    "def box(s):\n",
    "    s = s.join([' ',' ']).join(['*','*'])+'\\n'\n",
    "    top = ['*'] * len(s)\n",
    "    topstr = ''.join(top)+'\\n'\n",
    "    result = s.join([topstr,topstr])\n",
    "    print(result)"
   ]
  },
  {
   "cell_type": "code",
   "execution_count": 4,
   "metadata": {
    "collapsed": false,
    "jupyter": {
     "outputs_hidden": false
    }
   },
   "outputs": [
    {
     "name": "stdout",
     "output_type": "stream",
     "text": [
      "****************\n",
      "* Hello World *\n",
      "****************\n",
      "\n",
      "None\n"
     ]
    }
   ],
   "source": [
    "print(box('Hello World'))"
   ]
  },
  {
   "cell_type": "markdown",
   "metadata": {},
   "source": [
    "#### 3.编写函数ssum，接收可变参数p，返回这些参数的平方和。\n",
    "~~~ python\n",
    "例\n",
    "ssum(2,3)\n",
    "13\n",
    "例\n",
    "ssum(3,4,5)\n",
    "50\n",
    "~~~"
   ]
  },
  {
   "cell_type": "code",
   "execution_count": 5,
   "metadata": {
    "collapsed": false,
    "jupyter": {
     "outputs_hidden": false
    }
   },
   "outputs": [],
   "source": [
    "#补充完整下面的函数\n",
    "def ssum(*p):\n",
    "    sum = 0\n",
    "    for n in p:\n",
    "        sum = sum + n*n\n",
    "    return sum"
   ]
  },
  {
   "cell_type": "code",
   "execution_count": 6,
   "metadata": {
    "collapsed": false,
    "jupyter": {
     "outputs_hidden": false
    }
   },
   "outputs": [
    {
     "data": {
      "text/plain": [
       "13"
      ]
     },
     "execution_count": 6,
     "metadata": {},
     "output_type": "execute_result"
    }
   ],
   "source": [
    "ssum(2,3)"
   ]
  },
  {
   "cell_type": "code",
   "execution_count": 7,
   "metadata": {
    "collapsed": false,
    "jupyter": {
     "outputs_hidden": false
    }
   },
   "outputs": [
    {
     "data": {
      "text/plain": [
       "50"
      ]
     },
     "execution_count": 7,
     "metadata": {},
     "output_type": "execute_result"
    }
   ],
   "source": [
    "ssum(3,4,5)"
   ]
  },
  {
   "cell_type": "markdown",
   "metadata": {},
   "source": [
    "#### 4.编写函数Factorial，接收参数n，返回n的阶乘。\n",
    "提示可以使用递归：  \n",
    "$f(1) = 1$  \n",
    "$f(n) = n * f(n-1)$  \n",
    "~~~ python\n",
    "例\n",
    "print('f(3)=', f(3))\n",
    "print('f(5)=', f(5))\n",
    "\n",
    "f(3)= 6\n",
    "f(5)= 120\n",
    "~~~"
   ]
  },
  {
   "cell_type": "code",
   "execution_count": 8,
   "metadata": {
    "collapsed": false,
    "jupyter": {
     "outputs_hidden": false
    },
    "scrolled": true
   },
   "outputs": [],
   "source": [
    "#补充完整下面的函数\n",
    "def f(n):\n",
    "    sum = 1\n",
    "    for i in range(1,n+1):\n",
    "        sum = sum*i\n",
    "    return sum"
   ]
  },
  {
   "cell_type": "code",
   "execution_count": 9,
   "metadata": {
    "collapsed": false,
    "jupyter": {
     "outputs_hidden": false
    }
   },
   "outputs": [
    {
     "name": "stdout",
     "output_type": "stream",
     "text": [
      "f(3)= 6\n",
      "f(5)= 120\n"
     ]
    }
   ],
   "source": [
    "print('f(3)=', f(3))\n",
    "print('f(5)=', f(5))"
   ]
  },
  {
   "cell_type": "markdown",
   "metadata": {},
   "source": [
    "#### 5 编写函数square，接收整数参数n，返回一个生成器（generator），可以生成1～n的平方。\n",
    "提示，利用yield\n",
    "~~~ python\n",
    "list(square(5))\n",
    "[1, 4, 9, 16, 25]\n",
    "~~~"
   ]
  },
  {
   "cell_type": "code",
   "execution_count": 14,
   "metadata": {
    "collapsed": false,
    "jupyter": {
     "outputs_hidden": false
    }
   },
   "outputs": [],
   "source": [
    "#补充完整下面的函数\n",
    "def square(n):\n",
    "    yield [i*i for i in range(1,n+1)]"
   ]
  },
  {
   "cell_type": "code",
   "execution_count": 15,
   "metadata": {
    "collapsed": false,
    "jupyter": {
     "outputs_hidden": false
    }
   },
   "outputs": [
    {
     "data": {
      "text/plain": [
       "[[1, 4, 9, 16, 25]]"
      ]
     },
     "execution_count": 15,
     "metadata": {},
     "output_type": "execute_result"
    }
   ],
   "source": [
    "list(square(5))"
   ]
  },
  {
   "cell_type": "markdown",
   "metadata": {},
   "source": [
    "#### 6.编写函数permutate，接收一个列表，返回一个生成器，生成列表元素的所有排列。（思考题，可以不做）\n",
    "提示，排列可以通过递归实现，假设要排列的元素放在列表plist中，那么：    \n",
    "(1) 如果len(plist) <= 1, 那么plist就是所有的排列组合   \n",
    "(2) 其它情况，依次将plist中的每一个元素放第一个位置，然后和剩余元素的每一个排列拼接在一起   \n",
    "在做的过程中，可以先不做生成器，而是生成所有排列的列表  \n",
    "~~~ python\n",
    "list(permutate([1,2,3]))\n",
    "[[1, 2, 3], [1, 3, 2], [2, 1, 3], [2, 3, 1], [3, 1, 2], [3, 2, 1]]\n",
    "~~~"
   ]
  },
  {
   "cell_type": "code",
   "execution_count": 16,
   "metadata": {
    "collapsed": false,
    "jupyter": {
     "outputs_hidden": false
    }
   },
   "outputs": [],
   "source": [
    "def permutate(plist):\n",
    "    if len(plist) <= 1:\n",
    "        yield plist\n",
    "    else:\n",
    "        for perm in permutate(plist[1:]):\n",
    "            for i in range(len(plist)):\n",
    "                yield perm[:i] + plist[0:1] + perm[i:]"
   ]
  },
  {
   "cell_type": "code",
   "execution_count": 17,
   "metadata": {
    "collapsed": false,
    "jupyter": {
     "outputs_hidden": false
    }
   },
   "outputs": [
    {
     "data": {
      "text/plain": [
       "[[1, 2, 3], [2, 1, 3], [2, 3, 1], [1, 3, 2], [3, 1, 2], [3, 2, 1]]"
      ]
     },
     "execution_count": 17,
     "metadata": {},
     "output_type": "execute_result"
    }
   ],
   "source": [
    "list(permutate([1,2,3]))"
   ]
  },
  {
   "cell_type": "markdown",
   "metadata": {},
   "source": [
    "#### 7.学生信息管理系统实现，学习模块化设计思想，完成学生信息的导入、导出、录入、输出、查找、修改、删除等。请读懂已经写好的大部分代码，并补充完整其它代码"
   ]
  },
  {
   "cell_type": "markdown",
   "metadata": {},
   "source": [
    "#### (1) 全局变量"
   ]
  },
  {
   "cell_type": "code",
   "execution_count": 18,
   "metadata": {
    "collapsed": true,
    "jupyter": {
     "outputs_hidden": true
    }
   },
   "outputs": [],
   "source": [
    "student_filename = 'students.csv'\n",
    "info_header = '学号,姓名,性别,年龄'\n",
    "#存储所有学生的信息列表\n",
    "listStudentInfo = []"
   ]
  },
  {
   "cell_type": "markdown",
   "metadata": {},
   "source": [
    "#### (2) 学生信息的导入"
   ]
  },
  {
   "cell_type": "code",
   "execution_count": 19,
   "metadata": {
    "collapsed": true,
    "jupyter": {
     "outputs_hidden": true
    }
   },
   "outputs": [],
   "source": [
    "def StudentInfoFromLine(stud_info, line):\n",
    "    '''从单行数据line中解析出学生信息并放入stud_info中'''\n",
    "    infos = line.strip().split(',')\n",
    "    stud_info['studno'] = infos[0]\n",
    "    stud_info['name'] = infos[1]\n",
    "    stud_info['sex'] = infos[2]\n",
    "    stud_info['age'] = infos[3]"
   ]
  },
  {
   "cell_type": "code",
   "execution_count": 20,
   "metadata": {
    "collapsed": true,
    "jupyter": {
     "outputs_hidden": true
    }
   },
   "outputs": [],
   "source": [
    "def LoadStudentInfo():\n",
    "    '''从学生信息文件中加载学生信息'''\n",
    "    listStudentInfo.clear()\n",
    "    fp = open(student_filename, 'rt')\n",
    "    #去掉第一行表头\n",
    "    fp.readline()\n",
    "    for line in fp:\n",
    "        stud_info = dict()\n",
    "        StudentInfoFromLine(stud_info, line)\n",
    "        listStudentInfo.append(stud_info)\n",
    "    fp.close()"
   ]
  },
  {
   "cell_type": "code",
   "execution_count": 21,
   "metadata": {
    "collapsed": false,
    "jupyter": {
     "outputs_hidden": false
    }
   },
   "outputs": [
    {
     "data": {
      "text/plain": [
       "[{'studno': '18271401', 'name': '陈雯', 'sex': '女', 'age': '18'},\n",
       " {'studno': '18271402', 'name': '丁柳欣', 'sex': '女', 'age': '18'},\n",
       " {'studno': '18271424', 'name': '刘芷煜', 'sex': '男', 'age': '18'},\n",
       " {'studno': '18271403', 'name': '丰雨薇', 'sex': '女', 'age': '18'},\n",
       " {'studno': '18271425', 'name': '罗锟', 'sex': '男', 'age': '18'},\n",
       " {'studno': '18271426', 'name': '宁宸', 'sex': '男', 'age': '18'},\n",
       " {'studno': '18271405', 'name': '李欣悦', 'sex': '女', 'age': '18'},\n",
       " {'studno': '18271427', 'name': '邵吴彧', 'sex': '男', 'age': '18'},\n",
       " {'studno': '18271406', 'name': '彭红利', 'sex': '女', 'age': '18'},\n",
       " {'studno': '18271423', 'name': '李章嵩', 'sex': '男', 'age': '18'}]"
      ]
     },
     "execution_count": 21,
     "metadata": {},
     "output_type": "execute_result"
    }
   ],
   "source": [
    "LoadStudentInfo()\n",
    "listStudentInfo"
   ]
  },
  {
   "cell_type": "markdown",
   "metadata": {},
   "source": [
    "#### (3) 学生信息的显示"
   ]
  },
  {
   "cell_type": "code",
   "execution_count": 165,
   "metadata": {
    "collapsed": true,
    "jupyter": {
     "outputs_hidden": true
    }
   },
   "outputs": [],
   "source": [
    "def PrintStudentInfo(stud_info):\n",
    "    '''显示单个学生信息stud_info'''\n",
    "    print(end='|')\n",
    "    print(stud_info['studno'].center(14,' '), end='|')\n",
    "    print(stud_info['name'].center(12,' '), end='|')\n",
    "    print(stud_info['sex'].center(8,' '), end='|')\n",
    "    print(stud_info['age'].center(10,' '), end='|')\n",
    "    print()"
   ]
  },
  {
   "cell_type": "code",
   "execution_count": 166,
   "metadata": {
    "collapsed": true,
    "jupyter": {
     "outputs_hidden": true
    }
   },
   "outputs": [],
   "source": [
    "def PrintStudentInfoList():\n",
    "    '''显示所有学生信息列表'''\n",
    "    print(end='|')\n",
    "    print('学号'.center(12,'*'), end='|')\n",
    "    print('姓名'.center(12,'*'), end='|')\n",
    "    print('性别'.center(8,'*'), end='|')\n",
    "    print('年龄'.center(8,'*'), end='|')\n",
    "    print()\n",
    "    for stud_info in listStudentInfo:\n",
    "        PrintStudentInfo(stud_info)"
   ]
  },
  {
   "cell_type": "code",
   "execution_count": 107,
   "metadata": {
    "collapsed": false,
    "jupyter": {
     "outputs_hidden": false
    },
    "scrolled": true
   },
   "outputs": [
    {
     "name": "stdout",
     "output_type": "stream",
     "text": [
      "|*****学号*****|*****姓名*****|***性别***|***年龄***|\n",
      "|   16272101   |    戴心怡     |   女    |    18    |\n",
      "|   16272111   |    陈钊宇     |   男    |    18    |\n",
      "|   16272121   |    李改顺     |   男    |    18    |\n",
      "|   16272131   |    王凯帆     |   男    |    18    |\n",
      "|   16272201   |    高天洋     |   男    |    18    |\n",
      "|   16272211   |    陈乐聪     |   男    |    18    |\n"
     ]
    }
   ],
   "source": [
    "PrintStudentInfoList()"
   ]
  },
  {
   "cell_type": "markdown",
   "metadata": {},
   "source": [
    "#### (4) 学生信息的导出，请实现函数StudentInfoToLine的代码"
   ]
  },
  {
   "cell_type": "code",
   "execution_count": 178,
   "metadata": {
    "collapsed": true,
    "jupyter": {
     "outputs_hidden": true
    }
   },
   "outputs": [],
   "source": [
    "#请补充完整下面的代码\n",
    "def StudentInfoToLine(stud_info):\n",
    "    '''将stud_info信息转成文件的一行内容，并返回该行内容'''"
   ]
  },
  {
   "cell_type": "code",
   "execution_count": 75,
   "metadata": {
    "collapsed": false,
    "jupyter": {
     "outputs_hidden": false
    }
   },
   "outputs": [],
   "source": [
    "def SaveStudentInfo():\n",
    "    '''将所有学生信息写入学生信息文件'''\n",
    "    fp = open(student_filename, 'wt')\n",
    "    print(info_header, file=fp)\n",
    "    for stud_info in listStudentInfo:\n",
    "        line = StudentInfoToLine(stud_info)\n",
    "        print(line, file=fp)\n",
    "    fp.close()"
   ]
  },
  {
   "cell_type": "code",
   "execution_count": 176,
   "metadata": {
    "collapsed": false,
    "jupyter": {
     "outputs_hidden": false
    }
   },
   "outputs": [],
   "source": [
    "#测试导出效果\n",
    "SaveStudentInfo()"
   ]
  },
  {
   "cell_type": "markdown",
   "metadata": {},
   "source": [
    "#### (5) 学生信息的录入"
   ]
  },
  {
   "cell_type": "code",
   "execution_count": 169,
   "metadata": {
    "collapsed": false,
    "jupyter": {
     "outputs_hidden": false
    }
   },
   "outputs": [],
   "source": [
    "def InputStudentInfo(stud_info, modify = False):\n",
    "    '''输入学生信息到stud_info,modify为True时表示修改模式'''\n",
    "    if (modify):\n",
    "        stud_info['studno'] = input('学号:%s, 请修改(不修改直接回车)：' % stud_info['studno']) or stud_info['studno']\n",
    "        stud_info['name'] = input('姓名:%s, 请修改(不修改直接回车)：' % stud_info['name']) or stud_info['name']\n",
    "        stud_info['sex'] = input('性别:%s, 请修改(不修改直接回车)：' % stud_info['sex']) or stud_info['sex']\n",
    "        stud_info['age'] = input('年龄:%s, 请修改(不修改直接回车)：' % stud_info['age']) or stud_info['age']\n",
    "    else:\n",
    "        stud_info['studno'] = input('请输入学号：')\n",
    "        stud_info['name'] = input('请输入姓名：')\n",
    "        stud_info['sex'] = input('请输入性别(男，女)：')\n",
    "        stud_info['age'] = input('请输入年龄：')"
   ]
  },
  {
   "cell_type": "code",
   "execution_count": 171,
   "metadata": {
    "collapsed": true,
    "jupyter": {
     "outputs_hidden": true
    }
   },
   "outputs": [],
   "source": [
    "def AddStudentInfo():\n",
    "    '''添加一个学生信息到学生信息列表'''\n",
    "    stud_info = dict()\n",
    "    InputStudentInfo(stud_info)\n",
    "    listStudentInfo.append(stud_info)"
   ]
  },
  {
   "cell_type": "code",
   "execution_count": 128,
   "metadata": {
    "collapsed": false,
    "jupyter": {
     "outputs_hidden": false
    }
   },
   "outputs": [
    {
     "name": "stdout",
     "output_type": "stream",
     "text": [
      "请输入学号：000001\n",
      "请输入姓名：实例\n",
      "请输入性别(男，女)：那\n",
      "请输入年龄：13\n",
      "|*****学号*****|*****姓名*****|***性别***|***年龄***|\n",
      "|   16272101   |    陈钊宇     |   女    |    23    |\n",
      "|   16272111   |    陈钊宇     |   男    |    18    |\n",
      "|   16272121   |    李改顺     |   男    |    18    |\n",
      "|   16272131   |    王凯帆     |   男    |    18    |\n",
      "|   16272201   |    高天洋     |   男    |    18    |\n",
      "|   16272211   |    陈乐聪     |   男    |    18    |\n",
      "|    100001    |     王五     |   男    |    21    |\n",
      "|    000001    |     里斯     |   男    |    19    |\n",
      "|    000001    |     实例     |   那    |    13    |\n"
     ]
    }
   ],
   "source": [
    "#测试添加效果\n",
    "AddStudentInfo()\n",
    "PrintStudentInfoList()"
   ]
  },
  {
   "cell_type": "markdown",
   "metadata": {},
   "source": [
    "#### (6) 学生信息的查找(根据学号查找)，返回该学生的信息，请实现函数FindStudentInfoIndexByStudNo的代码"
   ]
  },
  {
   "cell_type": "code",
   "execution_count": 179,
   "metadata": {
    "collapsed": false,
    "jupyter": {
     "outputs_hidden": false
    }
   },
   "outputs": [],
   "source": [
    "#请补充完整下面的代码\n",
    "def FindStudentInfoIndexByStudNo(studno):\n",
    "    '''输入studno为学生学号，返回该学号在listStudentInfo中的下标，找不到返回-1'''"
   ]
  },
  {
   "cell_type": "code",
   "execution_count": 173,
   "metadata": {
    "collapsed": true,
    "jupyter": {
     "outputs_hidden": true
    }
   },
   "outputs": [],
   "source": [
    "def FindStudentInfo():\n",
    "    '''输入学号，查找该学号的学生信息'''\n",
    "    studno = input('请输入你要查找学生的学号：')\n",
    "    index = FindStudentInfoIndexByStudNo(studno)\n",
    "    if index == -1:\n",
    "        print('找不到学号为%s的学生！' % studno)\n",
    "    else:\n",
    "        PrintStudentInfo(listStudentInfo[index])"
   ]
  },
  {
   "cell_type": "code",
   "execution_count": 138,
   "metadata": {
    "collapsed": false,
    "jupyter": {
     "outputs_hidden": false
    }
   },
   "outputs": [
    {
     "name": "stdout",
     "output_type": "stream",
     "text": [
      "请输入你要查找学生的学号：000001\n",
      "|    000001    |     里斯     |   男    |    19    |\n"
     ]
    }
   ],
   "source": [
    "#测试查找效果\n",
    "FindStudentInfo()"
   ]
  },
  {
   "cell_type": "markdown",
   "metadata": {},
   "source": [
    "#### (7) 学生信息的修改(先根据学号查找)"
   ]
  },
  {
   "cell_type": "code",
   "execution_count": 174,
   "metadata": {
    "collapsed": true,
    "jupyter": {
     "outputs_hidden": true
    }
   },
   "outputs": [],
   "source": [
    "def ModifyStudentInfo():\n",
    "    '''先输入学号，根据学号查找，然后显示找到学生信息，并提示用户是否要修改该学生信息，确认后方可删除'''\n",
    "    studno = input('请输入你要修改学生的学号：')\n",
    "    index = FindStudentInfoIndexByStudNo(studno)\n",
    "    if index == -1:\n",
    "        print('找不到学号为%s的学生！' % studno)\n",
    "    else:\n",
    "        PrintStudentInfo(listStudentInfo[index])\n",
    "        if input('是否要修改该学生信息(y or n)').strip().lower() == 'y':\n",
    "            InputStudentInfo(listStudentInfo[index], True)"
   ]
  },
  {
   "cell_type": "code",
   "execution_count": 147,
   "metadata": {
    "collapsed": false,
    "jupyter": {
     "outputs_hidden": false
    }
   },
   "outputs": [
    {
     "name": "stdout",
     "output_type": "stream",
     "text": [
      "请输入你要修改学生的学号：000001\n",
      "|    000001    |     里斯     |   男    |    19    |\n",
      "是否要修改该学生信息(y or n)y\n",
      "学号:000001, 请修改(不修改直接回车)：000002\n",
      "姓名:里斯, 请修改(不修改直接回车)：李四\n",
      "性别:男, 请修改(不修改直接回车)：\n",
      "年龄:19, 请修改(不修改直接回车)：\n"
     ]
    }
   ],
   "source": [
    "#测试修改效果\n",
    "ModifyStudentInfo()"
   ]
  },
  {
   "cell_type": "markdown",
   "metadata": {},
   "source": [
    "#### (8) 学生信息的删除(先输入学号，根据学号查找，然后显示找到学生信息，并提示用户是否要删除该学生信息，确认后方可删除），请实现函数DeleteStudentInfo的代码"
   ]
  },
  {
   "cell_type": "code",
   "execution_count": 182,
   "metadata": {
    "collapsed": true,
    "jupyter": {
     "outputs_hidden": true
    }
   },
   "outputs": [],
   "source": [
    "#请补充完整下面的代码\n",
    "def DeleteStudentInfo():\n",
    "    '''先输入学号，根据学号查找，然后显示找到学生信息，并提示用户是否要删除该学生信息，确认后方可删除'''"
   ]
  },
  {
   "cell_type": "code",
   "execution_count": 160,
   "metadata": {
    "collapsed": false,
    "jupyter": {
     "outputs_hidden": false
    }
   },
   "outputs": [
    {
     "name": "stdout",
     "output_type": "stream",
     "text": [
      "请输入你要删除学生的学号：16272124\n",
      "|   16272124   |     王五     |   男    |    25    |\n",
      "是否要删除该学生信息(y or n)y\n"
     ]
    }
   ],
   "source": [
    "#测试删除效果\n",
    "DeleteStudentInfo()"
   ]
  },
  {
   "cell_type": "code",
   "execution_count": 161,
   "metadata": {
    "collapsed": false,
    "jupyter": {
     "outputs_hidden": false
    }
   },
   "outputs": [
    {
     "name": "stdout",
     "output_type": "stream",
     "text": [
      "|*****学号*****|*****姓名*****|***性别***|***年龄***|\n",
      "|   16272101   |    戴心怡     |   女    |    18    |\n",
      "|   16272111   |    陈钊宇     |   男    |    18    |\n",
      "|   16272121   |    李改顺     |   男    |    18    |\n",
      "|   16272131   |    王凯帆     |   男    |    18    |\n",
      "|   16272201   |    高天洋     |   男    |    18    |\n",
      "|   16272211   |    陈乐聪     |   男    |    18    |\n"
     ]
    }
   ],
   "source": [
    "PrintStudentInfoList()"
   ]
  },
  {
   "cell_type": "markdown",
   "metadata": {},
   "source": [
    "#### (9) 学生信息管理系统总菜单"
   ]
  },
  {
   "cell_type": "code",
   "execution_count": 155,
   "metadata": {
    "collapsed": true,
    "jupyter": {
     "outputs_hidden": true
    }
   },
   "outputs": [],
   "source": [
    "def StudentInfoMenu():\n",
    "    '''学生信息管理系统总菜单'''\n",
    "    menu_tip = '''\\\n",
    "        1、学生信息导入\n",
    "        2、学生信息导出\n",
    "        3、显示学生信息列表\n",
    "        4、添加学生信息\n",
    "        5、查找学生信息\n",
    "        6、修改学生信息\n",
    "        7、删除学生信息\n",
    "        8、退出\n",
    "        请选择：'''\n",
    "    while(True):\n",
    "        select = input(menu_tip).strip()\n",
    "        if select == '1':\n",
    "            LoadStudentInfo()\n",
    "        elif  select == '2':\n",
    "            SaveStudentInfo()\n",
    "        elif  select == '3':\n",
    "            PrintStudentInfoList()\n",
    "        elif  select == '4':\n",
    "            AddStudentInfo()\n",
    "        elif  select == '5':\n",
    "            FindStudentInfo()\n",
    "        elif  select == '6':\n",
    "            ModifyStudentInfo()\n",
    "        elif  select == '7':\n",
    "            DeleteStudentInfo()\n",
    "        elif  select == '8':\n",
    "            break\n",
    "        else:\n",
    "            print('输入错误，请重新选择')"
   ]
  },
  {
   "cell_type": "code",
   "execution_count": 156,
   "metadata": {
    "collapsed": false,
    "jupyter": {
     "outputs_hidden": false
    }
   },
   "outputs": [
    {
     "name": "stdout",
     "output_type": "stream",
     "text": [
      "        1、学生信息导入\n",
      "        2、学生信息导出\n",
      "        3、显示学生信息列表\n",
      "        4、添加学生信息\n",
      "        5、查找学生信息\n",
      "        6、修改学生信息\n",
      "        7、删除学生信息\n",
      "        8、退出\n",
      "        请选择：1\n",
      "        1、学生信息导入\n",
      "        2、学生信息导出\n",
      "        3、显示学生信息列表\n",
      "        4、添加学生信息\n",
      "        5、查找学生信息\n",
      "        6、修改学生信息\n",
      "        7、删除学生信息\n",
      "        8、退出\n",
      "        请选择：3\n",
      "|*****学号*****|*****姓名*****|***性别***|***年龄***|\n",
      "|   16272101   |    戴心怡     |   女    |    18    |\n",
      "|   16272111   |    陈钊宇     |   男    |    18    |\n",
      "|   16272121   |    李改顺     |   男    |    18    |\n",
      "|   16272131   |    王凯帆     |   男    |    18    |\n",
      "|   16272201   |    高天洋     |   男    |    18    |\n",
      "|   16272211   |    陈乐聪     |   男    |    18    |\n",
      "        1、学生信息导入\n",
      "        2、学生信息导出\n",
      "        3、显示学生信息列表\n",
      "        4、添加学生信息\n",
      "        5、查找学生信息\n",
      "        6、修改学生信息\n",
      "        7、删除学生信息\n",
      "        8、退出\n",
      "        请选择：3\n",
      "|*****学号*****|*****姓名*****|***性别***|***年龄***|\n",
      "|   16272101   |    戴心怡     |   女    |    18    |\n",
      "|   16272111   |    陈钊宇     |   男    |    18    |\n",
      "|   16272121   |    李改顺     |   男    |    18    |\n",
      "|   16272131   |    王凯帆     |   男    |    18    |\n",
      "|   16272201   |    高天洋     |   男    |    18    |\n",
      "|   16272211   |    陈乐聪     |   男    |    18    |\n",
      "        1、学生信息导入\n",
      "        2、学生信息导出\n",
      "        3、显示学生信息列表\n",
      "        4、添加学生信息\n",
      "        5、查找学生信息\n",
      "        6、修改学生信息\n",
      "        7、删除学生信息\n",
      "        8、退出\n",
      "        请选择：4\n",
      "请输入学号：16272124\n",
      "请输入姓名：王五\n",
      "请输入性别(男，女)：男\n",
      "请输入年龄：25\n",
      "        1、学生信息导入\n",
      "        2、学生信息导出\n",
      "        3、显示学生信息列表\n",
      "        4、添加学生信息\n",
      "        5、查找学生信息\n",
      "        6、修改学生信息\n",
      "        7、删除学生信息\n",
      "        8、退出\n",
      "        请选择：3\n",
      "|*****学号*****|*****姓名*****|***性别***|***年龄***|\n",
      "|   16272101   |    戴心怡     |   女    |    18    |\n",
      "|   16272111   |    陈钊宇     |   男    |    18    |\n",
      "|   16272121   |    李改顺     |   男    |    18    |\n",
      "|   16272131   |    王凯帆     |   男    |    18    |\n",
      "|   16272201   |    高天洋     |   男    |    18    |\n",
      "|   16272211   |    陈乐聪     |   男    |    18    |\n",
      "|   16272124   |     王五     |   男    |    25    |\n",
      "        1、学生信息导入\n",
      "        2、学生信息导出\n",
      "        3、显示学生信息列表\n",
      "        4、添加学生信息\n",
      "        5、查找学生信息\n",
      "        6、修改学生信息\n",
      "        7、删除学生信息\n",
      "        8、退出\n",
      "        请选择：8\n"
     ]
    }
   ],
   "source": [
    "#测试学生管理系统\n",
    "StudentInfoMenu()"
   ]
  },
  {
   "cell_type": "markdown",
   "metadata": {},
   "source": [
    "#### (10) 现在学生信息系统的需求改变，每个学生信息中要求多加一个'联系电话'字段，请在上面的基础修改并测试"
   ]
  },
  {
   "cell_type": "code",
   "execution_count": null,
   "metadata": {
    "collapsed": true,
    "jupyter": {
     "outputs_hidden": true
    }
   },
   "outputs": [],
   "source": [
    "#测试学生管理系统\n",
    "StudentInfoMenu()"
   ]
  }
 ],
 "metadata": {
  "anaconda-cloud": {},
  "kernelspec": {
   "display_name": "Python 3.10.7 64-bit",
   "language": "python",
   "name": "python3"
  },
  "language_info": {
   "codemirror_mode": {
    "name": "ipython",
    "version": 3
   },
   "file_extension": ".py",
   "mimetype": "text/x-python",
   "name": "python",
   "nbconvert_exporter": "python",
   "pygments_lexer": "ipython3",
   "version": "3.10.7"
  },
  "vscode": {
   "interpreter": {
    "hash": "27dc5d894906ef4078c10f81f96b088b1214dd79db8c1790ec2f25d74ab4ea1b"
   }
  }
 },
 "nbformat": 4,
 "nbformat_minor": 4
}
